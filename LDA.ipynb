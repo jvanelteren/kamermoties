{
 "cells": [
  {
   "cell_type": "code",
   "execution_count": 1,
   "metadata": {
    "Collapsed": "false"
   },
   "outputs": [],
   "source": [
    "import altair as alt\n",
    "import numpy as np\n",
    "import pandas as pd\n",
    "import sklearn\n",
    "from sklearn.impute import SimpleImputer\n",
    "from sklearn.decomposition import PCA\n",
    "import altair as alt\n",
    "import pandas as pd"
   ]
  },
  {
   "cell_type": "code",
   "execution_count": 2,
   "metadata": {
    "Collapsed": "false"
   },
   "outputs": [
    {
     "output_type": "stream",
     "name": "stdout",
     "text": [
      "29514\n"
     ]
    }
   ],
   "source": [
    "import pickle\n",
    "file = open(\"moties_processed_df.pickle\",\"rb\")\n",
    "df = pickle.load(file)\n",
    "print(len(df))\n",
    "\n",
    "column_list = df.columns.values\n",
    "indiener_column = [c for c in column_list if 'Indiener' in c]\n",
    "medeindiener_column = [c for c in column_list if 'Medeindiener' in c]\n",
    "stem_column = [c for c in column_list if 'Stem_' in c]\n",
    "aantal_stemmen_column = [c for c in column_list if 'Aantal' in c]"
   ]
  },
  {
   "cell_type": "code",
   "execution_count": null,
   "metadata": {
    "Collapsed": "false"
   },
   "outputs": [],
   "source": [
    "https://towardsdatascience.com/evaluate-topic-model-in-python-latent-dirichlet-allocation-lda-7d57484bb5d0\n"
   ]
  },
  {
   "cell_type": "code",
   "execution_count": null,
   "metadata": {},
   "outputs": [],
   "source": []
  },
  {
   "cell_type": "code",
   "execution_count": null,
   "metadata": {},
   "outputs": [],
   "source": [
    "# hide\n",
    "# #Optional: run analysis on subset of dataset\n",
    "# search = 'dieren|natuur|natura|CO2|milieuklimaat|biodiversiteit'\n",
    "# print(df['Text'].str.contains(search).sum())\n",
    "# df = df.loc[df['Text'].str.contains(search)]\n",
    "# df = (df.loc[df['Topic'].isin([23,27,21,20,8])])\n",
    "# 1+1"
   ]
  },
  {
   "cell_type": "code",
   "execution_count": null,
   "metadata": {},
   "outputs": [],
   "source": []
  },
  {
   "cell_type": "code",
   "execution_count": null,
   "metadata": {},
   "outputs": [],
   "source": [
    "import sklearn.datasets\n",
    "import pandas as pd\n",
    "import numpy as np\n",
    "import umap\n",
    "import umap.plot"
   ]
  },
  {
   "cell_type": "code",
   "execution_count": null,
   "metadata": {},
   "outputs": [],
   "source": [
    "largest = get_largest_parties_chamber('Rutte III', 13)\n",
    "stem_column = get_stem_column(largest)\n",
    "data = df[df['Kamer']=='Rutte III'][stem_column].T\n",
    "print(data.head())\n",
    "data = SimpleImputer(strategy='most_frequent', fill_value=0).fit_transform(data)\n",
    "data.shape\n",
    "mapper = umap.UMAP().fit(data.T)\n",
    "umap.plot.points(mapper)"
   ]
  },
  {
   "cell_type": "code",
   "execution_count": null,
   "metadata": {},
   "outputs": [],
   "source": [
    "# more complicated plotting\n",
    "# mapper = umap.UMAP(n_neighbors=2, min_dist = 0.99).fit(data)\n",
    "# hover_data = pd.DataFrame({'index':np.arange(13),\n",
    "#                            'label':stem_column})\n",
    "# p = umap.plot.interactive(mapper, hover_data=hover_data, point_size=20)\n",
    "# umap.plot.show(p)"
   ]
  },
  {
   "cell_type": "code",
   "execution_count": null,
   "metadata": {},
   "outputs": [],
   "source": []
  }
 ],
 "metadata": {
  "kernelspec": {
   "display_name": "Python 3",
   "language": "python",
   "name": "python3"
  },
  "language_info": {
   "codemirror_mode": {
    "name": "ipython",
    "version": 3
   },
   "file_extension": ".py",
   "mimetype": "text/x-python",
   "name": "python",
   "nbconvert_exporter": "python",
   "pygments_lexer": "ipython3",
   "version": "3.7.3-final"
  }
 },
 "nbformat": 4,
 "nbformat_minor": 4
}