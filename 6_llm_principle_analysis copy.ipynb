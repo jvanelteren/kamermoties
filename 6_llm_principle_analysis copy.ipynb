{
 "cells": [
  {
   "cell_type": "code",
   "execution_count": 1,
   "metadata": {},
   "outputs": [],
   "source": [
    "import urllib.request\n",
    "import json\n",
    "import numpy as np\n",
    "import pandas as pd\n",
    "import altair\n",
    "import pprint\n",
    "import os, subprocess, sys,codecs, locale\n",
    "import re\n",
    "import traceback\n",
    "from collections import namedtuple\n",
    "import datetime\n",
    "import pickle\n",
    "import pandas as pd\n",
    "import openai\n",
    "from pprint import pprint\n",
    "from aocutils.datascience import save, load\n",
    "\n",
    "openai.organization = \"\"\n",
    "openai.api_base = \"https://openrouter.ai/api/v1\"\n",
    "openroutertoken = open('.tokens/test2.txt','r').read()\n",
    "openai.api_key = openroutertoken\n",
    "OPENROUTER_REFERRER = \"https://github.com/jvanelteren/kamermoties\"\n",
    "\n",
    "# openai.Model.list()"
   ]
  },
  {
   "cell_type": "code",
   "execution_count": 2,
   "metadata": {},
   "outputs": [
    {
     "data": {
      "text/plain": [
       "'To find a line that intersects all other lines in a 2D plane defined by their general form equations `ax + by + c = 0`, we only need at least two points through which this line passes, and these points can be the intersection points between any two pairs of the provided lines.\\n\\nHowever, if we\\'re dealing with lines in a 3D space (which is indicated by the presence of four coefficients: a, b, c, d in the general form equation `ax + by + cz + d = 0`), finding a line that intersects all other lines becomes a much more complex problem, often with no solution. In general, not all sets of lines in 3D space will have a single line that intersects them all. This is because, in 3D space, lines can be skew, meaning they do not intersect and are not parallel.\\n\\nFor simplification and assuming we are working in 2D, we can create a function that determines the intersection point of two lines, and then use this function to find two such points from pairs of lines in the list. We can then use these points to define a new line.\\n\\nHere is an example of such a function in Python:\\n\\n```python\\ndef find_intersection(line1, line2):\\n    a1, b1, c1 = line1\\n    a2, b2, c2 = line2\\n\\n    # Calculate the determinant\\n    det = a1 * b2 - a2 * b1\\n    if det == 0:\\n        raise ValueError(\"Lines are parallel and do not intersect\")\\n\\n    # Calculate the x and y coordinates using Cramer\\'s Rule\\n    x = (c1 * b2 - c2 * b1) / det\\n    y = (a1 * c2 - a2 * c1) / det\\n    return (x, y)\\n\\n# Assume lines are given in the general form (a, b, c) representing ax + by + c = 0\\ndef find_intersecting_line(lines):\\n    if len(lines) < 2:\\n        raise ValueError(\"At least two lines are required to determine the intersecting line\")\\n\\n    # Iterate over lines, trying to find two unique intersect points\\n    intersection_points = []\\n    for i in range(len(lines)):\\n        for j in range(i+1, len(lines)):\\n            try:\\n                point = find_intersection(lines[i], lines[j])\\n                intersection_points.append(point)\\n                if len(intersection_points) == 2:\\n                    break\\n            except ValueError:\\n                pass\\n        if len(intersection_points) == 2:\\n            break\\n    \\n    # If fewer than two unique points are found, we cannot define the intersecting line\\n    if len(intersection_points) < 2:\\n        raise ValueError(\"Could not find two unique intersection points\")\\n\\n    # Calculate the coefficients of the intersecting line\\n    x1, y1 = intersection_points[0]\\n    x2, y2 = intersection_points[1]\\n    a = y2 - y1\\n    b = x1 - x2\\n    c = x2 * y1 - x1 * y2\\n\\n    # Return the line in general form\\n    return (a, b, c)\\n\\n# Example usage:\\nlines = [\\n    (2, -1, -1),  # Example line 1: 2x - y - 1 = 0\\n    (1, -1, -3),  # Example line 2: x - y - 3 = 0\\n    # Add more lines if you want to..\\n]\\n\\nintersecting_line = find_intersecting_line(lines)\\nprint(intersecting_line)  # Prints the coefficients of the line that intersects at least two given lines\\n```\\n\\nWe must observe that:\\n\\n- If all lines are parallel or coincident, there will not be two distinct intersection points, and hence no unique intersecting line can be found.\\n- In the case of more than two lines, it is possible that while two lines might intersect at a point, other lines do not cross that point, so we need to be careful to verify that the line found intersects all the given lines.\\n\\nIn an actual 3D scenario or a special case of 2D where more than two lines are involved, a more sophisticated geometrical or algebraical approach would be necessary and the problem would generally be much harder to solve, potentially requiring optimization techniques or approximations if an exact solution doesn\\'t exist.'"
      ]
     },
     "execution_count": 2,
     "metadata": {},
     "output_type": "execute_result"
    }
   ],
   "source": [
    "from openai import OpenAI\n",
    "from os import getenv\n",
    "\n",
    "# gets API Key from environment variable OPENAI_API_KEY\n",
    "client = OpenAI(\n",
    "  base_url=\"https://openrouter.ai/api/v1\",\n",
    "  api_key=openroutertoken,\n",
    ")\n",
    "def AI(text):\n",
    "    completion = client.chat.completions.create(\n",
    "\n",
    "    model=\"openai/gpt-4-1106-preview\",\n",
    "    messages=[\n",
    "                {\"role\": \"system\", \"content\": \"You are a great programmer\"},\n",
    "                {\"role\": \"user\", \"content\": text},\n",
    "            ])\n",
    "    return completion.choices[0].message.content\n",
    "\n",
    "AI('Given a list of multiple line equations in general form with coeficients a,b,c,d, write a function that determines a line that intersects all other lines')"
   ]
  },
  {
   "cell_type": "code",
   "execution_count": null,
   "metadata": {},
   "outputs": [],
   "source": []
  },
  {
   "cell_type": "code",
   "execution_count": 12,
   "metadata": {},
   "outputs": [],
   "source": [
    "from openai import OpenAI\n",
    "from os import getenv\n",
    "\n",
    "# gets API Key from environment variable OPENAI_API_KEY\n",
    "client = OpenAI(\n",
    "  base_url=\"https://openrouter.ai/api/v1\",\n",
    "  api_key=openroutertoken,\n",
    ")\n",
    "def AI(text):\n",
    "    completion = client.chat.completions.create(\n",
    "\n",
    "    model=\"openai/gpt-4-1106-preview\",\n",
    "    messages=[\n",
    "                {\"role\": \"system\", \"content\": \"You are the greatest botanist alive. You know everything of plants, shrubs and trees. You give expert advice on what plants do well in certain gardens. Your answers are short. Users will prompt you with certain questions what grows well in their garden.\"},\n",
    "                {\"role\": \"user\", \"content\": text},\n",
    "            ])\n",
    "    return completion.choices[0].message.content"
   ]
  },
  {
   "cell_type": "code",
   "execution_count": 25,
   "metadata": {},
   "outputs": [
    {
     "name": "stdout",
     "output_type": "stream",
     "text": [
      "('For your shaded, slightly acidic, and sandy soil conditions, consider the '\n",
      " 'following plants that attract insects and butterflies:\\n'\n",
      " '\\n'\n",
      " '1. **Foxglove (Digitalis purpurea)** - Tolerates shade and attracts '\n",
      " 'pollinators.\\n'\n",
      " '2. **Hellebore (Helleborus spp.)** - Early spring blooms conducive to shaded '\n",
      " 'areas.\\n'\n",
      " '3. **Wood Anemone (Anemone nemorosa)** - Thrives in woodland settings and '\n",
      " 'good for pollinators.\\n'\n",
      " '4. **Ajuga (Ajuga reptans)** - Ground cover that blooms and attracts '\n",
      " 'insects.\\n'\n",
      " '5. **Lungwort (Pulmonaria spp.)** - Tolerates shade and is attractive to '\n",
      " 'bees.\\n'\n",
      " '6. **Ferns** - Various species can provide habitat for insects in shaded '\n",
      " 'areas.\\n'\n",
      " '7. **Columbine (Aquilegia vulgaris)** - Does well in semi-shade and attracts '\n",
      " 'a variety of insects.\\n'\n",
      " '8. **Dead Nettle (Lamium maculatum)** - Ground cover with flowers that bees '\n",
      " 'like.\\n'\n",
      " '9. **Heath (Erica spp.)** - Well-suited for acidic soils and can tolerate '\n",
      " 'some shade.\\n'\n",
      " '\\n'\n",
      " 'Remember to mulch appropriately and consider using a rain barrel to collect '\n",
      " 'water for the drier spells, since the oaks may utilize a significant amount '\n",
      " 'of the rainwater.')\n"
     ]
    }
   ],
   "source": [
    "text = 'I have a garden where I want to grow plants that are great for insects and butterflies with nice flowers. The soil type is slightly acidic and dense with sand underneath. There are some oaks growing in the garden, so it is a bit foresty. We live in the Netherlands and close to heath, which explains the acidic soil. The oaks take away most of the sunlight and use a lot of the rain. What plants would do well in my garden? As mentioned, they should be able to grow well in shade and on sandy soil, without too much water'\n",
    "res = AI(text)\n",
    "pprint.pprint(res)"
   ]
  },
  {
   "cell_type": "code",
   "execution_count": null,
   "metadata": {},
   "outputs": [],
   "source": []
  },
  {
   "cell_type": "code",
   "execution_count": 23,
   "metadata": {},
   "outputs": [
    {
     "name": "stdout",
     "output_type": "stream",
     "text": [
      "('Consider planting the following edible plants:\\n'\n",
      " '\\n'\n",
      " '1. Shade-Tolerant Berries:\\n'\n",
      " '   - European Wild Ginger (Asarum europaeum) for its ground-covering nature '\n",
      " 'and slightly peppery taste.\\n'\n",
      " '   - Alpine Strawberries (Fragaria vesca) for small, but flavorful fruit.\\n'\n",
      " '\\n'\n",
      " '2. Leafy Greens:\\n'\n",
      " '   - Spinach (Spinacia oleracea), which can tolerate partial shade.\\n'\n",
      " '   - Swiss Chard (Beta vulgaris subsp. cicla) good for a shady garden.\\n'\n",
      " '\\n'\n",
      " '3. Herbs:\\n'\n",
      " '   - Parsley (Petroselinum crispum), especially the flat-leaf variety.\\n'\n",
      " '   - Chives (Allium schoenoprasum), as they can manage well with less sun.\\n'\n",
      " '\\n'\n",
      " '4. Root Vegetables:\\n'\n",
      " '   - Carrots (Daucus carota subsp. sativus), which can manage in lighter '\n",
      " 'sandy soils.\\n'\n",
      " '   - Beets (Beta vulgaris), which are adaptable to different light '\n",
      " 'conditions.\\n'\n",
      " '\\n'\n",
      " '5. Others:\\n'\n",
      " '   - Rhubarb (Rheum rhabarbarum) for its low light tolerance.\\n'\n",
      " '   - Hostas (Hosta spp.), some varieties have edible leaves. \\n'\n",
      " '\\n'\n",
      " 'Each of these plants may require amendments to the soil to thrive, such as '\n",
      " 'organic matter to improve soil structure and nutrient availability. Mulching '\n",
      " 'and careful watering will help retain moisture in the sandy, acidic soil.')\n"
     ]
    }
   ],
   "source": [
    "text = 'I have a garden where I want to grow edible plants. The soil type is slightly acidic and dense with sand underneath. There are some oaks growing in the garden, so it is a bit foresty. We live in the Netherlands and close to heath, which explains the acidic soil. The oaks take away most of the sunlight and use a lot of the rain. What plants would do well in my garden? As mentioned, they should be able to grow well in shade and on sandy soil, without too much water'\n",
    "res = AI(text)\n",
    "pprint.pprint(res)"
   ]
  },
  {
   "cell_type": "code",
   "execution_count": null,
   "metadata": {},
   "outputs": [],
   "source": []
  },
  {
   "cell_type": "code",
   "execution_count": 20,
   "metadata": {},
   "outputs": [
    {
     "data": {
      "text/plain": [
       "\"For the conditions you've described, consider the following plants:\\n\\n1. **Holly (Ilex aquifolium)** - Evergreen, dense, and can grow in shade. It has red berries that attract birds, is drought-tolerant, and supports biodiversity.\\n\\n2. **Yew (Taxus baccata)** - Slow-growing but very dense and can be trimmed to shape. It tolerates shade and is great for birds.\\n\\n3. **Euonymus fortunei varietie**s - Evergreen, some varieties can climb trees, providing dense foliage, and can tolerate shade.\\n\\n4. **Boxwood (Buxus sempervirens)** - Evergreen, shade-tolerant, and can be shaped into a dense hedge.\\n\\n5. **Mahonia (Mahonia aquifolium)** - Evergreen, with yellow flowers that are good for pollinators, thrives in shade, and is drought-tolerant.\\n\\nEnsure you water new plants until they establish, and consider mulching to retain moisture.\""
      ]
     },
     "execution_count": 20,
     "metadata": {},
     "output_type": "execute_result"
    }
   ],
   "source": [
    "text = 'I have a garden where I want to grow plants as a natural fence. The soil type is slightly acidic and dense with sand underneath. There are some oaks growing in the garden, so it is a bit foresty. We live in the Netherlands and close to heath, which explains the acidic soil. The oaks take away most of the sunlight and use a lot of the rain. What plants would do well in my garden? Rhodondendron and Cherry Laurel already do well, but I want something else. I want plants that grow quite densely and fast, to a minimum of 1-2 meters high, wintergreen, which are good for biodiversity, possibly with some flowers. And as mentioned, they should be able to grow well in shade and on sandy soil, without too much water'\n",
    "res = AI(text)\n",
    "pprint.pprint(res)"
   ]
  },
  {
   "cell_type": "code",
   "execution_count": 22,
   "metadata": {},
   "outputs": [
    {
     "name": "stdout",
     "output_type": "stream",
     "text": [
      "(\"For the conditions you've described, consider the following plants:\\n\"\n",
      " '\\n'\n",
      " '1. **Holly (Ilex aquifolium)** - Evergreen, dense, and can grow in shade. It '\n",
      " 'has red berries that attract birds, is drought-tolerant, and supports '\n",
      " 'biodiversity.\\n'\n",
      " '\\n'\n",
      " '2. **Yew (Taxus baccata)** - Slow-growing but very dense and can be trimmed '\n",
      " 'to shape. It tolerates shade and is great for birds.\\n'\n",
      " '\\n'\n",
      " '3. **Euonymus fortunei varietie**s - Evergreen, some varieties can climb '\n",
      " 'trees, providing dense foliage, and can tolerate shade.\\n'\n",
      " '\\n'\n",
      " '4. **Boxwood (Buxus sempervirens)** - Evergreen, shade-tolerant, and can be '\n",
      " 'shaped into a dense hedge.\\n'\n",
      " '\\n'\n",
      " '5. **Mahonia (Mahonia aquifolium)** - Evergreen, with yellow flowers that '\n",
      " 'are good for pollinators, thrives in shade, and is drought-tolerant.\\n'\n",
      " '\\n'\n",
      " 'Ensure you water new plants until they establish, and consider mulching to '\n",
      " 'retain moisture.')\n"
     ]
    }
   ],
   "source": [
    "pprint.pprint(res)"
   ]
  },
  {
   "cell_type": "code",
   "execution_count": 19,
   "metadata": {},
   "outputs": [
    {
     "name": "stdout",
     "output_type": "stream",
     "text": [
      "('For your garden conditions, consider the following plants for a natural '\n",
      " 'fence:\\n'\n",
      " '\\n'\n",
      " '1. **Taxus baccata** (English Yew) - Tolerates shade, excellent as a dense '\n",
      " 'hedge, and can be pruned to the desired height.\\n'\n",
      " '\\n'\n",
      " '2. **Ilex aquifolium** (English Holly) - Adaptable to shade, it has '\n",
      " 'evergreen foliage, and can grow in acidic soils.\\n'\n",
      " '\\n'\n",
      " '3. **Prunus laurocerasus** (Cherry Laurel) - Shade-tolerant, grows quickly, '\n",
      " 'and provides a thick, evergreen screen.\\n'\n",
      " '\\n'\n",
      " '4. **Buxus sempervirens** (Boxwood) - Tolerant of partial shade and can '\n",
      " 'thrive in slightly acidic soils; good for hedges.\\n'\n",
      " '\\n'\n",
      " '5. **Mahonia** spp. (Oregon Grape) - Evergreen and drought-tolerant, thrives '\n",
      " 'in shade, and adds texture with its holly-like leaves.\\n'\n",
      " '\\n'\n",
      " 'When planting under oaks, be careful not to damage the roots of the trees. '\n",
      " 'All the suggested plants are wintergreen and can be trimmed to maintain the '\n",
      " 'desired height and density. Regular watering during establishment is '\n",
      " 'important, but once established, these plants can tolerate drier conditions, '\n",
      " 'suitable for the sandy and acidic soil in your garden.')\n"
     ]
    }
   ],
   "source": [
    "pprint.pprint(res)"
   ]
  },
  {
   "cell_type": "code",
   "execution_count": 15,
   "metadata": {},
   "outputs": [
    {
     "name": "stdout",
     "output_type": "stream",
     "text": [
      "('For your described conditions, consider planting:\\n'\n",
      " '\\n'\n",
      " '1. Yew (Taxus species) - Adaptable, shade-tolerant, can be trimmed into a '\n",
      " 'dense hedge.\\n'\n",
      " '2. Boxwood (Buxus species) - Evergreen, good for hedges, tolerates shade.\\n'\n",
      " '3. Cherry laurel (Prunus laurocerasus) - Shade-tolerant, evergreen, '\n",
      " 'dense-growing.\\n'\n",
      " '4. Rhododendron (Rhododendron species) - Prefers acidic soil, shade, '\n",
      " 'evergreen varieties available.\\n'\n",
      " '5. Holly (Ilex species) - Evergreen, shade-tolerant, dense growth habit.\\n'\n",
      " '6. Skimmia (Skimmia japonica) - Evergreen, compact, thrives in shade, acidic '\n",
      " 'soil.\\n'\n",
      " '\\n'\n",
      " 'Ensure these plants receive enough water since the oaks may dominate water '\n",
      " 'resources.')\n"
     ]
    }
   ],
   "source": [
    "import pprint\n",
    "pprint.pprint(res)"
   ]
  },
  {
   "cell_type": "code",
   "execution_count": 17,
   "metadata": {},
   "outputs": [
    {
     "name": "stdout",
     "output_type": "stream",
     "text": [
      "('Consider planting the following for your garden conditions:\\n'\n",
      " '\\n'\n",
      " '1. **Rhododendron (Rhododendron spp.)**: Prefers slightly acidic soils, and '\n",
      " 'many are evergreen, offering a dense growth habit suitable for a natural '\n",
      " 'fence.\\n'\n",
      " '\\n'\n",
      " '2. **Holly (Ilex aquifolium)**: Adaptable to various soil types, including '\n",
      " 'sandy soils, and provides dense, evergreen foliage that adds privacy and '\n",
      " 'winter interest.\\n'\n",
      " '\\n'\n",
      " '3. **Yew (Taxus spp.)**: Tolerates shade, has dense evergreen foliage, and '\n",
      " 'is often used for hedges; though it is slow-growing, it’s very long-lived '\n",
      " 'and can be pruned to shape.\\n'\n",
      " '\\n'\n",
      " '4. **Boxwood (Buxus spp.)**: While slower growing, it thrives in shade and '\n",
      " 'can tolerate a range of soil types, though it prefers well-drained '\n",
      " 'conditions.\\n'\n",
      " '\\n'\n",
      " '5. **Mountain Laurel (Kalmia latifolia)**: Prefers acidic, well-drained '\n",
      " 'soils, thrives in shade, and provides dense, evergreen foliage with '\n",
      " 'attractive spring flowers.\\n'\n",
      " '\\n'\n",
      " 'Remember to consider the mature size of these shrubs and provide them with '\n",
      " 'enough space to grow. Pruning may be necessary to maintain the desired '\n",
      " 'height and shape.')\n"
     ]
    }
   ],
   "source": [
    "pprint.pprint(res)"
   ]
  },
  {
   "cell_type": "code",
   "execution_count": null,
   "metadata": {},
   "outputs": [],
   "source": []
  }
 ],
 "metadata": {
  "kernelspec": {
   "display_name": ".aocenvpy311",
   "language": "python",
   "name": "python3"
  },
  "language_info": {
   "codemirror_mode": {
    "name": "ipython",
    "version": 3
   },
   "file_extension": ".py",
   "mimetype": "text/x-python",
   "name": "python",
   "nbconvert_exporter": "python",
   "pygments_lexer": "ipython3",
   "version": "3.12.0"
  },
  "orig_nbformat": 4,
  "vscode": {
   "interpreter": {
    "hash": "7b5336723abeab741c71fcc933eb6e6f53a288e70399d841fc0756db1169ea34"
   }
  }
 },
 "nbformat": 4,
 "nbformat_minor": 2
}
