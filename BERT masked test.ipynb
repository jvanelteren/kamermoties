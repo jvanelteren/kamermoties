{
 "cells": [
  {
   "cell_type": "code",
   "execution_count": null,
   "metadata": {},
   "outputs": [],
   "source": [
    "encoder takes words in and produces hidden states. \n",
    "hidden states are concatenated and passed on to decoder\n",
    "score/weigh all hidden states at each hidden state of decoder and produce outputs and decoder hidden states\n"
   ]
  },
  {
   "cell_type": "code",
   "execution_count": null,
   "metadata": {},
   "outputs": [],
   "source": [
    "import torch\n",
    "from pytorch_pretrained_bert import BertTokenizer, BertForMaskedLM\n",
    "\n",
    "text = (\n",
    "    \"Today, every student has a computer small enough to fit into \"\n",
    "    \"his _. He can solve any math problem by simply pushing the \"\n",
    "    \"computer's little _. Computers can add, multiply, divide, and \"\n",
    "    \"_. They can also _ better than a human. Some computers are \"\n",
    "    \"_. Others have an _ screen that shows all kinds of _ and _ \"\n",
    "    \"figures. \"\n",
    ")"
   ]
  },
  {
   "cell_type": "code",
   "execution_count": 2,
   "metadata": {},
   "outputs": [],
   "source": [
    "# Load pre-trained model with masked language model head\n",
    "bert_version = 'bert-large-uncased'\n",
    "model = BertForMaskedLM.from_pretrained(bert_version)"
   ]
  },
  {
   "cell_type": "code",
   "execution_count": 3,
   "metadata": {},
   "outputs": [],
   "source": [
    "text = ('I bought apples, bananas and _. Fruits are delicious! After that I _ it all!')"
   ]
  },
  {
   "cell_type": "code",
   "execution_count": 4,
   "metadata": {},
   "outputs": [],
   "source": [
    "text = (\"Gymnastics is a sport that includes exercises requiring _,\"\n",
    "        \" strength, flexibility, agility, _ and \"\n",
    "        \"endurance. The movements involved in gymnastics contribute to the development \"\n",
    "        \"of the arms, _, shoulders, back, chest and abdominal muscle groups. \"\n",
    "        \"Alertness, _, daring, self-confidence and self-discipline are mental traits that can also be developed through gymnastics. Gymnastics evolved from _ used by the ancient Greeks that included skills for mounting and dismounting a _, and from circus performance skills\")"
   ]
  },
  {
   "cell_type": "code",
   "execution_count": 9,
   "metadata": {},
   "outputs": [],
   "source": [
    "text = (\"Meerdere partijen vinden dat winkels en bedrijven die cadeaukaarten _ hier beter mee om moeten gaan\")"
   ]
  },
  {
   "cell_type": "code",
   "execution_count": 10,
   "metadata": {},
   "outputs": [],
   "source": [
    "# Preprocess text\n",
    "tokenizer = BertTokenizer.from_pretrained(bert_version)\n",
    "tokenized_text = tokenizer.tokenize(text)\n",
    "mask_positions = []\n",
    "for i in range(len(tokenized_text)):\n",
    "    if tokenized_text[i] == '_':\n",
    "        tokenized_text[i] = '[MASK]'\n",
    "        mask_positions.append(i)"
   ]
  },
  {
   "cell_type": "code",
   "execution_count": 11,
   "metadata": {},
   "outputs": [],
   "source": [
    "# Predict missing words from left to right\n",
    "model.eval()\n",
    "for mask_pos in mask_positions:\n",
    "    # Convert tokens to vocab indices\n",
    "    token_ids = tokenizer.convert_tokens_to_ids(tokenized_text)\n",
    "    tokens_tensor = torch.tensor([token_ids])\n",
    "    # Call BERT to predict token at this position\n",
    "    predictions = model(tokens_tensor)[0, mask_pos]\n",
    "    predicted_index = torch.argmax(predictions).item()\n",
    "    predicted_token = tokenizer.convert_ids_to_tokens([predicted_index])[0]\n",
    "    # Update text\n",
    "    tokenized_text[mask_pos] = predicted_token"
   ]
  },
  {
   "cell_type": "code",
   "execution_count": 12,
   "metadata": {},
   "outputs": [
    {
     "name": "stdout",
     "output_type": "stream",
     "text": [
      "meerdere partijen vinden dat winkels en bedrijven die cadeaukaarten _._ hier beter mee om moeten gaan\n"
     ]
    }
   ],
   "source": [
    "for mask_pos in mask_positions:\n",
    "    tokenized_text[mask_pos] = \"_\" + tokenized_text[mask_pos] + \"_\"\n",
    "print(' '.join(tokenized_text).replace(' ##', ''))"
   ]
  },
  {
   "cell_type": "code",
   "execution_count": 13,
   "metadata": {},
   "outputs": [
    {
     "ename": "SyntaxError",
     "evalue": "invalid syntax (<ipython-input-13-536ba8e1275f>, line 1)",
     "output_type": "error",
     "traceback": [
      "\u001b[1;36m  File \u001b[1;32m\"<ipython-input-13-536ba8e1275f>\"\u001b[1;36m, line \u001b[1;32m1\u001b[0m\n\u001b[1;33m    Gymnastics is a sport that includes exercises requiring balance, strength, flexibility, agility, coordination and endurance.\u001b[0m\n\u001b[1;37m                        ^\u001b[0m\n\u001b[1;31mSyntaxError\u001b[0m\u001b[1;31m:\u001b[0m invalid syntax\n"
     ]
    }
   ],
   "source": [
    "Gymnastics is a sport that includes exercises requiring balance, strength, flexibility, agility, coordination and endurance. \n",
    "The movements involved in gymnastics contribute to the development of the arms, legs, shoulders, back, chest and abdominal muscle groups. \n",
    "Alertness, precision, daring, self-confidence and self-discipline are mental traits that can also be developed through gymnastics.\n",
    "Gymnastics evolved from exercises used by the ancient Greeks that included skills for mounting and dismounting a horse, and from circus performance skills"
   ]
  },
  {
   "cell_type": "code",
   "execution_count": null,
   "metadata": {},
   "outputs": [],
   "source": []
  }
 ],
 "metadata": {
  "kernelspec": {
   "display_name": "Python 3",
   "language": "python",
   "name": "python3"
  },
  "language_info": {
   "codemirror_mode": {
    "name": "ipython",
    "version": 3
   },
   "file_extension": ".py",
   "mimetype": "text/x-python",
   "name": "python",
   "nbconvert_exporter": "python",
   "pygments_lexer": "ipython3",
   "version": "3.7.1"
  }
 },
 "nbformat": 4,
 "nbformat_minor": 2
}
