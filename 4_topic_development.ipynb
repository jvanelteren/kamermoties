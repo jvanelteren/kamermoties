{
  "nbformat": 4,
  "nbformat_minor": 0,
  "metadata": {
    "kernelspec": {
      "name": "python3",
      "display_name": "Python 3.7.3 64-bit (conda)",
      "metadata": {
        "interpreter": {
          "hash": "ecf5722fdaf1897a315d257d89d94520bfcaa453217d5becf09b39e73618b0de"
        }
      }
    },
    "language_info": {
      "codemirror_mode": {
        "name": "ipython",
        "version": 3
      },
      "file_extension": ".py",
      "mimetype": "text/x-python",
      "name": "python",
      "nbconvert_exporter": "python",
      "pygments_lexer": "ipython3",
      "version": "3.7.3-final"
    },
    "colab": {
      "name": "Copy of 4_topic_development.ipynb",
      "provenance": [],
      "collapsed_sections": []
    }
  },
  "cells": [
    {
      "cell_type": "code",
      "metadata": {
        "id": "wZgtP-zt89Fp"
      },
      "source": [
        "# First: pip install wheel\n",
        "# Next: Download Numpy and Scipy form Gholke's repo Numpy and SciPy\n",
        "# Then:\n",
        "# pip install numpy_package.whl\n",
        "# pip install scipy_package.whl\n",
        "# https://towardsdatascience.com/6-tips-to-optimize-an-nlp-topic-model-for-interpretability-20742f3047e2"
      ],
      "execution_count": null,
      "outputs": []
    },
    {
      "cell_type": "code",
      "metadata": {
        "id": "neeXHs3Q89GG"
      },
      "source": [
        "# hide\n",
        "from pathlib import Path\n",
        "import numpy as np\n",
        "import pandas as pd\n",
        "import pickle"
      ],
      "execution_count": null,
      "outputs": []
    },
    {
      "cell_type": "code",
      "metadata": {
        "id": "O6R_pFov89GI"
      },
      "source": [
        "# hide\n",
        "DATA_DIR = Path('')\n",
        "def load(filename):\n",
        "    f = open(DATA_DIR/filename,\"rb\")\n",
        "    return pickle.load(f)\n",
        "    \n",
        "def save(data, filename):\n",
        "    with open(DATA_DIR/filename, 'wb') as handle:\n",
        "        pickle.dump(data, handle, protocol=pickle.HIGHEST_PROTOCOL)\n",
        "\n",
        "\n",
        "party_colors = {\n",
        "  'CDA':'#5cb957',\n",
        "  'ChristenUnie':'#00a5e8',\n",
        "  'D66':'#04a438',\n",
        "  'GroenLinks':'#48a641',\n",
        "  'PVV':'#002759',\n",
        "  'PvdA':'#df111a',\n",
        "  'PvdD':'#006b2d',\n",
        "  'SGP':'#d86120',\n",
        "  'SP':'#e3001b',\n",
        "  'VVD':'#ff7f0e',\n",
        "  'DENK':'#17becf',\n",
        "  'FVD':'#800000',\n",
        "  'Groep Krol/vKA':'pink'}"
      ],
      "execution_count": null,
      "outputs": []
    },
    {
      "cell_type": "code",
      "metadata": {
        "id": "ZeY_vMsV89GK",
        "colab": {
          "base_uri": "https://localhost:8080/"
        },
        "outputId": "4532100e-8646-4c84-8e60-79bdae35505f"
      },
      "source": [
        "# hide\n",
        "df = load(\"df_including_topics.pickle\")\n",
        "print(len(df))"
      ],
      "execution_count": null,
      "outputs": [
        {
          "output_type": "stream",
          "text": [
            "1000\n"
          ],
          "name": "stdout"
        }
      ]
    },
    {
      "cell_type": "code",
      "metadata": {
        "id": "TCYOSSwEE3X_"
      },
      "source": [
        "topics = {\r\n",
        "  '0': 'a',  \r\n",
        "  '1': 'b',  \r\n",
        "  '2': 'c',  \r\n",
        "  '3': 'd',  \r\n",
        "  '4': 'e',  \r\n",
        "  '5': 'f',  \r\n",
        "  '6': 'g',  \r\n",
        "  '7': 'h',  \r\n",
        "  '8': 'i',  \r\n",
        "  '9': 'j',  \r\n",
        "  '10': 'k',  \r\n",
        "  '11': 'l',  \r\n",
        "  '12': 'm',  \r\n",
        "  '13': 'n',  \r\n",
        "  '14': 'o',  \r\n",
        "  '15': 'p',  \r\n",
        "  '16': 'q',  \r\n",
        "  '18': 'r',  \r\n",
        "  '19': 's',  \r\n",
        "  '20': 't',  \r\n",
        "  '21': 'u',  \r\n",
        "  '22': 'v',  \r\n",
        "  '23': 'w',  \r\n",
        "  '24': 'x',  \r\n",
        "  '25': 'y',  \r\n",
        "  np.nan: 'z'\r\n",
        "  }"
      ],
      "execution_count": null,
      "outputs": []
    },
    {
      "cell_type": "code",
      "metadata": {
        "id": "V0NgxAMbFEdr"
      },
      "source": [
        "df['Topic'] = df['Topic'].replace(topics)"
      ],
      "execution_count": null,
      "outputs": []
    },
    {
      "cell_type": "code",
      "metadata": {
        "colab": {
          "base_uri": "https://localhost:8080/"
        },
        "id": "yPIXhJglzQiX",
        "outputId": "78584c35-0ecb-46b1-eb86-33d6108d3f8d"
      },
      "source": [
        "# hide\r\n",
        "parties = source['Indienende_partij'].unique()\r\n",
        "parties"
      ],
      "execution_count": null,
      "outputs": [
        {
          "output_type": "execute_result",
          "data": {
            "text/plain": [
              "array(['CDA', 'ChristenUnie', 'D66', 'GroenLinks', 'PVV', 'PvdA', 'PvdD',\n",
              "       'SP', 'VVD'], dtype=object)"
            ]
          },
          "metadata": {
            "tags": []
          },
          "execution_count": 93
        }
      ]
    },
    {
      "cell_type": "markdown",
      "metadata": {
        "id": "_1yrT8u3_nH1"
      },
      "source": [
        "## Over welke onderwerpen worden het meeste moties ingediend?"
      ]
    },
    {
      "cell_type": "code",
      "metadata": {
        "id": "niHfH50pC4ND",
        "colab": {
          "base_uri": "https://localhost:8080/",
          "height": 307
        },
        "outputId": "a9c71b6b-3488-47b2-d289-8a9c5d4c972c"
      },
      "source": [
        "# hide_input\r\n",
        "# df.groupby(['Jaar', 'Topic']).size().unstack(fill_value=0)\r\n",
        "source = df.groupby(['Jaar', 'Topic']).size().reset_index()\r\n",
        "source = source.rename(columns={0:'Aantal moties'})\r\n",
        "source.head()\r\n",
        "\r\n",
        "# Overview of topic distribution over all years\r\n",
        "import altair as alt\r\n",
        "alt.Chart(source).mark_bar().encode(\r\n",
        "    x=alt.X('Aantal moties:Q', stack='normalize',axis=alt.Axis(format='%')),\r\n",
        "    y='Jaar:O',\r\n",
        "    color=alt.Color('Topic:N',sort=alt.EncodingSortField('Aantal moties', order='descending')),\r\n",
        "    order=alt.Order('Aantal moties:Q',sort='descending')\r\n",
        "\r\n",
        ")"
      ],
      "execution_count": null,
      "outputs": [
        {
          "output_type": "execute_result",
          "data": {
            "text/plain": [
              "alt.Chart(...)"
            ],
            "text/html": [
              "\n",
              "<div id=\"altair-viz-5469ebdac5314f239815b780196d91d4\"></div>\n",
              "<script type=\"text/javascript\">\n",
              "  (function(spec, embedOpt){\n",
              "    let outputDiv = document.currentScript.previousElementSibling;\n",
              "    if (outputDiv.id !== \"altair-viz-5469ebdac5314f239815b780196d91d4\") {\n",
              "      outputDiv = document.getElementById(\"altair-viz-5469ebdac5314f239815b780196d91d4\");\n",
              "    }\n",
              "    const paths = {\n",
              "      \"vega\": \"https://cdn.jsdelivr.net/npm//vega@5?noext\",\n",
              "      \"vega-lib\": \"https://cdn.jsdelivr.net/npm//vega-lib?noext\",\n",
              "      \"vega-lite\": \"https://cdn.jsdelivr.net/npm//vega-lite@4.8.1?noext\",\n",
              "      \"vega-embed\": \"https://cdn.jsdelivr.net/npm//vega-embed@6?noext\",\n",
              "    };\n",
              "\n",
              "    function loadScript(lib) {\n",
              "      return new Promise(function(resolve, reject) {\n",
              "        var s = document.createElement('script');\n",
              "        s.src = paths[lib];\n",
              "        s.async = true;\n",
              "        s.onload = () => resolve(paths[lib]);\n",
              "        s.onerror = () => reject(`Error loading script: ${paths[lib]}`);\n",
              "        document.getElementsByTagName(\"head\")[0].appendChild(s);\n",
              "      });\n",
              "    }\n",
              "\n",
              "    function showError(err) {\n",
              "      outputDiv.innerHTML = `<div class=\"error\" style=\"color:red;\">${err}</div>`;\n",
              "      throw err;\n",
              "    }\n",
              "\n",
              "    function displayChart(vegaEmbed) {\n",
              "      vegaEmbed(outputDiv, spec, embedOpt)\n",
              "        .catch(err => showError(`Javascript Error: ${err.message}<br>This usually means there's a typo in your chart specification. See the javascript console for the full traceback.`));\n",
              "    }\n",
              "\n",
              "    if(typeof define === \"function\" && define.amd) {\n",
              "      requirejs.config({paths});\n",
              "      require([\"vega-embed\"], displayChart, err => showError(`Error loading script: ${err.message}`));\n",
              "    } else if (typeof vegaEmbed === \"function\") {\n",
              "      displayChart(vegaEmbed);\n",
              "    } else {\n",
              "      loadScript(\"vega\")\n",
              "        .then(() => loadScript(\"vega-lite\"))\n",
              "        .then(() => loadScript(\"vega-embed\"))\n",
              "        .catch(showError)\n",
              "        .then(() => displayChart(vegaEmbed));\n",
              "    }\n",
              "  })({\"config\": {\"view\": {\"continuousWidth\": 400, \"continuousHeight\": 300}}, \"data\": {\"name\": \"data-f8bc7349794a6ba145d47b952c2f1fcd\"}, \"mark\": \"bar\", \"encoding\": {\"color\": {\"type\": \"nominal\", \"field\": \"Topic\", \"sort\": {\"field\": \"Aantal moties\", \"order\": \"descending\"}}, \"order\": {\"type\": \"quantitative\", \"field\": \"Aantal moties\", \"sort\": \"descending\"}, \"x\": {\"type\": \"quantitative\", \"axis\": {\"format\": \"%\"}, \"field\": \"Aantal moties\", \"stack\": \"normalize\"}, \"y\": {\"type\": \"ordinal\", \"field\": \"Jaar\"}}, \"$schema\": \"https://vega.github.io/schema/vega-lite/v4.8.1.json\", \"datasets\": {\"data-f8bc7349794a6ba145d47b952c2f1fcd\": [{\"Jaar\": 2009, \"Topic\": \"17\", \"Aantal moties\": 66}, {\"Jaar\": 2009, \"Topic\": \"a\", \"Aantal moties\": 32}, {\"Jaar\": 2009, \"Topic\": \"b\", \"Aantal moties\": 75}, {\"Jaar\": 2009, \"Topic\": \"c\", \"Aantal moties\": 54}, {\"Jaar\": 2009, \"Topic\": \"d\", \"Aantal moties\": 31}, {\"Jaar\": 2009, \"Topic\": \"e\", \"Aantal moties\": 25}, {\"Jaar\": 2009, \"Topic\": \"f\", \"Aantal moties\": 98}, {\"Jaar\": 2009, \"Topic\": \"g\", \"Aantal moties\": 49}, {\"Jaar\": 2009, \"Topic\": \"h\", \"Aantal moties\": 49}, {\"Jaar\": 2009, \"Topic\": \"i\", \"Aantal moties\": 76}, {\"Jaar\": 2009, \"Topic\": \"j\", \"Aantal moties\": 22}, {\"Jaar\": 2009, \"Topic\": \"k\", \"Aantal moties\": 44}, {\"Jaar\": 2009, \"Topic\": \"l\", \"Aantal moties\": 77}, {\"Jaar\": 2009, \"Topic\": \"m\", \"Aantal moties\": 24}, {\"Jaar\": 2009, \"Topic\": \"n\", \"Aantal moties\": 36}, {\"Jaar\": 2009, \"Topic\": \"o\", \"Aantal moties\": 29}, {\"Jaar\": 2009, \"Topic\": \"p\", \"Aantal moties\": 82}, {\"Jaar\": 2009, \"Topic\": \"q\", \"Aantal moties\": 62}, {\"Jaar\": 2009, \"Topic\": \"r\", \"Aantal moties\": 31}, {\"Jaar\": 2009, \"Topic\": \"s\", \"Aantal moties\": 38}]}}, {\"mode\": \"vega-lite\"});\n",
              "</script>"
            ]
          },
          "metadata": {
            "tags": []
          },
          "execution_count": 94
        }
      ]
    },
    {
      "cell_type": "markdown",
      "metadata": {
        "id": "aGjs8coD_4gc"
      },
      "source": [
        "## Meest actieve partijen per onderwerp"
      ]
    },
    {
      "cell_type": "code",
      "metadata": {
        "id": "GybEQ5UwCTRN",
        "colab": {
          "base_uri": "https://localhost:8080/",
          "height": 164
        },
        "outputId": "7bdc9f62-506f-475a-f96d-428343318402"
      },
      "source": [
        "# # Overview of topic 'owner' throughout the years\r\n",
        "selected_topic = '17'\r\n",
        "source = df[df['Topic'] == selected_topic]\r\n",
        "source = source[['Jaar','Indienende_partij','Titel']].groupby(['Jaar', 'Indienende_partij']).count().reset_index()\r\n",
        "source = source.rename(columns={'Titel':'Aantal'})\r\n",
        "\r\n",
        "alt.Chart(source).mark_bar().encode(\r\n",
        "    x = alt.X('Aantal:Q', stack='normalize',sort=alt.SortField(field=\"Aantal\", order='ascending'),axis=alt.Axis(format='%')),\r\n",
        "    y = 'Jaar:O',\r\n",
        "    color=alt.Color(\"Indienende_partij\", \r\n",
        "                      scale = alt.Scale(domain=parties,range= [party_colors[p] for p in parties])),\r\n",
        "    order=alt.Order('Aantal:Q',sort='descending')\r\n",
        ").transform_filter(\r\n",
        "    alt.datum.Aantal > 10\r\n",
        ").configure_axis(\r\n",
        "    grid=False\r\n",
        ").configure_view(\r\n",
        "    strokeWidth=1\r\n",
        ").properties(width=300)"
      ],
      "execution_count": null,
      "outputs": [
        {
          "output_type": "execute_result",
          "data": {
            "text/plain": [
              "alt.Chart(...)"
            ],
            "text/html": [
              "\n",
              "<div id=\"altair-viz-ea5931ae183f4999946f545f15318b98\"></div>\n",
              "<script type=\"text/javascript\">\n",
              "  (function(spec, embedOpt){\n",
              "    let outputDiv = document.currentScript.previousElementSibling;\n",
              "    if (outputDiv.id !== \"altair-viz-ea5931ae183f4999946f545f15318b98\") {\n",
              "      outputDiv = document.getElementById(\"altair-viz-ea5931ae183f4999946f545f15318b98\");\n",
              "    }\n",
              "    const paths = {\n",
              "      \"vega\": \"https://cdn.jsdelivr.net/npm//vega@5?noext\",\n",
              "      \"vega-lib\": \"https://cdn.jsdelivr.net/npm//vega-lib?noext\",\n",
              "      \"vega-lite\": \"https://cdn.jsdelivr.net/npm//vega-lite@4.8.1?noext\",\n",
              "      \"vega-embed\": \"https://cdn.jsdelivr.net/npm//vega-embed@6?noext\",\n",
              "    };\n",
              "\n",
              "    function loadScript(lib) {\n",
              "      return new Promise(function(resolve, reject) {\n",
              "        var s = document.createElement('script');\n",
              "        s.src = paths[lib];\n",
              "        s.async = true;\n",
              "        s.onload = () => resolve(paths[lib]);\n",
              "        s.onerror = () => reject(`Error loading script: ${paths[lib]}`);\n",
              "        document.getElementsByTagName(\"head\")[0].appendChild(s);\n",
              "      });\n",
              "    }\n",
              "\n",
              "    function showError(err) {\n",
              "      outputDiv.innerHTML = `<div class=\"error\" style=\"color:red;\">${err}</div>`;\n",
              "      throw err;\n",
              "    }\n",
              "\n",
              "    function displayChart(vegaEmbed) {\n",
              "      vegaEmbed(outputDiv, spec, embedOpt)\n",
              "        .catch(err => showError(`Javascript Error: ${err.message}<br>This usually means there's a typo in your chart specification. See the javascript console for the full traceback.`));\n",
              "    }\n",
              "\n",
              "    if(typeof define === \"function\" && define.amd) {\n",
              "      requirejs.config({paths});\n",
              "      require([\"vega-embed\"], displayChart, err => showError(`Error loading script: ${err.message}`));\n",
              "    } else if (typeof vegaEmbed === \"function\") {\n",
              "      displayChart(vegaEmbed);\n",
              "    } else {\n",
              "      loadScript(\"vega\")\n",
              "        .then(() => loadScript(\"vega-lite\"))\n",
              "        .then(() => loadScript(\"vega-embed\"))\n",
              "        .catch(showError)\n",
              "        .then(() => displayChart(vegaEmbed));\n",
              "    }\n",
              "  })({\"config\": {\"view\": {\"continuousWidth\": 400, \"continuousHeight\": 300, \"strokeWidth\": 1}, \"axis\": {\"grid\": false}}, \"data\": {\"name\": \"data-56c1ebc3554156da8965d78549d1d622\"}, \"mark\": \"bar\", \"encoding\": {\"color\": {\"type\": \"nominal\", \"field\": \"Indienende_partij\", \"scale\": {\"domain\": [\"CDA\", \"ChristenUnie\", \"D66\", \"GroenLinks\", \"PVV\", \"PvdA\", \"PvdD\", \"SP\", \"VVD\"], \"range\": [\"#5cb957\", \"#00a5e8\", \"#04a438\", \"#48a641\", \"#002759\", \"#df111a\", \"#006b2d\", \"#e3001b\", \"#ff7f0e\"]}}, \"order\": {\"type\": \"quantitative\", \"field\": \"Aantal\", \"sort\": \"descending\"}, \"x\": {\"type\": \"quantitative\", \"axis\": {\"format\": \"%\"}, \"field\": \"Aantal\", \"sort\": {\"field\": \"Aantal\", \"order\": \"ascending\"}, \"stack\": \"normalize\"}, \"y\": {\"type\": \"ordinal\", \"field\": \"Jaar\"}}, \"transform\": [{\"filter\": \"(datum.Aantal > 10)\"}], \"width\": 300, \"$schema\": \"https://vega.github.io/schema/vega-lite/v4.8.1.json\", \"datasets\": {\"data-56c1ebc3554156da8965d78549d1d622\": [{\"Jaar\": 2009, \"Indienende_partij\": \"CDA\", \"Aantal\": 17}, {\"Jaar\": 2009, \"Indienende_partij\": \"ChristenUnie\", \"Aantal\": 8}, {\"Jaar\": 2009, \"Indienende_partij\": \"D66\", \"Aantal\": 3}, {\"Jaar\": 2009, \"Indienende_partij\": \"GroenLinks\", \"Aantal\": 12}, {\"Jaar\": 2009, \"Indienende_partij\": \"PVV\", \"Aantal\": 2}, {\"Jaar\": 2009, \"Indienende_partij\": \"PvdA\", \"Aantal\": 5}, {\"Jaar\": 2009, \"Indienende_partij\": \"PvdD\", \"Aantal\": 2}, {\"Jaar\": 2009, \"Indienende_partij\": \"SP\", \"Aantal\": 10}, {\"Jaar\": 2009, \"Indienende_partij\": \"VVD\", \"Aantal\": 7}]}}, {\"mode\": \"vega-lite\"});\n",
              "</script>"
            ]
          },
          "metadata": {
            "tags": []
          },
          "execution_count": 95
        }
      ]
    },
    {
      "cell_type": "markdown",
      "metadata": {
        "id": "Z1SZaKQWAKRi"
      },
      "source": [
        "## Hoofdonderwerpen per partij tijdens Rutte III"
      ]
    },
    {
      "cell_type": "code",
      "metadata": {
        "colab": {
          "base_uri": "https://localhost:8080/",
          "height": 411
        },
        "id": "s6P-WH069230",
        "outputId": "2d76b4a9-a0cc-45a8-909e-f806a43cb3c4"
      },
      "source": [
        "# # Overview of topic 'owner' throughout the years\r\n",
        "source = df[df['Kamer'] == 'Balkenende IV']\r\n",
        "source = source[['Indienende_partij','Topic','Titel']].groupby(['Indienende_partij','Topic']).count().reset_index()\r\n",
        "source = source.rename(columns={'Titel':'Aantal'})\r\n",
        "print(source.head())\r\n",
        "\r\n",
        "alt.Chart(source).mark_bar().encode(\r\n",
        "    x = alt.X('Aantal:Q', stack='normalize',sort=alt.SortField(field=\"Aantal\", order='ascending'),axis=alt.Axis(format='%')),\r\n",
        "    y = 'Indienende_partij:N',\r\n",
        "    color=alt.Color(\"Topic:N\"),\r\n",
        "                      # scale = alt.Scale(domain=parties,range= [party_colors[p] for p in parties])),\r\n",
        "    order=alt.Order('Aantal:Q',sort='descending')\r\n",
        "    \r\n",
        ").transform_filter(\r\n",
        "    alt.datum.Aantal > 4\r\n",
        ").configure_axis(\r\n",
        "    grid=False\r\n",
        ").configure_view(\r\n",
        "    strokeWidth=1\r\n",
        ").properties(width=300)"
      ],
      "execution_count": null,
      "outputs": [
        {
          "output_type": "stream",
          "text": [
            "  Indienende_partij Topic  Aantal\n",
            "0               CDA     0       2\n",
            "1               CDA     1       6\n",
            "2               CDA    10       8\n",
            "3               CDA    11       7\n",
            "4               CDA    12       1\n"
          ],
          "name": "stdout"
        },
        {
          "output_type": "execute_result",
          "data": {
            "text/plain": [
              "alt.Chart(...)"
            ],
            "text/html": [
              "\n",
              "<div id=\"altair-viz-0929ffc3bfc2434a9b1eabed769f8752\"></div>\n",
              "<script type=\"text/javascript\">\n",
              "  (function(spec, embedOpt){\n",
              "    let outputDiv = document.currentScript.previousElementSibling;\n",
              "    if (outputDiv.id !== \"altair-viz-0929ffc3bfc2434a9b1eabed769f8752\") {\n",
              "      outputDiv = document.getElementById(\"altair-viz-0929ffc3bfc2434a9b1eabed769f8752\");\n",
              "    }\n",
              "    const paths = {\n",
              "      \"vega\": \"https://cdn.jsdelivr.net/npm//vega@5?noext\",\n",
              "      \"vega-lib\": \"https://cdn.jsdelivr.net/npm//vega-lib?noext\",\n",
              "      \"vega-lite\": \"https://cdn.jsdelivr.net/npm//vega-lite@4.8.1?noext\",\n",
              "      \"vega-embed\": \"https://cdn.jsdelivr.net/npm//vega-embed@6?noext\",\n",
              "    };\n",
              "\n",
              "    function loadScript(lib) {\n",
              "      return new Promise(function(resolve, reject) {\n",
              "        var s = document.createElement('script');\n",
              "        s.src = paths[lib];\n",
              "        s.async = true;\n",
              "        s.onload = () => resolve(paths[lib]);\n",
              "        s.onerror = () => reject(`Error loading script: ${paths[lib]}`);\n",
              "        document.getElementsByTagName(\"head\")[0].appendChild(s);\n",
              "      });\n",
              "    }\n",
              "\n",
              "    function showError(err) {\n",
              "      outputDiv.innerHTML = `<div class=\"error\" style=\"color:red;\">${err}</div>`;\n",
              "      throw err;\n",
              "    }\n",
              "\n",
              "    function displayChart(vegaEmbed) {\n",
              "      vegaEmbed(outputDiv, spec, embedOpt)\n",
              "        .catch(err => showError(`Javascript Error: ${err.message}<br>This usually means there's a typo in your chart specification. See the javascript console for the full traceback.`));\n",
              "    }\n",
              "\n",
              "    if(typeof define === \"function\" && define.amd) {\n",
              "      requirejs.config({paths});\n",
              "      require([\"vega-embed\"], displayChart, err => showError(`Error loading script: ${err.message}`));\n",
              "    } else if (typeof vegaEmbed === \"function\") {\n",
              "      displayChart(vegaEmbed);\n",
              "    } else {\n",
              "      loadScript(\"vega\")\n",
              "        .then(() => loadScript(\"vega-lite\"))\n",
              "        .then(() => loadScript(\"vega-embed\"))\n",
              "        .catch(showError)\n",
              "        .then(() => displayChart(vegaEmbed));\n",
              "    }\n",
              "  })({\"config\": {\"view\": {\"continuousWidth\": 400, \"continuousHeight\": 300, \"strokeWidth\": 1}, \"axis\": {\"grid\": false}}, \"data\": {\"name\": \"data-9dc8849c75457217a68bb8d10b8e9107\"}, \"mark\": \"bar\", \"encoding\": {\"color\": {\"type\": \"nominal\", \"field\": \"Topic\"}, \"order\": {\"type\": \"quantitative\", \"field\": \"Aantal\", \"sort\": \"descending\"}, \"x\": {\"type\": \"quantitative\", \"axis\": {\"format\": \"%\"}, \"field\": \"Aantal\", \"sort\": {\"field\": \"Aantal\", \"order\": \"ascending\"}, \"stack\": \"normalize\"}, \"y\": {\"type\": \"nominal\", \"field\": \"Indienende_partij\"}}, \"transform\": [{\"filter\": \"(datum.Aantal > 4)\"}], \"width\": 300, \"$schema\": \"https://vega.github.io/schema/vega-lite/v4.8.1.json\", \"datasets\": {\"data-9dc8849c75457217a68bb8d10b8e9107\": [{\"Indienende_partij\": \"CDA\", \"Topic\": \"0\", \"Aantal\": 2}, {\"Indienende_partij\": \"CDA\", \"Topic\": \"1\", \"Aantal\": 6}, {\"Indienende_partij\": \"CDA\", \"Topic\": \"10\", \"Aantal\": 8}, {\"Indienende_partij\": \"CDA\", \"Topic\": \"11\", \"Aantal\": 7}, {\"Indienende_partij\": \"CDA\", \"Topic\": \"12\", \"Aantal\": 1}, {\"Indienende_partij\": \"CDA\", \"Topic\": \"13\", \"Aantal\": 6}, {\"Indienende_partij\": \"CDA\", \"Topic\": \"14\", \"Aantal\": 5}, {\"Indienende_partij\": \"CDA\", \"Topic\": \"15\", \"Aantal\": 10}, {\"Indienende_partij\": \"CDA\", \"Topic\": \"16\", \"Aantal\": 7}, {\"Indienende_partij\": \"CDA\", \"Topic\": \"17\", \"Aantal\": 17}, {\"Indienende_partij\": \"CDA\", \"Topic\": \"18\", \"Aantal\": 6}, {\"Indienende_partij\": \"CDA\", \"Topic\": \"19\", \"Aantal\": 3}, {\"Indienende_partij\": \"CDA\", \"Topic\": \"2\", \"Aantal\": 7}, {\"Indienende_partij\": \"CDA\", \"Topic\": \"3\", \"Aantal\": 2}, {\"Indienende_partij\": \"CDA\", \"Topic\": \"4\", \"Aantal\": 5}, {\"Indienende_partij\": \"CDA\", \"Topic\": \"5\", \"Aantal\": 13}, {\"Indienende_partij\": \"CDA\", \"Topic\": \"6\", \"Aantal\": 8}, {\"Indienende_partij\": \"CDA\", \"Topic\": \"7\", \"Aantal\": 8}, {\"Indienende_partij\": \"CDA\", \"Topic\": \"8\", \"Aantal\": 7}, {\"Indienende_partij\": \"CDA\", \"Topic\": \"9\", \"Aantal\": 6}, {\"Indienende_partij\": \"ChristenUnie\", \"Topic\": \"0\", \"Aantal\": 2}, {\"Indienende_partij\": \"ChristenUnie\", \"Topic\": \"1\", \"Aantal\": 3}, {\"Indienende_partij\": \"ChristenUnie\", \"Topic\": \"10\", \"Aantal\": 2}, {\"Indienende_partij\": \"ChristenUnie\", \"Topic\": \"11\", \"Aantal\": 10}, {\"Indienende_partij\": \"ChristenUnie\", \"Topic\": \"14\", \"Aantal\": 3}, {\"Indienende_partij\": \"ChristenUnie\", \"Topic\": \"15\", \"Aantal\": 7}, {\"Indienende_partij\": \"ChristenUnie\", \"Topic\": \"16\", \"Aantal\": 3}, {\"Indienende_partij\": \"ChristenUnie\", \"Topic\": \"17\", \"Aantal\": 8}, {\"Indienende_partij\": \"ChristenUnie\", \"Topic\": \"19\", \"Aantal\": 1}, {\"Indienende_partij\": \"ChristenUnie\", \"Topic\": \"2\", \"Aantal\": 2}, {\"Indienende_partij\": \"ChristenUnie\", \"Topic\": \"3\", \"Aantal\": 1}, {\"Indienende_partij\": \"ChristenUnie\", \"Topic\": \"4\", \"Aantal\": 1}, {\"Indienende_partij\": \"ChristenUnie\", \"Topic\": \"5\", \"Aantal\": 7}, {\"Indienende_partij\": \"ChristenUnie\", \"Topic\": \"6\", \"Aantal\": 4}, {\"Indienende_partij\": \"ChristenUnie\", \"Topic\": \"7\", \"Aantal\": 2}, {\"Indienende_partij\": \"ChristenUnie\", \"Topic\": \"8\", \"Aantal\": 6}, {\"Indienende_partij\": \"D66\", \"Topic\": \"0\", \"Aantal\": 1}, {\"Indienende_partij\": \"D66\", \"Topic\": \"1\", \"Aantal\": 1}, {\"Indienende_partij\": \"D66\", \"Topic\": \"11\", \"Aantal\": 3}, {\"Indienende_partij\": \"D66\", \"Topic\": \"13\", \"Aantal\": 4}, {\"Indienende_partij\": \"D66\", \"Topic\": \"14\", \"Aantal\": 1}, {\"Indienende_partij\": \"D66\", \"Topic\": \"15\", \"Aantal\": 5}, {\"Indienende_partij\": \"D66\", \"Topic\": \"16\", \"Aantal\": 5}, {\"Indienende_partij\": \"D66\", \"Topic\": \"17\", \"Aantal\": 3}, {\"Indienende_partij\": \"D66\", \"Topic\": \"19\", \"Aantal\": 2}, {\"Indienende_partij\": \"D66\", \"Topic\": \"2\", \"Aantal\": 2}, {\"Indienende_partij\": \"D66\", \"Topic\": \"3\", \"Aantal\": 2}, {\"Indienende_partij\": \"D66\", \"Topic\": \"5\", \"Aantal\": 3}, {\"Indienende_partij\": \"D66\", \"Topic\": \"6\", \"Aantal\": 5}, {\"Indienende_partij\": \"D66\", \"Topic\": \"7\", \"Aantal\": 1}, {\"Indienende_partij\": \"D66\", \"Topic\": \"8\", \"Aantal\": 3}, {\"Indienende_partij\": \"D66\", \"Topic\": \"9\", \"Aantal\": 2}, {\"Indienende_partij\": \"GroenLinks\", \"Topic\": \"0\", \"Aantal\": 1}, {\"Indienende_partij\": \"GroenLinks\", \"Topic\": \"1\", \"Aantal\": 7}, {\"Indienende_partij\": \"GroenLinks\", \"Topic\": \"10\", \"Aantal\": 2}, {\"Indienende_partij\": \"GroenLinks\", \"Topic\": \"11\", \"Aantal\": 4}, {\"Indienende_partij\": \"GroenLinks\", \"Topic\": \"12\", \"Aantal\": 1}, {\"Indienende_partij\": \"GroenLinks\", \"Topic\": \"13\", \"Aantal\": 2}, {\"Indienende_partij\": \"GroenLinks\", \"Topic\": \"14\", \"Aantal\": 1}, {\"Indienende_partij\": \"GroenLinks\", \"Topic\": \"15\", \"Aantal\": 7}, {\"Indienende_partij\": \"GroenLinks\", \"Topic\": \"16\", \"Aantal\": 8}, {\"Indienende_partij\": \"GroenLinks\", \"Topic\": \"17\", \"Aantal\": 12}, {\"Indienende_partij\": \"GroenLinks\", \"Topic\": \"19\", \"Aantal\": 8}, {\"Indienende_partij\": \"GroenLinks\", \"Topic\": \"2\", \"Aantal\": 7}, {\"Indienende_partij\": \"GroenLinks\", \"Topic\": \"3\", \"Aantal\": 2}, {\"Indienende_partij\": \"GroenLinks\", \"Topic\": \"4\", \"Aantal\": 2}, {\"Indienende_partij\": \"GroenLinks\", \"Topic\": \"5\", \"Aantal\": 7}, {\"Indienende_partij\": \"GroenLinks\", \"Topic\": \"6\", \"Aantal\": 1}, {\"Indienende_partij\": \"GroenLinks\", \"Topic\": \"7\", \"Aantal\": 4}, {\"Indienende_partij\": \"GroenLinks\", \"Topic\": \"8\", \"Aantal\": 6}, {\"Indienende_partij\": \"GroenLinks\", \"Topic\": \"9\", \"Aantal\": 1}, {\"Indienende_partij\": \"PVV\", \"Topic\": \"0\", \"Aantal\": 4}, {\"Indienende_partij\": \"PVV\", \"Topic\": \"1\", \"Aantal\": 14}, {\"Indienende_partij\": \"PVV\", \"Topic\": \"10\", \"Aantal\": 5}, {\"Indienende_partij\": \"PVV\", \"Topic\": \"11\", \"Aantal\": 5}, {\"Indienende_partij\": \"PVV\", \"Topic\": \"12\", \"Aantal\": 3}, {\"Indienende_partij\": \"PVV\", \"Topic\": \"13\", \"Aantal\": 10}, {\"Indienende_partij\": \"PVV\", \"Topic\": \"14\", \"Aantal\": 2}, {\"Indienende_partij\": \"PVV\", \"Topic\": \"15\", \"Aantal\": 13}, {\"Indienende_partij\": \"PVV\", \"Topic\": \"16\", \"Aantal\": 4}, {\"Indienende_partij\": \"PVV\", \"Topic\": \"17\", \"Aantal\": 2}, {\"Indienende_partij\": \"PVV\", \"Topic\": \"18\", \"Aantal\": 6}, {\"Indienende_partij\": \"PVV\", \"Topic\": \"19\", \"Aantal\": 5}, {\"Indienende_partij\": \"PVV\", \"Topic\": \"2\", \"Aantal\": 9}, {\"Indienende_partij\": \"PVV\", \"Topic\": \"3\", \"Aantal\": 3}, {\"Indienende_partij\": \"PVV\", \"Topic\": \"4\", \"Aantal\": 2}, {\"Indienende_partij\": \"PVV\", \"Topic\": \"5\", \"Aantal\": 18}, {\"Indienende_partij\": \"PVV\", \"Topic\": \"6\", \"Aantal\": 12}, {\"Indienende_partij\": \"PVV\", \"Topic\": \"7\", \"Aantal\": 8}, {\"Indienende_partij\": \"PVV\", \"Topic\": \"8\", \"Aantal\": 18}, {\"Indienende_partij\": \"PVV\", \"Topic\": \"9\", \"Aantal\": 1}, {\"Indienende_partij\": \"PvdA\", \"Topic\": \"0\", \"Aantal\": 5}, {\"Indienende_partij\": \"PvdA\", \"Topic\": \"1\", \"Aantal\": 9}, {\"Indienende_partij\": \"PvdA\", \"Topic\": \"10\", \"Aantal\": 6}, {\"Indienende_partij\": \"PvdA\", \"Topic\": \"11\", \"Aantal\": 8}, {\"Indienende_partij\": \"PvdA\", \"Topic\": \"12\", \"Aantal\": 3}, {\"Indienende_partij\": \"PvdA\", \"Topic\": \"13\", \"Aantal\": 4}, {\"Indienende_partij\": \"PvdA\", \"Topic\": \"14\", \"Aantal\": 1}, {\"Indienende_partij\": \"PvdA\", \"Topic\": \"15\", \"Aantal\": 8}, {\"Indienende_partij\": \"PvdA\", \"Topic\": \"16\", \"Aantal\": 5}, {\"Indienende_partij\": \"PvdA\", \"Topic\": \"17\", \"Aantal\": 5}, {\"Indienende_partij\": \"PvdA\", \"Topic\": \"18\", \"Aantal\": 5}, {\"Indienende_partij\": \"PvdA\", \"Topic\": \"19\", \"Aantal\": 2}, {\"Indienende_partij\": \"PvdA\", \"Topic\": \"2\", \"Aantal\": 5}, {\"Indienende_partij\": \"PvdA\", \"Topic\": \"3\", \"Aantal\": 5}, {\"Indienende_partij\": \"PvdA\", \"Topic\": \"4\", \"Aantal\": 4}, {\"Indienende_partij\": \"PvdA\", \"Topic\": \"5\", \"Aantal\": 8}, {\"Indienende_partij\": \"PvdA\", \"Topic\": \"6\", \"Aantal\": 1}, {\"Indienende_partij\": \"PvdA\", \"Topic\": \"7\", \"Aantal\": 5}, {\"Indienende_partij\": \"PvdA\", \"Topic\": \"8\", \"Aantal\": 4}, {\"Indienende_partij\": \"PvdA\", \"Topic\": \"9\", \"Aantal\": 1}, {\"Indienende_partij\": \"PvdD\", \"Topic\": \"0\", \"Aantal\": 3}, {\"Indienende_partij\": \"PvdD\", \"Topic\": \"1\", \"Aantal\": 1}, {\"Indienende_partij\": \"PvdD\", \"Topic\": \"10\", \"Aantal\": 5}, {\"Indienende_partij\": \"PvdD\", \"Topic\": \"11\", \"Aantal\": 4}, {\"Indienende_partij\": \"PvdD\", \"Topic\": \"12\", \"Aantal\": 3}, {\"Indienende_partij\": \"PvdD\", \"Topic\": \"14\", \"Aantal\": 1}, {\"Indienende_partij\": \"PvdD\", \"Topic\": \"15\", \"Aantal\": 5}, {\"Indienende_partij\": \"PvdD\", \"Topic\": \"16\", \"Aantal\": 1}, {\"Indienende_partij\": \"PvdD\", \"Topic\": \"17\", \"Aantal\": 2}, {\"Indienende_partij\": \"PvdD\", \"Topic\": \"18\", \"Aantal\": 4}, {\"Indienende_partij\": \"PvdD\", \"Topic\": \"5\", \"Aantal\": 5}, {\"Indienende_partij\": \"PvdD\", \"Topic\": \"6\", \"Aantal\": 1}, {\"Indienende_partij\": \"PvdD\", \"Topic\": \"7\", \"Aantal\": 3}, {\"Indienende_partij\": \"PvdD\", \"Topic\": \"8\", \"Aantal\": 8}, {\"Indienende_partij\": \"SGP\", \"Topic\": \"10\", \"Aantal\": 2}, {\"Indienende_partij\": \"SGP\", \"Topic\": \"11\", \"Aantal\": 1}, {\"Indienende_partij\": \"SGP\", \"Topic\": \"15\", \"Aantal\": 2}, {\"Indienende_partij\": \"SGP\", \"Topic\": \"19\", \"Aantal\": 2}, {\"Indienende_partij\": \"SGP\", \"Topic\": \"3\", \"Aantal\": 1}, {\"Indienende_partij\": \"SGP\", \"Topic\": \"4\", \"Aantal\": 1}, {\"Indienende_partij\": \"SGP\", \"Topic\": \"5\", \"Aantal\": 1}, {\"Indienende_partij\": \"SGP\", \"Topic\": \"6\", \"Aantal\": 2}, {\"Indienende_partij\": \"SGP\", \"Topic\": \"8\", \"Aantal\": 3}, {\"Indienende_partij\": \"SP\", \"Topic\": \"0\", \"Aantal\": 6}, {\"Indienende_partij\": \"SP\", \"Topic\": \"1\", \"Aantal\": 25}, {\"Indienende_partij\": \"SP\", \"Topic\": \"10\", \"Aantal\": 4}, {\"Indienende_partij\": \"SP\", \"Topic\": \"11\", \"Aantal\": 27}, {\"Indienende_partij\": \"SP\", \"Topic\": \"12\", \"Aantal\": 4}, {\"Indienende_partij\": \"SP\", \"Topic\": \"13\", \"Aantal\": 6}, {\"Indienende_partij\": \"SP\", \"Topic\": \"14\", \"Aantal\": 10}, {\"Indienende_partij\": \"SP\", \"Topic\": \"15\", \"Aantal\": 8}, {\"Indienende_partij\": \"SP\", \"Topic\": \"16\", \"Aantal\": 24}, {\"Indienende_partij\": \"SP\", \"Topic\": \"17\", \"Aantal\": 10}, {\"Indienende_partij\": \"SP\", \"Topic\": \"18\", \"Aantal\": 7}, {\"Indienende_partij\": \"SP\", \"Topic\": \"19\", \"Aantal\": 12}, {\"Indienende_partij\": \"SP\", \"Topic\": \"2\", \"Aantal\": 12}, {\"Indienende_partij\": \"SP\", \"Topic\": \"3\", \"Aantal\": 11}, {\"Indienende_partij\": \"SP\", \"Topic\": \"4\", \"Aantal\": 7}, {\"Indienende_partij\": \"SP\", \"Topic\": \"5\", \"Aantal\": 24}, {\"Indienende_partij\": \"SP\", \"Topic\": \"6\", \"Aantal\": 9}, {\"Indienende_partij\": \"SP\", \"Topic\": \"7\", \"Aantal\": 12}, {\"Indienende_partij\": \"SP\", \"Topic\": \"8\", \"Aantal\": 15}, {\"Indienende_partij\": \"SP\", \"Topic\": \"9\", \"Aantal\": 7}, {\"Indienende_partij\": \"VVD\", \"Topic\": \"0\", \"Aantal\": 6}, {\"Indienende_partij\": \"VVD\", \"Topic\": \"1\", \"Aantal\": 8}, {\"Indienende_partij\": \"VVD\", \"Topic\": \"10\", \"Aantal\": 9}, {\"Indienende_partij\": \"VVD\", \"Topic\": \"11\", \"Aantal\": 8}, {\"Indienende_partij\": \"VVD\", \"Topic\": \"12\", \"Aantal\": 9}, {\"Indienende_partij\": \"VVD\", \"Topic\": \"13\", \"Aantal\": 3}, {\"Indienende_partij\": \"VVD\", \"Topic\": \"14\", \"Aantal\": 5}, {\"Indienende_partij\": \"VVD\", \"Topic\": \"15\", \"Aantal\": 16}, {\"Indienende_partij\": \"VVD\", \"Topic\": \"16\", \"Aantal\": 4}, {\"Indienende_partij\": \"VVD\", \"Topic\": \"17\", \"Aantal\": 7}, {\"Indienende_partij\": \"VVD\", \"Topic\": \"18\", \"Aantal\": 3}, {\"Indienende_partij\": \"VVD\", \"Topic\": \"19\", \"Aantal\": 3}, {\"Indienende_partij\": \"VVD\", \"Topic\": \"2\", \"Aantal\": 9}, {\"Indienende_partij\": \"VVD\", \"Topic\": \"3\", \"Aantal\": 4}, {\"Indienende_partij\": \"VVD\", \"Topic\": \"4\", \"Aantal\": 2}, {\"Indienende_partij\": \"VVD\", \"Topic\": \"5\", \"Aantal\": 10}, {\"Indienende_partij\": \"VVD\", \"Topic\": \"6\", \"Aantal\": 2}, {\"Indienende_partij\": \"VVD\", \"Topic\": \"7\", \"Aantal\": 4}, {\"Indienende_partij\": \"VVD\", \"Topic\": \"8\", \"Aantal\": 6}, {\"Indienende_partij\": \"VVD\", \"Topic\": \"9\", \"Aantal\": 4}, {\"Indienende_partij\": \"Verdonk\", \"Topic\": \"0\", \"Aantal\": 2}, {\"Indienende_partij\": \"Verdonk\", \"Topic\": \"1\", \"Aantal\": 1}, {\"Indienende_partij\": \"Verdonk\", \"Topic\": \"10\", \"Aantal\": 1}, {\"Indienende_partij\": \"Verdonk\", \"Topic\": \"13\", \"Aantal\": 1}, {\"Indienende_partij\": \"Verdonk\", \"Topic\": \"15\", \"Aantal\": 1}, {\"Indienende_partij\": \"Verdonk\", \"Topic\": \"16\", \"Aantal\": 1}, {\"Indienende_partij\": \"Verdonk\", \"Topic\": \"2\", \"Aantal\": 1}, {\"Indienende_partij\": \"Verdonk\", \"Topic\": \"4\", \"Aantal\": 1}, {\"Indienende_partij\": \"Verdonk\", \"Topic\": \"5\", \"Aantal\": 2}, {\"Indienende_partij\": \"Verdonk\", \"Topic\": \"6\", \"Aantal\": 4}, {\"Indienende_partij\": \"Verdonk\", \"Topic\": \"7\", \"Aantal\": 2}]}}, {\"mode\": \"vega-lite\"});\n",
              "</script>"
            ]
          },
          "metadata": {
            "tags": []
          },
          "execution_count": 72
        }
      ]
    },
    {
      "cell_type": "markdown",
      "metadata": {
        "id": "F8LyHvQuAsM9"
      },
      "source": [
        "## Onderzoek naar klimaat\r\n",
        "Omdat ik denk dat klimaat en natuur op de lange termijn het belangrijkst zijn voor de mens heb ik deze nog eens handmatig doorgenomen. Ik heb alle moties doorgelezen die over natuur en klimaat gaan en gelabeld of de motie 'voor' of 'tegen' het klimaat is. Op deze manier kunnen we kijken of wat het stemgedrag is van partijen."
      ]
    },
    {
      "cell_type": "code",
      "metadata": {
        "id": "aqLx7KJ0_PYE"
      },
      "source": [
        "!pip install pandas-alive\r\n",
        "# https://medium.com/dunder-data/create-a-bar-chart-race-animation-in-python-with-matplotlib-477ed1590096\r\n",
        "# https://towardsdatascience.com/creating-bar-chart-race-animation-with-python-cdb01144074e"
      ],
      "execution_count": null,
      "outputs": []
    },
    {
      "cell_type": "code",
      "metadata": {
        "id": "SIZ087fZ89GP",
        "colab": {
          "base_uri": "https://localhost:8080/"
        },
        "outputId": "1a87e9dc-86d6-4aa9-fd20-87e89572ce30"
      },
      "source": [
        "import pandas_alive\n",
        "import pandas as pd\n",
        "\n",
        "data_raw = pd.read_csv(\n",
        "    \"https://raw.githubusercontent.com/owid/owid-datasets/master/datasets/Long%20run%20life%20expectancy%20-%20Gapminder%2C%20UN/Long%20run%20life%20expectancy%20-%20Gapminder%2C%20UN.csv\"\n",
        ")\n",
        "\n",
        "list_G7 = [\n",
        "    \"Canada\",\n",
        "    \"France\",\n",
        "    \"Germany\",\n",
        "    \"Italy\",\n",
        "    \"Japan\",\n",
        "    \"United Kingdom\",\n",
        "    \"United States\",\n",
        "]\n",
        "\n",
        "data_raw = data_raw.pivot(\n",
        "    index=\"Year\", columns=\"Entity\", values=\"Life expectancy (Gapminder, UN)\"\n",
        ")\n",
        "\n",
        "data = pd.DataFrame()\n",
        "data[\"Year\"] = data_raw.reset_index()[\"Year\"]\n",
        "for country in list_G7:\n",
        "    data[country] = data_raw[country].values\n",
        "\n",
        "data = data.fillna(method=\"pad\")\n",
        "data = data.fillna(0)\n",
        "data = data.set_index(\"Year\").loc[1900:].reset_index()\n",
        "\n",
        "data[\"Year\"] = pd.to_datetime(data.reset_index()[\"Year\"].astype(str))\n",
        "\n",
        "data = data.set_index(\"Year\")\n",
        "\n",
        "animated_bar_chart = data.plot_animated(\n",
        "    period_fmt=\"%Y%M\",perpendicular_bar_func=\"mean\", period_length=200,fixed_max=True\n",
        ")\n",
        "\n",
        "animated_line_chart = data.plot_animated(\n",
        "    kind=\"line\", period_fmt=\"%Y\", period_length=200,fixed_max=True\n",
        ")\n",
        "\n",
        "pandas_alive.animate_multiple_plots(\n",
        "    \"life-expectancy.gif\",\n",
        "    plots=[animated_bar_chart, animated_line_chart],\n",
        "    title=\"Life expectancy in G7 countries up to 2015\",\n",
        "    adjust_subplot_left=0.2, adjust_subplot_top=0.9\n",
        ")"
      ],
      "execution_count": null,
      "outputs": [
        {
          "output_type": "stream",
          "text": [
            "Generating BarChartRace, plotting ['Canada', 'France', 'Germany', 'Italy', 'Japan', 'United Kingdom', 'United States']\n",
            "Generating LineChart, plotting ['Canada', 'France', 'Germany', 'Italy', 'Japan', 'United Kingdom', 'United States']\n"
          ],
          "name": "stdout"
        }
      ]
    }
  ]
}