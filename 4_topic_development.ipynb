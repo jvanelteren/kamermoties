{
  "nbformat": 4,
  "nbformat_minor": 0,
  "metadata": {
    "kernelspec": {
      "name": "python3",
      "display_name": "Python 3.7.3 64-bit (conda)",
      "metadata": {
        "interpreter": {
          "hash": "ecf5722fdaf1897a315d257d89d94520bfcaa453217d5becf09b39e73618b0de"
        }
      }
    },
    "language_info": {
      "codemirror_mode": {
        "name": "ipython",
        "version": 3
      },
      "file_extension": ".py",
      "mimetype": "text/x-python",
      "name": "python",
      "nbconvert_exporter": "python",
      "pygments_lexer": "ipython3",
      "version": "3.7.3-final"
    },
    "colab": {
      "name": "Copy of 4_topic_development.ipynb",
      "provenance": [],
      "collapsed_sections": []
    }
  },
  "cells": [
    {
      "cell_type": "code",
      "metadata": {
        "id": "wZgtP-zt89Fp"
      },
      "source": [
        "# First: pip install wheel\n",
        "# Next: Download Numpy and Scipy form Gholke's repo Numpy and SciPy\n",
        "# Then:\n",
        "# pip install numpy_package.whl\n",
        "# pip install scipy_package.whl\n",
        "# https://towardsdatascience.com/6-tips-to-optimize-an-nlp-topic-model-for-interpretability-20742f3047e2"
      ],
      "execution_count": null,
      "outputs": []
    },
    {
      "cell_type": "code",
      "metadata": {
        "id": "neeXHs3Q89GG"
      },
      "source": [
        "# hide\n",
        "from pathlib import Path\n",
        "import numpy as np\n",
        "import pandas as pd\n",
        "import pickle"
      ],
      "execution_count": 3,
      "outputs": []
    },
    {
      "cell_type": "code",
      "metadata": {
        "id": "O6R_pFov89GI"
      },
      "source": [
        "# hide\n",
        "DATA_DIR = Path('data')\n",
        "def load(filename):\n",
        "    f = open(DATA_DIR/filename,\"rb\")\n",
        "    return pickle.load(f)\n",
        "    \n",
        "def save(data, filename):\n",
        "    with open(DATA_DIR/filename, 'wb') as handle:\n",
        "        pickle.dump(data, handle, protocol=pickle.HIGHEST_PROTOCOL)\n",
        "\n",
        "\n",
        "party_colors = {\n",
        "  'CDA':'#5cb957',\n",
        "  'ChristenUnie':'#00a5e8',\n",
        "  'D66':'#04a438',\n",
        "  'GroenLinks':'#48a641',\n",
        "  'PVV':'#002759',\n",
        "  'PvdA':'#df111a',\n",
        "  'PvdD':'#006b2d',\n",
        "  'SGP':'#d86120',\n",
        "  'SP':'#e3001b',\n",
        "  'VVD':'#ff7f0e',\n",
        "  'DENK':'#17becf',\n",
        "  'FVD':'#800000',\n",
        "  'Groep Krol/vKA':'pink'}"
      ],
      "execution_count": 6,
      "outputs": []
    },
    {
      "cell_type": "code",
      "metadata": {
        "id": "ZeY_vMsV89GK",
        "colab": {
          "base_uri": "https://localhost:8080/"
        },
        "outputId": "4532100e-8646-4c84-8e60-79bdae35505f"
      },
      "source": [
        "# hide\n",
        "df = load(\"df_including_topics_full.pickle\")\n",
        "print(len(df))"
      ],
      "execution_count": 8,
      "outputs": [
        {
          "output_type": "stream",
          "name": "stdout",
          "text": [
            "29484\n"
          ]
        }
      ]
    },
    {
      "cell_type": "code",
      "metadata": {
        "colab": {
          "base_uri": "https://localhost:8080/"
        },
        "id": "yPIXhJglzQiX",
        "outputId": "78584c35-0ecb-46b1-eb86-33d6108d3f8d"
      },
      "source": [
        "# hide\n",
        "def get_largest_parties_chamber(chamber='Rutte III',top=False):\n",
        "    tmp = df[df['Kamer']== chamber]\n",
        "    parties = [p for p in tmp.columns if 'Aantal_stemmen' in p][1:]\n",
        "    tmp = tmp[parties].mean().sort_values(ascending=False)\n",
        "    tmp = tmp[tmp.notna()]\n",
        "    tmp.index = tmp.index.str[15:]\n",
        "    if top: return tmp[:top].index\n",
        "    else: return tmp.index\n",
        "parties = list(get_largest_parties_chamber(top=12))\n",
        "parties"
      ],
      "execution_count": 34,
      "outputs": [
        {
          "output_type": "execute_result",
          "data": {
            "text/plain": [
              "['VVD',\n",
              " 'PVV',\n",
              " 'CDA',\n",
              " 'D66',\n",
              " 'GroenLinks',\n",
              " 'SP',\n",
              " 'PvdA',\n",
              " 'ChristenUnie',\n",
              " 'PvdD',\n",
              " 'DENK',\n",
              " 'SGP',\n",
              " 'FVD']"
            ]
          },
          "metadata": {},
          "execution_count": 34
        }
      ]
    },
    {
      "cell_type": "markdown",
      "metadata": {
        "id": "_1yrT8u3_nH1"
      },
      "source": [
        "## Over welke onderwerpen worden het meeste moties ingediend?"
      ]
    },
    {
      "cell_type": "code",
      "metadata": {
        "id": "niHfH50pC4ND",
        "colab": {
          "base_uri": "https://localhost:8080/",
          "height": 307
        },
        "outputId": "a9c71b6b-3488-47b2-d289-8a9c5d4c972c"
      },
      "source": [
        "# hide_input\n",
        "# df.groupby(['Jaar', 'Topic']).size().unstack(fill_value=0)\n",
        "source = df.groupby(['Jaar', 'Topic']).size().reset_index()\n",
        "source = source.rename(columns={0:'Aantal moties'})\n",
        "source.head()\n",
        "\n",
        "# Overview of topic distribution over all years\n",
        "import altair as alt\n",
        "alt.Chart(source).mark_bar().encode(\n",
        "    x=alt.X('Aantal moties:Q', stack='normalize',axis=alt.Axis(format='%')),\n",
        "    y='Jaar:O',\n",
        "    color=alt.Color('Topic:N',sort=alt.EncodingSortField('Aantal moties', order='descending'))\n",
        "    # order=alt.Order('Aantal moties:Q',sort='descending')\n",
        "\n",
        ")"
      ],
      "execution_count": 16,
      "outputs": [
        {
          "output_type": "execute_result",
          "data": {
            "text/html": "\n<div id=\"altair-viz-e6946a4411e64224aaa57d2a28dd99df\"></div>\n<script type=\"text/javascript\">\n  (function(spec, embedOpt){\n    let outputDiv = document.currentScript.previousElementSibling;\n    if (outputDiv.id !== \"altair-viz-e6946a4411e64224aaa57d2a28dd99df\") {\n      outputDiv = document.getElementById(\"altair-viz-e6946a4411e64224aaa57d2a28dd99df\");\n    }\n    const paths = {\n      \"vega\": \"https://cdn.jsdelivr.net/npm//vega@5?noext\",\n      \"vega-lib\": \"https://cdn.jsdelivr.net/npm//vega-lib?noext\",\n      \"vega-lite\": \"https://cdn.jsdelivr.net/npm//vega-lite@4.8.1?noext\",\n      \"vega-embed\": \"https://cdn.jsdelivr.net/npm//vega-embed@6?noext\",\n    };\n\n    function loadScript(lib) {\n      return new Promise(function(resolve, reject) {\n        var s = document.createElement('script');\n        s.src = paths[lib];\n        s.async = true;\n        s.onload = () => resolve(paths[lib]);\n        s.onerror = () => reject(`Error loading script: ${paths[lib]}`);\n        document.getElementsByTagName(\"head\")[0].appendChild(s);\n      });\n    }\n\n    function showError(err) {\n      outputDiv.innerHTML = `<div class=\"error\" style=\"color:red;\">${err}</div>`;\n      throw err;\n    }\n\n    function displayChart(vegaEmbed) {\n      vegaEmbed(outputDiv, spec, embedOpt)\n        .catch(err => showError(`Javascript Error: ${err.message}<br>This usually means there's a typo in your chart specification. See the javascript console for the full traceback.`));\n    }\n\n    if(typeof define === \"function\" && define.amd) {\n      requirejs.config({paths});\n      require([\"vega-embed\"], displayChart, err => showError(`Error loading script: ${err.message}`));\n    } else if (typeof vegaEmbed === \"function\") {\n      displayChart(vegaEmbed);\n    } else {\n      loadScript(\"vega\")\n        .then(() => loadScript(\"vega-lite\"))\n        .then(() => loadScript(\"vega-embed\"))\n        .catch(showError)\n        .then(() => displayChart(vegaEmbed));\n    }\n  })({\"config\": {\"view\": {\"continuousWidth\": 400, \"continuousHeight\": 300}}, \"data\": {\"name\": \"data-c89bb44a9407d1622ef0940b1c58874b\"}, \"mark\": \"bar\", \"encoding\": {\"color\": {\"type\": \"nominal\", \"field\": \"Topic\", \"sort\": {\"field\": \"Aantal moties\", \"order\": \"descending\"}}, \"x\": {\"type\": \"quantitative\", \"axis\": {\"format\": \"%\"}, \"field\": \"Aantal moties\", \"stack\": \"normalize\"}, \"y\": {\"type\": \"ordinal\", \"field\": \"Jaar\"}}, \"$schema\": \"https://vega.github.io/schema/vega-lite/v4.8.1.json\", \"datasets\": {\"data-c89bb44a9407d1622ef0940b1c58874b\": [{\"Jaar\": 2009, \"Topic\": \"a\", \"Aantal moties\": 146}, {\"Jaar\": 2009, \"Topic\": \"b\", \"Aantal moties\": 157}, {\"Jaar\": 2009, \"Topic\": \"c\", \"Aantal moties\": 105}, {\"Jaar\": 2009, \"Topic\": \"d\", \"Aantal moties\": 47}, {\"Jaar\": 2009, \"Topic\": \"e\", \"Aantal moties\": 136}, {\"Jaar\": 2009, \"Topic\": \"f\", \"Aantal moties\": 139}, {\"Jaar\": 2009, \"Topic\": \"g\", \"Aantal moties\": 128}, {\"Jaar\": 2009, \"Topic\": \"h\", \"Aantal moties\": 135}, {\"Jaar\": 2009, \"Topic\": \"i\", \"Aantal moties\": 104}, {\"Jaar\": 2009, \"Topic\": \"j\", \"Aantal moties\": 90}, {\"Jaar\": 2009, \"Topic\": \"k\", \"Aantal moties\": 87}, {\"Jaar\": 2009, \"Topic\": \"l\", \"Aantal moties\": 143}, {\"Jaar\": 2009, \"Topic\": \"m\", \"Aantal moties\": 135}, {\"Jaar\": 2009, \"Topic\": \"n\", \"Aantal moties\": 135}, {\"Jaar\": 2009, \"Topic\": \"o\", \"Aantal moties\": 77}, {\"Jaar\": 2009, \"Topic\": \"p\", \"Aantal moties\": 87}, {\"Jaar\": 2009, \"Topic\": \"q\", \"Aantal moties\": 46}, {\"Jaar\": 2009, \"Topic\": \"qq\", \"Aantal moties\": 36}, {\"Jaar\": 2009, \"Topic\": \"r\", \"Aantal moties\": 51}, {\"Jaar\": 2009, \"Topic\": \"s\", \"Aantal moties\": 97}, {\"Jaar\": 2010, \"Topic\": \"a\", \"Aantal moties\": 110}, {\"Jaar\": 2010, \"Topic\": \"b\", \"Aantal moties\": 71}, {\"Jaar\": 2010, \"Topic\": \"c\", \"Aantal moties\": 67}, {\"Jaar\": 2010, \"Topic\": \"d\", \"Aantal moties\": 44}, {\"Jaar\": 2010, \"Topic\": \"e\", \"Aantal moties\": 62}, {\"Jaar\": 2010, \"Topic\": \"f\", \"Aantal moties\": 132}, {\"Jaar\": 2010, \"Topic\": \"g\", \"Aantal moties\": 101}, {\"Jaar\": 2010, \"Topic\": \"h\", \"Aantal moties\": 134}, {\"Jaar\": 2010, \"Topic\": \"i\", \"Aantal moties\": 63}, {\"Jaar\": 2010, \"Topic\": \"j\", \"Aantal moties\": 60}, {\"Jaar\": 2010, \"Topic\": \"k\", \"Aantal moties\": 54}, {\"Jaar\": 2010, \"Topic\": \"l\", \"Aantal moties\": 76}, {\"Jaar\": 2010, \"Topic\": \"m\", \"Aantal moties\": 59}, {\"Jaar\": 2010, \"Topic\": \"n\", \"Aantal moties\": 65}, {\"Jaar\": 2010, \"Topic\": \"o\", \"Aantal moties\": 57}, {\"Jaar\": 2010, \"Topic\": \"p\", \"Aantal moties\": 48}, {\"Jaar\": 2010, \"Topic\": \"q\", \"Aantal moties\": 35}, {\"Jaar\": 2010, \"Topic\": \"qq\", \"Aantal moties\": 36}, {\"Jaar\": 2010, \"Topic\": \"r\", \"Aantal moties\": 30}, {\"Jaar\": 2010, \"Topic\": \"s\", \"Aantal moties\": 35}, {\"Jaar\": 2011, \"Topic\": \"a\", \"Aantal moties\": 249}, {\"Jaar\": 2011, \"Topic\": \"b\", \"Aantal moties\": 182}, {\"Jaar\": 2011, \"Topic\": \"c\", \"Aantal moties\": 192}, {\"Jaar\": 2011, \"Topic\": \"d\", \"Aantal moties\": 93}, {\"Jaar\": 2011, \"Topic\": \"e\", \"Aantal moties\": 131}, {\"Jaar\": 2011, \"Topic\": \"f\", \"Aantal moties\": 211}, {\"Jaar\": 2011, \"Topic\": \"g\", \"Aantal moties\": 186}, {\"Jaar\": 2011, \"Topic\": \"h\", \"Aantal moties\": 160}, {\"Jaar\": 2011, \"Topic\": \"i\", \"Aantal moties\": 147}, {\"Jaar\": 2011, \"Topic\": \"j\", \"Aantal moties\": 107}, {\"Jaar\": 2011, \"Topic\": \"k\", \"Aantal moties\": 147}, {\"Jaar\": 2011, \"Topic\": \"l\", \"Aantal moties\": 168}, {\"Jaar\": 2011, \"Topic\": \"m\", \"Aantal moties\": 148}, {\"Jaar\": 2011, \"Topic\": \"n\", \"Aantal moties\": 66}, {\"Jaar\": 2011, \"Topic\": \"o\", \"Aantal moties\": 147}, {\"Jaar\": 2011, \"Topic\": \"p\", \"Aantal moties\": 97}, {\"Jaar\": 2011, \"Topic\": \"q\", \"Aantal moties\": 103}, {\"Jaar\": 2011, \"Topic\": \"qq\", \"Aantal moties\": 59}, {\"Jaar\": 2011, \"Topic\": \"r\", \"Aantal moties\": 82}, {\"Jaar\": 2011, \"Topic\": \"s\", \"Aantal moties\": 130}, {\"Jaar\": 2012, \"Topic\": \"a\", \"Aantal moties\": 120}, {\"Jaar\": 2012, \"Topic\": \"b\", \"Aantal moties\": 114}, {\"Jaar\": 2012, \"Topic\": \"c\", \"Aantal moties\": 138}, {\"Jaar\": 2012, \"Topic\": \"d\", \"Aantal moties\": 42}, {\"Jaar\": 2012, \"Topic\": \"e\", \"Aantal moties\": 96}, {\"Jaar\": 2012, \"Topic\": \"f\", \"Aantal moties\": 95}, {\"Jaar\": 2012, \"Topic\": \"g\", \"Aantal moties\": 102}, {\"Jaar\": 2012, \"Topic\": \"h\", \"Aantal moties\": 129}, {\"Jaar\": 2012, \"Topic\": \"i\", \"Aantal moties\": 59}, {\"Jaar\": 2012, \"Topic\": \"j\", \"Aantal moties\": 96}, {\"Jaar\": 2012, \"Topic\": \"k\", \"Aantal moties\": 89}, {\"Jaar\": 2012, \"Topic\": \"l\", \"Aantal moties\": 71}, {\"Jaar\": 2012, \"Topic\": \"m\", \"Aantal moties\": 96}, {\"Jaar\": 2012, \"Topic\": \"n\", \"Aantal moties\": 80}, {\"Jaar\": 2012, \"Topic\": \"o\", \"Aantal moties\": 62}, {\"Jaar\": 2012, \"Topic\": \"p\", \"Aantal moties\": 78}, {\"Jaar\": 2012, \"Topic\": \"q\", \"Aantal moties\": 47}, {\"Jaar\": 2012, \"Topic\": \"qq\", \"Aantal moties\": 62}, {\"Jaar\": 2012, \"Topic\": \"r\", \"Aantal moties\": 45}, {\"Jaar\": 2012, \"Topic\": \"s\", \"Aantal moties\": 56}, {\"Jaar\": 2013, \"Topic\": \"a\", \"Aantal moties\": 170}, {\"Jaar\": 2013, \"Topic\": \"b\", \"Aantal moties\": 118}, {\"Jaar\": 2013, \"Topic\": \"c\", \"Aantal moties\": 150}, {\"Jaar\": 2013, \"Topic\": \"d\", \"Aantal moties\": 127}, {\"Jaar\": 2013, \"Topic\": \"e\", \"Aantal moties\": 169}, {\"Jaar\": 2013, \"Topic\": \"f\", \"Aantal moties\": 135}, {\"Jaar\": 2013, \"Topic\": \"g\", \"Aantal moties\": 208}, {\"Jaar\": 2013, \"Topic\": \"h\", \"Aantal moties\": 146}, {\"Jaar\": 2013, \"Topic\": \"i\", \"Aantal moties\": 121}, {\"Jaar\": 2013, \"Topic\": \"j\", \"Aantal moties\": 104}, {\"Jaar\": 2013, \"Topic\": \"k\", \"Aantal moties\": 76}, {\"Jaar\": 2013, \"Topic\": \"l\", \"Aantal moties\": 91}, {\"Jaar\": 2013, \"Topic\": \"m\", \"Aantal moties\": 132}, {\"Jaar\": 2013, \"Topic\": \"n\", \"Aantal moties\": 113}, {\"Jaar\": 2013, \"Topic\": \"o\", \"Aantal moties\": 92}, {\"Jaar\": 2013, \"Topic\": \"p\", \"Aantal moties\": 92}, {\"Jaar\": 2013, \"Topic\": \"q\", \"Aantal moties\": 60}, {\"Jaar\": 2013, \"Topic\": \"qq\", \"Aantal moties\": 74}, {\"Jaar\": 2013, \"Topic\": \"r\", \"Aantal moties\": 80}, {\"Jaar\": 2013, \"Topic\": \"s\", \"Aantal moties\": 55}, {\"Jaar\": 2014, \"Topic\": \"a\", \"Aantal moties\": 145}, {\"Jaar\": 2014, \"Topic\": \"b\", \"Aantal moties\": 122}, {\"Jaar\": 2014, \"Topic\": \"c\", \"Aantal moties\": 190}, {\"Jaar\": 2014, \"Topic\": \"d\", \"Aantal moties\": 160}, {\"Jaar\": 2014, \"Topic\": \"e\", \"Aantal moties\": 126}, {\"Jaar\": 2014, \"Topic\": \"f\", \"Aantal moties\": 120}, {\"Jaar\": 2014, \"Topic\": \"g\", \"Aantal moties\": 130}, {\"Jaar\": 2014, \"Topic\": \"h\", \"Aantal moties\": 139}, {\"Jaar\": 2014, \"Topic\": \"i\", \"Aantal moties\": 145}, {\"Jaar\": 2014, \"Topic\": \"j\", \"Aantal moties\": 113}, {\"Jaar\": 2014, \"Topic\": \"k\", \"Aantal moties\": 79}, {\"Jaar\": 2014, \"Topic\": \"l\", \"Aantal moties\": 106}, {\"Jaar\": 2014, \"Topic\": \"m\", \"Aantal moties\": 106}, {\"Jaar\": 2014, \"Topic\": \"n\", \"Aantal moties\": 90}, {\"Jaar\": 2014, \"Topic\": \"o\", \"Aantal moties\": 91}, {\"Jaar\": 2014, \"Topic\": \"p\", \"Aantal moties\": 53}, {\"Jaar\": 2014, \"Topic\": \"q\", \"Aantal moties\": 76}, {\"Jaar\": 2014, \"Topic\": \"qq\", \"Aantal moties\": 51}, {\"Jaar\": 2014, \"Topic\": \"r\", \"Aantal moties\": 76}, {\"Jaar\": 2014, \"Topic\": \"s\", \"Aantal moties\": 26}, {\"Jaar\": 2015, \"Topic\": \"a\", \"Aantal moties\": 179}, {\"Jaar\": 2015, \"Topic\": \"b\", \"Aantal moties\": 159}, {\"Jaar\": 2015, \"Topic\": \"c\", \"Aantal moties\": 190}, {\"Jaar\": 2015, \"Topic\": \"d\", \"Aantal moties\": 227}, {\"Jaar\": 2015, \"Topic\": \"e\", \"Aantal moties\": 154}, {\"Jaar\": 2015, \"Topic\": \"f\", \"Aantal moties\": 103}, {\"Jaar\": 2015, \"Topic\": \"g\", \"Aantal moties\": 103}, {\"Jaar\": 2015, \"Topic\": \"h\", \"Aantal moties\": 119}, {\"Jaar\": 2015, \"Topic\": \"i\", \"Aantal moties\": 186}, {\"Jaar\": 2015, \"Topic\": \"j\", \"Aantal moties\": 156}, {\"Jaar\": 2015, \"Topic\": \"k\", \"Aantal moties\": 80}, {\"Jaar\": 2015, \"Topic\": \"l\", \"Aantal moties\": 113}, {\"Jaar\": 2015, \"Topic\": \"m\", \"Aantal moties\": 153}, {\"Jaar\": 2015, \"Topic\": \"n\", \"Aantal moties\": 174}, {\"Jaar\": 2015, \"Topic\": \"o\", \"Aantal moties\": 151}, {\"Jaar\": 2015, \"Topic\": \"p\", \"Aantal moties\": 68}, {\"Jaar\": 2015, \"Topic\": \"q\", \"Aantal moties\": 121}, {\"Jaar\": 2015, \"Topic\": \"qq\", \"Aantal moties\": 95}, {\"Jaar\": 2015, \"Topic\": \"r\", \"Aantal moties\": 96}, {\"Jaar\": 2015, \"Topic\": \"s\", \"Aantal moties\": 76}, {\"Jaar\": 2016, \"Topic\": \"a\", \"Aantal moties\": 175}, {\"Jaar\": 2016, \"Topic\": \"b\", \"Aantal moties\": 161}, {\"Jaar\": 2016, \"Topic\": \"c\", \"Aantal moties\": 129}, {\"Jaar\": 2016, \"Topic\": \"d\", \"Aantal moties\": 224}, {\"Jaar\": 2016, \"Topic\": \"e\", \"Aantal moties\": 175}, {\"Jaar\": 2016, \"Topic\": \"f\", \"Aantal moties\": 151}, {\"Jaar\": 2016, \"Topic\": \"g\", \"Aantal moties\": 125}, {\"Jaar\": 2016, \"Topic\": \"h\", \"Aantal moties\": 132}, {\"Jaar\": 2016, \"Topic\": \"i\", \"Aantal moties\": 174}, {\"Jaar\": 2016, \"Topic\": \"j\", \"Aantal moties\": 151}, {\"Jaar\": 2016, \"Topic\": \"k\", \"Aantal moties\": 69}, {\"Jaar\": 2016, \"Topic\": \"l\", \"Aantal moties\": 113}, {\"Jaar\": 2016, \"Topic\": \"m\", \"Aantal moties\": 82}, {\"Jaar\": 2016, \"Topic\": \"n\", \"Aantal moties\": 135}, {\"Jaar\": 2016, \"Topic\": \"o\", \"Aantal moties\": 90}, {\"Jaar\": 2016, \"Topic\": \"p\", \"Aantal moties\": 111}, {\"Jaar\": 2016, \"Topic\": \"q\", \"Aantal moties\": 124}, {\"Jaar\": 2016, \"Topic\": \"qq\", \"Aantal moties\": 119}, {\"Jaar\": 2016, \"Topic\": \"r\", \"Aantal moties\": 122}, {\"Jaar\": 2016, \"Topic\": \"s\", \"Aantal moties\": 53}, {\"Jaar\": 2017, \"Topic\": \"a\", \"Aantal moties\": 116}, {\"Jaar\": 2017, \"Topic\": \"b\", \"Aantal moties\": 124}, {\"Jaar\": 2017, \"Topic\": \"c\", \"Aantal moties\": 112}, {\"Jaar\": 2017, \"Topic\": \"d\", \"Aantal moties\": 169}, {\"Jaar\": 2017, \"Topic\": \"e\", \"Aantal moties\": 137}, {\"Jaar\": 2017, \"Topic\": \"f\", \"Aantal moties\": 92}, {\"Jaar\": 2017, \"Topic\": \"g\", \"Aantal moties\": 103}, {\"Jaar\": 2017, \"Topic\": \"h\", \"Aantal moties\": 55}, {\"Jaar\": 2017, \"Topic\": \"i\", \"Aantal moties\": 102}, {\"Jaar\": 2017, \"Topic\": \"j\", \"Aantal moties\": 129}, {\"Jaar\": 2017, \"Topic\": \"k\", \"Aantal moties\": 59}, {\"Jaar\": 2017, \"Topic\": \"l\", \"Aantal moties\": 122}, {\"Jaar\": 2017, \"Topic\": \"m\", \"Aantal moties\": 69}, {\"Jaar\": 2017, \"Topic\": \"n\", \"Aantal moties\": 75}, {\"Jaar\": 2017, \"Topic\": \"o\", \"Aantal moties\": 66}, {\"Jaar\": 2017, \"Topic\": \"p\", \"Aantal moties\": 75}, {\"Jaar\": 2017, \"Topic\": \"q\", \"Aantal moties\": 69}, {\"Jaar\": 2017, \"Topic\": \"qq\", \"Aantal moties\": 52}, {\"Jaar\": 2017, \"Topic\": \"r\", \"Aantal moties\": 76}, {\"Jaar\": 2017, \"Topic\": \"s\", \"Aantal moties\": 38}, {\"Jaar\": 2018, \"Topic\": \"a\", \"Aantal moties\": 234}, {\"Jaar\": 2018, \"Topic\": \"b\", \"Aantal moties\": 327}, {\"Jaar\": 2018, \"Topic\": \"c\", \"Aantal moties\": 206}, {\"Jaar\": 2018, \"Topic\": \"d\", \"Aantal moties\": 294}, {\"Jaar\": 2018, \"Topic\": \"e\", \"Aantal moties\": 193}, {\"Jaar\": 2018, \"Topic\": \"f\", \"Aantal moties\": 112}, {\"Jaar\": 2018, \"Topic\": \"g\", \"Aantal moties\": 154}, {\"Jaar\": 2018, \"Topic\": \"h\", \"Aantal moties\": 110}, {\"Jaar\": 2018, \"Topic\": \"i\", \"Aantal moties\": 104}, {\"Jaar\": 2018, \"Topic\": \"j\", \"Aantal moties\": 144}, {\"Jaar\": 2018, \"Topic\": \"k\", \"Aantal moties\": 123}, {\"Jaar\": 2018, \"Topic\": \"l\", \"Aantal moties\": 139}, {\"Jaar\": 2018, \"Topic\": \"m\", \"Aantal moties\": 130}, {\"Jaar\": 2018, \"Topic\": \"n\", \"Aantal moties\": 90}, {\"Jaar\": 2018, \"Topic\": \"o\", \"Aantal moties\": 127}, {\"Jaar\": 2018, \"Topic\": \"p\", \"Aantal moties\": 141}, {\"Jaar\": 2018, \"Topic\": \"q\", \"Aantal moties\": 135}, {\"Jaar\": 2018, \"Topic\": \"qq\", \"Aantal moties\": 162}, {\"Jaar\": 2018, \"Topic\": \"r\", \"Aantal moties\": 81}, {\"Jaar\": 2018, \"Topic\": \"s\", \"Aantal moties\": 106}, {\"Jaar\": 2019, \"Topic\": \"a\", \"Aantal moties\": 253}, {\"Jaar\": 2019, \"Topic\": \"b\", \"Aantal moties\": 261}, {\"Jaar\": 2019, \"Topic\": \"c\", \"Aantal moties\": 224}, {\"Jaar\": 2019, \"Topic\": \"d\", \"Aantal moties\": 261}, {\"Jaar\": 2019, \"Topic\": \"e\", \"Aantal moties\": 237}, {\"Jaar\": 2019, \"Topic\": \"f\", \"Aantal moties\": 173}, {\"Jaar\": 2019, \"Topic\": \"g\", \"Aantal moties\": 139}, {\"Jaar\": 2019, \"Topic\": \"h\", \"Aantal moties\": 152}, {\"Jaar\": 2019, \"Topic\": \"i\", \"Aantal moties\": 120}, {\"Jaar\": 2019, \"Topic\": \"j\", \"Aantal moties\": 161}, {\"Jaar\": 2019, \"Topic\": \"k\", \"Aantal moties\": 244}, {\"Jaar\": 2019, \"Topic\": \"l\", \"Aantal moties\": 134}, {\"Jaar\": 2019, \"Topic\": \"m\", \"Aantal moties\": 86}, {\"Jaar\": 2019, \"Topic\": \"n\", \"Aantal moties\": 116}, {\"Jaar\": 2019, \"Topic\": \"o\", \"Aantal moties\": 166}, {\"Jaar\": 2019, \"Topic\": \"p\", \"Aantal moties\": 189}, {\"Jaar\": 2019, \"Topic\": \"q\", \"Aantal moties\": 163}, {\"Jaar\": 2019, \"Topic\": \"qq\", \"Aantal moties\": 138}, {\"Jaar\": 2019, \"Topic\": \"r\", \"Aantal moties\": 118}, {\"Jaar\": 2019, \"Topic\": \"s\", \"Aantal moties\": 91}, {\"Jaar\": 2020, \"Topic\": \"a\", \"Aantal moties\": 228}, {\"Jaar\": 2020, \"Topic\": \"b\", \"Aantal moties\": 220}, {\"Jaar\": 2020, \"Topic\": \"c\", \"Aantal moties\": 276}, {\"Jaar\": 2020, \"Topic\": \"d\", \"Aantal moties\": 210}, {\"Jaar\": 2020, \"Topic\": \"e\", \"Aantal moties\": 211}, {\"Jaar\": 2020, \"Topic\": \"f\", \"Aantal moties\": 145}, {\"Jaar\": 2020, \"Topic\": \"g\", \"Aantal moties\": 104}, {\"Jaar\": 2020, \"Topic\": \"h\", \"Aantal moties\": 131}, {\"Jaar\": 2020, \"Topic\": \"i\", \"Aantal moties\": 189}, {\"Jaar\": 2020, \"Topic\": \"j\", \"Aantal moties\": 132}, {\"Jaar\": 2020, \"Topic\": \"k\", \"Aantal moties\": 281}, {\"Jaar\": 2020, \"Topic\": \"l\", \"Aantal moties\": 105}, {\"Jaar\": 2020, \"Topic\": \"m\", \"Aantal moties\": 174}, {\"Jaar\": 2020, \"Topic\": \"n\", \"Aantal moties\": 152}, {\"Jaar\": 2020, \"Topic\": \"o\", \"Aantal moties\": 121}, {\"Jaar\": 2020, \"Topic\": \"p\", \"Aantal moties\": 202}, {\"Jaar\": 2020, \"Topic\": \"q\", \"Aantal moties\": 174}, {\"Jaar\": 2020, \"Topic\": \"qq\", \"Aantal moties\": 166}, {\"Jaar\": 2020, \"Topic\": \"r\", \"Aantal moties\": 114}, {\"Jaar\": 2020, \"Topic\": \"s\", \"Aantal moties\": 94}]}}, {\"mode\": \"vega-lite\"});\n</script>",
            "text/plain": [
              "alt.Chart(...)"
            ]
          },
          "metadata": {},
          "execution_count": 16
        }
      ]
    },
    {
      "cell_type": "markdown",
      "metadata": {
        "id": "aGjs8coD_4gc"
      },
      "source": [
        "## Meest actieve partijen per onderwerp"
      ]
    },
    {
      "cell_type": "code",
      "metadata": {
        "id": "GybEQ5UwCTRN",
        "colab": {
          "base_uri": "https://localhost:8080/",
          "height": 164
        },
        "outputId": "7bdc9f62-506f-475a-f96d-428343318402"
      },
      "source": [
        "# # Overview of topic 'owner' throughout the years\n",
        "selected_topic = 'b'\n",
        "source = df[df['Topic'] == selected_topic]\n",
        "source = source[['Jaar','Indienende_partij','Titel']].groupby(['Jaar', 'Indienende_partij']).count().reset_index()\n",
        "source = source.rename(columns={'Titel':'Aantal'})\n",
        "\n",
        "alt.Chart(source).mark_bar().encode(\n",
        "    x = alt.X('Aantal:Q', stack='normalize',sort=alt.SortField(field=\"Aantal\", order='ascending'),axis=alt.Axis(format='%')),\n",
        "    y = 'Jaar:O',\n",
        "    color=alt.Color(\"Indienende_partij\", \n",
        "                      scale = alt.Scale(domain=parties,range= [party_colors[p] for p in parties])),\n",
        "    order=alt.Order('Aantal:Q',sort='descending')\n",
        ").transform_filter(\n",
        "    alt.datum.Aantal > 10\n",
        ").configure_axis(\n",
        "    grid=False\n",
        ").configure_view(\n",
        "    strokeWidth=1\n",
        ").properties(width=300)"
      ],
      "execution_count": 36,
      "outputs": [
        {
          "output_type": "execute_result",
          "data": {
            "text/html": "\n<div id=\"altair-viz-92efa8226c1b4cdfa12f49a2463b030d\"></div>\n<script type=\"text/javascript\">\n  (function(spec, embedOpt){\n    let outputDiv = document.currentScript.previousElementSibling;\n    if (outputDiv.id !== \"altair-viz-92efa8226c1b4cdfa12f49a2463b030d\") {\n      outputDiv = document.getElementById(\"altair-viz-92efa8226c1b4cdfa12f49a2463b030d\");\n    }\n    const paths = {\n      \"vega\": \"https://cdn.jsdelivr.net/npm//vega@5?noext\",\n      \"vega-lib\": \"https://cdn.jsdelivr.net/npm//vega-lib?noext\",\n      \"vega-lite\": \"https://cdn.jsdelivr.net/npm//vega-lite@4.8.1?noext\",\n      \"vega-embed\": \"https://cdn.jsdelivr.net/npm//vega-embed@6?noext\",\n    };\n\n    function loadScript(lib) {\n      return new Promise(function(resolve, reject) {\n        var s = document.createElement('script');\n        s.src = paths[lib];\n        s.async = true;\n        s.onload = () => resolve(paths[lib]);\n        s.onerror = () => reject(`Error loading script: ${paths[lib]}`);\n        document.getElementsByTagName(\"head\")[0].appendChild(s);\n      });\n    }\n\n    function showError(err) {\n      outputDiv.innerHTML = `<div class=\"error\" style=\"color:red;\">${err}</div>`;\n      throw err;\n    }\n\n    function displayChart(vegaEmbed) {\n      vegaEmbed(outputDiv, spec, embedOpt)\n        .catch(err => showError(`Javascript Error: ${err.message}<br>This usually means there's a typo in your chart specification. See the javascript console for the full traceback.`));\n    }\n\n    if(typeof define === \"function\" && define.amd) {\n      requirejs.config({paths});\n      require([\"vega-embed\"], displayChart, err => showError(`Error loading script: ${err.message}`));\n    } else if (typeof vegaEmbed === \"function\") {\n      displayChart(vegaEmbed);\n    } else {\n      loadScript(\"vega\")\n        .then(() => loadScript(\"vega-lite\"))\n        .then(() => loadScript(\"vega-embed\"))\n        .catch(showError)\n        .then(() => displayChart(vegaEmbed));\n    }\n  })({\"config\": {\"view\": {\"continuousWidth\": 400, \"continuousHeight\": 300, \"strokeWidth\": 1}, \"axis\": {\"grid\": false}}, \"data\": {\"name\": \"data-9d101f40e26f765922c5719a7f408717\"}, \"mark\": \"bar\", \"encoding\": {\"color\": {\"type\": \"nominal\", \"field\": \"Indienende_partij\", \"scale\": {\"domain\": [\"VVD\", \"PVV\", \"CDA\", \"D66\", \"GroenLinks\", \"SP\", \"PvdA\", \"ChristenUnie\", \"PvdD\", \"DENK\", \"SGP\", \"FVD\"], \"range\": [\"#ff7f0e\", \"#002759\", \"#5cb957\", \"#04a438\", \"#48a641\", \"#e3001b\", \"#df111a\", \"#00a5e8\", \"#006b2d\", \"#17becf\", \"#d86120\", \"#800000\"]}}, \"order\": {\"type\": \"quantitative\", \"field\": \"Aantal\", \"sort\": \"descending\"}, \"x\": {\"type\": \"quantitative\", \"axis\": {\"format\": \"%\"}, \"field\": \"Aantal\", \"sort\": {\"field\": \"Aantal\", \"order\": \"ascending\"}, \"stack\": \"normalize\"}, \"y\": {\"type\": \"ordinal\", \"field\": \"Jaar\"}}, \"transform\": [{\"filter\": \"(datum.Aantal > 10)\"}], \"width\": 300, \"$schema\": \"https://vega.github.io/schema/vega-lite/v4.8.1.json\", \"datasets\": {\"data-9d101f40e26f765922c5719a7f408717\": [{\"Jaar\": 2009, \"Indienende_partij\": \"CDA\", \"Aantal\": 22}, {\"Jaar\": 2009, \"Indienende_partij\": \"ChristenUnie\", \"Aantal\": 23}, {\"Jaar\": 2009, \"Indienende_partij\": \"D66\", \"Aantal\": 8}, {\"Jaar\": 2009, \"Indienende_partij\": \"GroenLinks\", \"Aantal\": 19}, {\"Jaar\": 2009, \"Indienende_partij\": \"PVV\", \"Aantal\": 5}, {\"Jaar\": 2009, \"Indienende_partij\": \"PvdA\", \"Aantal\": 17}, {\"Jaar\": 2009, \"Indienende_partij\": \"PvdD\", \"Aantal\": 4}, {\"Jaar\": 2009, \"Indienende_partij\": \"SGP\", \"Aantal\": 1}, {\"Jaar\": 2009, \"Indienende_partij\": \"SP\", \"Aantal\": 42}, {\"Jaar\": 2009, \"Indienende_partij\": \"VVD\", \"Aantal\": 16}, {\"Jaar\": 2010, \"Indienende_partij\": \"CDA\", \"Aantal\": 10}, {\"Jaar\": 2010, \"Indienende_partij\": \"ChristenUnie\", \"Aantal\": 8}, {\"Jaar\": 2010, \"Indienende_partij\": \"D66\", \"Aantal\": 3}, {\"Jaar\": 2010, \"Indienende_partij\": \"GroenLinks\", \"Aantal\": 9}, {\"Jaar\": 2010, \"Indienende_partij\": \"PVV\", \"Aantal\": 4}, {\"Jaar\": 2010, \"Indienende_partij\": \"PvdA\", \"Aantal\": 14}, {\"Jaar\": 2010, \"Indienende_partij\": \"PvdD\", \"Aantal\": 3}, {\"Jaar\": 2010, \"Indienende_partij\": \"SGP\", \"Aantal\": 1}, {\"Jaar\": 2010, \"Indienende_partij\": \"SP\", \"Aantal\": 12}, {\"Jaar\": 2010, \"Indienende_partij\": \"VVD\", \"Aantal\": 7}, {\"Jaar\": 2011, \"Indienende_partij\": \"CDA\", \"Aantal\": 19}, {\"Jaar\": 2011, \"Indienende_partij\": \"ChristenUnie\", \"Aantal\": 19}, {\"Jaar\": 2011, \"Indienende_partij\": \"D66\", \"Aantal\": 32}, {\"Jaar\": 2011, \"Indienende_partij\": \"GroenLinks\", \"Aantal\": 27}, {\"Jaar\": 2011, \"Indienende_partij\": \"PVV\", \"Aantal\": 15}, {\"Jaar\": 2011, \"Indienende_partij\": \"PvdA\", \"Aantal\": 21}, {\"Jaar\": 2011, \"Indienende_partij\": \"PvdD\", \"Aantal\": 3}, {\"Jaar\": 2011, \"Indienende_partij\": \"SGP\", \"Aantal\": 1}, {\"Jaar\": 2011, \"Indienende_partij\": \"SP\", \"Aantal\": 37}, {\"Jaar\": 2011, \"Indienende_partij\": \"VVD\", \"Aantal\": 8}, {\"Jaar\": 2012, \"Indienende_partij\": \"CDA\", \"Aantal\": 14}, {\"Jaar\": 2012, \"Indienende_partij\": \"ChristenUnie\", \"Aantal\": 11}, {\"Jaar\": 2012, \"Indienende_partij\": \"D66\", \"Aantal\": 15}, {\"Jaar\": 2012, \"Indienende_partij\": \"GroenLinks\", \"Aantal\": 19}, {\"Jaar\": 2012, \"Indienende_partij\": \"PVV\", \"Aantal\": 7}, {\"Jaar\": 2012, \"Indienende_partij\": \"PvdA\", \"Aantal\": 6}, {\"Jaar\": 2012, \"Indienende_partij\": \"PvdD\", \"Aantal\": 8}, {\"Jaar\": 2012, \"Indienende_partij\": \"SGP\", \"Aantal\": 1}, {\"Jaar\": 2012, \"Indienende_partij\": \"SP\", \"Aantal\": 24}, {\"Jaar\": 2012, \"Indienende_partij\": \"VVD\", \"Aantal\": 9}, {\"Jaar\": 2013, \"Indienende_partij\": \"CDA\", \"Aantal\": 8}, {\"Jaar\": 2013, \"Indienende_partij\": \"ChristenUnie\", \"Aantal\": 19}, {\"Jaar\": 2013, \"Indienende_partij\": \"D66\", \"Aantal\": 13}, {\"Jaar\": 2013, \"Indienende_partij\": \"GroenLinks\", \"Aantal\": 16}, {\"Jaar\": 2013, \"Indienende_partij\": \"PVV\", \"Aantal\": 16}, {\"Jaar\": 2013, \"Indienende_partij\": \"PvdA\", \"Aantal\": 9}, {\"Jaar\": 2013, \"Indienende_partij\": \"PvdD\", \"Aantal\": 9}, {\"Jaar\": 2013, \"Indienende_partij\": \"SGP\", \"Aantal\": 1}, {\"Jaar\": 2013, \"Indienende_partij\": \"SP\", \"Aantal\": 21}, {\"Jaar\": 2013, \"Indienende_partij\": \"VVD\", \"Aantal\": 6}, {\"Jaar\": 2014, \"Indienende_partij\": \"CDA\", \"Aantal\": 11}, {\"Jaar\": 2014, \"Indienende_partij\": \"ChristenUnie\", \"Aantal\": 11}, {\"Jaar\": 2014, \"Indienende_partij\": \"D66\", \"Aantal\": 15}, {\"Jaar\": 2014, \"Indienende_partij\": \"GroenLinks\", \"Aantal\": 15}, {\"Jaar\": 2014, \"Indienende_partij\": \"PVV\", \"Aantal\": 11}, {\"Jaar\": 2014, \"Indienende_partij\": \"PvdA\", \"Aantal\": 16}, {\"Jaar\": 2014, \"Indienende_partij\": \"PvdD\", \"Aantal\": 15}, {\"Jaar\": 2014, \"Indienende_partij\": \"SGP\", \"Aantal\": 3}, {\"Jaar\": 2014, \"Indienende_partij\": \"SP\", \"Aantal\": 21}, {\"Jaar\": 2014, \"Indienende_partij\": \"VVD\", \"Aantal\": 4}, {\"Jaar\": 2015, \"Indienende_partij\": \"CDA\", \"Aantal\": 10}, {\"Jaar\": 2015, \"Indienende_partij\": \"ChristenUnie\", \"Aantal\": 20}, {\"Jaar\": 2015, \"Indienende_partij\": \"D66\", \"Aantal\": 18}, {\"Jaar\": 2015, \"Indienende_partij\": \"GroenLinks\", \"Aantal\": 19}, {\"Jaar\": 2015, \"Indienende_partij\": \"Klein\", \"Aantal\": 1}, {\"Jaar\": 2015, \"Indienende_partij\": \"PVV\", \"Aantal\": 13}, {\"Jaar\": 2015, \"Indienende_partij\": \"PvdA\", \"Aantal\": 34}, {\"Jaar\": 2015, \"Indienende_partij\": \"PvdD\", \"Aantal\": 6}, {\"Jaar\": 2015, \"Indienende_partij\": \"SGP\", \"Aantal\": 2}, {\"Jaar\": 2015, \"Indienende_partij\": \"SP\", \"Aantal\": 15}, {\"Jaar\": 2015, \"Indienende_partij\": \"VVD\", \"Aantal\": 21}, {\"Jaar\": 2016, \"Indienende_partij\": \"CDA\", \"Aantal\": 31}, {\"Jaar\": 2016, \"Indienende_partij\": \"ChristenUnie\", \"Aantal\": 8}, {\"Jaar\": 2016, \"Indienende_partij\": \"D66\", \"Aantal\": 27}, {\"Jaar\": 2016, \"Indienende_partij\": \"GrK\\u00d6\", \"Aantal\": 1}, {\"Jaar\": 2016, \"Indienende_partij\": \"GroenLinks\", \"Aantal\": 25}, {\"Jaar\": 2016, \"Indienende_partij\": \"PVV\", \"Aantal\": 7}, {\"Jaar\": 2016, \"Indienende_partij\": \"PvdA\", \"Aantal\": 23}, {\"Jaar\": 2016, \"Indienende_partij\": \"PvdD\", \"Aantal\": 3}, {\"Jaar\": 2016, \"Indienende_partij\": \"SP\", \"Aantal\": 11}, {\"Jaar\": 2016, \"Indienende_partij\": \"VVD\", \"Aantal\": 25}, {\"Jaar\": 2017, \"Indienende_partij\": \"50PLUS\", \"Aantal\": 4}, {\"Jaar\": 2017, \"Indienende_partij\": \"CDA\", \"Aantal\": 19}, {\"Jaar\": 2017, \"Indienende_partij\": \"ChristenUnie\", \"Aantal\": 10}, {\"Jaar\": 2017, \"Indienende_partij\": \"D66\", \"Aantal\": 14}, {\"Jaar\": 2017, \"Indienende_partij\": \"DENK\", \"Aantal\": 2}, {\"Jaar\": 2017, \"Indienende_partij\": \"GroenLinks\", \"Aantal\": 21}, {\"Jaar\": 2017, \"Indienende_partij\": \"PVV\", \"Aantal\": 6}, {\"Jaar\": 2017, \"Indienende_partij\": \"PvdA\", \"Aantal\": 4}, {\"Jaar\": 2017, \"Indienende_partij\": \"PvdD\", \"Aantal\": 13}, {\"Jaar\": 2017, \"Indienende_partij\": \"SGP\", \"Aantal\": 1}, {\"Jaar\": 2017, \"Indienende_partij\": \"SP\", \"Aantal\": 17}, {\"Jaar\": 2017, \"Indienende_partij\": \"VVD\", \"Aantal\": 13}, {\"Jaar\": 2018, \"Indienende_partij\": \"50PLUS\", \"Aantal\": 12}, {\"Jaar\": 2018, \"Indienende_partij\": \"CDA\", \"Aantal\": 30}, {\"Jaar\": 2018, \"Indienende_partij\": \"ChristenUnie\", \"Aantal\": 8}, {\"Jaar\": 2018, \"Indienende_partij\": \"D66\", \"Aantal\": 42}, {\"Jaar\": 2018, \"Indienende_partij\": \"DENK\", \"Aantal\": 1}, {\"Jaar\": 2018, \"Indienende_partij\": \"GroenLinks\", \"Aantal\": 63}, {\"Jaar\": 2018, \"Indienende_partij\": \"PVV\", \"Aantal\": 19}, {\"Jaar\": 2018, \"Indienende_partij\": \"PvdA\", \"Aantal\": 11}, {\"Jaar\": 2018, \"Indienende_partij\": \"PvdD\", \"Aantal\": 67}, {\"Jaar\": 2018, \"Indienende_partij\": \"SGP\", \"Aantal\": 6}, {\"Jaar\": 2018, \"Indienende_partij\": \"SP\", \"Aantal\": 48}, {\"Jaar\": 2018, \"Indienende_partij\": \"VVD\", \"Aantal\": 20}, {\"Jaar\": 2019, \"Indienende_partij\": \"50PLUS\", \"Aantal\": 10}, {\"Jaar\": 2019, \"Indienende_partij\": \"CDA\", \"Aantal\": 34}, {\"Jaar\": 2019, \"Indienende_partij\": \"ChristenUnie\", \"Aantal\": 7}, {\"Jaar\": 2019, \"Indienende_partij\": \"D66\", \"Aantal\": 24}, {\"Jaar\": 2019, \"Indienende_partij\": \"FVD\", \"Aantal\": 2}, {\"Jaar\": 2019, \"Indienende_partij\": \"GroenLinks\", \"Aantal\": 59}, {\"Jaar\": 2019, \"Indienende_partij\": \"PVV\", \"Aantal\": 3}, {\"Jaar\": 2019, \"Indienende_partij\": \"PvdA\", \"Aantal\": 12}, {\"Jaar\": 2019, \"Indienende_partij\": \"PvdD\", \"Aantal\": 45}, {\"Jaar\": 2019, \"Indienende_partij\": \"SGP\", \"Aantal\": 6}, {\"Jaar\": 2019, \"Indienende_partij\": \"SP\", \"Aantal\": 37}, {\"Jaar\": 2019, \"Indienende_partij\": \"VVD\", \"Aantal\": 20}, {\"Jaar\": 2019, \"Indienende_partij\": \"Van Haga\", \"Aantal\": 1}, {\"Jaar\": 2019, \"Indienende_partij\": \"Van Kooten-Arissen\", \"Aantal\": 1}, {\"Jaar\": 2020, \"Indienende_partij\": \"50PLUS\", \"Aantal\": 3}, {\"Jaar\": 2020, \"Indienende_partij\": \"CDA\", \"Aantal\": 29}, {\"Jaar\": 2020, \"Indienende_partij\": \"ChristenUnie\", \"Aantal\": 12}, {\"Jaar\": 2020, \"Indienende_partij\": \"D66\", \"Aantal\": 30}, {\"Jaar\": 2020, \"Indienende_partij\": \"DENK\", \"Aantal\": 3}, {\"Jaar\": 2020, \"Indienende_partij\": \"GroenLinks\", \"Aantal\": 28}, {\"Jaar\": 2020, \"Indienende_partij\": \"Groep Krol/vKA\", \"Aantal\": 1}, {\"Jaar\": 2020, \"Indienende_partij\": \"PVV\", \"Aantal\": 3}, {\"Jaar\": 2020, \"Indienende_partij\": \"PvdA\", \"Aantal\": 11}, {\"Jaar\": 2020, \"Indienende_partij\": \"PvdD\", \"Aantal\": 36}, {\"Jaar\": 2020, \"Indienende_partij\": \"SGP\", \"Aantal\": 5}, {\"Jaar\": 2020, \"Indienende_partij\": \"SP\", \"Aantal\": 31}, {\"Jaar\": 2020, \"Indienende_partij\": \"VVD\", \"Aantal\": 21}, {\"Jaar\": 2020, \"Indienende_partij\": \"Van Haga\", \"Aantal\": 7}]}}, {\"mode\": \"vega-lite\"});\n</script>",
            "text/plain": [
              "alt.Chart(...)"
            ]
          },
          "metadata": {},
          "execution_count": 36
        }
      ]
    },
    {
      "cell_type": "markdown",
      "metadata": {
        "id": "Z1SZaKQWAKRi"
      },
      "source": [
        "## Hoofdonderwerpen per partij tijdens Rutte III"
      ]
    },
    {
      "cell_type": "code",
      "metadata": {
        "colab": {
          "base_uri": "https://localhost:8080/",
          "height": 411
        },
        "id": "s6P-WH069230",
        "outputId": "2d76b4a9-a0cc-45a8-909e-f806a43cb3c4"
      },
      "source": [
        "# # Overview of topic 'owner' throughout the years\n",
        "source = df[df['Kamer'] == 'Rutte III']\n",
        "source = source[['Indienende_partij','Topic','Titel']].groupby(['Indienende_partij','Topic']).count().reset_index()\n",
        "source = source.rename(columns={'Titel':'Aantal'})\n",
        "print(source.head())\n",
        "\n",
        "alt.Chart(source).mark_bar().encode(\n",
        "    x = alt.X('Aantal:Q', stack='normalize',sort=alt.SortField(field=\"Aantal\", order='ascending'),axis=alt.Axis(format='%')),\n",
        "    y = 'Indienende_partij:N',\n",
        "    color=alt.Color(\"Topic:N\"),\n",
        "                      # scale = alt.Scale(domain=parties,range= [party_colors[p] for p in parties])),\n",
        "    order=alt.Order('Aantal:Q',sort='descending')\n",
        "    \n",
        ").transform_filter(\n",
        "    alt.datum.Aantal > 4\n",
        ").configure_axis(\n",
        "    grid=False\n",
        ").configure_view(\n",
        "    strokeWidth=1\n",
        ").properties(width=300)"
      ],
      "execution_count": 38,
      "outputs": [
        {
          "output_type": "stream",
          "name": "stdout",
          "text": [
            "  Indienende_partij Topic  Aantal\n0            50PLUS     a       1\n1            50PLUS     b      29\n2            50PLUS     c     129\n3            50PLUS     d      18\n4            50PLUS     e      16\n"
          ]
        },
        {
          "output_type": "execute_result",
          "data": {
            "text/html": "\n<div id=\"altair-viz-245b528d3374436db341e80989f08a45\"></div>\n<script type=\"text/javascript\">\n  (function(spec, embedOpt){\n    let outputDiv = document.currentScript.previousElementSibling;\n    if (outputDiv.id !== \"altair-viz-245b528d3374436db341e80989f08a45\") {\n      outputDiv = document.getElementById(\"altair-viz-245b528d3374436db341e80989f08a45\");\n    }\n    const paths = {\n      \"vega\": \"https://cdn.jsdelivr.net/npm//vega@5?noext\",\n      \"vega-lib\": \"https://cdn.jsdelivr.net/npm//vega-lib?noext\",\n      \"vega-lite\": \"https://cdn.jsdelivr.net/npm//vega-lite@4.8.1?noext\",\n      \"vega-embed\": \"https://cdn.jsdelivr.net/npm//vega-embed@6?noext\",\n    };\n\n    function loadScript(lib) {\n      return new Promise(function(resolve, reject) {\n        var s = document.createElement('script');\n        s.src = paths[lib];\n        s.async = true;\n        s.onload = () => resolve(paths[lib]);\n        s.onerror = () => reject(`Error loading script: ${paths[lib]}`);\n        document.getElementsByTagName(\"head\")[0].appendChild(s);\n      });\n    }\n\n    function showError(err) {\n      outputDiv.innerHTML = `<div class=\"error\" style=\"color:red;\">${err}</div>`;\n      throw err;\n    }\n\n    function displayChart(vegaEmbed) {\n      vegaEmbed(outputDiv, spec, embedOpt)\n        .catch(err => showError(`Javascript Error: ${err.message}<br>This usually means there's a typo in your chart specification. See the javascript console for the full traceback.`));\n    }\n\n    if(typeof define === \"function\" && define.amd) {\n      requirejs.config({paths});\n      require([\"vega-embed\"], displayChart, err => showError(`Error loading script: ${err.message}`));\n    } else if (typeof vegaEmbed === \"function\") {\n      displayChart(vegaEmbed);\n    } else {\n      loadScript(\"vega\")\n        .then(() => loadScript(\"vega-lite\"))\n        .then(() => loadScript(\"vega-embed\"))\n        .catch(showError)\n        .then(() => displayChart(vegaEmbed));\n    }\n  })({\"config\": {\"view\": {\"continuousWidth\": 400, \"continuousHeight\": 300, \"strokeWidth\": 1}, \"axis\": {\"grid\": false}}, \"data\": {\"name\": \"data-68d264f39bc1f2316bddf53a758b7e0f\"}, \"mark\": \"bar\", \"encoding\": {\"color\": {\"type\": \"nominal\", \"field\": \"Topic\"}, \"order\": {\"type\": \"quantitative\", \"field\": \"Aantal\", \"sort\": \"descending\"}, \"x\": {\"type\": \"quantitative\", \"axis\": {\"format\": \"%\"}, \"field\": \"Aantal\", \"sort\": {\"field\": \"Aantal\", \"order\": \"ascending\"}, \"stack\": \"normalize\"}, \"y\": {\"type\": \"nominal\", \"field\": \"Indienende_partij\"}}, \"transform\": [{\"filter\": \"(datum.Aantal > 4)\"}], \"width\": 300, \"$schema\": \"https://vega.github.io/schema/vega-lite/v4.8.1.json\", \"datasets\": {\"data-68d264f39bc1f2316bddf53a758b7e0f\": [{\"Indienende_partij\": \"50PLUS\", \"Topic\": \"a\", \"Aantal\": 1}, {\"Indienende_partij\": \"50PLUS\", \"Topic\": \"b\", \"Aantal\": 29}, {\"Indienende_partij\": \"50PLUS\", \"Topic\": \"c\", \"Aantal\": 129}, {\"Indienende_partij\": \"50PLUS\", \"Topic\": \"d\", \"Aantal\": 18}, {\"Indienende_partij\": \"50PLUS\", \"Topic\": \"e\", \"Aantal\": 16}, {\"Indienende_partij\": \"50PLUS\", \"Topic\": \"f\", \"Aantal\": 3}, {\"Indienende_partij\": \"50PLUS\", \"Topic\": \"g\", \"Aantal\": 6}, {\"Indienende_partij\": \"50PLUS\", \"Topic\": \"h\", \"Aantal\": 3}, {\"Indienende_partij\": \"50PLUS\", \"Topic\": \"i\", \"Aantal\": 37}, {\"Indienende_partij\": \"50PLUS\", \"Topic\": \"j\", \"Aantal\": 18}, {\"Indienende_partij\": \"50PLUS\", \"Topic\": \"k\", \"Aantal\": 42}, {\"Indienende_partij\": \"50PLUS\", \"Topic\": \"l\", \"Aantal\": 16}, {\"Indienende_partij\": \"50PLUS\", \"Topic\": \"m\", \"Aantal\": 33}, {\"Indienende_partij\": \"50PLUS\", \"Topic\": \"n\", \"Aantal\": 10}, {\"Indienende_partij\": \"50PLUS\", \"Topic\": \"o\", \"Aantal\": 2}, {\"Indienende_partij\": \"50PLUS\", \"Topic\": \"p\", \"Aantal\": 19}, {\"Indienende_partij\": \"50PLUS\", \"Topic\": \"q\", \"Aantal\": 5}, {\"Indienende_partij\": \"50PLUS\", \"Topic\": \"qq\", \"Aantal\": 30}, {\"Indienende_partij\": \"50PLUS\", \"Topic\": \"r\", \"Aantal\": 11}, {\"Indienende_partij\": \"50PLUS\", \"Topic\": \"s\", \"Aantal\": 3}, {\"Indienende_partij\": \"CDA\", \"Topic\": \"a\", \"Aantal\": 65}, {\"Indienende_partij\": \"CDA\", \"Topic\": \"b\", \"Aantal\": 110}, {\"Indienende_partij\": \"CDA\", \"Topic\": \"c\", \"Aantal\": 54}, {\"Indienende_partij\": \"CDA\", \"Topic\": \"d\", \"Aantal\": 67}, {\"Indienende_partij\": \"CDA\", \"Topic\": \"e\", \"Aantal\": 94}, {\"Indienende_partij\": \"CDA\", \"Topic\": \"f\", \"Aantal\": 52}, {\"Indienende_partij\": \"CDA\", \"Topic\": \"g\", \"Aantal\": 21}, {\"Indienende_partij\": \"CDA\", \"Topic\": \"h\", \"Aantal\": 72}, {\"Indienende_partij\": \"CDA\", \"Topic\": \"i\", \"Aantal\": 35}, {\"Indienende_partij\": \"CDA\", \"Topic\": \"j\", \"Aantal\": 59}, {\"Indienende_partij\": \"CDA\", \"Topic\": \"k\", \"Aantal\": 68}, {\"Indienende_partij\": \"CDA\", \"Topic\": \"l\", \"Aantal\": 83}, {\"Indienende_partij\": \"CDA\", \"Topic\": \"m\", \"Aantal\": 30}, {\"Indienende_partij\": \"CDA\", \"Topic\": \"n\", \"Aantal\": 16}, {\"Indienende_partij\": \"CDA\", \"Topic\": \"o\", \"Aantal\": 67}, {\"Indienende_partij\": \"CDA\", \"Topic\": \"p\", \"Aantal\": 80}, {\"Indienende_partij\": \"CDA\", \"Topic\": \"q\", \"Aantal\": 37}, {\"Indienende_partij\": \"CDA\", \"Topic\": \"qq\", \"Aantal\": 69}, {\"Indienende_partij\": \"CDA\", \"Topic\": \"r\", \"Aantal\": 45}, {\"Indienende_partij\": \"CDA\", \"Topic\": \"s\", \"Aantal\": 31}, {\"Indienende_partij\": \"ChristenUnie\", \"Topic\": \"a\", \"Aantal\": 54}, {\"Indienende_partij\": \"ChristenUnie\", \"Topic\": \"b\", \"Aantal\": 35}, {\"Indienende_partij\": \"ChristenUnie\", \"Topic\": \"c\", \"Aantal\": 19}, {\"Indienende_partij\": \"ChristenUnie\", \"Topic\": \"d\", \"Aantal\": 44}, {\"Indienende_partij\": \"ChristenUnie\", \"Topic\": \"e\", \"Aantal\": 35}, {\"Indienende_partij\": \"ChristenUnie\", \"Topic\": \"f\", \"Aantal\": 19}, {\"Indienende_partij\": \"ChristenUnie\", \"Topic\": \"g\", \"Aantal\": 4}, {\"Indienende_partij\": \"ChristenUnie\", \"Topic\": \"h\", \"Aantal\": 22}, {\"Indienende_partij\": \"ChristenUnie\", \"Topic\": \"i\", \"Aantal\": 23}, {\"Indienende_partij\": \"ChristenUnie\", \"Topic\": \"j\", \"Aantal\": 29}, {\"Indienende_partij\": \"ChristenUnie\", \"Topic\": \"k\", \"Aantal\": 30}, {\"Indienende_partij\": \"ChristenUnie\", \"Topic\": \"l\", \"Aantal\": 12}, {\"Indienende_partij\": \"ChristenUnie\", \"Topic\": \"m\", \"Aantal\": 16}, {\"Indienende_partij\": \"ChristenUnie\", \"Topic\": \"n\", \"Aantal\": 11}, {\"Indienende_partij\": \"ChristenUnie\", \"Topic\": \"o\", \"Aantal\": 19}, {\"Indienende_partij\": \"ChristenUnie\", \"Topic\": \"p\", \"Aantal\": 42}, {\"Indienende_partij\": \"ChristenUnie\", \"Topic\": \"q\", \"Aantal\": 12}, {\"Indienende_partij\": \"ChristenUnie\", \"Topic\": \"qq\", \"Aantal\": 24}, {\"Indienende_partij\": \"ChristenUnie\", \"Topic\": \"r\", \"Aantal\": 13}, {\"Indienende_partij\": \"ChristenUnie\", \"Topic\": \"s\", \"Aantal\": 14}, {\"Indienende_partij\": \"D66\", \"Topic\": \"a\", \"Aantal\": 80}, {\"Indienende_partij\": \"D66\", \"Topic\": \"b\", \"Aantal\": 108}, {\"Indienende_partij\": \"D66\", \"Topic\": \"c\", \"Aantal\": 53}, {\"Indienende_partij\": \"D66\", \"Topic\": \"d\", \"Aantal\": 95}, {\"Indienende_partij\": \"D66\", \"Topic\": \"e\", \"Aantal\": 57}, {\"Indienende_partij\": \"D66\", \"Topic\": \"f\", \"Aantal\": 36}, {\"Indienende_partij\": \"D66\", \"Topic\": \"g\", \"Aantal\": 30}, {\"Indienende_partij\": \"D66\", \"Topic\": \"h\", \"Aantal\": 55}, {\"Indienende_partij\": \"D66\", \"Topic\": \"i\", \"Aantal\": 41}, {\"Indienende_partij\": \"D66\", \"Topic\": \"j\", \"Aantal\": 48}, {\"Indienende_partij\": \"D66\", \"Topic\": \"k\", \"Aantal\": 39}, {\"Indienende_partij\": \"D66\", \"Topic\": \"l\", \"Aantal\": 60}, {\"Indienende_partij\": \"D66\", \"Topic\": \"m\", \"Aantal\": 15}, {\"Indienende_partij\": \"D66\", \"Topic\": \"n\", \"Aantal\": 12}, {\"Indienende_partij\": \"D66\", \"Topic\": \"o\", \"Aantal\": 54}, {\"Indienende_partij\": \"D66\", \"Topic\": \"p\", \"Aantal\": 94}, {\"Indienende_partij\": \"D66\", \"Topic\": \"q\", \"Aantal\": 52}, {\"Indienende_partij\": \"D66\", \"Topic\": \"qq\", \"Aantal\": 40}, {\"Indienende_partij\": \"D66\", \"Topic\": \"r\", \"Aantal\": 20}, {\"Indienende_partij\": \"D66\", \"Topic\": \"s\", \"Aantal\": 37}, {\"Indienende_partij\": \"DENK\", \"Topic\": \"a\", \"Aantal\": 58}, {\"Indienende_partij\": \"DENK\", \"Topic\": \"b\", \"Aantal\": 6}, {\"Indienende_partij\": \"DENK\", \"Topic\": \"c\", \"Aantal\": 33}, {\"Indienende_partij\": \"DENK\", \"Topic\": \"d\", \"Aantal\": 8}, {\"Indienende_partij\": \"DENK\", \"Topic\": \"e\", \"Aantal\": 58}, {\"Indienende_partij\": \"DENK\", \"Topic\": \"g\", \"Aantal\": 1}, {\"Indienende_partij\": \"DENK\", \"Topic\": \"h\", \"Aantal\": 3}, {\"Indienende_partij\": \"DENK\", \"Topic\": \"i\", \"Aantal\": 7}, {\"Indienende_partij\": \"DENK\", \"Topic\": \"j\", \"Aantal\": 14}, {\"Indienende_partij\": \"DENK\", \"Topic\": \"k\", \"Aantal\": 39}, {\"Indienende_partij\": \"DENK\", \"Topic\": \"l\", \"Aantal\": 49}, {\"Indienende_partij\": \"DENK\", \"Topic\": \"m\", \"Aantal\": 38}, {\"Indienende_partij\": \"DENK\", \"Topic\": \"n\", \"Aantal\": 29}, {\"Indienende_partij\": \"DENK\", \"Topic\": \"o\", \"Aantal\": 23}, {\"Indienende_partij\": \"DENK\", \"Topic\": \"p\", \"Aantal\": 21}, {\"Indienende_partij\": \"DENK\", \"Topic\": \"q\", \"Aantal\": 20}, {\"Indienende_partij\": \"DENK\", \"Topic\": \"qq\", \"Aantal\": 8}, {\"Indienende_partij\": \"DENK\", \"Topic\": \"r\", \"Aantal\": 19}, {\"Indienende_partij\": \"DENK\", \"Topic\": \"s\", \"Aantal\": 18}, {\"Indienende_partij\": \"FVD\", \"Topic\": \"a\", \"Aantal\": 13}, {\"Indienende_partij\": \"FVD\", \"Topic\": \"b\", \"Aantal\": 2}, {\"Indienende_partij\": \"FVD\", \"Topic\": \"c\", \"Aantal\": 11}, {\"Indienende_partij\": \"FVD\", \"Topic\": \"d\", \"Aantal\": 6}, {\"Indienende_partij\": \"FVD\", \"Topic\": \"e\", \"Aantal\": 8}, {\"Indienende_partij\": \"FVD\", \"Topic\": \"f\", \"Aantal\": 8}, {\"Indienende_partij\": \"FVD\", \"Topic\": \"g\", \"Aantal\": 3}, {\"Indienende_partij\": \"FVD\", \"Topic\": \"j\", \"Aantal\": 28}, {\"Indienende_partij\": \"FVD\", \"Topic\": \"k\", \"Aantal\": 16}, {\"Indienende_partij\": \"FVD\", \"Topic\": \"l\", \"Aantal\": 5}, {\"Indienende_partij\": \"FVD\", \"Topic\": \"m\", \"Aantal\": 24}, {\"Indienende_partij\": \"FVD\", \"Topic\": \"n\", \"Aantal\": 27}, {\"Indienende_partij\": \"FVD\", \"Topic\": \"o\", \"Aantal\": 1}, {\"Indienende_partij\": \"FVD\", \"Topic\": \"p\", \"Aantal\": 2}, {\"Indienende_partij\": \"FVD\", \"Topic\": \"qq\", \"Aantal\": 3}, {\"Indienende_partij\": \"FVD\", \"Topic\": \"r\", \"Aantal\": 1}, {\"Indienende_partij\": \"FVD\", \"Topic\": \"s\", \"Aantal\": 1}, {\"Indienende_partij\": \"GroenLinks\", \"Topic\": \"a\", \"Aantal\": 120}, {\"Indienende_partij\": \"GroenLinks\", \"Topic\": \"b\", \"Aantal\": 171}, {\"Indienende_partij\": \"GroenLinks\", \"Topic\": \"c\", \"Aantal\": 74}, {\"Indienende_partij\": \"GroenLinks\", \"Topic\": \"d\", \"Aantal\": 131}, {\"Indienende_partij\": \"GroenLinks\", \"Topic\": \"e\", \"Aantal\": 76}, {\"Indienende_partij\": \"GroenLinks\", \"Topic\": \"f\", \"Aantal\": 56}, {\"Indienende_partij\": \"GroenLinks\", \"Topic\": \"g\", \"Aantal\": 34}, {\"Indienende_partij\": \"GroenLinks\", \"Topic\": \"h\", \"Aantal\": 45}, {\"Indienende_partij\": \"GroenLinks\", \"Topic\": \"i\", \"Aantal\": 54}, {\"Indienende_partij\": \"GroenLinks\", \"Topic\": \"j\", \"Aantal\": 65}, {\"Indienende_partij\": \"GroenLinks\", \"Topic\": \"k\", \"Aantal\": 68}, {\"Indienende_partij\": \"GroenLinks\", \"Topic\": \"l\", \"Aantal\": 46}, {\"Indienende_partij\": \"GroenLinks\", \"Topic\": \"m\", \"Aantal\": 31}, {\"Indienende_partij\": \"GroenLinks\", \"Topic\": \"n\", \"Aantal\": 43}, {\"Indienende_partij\": \"GroenLinks\", \"Topic\": \"o\", \"Aantal\": 82}, {\"Indienende_partij\": \"GroenLinks\", \"Topic\": \"p\", \"Aantal\": 109}, {\"Indienende_partij\": \"GroenLinks\", \"Topic\": \"q\", \"Aantal\": 120}, {\"Indienende_partij\": \"GroenLinks\", \"Topic\": \"qq\", \"Aantal\": 48}, {\"Indienende_partij\": \"GroenLinks\", \"Topic\": \"r\", \"Aantal\": 36}, {\"Indienende_partij\": \"GroenLinks\", \"Topic\": \"s\", \"Aantal\": 56}, {\"Indienende_partij\": \"Groep Krol/vKA\", \"Topic\": \"b\", \"Aantal\": 1}, {\"Indienende_partij\": \"Groep Krol/vKA\", \"Topic\": \"c\", \"Aantal\": 3}, {\"Indienende_partij\": \"Groep Krol/vKA\", \"Topic\": \"i\", \"Aantal\": 1}, {\"Indienende_partij\": \"Groep Krol/vKA\", \"Topic\": \"l\", \"Aantal\": 1}, {\"Indienende_partij\": \"Groep Krol/vKA\", \"Topic\": \"m\", \"Aantal\": 2}, {\"Indienende_partij\": \"Groep Krol/vKA\", \"Topic\": \"n\", \"Aantal\": 1}, {\"Indienende_partij\": \"Groep Krol/vKA\", \"Topic\": \"p\", \"Aantal\": 1}, {\"Indienende_partij\": \"Groep Krol/vKA\", \"Topic\": \"qq\", \"Aantal\": 1}, {\"Indienende_partij\": \"Groep Krol/vKA\", \"Topic\": \"r\", \"Aantal\": 1}, {\"Indienende_partij\": \"Krol\", \"Topic\": \"c\", \"Aantal\": 1}, {\"Indienende_partij\": \"Krol\", \"Topic\": \"g\", \"Aantal\": 1}, {\"Indienende_partij\": \"Krol\", \"Topic\": \"i\", \"Aantal\": 1}, {\"Indienende_partij\": \"Krol\", \"Topic\": \"j\", \"Aantal\": 1}, {\"Indienende_partij\": \"Krol\", \"Topic\": \"k\", \"Aantal\": 4}, {\"Indienende_partij\": \"Krol\", \"Topic\": \"l\", \"Aantal\": 2}, {\"Indienende_partij\": \"Krol\", \"Topic\": \"m\", \"Aantal\": 6}, {\"Indienende_partij\": \"Krol\", \"Topic\": \"n\", \"Aantal\": 2}, {\"Indienende_partij\": \"Krol\", \"Topic\": \"p\", \"Aantal\": 1}, {\"Indienende_partij\": \"PVV\", \"Topic\": \"a\", \"Aantal\": 63}, {\"Indienende_partij\": \"PVV\", \"Topic\": \"b\", \"Aantal\": 31}, {\"Indienende_partij\": \"PVV\", \"Topic\": \"c\", \"Aantal\": 67}, {\"Indienende_partij\": \"PVV\", \"Topic\": \"d\", \"Aantal\": 63}, {\"Indienende_partij\": \"PVV\", \"Topic\": \"e\", \"Aantal\": 81}, {\"Indienende_partij\": \"PVV\", \"Topic\": \"f\", \"Aantal\": 51}, {\"Indienende_partij\": \"PVV\", \"Topic\": \"g\", \"Aantal\": 62}, {\"Indienende_partij\": \"PVV\", \"Topic\": \"h\", \"Aantal\": 96}, {\"Indienende_partij\": \"PVV\", \"Topic\": \"i\", \"Aantal\": 96}, {\"Indienende_partij\": \"PVV\", \"Topic\": \"j\", \"Aantal\": 80}, {\"Indienende_partij\": \"PVV\", \"Topic\": \"k\", \"Aantal\": 72}, {\"Indienende_partij\": \"PVV\", \"Topic\": \"l\", \"Aantal\": 13}, {\"Indienende_partij\": \"PVV\", \"Topic\": \"m\", \"Aantal\": 86}, {\"Indienende_partij\": \"PVV\", \"Topic\": \"n\", \"Aantal\": 173}, {\"Indienende_partij\": \"PVV\", \"Topic\": \"o\", \"Aantal\": 23}, {\"Indienende_partij\": \"PVV\", \"Topic\": \"p\", \"Aantal\": 17}, {\"Indienende_partij\": \"PVV\", \"Topic\": \"q\", \"Aantal\": 25}, {\"Indienende_partij\": \"PVV\", \"Topic\": \"qq\", \"Aantal\": 48}, {\"Indienende_partij\": \"PVV\", \"Topic\": \"r\", \"Aantal\": 29}, {\"Indienende_partij\": \"PVV\", \"Topic\": \"s\", \"Aantal\": 10}, {\"Indienende_partij\": \"PvdA\", \"Topic\": \"a\", \"Aantal\": 79}, {\"Indienende_partij\": \"PvdA\", \"Topic\": \"b\", \"Aantal\": 36}, {\"Indienende_partij\": \"PvdA\", \"Topic\": \"c\", \"Aantal\": 97}, {\"Indienende_partij\": \"PvdA\", \"Topic\": \"d\", \"Aantal\": 73}, {\"Indienende_partij\": \"PvdA\", \"Topic\": \"e\", \"Aantal\": 30}, {\"Indienende_partij\": \"PvdA\", \"Topic\": \"f\", \"Aantal\": 56}, {\"Indienende_partij\": \"PvdA\", \"Topic\": \"g\", \"Aantal\": 19}, {\"Indienende_partij\": \"PvdA\", \"Topic\": \"h\", \"Aantal\": 22}, {\"Indienende_partij\": \"PvdA\", \"Topic\": \"i\", \"Aantal\": 66}, {\"Indienende_partij\": \"PvdA\", \"Topic\": \"j\", \"Aantal\": 28}, {\"Indienende_partij\": \"PvdA\", \"Topic\": \"k\", \"Aantal\": 84}, {\"Indienende_partij\": \"PvdA\", \"Topic\": \"l\", \"Aantal\": 25}, {\"Indienende_partij\": \"PvdA\", \"Topic\": \"m\", \"Aantal\": 46}, {\"Indienende_partij\": \"PvdA\", \"Topic\": \"n\", \"Aantal\": 10}, {\"Indienende_partij\": \"PvdA\", \"Topic\": \"o\", \"Aantal\": 36}, {\"Indienende_partij\": \"PvdA\", \"Topic\": \"p\", \"Aantal\": 57}, {\"Indienende_partij\": \"PvdA\", \"Topic\": \"q\", \"Aantal\": 84}, {\"Indienende_partij\": \"PvdA\", \"Topic\": \"qq\", \"Aantal\": 56}, {\"Indienende_partij\": \"PvdA\", \"Topic\": \"r\", \"Aantal\": 32}, {\"Indienende_partij\": \"PvdA\", \"Topic\": \"s\", \"Aantal\": 51}, {\"Indienende_partij\": \"PvdD\", \"Topic\": \"a\", \"Aantal\": 28}, {\"Indienende_partij\": \"PvdD\", \"Topic\": \"b\", \"Aantal\": 161}, {\"Indienende_partij\": \"PvdD\", \"Topic\": \"c\", \"Aantal\": 10}, {\"Indienende_partij\": \"PvdD\", \"Topic\": \"d\", \"Aantal\": 191}, {\"Indienende_partij\": \"PvdD\", \"Topic\": \"e\", \"Aantal\": 11}, {\"Indienende_partij\": \"PvdD\", \"Topic\": \"f\", \"Aantal\": 72}, {\"Indienende_partij\": \"PvdD\", \"Topic\": \"g\", \"Aantal\": 231}, {\"Indienende_partij\": \"PvdD\", \"Topic\": \"h\", \"Aantal\": 26}, {\"Indienende_partij\": \"PvdD\", \"Topic\": \"i\", \"Aantal\": 6}, {\"Indienende_partij\": \"PvdD\", \"Topic\": \"j\", \"Aantal\": 31}, {\"Indienende_partij\": \"PvdD\", \"Topic\": \"k\", \"Aantal\": 21}, {\"Indienende_partij\": \"PvdD\", \"Topic\": \"l\", \"Aantal\": 21}, {\"Indienende_partij\": \"PvdD\", \"Topic\": \"m\", \"Aantal\": 32}, {\"Indienende_partij\": \"PvdD\", \"Topic\": \"n\", \"Aantal\": 3}, {\"Indienende_partij\": \"PvdD\", \"Topic\": \"o\", \"Aantal\": 7}, {\"Indienende_partij\": \"PvdD\", \"Topic\": \"p\", \"Aantal\": 7}, {\"Indienende_partij\": \"PvdD\", \"Topic\": \"q\", \"Aantal\": 17}, {\"Indienende_partij\": \"PvdD\", \"Topic\": \"qq\", \"Aantal\": 7}, {\"Indienende_partij\": \"PvdD\", \"Topic\": \"r\", \"Aantal\": 34}, {\"Indienende_partij\": \"PvdD\", \"Topic\": \"s\", \"Aantal\": 8}, {\"Indienende_partij\": \"SGP\", \"Topic\": \"a\", \"Aantal\": 33}, {\"Indienende_partij\": \"SGP\", \"Topic\": \"b\", \"Aantal\": 18}, {\"Indienende_partij\": \"SGP\", \"Topic\": \"c\", \"Aantal\": 22}, {\"Indienende_partij\": \"SGP\", \"Topic\": \"d\", \"Aantal\": 14}, {\"Indienende_partij\": \"SGP\", \"Topic\": \"e\", \"Aantal\": 38}, {\"Indienende_partij\": \"SGP\", \"Topic\": \"f\", \"Aantal\": 41}, {\"Indienende_partij\": \"SGP\", \"Topic\": \"g\", \"Aantal\": 6}, {\"Indienende_partij\": \"SGP\", \"Topic\": \"h\", \"Aantal\": 5}, {\"Indienende_partij\": \"SGP\", \"Topic\": \"i\", \"Aantal\": 17}, {\"Indienende_partij\": \"SGP\", \"Topic\": \"j\", \"Aantal\": 25}, {\"Indienende_partij\": \"SGP\", \"Topic\": \"k\", \"Aantal\": 11}, {\"Indienende_partij\": \"SGP\", \"Topic\": \"l\", \"Aantal\": 14}, {\"Indienende_partij\": \"SGP\", \"Topic\": \"m\", \"Aantal\": 12}, {\"Indienende_partij\": \"SGP\", \"Topic\": \"n\", \"Aantal\": 9}, {\"Indienende_partij\": \"SGP\", \"Topic\": \"o\", \"Aantal\": 13}, {\"Indienende_partij\": \"SGP\", \"Topic\": \"p\", \"Aantal\": 12}, {\"Indienende_partij\": \"SGP\", \"Topic\": \"q\", \"Aantal\": 16}, {\"Indienende_partij\": \"SGP\", \"Topic\": \"qq\", \"Aantal\": 5}, {\"Indienende_partij\": \"SGP\", \"Topic\": \"r\", \"Aantal\": 16}, {\"Indienende_partij\": \"SGP\", \"Topic\": \"s\", \"Aantal\": 5}, {\"Indienende_partij\": \"SP\", \"Topic\": \"a\", \"Aantal\": 167}, {\"Indienende_partij\": \"SP\", \"Topic\": \"b\", \"Aantal\": 129}, {\"Indienende_partij\": \"SP\", \"Topic\": \"c\", \"Aantal\": 159}, {\"Indienende_partij\": \"SP\", \"Topic\": \"d\", \"Aantal\": 144}, {\"Indienende_partij\": \"SP\", \"Topic\": \"e\", \"Aantal\": 156}, {\"Indienende_partij\": \"SP\", \"Topic\": \"f\", \"Aantal\": 61}, {\"Indienende_partij\": \"SP\", \"Topic\": \"g\", \"Aantal\": 48}, {\"Indienende_partij\": \"SP\", \"Topic\": \"h\", \"Aantal\": 44}, {\"Indienende_partij\": \"SP\", \"Topic\": \"i\", \"Aantal\": 86}, {\"Indienende_partij\": \"SP\", \"Topic\": \"j\", \"Aantal\": 95}, {\"Indienende_partij\": \"SP\", \"Topic\": \"k\", \"Aantal\": 133}, {\"Indienende_partij\": \"SP\", \"Topic\": \"l\", \"Aantal\": 59}, {\"Indienende_partij\": \"SP\", \"Topic\": \"m\", \"Aantal\": 59}, {\"Indienende_partij\": \"SP\", \"Topic\": \"n\", \"Aantal\": 32}, {\"Indienende_partij\": \"SP\", \"Topic\": \"o\", \"Aantal\": 58}, {\"Indienende_partij\": \"SP\", \"Topic\": \"p\", \"Aantal\": 71}, {\"Indienende_partij\": \"SP\", \"Topic\": \"q\", \"Aantal\": 101}, {\"Indienende_partij\": \"SP\", \"Topic\": \"qq\", \"Aantal\": 108}, {\"Indienende_partij\": \"SP\", \"Topic\": \"r\", \"Aantal\": 75}, {\"Indienende_partij\": \"SP\", \"Topic\": \"s\", \"Aantal\": 55}, {\"Indienende_partij\": \"VVD\", \"Topic\": \"a\", \"Aantal\": 57}, {\"Indienende_partij\": \"VVD\", \"Topic\": \"b\", \"Aantal\": 69}, {\"Indienende_partij\": \"VVD\", \"Topic\": \"c\", \"Aantal\": 57}, {\"Indienende_partij\": \"VVD\", \"Topic\": \"d\", \"Aantal\": 30}, {\"Indienende_partij\": \"VVD\", \"Topic\": \"e\", \"Aantal\": 70}, {\"Indienende_partij\": \"VVD\", \"Topic\": \"f\", \"Aantal\": 43}, {\"Indienende_partij\": \"VVD\", \"Topic\": \"g\", \"Aantal\": 14}, {\"Indienende_partij\": \"VVD\", \"Topic\": \"h\", \"Aantal\": 47}, {\"Indienende_partij\": \"VVD\", \"Topic\": \"i\", \"Aantal\": 26}, {\"Indienende_partij\": \"VVD\", \"Topic\": \"j\", \"Aantal\": 22}, {\"Indienende_partij\": \"VVD\", \"Topic\": \"k\", \"Aantal\": 34}, {\"Indienende_partij\": \"VVD\", \"Topic\": \"l\", \"Aantal\": 66}, {\"Indienende_partij\": \"VVD\", \"Topic\": \"m\", \"Aantal\": 7}, {\"Indienende_partij\": \"VVD\", \"Topic\": \"n\", \"Aantal\": 23}, {\"Indienende_partij\": \"VVD\", \"Topic\": \"o\", \"Aantal\": 70}, {\"Indienende_partij\": \"VVD\", \"Topic\": \"p\", \"Aantal\": 47}, {\"Indienende_partij\": \"VVD\", \"Topic\": \"q\", \"Aantal\": 44}, {\"Indienende_partij\": \"VVD\", \"Topic\": \"qq\", \"Aantal\": 60}, {\"Indienende_partij\": \"VVD\", \"Topic\": \"r\", \"Aantal\": 28}, {\"Indienende_partij\": \"VVD\", \"Topic\": \"s\", \"Aantal\": 35}, {\"Indienende_partij\": \"Van Haga\", \"Topic\": \"a\", \"Aantal\": 3}, {\"Indienende_partij\": \"Van Haga\", \"Topic\": \"b\", \"Aantal\": 8}, {\"Indienende_partij\": \"Van Haga\", \"Topic\": \"c\", \"Aantal\": 12}, {\"Indienende_partij\": \"Van Haga\", \"Topic\": \"d\", \"Aantal\": 7}, {\"Indienende_partij\": \"Van Haga\", \"Topic\": \"e\", \"Aantal\": 2}, {\"Indienende_partij\": \"Van Haga\", \"Topic\": \"f\", \"Aantal\": 4}, {\"Indienende_partij\": \"Van Haga\", \"Topic\": \"g\", \"Aantal\": 2}, {\"Indienende_partij\": \"Van Haga\", \"Topic\": \"h\", \"Aantal\": 1}, {\"Indienende_partij\": \"Van Haga\", \"Topic\": \"j\", \"Aantal\": 3}, {\"Indienende_partij\": \"Van Haga\", \"Topic\": \"k\", \"Aantal\": 22}, {\"Indienende_partij\": \"Van Haga\", \"Topic\": \"m\", \"Aantal\": 12}, {\"Indienende_partij\": \"Van Haga\", \"Topic\": \"n\", \"Aantal\": 7}, {\"Indienende_partij\": \"Van Haga\", \"Topic\": \"o\", \"Aantal\": 1}, {\"Indienende_partij\": \"Van Haga\", \"Topic\": \"qq\", \"Aantal\": 1}, {\"Indienende_partij\": \"Van Haga\", \"Topic\": \"r\", \"Aantal\": 8}, {\"Indienende_partij\": \"Van Haga\", \"Topic\": \"s\", \"Aantal\": 3}, {\"Indienende_partij\": \"Van Kooten-Arissen\", \"Topic\": \"a\", \"Aantal\": 1}, {\"Indienende_partij\": \"Van Kooten-Arissen\", \"Topic\": \"b\", \"Aantal\": 1}, {\"Indienende_partij\": \"Van Kooten-Arissen\", \"Topic\": \"c\", \"Aantal\": 5}, {\"Indienende_partij\": \"Van Kooten-Arissen\", \"Topic\": \"e\", \"Aantal\": 7}, {\"Indienende_partij\": \"Van Kooten-Arissen\", \"Topic\": \"g\", \"Aantal\": 1}, {\"Indienende_partij\": \"Van Kooten-Arissen\", \"Topic\": \"i\", \"Aantal\": 2}, {\"Indienende_partij\": \"Van Kooten-Arissen\", \"Topic\": \"k\", \"Aantal\": 6}, {\"Indienende_partij\": \"Van Kooten-Arissen\", \"Topic\": \"l\", \"Aantal\": 3}, {\"Indienende_partij\": \"Van Kooten-Arissen\", \"Topic\": \"n\", \"Aantal\": 3}, {\"Indienende_partij\": \"Van Kooten-Arissen\", \"Topic\": \"p\", \"Aantal\": 8}, {\"Indienende_partij\": \"Van Kooten-Arissen\", \"Topic\": \"qq\", \"Aantal\": 1}]}}, {\"mode\": \"vega-lite\"});\n</script>",
            "text/plain": [
              "alt.Chart(...)"
            ]
          },
          "metadata": {},
          "execution_count": 38
        }
      ]
    },
    {
      "cell_type": "markdown",
      "metadata": {
        "id": "F8LyHvQuAsM9"
      },
      "source": [
        "## Onderzoek naar klimaat\r\n",
        "Omdat ik denk dat klimaat en natuur op de lange termijn het belangrijkst zijn voor de mens heb ik deze nog eens handmatig doorgenomen. Ik heb alle moties doorgelezen die over natuur en klimaat gaan en gelabeld of de motie 'voor' of 'tegen' het klimaat is. Op deze manier kunnen we kijken of wat het stemgedrag is van partijen."
      ]
    },
    {
      "cell_type": "code",
      "metadata": {
        "id": "aqLx7KJ0_PYE"
      },
      "source": [
        "!pip install pandas-alive\r\n",
        "# https://medium.com/dunder-data/create-a-bar-chart-race-animation-in-python-with-matplotlib-477ed1590096\r\n",
        "# https://towardsdatascience.com/creating-bar-chart-race-animation-with-python-cdb01144074e"
      ],
      "execution_count": null,
      "outputs": []
    },
    {
      "cell_type": "code",
      "metadata": {
        "id": "SIZ087fZ89GP",
        "colab": {
          "base_uri": "https://localhost:8080/"
        },
        "outputId": "1a87e9dc-86d6-4aa9-fd20-87e89572ce30"
      },
      "source": [
        "import pandas_alive\n",
        "import pandas as pd\n",
        "\n",
        "data_raw = pd.read_csv(\n",
        "    \"https://raw.githubusercontent.com/owid/owid-datasets/master/datasets/Long%20run%20life%20expectancy%20-%20Gapminder%2C%20UN/Long%20run%20life%20expectancy%20-%20Gapminder%2C%20UN.csv\"\n",
        ")\n",
        "\n",
        "list_G7 = [\n",
        "    \"Canada\",\n",
        "    \"France\",\n",
        "    \"Germany\",\n",
        "    \"Italy\",\n",
        "    \"Japan\",\n",
        "    \"United Kingdom\",\n",
        "    \"United States\",\n",
        "]\n",
        "\n",
        "data_raw = data_raw.pivot(\n",
        "    index=\"Year\", columns=\"Entity\", values=\"Life expectancy (Gapminder, UN)\"\n",
        ")\n",
        "\n",
        "data = pd.DataFrame()\n",
        "data[\"Year\"] = data_raw.reset_index()[\"Year\"]\n",
        "for country in list_G7:\n",
        "    data[country] = data_raw[country].values\n",
        "\n",
        "data = data.fillna(method=\"pad\")\n",
        "data = data.fillna(0)\n",
        "data = data.set_index(\"Year\").loc[1900:].reset_index()\n",
        "\n",
        "data[\"Year\"] = pd.to_datetime(data.reset_index()[\"Year\"].astype(str))\n",
        "\n",
        "data = data.set_index(\"Year\")\n",
        "\n",
        "animated_bar_chart = data.plot_animated(\n",
        "    period_fmt=\"%Y%M\",perpendicular_bar_func=\"mean\", period_length=200,fixed_max=True\n",
        ")\n",
        "\n",
        "animated_line_chart = data.plot_animated(\n",
        "    kind=\"line\", period_fmt=\"%Y\", period_length=200,fixed_max=True\n",
        ")\n",
        "\n",
        "pandas_alive.animate_multiple_plots(\n",
        "    \"life-expectancy.gif\",\n",
        "    plots=[animated_bar_chart, animated_line_chart],\n",
        "    title=\"Life expectancy in G7 countries up to 2015\",\n",
        "    adjust_subplot_left=0.2, adjust_subplot_top=0.9\n",
        ")"
      ],
      "execution_count": null,
      "outputs": [
        {
          "output_type": "stream",
          "text": [
            "Generating BarChartRace, plotting ['Canada', 'France', 'Germany', 'Italy', 'Japan', 'United Kingdom', 'United States']\n",
            "Generating LineChart, plotting ['Canada', 'France', 'Germany', 'Italy', 'Japan', 'United Kingdom', 'United States']\n"
          ],
          "name": "stdout"
        }
      ]
    }
  ]
}