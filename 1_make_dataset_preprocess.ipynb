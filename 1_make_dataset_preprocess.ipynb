{
 "cells": [
  {
   "cell_type": "markdown",
   "metadata": {
    "Collapsed": "true"
   },
   "source": [
    "### Define helper functions"
   ]
  },
  {
   "cell_type": "code",
   "execution_count": 3,
   "metadata": {
    "Collapsed": "false"
   },
   "outputs": [],
   "source": [
    "import urllib.request\n",
    "import json\n",
    "import numpy as np\n",
    "import pandas as pd\n",
    "import altair\n",
    "import pprint\n",
    "import os, subprocess, sys,codecs, locale\n",
    "import re\n",
    "import traceback\n",
    "from collections import namedtuple\n",
    "import datetime\n",
    "import pdfplumber\n",
    "%matplotlib inline"
   ]
  },
  {
   "cell_type": "code",
   "execution_count": 4,
   "metadata": {
    "Collapsed": "false"
   },
   "outputs": [],
   "source": [
    "pd.options.display.width = 250\n",
    "pd.options.display.max_colwidth = 250\n",
    "pd.options.display.max_rows = 250\n"
   ]
  },
  {
   "cell_type": "code",
   "execution_count": 5,
   "metadata": {
    "Collapsed": "false"
   },
   "outputs": [],
   "source": [
    "# some helper functions to obtain the right output from API\n",
    "def remove_spaces(input):\n",
    "    return input.replace(' ', '%20')\n",
    "\n",
    "def pdf_to_text(pdf_path):\n",
    "    #sys.setdefaultencoding(\"utf-8\")\n",
    "    os_encoding = locale.getpreferredencoding()\n",
    "    args = [\"pdftotext.exe\",pdf_path, \"-\"]\n",
    "    res = subprocess.run(args, stdout=subprocess.PIPE, stderr=subprocess.PIPE)\n",
    "    output = (res.stdout).decode(os_encoding,'ignore')\n",
    "    return(output)\n",
    "\n",
    "\n",
    "# this is the preferred method, pdfplumber works better then pdftotext\n",
    "def pdf_to_text2(pdf_path):\n",
    "    with pdfplumber.open(pdf_path) as pdf:\n",
    "        first_page = pdf.pages[0]\n",
    "        return first_page.extract_text(x_tolerance=2, y_tolerance=3)\n",
    "\n",
    "\n",
    "def retrieve_and_save_pdf(id, overwrite=False):\n",
    "    if not os.path.exists(path + id + '.pdf') or overwrite:\n",
    "        base = 'https://gegevensmagazijn.tweedekamer.nl/OData/v4/2.0/'\n",
    "        url = 'Document('+id+')/Resource'\n",
    "        end = ''\n",
    "        response = urllib.request.urlopen(remove_spaces(base+url))\n",
    "        data = response.read()      # a `bytes` object\n",
    "        f = open(path+id+'.pdf', 'w+b')\n",
    "        f.write(data)\n",
    "        f.close()\n",
    "    else:\n",
    "        pass\n",
    "\n",
    "def query_API(skip):\n",
    "    base = 'https://gegevensmagazijn.tweedekamer.nl/OData/v4/2.0/'\n",
    "    url = \"/Zaak?$filter= Soort eq 'Motie'&$expand=Besluit($expand=Stemming),Document,ZaakActor,Agendapunt&$count=true&$skip=\"+skip\n",
    "    end = '&$format=application/json;odata.metadata=full'\n",
    "    response = urllib.request.urlopen(remove_spaces(base+url))\n",
    "    data = response.read()      # a `bytes` object\n",
    "    return(json.loads(data))\n",
    "#retrieve_and_save_pdf('1b7f8f8c-4579-4103-9f51-9280358f7b8a')\n",
    "#a = pdf_to_text(path+'3c2dbc59-beb1-42d8-9be4-e09238f20a97.pdf')\n",
    "#print(a)"
   ]
  },
  {
   "cell_type": "markdown",
   "metadata": {},
   "source": [
    "### Process API response to dict"
   ]
  },
  {
   "cell_type": "code",
   "execution_count": 6,
   "metadata": {
    "Collapsed": "false"
   },
   "outputs": [],
   "source": [
    "def add_API_to_dict(data):\n",
    "    try:\n",
    "        for z in data['value']:\n",
    "            #print('\\n\\n','nummer',z['Nummer'])\n",
    "            info[z['Nummer']]={'Titel':z['Titel'],\n",
    "                              #'Status':z['Status'],\n",
    "                              'Onderwerp':z['Onderwerp'],\n",
    "                              'Vergaderjaar':z['Vergaderjaar'],\n",
    "                              'GestartOp':z['GestartOp']}\n",
    "\n",
    "            for b in z['Besluit']:\n",
    "                info[z['Nummer']]['BesluitTekst']=b['BesluitTekst']\n",
    "                info[z['Nummer']]['StemmingsSoort']=b['StemmingsSoort']\n",
    "                info[z['Nummer']]['BesluitSoort']=b['BesluitSoort']\n",
    "\n",
    "                #print('\\n','besluit',b['BesluitTekst'])\n",
    "                if b['BesluitSoort'] and b['BesluitSoort'] in ['Stemmen - aangenomen','Stemmen - verworpen', 'Stemmen - niet aangenomen']:        \n",
    "                    for s in b['Stemming']:\n",
    "                        #print(s)\n",
    "                        if s['Soort'] in ['Voor', 'Tegen']:\n",
    "                            info[z['Nummer']]['Stem_'+s['ActorFractie']]=(s['Soort'])\n",
    "                            info[z['Nummer']]['Aantal_stemmen_'+str(s['ActorFractie'])]=(s['FractieGrootte'])\n",
    "                        #info[z['Nummer']]['Vergissing_'+str(s['ActorFractie'])]=(s['Vergissing']) niet nodig, want Stem is altijd de gecorrigeerde stem (dus niet de vergissing)\n",
    "                    #print('stemmingenverwerkt')\n",
    "                    break\n",
    "            for a in z['Agendapunt']:\n",
    "                info[z['Nummer']]['AgendapuntOnderwerp']=a['Onderwerp']\n",
    "\n",
    "            for d in z['Document']:\n",
    "                if d['Soort'][:5]=='Motie':\n",
    "                    #print('\\n','doc',d)\n",
    "                    info[z['Nummer']]['doc_Id']=d['Id']\n",
    "                    info[z['Nummer']]['Volgnummer']=d['Volgnummer']\n",
    "                    info[z['Nummer']]['Datum']=d['Datum']\n",
    "                    if INCLUDE_PDF:\n",
    "                        #print('doing pdf work')\n",
    "                        retrieve_and_save_pdf(d['Id'])\n",
    "                        info[z['Nummer']]['Text']=pdf_to_text(path+d['Id']+'.pdf')\n",
    "            \n",
    "            info[z['Nummer']]['Indiener_persoon'] = []\n",
    "            info[z['Nummer']]['Medeindiener_persoon'] = []\n",
    "            for za in z['ZaakActor']:\n",
    "                #print('\\n','za',za)\n",
    "                if za['Relatie'] == 'Indiener' and za['ActorFractie']:\n",
    "                    info[z['Nummer']]['Indiener_persoon'].append(za['ActorNaam'])\n",
    "                    info[z['Nummer']]['Indiener_'+za['ActorFractie']]=1\n",
    "                \n",
    "                if za['Relatie'] == 'Medeindiener' and za['ActorFractie']:\n",
    "                    info[z['Nummer']]['Medeindiener_persoon'].append(za['ActorNaam'])\n",
    "                    info[z['Nummer']]['Medeindiener_'+za['ActorFractie']]=1\n",
    "    except Exception as e: \n",
    "        print(e)\n",
    "        pprint.pprint(z) \n",
    "        traceback.print_exc() \n",
    "        print(s)\n",
    "        sys.exit()\n"
   ]
  },
  {
   "cell_type": "markdown",
   "metadata": {},
   "source": [
    "### Get all moties"
   ]
  },
  {
   "cell_type": "code",
   "execution_count": 7,
   "metadata": {
    "Collapsed": "false",
    "collapsed": true,
    "jupyter": {
     "outputs_hidden": true
    }
   },
   "outputs": [
    {
     "name": "stdout",
     "output_type": "stream",
     "text": [
      "started\n"
     ]
    }
   ],
   "source": [
    "# main routine to query api\n",
    "FIRST_ONLY = False\n",
    "INCLUDE_PDF = False\n",
    "START = 0\n",
    "MAXIMUM = 100000\n",
    "path = 'pdf/' # where to store pdfs of motions\n",
    "skip = 0\n",
    "info = {}\n",
    "print ('started')\n",
    "data = query_API(str(START))\n",
    "count = data['@odata.count']\n",
    "# add_API_to_dict(data)\n",
    "skip = START +  250"
   ]
  },
  {
   "cell_type": "code",
   "execution_count": 8,
   "metadata": {
    "tags": []
   },
   "outputs": [
    {
     "name": "stdout",
     "output_type": "stream",
     "text": [
      "query for  250\n",
      "query for  500\n",
      "query for  750\n",
      "query for  1000\n",
      "query for  1250\n",
      "query for  1500\n",
      "query for  1750\n",
      "query for  2000\n",
      "query for  2250\n",
      "query for  2500\n",
      "query for  2750\n",
      "query for  3000\n",
      "query for  3250\n",
      "query for  3500\n",
      "query for  3750\n",
      "query for  4000\n",
      "query for  4250\n",
      "query for  4500\n",
      "query for  4750\n",
      "query for  5000\n",
      "query for  5250\n",
      "query for  5500\n",
      "query for  5750\n",
      "query for  6000\n",
      "query for  6250\n",
      "query for  6500\n",
      "query for  6750\n",
      "query for  7000\n",
      "query for  7250\n",
      "query for  7500\n",
      "query for  7750\n",
      "query for  8000\n",
      "query for  8250\n",
      "query for  8500\n",
      "query for  8750\n",
      "query for  9000\n",
      "query for  9250\n",
      "query for  9500\n",
      "query for  9750\n",
      "query for  10000\n",
      "query for  10250\n",
      "query for  10500\n",
      "query for  10750\n",
      "query for  11000\n",
      "query for  11250\n",
      "query for  11500\n",
      "query for  11750\n",
      "query for  12000\n",
      "query for  12250\n",
      "query for  12500\n",
      "query for  12750\n",
      "query for  13000\n",
      "query for  13250\n",
      "query for  13500\n",
      "query for  13750\n",
      "query for  14000\n",
      "query for  14250\n",
      "query for  14500\n",
      "query for  14750\n",
      "query for  15000\n",
      "query for  15250\n",
      "query for  15500\n",
      "query for  15750\n",
      "query for  16000\n",
      "query for  16250\n",
      "query for  16500\n",
      "query for  16750\n",
      "query for  17000\n",
      "query for  17250\n",
      "query for  17500\n",
      "query for  17750\n",
      "query for  18000\n",
      "query for  18250\n",
      "query for  18500\n",
      "query for  18750\n",
      "query for  19000\n",
      "query for  19250\n",
      "query for  19500\n",
      "query for  19750\n",
      "query for  20000\n",
      "query for  20250\n",
      "query for  20500\n",
      "query for  20750\n",
      "query for  21000\n",
      "query for  21250\n",
      "query for  21500\n",
      "query for  21750\n",
      "query for  22000\n",
      "query for  22250\n",
      "query for  22500\n",
      "query for  22750\n",
      "query for  23000\n",
      "query for  23250\n",
      "query for  23500\n",
      "query for  23750\n",
      "query for  24000\n",
      "query for  24250\n",
      "query for  24500\n",
      "query for  24750\n",
      "query for  25000\n",
      "query for  25250\n",
      "query for  25500\n",
      "query for  25750\n",
      "query for  26000\n",
      "query for  26250\n",
      "query for  26500\n",
      "query for  26750\n",
      "query for  27000\n",
      "query for  27250\n",
      "query for  27500\n",
      "query for  27750\n",
      "query for  28000\n",
      "query for  28250\n",
      "query for  28500\n",
      "query for  28750\n",
      "query for  29000\n",
      "query for  29250\n",
      "query for  29500\n",
      "query for  29750\n",
      "query for  30000\n",
      "query for  30250\n",
      "query for  30500\n",
      "query for  30750\n",
      "query for  31000\n",
      "query for  31250\n",
      "query for  31500\n",
      "query for  31750\n",
      "query for  32000\n",
      "query for  32250\n",
      "query for  32500\n",
      "query for  32750\n",
      "query for  33000\n",
      "query for  33250\n",
      "query for  33500\n",
      "query for  33750\n",
      "query for  34000\n",
      "query for  34250\n",
      "query for  34500\n",
      "query for  34750\n",
      "query for  35000\n",
      "query for  35250\n",
      "query for  35500\n",
      "query for  35750\n",
      "query for  36000\n",
      "query for  36250\n",
      "query for  36500\n",
      "query for  36750\n",
      "query for  37000\n",
      "query for  37250\n",
      "query for  37500\n",
      "query for  37750\n",
      "query for  38000\n",
      "query for  38250\n",
      "query for  38500\n",
      "query for  38750\n",
      "query for  39000\n",
      "query for  39250\n",
      "query for  39500\n",
      "query for  39750\n",
      "query for  40000\n",
      "query for  40250\n",
      "query for  40500\n",
      "query for  40750\n",
      "query for  41000\n",
      "query for  41250\n",
      "query for  41500\n",
      "query for  41750\n",
      "query for  42000\n",
      "query for  42250\n",
      "query for  42500\n",
      "query for  42750\n",
      "query for  43000\n",
      "query for  43250\n",
      "query for  43500\n",
      "query for  43750\n",
      "query for  44000\n",
      "query for  44250\n",
      "query for  44500\n",
      "query for  44750\n",
      "query for  45000\n",
      "query for  45250\n",
      "query for  45500\n",
      "query for  45750\n",
      "query for  46000\n",
      "query for  46250\n",
      "query for  46500\n",
      "query for  46750\n",
      "query for  47000\n",
      "query for  47250\n",
      "query for  47500\n",
      "query for  47750\n",
      "query for  48000\n",
      "query for  48250\n",
      "query for  48500\n",
      "query for  48750\n",
      "query for  49000\n",
      "query for  49250\n",
      "query for  49500\n",
      "query for  49750\n",
      "query for  50000\n",
      "query for  50250\n",
      "query for  50500\n",
      "finished\n"
     ]
    }
   ],
   "source": [
    "if not FIRST_ONLY:\n",
    "    while skip < count + 250 and skip < MAXIMUM:\n",
    "        print('query for ',skip)\n",
    "        data = query_API(str(skip))\n",
    "        add_API_to_dict(data)\n",
    "        skip +=250\n",
    "print('finished')"
   ]
  },
  {
   "cell_type": "code",
   "execution_count": 9,
   "metadata": {},
   "outputs": [],
   "source": [
    "import pickle\n",
    "with open('moties_unprocessed.pickle', 'wb') as handle:\n",
    "    pickle.dump(info, handle, protocol=pickle.HIGHEST_PROTOCOL)"
   ]
  },
  {
   "cell_type": "markdown",
   "metadata": {},
   "source": [
    "## Download PDFs"
   ]
  },
  {
   "cell_type": "code",
   "execution_count": 10,
   "metadata": {
    "tags": [
     "outputPrepend"
    ]
   },
   "outputs": [
    {
     "name": "stdout",
     "output_type": "stream",
     "text": [
      "0\n",
      "100\n",
      "download or pdf_to_text error\n"
     ]
    },
    {
     "name": "stderr",
     "output_type": "stream",
     "text": [
      "Traceback (most recent call last):\n",
      "  File \"C:\\Users\\Gebruiker\\AppData\\Local\\Temp\\ipykernel_15816\\1447062882.py\", line 15, in <module>\n",
      "    info[k]['Text'] = pdf_to_text2(path + doc_id +'.pdf')\n",
      "                      ^^^^^^^^^^^^^^^^^^^^^^^^^^^^^^^^^^^\n",
      "  File \"C:\\Users\\Gebruiker\\AppData\\Local\\Temp\\ipykernel_15816\\3182530635.py\", line 16, in pdf_to_text2\n",
      "    with pdfplumber.open(pdf_path) as pdf:\n",
      "         ^^^^^^^^^^^^^^^^^^^^^^^^^\n",
      "  File \"d:\\Programmeren\\adventofcode\\.aocenvpy311\\Lib\\site-packages\\pdfplumber\\pdf.py\", line 78, in open\n",
      "    return cls(\n",
      "           ^^^^\n",
      "  File \"d:\\Programmeren\\adventofcode\\.aocenvpy311\\Lib\\site-packages\\pdfplumber\\pdf.py\", line 40, in __init__\n",
      "    self.doc = PDFDocument(PDFParser(stream), password=password)\n",
      "               ^^^^^^^^^^^^^^^^^^^^^^^^^^^^^^^^^^^^^^^^^^^^^^^^^\n",
      "  File \"d:\\Programmeren\\adventofcode\\.aocenvpy311\\Lib\\site-packages\\pdfminer\\pdfdocument.py\", line 752, in __init__\n",
      "    raise PDFSyntaxError(\"No /Root object! - Is this really a PDF?\")\n",
      "pdfminer.pdfparser.PDFSyntaxError: No /Root object! - Is this really a PDF?\n"
     ]
    },
    {
     "name": "stdout",
     "output_type": "stream",
     "text": [
      "200\n",
      "300\n",
      "400\n",
      "500\n",
      "600\n",
      "download or pdf_to_text error\n"
     ]
    },
    {
     "name": "stderr",
     "output_type": "stream",
     "text": [
      "Traceback (most recent call last):\n",
      "  File \"C:\\Users\\Gebruiker\\AppData\\Local\\Temp\\ipykernel_15816\\1447062882.py\", line 15, in <module>\n",
      "    info[k]['Text'] = pdf_to_text2(path + doc_id +'.pdf')\n",
      "                      ^^^^^^^^^^^^^^^^^^^^^^^^^^^^^^^^^^^\n",
      "  File \"C:\\Users\\Gebruiker\\AppData\\Local\\Temp\\ipykernel_15816\\3182530635.py\", line 16, in pdf_to_text2\n",
      "    with pdfplumber.open(pdf_path) as pdf:\n",
      "         ^^^^^^^^^^^^^^^^^^^^^^^^^\n",
      "  File \"d:\\Programmeren\\adventofcode\\.aocenvpy311\\Lib\\site-packages\\pdfplumber\\pdf.py\", line 78, in open\n",
      "    return cls(\n",
      "           ^^^^\n",
      "  File \"d:\\Programmeren\\adventofcode\\.aocenvpy311\\Lib\\site-packages\\pdfplumber\\pdf.py\", line 40, in __init__\n",
      "    self.doc = PDFDocument(PDFParser(stream), password=password)\n",
      "               ^^^^^^^^^^^^^^^^^^^^^^^^^^^^^^^^^^^^^^^^^^^^^^^^^\n",
      "  File \"d:\\Programmeren\\adventofcode\\.aocenvpy311\\Lib\\site-packages\\pdfminer\\pdfdocument.py\", line 752, in __init__\n",
      "    raise PDFSyntaxError(\"No /Root object! - Is this really a PDF?\")\n",
      "pdfminer.pdfparser.PDFSyntaxError: No /Root object! - Is this really a PDF?\n"
     ]
    },
    {
     "name": "stdout",
     "output_type": "stream",
     "text": [
      "700\n",
      "800\n",
      "900\n",
      "1000\n",
      "1100\n",
      "download or pdf_to_text error\n"
     ]
    },
    {
     "name": "stderr",
     "output_type": "stream",
     "text": [
      "Traceback (most recent call last):\n",
      "  File \"C:\\Users\\Gebruiker\\AppData\\Local\\Temp\\ipykernel_15816\\1447062882.py\", line 15, in <module>\n",
      "    info[k]['Text'] = pdf_to_text2(path + doc_id +'.pdf')\n",
      "                      ^^^^^^^^^^^^^^^^^^^^^^^^^^^^^^^^^^^\n",
      "  File \"C:\\Users\\Gebruiker\\AppData\\Local\\Temp\\ipykernel_15816\\3182530635.py\", line 16, in pdf_to_text2\n",
      "    with pdfplumber.open(pdf_path) as pdf:\n",
      "         ^^^^^^^^^^^^^^^^^^^^^^^^^\n",
      "  File \"d:\\Programmeren\\adventofcode\\.aocenvpy311\\Lib\\site-packages\\pdfplumber\\pdf.py\", line 78, in open\n",
      "    return cls(\n",
      "           ^^^^\n",
      "  File \"d:\\Programmeren\\adventofcode\\.aocenvpy311\\Lib\\site-packages\\pdfplumber\\pdf.py\", line 40, in __init__\n",
      "    self.doc = PDFDocument(PDFParser(stream), password=password)\n",
      "               ^^^^^^^^^^^^^^^^^^^^^^^^^^^^^^^^^^^^^^^^^^^^^^^^^\n",
      "  File \"d:\\Programmeren\\adventofcode\\.aocenvpy311\\Lib\\site-packages\\pdfminer\\pdfdocument.py\", line 752, in __init__\n",
      "    raise PDFSyntaxError(\"No /Root object! - Is this really a PDF?\")\n",
      "pdfminer.pdfparser.PDFSyntaxError: No /Root object! - Is this really a PDF?\n"
     ]
    },
    {
     "name": "stdout",
     "output_type": "stream",
     "text": [
      "1200\n",
      "1300\n",
      "1400\n",
      "1500\n",
      "1600\n",
      "download or pdf_to_text error\n"
     ]
    },
    {
     "name": "stderr",
     "output_type": "stream",
     "text": [
      "Traceback (most recent call last):\n",
      "  File \"C:\\Users\\Gebruiker\\AppData\\Local\\Temp\\ipykernel_15816\\1447062882.py\", line 15, in <module>\n",
      "    info[k]['Text'] = pdf_to_text2(path + doc_id +'.pdf')\n",
      "                      ^^^^^^^^^^^^^^^^^^^^^^^^^^^^^^^^^^^\n",
      "  File \"C:\\Users\\Gebruiker\\AppData\\Local\\Temp\\ipykernel_15816\\3182530635.py\", line 16, in pdf_to_text2\n",
      "    with pdfplumber.open(pdf_path) as pdf:\n",
      "         ^^^^^^^^^^^^^^^^^^^^^^^^^\n",
      "  File \"d:\\Programmeren\\adventofcode\\.aocenvpy311\\Lib\\site-packages\\pdfplumber\\pdf.py\", line 78, in open\n",
      "    return cls(\n",
      "           ^^^^\n",
      "  File \"d:\\Programmeren\\adventofcode\\.aocenvpy311\\Lib\\site-packages\\pdfplumber\\pdf.py\", line 40, in __init__\n",
      "    self.doc = PDFDocument(PDFParser(stream), password=password)\n",
      "               ^^^^^^^^^^^^^^^^^^^^^^^^^^^^^^^^^^^^^^^^^^^^^^^^^\n",
      "  File \"d:\\Programmeren\\adventofcode\\.aocenvpy311\\Lib\\site-packages\\pdfminer\\pdfdocument.py\", line 752, in __init__\n",
      "    raise PDFSyntaxError(\"No /Root object! - Is this really a PDF?\")\n",
      "pdfminer.pdfparser.PDFSyntaxError: No /Root object! - Is this really a PDF?\n"
     ]
    },
    {
     "name": "stdout",
     "output_type": "stream",
     "text": [
      "1700\n",
      "1800\n",
      "1900\n",
      "2000\n",
      "download or pdf_to_text error\n"
     ]
    },
    {
     "name": "stderr",
     "output_type": "stream",
     "text": [
      "Traceback (most recent call last):\n",
      "  File \"C:\\Users\\Gebruiker\\AppData\\Local\\Temp\\ipykernel_15816\\1447062882.py\", line 15, in <module>\n",
      "    info[k]['Text'] = pdf_to_text2(path + doc_id +'.pdf')\n",
      "                      ^^^^^^^^^^^^^^^^^^^^^^^^^^^^^^^^^^^\n",
      "  File \"C:\\Users\\Gebruiker\\AppData\\Local\\Temp\\ipykernel_15816\\3182530635.py\", line 16, in pdf_to_text2\n",
      "    with pdfplumber.open(pdf_path) as pdf:\n",
      "         ^^^^^^^^^^^^^^^^^^^^^^^^^\n",
      "  File \"d:\\Programmeren\\adventofcode\\.aocenvpy311\\Lib\\site-packages\\pdfplumber\\pdf.py\", line 78, in open\n",
      "    return cls(\n",
      "           ^^^^\n",
      "  File \"d:\\Programmeren\\adventofcode\\.aocenvpy311\\Lib\\site-packages\\pdfplumber\\pdf.py\", line 40, in __init__\n",
      "    self.doc = PDFDocument(PDFParser(stream), password=password)\n",
      "               ^^^^^^^^^^^^^^^^^^^^^^^^^^^^^^^^^^^^^^^^^^^^^^^^^\n",
      "  File \"d:\\Programmeren\\adventofcode\\.aocenvpy311\\Lib\\site-packages\\pdfminer\\pdfdocument.py\", line 752, in __init__\n",
      "    raise PDFSyntaxError(\"No /Root object! - Is this really a PDF?\")\n",
      "pdfminer.pdfparser.PDFSyntaxError: No /Root object! - Is this really a PDF?\n"
     ]
    },
    {
     "name": "stdout",
     "output_type": "stream",
     "text": [
      "2100\n",
      "2200\n",
      "2300\n",
      "2400\n",
      "2500\n",
      "2600\n",
      "2700\n",
      "2800\n",
      "2900\n",
      "3000\n",
      "download or pdf_to_text error\n"
     ]
    },
    {
     "name": "stderr",
     "output_type": "stream",
     "text": [
      "Traceback (most recent call last):\n",
      "  File \"C:\\Users\\Gebruiker\\AppData\\Local\\Temp\\ipykernel_15816\\1447062882.py\", line 15, in <module>\n",
      "    info[k]['Text'] = pdf_to_text2(path + doc_id +'.pdf')\n",
      "                      ^^^^^^^^^^^^^^^^^^^^^^^^^^^^^^^^^^^\n",
      "  File \"C:\\Users\\Gebruiker\\AppData\\Local\\Temp\\ipykernel_15816\\3182530635.py\", line 16, in pdf_to_text2\n",
      "    with pdfplumber.open(pdf_path) as pdf:\n",
      "         ^^^^^^^^^^^^^^^^^^^^^^^^^\n",
      "  File \"d:\\Programmeren\\adventofcode\\.aocenvpy311\\Lib\\site-packages\\pdfplumber\\pdf.py\", line 78, in open\n",
      "    return cls(\n",
      "           ^^^^\n",
      "  File \"d:\\Programmeren\\adventofcode\\.aocenvpy311\\Lib\\site-packages\\pdfplumber\\pdf.py\", line 40, in __init__\n",
      "    self.doc = PDFDocument(PDFParser(stream), password=password)\n",
      "               ^^^^^^^^^^^^^^^^^^^^^^^^^^^^^^^^^^^^^^^^^^^^^^^^^\n",
      "  File \"d:\\Programmeren\\adventofcode\\.aocenvpy311\\Lib\\site-packages\\pdfminer\\pdfdocument.py\", line 752, in __init__\n",
      "    raise PDFSyntaxError(\"No /Root object! - Is this really a PDF?\")\n",
      "pdfminer.pdfparser.PDFSyntaxError: No /Root object! - Is this really a PDF?\n"
     ]
    },
    {
     "name": "stdout",
     "output_type": "stream",
     "text": [
      "3100\n",
      "3200\n",
      "3300\n",
      "3400\n",
      "3500\n",
      "3600\n",
      "3700\n",
      "3800\n",
      "download or pdf_to_text error\n"
     ]
    },
    {
     "name": "stderr",
     "output_type": "stream",
     "text": [
      "Traceback (most recent call last):\n",
      "  File \"C:\\Users\\Gebruiker\\AppData\\Local\\Temp\\ipykernel_15816\\1447062882.py\", line 15, in <module>\n",
      "    info[k]['Text'] = pdf_to_text2(path + doc_id +'.pdf')\n",
      "                      ^^^^^^^^^^^^^^^^^^^^^^^^^^^^^^^^^^^\n",
      "  File \"C:\\Users\\Gebruiker\\AppData\\Local\\Temp\\ipykernel_15816\\3182530635.py\", line 16, in pdf_to_text2\n",
      "    with pdfplumber.open(pdf_path) as pdf:\n",
      "         ^^^^^^^^^^^^^^^^^^^^^^^^^\n",
      "  File \"d:\\Programmeren\\adventofcode\\.aocenvpy311\\Lib\\site-packages\\pdfplumber\\pdf.py\", line 78, in open\n",
      "    return cls(\n",
      "           ^^^^\n",
      "  File \"d:\\Programmeren\\adventofcode\\.aocenvpy311\\Lib\\site-packages\\pdfplumber\\pdf.py\", line 40, in __init__\n",
      "    self.doc = PDFDocument(PDFParser(stream), password=password)\n",
      "               ^^^^^^^^^^^^^^^^^^^^^^^^^^^^^^^^^^^^^^^^^^^^^^^^^\n",
      "  File \"d:\\Programmeren\\adventofcode\\.aocenvpy311\\Lib\\site-packages\\pdfminer\\pdfdocument.py\", line 752, in __init__\n",
      "    raise PDFSyntaxError(\"No /Root object! - Is this really a PDF?\")\n",
      "pdfminer.pdfparser.PDFSyntaxError: No /Root object! - Is this really a PDF?\n"
     ]
    },
    {
     "name": "stdout",
     "output_type": "stream",
     "text": [
      "download or pdf_to_text error\n"
     ]
    },
    {
     "name": "stderr",
     "output_type": "stream",
     "text": [
      "Traceback (most recent call last):\n",
      "  File \"C:\\Users\\Gebruiker\\AppData\\Local\\Temp\\ipykernel_15816\\1447062882.py\", line 15, in <module>\n",
      "    info[k]['Text'] = pdf_to_text2(path + doc_id +'.pdf')\n",
      "                      ^^^^^^^^^^^^^^^^^^^^^^^^^^^^^^^^^^^\n",
      "  File \"C:\\Users\\Gebruiker\\AppData\\Local\\Temp\\ipykernel_15816\\3182530635.py\", line 16, in pdf_to_text2\n",
      "    with pdfplumber.open(pdf_path) as pdf:\n",
      "         ^^^^^^^^^^^^^^^^^^^^^^^^^\n",
      "  File \"d:\\Programmeren\\adventofcode\\.aocenvpy311\\Lib\\site-packages\\pdfplumber\\pdf.py\", line 78, in open\n",
      "    return cls(\n",
      "           ^^^^\n",
      "  File \"d:\\Programmeren\\adventofcode\\.aocenvpy311\\Lib\\site-packages\\pdfplumber\\pdf.py\", line 40, in __init__\n",
      "    self.doc = PDFDocument(PDFParser(stream), password=password)\n",
      "               ^^^^^^^^^^^^^^^^^^^^^^^^^^^^^^^^^^^^^^^^^^^^^^^^^\n",
      "  File \"d:\\Programmeren\\adventofcode\\.aocenvpy311\\Lib\\site-packages\\pdfminer\\pdfdocument.py\", line 752, in __init__\n",
      "    raise PDFSyntaxError(\"No /Root object! - Is this really a PDF?\")\n",
      "pdfminer.pdfparser.PDFSyntaxError: No /Root object! - Is this really a PDF?\n"
     ]
    },
    {
     "name": "stdout",
     "output_type": "stream",
     "text": [
      "3900\n",
      "4000\n",
      "download or pdf_to_text error\n"
     ]
    },
    {
     "name": "stderr",
     "output_type": "stream",
     "text": [
      "Traceback (most recent call last):\n",
      "  File \"C:\\Users\\Gebruiker\\AppData\\Local\\Temp\\ipykernel_15816\\1447062882.py\", line 15, in <module>\n",
      "    info[k]['Text'] = pdf_to_text2(path + doc_id +'.pdf')\n",
      "                      ^^^^^^^^^^^^^^^^^^^^^^^^^^^^^^^^^^^\n",
      "  File \"C:\\Users\\Gebruiker\\AppData\\Local\\Temp\\ipykernel_15816\\3182530635.py\", line 16, in pdf_to_text2\n",
      "    with pdfplumber.open(pdf_path) as pdf:\n",
      "         ^^^^^^^^^^^^^^^^^^^^^^^^^\n",
      "  File \"d:\\Programmeren\\adventofcode\\.aocenvpy311\\Lib\\site-packages\\pdfplumber\\pdf.py\", line 78, in open\n",
      "    return cls(\n",
      "           ^^^^\n",
      "  File \"d:\\Programmeren\\adventofcode\\.aocenvpy311\\Lib\\site-packages\\pdfplumber\\pdf.py\", line 40, in __init__\n",
      "    self.doc = PDFDocument(PDFParser(stream), password=password)\n",
      "               ^^^^^^^^^^^^^^^^^^^^^^^^^^^^^^^^^^^^^^^^^^^^^^^^^\n",
      "  File \"d:\\Programmeren\\adventofcode\\.aocenvpy311\\Lib\\site-packages\\pdfminer\\pdfdocument.py\", line 752, in __init__\n",
      "    raise PDFSyntaxError(\"No /Root object! - Is this really a PDF?\")\n",
      "pdfminer.pdfparser.PDFSyntaxError: No /Root object! - Is this really a PDF?\n"
     ]
    },
    {
     "name": "stdout",
     "output_type": "stream",
     "text": [
      "4100\n",
      "4200\n",
      "4300\n",
      "4400\n",
      "download or pdf_to_text error\n"
     ]
    },
    {
     "name": "stderr",
     "output_type": "stream",
     "text": [
      "Traceback (most recent call last):\n",
      "  File \"C:\\Users\\Gebruiker\\AppData\\Local\\Temp\\ipykernel_15816\\1447062882.py\", line 15, in <module>\n",
      "    info[k]['Text'] = pdf_to_text2(path + doc_id +'.pdf')\n",
      "                      ^^^^^^^^^^^^^^^^^^^^^^^^^^^^^^^^^^^\n",
      "  File \"C:\\Users\\Gebruiker\\AppData\\Local\\Temp\\ipykernel_15816\\3182530635.py\", line 16, in pdf_to_text2\n",
      "    with pdfplumber.open(pdf_path) as pdf:\n",
      "         ^^^^^^^^^^^^^^^^^^^^^^^^^\n",
      "  File \"d:\\Programmeren\\adventofcode\\.aocenvpy311\\Lib\\site-packages\\pdfplumber\\pdf.py\", line 78, in open\n",
      "    return cls(\n",
      "           ^^^^\n",
      "  File \"d:\\Programmeren\\adventofcode\\.aocenvpy311\\Lib\\site-packages\\pdfplumber\\pdf.py\", line 40, in __init__\n",
      "    self.doc = PDFDocument(PDFParser(stream), password=password)\n",
      "               ^^^^^^^^^^^^^^^^^^^^^^^^^^^^^^^^^^^^^^^^^^^^^^^^^\n",
      "  File \"d:\\Programmeren\\adventofcode\\.aocenvpy311\\Lib\\site-packages\\pdfminer\\pdfdocument.py\", line 752, in __init__\n",
      "    raise PDFSyntaxError(\"No /Root object! - Is this really a PDF?\")\n",
      "pdfminer.pdfparser.PDFSyntaxError: No /Root object! - Is this really a PDF?\n"
     ]
    },
    {
     "name": "stdout",
     "output_type": "stream",
     "text": [
      "4500\n",
      "4600\n",
      "download or pdf_to_text error\n"
     ]
    },
    {
     "name": "stderr",
     "output_type": "stream",
     "text": [
      "Traceback (most recent call last):\n",
      "  File \"C:\\Users\\Gebruiker\\AppData\\Local\\Temp\\ipykernel_15816\\1447062882.py\", line 15, in <module>\n",
      "    info[k]['Text'] = pdf_to_text2(path + doc_id +'.pdf')\n",
      "                      ^^^^^^^^^^^^^^^^^^^^^^^^^^^^^^^^^^^\n",
      "  File \"C:\\Users\\Gebruiker\\AppData\\Local\\Temp\\ipykernel_15816\\3182530635.py\", line 16, in pdf_to_text2\n",
      "    with pdfplumber.open(pdf_path) as pdf:\n",
      "         ^^^^^^^^^^^^^^^^^^^^^^^^^\n",
      "  File \"d:\\Programmeren\\adventofcode\\.aocenvpy311\\Lib\\site-packages\\pdfplumber\\pdf.py\", line 78, in open\n",
      "    return cls(\n",
      "           ^^^^\n",
      "  File \"d:\\Programmeren\\adventofcode\\.aocenvpy311\\Lib\\site-packages\\pdfplumber\\pdf.py\", line 40, in __init__\n",
      "    self.doc = PDFDocument(PDFParser(stream), password=password)\n",
      "               ^^^^^^^^^^^^^^^^^^^^^^^^^^^^^^^^^^^^^^^^^^^^^^^^^\n",
      "  File \"d:\\Programmeren\\adventofcode\\.aocenvpy311\\Lib\\site-packages\\pdfminer\\pdfdocument.py\", line 752, in __init__\n",
      "    raise PDFSyntaxError(\"No /Root object! - Is this really a PDF?\")\n",
      "pdfminer.pdfparser.PDFSyntaxError: No /Root object! - Is this really a PDF?\n"
     ]
    },
    {
     "name": "stdout",
     "output_type": "stream",
     "text": [
      "4700\n",
      "4800\n",
      "4900\n",
      "5000\n",
      "5100\n",
      "5200\n",
      "download or pdf_to_text error\n"
     ]
    },
    {
     "name": "stderr",
     "output_type": "stream",
     "text": [
      "Traceback (most recent call last):\n",
      "  File \"C:\\Users\\Gebruiker\\AppData\\Local\\Temp\\ipykernel_15816\\1447062882.py\", line 15, in <module>\n",
      "    info[k]['Text'] = pdf_to_text2(path + doc_id +'.pdf')\n",
      "                      ^^^^^^^^^^^^^^^^^^^^^^^^^^^^^^^^^^^\n",
      "  File \"C:\\Users\\Gebruiker\\AppData\\Local\\Temp\\ipykernel_15816\\3182530635.py\", line 16, in pdf_to_text2\n",
      "    with pdfplumber.open(pdf_path) as pdf:\n",
      "         ^^^^^^^^^^^^^^^^^^^^^^^^^\n",
      "  File \"d:\\Programmeren\\adventofcode\\.aocenvpy311\\Lib\\site-packages\\pdfplumber\\pdf.py\", line 78, in open\n",
      "    return cls(\n",
      "           ^^^^\n",
      "  File \"d:\\Programmeren\\adventofcode\\.aocenvpy311\\Lib\\site-packages\\pdfplumber\\pdf.py\", line 40, in __init__\n",
      "    self.doc = PDFDocument(PDFParser(stream), password=password)\n",
      "               ^^^^^^^^^^^^^^^^^^^^^^^^^^^^^^^^^^^^^^^^^^^^^^^^^\n",
      "  File \"d:\\Programmeren\\adventofcode\\.aocenvpy311\\Lib\\site-packages\\pdfminer\\pdfdocument.py\", line 752, in __init__\n",
      "    raise PDFSyntaxError(\"No /Root object! - Is this really a PDF?\")\n",
      "pdfminer.pdfparser.PDFSyntaxError: No /Root object! - Is this really a PDF?\n"
     ]
    },
    {
     "name": "stdout",
     "output_type": "stream",
     "text": [
      "5300\n",
      "5400\n",
      "5500\n",
      "5600\n",
      "5700\n",
      "5800\n",
      "5900\n",
      "6000\n",
      "6100\n",
      "6200\n",
      "6300\n",
      "6400\n",
      "6500\n",
      "6600\n",
      "6700\n",
      "6800\n",
      "6900\n",
      "7000\n",
      "7100\n",
      "7200\n",
      "download or pdf_to_text error\n"
     ]
    },
    {
     "name": "stderr",
     "output_type": "stream",
     "text": [
      "Traceback (most recent call last):\n",
      "  File \"C:\\Users\\Gebruiker\\AppData\\Local\\Temp\\ipykernel_15816\\1447062882.py\", line 15, in <module>\n",
      "    info[k]['Text'] = pdf_to_text2(path + doc_id +'.pdf')\n",
      "                      ^^^^^^^^^^^^^^^^^^^^^^^^^^^^^^^^^^^\n",
      "  File \"C:\\Users\\Gebruiker\\AppData\\Local\\Temp\\ipykernel_15816\\3182530635.py\", line 16, in pdf_to_text2\n",
      "    with pdfplumber.open(pdf_path) as pdf:\n",
      "         ^^^^^^^^^^^^^^^^^^^^^^^^^\n",
      "  File \"d:\\Programmeren\\adventofcode\\.aocenvpy311\\Lib\\site-packages\\pdfplumber\\pdf.py\", line 78, in open\n",
      "    return cls(\n",
      "           ^^^^\n",
      "  File \"d:\\Programmeren\\adventofcode\\.aocenvpy311\\Lib\\site-packages\\pdfplumber\\pdf.py\", line 40, in __init__\n",
      "    self.doc = PDFDocument(PDFParser(stream), password=password)\n",
      "               ^^^^^^^^^^^^^^^^^^^^^^^^^^^^^^^^^^^^^^^^^^^^^^^^^\n",
      "  File \"d:\\Programmeren\\adventofcode\\.aocenvpy311\\Lib\\site-packages\\pdfminer\\pdfdocument.py\", line 752, in __init__\n",
      "    raise PDFSyntaxError(\"No /Root object! - Is this really a PDF?\")\n",
      "pdfminer.pdfparser.PDFSyntaxError: No /Root object! - Is this really a PDF?\n"
     ]
    },
    {
     "name": "stdout",
     "output_type": "stream",
     "text": [
      "download or pdf_to_text error\n"
     ]
    },
    {
     "name": "stderr",
     "output_type": "stream",
     "text": [
      "Traceback (most recent call last):\n",
      "  File \"C:\\Users\\Gebruiker\\AppData\\Local\\Temp\\ipykernel_15816\\1447062882.py\", line 15, in <module>\n",
      "    info[k]['Text'] = pdf_to_text2(path + doc_id +'.pdf')\n",
      "                      ^^^^^^^^^^^^^^^^^^^^^^^^^^^^^^^^^^^\n",
      "  File \"C:\\Users\\Gebruiker\\AppData\\Local\\Temp\\ipykernel_15816\\3182530635.py\", line 16, in pdf_to_text2\n",
      "    with pdfplumber.open(pdf_path) as pdf:\n",
      "         ^^^^^^^^^^^^^^^^^^^^^^^^^\n",
      "  File \"d:\\Programmeren\\adventofcode\\.aocenvpy311\\Lib\\site-packages\\pdfplumber\\pdf.py\", line 78, in open\n",
      "    return cls(\n",
      "           ^^^^\n",
      "  File \"d:\\Programmeren\\adventofcode\\.aocenvpy311\\Lib\\site-packages\\pdfplumber\\pdf.py\", line 40, in __init__\n",
      "    self.doc = PDFDocument(PDFParser(stream), password=password)\n",
      "               ^^^^^^^^^^^^^^^^^^^^^^^^^^^^^^^^^^^^^^^^^^^^^^^^^\n",
      "  File \"d:\\Programmeren\\adventofcode\\.aocenvpy311\\Lib\\site-packages\\pdfminer\\pdfdocument.py\", line 752, in __init__\n",
      "    raise PDFSyntaxError(\"No /Root object! - Is this really a PDF?\")\n",
      "pdfminer.pdfparser.PDFSyntaxError: No /Root object! - Is this really a PDF?\n"
     ]
    },
    {
     "name": "stdout",
     "output_type": "stream",
     "text": [
      "7300\n",
      "7400\n",
      "7500\n",
      "download or pdf_to_text error\n"
     ]
    },
    {
     "name": "stderr",
     "output_type": "stream",
     "text": [
      "Traceback (most recent call last):\n",
      "  File \"C:\\Users\\Gebruiker\\AppData\\Local\\Temp\\ipykernel_15816\\1447062882.py\", line 15, in <module>\n",
      "    info[k]['Text'] = pdf_to_text2(path + doc_id +'.pdf')\n",
      "                      ^^^^^^^^^^^^^^^^^^^^^^^^^^^^^^^^^^^\n",
      "  File \"C:\\Users\\Gebruiker\\AppData\\Local\\Temp\\ipykernel_15816\\3182530635.py\", line 16, in pdf_to_text2\n",
      "    with pdfplumber.open(pdf_path) as pdf:\n",
      "         ^^^^^^^^^^^^^^^^^^^^^^^^^\n",
      "  File \"d:\\Programmeren\\adventofcode\\.aocenvpy311\\Lib\\site-packages\\pdfplumber\\pdf.py\", line 78, in open\n",
      "    return cls(\n",
      "           ^^^^\n",
      "  File \"d:\\Programmeren\\adventofcode\\.aocenvpy311\\Lib\\site-packages\\pdfplumber\\pdf.py\", line 40, in __init__\n",
      "    self.doc = PDFDocument(PDFParser(stream), password=password)\n",
      "               ^^^^^^^^^^^^^^^^^^^^^^^^^^^^^^^^^^^^^^^^^^^^^^^^^\n",
      "  File \"d:\\Programmeren\\adventofcode\\.aocenvpy311\\Lib\\site-packages\\pdfminer\\pdfdocument.py\", line 752, in __init__\n",
      "    raise PDFSyntaxError(\"No /Root object! - Is this really a PDF?\")\n",
      "pdfminer.pdfparser.PDFSyntaxError: No /Root object! - Is this really a PDF?\n"
     ]
    },
    {
     "name": "stdout",
     "output_type": "stream",
     "text": [
      "download or pdf_to_text error\n"
     ]
    },
    {
     "name": "stderr",
     "output_type": "stream",
     "text": [
      "Traceback (most recent call last):\n",
      "  File \"C:\\Users\\Gebruiker\\AppData\\Local\\Temp\\ipykernel_15816\\1447062882.py\", line 15, in <module>\n",
      "    info[k]['Text'] = pdf_to_text2(path + doc_id +'.pdf')\n",
      "                      ^^^^^^^^^^^^^^^^^^^^^^^^^^^^^^^^^^^\n",
      "  File \"C:\\Users\\Gebruiker\\AppData\\Local\\Temp\\ipykernel_15816\\3182530635.py\", line 16, in pdf_to_text2\n",
      "    with pdfplumber.open(pdf_path) as pdf:\n",
      "         ^^^^^^^^^^^^^^^^^^^^^^^^^\n",
      "  File \"d:\\Programmeren\\adventofcode\\.aocenvpy311\\Lib\\site-packages\\pdfplumber\\pdf.py\", line 78, in open\n",
      "    return cls(\n",
      "           ^^^^\n",
      "  File \"d:\\Programmeren\\adventofcode\\.aocenvpy311\\Lib\\site-packages\\pdfplumber\\pdf.py\", line 40, in __init__\n",
      "    self.doc = PDFDocument(PDFParser(stream), password=password)\n",
      "               ^^^^^^^^^^^^^^^^^^^^^^^^^^^^^^^^^^^^^^^^^^^^^^^^^\n",
      "  File \"d:\\Programmeren\\adventofcode\\.aocenvpy311\\Lib\\site-packages\\pdfminer\\pdfdocument.py\", line 752, in __init__\n",
      "    raise PDFSyntaxError(\"No /Root object! - Is this really a PDF?\")\n",
      "pdfminer.pdfparser.PDFSyntaxError: No /Root object! - Is this really a PDF?\n"
     ]
    },
    {
     "name": "stdout",
     "output_type": "stream",
     "text": [
      "7600\n",
      "7700\n",
      "7800\n",
      "7900\n",
      "8000\n",
      "8100\n",
      "8200\n",
      "8300\n",
      "8400\n",
      "download or pdf_to_text error\n"
     ]
    },
    {
     "name": "stderr",
     "output_type": "stream",
     "text": [
      "Traceback (most recent call last):\n",
      "  File \"C:\\Users\\Gebruiker\\AppData\\Local\\Temp\\ipykernel_15816\\1447062882.py\", line 15, in <module>\n",
      "    info[k]['Text'] = pdf_to_text2(path + doc_id +'.pdf')\n",
      "                      ^^^^^^^^^^^^^^^^^^^^^^^^^^^^^^^^^^^\n",
      "  File \"C:\\Users\\Gebruiker\\AppData\\Local\\Temp\\ipykernel_15816\\3182530635.py\", line 16, in pdf_to_text2\n",
      "    with pdfplumber.open(pdf_path) as pdf:\n",
      "         ^^^^^^^^^^^^^^^^^^^^^^^^^\n",
      "  File \"d:\\Programmeren\\adventofcode\\.aocenvpy311\\Lib\\site-packages\\pdfplumber\\pdf.py\", line 78, in open\n",
      "    return cls(\n",
      "           ^^^^\n",
      "  File \"d:\\Programmeren\\adventofcode\\.aocenvpy311\\Lib\\site-packages\\pdfplumber\\pdf.py\", line 40, in __init__\n",
      "    self.doc = PDFDocument(PDFParser(stream), password=password)\n",
      "               ^^^^^^^^^^^^^^^^^^^^^^^^^^^^^^^^^^^^^^^^^^^^^^^^^\n",
      "  File \"d:\\Programmeren\\adventofcode\\.aocenvpy311\\Lib\\site-packages\\pdfminer\\pdfdocument.py\", line 752, in __init__\n",
      "    raise PDFSyntaxError(\"No /Root object! - Is this really a PDF?\")\n",
      "pdfminer.pdfparser.PDFSyntaxError: No /Root object! - Is this really a PDF?\n"
     ]
    },
    {
     "name": "stdout",
     "output_type": "stream",
     "text": [
      "8500\n",
      "download or pdf_to_text error\n"
     ]
    },
    {
     "name": "stderr",
     "output_type": "stream",
     "text": [
      "Traceback (most recent call last):\n",
      "  File \"C:\\Users\\Gebruiker\\AppData\\Local\\Temp\\ipykernel_15816\\1447062882.py\", line 15, in <module>\n",
      "    info[k]['Text'] = pdf_to_text2(path + doc_id +'.pdf')\n",
      "                      ^^^^^^^^^^^^^^^^^^^^^^^^^^^^^^^^^^^\n",
      "  File \"C:\\Users\\Gebruiker\\AppData\\Local\\Temp\\ipykernel_15816\\3182530635.py\", line 16, in pdf_to_text2\n",
      "    with pdfplumber.open(pdf_path) as pdf:\n",
      "         ^^^^^^^^^^^^^^^^^^^^^^^^^\n",
      "  File \"d:\\Programmeren\\adventofcode\\.aocenvpy311\\Lib\\site-packages\\pdfplumber\\pdf.py\", line 78, in open\n",
      "    return cls(\n",
      "           ^^^^\n",
      "  File \"d:\\Programmeren\\adventofcode\\.aocenvpy311\\Lib\\site-packages\\pdfplumber\\pdf.py\", line 40, in __init__\n",
      "    self.doc = PDFDocument(PDFParser(stream), password=password)\n",
      "               ^^^^^^^^^^^^^^^^^^^^^^^^^^^^^^^^^^^^^^^^^^^^^^^^^\n",
      "  File \"d:\\Programmeren\\adventofcode\\.aocenvpy311\\Lib\\site-packages\\pdfminer\\pdfdocument.py\", line 752, in __init__\n",
      "    raise PDFSyntaxError(\"No /Root object! - Is this really a PDF?\")\n",
      "pdfminer.pdfparser.PDFSyntaxError: No /Root object! - Is this really a PDF?\n"
     ]
    },
    {
     "name": "stdout",
     "output_type": "stream",
     "text": [
      "8600\n",
      "8700\n",
      "8800\n",
      "8900\n",
      "9000\n",
      "9100\n",
      "9200\n",
      "9300\n",
      "9400\n",
      "9500\n",
      "9600\n",
      "9700\n",
      "9800\n",
      "9900\n",
      "10000\n",
      "10100\n",
      "10200\n",
      "10300\n",
      "10400\n",
      "10500\n",
      "10600\n",
      "10700\n",
      "10800\n",
      "10900\n",
      "11000\n",
      "11100\n",
      "11200\n",
      "11300\n",
      "11400\n",
      "11500\n",
      "11600\n",
      "11700\n",
      "download or pdf_to_text error\n",
      "download or pdf_to_text error\n"
     ]
    },
    {
     "name": "stderr",
     "output_type": "stream",
     "text": [
      "Traceback (most recent call last):\n",
      "  File \"C:\\Users\\Gebruiker\\AppData\\Local\\Temp\\ipykernel_15816\\1447062882.py\", line 15, in <module>\n",
      "    info[k]['Text'] = pdf_to_text2(path + doc_id +'.pdf')\n",
      "                      ^^^^^^^^^^^^^^^^^^^^^^^^^^^^^^^^^^^\n",
      "  File \"C:\\Users\\Gebruiker\\AppData\\Local\\Temp\\ipykernel_15816\\3182530635.py\", line 16, in pdf_to_text2\n",
      "    with pdfplumber.open(pdf_path) as pdf:\n",
      "         ^^^^^^^^^^^^^^^^^^^^^^^^^\n",
      "  File \"d:\\Programmeren\\adventofcode\\.aocenvpy311\\Lib\\site-packages\\pdfplumber\\pdf.py\", line 78, in open\n",
      "    return cls(\n",
      "           ^^^^\n",
      "  File \"d:\\Programmeren\\adventofcode\\.aocenvpy311\\Lib\\site-packages\\pdfplumber\\pdf.py\", line 40, in __init__\n",
      "    self.doc = PDFDocument(PDFParser(stream), password=password)\n",
      "               ^^^^^^^^^^^^^^^^^^^^^^^^^^^^^^^^^^^^^^^^^^^^^^^^^\n",
      "  File \"d:\\Programmeren\\adventofcode\\.aocenvpy311\\Lib\\site-packages\\pdfminer\\pdfdocument.py\", line 752, in __init__\n",
      "    raise PDFSyntaxError(\"No /Root object! - Is this really a PDF?\")\n",
      "pdfminer.pdfparser.PDFSyntaxError: No /Root object! - Is this really a PDF?\n",
      "Traceback (most recent call last):\n",
      "  File \"C:\\Users\\Gebruiker\\AppData\\Local\\Temp\\ipykernel_15816\\1447062882.py\", line 15, in <module>\n",
      "    info[k]['Text'] = pdf_to_text2(path + doc_id +'.pdf')\n",
      "                      ^^^^^^^^^^^^^^^^^^^^^^^^^^^^^^^^^^^\n",
      "  File \"C:\\Users\\Gebruiker\\AppData\\Local\\Temp\\ipykernel_15816\\3182530635.py\", line 16, in pdf_to_text2\n",
      "    with pdfplumber.open(pdf_path) as pdf:\n",
      "         ^^^^^^^^^^^^^^^^^^^^^^^^^\n",
      "  File \"d:\\Programmeren\\adventofcode\\.aocenvpy311\\Lib\\site-packages\\pdfplumber\\pdf.py\", line 78, in open\n",
      "    return cls(\n",
      "           ^^^^\n",
      "  File \"d:\\Programmeren\\adventofcode\\.aocenvpy311\\Lib\\site-packages\\pdfplumber\\pdf.py\", line 40, in __init__\n",
      "    self.doc = PDFDocument(PDFParser(stream), password=password)\n",
      "               ^^^^^^^^^^^^^^^^^^^^^^^^^^^^^^^^^^^^^^^^^^^^^^^^^\n",
      "  File \"d:\\Programmeren\\adventofcode\\.aocenvpy311\\Lib\\site-packages\\pdfminer\\pdfdocument.py\", line 752, in __init__\n",
      "    raise PDFSyntaxError(\"No /Root object! - Is this really a PDF?\")\n",
      "pdfminer.pdfparser.PDFSyntaxError: No /Root object! - Is this really a PDF?\n"
     ]
    },
    {
     "name": "stdout",
     "output_type": "stream",
     "text": [
      "11800\n",
      "11900\n",
      "12000\n",
      "12100\n",
      "12200\n",
      "12300\n",
      "12400\n",
      "12500\n",
      "download or pdf_to_text error\n"
     ]
    },
    {
     "name": "stderr",
     "output_type": "stream",
     "text": [
      "Traceback (most recent call last):\n",
      "  File \"C:\\Users\\Gebruiker\\AppData\\Local\\Temp\\ipykernel_15816\\1447062882.py\", line 15, in <module>\n",
      "    info[k]['Text'] = pdf_to_text2(path + doc_id +'.pdf')\n",
      "                      ^^^^^^^^^^^^^^^^^^^^^^^^^^^^^^^^^^^\n",
      "  File \"C:\\Users\\Gebruiker\\AppData\\Local\\Temp\\ipykernel_15816\\3182530635.py\", line 16, in pdf_to_text2\n",
      "    with pdfplumber.open(pdf_path) as pdf:\n",
      "         ^^^^^^^^^^^^^^^^^^^^^^^^^\n",
      "  File \"d:\\Programmeren\\adventofcode\\.aocenvpy311\\Lib\\site-packages\\pdfplumber\\pdf.py\", line 78, in open\n",
      "    return cls(\n",
      "           ^^^^\n",
      "  File \"d:\\Programmeren\\adventofcode\\.aocenvpy311\\Lib\\site-packages\\pdfplumber\\pdf.py\", line 40, in __init__\n",
      "    self.doc = PDFDocument(PDFParser(stream), password=password)\n",
      "               ^^^^^^^^^^^^^^^^^^^^^^^^^^^^^^^^^^^^^^^^^^^^^^^^^\n",
      "  File \"d:\\Programmeren\\adventofcode\\.aocenvpy311\\Lib\\site-packages\\pdfminer\\pdfdocument.py\", line 752, in __init__\n",
      "    raise PDFSyntaxError(\"No /Root object! - Is this really a PDF?\")\n",
      "pdfminer.pdfparser.PDFSyntaxError: No /Root object! - Is this really a PDF?\n"
     ]
    },
    {
     "name": "stdout",
     "output_type": "stream",
     "text": [
      "12600\n",
      "12700\n",
      "12800\n",
      "12900\n",
      "download or pdf_to_text error\n",
      "13000\n"
     ]
    },
    {
     "name": "stderr",
     "output_type": "stream",
     "text": [
      "Traceback (most recent call last):\n",
      "  File \"C:\\Users\\Gebruiker\\AppData\\Local\\Temp\\ipykernel_15816\\1447062882.py\", line 15, in <module>\n",
      "    info[k]['Text'] = pdf_to_text2(path + doc_id +'.pdf')\n",
      "                      ^^^^^^^^^^^^^^^^^^^^^^^^^^^^^^^^^^^\n",
      "  File \"C:\\Users\\Gebruiker\\AppData\\Local\\Temp\\ipykernel_15816\\3182530635.py\", line 16, in pdf_to_text2\n",
      "    with pdfplumber.open(pdf_path) as pdf:\n",
      "         ^^^^^^^^^^^^^^^^^^^^^^^^^\n",
      "  File \"d:\\Programmeren\\adventofcode\\.aocenvpy311\\Lib\\site-packages\\pdfplumber\\pdf.py\", line 78, in open\n",
      "    return cls(\n",
      "           ^^^^\n",
      "  File \"d:\\Programmeren\\adventofcode\\.aocenvpy311\\Lib\\site-packages\\pdfplumber\\pdf.py\", line 40, in __init__\n",
      "    self.doc = PDFDocument(PDFParser(stream), password=password)\n",
      "               ^^^^^^^^^^^^^^^^^^^^^^^^^^^^^^^^^^^^^^^^^^^^^^^^^\n",
      "  File \"d:\\Programmeren\\adventofcode\\.aocenvpy311\\Lib\\site-packages\\pdfminer\\pdfdocument.py\", line 752, in __init__\n",
      "    raise PDFSyntaxError(\"No /Root object! - Is this really a PDF?\")\n",
      "pdfminer.pdfparser.PDFSyntaxError: No /Root object! - Is this really a PDF?\n"
     ]
    },
    {
     "name": "stdout",
     "output_type": "stream",
     "text": [
      "13100\n",
      "13200\n",
      "download or pdf_to_text error\n"
     ]
    },
    {
     "name": "stderr",
     "output_type": "stream",
     "text": [
      "Traceback (most recent call last):\n",
      "  File \"C:\\Users\\Gebruiker\\AppData\\Local\\Temp\\ipykernel_15816\\1447062882.py\", line 15, in <module>\n",
      "    info[k]['Text'] = pdf_to_text2(path + doc_id +'.pdf')\n",
      "                      ^^^^^^^^^^^^^^^^^^^^^^^^^^^^^^^^^^^\n",
      "  File \"C:\\Users\\Gebruiker\\AppData\\Local\\Temp\\ipykernel_15816\\3182530635.py\", line 16, in pdf_to_text2\n",
      "    with pdfplumber.open(pdf_path) as pdf:\n",
      "         ^^^^^^^^^^^^^^^^^^^^^^^^^\n",
      "  File \"d:\\Programmeren\\adventofcode\\.aocenvpy311\\Lib\\site-packages\\pdfplumber\\pdf.py\", line 78, in open\n",
      "    return cls(\n",
      "           ^^^^\n",
      "  File \"d:\\Programmeren\\adventofcode\\.aocenvpy311\\Lib\\site-packages\\pdfplumber\\pdf.py\", line 40, in __init__\n",
      "    self.doc = PDFDocument(PDFParser(stream), password=password)\n",
      "               ^^^^^^^^^^^^^^^^^^^^^^^^^^^^^^^^^^^^^^^^^^^^^^^^^\n",
      "  File \"d:\\Programmeren\\adventofcode\\.aocenvpy311\\Lib\\site-packages\\pdfminer\\pdfdocument.py\", line 752, in __init__\n",
      "    raise PDFSyntaxError(\"No /Root object! - Is this really a PDF?\")\n",
      "pdfminer.pdfparser.PDFSyntaxError: No /Root object! - Is this really a PDF?\n"
     ]
    },
    {
     "name": "stdout",
     "output_type": "stream",
     "text": [
      "13300\n",
      "download or pdf_to_text error\n"
     ]
    },
    {
     "name": "stderr",
     "output_type": "stream",
     "text": [
      "Traceback (most recent call last):\n",
      "  File \"C:\\Users\\Gebruiker\\AppData\\Local\\Temp\\ipykernel_15816\\1447062882.py\", line 15, in <module>\n",
      "    info[k]['Text'] = pdf_to_text2(path + doc_id +'.pdf')\n",
      "                      ^^^^^^^^^^^^^^^^^^^^^^^^^^^^^^^^^^^\n",
      "  File \"C:\\Users\\Gebruiker\\AppData\\Local\\Temp\\ipykernel_15816\\3182530635.py\", line 16, in pdf_to_text2\n",
      "    with pdfplumber.open(pdf_path) as pdf:\n",
      "         ^^^^^^^^^^^^^^^^^^^^^^^^^\n",
      "  File \"d:\\Programmeren\\adventofcode\\.aocenvpy311\\Lib\\site-packages\\pdfplumber\\pdf.py\", line 78, in open\n",
      "    return cls(\n",
      "           ^^^^\n",
      "  File \"d:\\Programmeren\\adventofcode\\.aocenvpy311\\Lib\\site-packages\\pdfplumber\\pdf.py\", line 40, in __init__\n",
      "    self.doc = PDFDocument(PDFParser(stream), password=password)\n",
      "               ^^^^^^^^^^^^^^^^^^^^^^^^^^^^^^^^^^^^^^^^^^^^^^^^^\n",
      "  File \"d:\\Programmeren\\adventofcode\\.aocenvpy311\\Lib\\site-packages\\pdfminer\\pdfdocument.py\", line 752, in __init__\n",
      "    raise PDFSyntaxError(\"No /Root object! - Is this really a PDF?\")\n",
      "pdfminer.pdfparser.PDFSyntaxError: No /Root object! - Is this really a PDF?\n"
     ]
    },
    {
     "name": "stdout",
     "output_type": "stream",
     "text": [
      "13400\n",
      "13500\n",
      "13600\n",
      "13700\n",
      "download or pdf_to_text error\n"
     ]
    },
    {
     "name": "stderr",
     "output_type": "stream",
     "text": [
      "Traceback (most recent call last):\n",
      "  File \"C:\\Users\\Gebruiker\\AppData\\Local\\Temp\\ipykernel_15816\\1447062882.py\", line 15, in <module>\n",
      "    info[k]['Text'] = pdf_to_text2(path + doc_id +'.pdf')\n",
      "                      ^^^^^^^^^^^^^^^^^^^^^^^^^^^^^^^^^^^\n",
      "  File \"C:\\Users\\Gebruiker\\AppData\\Local\\Temp\\ipykernel_15816\\3182530635.py\", line 16, in pdf_to_text2\n",
      "    with pdfplumber.open(pdf_path) as pdf:\n",
      "         ^^^^^^^^^^^^^^^^^^^^^^^^^\n",
      "  File \"d:\\Programmeren\\adventofcode\\.aocenvpy311\\Lib\\site-packages\\pdfplumber\\pdf.py\", line 78, in open\n",
      "    return cls(\n",
      "           ^^^^\n",
      "  File \"d:\\Programmeren\\adventofcode\\.aocenvpy311\\Lib\\site-packages\\pdfplumber\\pdf.py\", line 40, in __init__\n",
      "    self.doc = PDFDocument(PDFParser(stream), password=password)\n",
      "               ^^^^^^^^^^^^^^^^^^^^^^^^^^^^^^^^^^^^^^^^^^^^^^^^^\n",
      "  File \"d:\\Programmeren\\adventofcode\\.aocenvpy311\\Lib\\site-packages\\pdfminer\\pdfdocument.py\", line 752, in __init__\n",
      "    raise PDFSyntaxError(\"No /Root object! - Is this really a PDF?\")\n",
      "pdfminer.pdfparser.PDFSyntaxError: No /Root object! - Is this really a PDF?\n"
     ]
    },
    {
     "name": "stdout",
     "output_type": "stream",
     "text": [
      "13800\n",
      "13900\n",
      "14000\n",
      "14100\n",
      "14200\n",
      "14300\n",
      "14400\n",
      "14500\n",
      "14600\n",
      "14700\n",
      "download or pdf_to_text error\n"
     ]
    },
    {
     "name": "stderr",
     "output_type": "stream",
     "text": [
      "Traceback (most recent call last):\n",
      "  File \"C:\\Users\\Gebruiker\\AppData\\Local\\Temp\\ipykernel_15816\\1447062882.py\", line 15, in <module>\n",
      "    info[k]['Text'] = pdf_to_text2(path + doc_id +'.pdf')\n",
      "                      ^^^^^^^^^^^^^^^^^^^^^^^^^^^^^^^^^^^\n",
      "  File \"C:\\Users\\Gebruiker\\AppData\\Local\\Temp\\ipykernel_15816\\3182530635.py\", line 16, in pdf_to_text2\n",
      "    with pdfplumber.open(pdf_path) as pdf:\n",
      "         ^^^^^^^^^^^^^^^^^^^^^^^^^\n",
      "  File \"d:\\Programmeren\\adventofcode\\.aocenvpy311\\Lib\\site-packages\\pdfplumber\\pdf.py\", line 78, in open\n",
      "    return cls(\n",
      "           ^^^^\n",
      "  File \"d:\\Programmeren\\adventofcode\\.aocenvpy311\\Lib\\site-packages\\pdfplumber\\pdf.py\", line 40, in __init__\n",
      "    self.doc = PDFDocument(PDFParser(stream), password=password)\n",
      "               ^^^^^^^^^^^^^^^^^^^^^^^^^^^^^^^^^^^^^^^^^^^^^^^^^\n",
      "  File \"d:\\Programmeren\\adventofcode\\.aocenvpy311\\Lib\\site-packages\\pdfminer\\pdfdocument.py\", line 752, in __init__\n",
      "    raise PDFSyntaxError(\"No /Root object! - Is this really a PDF?\")\n",
      "pdfminer.pdfparser.PDFSyntaxError: No /Root object! - Is this really a PDF?\n"
     ]
    },
    {
     "name": "stdout",
     "output_type": "stream",
     "text": [
      "14800\n",
      "14900\n",
      "download or pdf_to_text error\n"
     ]
    },
    {
     "name": "stderr",
     "output_type": "stream",
     "text": [
      "Traceback (most recent call last):\n",
      "  File \"C:\\Users\\Gebruiker\\AppData\\Local\\Temp\\ipykernel_15816\\1447062882.py\", line 15, in <module>\n",
      "    info[k]['Text'] = pdf_to_text2(path + doc_id +'.pdf')\n",
      "                      ^^^^^^^^^^^^^^^^^^^^^^^^^^^^^^^^^^^\n",
      "  File \"C:\\Users\\Gebruiker\\AppData\\Local\\Temp\\ipykernel_15816\\3182530635.py\", line 16, in pdf_to_text2\n",
      "    with pdfplumber.open(pdf_path) as pdf:\n",
      "         ^^^^^^^^^^^^^^^^^^^^^^^^^\n",
      "  File \"d:\\Programmeren\\adventofcode\\.aocenvpy311\\Lib\\site-packages\\pdfplumber\\pdf.py\", line 78, in open\n",
      "    return cls(\n",
      "           ^^^^\n",
      "  File \"d:\\Programmeren\\adventofcode\\.aocenvpy311\\Lib\\site-packages\\pdfplumber\\pdf.py\", line 40, in __init__\n",
      "    self.doc = PDFDocument(PDFParser(stream), password=password)\n",
      "               ^^^^^^^^^^^^^^^^^^^^^^^^^^^^^^^^^^^^^^^^^^^^^^^^^\n",
      "  File \"d:\\Programmeren\\adventofcode\\.aocenvpy311\\Lib\\site-packages\\pdfminer\\pdfdocument.py\", line 752, in __init__\n",
      "    raise PDFSyntaxError(\"No /Root object! - Is this really a PDF?\")\n",
      "pdfminer.pdfparser.PDFSyntaxError: No /Root object! - Is this really a PDF?\n"
     ]
    },
    {
     "name": "stdout",
     "output_type": "stream",
     "text": [
      "15000\n",
      "15100\n",
      "15200\n",
      "15300\n",
      "15400\n",
      "15500\n",
      "15600\n",
      "15700\n",
      "download or pdf_to_text error\n"
     ]
    },
    {
     "name": "stderr",
     "output_type": "stream",
     "text": [
      "Traceback (most recent call last):\n",
      "  File \"C:\\Users\\Gebruiker\\AppData\\Local\\Temp\\ipykernel_15816\\1447062882.py\", line 15, in <module>\n",
      "    info[k]['Text'] = pdf_to_text2(path + doc_id +'.pdf')\n",
      "                      ^^^^^^^^^^^^^^^^^^^^^^^^^^^^^^^^^^^\n",
      "  File \"C:\\Users\\Gebruiker\\AppData\\Local\\Temp\\ipykernel_15816\\3182530635.py\", line 16, in pdf_to_text2\n",
      "    with pdfplumber.open(pdf_path) as pdf:\n",
      "         ^^^^^^^^^^^^^^^^^^^^^^^^^\n",
      "  File \"d:\\Programmeren\\adventofcode\\.aocenvpy311\\Lib\\site-packages\\pdfplumber\\pdf.py\", line 78, in open\n",
      "    return cls(\n",
      "           ^^^^\n",
      "  File \"d:\\Programmeren\\adventofcode\\.aocenvpy311\\Lib\\site-packages\\pdfplumber\\pdf.py\", line 40, in __init__\n",
      "    self.doc = PDFDocument(PDFParser(stream), password=password)\n",
      "               ^^^^^^^^^^^^^^^^^^^^^^^^^^^^^^^^^^^^^^^^^^^^^^^^^\n",
      "  File \"d:\\Programmeren\\adventofcode\\.aocenvpy311\\Lib\\site-packages\\pdfminer\\pdfdocument.py\", line 752, in __init__\n",
      "    raise PDFSyntaxError(\"No /Root object! - Is this really a PDF?\")\n",
      "pdfminer.pdfparser.PDFSyntaxError: No /Root object! - Is this really a PDF?\n"
     ]
    },
    {
     "name": "stdout",
     "output_type": "stream",
     "text": [
      "15800\n",
      "15900\n",
      "16000\n",
      "16100\n",
      "16200\n",
      "16300\n",
      "16400\n",
      "16500\n",
      "16600\n",
      "16700\n",
      "16800\n",
      "16900\n",
      "17000\n",
      "17100\n",
      "download or pdf_to_text error\n"
     ]
    },
    {
     "name": "stderr",
     "output_type": "stream",
     "text": [
      "Traceback (most recent call last):\n",
      "  File \"C:\\Users\\Gebruiker\\AppData\\Local\\Temp\\ipykernel_15816\\1447062882.py\", line 15, in <module>\n",
      "    info[k]['Text'] = pdf_to_text2(path + doc_id +'.pdf')\n",
      "                      ^^^^^^^^^^^^^^^^^^^^^^^^^^^^^^^^^^^\n",
      "  File \"C:\\Users\\Gebruiker\\AppData\\Local\\Temp\\ipykernel_15816\\3182530635.py\", line 16, in pdf_to_text2\n",
      "    with pdfplumber.open(pdf_path) as pdf:\n",
      "         ^^^^^^^^^^^^^^^^^^^^^^^^^\n",
      "  File \"d:\\Programmeren\\adventofcode\\.aocenvpy311\\Lib\\site-packages\\pdfplumber\\pdf.py\", line 78, in open\n",
      "    return cls(\n",
      "           ^^^^\n",
      "  File \"d:\\Programmeren\\adventofcode\\.aocenvpy311\\Lib\\site-packages\\pdfplumber\\pdf.py\", line 40, in __init__\n",
      "    self.doc = PDFDocument(PDFParser(stream), password=password)\n",
      "               ^^^^^^^^^^^^^^^^^^^^^^^^^^^^^^^^^^^^^^^^^^^^^^^^^\n",
      "  File \"d:\\Programmeren\\adventofcode\\.aocenvpy311\\Lib\\site-packages\\pdfminer\\pdfdocument.py\", line 752, in __init__\n",
      "    raise PDFSyntaxError(\"No /Root object! - Is this really a PDF?\")\n",
      "pdfminer.pdfparser.PDFSyntaxError: No /Root object! - Is this really a PDF?\n"
     ]
    },
    {
     "name": "stdout",
     "output_type": "stream",
     "text": [
      "17200\n",
      "download or pdf_to_text error\n"
     ]
    },
    {
     "name": "stderr",
     "output_type": "stream",
     "text": [
      "Traceback (most recent call last):\n",
      "  File \"C:\\Users\\Gebruiker\\AppData\\Local\\Temp\\ipykernel_15816\\1447062882.py\", line 15, in <module>\n",
      "    info[k]['Text'] = pdf_to_text2(path + doc_id +'.pdf')\n",
      "                      ^^^^^^^^^^^^^^^^^^^^^^^^^^^^^^^^^^^\n",
      "  File \"C:\\Users\\Gebruiker\\AppData\\Local\\Temp\\ipykernel_15816\\3182530635.py\", line 16, in pdf_to_text2\n",
      "    with pdfplumber.open(pdf_path) as pdf:\n",
      "         ^^^^^^^^^^^^^^^^^^^^^^^^^\n",
      "  File \"d:\\Programmeren\\adventofcode\\.aocenvpy311\\Lib\\site-packages\\pdfplumber\\pdf.py\", line 78, in open\n",
      "    return cls(\n",
      "           ^^^^\n",
      "  File \"d:\\Programmeren\\adventofcode\\.aocenvpy311\\Lib\\site-packages\\pdfplumber\\pdf.py\", line 40, in __init__\n",
      "    self.doc = PDFDocument(PDFParser(stream), password=password)\n",
      "               ^^^^^^^^^^^^^^^^^^^^^^^^^^^^^^^^^^^^^^^^^^^^^^^^^\n",
      "  File \"d:\\Programmeren\\adventofcode\\.aocenvpy311\\Lib\\site-packages\\pdfminer\\pdfdocument.py\", line 752, in __init__\n",
      "    raise PDFSyntaxError(\"No /Root object! - Is this really a PDF?\")\n",
      "pdfminer.pdfparser.PDFSyntaxError: No /Root object! - Is this really a PDF?\n"
     ]
    },
    {
     "name": "stdout",
     "output_type": "stream",
     "text": [
      "17300\n",
      "17400\n",
      "17500\n",
      "17600\n",
      "17700\n",
      "17800\n",
      "17900\n",
      "18000\n",
      "18100\n",
      "18200\n",
      "download or pdf_to_text error\n"
     ]
    },
    {
     "name": "stderr",
     "output_type": "stream",
     "text": [
      "Traceback (most recent call last):\n",
      "  File \"C:\\Users\\Gebruiker\\AppData\\Local\\Temp\\ipykernel_15816\\1447062882.py\", line 15, in <module>\n",
      "    info[k]['Text'] = pdf_to_text2(path + doc_id +'.pdf')\n",
      "                      ^^^^^^^^^^^^^^^^^^^^^^^^^^^^^^^^^^^\n",
      "  File \"C:\\Users\\Gebruiker\\AppData\\Local\\Temp\\ipykernel_15816\\3182530635.py\", line 16, in pdf_to_text2\n",
      "    with pdfplumber.open(pdf_path) as pdf:\n",
      "         ^^^^^^^^^^^^^^^^^^^^^^^^^\n",
      "  File \"d:\\Programmeren\\adventofcode\\.aocenvpy311\\Lib\\site-packages\\pdfplumber\\pdf.py\", line 78, in open\n",
      "    return cls(\n",
      "           ^^^^\n",
      "  File \"d:\\Programmeren\\adventofcode\\.aocenvpy311\\Lib\\site-packages\\pdfplumber\\pdf.py\", line 40, in __init__\n",
      "    self.doc = PDFDocument(PDFParser(stream), password=password)\n",
      "               ^^^^^^^^^^^^^^^^^^^^^^^^^^^^^^^^^^^^^^^^^^^^^^^^^\n",
      "  File \"d:\\Programmeren\\adventofcode\\.aocenvpy311\\Lib\\site-packages\\pdfminer\\pdfdocument.py\", line 752, in __init__\n",
      "    raise PDFSyntaxError(\"No /Root object! - Is this really a PDF?\")\n",
      "pdfminer.pdfparser.PDFSyntaxError: No /Root object! - Is this really a PDF?\n"
     ]
    },
    {
     "name": "stdout",
     "output_type": "stream",
     "text": [
      "18300\n",
      "18400\n",
      "18500\n",
      "18600\n",
      "18700\n",
      "18800\n",
      "18900\n",
      "19000\n",
      "19100\n",
      "19200\n",
      "19300\n",
      "19400\n",
      "19500\n",
      "19600\n",
      "19700\n",
      "19800\n",
      "19900\n",
      "20000\n",
      "20100\n",
      "20200\n",
      "20300\n",
      "20400\n",
      "20500\n",
      "20600\n",
      "20700\n",
      "20800\n",
      "20900\n",
      "21000\n",
      "21100\n",
      "21200\n",
      "21300\n",
      "21400\n",
      "download or pdf_to_text error\n"
     ]
    },
    {
     "name": "stderr",
     "output_type": "stream",
     "text": [
      "Traceback (most recent call last):\n",
      "  File \"C:\\Users\\Gebruiker\\AppData\\Local\\Temp\\ipykernel_15816\\1447062882.py\", line 15, in <module>\n",
      "    info[k]['Text'] = pdf_to_text2(path + doc_id +'.pdf')\n",
      "                      ^^^^^^^^^^^^^^^^^^^^^^^^^^^^^^^^^^^\n",
      "  File \"C:\\Users\\Gebruiker\\AppData\\Local\\Temp\\ipykernel_15816\\3182530635.py\", line 16, in pdf_to_text2\n",
      "    with pdfplumber.open(pdf_path) as pdf:\n",
      "         ^^^^^^^^^^^^^^^^^^^^^^^^^\n",
      "  File \"d:\\Programmeren\\adventofcode\\.aocenvpy311\\Lib\\site-packages\\pdfplumber\\pdf.py\", line 78, in open\n",
      "    return cls(\n",
      "           ^^^^\n",
      "  File \"d:\\Programmeren\\adventofcode\\.aocenvpy311\\Lib\\site-packages\\pdfplumber\\pdf.py\", line 40, in __init__\n",
      "    self.doc = PDFDocument(PDFParser(stream), password=password)\n",
      "               ^^^^^^^^^^^^^^^^^^^^^^^^^^^^^^^^^^^^^^^^^^^^^^^^^\n",
      "  File \"d:\\Programmeren\\adventofcode\\.aocenvpy311\\Lib\\site-packages\\pdfminer\\pdfdocument.py\", line 752, in __init__\n",
      "    raise PDFSyntaxError(\"No /Root object! - Is this really a PDF?\")\n",
      "pdfminer.pdfparser.PDFSyntaxError: No /Root object! - Is this really a PDF?\n"
     ]
    },
    {
     "name": "stdout",
     "output_type": "stream",
     "text": [
      "21500\n",
      "21600\n",
      "download or pdf_to_text error\n"
     ]
    },
    {
     "name": "stderr",
     "output_type": "stream",
     "text": [
      "Traceback (most recent call last):\n",
      "  File \"C:\\Users\\Gebruiker\\AppData\\Local\\Temp\\ipykernel_15816\\1447062882.py\", line 15, in <module>\n",
      "    info[k]['Text'] = pdf_to_text2(path + doc_id +'.pdf')\n",
      "                      ^^^^^^^^^^^^^^^^^^^^^^^^^^^^^^^^^^^\n",
      "  File \"C:\\Users\\Gebruiker\\AppData\\Local\\Temp\\ipykernel_15816\\3182530635.py\", line 16, in pdf_to_text2\n",
      "    with pdfplumber.open(pdf_path) as pdf:\n",
      "         ^^^^^^^^^^^^^^^^^^^^^^^^^\n",
      "  File \"d:\\Programmeren\\adventofcode\\.aocenvpy311\\Lib\\site-packages\\pdfplumber\\pdf.py\", line 78, in open\n",
      "    return cls(\n",
      "           ^^^^\n",
      "  File \"d:\\Programmeren\\adventofcode\\.aocenvpy311\\Lib\\site-packages\\pdfplumber\\pdf.py\", line 40, in __init__\n",
      "    self.doc = PDFDocument(PDFParser(stream), password=password)\n",
      "               ^^^^^^^^^^^^^^^^^^^^^^^^^^^^^^^^^^^^^^^^^^^^^^^^^\n",
      "  File \"d:\\Programmeren\\adventofcode\\.aocenvpy311\\Lib\\site-packages\\pdfminer\\pdfdocument.py\", line 752, in __init__\n",
      "    raise PDFSyntaxError(\"No /Root object! - Is this really a PDF?\")\n",
      "pdfminer.pdfparser.PDFSyntaxError: No /Root object! - Is this really a PDF?\n"
     ]
    },
    {
     "name": "stdout",
     "output_type": "stream",
     "text": [
      "21700\n",
      "download or pdf_to_text error\n"
     ]
    },
    {
     "name": "stderr",
     "output_type": "stream",
     "text": [
      "Traceback (most recent call last):\n",
      "  File \"C:\\Users\\Gebruiker\\AppData\\Local\\Temp\\ipykernel_15816\\1447062882.py\", line 15, in <module>\n",
      "    info[k]['Text'] = pdf_to_text2(path + doc_id +'.pdf')\n",
      "                      ^^^^^^^^^^^^^^^^^^^^^^^^^^^^^^^^^^^\n",
      "  File \"C:\\Users\\Gebruiker\\AppData\\Local\\Temp\\ipykernel_15816\\3182530635.py\", line 16, in pdf_to_text2\n",
      "    with pdfplumber.open(pdf_path) as pdf:\n",
      "         ^^^^^^^^^^^^^^^^^^^^^^^^^\n",
      "  File \"d:\\Programmeren\\adventofcode\\.aocenvpy311\\Lib\\site-packages\\pdfplumber\\pdf.py\", line 78, in open\n",
      "    return cls(\n",
      "           ^^^^\n",
      "  File \"d:\\Programmeren\\adventofcode\\.aocenvpy311\\Lib\\site-packages\\pdfplumber\\pdf.py\", line 40, in __init__\n",
      "    self.doc = PDFDocument(PDFParser(stream), password=password)\n",
      "               ^^^^^^^^^^^^^^^^^^^^^^^^^^^^^^^^^^^^^^^^^^^^^^^^^\n",
      "  File \"d:\\Programmeren\\adventofcode\\.aocenvpy311\\Lib\\site-packages\\pdfminer\\pdfdocument.py\", line 752, in __init__\n",
      "    raise PDFSyntaxError(\"No /Root object! - Is this really a PDF?\")\n",
      "pdfminer.pdfparser.PDFSyntaxError: No /Root object! - Is this really a PDF?\n"
     ]
    },
    {
     "name": "stdout",
     "output_type": "stream",
     "text": [
      "21800\n",
      "21900\n",
      "22000\n",
      "22100\n",
      "22200\n",
      "22300\n",
      "download or pdf_to_text error\n"
     ]
    },
    {
     "name": "stderr",
     "output_type": "stream",
     "text": [
      "Traceback (most recent call last):\n",
      "  File \"C:\\Users\\Gebruiker\\AppData\\Local\\Temp\\ipykernel_15816\\1447062882.py\", line 15, in <module>\n",
      "    info[k]['Text'] = pdf_to_text2(path + doc_id +'.pdf')\n",
      "                      ^^^^^^^^^^^^^^^^^^^^^^^^^^^^^^^^^^^\n",
      "  File \"C:\\Users\\Gebruiker\\AppData\\Local\\Temp\\ipykernel_15816\\3182530635.py\", line 16, in pdf_to_text2\n",
      "    with pdfplumber.open(pdf_path) as pdf:\n",
      "         ^^^^^^^^^^^^^^^^^^^^^^^^^\n",
      "  File \"d:\\Programmeren\\adventofcode\\.aocenvpy311\\Lib\\site-packages\\pdfplumber\\pdf.py\", line 78, in open\n",
      "    return cls(\n",
      "           ^^^^\n",
      "  File \"d:\\Programmeren\\adventofcode\\.aocenvpy311\\Lib\\site-packages\\pdfplumber\\pdf.py\", line 40, in __init__\n",
      "    self.doc = PDFDocument(PDFParser(stream), password=password)\n",
      "               ^^^^^^^^^^^^^^^^^^^^^^^^^^^^^^^^^^^^^^^^^^^^^^^^^\n",
      "  File \"d:\\Programmeren\\adventofcode\\.aocenvpy311\\Lib\\site-packages\\pdfminer\\pdfdocument.py\", line 752, in __init__\n",
      "    raise PDFSyntaxError(\"No /Root object! - Is this really a PDF?\")\n",
      "pdfminer.pdfparser.PDFSyntaxError: No /Root object! - Is this really a PDF?\n"
     ]
    },
    {
     "name": "stdout",
     "output_type": "stream",
     "text": [
      "22400\n",
      "22500\n",
      "22600\n",
      "22700\n",
      "download or pdf_to_text error\n",
      "22800\n"
     ]
    },
    {
     "name": "stderr",
     "output_type": "stream",
     "text": [
      "Traceback (most recent call last):\n",
      "  File \"C:\\Users\\Gebruiker\\AppData\\Local\\Temp\\ipykernel_15816\\1447062882.py\", line 15, in <module>\n",
      "    info[k]['Text'] = pdf_to_text2(path + doc_id +'.pdf')\n",
      "                      ^^^^^^^^^^^^^^^^^^^^^^^^^^^^^^^^^^^\n",
      "  File \"C:\\Users\\Gebruiker\\AppData\\Local\\Temp\\ipykernel_15816\\3182530635.py\", line 16, in pdf_to_text2\n",
      "    with pdfplumber.open(pdf_path) as pdf:\n",
      "         ^^^^^^^^^^^^^^^^^^^^^^^^^\n",
      "  File \"d:\\Programmeren\\adventofcode\\.aocenvpy311\\Lib\\site-packages\\pdfplumber\\pdf.py\", line 78, in open\n",
      "    return cls(\n",
      "           ^^^^\n",
      "  File \"d:\\Programmeren\\adventofcode\\.aocenvpy311\\Lib\\site-packages\\pdfplumber\\pdf.py\", line 40, in __init__\n",
      "    self.doc = PDFDocument(PDFParser(stream), password=password)\n",
      "               ^^^^^^^^^^^^^^^^^^^^^^^^^^^^^^^^^^^^^^^^^^^^^^^^^\n",
      "  File \"d:\\Programmeren\\adventofcode\\.aocenvpy311\\Lib\\site-packages\\pdfminer\\pdfdocument.py\", line 752, in __init__\n",
      "    raise PDFSyntaxError(\"No /Root object! - Is this really a PDF?\")\n",
      "pdfminer.pdfparser.PDFSyntaxError: No /Root object! - Is this really a PDF?\n"
     ]
    },
    {
     "name": "stdout",
     "output_type": "stream",
     "text": [
      "22900\n",
      "23000\n",
      "23100\n",
      "23200\n",
      "23300\n",
      "23400\n",
      "23500\n",
      "23600\n",
      "23700\n",
      "23800\n",
      "23900\n",
      "download or pdf_to_text error\n"
     ]
    },
    {
     "name": "stderr",
     "output_type": "stream",
     "text": [
      "Traceback (most recent call last):\n",
      "  File \"C:\\Users\\Gebruiker\\AppData\\Local\\Temp\\ipykernel_15816\\1447062882.py\", line 15, in <module>\n",
      "    info[k]['Text'] = pdf_to_text2(path + doc_id +'.pdf')\n",
      "                      ^^^^^^^^^^^^^^^^^^^^^^^^^^^^^^^^^^^\n",
      "  File \"C:\\Users\\Gebruiker\\AppData\\Local\\Temp\\ipykernel_15816\\3182530635.py\", line 16, in pdf_to_text2\n",
      "    with pdfplumber.open(pdf_path) as pdf:\n",
      "         ^^^^^^^^^^^^^^^^^^^^^^^^^\n",
      "  File \"d:\\Programmeren\\adventofcode\\.aocenvpy311\\Lib\\site-packages\\pdfplumber\\pdf.py\", line 78, in open\n",
      "    return cls(\n",
      "           ^^^^\n",
      "  File \"d:\\Programmeren\\adventofcode\\.aocenvpy311\\Lib\\site-packages\\pdfplumber\\pdf.py\", line 40, in __init__\n",
      "    self.doc = PDFDocument(PDFParser(stream), password=password)\n",
      "               ^^^^^^^^^^^^^^^^^^^^^^^^^^^^^^^^^^^^^^^^^^^^^^^^^\n",
      "  File \"d:\\Programmeren\\adventofcode\\.aocenvpy311\\Lib\\site-packages\\pdfminer\\pdfdocument.py\", line 752, in __init__\n",
      "    raise PDFSyntaxError(\"No /Root object! - Is this really a PDF?\")\n",
      "pdfminer.pdfparser.PDFSyntaxError: No /Root object! - Is this really a PDF?\n"
     ]
    },
    {
     "name": "stdout",
     "output_type": "stream",
     "text": [
      "24000\n",
      "24100\n",
      "24200\n",
      "24300\n",
      "24400\n",
      "24500\n",
      "24600\n",
      "download or pdf_to_text error\n"
     ]
    },
    {
     "name": "stderr",
     "output_type": "stream",
     "text": [
      "Traceback (most recent call last):\n",
      "  File \"C:\\Users\\Gebruiker\\AppData\\Local\\Temp\\ipykernel_15816\\1447062882.py\", line 15, in <module>\n",
      "    info[k]['Text'] = pdf_to_text2(path + doc_id +'.pdf')\n",
      "                      ^^^^^^^^^^^^^^^^^^^^^^^^^^^^^^^^^^^\n",
      "  File \"C:\\Users\\Gebruiker\\AppData\\Local\\Temp\\ipykernel_15816\\3182530635.py\", line 16, in pdf_to_text2\n",
      "    with pdfplumber.open(pdf_path) as pdf:\n",
      "         ^^^^^^^^^^^^^^^^^^^^^^^^^\n",
      "  File \"d:\\Programmeren\\adventofcode\\.aocenvpy311\\Lib\\site-packages\\pdfplumber\\pdf.py\", line 78, in open\n",
      "    return cls(\n",
      "           ^^^^\n",
      "  File \"d:\\Programmeren\\adventofcode\\.aocenvpy311\\Lib\\site-packages\\pdfplumber\\pdf.py\", line 40, in __init__\n",
      "    self.doc = PDFDocument(PDFParser(stream), password=password)\n",
      "               ^^^^^^^^^^^^^^^^^^^^^^^^^^^^^^^^^^^^^^^^^^^^^^^^^\n",
      "  File \"d:\\Programmeren\\adventofcode\\.aocenvpy311\\Lib\\site-packages\\pdfminer\\pdfdocument.py\", line 752, in __init__\n",
      "    raise PDFSyntaxError(\"No /Root object! - Is this really a PDF?\")\n",
      "pdfminer.pdfparser.PDFSyntaxError: No /Root object! - Is this really a PDF?\n"
     ]
    },
    {
     "name": "stdout",
     "output_type": "stream",
     "text": [
      "download or pdf_to_text error\n"
     ]
    },
    {
     "name": "stderr",
     "output_type": "stream",
     "text": [
      "Traceback (most recent call last):\n",
      "  File \"C:\\Users\\Gebruiker\\AppData\\Local\\Temp\\ipykernel_15816\\1447062882.py\", line 15, in <module>\n",
      "    info[k]['Text'] = pdf_to_text2(path + doc_id +'.pdf')\n",
      "                      ^^^^^^^^^^^^^^^^^^^^^^^^^^^^^^^^^^^\n",
      "  File \"C:\\Users\\Gebruiker\\AppData\\Local\\Temp\\ipykernel_15816\\3182530635.py\", line 16, in pdf_to_text2\n",
      "    with pdfplumber.open(pdf_path) as pdf:\n",
      "         ^^^^^^^^^^^^^^^^^^^^^^^^^\n",
      "  File \"d:\\Programmeren\\adventofcode\\.aocenvpy311\\Lib\\site-packages\\pdfplumber\\pdf.py\", line 78, in open\n",
      "    return cls(\n",
      "           ^^^^\n",
      "  File \"d:\\Programmeren\\adventofcode\\.aocenvpy311\\Lib\\site-packages\\pdfplumber\\pdf.py\", line 40, in __init__\n",
      "    self.doc = PDFDocument(PDFParser(stream), password=password)\n",
      "               ^^^^^^^^^^^^^^^^^^^^^^^^^^^^^^^^^^^^^^^^^^^^^^^^^\n",
      "  File \"d:\\Programmeren\\adventofcode\\.aocenvpy311\\Lib\\site-packages\\pdfminer\\pdfdocument.py\", line 752, in __init__\n",
      "    raise PDFSyntaxError(\"No /Root object! - Is this really a PDF?\")\n",
      "pdfminer.pdfparser.PDFSyntaxError: No /Root object! - Is this really a PDF?\n"
     ]
    },
    {
     "name": "stdout",
     "output_type": "stream",
     "text": [
      "24700\n",
      "24800\n",
      "24900\n",
      "25000\n",
      "download or pdf_to_text error\n"
     ]
    },
    {
     "name": "stderr",
     "output_type": "stream",
     "text": [
      "Traceback (most recent call last):\n",
      "  File \"C:\\Users\\Gebruiker\\AppData\\Local\\Temp\\ipykernel_15816\\1447062882.py\", line 15, in <module>\n",
      "    info[k]['Text'] = pdf_to_text2(path + doc_id +'.pdf')\n",
      "                      ^^^^^^^^^^^^^^^^^^^^^^^^^^^^^^^^^^^\n",
      "  File \"C:\\Users\\Gebruiker\\AppData\\Local\\Temp\\ipykernel_15816\\3182530635.py\", line 16, in pdf_to_text2\n",
      "    with pdfplumber.open(pdf_path) as pdf:\n",
      "         ^^^^^^^^^^^^^^^^^^^^^^^^^\n",
      "  File \"d:\\Programmeren\\adventofcode\\.aocenvpy311\\Lib\\site-packages\\pdfplumber\\pdf.py\", line 78, in open\n",
      "    return cls(\n",
      "           ^^^^\n",
      "  File \"d:\\Programmeren\\adventofcode\\.aocenvpy311\\Lib\\site-packages\\pdfplumber\\pdf.py\", line 40, in __init__\n",
      "    self.doc = PDFDocument(PDFParser(stream), password=password)\n",
      "               ^^^^^^^^^^^^^^^^^^^^^^^^^^^^^^^^^^^^^^^^^^^^^^^^^\n",
      "  File \"d:\\Programmeren\\adventofcode\\.aocenvpy311\\Lib\\site-packages\\pdfminer\\pdfdocument.py\", line 752, in __init__\n",
      "    raise PDFSyntaxError(\"No /Root object! - Is this really a PDF?\")\n",
      "pdfminer.pdfparser.PDFSyntaxError: No /Root object! - Is this really a PDF?\n"
     ]
    },
    {
     "name": "stdout",
     "output_type": "stream",
     "text": [
      "25100\n",
      "25200\n",
      "25300\n",
      "25400\n",
      "25500\n",
      "25600\n",
      "download or pdf_to_text error\n"
     ]
    },
    {
     "name": "stderr",
     "output_type": "stream",
     "text": [
      "Traceback (most recent call last):\n",
      "  File \"C:\\Users\\Gebruiker\\AppData\\Local\\Temp\\ipykernel_15816\\1447062882.py\", line 15, in <module>\n",
      "    info[k]['Text'] = pdf_to_text2(path + doc_id +'.pdf')\n",
      "                      ^^^^^^^^^^^^^^^^^^^^^^^^^^^^^^^^^^^\n",
      "  File \"C:\\Users\\Gebruiker\\AppData\\Local\\Temp\\ipykernel_15816\\3182530635.py\", line 16, in pdf_to_text2\n",
      "    with pdfplumber.open(pdf_path) as pdf:\n",
      "         ^^^^^^^^^^^^^^^^^^^^^^^^^\n",
      "  File \"d:\\Programmeren\\adventofcode\\.aocenvpy311\\Lib\\site-packages\\pdfplumber\\pdf.py\", line 78, in open\n",
      "    return cls(\n",
      "           ^^^^\n",
      "  File \"d:\\Programmeren\\adventofcode\\.aocenvpy311\\Lib\\site-packages\\pdfplumber\\pdf.py\", line 40, in __init__\n",
      "    self.doc = PDFDocument(PDFParser(stream), password=password)\n",
      "               ^^^^^^^^^^^^^^^^^^^^^^^^^^^^^^^^^^^^^^^^^^^^^^^^^\n",
      "  File \"d:\\Programmeren\\adventofcode\\.aocenvpy311\\Lib\\site-packages\\pdfminer\\pdfdocument.py\", line 752, in __init__\n",
      "    raise PDFSyntaxError(\"No /Root object! - Is this really a PDF?\")\n",
      "pdfminer.pdfparser.PDFSyntaxError: No /Root object! - Is this really a PDF?\n"
     ]
    },
    {
     "name": "stdout",
     "output_type": "stream",
     "text": [
      "25700\n",
      "25800\n",
      "25900\n",
      "download or pdf_to_text error\n"
     ]
    },
    {
     "name": "stderr",
     "output_type": "stream",
     "text": [
      "Traceback (most recent call last):\n",
      "  File \"C:\\Users\\Gebruiker\\AppData\\Local\\Temp\\ipykernel_15816\\1447062882.py\", line 15, in <module>\n",
      "    info[k]['Text'] = pdf_to_text2(path + doc_id +'.pdf')\n",
      "                      ^^^^^^^^^^^^^^^^^^^^^^^^^^^^^^^^^^^\n",
      "  File \"C:\\Users\\Gebruiker\\AppData\\Local\\Temp\\ipykernel_15816\\3182530635.py\", line 16, in pdf_to_text2\n",
      "    with pdfplumber.open(pdf_path) as pdf:\n",
      "         ^^^^^^^^^^^^^^^^^^^^^^^^^\n",
      "  File \"d:\\Programmeren\\adventofcode\\.aocenvpy311\\Lib\\site-packages\\pdfplumber\\pdf.py\", line 78, in open\n",
      "    return cls(\n",
      "           ^^^^\n",
      "  File \"d:\\Programmeren\\adventofcode\\.aocenvpy311\\Lib\\site-packages\\pdfplumber\\pdf.py\", line 40, in __init__\n",
      "    self.doc = PDFDocument(PDFParser(stream), password=password)\n",
      "               ^^^^^^^^^^^^^^^^^^^^^^^^^^^^^^^^^^^^^^^^^^^^^^^^^\n",
      "  File \"d:\\Programmeren\\adventofcode\\.aocenvpy311\\Lib\\site-packages\\pdfminer\\pdfdocument.py\", line 752, in __init__\n",
      "    raise PDFSyntaxError(\"No /Root object! - Is this really a PDF?\")\n",
      "pdfminer.pdfparser.PDFSyntaxError: No /Root object! - Is this really a PDF?\n"
     ]
    },
    {
     "name": "stdout",
     "output_type": "stream",
     "text": [
      "26000\n",
      "26100\n",
      "26200\n",
      "26300\n",
      "26400\n",
      "26500\n",
      "26600\n",
      "26700\n",
      "26800\n",
      "26900\n",
      "27000\n",
      "27100\n",
      "download or pdf_to_text error\n"
     ]
    },
    {
     "name": "stderr",
     "output_type": "stream",
     "text": [
      "Traceback (most recent call last):\n",
      "  File \"C:\\Users\\Gebruiker\\AppData\\Local\\Temp\\ipykernel_15816\\1447062882.py\", line 15, in <module>\n",
      "    info[k]['Text'] = pdf_to_text2(path + doc_id +'.pdf')\n",
      "                      ^^^^^^^^^^^^^^^^^^^^^^^^^^^^^^^^^^^\n",
      "  File \"C:\\Users\\Gebruiker\\AppData\\Local\\Temp\\ipykernel_15816\\3182530635.py\", line 16, in pdf_to_text2\n",
      "    with pdfplumber.open(pdf_path) as pdf:\n",
      "         ^^^^^^^^^^^^^^^^^^^^^^^^^\n",
      "  File \"d:\\Programmeren\\adventofcode\\.aocenvpy311\\Lib\\site-packages\\pdfplumber\\pdf.py\", line 78, in open\n",
      "    return cls(\n",
      "           ^^^^\n",
      "  File \"d:\\Programmeren\\adventofcode\\.aocenvpy311\\Lib\\site-packages\\pdfplumber\\pdf.py\", line 40, in __init__\n",
      "    self.doc = PDFDocument(PDFParser(stream), password=password)\n",
      "               ^^^^^^^^^^^^^^^^^^^^^^^^^^^^^^^^^^^^^^^^^^^^^^^^^\n",
      "  File \"d:\\Programmeren\\adventofcode\\.aocenvpy311\\Lib\\site-packages\\pdfminer\\pdfdocument.py\", line 752, in __init__\n",
      "    raise PDFSyntaxError(\"No /Root object! - Is this really a PDF?\")\n",
      "pdfminer.pdfparser.PDFSyntaxError: No /Root object! - Is this really a PDF?\n"
     ]
    },
    {
     "name": "stdout",
     "output_type": "stream",
     "text": [
      "27200\n",
      "27300\n",
      "27400\n",
      "27500\n",
      "27600\n",
      "27700\n",
      "download or pdf_to_text error\n"
     ]
    },
    {
     "name": "stderr",
     "output_type": "stream",
     "text": [
      "Traceback (most recent call last):\n",
      "  File \"C:\\Users\\Gebruiker\\AppData\\Local\\Temp\\ipykernel_15816\\1447062882.py\", line 15, in <module>\n",
      "    info[k]['Text'] = pdf_to_text2(path + doc_id +'.pdf')\n",
      "                      ^^^^^^^^^^^^^^^^^^^^^^^^^^^^^^^^^^^\n",
      "  File \"C:\\Users\\Gebruiker\\AppData\\Local\\Temp\\ipykernel_15816\\3182530635.py\", line 16, in pdf_to_text2\n",
      "    with pdfplumber.open(pdf_path) as pdf:\n",
      "         ^^^^^^^^^^^^^^^^^^^^^^^^^\n",
      "  File \"d:\\Programmeren\\adventofcode\\.aocenvpy311\\Lib\\site-packages\\pdfplumber\\pdf.py\", line 78, in open\n",
      "    return cls(\n",
      "           ^^^^\n",
      "  File \"d:\\Programmeren\\adventofcode\\.aocenvpy311\\Lib\\site-packages\\pdfplumber\\pdf.py\", line 40, in __init__\n",
      "    self.doc = PDFDocument(PDFParser(stream), password=password)\n",
      "               ^^^^^^^^^^^^^^^^^^^^^^^^^^^^^^^^^^^^^^^^^^^^^^^^^\n",
      "  File \"d:\\Programmeren\\adventofcode\\.aocenvpy311\\Lib\\site-packages\\pdfminer\\pdfdocument.py\", line 752, in __init__\n",
      "    raise PDFSyntaxError(\"No /Root object! - Is this really a PDF?\")\n",
      "pdfminer.pdfparser.PDFSyntaxError: No /Root object! - Is this really a PDF?\n"
     ]
    },
    {
     "name": "stdout",
     "output_type": "stream",
     "text": [
      "27800\n",
      "27900\n",
      "28000\n",
      "28100\n",
      "28200\n",
      "28300\n",
      "28400\n",
      "download or pdf_to_text error\n"
     ]
    },
    {
     "name": "stderr",
     "output_type": "stream",
     "text": [
      "Traceback (most recent call last):\n",
      "  File \"C:\\Users\\Gebruiker\\AppData\\Local\\Temp\\ipykernel_15816\\1447062882.py\", line 15, in <module>\n",
      "    info[k]['Text'] = pdf_to_text2(path + doc_id +'.pdf')\n",
      "                      ^^^^^^^^^^^^^^^^^^^^^^^^^^^^^^^^^^^\n",
      "  File \"C:\\Users\\Gebruiker\\AppData\\Local\\Temp\\ipykernel_15816\\3182530635.py\", line 16, in pdf_to_text2\n",
      "    with pdfplumber.open(pdf_path) as pdf:\n",
      "         ^^^^^^^^^^^^^^^^^^^^^^^^^\n",
      "  File \"d:\\Programmeren\\adventofcode\\.aocenvpy311\\Lib\\site-packages\\pdfplumber\\pdf.py\", line 78, in open\n",
      "    return cls(\n",
      "           ^^^^\n",
      "  File \"d:\\Programmeren\\adventofcode\\.aocenvpy311\\Lib\\site-packages\\pdfplumber\\pdf.py\", line 40, in __init__\n",
      "    self.doc = PDFDocument(PDFParser(stream), password=password)\n",
      "               ^^^^^^^^^^^^^^^^^^^^^^^^^^^^^^^^^^^^^^^^^^^^^^^^^\n",
      "  File \"d:\\Programmeren\\adventofcode\\.aocenvpy311\\Lib\\site-packages\\pdfminer\\pdfdocument.py\", line 752, in __init__\n",
      "    raise PDFSyntaxError(\"No /Root object! - Is this really a PDF?\")\n",
      "pdfminer.pdfparser.PDFSyntaxError: No /Root object! - Is this really a PDF?\n"
     ]
    },
    {
     "name": "stdout",
     "output_type": "stream",
     "text": [
      "28500\n",
      "28600\n",
      "28700\n",
      "download or pdf_to_text error\n"
     ]
    },
    {
     "name": "stderr",
     "output_type": "stream",
     "text": [
      "Traceback (most recent call last):\n",
      "  File \"C:\\Users\\Gebruiker\\AppData\\Local\\Temp\\ipykernel_15816\\1447062882.py\", line 15, in <module>\n",
      "    info[k]['Text'] = pdf_to_text2(path + doc_id +'.pdf')\n",
      "                      ^^^^^^^^^^^^^^^^^^^^^^^^^^^^^^^^^^^\n",
      "  File \"C:\\Users\\Gebruiker\\AppData\\Local\\Temp\\ipykernel_15816\\3182530635.py\", line 16, in pdf_to_text2\n",
      "    with pdfplumber.open(pdf_path) as pdf:\n",
      "         ^^^^^^^^^^^^^^^^^^^^^^^^^\n",
      "  File \"d:\\Programmeren\\adventofcode\\.aocenvpy311\\Lib\\site-packages\\pdfplumber\\pdf.py\", line 78, in open\n",
      "    return cls(\n",
      "           ^^^^\n",
      "  File \"d:\\Programmeren\\adventofcode\\.aocenvpy311\\Lib\\site-packages\\pdfplumber\\pdf.py\", line 40, in __init__\n",
      "    self.doc = PDFDocument(PDFParser(stream), password=password)\n",
      "               ^^^^^^^^^^^^^^^^^^^^^^^^^^^^^^^^^^^^^^^^^^^^^^^^^\n",
      "  File \"d:\\Programmeren\\adventofcode\\.aocenvpy311\\Lib\\site-packages\\pdfminer\\pdfdocument.py\", line 752, in __init__\n",
      "    raise PDFSyntaxError(\"No /Root object! - Is this really a PDF?\")\n",
      "pdfminer.pdfparser.PDFSyntaxError: No /Root object! - Is this really a PDF?\n"
     ]
    },
    {
     "name": "stdout",
     "output_type": "stream",
     "text": [
      "28800\n",
      "download or pdf_to_text error\n"
     ]
    },
    {
     "name": "stderr",
     "output_type": "stream",
     "text": [
      "Traceback (most recent call last):\n",
      "  File \"C:\\Users\\Gebruiker\\AppData\\Local\\Temp\\ipykernel_15816\\1447062882.py\", line 15, in <module>\n",
      "    info[k]['Text'] = pdf_to_text2(path + doc_id +'.pdf')\n",
      "                      ^^^^^^^^^^^^^^^^^^^^^^^^^^^^^^^^^^^\n",
      "  File \"C:\\Users\\Gebruiker\\AppData\\Local\\Temp\\ipykernel_15816\\3182530635.py\", line 16, in pdf_to_text2\n",
      "    with pdfplumber.open(pdf_path) as pdf:\n",
      "         ^^^^^^^^^^^^^^^^^^^^^^^^^\n",
      "  File \"d:\\Programmeren\\adventofcode\\.aocenvpy311\\Lib\\site-packages\\pdfplumber\\pdf.py\", line 78, in open\n",
      "    return cls(\n",
      "           ^^^^\n",
      "  File \"d:\\Programmeren\\adventofcode\\.aocenvpy311\\Lib\\site-packages\\pdfplumber\\pdf.py\", line 40, in __init__\n",
      "    self.doc = PDFDocument(PDFParser(stream), password=password)\n",
      "               ^^^^^^^^^^^^^^^^^^^^^^^^^^^^^^^^^^^^^^^^^^^^^^^^^\n",
      "  File \"d:\\Programmeren\\adventofcode\\.aocenvpy311\\Lib\\site-packages\\pdfminer\\pdfdocument.py\", line 752, in __init__\n",
      "    raise PDFSyntaxError(\"No /Root object! - Is this really a PDF?\")\n",
      "pdfminer.pdfparser.PDFSyntaxError: No /Root object! - Is this really a PDF?\n"
     ]
    },
    {
     "name": "stdout",
     "output_type": "stream",
     "text": [
      "28900\n",
      "download or pdf_to_text error\n"
     ]
    },
    {
     "name": "stderr",
     "output_type": "stream",
     "text": [
      "Traceback (most recent call last):\n",
      "  File \"C:\\Users\\Gebruiker\\AppData\\Local\\Temp\\ipykernel_15816\\1447062882.py\", line 15, in <module>\n",
      "    info[k]['Text'] = pdf_to_text2(path + doc_id +'.pdf')\n",
      "                      ^^^^^^^^^^^^^^^^^^^^^^^^^^^^^^^^^^^\n",
      "  File \"C:\\Users\\Gebruiker\\AppData\\Local\\Temp\\ipykernel_15816\\3182530635.py\", line 16, in pdf_to_text2\n",
      "    with pdfplumber.open(pdf_path) as pdf:\n",
      "         ^^^^^^^^^^^^^^^^^^^^^^^^^\n",
      "  File \"d:\\Programmeren\\adventofcode\\.aocenvpy311\\Lib\\site-packages\\pdfplumber\\pdf.py\", line 78, in open\n",
      "    return cls(\n",
      "           ^^^^\n",
      "  File \"d:\\Programmeren\\adventofcode\\.aocenvpy311\\Lib\\site-packages\\pdfplumber\\pdf.py\", line 40, in __init__\n",
      "    self.doc = PDFDocument(PDFParser(stream), password=password)\n",
      "               ^^^^^^^^^^^^^^^^^^^^^^^^^^^^^^^^^^^^^^^^^^^^^^^^^\n",
      "  File \"d:\\Programmeren\\adventofcode\\.aocenvpy311\\Lib\\site-packages\\pdfminer\\pdfdocument.py\", line 752, in __init__\n",
      "    raise PDFSyntaxError(\"No /Root object! - Is this really a PDF?\")\n",
      "pdfminer.pdfparser.PDFSyntaxError: No /Root object! - Is this really a PDF?\n"
     ]
    },
    {
     "name": "stdout",
     "output_type": "stream",
     "text": [
      "29000\n",
      "29100\n",
      "29200\n",
      "29300\n",
      "download or pdf_to_text error\n"
     ]
    },
    {
     "name": "stderr",
     "output_type": "stream",
     "text": [
      "Traceback (most recent call last):\n",
      "  File \"C:\\Users\\Gebruiker\\AppData\\Local\\Temp\\ipykernel_15816\\1447062882.py\", line 15, in <module>\n",
      "    info[k]['Text'] = pdf_to_text2(path + doc_id +'.pdf')\n",
      "                      ^^^^^^^^^^^^^^^^^^^^^^^^^^^^^^^^^^^\n",
      "  File \"C:\\Users\\Gebruiker\\AppData\\Local\\Temp\\ipykernel_15816\\3182530635.py\", line 16, in pdf_to_text2\n",
      "    with pdfplumber.open(pdf_path) as pdf:\n",
      "         ^^^^^^^^^^^^^^^^^^^^^^^^^\n",
      "  File \"d:\\Programmeren\\adventofcode\\.aocenvpy311\\Lib\\site-packages\\pdfplumber\\pdf.py\", line 78, in open\n",
      "    return cls(\n",
      "           ^^^^\n",
      "  File \"d:\\Programmeren\\adventofcode\\.aocenvpy311\\Lib\\site-packages\\pdfplumber\\pdf.py\", line 40, in __init__\n",
      "    self.doc = PDFDocument(PDFParser(stream), password=password)\n",
      "               ^^^^^^^^^^^^^^^^^^^^^^^^^^^^^^^^^^^^^^^^^^^^^^^^^\n",
      "  File \"d:\\Programmeren\\adventofcode\\.aocenvpy311\\Lib\\site-packages\\pdfminer\\pdfdocument.py\", line 752, in __init__\n",
      "    raise PDFSyntaxError(\"No /Root object! - Is this really a PDF?\")\n",
      "pdfminer.pdfparser.PDFSyntaxError: No /Root object! - Is this really a PDF?\n"
     ]
    },
    {
     "name": "stdout",
     "output_type": "stream",
     "text": [
      "29400\n",
      "29500\n",
      "29600\n",
      "29700\n",
      "29800\n",
      "29900\n",
      "30000\n",
      "30100\n",
      "30200\n",
      "30300\n",
      "30400\n",
      "30500\n",
      "30600\n",
      "30700\n",
      "30800\n",
      "download or pdf_to_text error\n"
     ]
    },
    {
     "name": "stderr",
     "output_type": "stream",
     "text": [
      "Traceback (most recent call last):\n",
      "  File \"C:\\Users\\Gebruiker\\AppData\\Local\\Temp\\ipykernel_15816\\1447062882.py\", line 15, in <module>\n",
      "    info[k]['Text'] = pdf_to_text2(path + doc_id +'.pdf')\n",
      "                      ^^^^^^^^^^^^^^^^^^^^^^^^^^^^^^^^^^^\n",
      "  File \"C:\\Users\\Gebruiker\\AppData\\Local\\Temp\\ipykernel_15816\\3182530635.py\", line 16, in pdf_to_text2\n",
      "    with pdfplumber.open(pdf_path) as pdf:\n",
      "         ^^^^^^^^^^^^^^^^^^^^^^^^^\n",
      "  File \"d:\\Programmeren\\adventofcode\\.aocenvpy311\\Lib\\site-packages\\pdfplumber\\pdf.py\", line 78, in open\n",
      "    return cls(\n",
      "           ^^^^\n",
      "  File \"d:\\Programmeren\\adventofcode\\.aocenvpy311\\Lib\\site-packages\\pdfplumber\\pdf.py\", line 40, in __init__\n",
      "    self.doc = PDFDocument(PDFParser(stream), password=password)\n",
      "               ^^^^^^^^^^^^^^^^^^^^^^^^^^^^^^^^^^^^^^^^^^^^^^^^^\n",
      "  File \"d:\\Programmeren\\adventofcode\\.aocenvpy311\\Lib\\site-packages\\pdfminer\\pdfdocument.py\", line 752, in __init__\n",
      "    raise PDFSyntaxError(\"No /Root object! - Is this really a PDF?\")\n",
      "pdfminer.pdfparser.PDFSyntaxError: No /Root object! - Is this really a PDF?\n"
     ]
    },
    {
     "name": "stdout",
     "output_type": "stream",
     "text": [
      "30900\n",
      "31000\n",
      "31100\n",
      "31200\n",
      "31300\n",
      "31400\n",
      "31500\n",
      "31600\n",
      "31700\n",
      "31800\n",
      "31900\n",
      "32000\n",
      "32100\n",
      "32200\n",
      "32300\n",
      "32400\n",
      "32500\n",
      "download or pdf_to_text error\n"
     ]
    },
    {
     "name": "stderr",
     "output_type": "stream",
     "text": [
      "Traceback (most recent call last):\n",
      "  File \"C:\\Users\\Gebruiker\\AppData\\Local\\Temp\\ipykernel_15816\\1447062882.py\", line 15, in <module>\n",
      "    info[k]['Text'] = pdf_to_text2(path + doc_id +'.pdf')\n",
      "                      ^^^^^^^^^^^^^^^^^^^^^^^^^^^^^^^^^^^\n",
      "  File \"C:\\Users\\Gebruiker\\AppData\\Local\\Temp\\ipykernel_15816\\3182530635.py\", line 16, in pdf_to_text2\n",
      "    with pdfplumber.open(pdf_path) as pdf:\n",
      "         ^^^^^^^^^^^^^^^^^^^^^^^^^\n",
      "  File \"d:\\Programmeren\\adventofcode\\.aocenvpy311\\Lib\\site-packages\\pdfplumber\\pdf.py\", line 78, in open\n",
      "    return cls(\n",
      "           ^^^^\n",
      "  File \"d:\\Programmeren\\adventofcode\\.aocenvpy311\\Lib\\site-packages\\pdfplumber\\pdf.py\", line 40, in __init__\n",
      "    self.doc = PDFDocument(PDFParser(stream), password=password)\n",
      "               ^^^^^^^^^^^^^^^^^^^^^^^^^^^^^^^^^^^^^^^^^^^^^^^^^\n",
      "  File \"d:\\Programmeren\\adventofcode\\.aocenvpy311\\Lib\\site-packages\\pdfminer\\pdfdocument.py\", line 752, in __init__\n",
      "    raise PDFSyntaxError(\"No /Root object! - Is this really a PDF?\")\n",
      "pdfminer.pdfparser.PDFSyntaxError: No /Root object! - Is this really a PDF?\n"
     ]
    },
    {
     "name": "stdout",
     "output_type": "stream",
     "text": [
      "32600\n",
      "32700\n",
      "32800\n",
      "32900\n",
      "33000\n",
      "33100\n",
      "33200\n",
      "download or pdf_to_text error\n"
     ]
    },
    {
     "name": "stderr",
     "output_type": "stream",
     "text": [
      "Traceback (most recent call last):\n",
      "  File \"C:\\Users\\Gebruiker\\AppData\\Local\\Temp\\ipykernel_15816\\1447062882.py\", line 15, in <module>\n",
      "    info[k]['Text'] = pdf_to_text2(path + doc_id +'.pdf')\n",
      "                      ^^^^^^^^^^^^^^^^^^^^^^^^^^^^^^^^^^^\n",
      "  File \"C:\\Users\\Gebruiker\\AppData\\Local\\Temp\\ipykernel_15816\\3182530635.py\", line 16, in pdf_to_text2\n",
      "    with pdfplumber.open(pdf_path) as pdf:\n",
      "         ^^^^^^^^^^^^^^^^^^^^^^^^^\n",
      "  File \"d:\\Programmeren\\adventofcode\\.aocenvpy311\\Lib\\site-packages\\pdfplumber\\pdf.py\", line 78, in open\n",
      "    return cls(\n",
      "           ^^^^\n",
      "  File \"d:\\Programmeren\\adventofcode\\.aocenvpy311\\Lib\\site-packages\\pdfplumber\\pdf.py\", line 40, in __init__\n",
      "    self.doc = PDFDocument(PDFParser(stream), password=password)\n",
      "               ^^^^^^^^^^^^^^^^^^^^^^^^^^^^^^^^^^^^^^^^^^^^^^^^^\n",
      "  File \"d:\\Programmeren\\adventofcode\\.aocenvpy311\\Lib\\site-packages\\pdfminer\\pdfdocument.py\", line 752, in __init__\n",
      "    raise PDFSyntaxError(\"No /Root object! - Is this really a PDF?\")\n",
      "pdfminer.pdfparser.PDFSyntaxError: No /Root object! - Is this really a PDF?\n"
     ]
    },
    {
     "name": "stdout",
     "output_type": "stream",
     "text": [
      "33300\n",
      "33400\n",
      "33500\n",
      "33600\n",
      "33700\n",
      "33800\n",
      "33900\n",
      "34000\n",
      "34100\n",
      "34200\n",
      "34300\n",
      "34400\n",
      "34500\n",
      "34600\n",
      "34700\n",
      "34800\n",
      "34900\n",
      "35000\n",
      "35100\n",
      "35200\n",
      "35300\n",
      "download or pdf_to_text error\n"
     ]
    },
    {
     "name": "stderr",
     "output_type": "stream",
     "text": [
      "Traceback (most recent call last):\n",
      "  File \"C:\\Users\\Gebruiker\\AppData\\Local\\Temp\\ipykernel_15816\\1447062882.py\", line 15, in <module>\n",
      "    info[k]['Text'] = pdf_to_text2(path + doc_id +'.pdf')\n",
      "                      ^^^^^^^^^^^^^^^^^^^^^^^^^^^^^^^^^^^\n",
      "  File \"C:\\Users\\Gebruiker\\AppData\\Local\\Temp\\ipykernel_15816\\3182530635.py\", line 16, in pdf_to_text2\n",
      "    with pdfplumber.open(pdf_path) as pdf:\n",
      "         ^^^^^^^^^^^^^^^^^^^^^^^^^\n",
      "  File \"d:\\Programmeren\\adventofcode\\.aocenvpy311\\Lib\\site-packages\\pdfplumber\\pdf.py\", line 78, in open\n",
      "    return cls(\n",
      "           ^^^^\n",
      "  File \"d:\\Programmeren\\adventofcode\\.aocenvpy311\\Lib\\site-packages\\pdfplumber\\pdf.py\", line 40, in __init__\n",
      "    self.doc = PDFDocument(PDFParser(stream), password=password)\n",
      "               ^^^^^^^^^^^^^^^^^^^^^^^^^^^^^^^^^^^^^^^^^^^^^^^^^\n",
      "  File \"d:\\Programmeren\\adventofcode\\.aocenvpy311\\Lib\\site-packages\\pdfminer\\pdfdocument.py\", line 752, in __init__\n",
      "    raise PDFSyntaxError(\"No /Root object! - Is this really a PDF?\")\n",
      "pdfminer.pdfparser.PDFSyntaxError: No /Root object! - Is this really a PDF?\n"
     ]
    },
    {
     "name": "stdout",
     "output_type": "stream",
     "text": [
      "35400\n",
      "35500\n",
      "35600\n",
      "35700\n",
      "35800\n",
      "35900\n",
      "36000\n",
      "36100\n",
      "36200\n",
      "36300\n",
      "36400\n",
      "36500\n",
      "36600\n",
      "36700\n",
      "36800\n",
      "36900\n",
      "37000\n",
      "37100\n",
      "37200\n",
      "37300\n",
      "37400\n",
      "37500\n",
      "37600\n",
      "37700\n",
      "37800\n",
      "37900\n",
      "38000\n",
      "38100\n",
      "38200\n",
      "38300\n",
      "38400\n",
      "38500\n",
      "38600\n",
      "38700\n",
      "38800\n",
      "38900\n",
      "39000\n",
      "download or pdf_to_text error\n"
     ]
    },
    {
     "name": "stderr",
     "output_type": "stream",
     "text": [
      "Traceback (most recent call last):\n",
      "  File \"C:\\Users\\Gebruiker\\AppData\\Local\\Temp\\ipykernel_15816\\1447062882.py\", line 15, in <module>\n",
      "    info[k]['Text'] = pdf_to_text2(path + doc_id +'.pdf')\n",
      "                      ^^^^^^^^^^^^^^^^^^^^^^^^^^^^^^^^^^^\n",
      "  File \"C:\\Users\\Gebruiker\\AppData\\Local\\Temp\\ipykernel_15816\\3182530635.py\", line 16, in pdf_to_text2\n",
      "    with pdfplumber.open(pdf_path) as pdf:\n",
      "         ^^^^^^^^^^^^^^^^^^^^^^^^^\n",
      "  File \"d:\\Programmeren\\adventofcode\\.aocenvpy311\\Lib\\site-packages\\pdfplumber\\pdf.py\", line 78, in open\n",
      "    return cls(\n",
      "           ^^^^\n",
      "  File \"d:\\Programmeren\\adventofcode\\.aocenvpy311\\Lib\\site-packages\\pdfplumber\\pdf.py\", line 40, in __init__\n",
      "    self.doc = PDFDocument(PDFParser(stream), password=password)\n",
      "               ^^^^^^^^^^^^^^^^^^^^^^^^^^^^^^^^^^^^^^^^^^^^^^^^^\n",
      "  File \"d:\\Programmeren\\adventofcode\\.aocenvpy311\\Lib\\site-packages\\pdfminer\\pdfdocument.py\", line 752, in __init__\n",
      "    raise PDFSyntaxError(\"No /Root object! - Is this really a PDF?\")\n",
      "pdfminer.pdfparser.PDFSyntaxError: No /Root object! - Is this really a PDF?\n"
     ]
    },
    {
     "name": "stdout",
     "output_type": "stream",
     "text": [
      "39100\n",
      "39200\n",
      "39300\n",
      "39400\n",
      "39500\n",
      "39600\n",
      "download or pdf_to_text error\n"
     ]
    },
    {
     "name": "stderr",
     "output_type": "stream",
     "text": [
      "Traceback (most recent call last):\n",
      "  File \"C:\\Users\\Gebruiker\\AppData\\Local\\Temp\\ipykernel_15816\\1447062882.py\", line 15, in <module>\n",
      "    info[k]['Text'] = pdf_to_text2(path + doc_id +'.pdf')\n",
      "                      ^^^^^^^^^^^^^^^^^^^^^^^^^^^^^^^^^^^\n",
      "  File \"C:\\Users\\Gebruiker\\AppData\\Local\\Temp\\ipykernel_15816\\3182530635.py\", line 16, in pdf_to_text2\n",
      "    with pdfplumber.open(pdf_path) as pdf:\n",
      "         ^^^^^^^^^^^^^^^^^^^^^^^^^\n",
      "  File \"d:\\Programmeren\\adventofcode\\.aocenvpy311\\Lib\\site-packages\\pdfplumber\\pdf.py\", line 78, in open\n",
      "    return cls(\n",
      "           ^^^^\n",
      "  File \"d:\\Programmeren\\adventofcode\\.aocenvpy311\\Lib\\site-packages\\pdfplumber\\pdf.py\", line 40, in __init__\n",
      "    self.doc = PDFDocument(PDFParser(stream), password=password)\n",
      "               ^^^^^^^^^^^^^^^^^^^^^^^^^^^^^^^^^^^^^^^^^^^^^^^^^\n",
      "  File \"d:\\Programmeren\\adventofcode\\.aocenvpy311\\Lib\\site-packages\\pdfminer\\pdfdocument.py\", line 752, in __init__\n",
      "    raise PDFSyntaxError(\"No /Root object! - Is this really a PDF?\")\n",
      "pdfminer.pdfparser.PDFSyntaxError: No /Root object! - Is this really a PDF?\n"
     ]
    },
    {
     "name": "stdout",
     "output_type": "stream",
     "text": [
      "39700\n",
      "39800\n",
      "39900\n",
      "40000\n",
      "40100\n",
      "40200\n",
      "download or pdf_to_text error\n"
     ]
    },
    {
     "name": "stderr",
     "output_type": "stream",
     "text": [
      "Traceback (most recent call last):\n",
      "  File \"C:\\Users\\Gebruiker\\AppData\\Local\\Temp\\ipykernel_15816\\1447062882.py\", line 15, in <module>\n",
      "    info[k]['Text'] = pdf_to_text2(path + doc_id +'.pdf')\n",
      "                      ^^^^^^^^^^^^^^^^^^^^^^^^^^^^^^^^^^^\n",
      "  File \"C:\\Users\\Gebruiker\\AppData\\Local\\Temp\\ipykernel_15816\\3182530635.py\", line 16, in pdf_to_text2\n",
      "    with pdfplumber.open(pdf_path) as pdf:\n",
      "         ^^^^^^^^^^^^^^^^^^^^^^^^^\n",
      "  File \"d:\\Programmeren\\adventofcode\\.aocenvpy311\\Lib\\site-packages\\pdfplumber\\pdf.py\", line 78, in open\n",
      "    return cls(\n",
      "           ^^^^\n",
      "  File \"d:\\Programmeren\\adventofcode\\.aocenvpy311\\Lib\\site-packages\\pdfplumber\\pdf.py\", line 40, in __init__\n",
      "    self.doc = PDFDocument(PDFParser(stream), password=password)\n",
      "               ^^^^^^^^^^^^^^^^^^^^^^^^^^^^^^^^^^^^^^^^^^^^^^^^^\n",
      "  File \"d:\\Programmeren\\adventofcode\\.aocenvpy311\\Lib\\site-packages\\pdfminer\\pdfdocument.py\", line 752, in __init__\n",
      "    raise PDFSyntaxError(\"No /Root object! - Is this really a PDF?\")\n",
      "pdfminer.pdfparser.PDFSyntaxError: No /Root object! - Is this really a PDF?\n"
     ]
    },
    {
     "name": "stdout",
     "output_type": "stream",
     "text": [
      "40300\n",
      "40400\n",
      "download or pdf_to_text error\n"
     ]
    },
    {
     "name": "stderr",
     "output_type": "stream",
     "text": [
      "Traceback (most recent call last):\n",
      "  File \"C:\\Users\\Gebruiker\\AppData\\Local\\Temp\\ipykernel_15816\\1447062882.py\", line 15, in <module>\n",
      "    info[k]['Text'] = pdf_to_text2(path + doc_id +'.pdf')\n",
      "                      ^^^^^^^^^^^^^^^^^^^^^^^^^^^^^^^^^^^\n",
      "  File \"C:\\Users\\Gebruiker\\AppData\\Local\\Temp\\ipykernel_15816\\3182530635.py\", line 16, in pdf_to_text2\n",
      "    with pdfplumber.open(pdf_path) as pdf:\n",
      "         ^^^^^^^^^^^^^^^^^^^^^^^^^\n",
      "  File \"d:\\Programmeren\\adventofcode\\.aocenvpy311\\Lib\\site-packages\\pdfplumber\\pdf.py\", line 78, in open\n",
      "    return cls(\n",
      "           ^^^^\n",
      "  File \"d:\\Programmeren\\adventofcode\\.aocenvpy311\\Lib\\site-packages\\pdfplumber\\pdf.py\", line 40, in __init__\n",
      "    self.doc = PDFDocument(PDFParser(stream), password=password)\n",
      "               ^^^^^^^^^^^^^^^^^^^^^^^^^^^^^^^^^^^^^^^^^^^^^^^^^\n",
      "  File \"d:\\Programmeren\\adventofcode\\.aocenvpy311\\Lib\\site-packages\\pdfminer\\pdfdocument.py\", line 752, in __init__\n",
      "    raise PDFSyntaxError(\"No /Root object! - Is this really a PDF?\")\n",
      "pdfminer.pdfparser.PDFSyntaxError: No /Root object! - Is this really a PDF?\n"
     ]
    },
    {
     "name": "stdout",
     "output_type": "stream",
     "text": [
      "40500\n",
      "40600\n",
      "40700\n",
      "40800\n",
      "40900\n",
      "41000\n",
      "41100\n",
      "41200\n",
      "41300\n",
      "41400\n",
      "41500\n",
      "41600\n",
      "download or pdf_to_text error\n"
     ]
    },
    {
     "name": "stderr",
     "output_type": "stream",
     "text": [
      "Traceback (most recent call last):\n",
      "  File \"C:\\Users\\Gebruiker\\AppData\\Local\\Temp\\ipykernel_15816\\1447062882.py\", line 15, in <module>\n",
      "    info[k]['Text'] = pdf_to_text2(path + doc_id +'.pdf')\n",
      "                      ^^^^^^^^^^^^^^^^^^^^^^^^^^^^^^^^^^^\n",
      "  File \"C:\\Users\\Gebruiker\\AppData\\Local\\Temp\\ipykernel_15816\\3182530635.py\", line 16, in pdf_to_text2\n",
      "    with pdfplumber.open(pdf_path) as pdf:\n",
      "         ^^^^^^^^^^^^^^^^^^^^^^^^^\n",
      "  File \"d:\\Programmeren\\adventofcode\\.aocenvpy311\\Lib\\site-packages\\pdfplumber\\pdf.py\", line 78, in open\n",
      "    return cls(\n",
      "           ^^^^\n",
      "  File \"d:\\Programmeren\\adventofcode\\.aocenvpy311\\Lib\\site-packages\\pdfplumber\\pdf.py\", line 40, in __init__\n",
      "    self.doc = PDFDocument(PDFParser(stream), password=password)\n",
      "               ^^^^^^^^^^^^^^^^^^^^^^^^^^^^^^^^^^^^^^^^^^^^^^^^^\n",
      "  File \"d:\\Programmeren\\adventofcode\\.aocenvpy311\\Lib\\site-packages\\pdfminer\\pdfdocument.py\", line 752, in __init__\n",
      "    raise PDFSyntaxError(\"No /Root object! - Is this really a PDF?\")\n",
      "pdfminer.pdfparser.PDFSyntaxError: No /Root object! - Is this really a PDF?\n"
     ]
    },
    {
     "name": "stdout",
     "output_type": "stream",
     "text": [
      "41700\n",
      "41800\n",
      "41900\n",
      "42000\n",
      "42100\n",
      "42200\n",
      "42300\n",
      "42400\n",
      "42500\n",
      "42600\n",
      "download or pdf_to_text error\n"
     ]
    },
    {
     "name": "stderr",
     "output_type": "stream",
     "text": [
      "Traceback (most recent call last):\n",
      "  File \"C:\\Users\\Gebruiker\\AppData\\Local\\Temp\\ipykernel_15816\\1447062882.py\", line 15, in <module>\n",
      "    info[k]['Text'] = pdf_to_text2(path + doc_id +'.pdf')\n",
      "                      ^^^^^^^^^^^^^^^^^^^^^^^^^^^^^^^^^^^\n",
      "  File \"C:\\Users\\Gebruiker\\AppData\\Local\\Temp\\ipykernel_15816\\3182530635.py\", line 16, in pdf_to_text2\n",
      "    with pdfplumber.open(pdf_path) as pdf:\n",
      "         ^^^^^^^^^^^^^^^^^^^^^^^^^\n",
      "  File \"d:\\Programmeren\\adventofcode\\.aocenvpy311\\Lib\\site-packages\\pdfplumber\\pdf.py\", line 78, in open\n",
      "    return cls(\n",
      "           ^^^^\n",
      "  File \"d:\\Programmeren\\adventofcode\\.aocenvpy311\\Lib\\site-packages\\pdfplumber\\pdf.py\", line 40, in __init__\n",
      "    self.doc = PDFDocument(PDFParser(stream), password=password)\n",
      "               ^^^^^^^^^^^^^^^^^^^^^^^^^^^^^^^^^^^^^^^^^^^^^^^^^\n",
      "  File \"d:\\Programmeren\\adventofcode\\.aocenvpy311\\Lib\\site-packages\\pdfminer\\pdfdocument.py\", line 752, in __init__\n",
      "    raise PDFSyntaxError(\"No /Root object! - Is this really a PDF?\")\n",
      "pdfminer.pdfparser.PDFSyntaxError: No /Root object! - Is this really a PDF?\n"
     ]
    },
    {
     "name": "stdout",
     "output_type": "stream",
     "text": [
      "42700\n",
      "42800\n",
      "42900\n",
      "43000\n",
      "43100\n",
      "43200\n",
      "43300\n",
      "download or pdf_to_text error\n",
      "43400\n"
     ]
    },
    {
     "name": "stderr",
     "output_type": "stream",
     "text": [
      "Traceback (most recent call last):\n",
      "  File \"C:\\Users\\Gebruiker\\AppData\\Local\\Temp\\ipykernel_15816\\1447062882.py\", line 15, in <module>\n",
      "    info[k]['Text'] = pdf_to_text2(path + doc_id +'.pdf')\n",
      "                      ^^^^^^^^^^^^^^^^^^^^^^^^^^^^^^^^^^^\n",
      "  File \"C:\\Users\\Gebruiker\\AppData\\Local\\Temp\\ipykernel_15816\\3182530635.py\", line 16, in pdf_to_text2\n",
      "    with pdfplumber.open(pdf_path) as pdf:\n",
      "         ^^^^^^^^^^^^^^^^^^^^^^^^^\n",
      "  File \"d:\\Programmeren\\adventofcode\\.aocenvpy311\\Lib\\site-packages\\pdfplumber\\pdf.py\", line 78, in open\n",
      "    return cls(\n",
      "           ^^^^\n",
      "  File \"d:\\Programmeren\\adventofcode\\.aocenvpy311\\Lib\\site-packages\\pdfplumber\\pdf.py\", line 40, in __init__\n",
      "    self.doc = PDFDocument(PDFParser(stream), password=password)\n",
      "               ^^^^^^^^^^^^^^^^^^^^^^^^^^^^^^^^^^^^^^^^^^^^^^^^^\n",
      "  File \"d:\\Programmeren\\adventofcode\\.aocenvpy311\\Lib\\site-packages\\pdfminer\\pdfdocument.py\", line 752, in __init__\n",
      "    raise PDFSyntaxError(\"No /Root object! - Is this really a PDF?\")\n",
      "pdfminer.pdfparser.PDFSyntaxError: No /Root object! - Is this really a PDF?\n"
     ]
    },
    {
     "name": "stdout",
     "output_type": "stream",
     "text": [
      "43500\n",
      "43600\n",
      "43700\n",
      "43800\n",
      "43900\n",
      "44000\n",
      "44100\n",
      "44200\n",
      "download or pdf_to_text error\n"
     ]
    },
    {
     "name": "stderr",
     "output_type": "stream",
     "text": [
      "Traceback (most recent call last):\n",
      "  File \"C:\\Users\\Gebruiker\\AppData\\Local\\Temp\\ipykernel_15816\\1447062882.py\", line 15, in <module>\n",
      "    info[k]['Text'] = pdf_to_text2(path + doc_id +'.pdf')\n",
      "                      ^^^^^^^^^^^^^^^^^^^^^^^^^^^^^^^^^^^\n",
      "  File \"C:\\Users\\Gebruiker\\AppData\\Local\\Temp\\ipykernel_15816\\3182530635.py\", line 16, in pdf_to_text2\n",
      "    with pdfplumber.open(pdf_path) as pdf:\n",
      "         ^^^^^^^^^^^^^^^^^^^^^^^^^\n",
      "  File \"d:\\Programmeren\\adventofcode\\.aocenvpy311\\Lib\\site-packages\\pdfplumber\\pdf.py\", line 78, in open\n",
      "    return cls(\n",
      "           ^^^^\n",
      "  File \"d:\\Programmeren\\adventofcode\\.aocenvpy311\\Lib\\site-packages\\pdfplumber\\pdf.py\", line 40, in __init__\n",
      "    self.doc = PDFDocument(PDFParser(stream), password=password)\n",
      "               ^^^^^^^^^^^^^^^^^^^^^^^^^^^^^^^^^^^^^^^^^^^^^^^^^\n",
      "  File \"d:\\Programmeren\\adventofcode\\.aocenvpy311\\Lib\\site-packages\\pdfminer\\pdfdocument.py\", line 752, in __init__\n",
      "    raise PDFSyntaxError(\"No /Root object! - Is this really a PDF?\")\n",
      "pdfminer.pdfparser.PDFSyntaxError: No /Root object! - Is this really a PDF?\n"
     ]
    },
    {
     "name": "stdout",
     "output_type": "stream",
     "text": [
      "44300\n",
      "44400\n",
      "44500\n",
      "download or pdf_to_text error\n"
     ]
    },
    {
     "name": "stderr",
     "output_type": "stream",
     "text": [
      "Traceback (most recent call last):\n",
      "  File \"C:\\Users\\Gebruiker\\AppData\\Local\\Temp\\ipykernel_15816\\1447062882.py\", line 15, in <module>\n",
      "    info[k]['Text'] = pdf_to_text2(path + doc_id +'.pdf')\n",
      "                      ^^^^^^^^^^^^^^^^^^^^^^^^^^^^^^^^^^^\n",
      "  File \"C:\\Users\\Gebruiker\\AppData\\Local\\Temp\\ipykernel_15816\\3182530635.py\", line 16, in pdf_to_text2\n",
      "    with pdfplumber.open(pdf_path) as pdf:\n",
      "         ^^^^^^^^^^^^^^^^^^^^^^^^^\n",
      "  File \"d:\\Programmeren\\adventofcode\\.aocenvpy311\\Lib\\site-packages\\pdfplumber\\pdf.py\", line 78, in open\n",
      "    return cls(\n",
      "           ^^^^\n",
      "  File \"d:\\Programmeren\\adventofcode\\.aocenvpy311\\Lib\\site-packages\\pdfplumber\\pdf.py\", line 40, in __init__\n",
      "    self.doc = PDFDocument(PDFParser(stream), password=password)\n",
      "               ^^^^^^^^^^^^^^^^^^^^^^^^^^^^^^^^^^^^^^^^^^^^^^^^^\n",
      "  File \"d:\\Programmeren\\adventofcode\\.aocenvpy311\\Lib\\site-packages\\pdfminer\\pdfdocument.py\", line 752, in __init__\n",
      "    raise PDFSyntaxError(\"No /Root object! - Is this really a PDF?\")\n",
      "pdfminer.pdfparser.PDFSyntaxError: No /Root object! - Is this really a PDF?\n"
     ]
    },
    {
     "name": "stdout",
     "output_type": "stream",
     "text": [
      "44600\n",
      "44700\n",
      "download or pdf_to_text error\n"
     ]
    },
    {
     "name": "stderr",
     "output_type": "stream",
     "text": [
      "Traceback (most recent call last):\n",
      "  File \"C:\\Users\\Gebruiker\\AppData\\Local\\Temp\\ipykernel_15816\\1447062882.py\", line 15, in <module>\n",
      "    info[k]['Text'] = pdf_to_text2(path + doc_id +'.pdf')\n",
      "                      ^^^^^^^^^^^^^^^^^^^^^^^^^^^^^^^^^^^\n",
      "  File \"C:\\Users\\Gebruiker\\AppData\\Local\\Temp\\ipykernel_15816\\3182530635.py\", line 16, in pdf_to_text2\n",
      "    with pdfplumber.open(pdf_path) as pdf:\n",
      "         ^^^^^^^^^^^^^^^^^^^^^^^^^\n",
      "  File \"d:\\Programmeren\\adventofcode\\.aocenvpy311\\Lib\\site-packages\\pdfplumber\\pdf.py\", line 78, in open\n",
      "    return cls(\n",
      "           ^^^^\n",
      "  File \"d:\\Programmeren\\adventofcode\\.aocenvpy311\\Lib\\site-packages\\pdfplumber\\pdf.py\", line 40, in __init__\n",
      "    self.doc = PDFDocument(PDFParser(stream), password=password)\n",
      "               ^^^^^^^^^^^^^^^^^^^^^^^^^^^^^^^^^^^^^^^^^^^^^^^^^\n",
      "  File \"d:\\Programmeren\\adventofcode\\.aocenvpy311\\Lib\\site-packages\\pdfminer\\pdfdocument.py\", line 752, in __init__\n",
      "    raise PDFSyntaxError(\"No /Root object! - Is this really a PDF?\")\n",
      "pdfminer.pdfparser.PDFSyntaxError: No /Root object! - Is this really a PDF?\n"
     ]
    },
    {
     "name": "stdout",
     "output_type": "stream",
     "text": [
      "44800\n",
      "44900\n",
      "download or pdf_to_text error\n"
     ]
    },
    {
     "name": "stderr",
     "output_type": "stream",
     "text": [
      "Traceback (most recent call last):\n",
      "  File \"C:\\Users\\Gebruiker\\AppData\\Local\\Temp\\ipykernel_15816\\1447062882.py\", line 15, in <module>\n",
      "    info[k]['Text'] = pdf_to_text2(path + doc_id +'.pdf')\n",
      "                      ^^^^^^^^^^^^^^^^^^^^^^^^^^^^^^^^^^^\n",
      "  File \"C:\\Users\\Gebruiker\\AppData\\Local\\Temp\\ipykernel_15816\\3182530635.py\", line 16, in pdf_to_text2\n",
      "    with pdfplumber.open(pdf_path) as pdf:\n",
      "         ^^^^^^^^^^^^^^^^^^^^^^^^^\n",
      "  File \"d:\\Programmeren\\adventofcode\\.aocenvpy311\\Lib\\site-packages\\pdfplumber\\pdf.py\", line 78, in open\n",
      "    return cls(\n",
      "           ^^^^\n",
      "  File \"d:\\Programmeren\\adventofcode\\.aocenvpy311\\Lib\\site-packages\\pdfplumber\\pdf.py\", line 40, in __init__\n",
      "    self.doc = PDFDocument(PDFParser(stream), password=password)\n",
      "               ^^^^^^^^^^^^^^^^^^^^^^^^^^^^^^^^^^^^^^^^^^^^^^^^^\n",
      "  File \"d:\\Programmeren\\adventofcode\\.aocenvpy311\\Lib\\site-packages\\pdfminer\\pdfdocument.py\", line 752, in __init__\n",
      "    raise PDFSyntaxError(\"No /Root object! - Is this really a PDF?\")\n",
      "pdfminer.pdfparser.PDFSyntaxError: No /Root object! - Is this really a PDF?\n"
     ]
    },
    {
     "name": "stdout",
     "output_type": "stream",
     "text": [
      "45000\n",
      "45100\n",
      "45200\n",
      "download or pdf_to_text error\n"
     ]
    },
    {
     "name": "stderr",
     "output_type": "stream",
     "text": [
      "Traceback (most recent call last):\n",
      "  File \"C:\\Users\\Gebruiker\\AppData\\Local\\Temp\\ipykernel_15816\\1447062882.py\", line 15, in <module>\n",
      "    info[k]['Text'] = pdf_to_text2(path + doc_id +'.pdf')\n",
      "                      ^^^^^^^^^^^^^^^^^^^^^^^^^^^^^^^^^^^\n",
      "  File \"C:\\Users\\Gebruiker\\AppData\\Local\\Temp\\ipykernel_15816\\3182530635.py\", line 16, in pdf_to_text2\n",
      "    with pdfplumber.open(pdf_path) as pdf:\n",
      "         ^^^^^^^^^^^^^^^^^^^^^^^^^\n",
      "  File \"d:\\Programmeren\\adventofcode\\.aocenvpy311\\Lib\\site-packages\\pdfplumber\\pdf.py\", line 78, in open\n",
      "    return cls(\n",
      "           ^^^^\n",
      "  File \"d:\\Programmeren\\adventofcode\\.aocenvpy311\\Lib\\site-packages\\pdfplumber\\pdf.py\", line 40, in __init__\n",
      "    self.doc = PDFDocument(PDFParser(stream), password=password)\n",
      "               ^^^^^^^^^^^^^^^^^^^^^^^^^^^^^^^^^^^^^^^^^^^^^^^^^\n",
      "  File \"d:\\Programmeren\\adventofcode\\.aocenvpy311\\Lib\\site-packages\\pdfminer\\pdfdocument.py\", line 752, in __init__\n",
      "    raise PDFSyntaxError(\"No /Root object! - Is this really a PDF?\")\n",
      "pdfminer.pdfparser.PDFSyntaxError: No /Root object! - Is this really a PDF?\n"
     ]
    },
    {
     "name": "stdout",
     "output_type": "stream",
     "text": [
      "45300\n",
      "download or pdf_to_text error\n"
     ]
    },
    {
     "name": "stderr",
     "output_type": "stream",
     "text": [
      "Traceback (most recent call last):\n",
      "  File \"C:\\Users\\Gebruiker\\AppData\\Local\\Temp\\ipykernel_15816\\1447062882.py\", line 15, in <module>\n",
      "    info[k]['Text'] = pdf_to_text2(path + doc_id +'.pdf')\n",
      "                      ^^^^^^^^^^^^^^^^^^^^^^^^^^^^^^^^^^^\n",
      "  File \"C:\\Users\\Gebruiker\\AppData\\Local\\Temp\\ipykernel_15816\\3182530635.py\", line 16, in pdf_to_text2\n",
      "    with pdfplumber.open(pdf_path) as pdf:\n",
      "         ^^^^^^^^^^^^^^^^^^^^^^^^^\n",
      "  File \"d:\\Programmeren\\adventofcode\\.aocenvpy311\\Lib\\site-packages\\pdfplumber\\pdf.py\", line 78, in open\n",
      "    return cls(\n",
      "           ^^^^\n",
      "  File \"d:\\Programmeren\\adventofcode\\.aocenvpy311\\Lib\\site-packages\\pdfplumber\\pdf.py\", line 40, in __init__\n",
      "    self.doc = PDFDocument(PDFParser(stream), password=password)\n",
      "               ^^^^^^^^^^^^^^^^^^^^^^^^^^^^^^^^^^^^^^^^^^^^^^^^^\n",
      "  File \"d:\\Programmeren\\adventofcode\\.aocenvpy311\\Lib\\site-packages\\pdfminer\\pdfdocument.py\", line 752, in __init__\n",
      "    raise PDFSyntaxError(\"No /Root object! - Is this really a PDF?\")\n",
      "pdfminer.pdfparser.PDFSyntaxError: No /Root object! - Is this really a PDF?\n"
     ]
    },
    {
     "name": "stdout",
     "output_type": "stream",
     "text": [
      "45400\n",
      "download or pdf_to_text error\n"
     ]
    },
    {
     "name": "stderr",
     "output_type": "stream",
     "text": [
      "Traceback (most recent call last):\n",
      "  File \"C:\\Users\\Gebruiker\\AppData\\Local\\Temp\\ipykernel_15816\\1447062882.py\", line 15, in <module>\n",
      "    info[k]['Text'] = pdf_to_text2(path + doc_id +'.pdf')\n",
      "                      ^^^^^^^^^^^^^^^^^^^^^^^^^^^^^^^^^^^\n",
      "  File \"C:\\Users\\Gebruiker\\AppData\\Local\\Temp\\ipykernel_15816\\3182530635.py\", line 16, in pdf_to_text2\n",
      "    with pdfplumber.open(pdf_path) as pdf:\n",
      "         ^^^^^^^^^^^^^^^^^^^^^^^^^\n",
      "  File \"d:\\Programmeren\\adventofcode\\.aocenvpy311\\Lib\\site-packages\\pdfplumber\\pdf.py\", line 78, in open\n",
      "    return cls(\n",
      "           ^^^^\n",
      "  File \"d:\\Programmeren\\adventofcode\\.aocenvpy311\\Lib\\site-packages\\pdfplumber\\pdf.py\", line 40, in __init__\n",
      "    self.doc = PDFDocument(PDFParser(stream), password=password)\n",
      "               ^^^^^^^^^^^^^^^^^^^^^^^^^^^^^^^^^^^^^^^^^^^^^^^^^\n",
      "  File \"d:\\Programmeren\\adventofcode\\.aocenvpy311\\Lib\\site-packages\\pdfminer\\pdfdocument.py\", line 752, in __init__\n",
      "    raise PDFSyntaxError(\"No /Root object! - Is this really a PDF?\")\n",
      "pdfminer.pdfparser.PDFSyntaxError: No /Root object! - Is this really a PDF?\n"
     ]
    },
    {
     "name": "stdout",
     "output_type": "stream",
     "text": [
      "45500\n",
      "45600\n",
      "45700\n",
      "45800\n",
      "download or pdf_to_text error\n"
     ]
    },
    {
     "name": "stderr",
     "output_type": "stream",
     "text": [
      "Traceback (most recent call last):\n",
      "  File \"C:\\Users\\Gebruiker\\AppData\\Local\\Temp\\ipykernel_15816\\1447062882.py\", line 15, in <module>\n",
      "    info[k]['Text'] = pdf_to_text2(path + doc_id +'.pdf')\n",
      "                      ^^^^^^^^^^^^^^^^^^^^^^^^^^^^^^^^^^^\n",
      "  File \"C:\\Users\\Gebruiker\\AppData\\Local\\Temp\\ipykernel_15816\\3182530635.py\", line 16, in pdf_to_text2\n",
      "    with pdfplumber.open(pdf_path) as pdf:\n",
      "         ^^^^^^^^^^^^^^^^^^^^^^^^^\n",
      "  File \"d:\\Programmeren\\adventofcode\\.aocenvpy311\\Lib\\site-packages\\pdfplumber\\pdf.py\", line 78, in open\n",
      "    return cls(\n",
      "           ^^^^\n",
      "  File \"d:\\Programmeren\\adventofcode\\.aocenvpy311\\Lib\\site-packages\\pdfplumber\\pdf.py\", line 40, in __init__\n",
      "    self.doc = PDFDocument(PDFParser(stream), password=password)\n",
      "               ^^^^^^^^^^^^^^^^^^^^^^^^^^^^^^^^^^^^^^^^^^^^^^^^^\n",
      "  File \"d:\\Programmeren\\adventofcode\\.aocenvpy311\\Lib\\site-packages\\pdfminer\\pdfdocument.py\", line 752, in __init__\n",
      "    raise PDFSyntaxError(\"No /Root object! - Is this really a PDF?\")\n",
      "pdfminer.pdfparser.PDFSyntaxError: No /Root object! - Is this really a PDF?\n"
     ]
    },
    {
     "name": "stdout",
     "output_type": "stream",
     "text": [
      "45900\n",
      "46000\n",
      "46100\n",
      "46200\n",
      "46300\n",
      "46400\n",
      "46500\n",
      "46600\n",
      "46700\n",
      "46800\n",
      "46900\n",
      "47000\n",
      "47100\n",
      "47200\n",
      "47300\n",
      "47400\n",
      "47500\n",
      "47600\n",
      "download or pdf_to_text error\n"
     ]
    },
    {
     "name": "stderr",
     "output_type": "stream",
     "text": [
      "Traceback (most recent call last):\n",
      "  File \"C:\\Users\\Gebruiker\\AppData\\Local\\Temp\\ipykernel_15816\\1447062882.py\", line 15, in <module>\n",
      "    info[k]['Text'] = pdf_to_text2(path + doc_id +'.pdf')\n",
      "                      ^^^^^^^^^^^^^^^^^^^^^^^^^^^^^^^^^^^\n",
      "  File \"C:\\Users\\Gebruiker\\AppData\\Local\\Temp\\ipykernel_15816\\3182530635.py\", line 16, in pdf_to_text2\n",
      "    with pdfplumber.open(pdf_path) as pdf:\n",
      "         ^^^^^^^^^^^^^^^^^^^^^^^^^\n",
      "  File \"d:\\Programmeren\\adventofcode\\.aocenvpy311\\Lib\\site-packages\\pdfplumber\\pdf.py\", line 78, in open\n",
      "    return cls(\n",
      "           ^^^^\n",
      "  File \"d:\\Programmeren\\adventofcode\\.aocenvpy311\\Lib\\site-packages\\pdfplumber\\pdf.py\", line 40, in __init__\n",
      "    self.doc = PDFDocument(PDFParser(stream), password=password)\n",
      "               ^^^^^^^^^^^^^^^^^^^^^^^^^^^^^^^^^^^^^^^^^^^^^^^^^\n",
      "  File \"d:\\Programmeren\\adventofcode\\.aocenvpy311\\Lib\\site-packages\\pdfminer\\pdfdocument.py\", line 752, in __init__\n",
      "    raise PDFSyntaxError(\"No /Root object! - Is this really a PDF?\")\n",
      "pdfminer.pdfparser.PDFSyntaxError: No /Root object! - Is this really a PDF?\n"
     ]
    },
    {
     "name": "stdout",
     "output_type": "stream",
     "text": [
      "download or pdf_to_text error\n"
     ]
    },
    {
     "name": "stderr",
     "output_type": "stream",
     "text": [
      "Traceback (most recent call last):\n",
      "  File \"C:\\Users\\Gebruiker\\AppData\\Local\\Temp\\ipykernel_15816\\1447062882.py\", line 15, in <module>\n",
      "    info[k]['Text'] = pdf_to_text2(path + doc_id +'.pdf')\n",
      "                      ^^^^^^^^^^^^^^^^^^^^^^^^^^^^^^^^^^^\n",
      "  File \"C:\\Users\\Gebruiker\\AppData\\Local\\Temp\\ipykernel_15816\\3182530635.py\", line 16, in pdf_to_text2\n",
      "    with pdfplumber.open(pdf_path) as pdf:\n",
      "         ^^^^^^^^^^^^^^^^^^^^^^^^^\n",
      "  File \"d:\\Programmeren\\adventofcode\\.aocenvpy311\\Lib\\site-packages\\pdfplumber\\pdf.py\", line 78, in open\n",
      "    return cls(\n",
      "           ^^^^\n",
      "  File \"d:\\Programmeren\\adventofcode\\.aocenvpy311\\Lib\\site-packages\\pdfplumber\\pdf.py\", line 40, in __init__\n",
      "    self.doc = PDFDocument(PDFParser(stream), password=password)\n",
      "               ^^^^^^^^^^^^^^^^^^^^^^^^^^^^^^^^^^^^^^^^^^^^^^^^^\n",
      "  File \"d:\\Programmeren\\adventofcode\\.aocenvpy311\\Lib\\site-packages\\pdfminer\\pdfdocument.py\", line 752, in __init__\n",
      "    raise PDFSyntaxError(\"No /Root object! - Is this really a PDF?\")\n",
      "pdfminer.pdfparser.PDFSyntaxError: No /Root object! - Is this really a PDF?\n"
     ]
    },
    {
     "name": "stdout",
     "output_type": "stream",
     "text": [
      "47700\n",
      "47800\n",
      "47900\n",
      "48000\n",
      "48100\n",
      "48200\n",
      "download or pdf_to_text error\n"
     ]
    },
    {
     "name": "stderr",
     "output_type": "stream",
     "text": [
      "Traceback (most recent call last):\n",
      "  File \"C:\\Users\\Gebruiker\\AppData\\Local\\Temp\\ipykernel_15816\\1447062882.py\", line 15, in <module>\n",
      "    info[k]['Text'] = pdf_to_text2(path + doc_id +'.pdf')\n",
      "                      ^^^^^^^^^^^^^^^^^^^^^^^^^^^^^^^^^^^\n",
      "  File \"C:\\Users\\Gebruiker\\AppData\\Local\\Temp\\ipykernel_15816\\3182530635.py\", line 16, in pdf_to_text2\n",
      "    with pdfplumber.open(pdf_path) as pdf:\n",
      "         ^^^^^^^^^^^^^^^^^^^^^^^^^\n",
      "  File \"d:\\Programmeren\\adventofcode\\.aocenvpy311\\Lib\\site-packages\\pdfplumber\\pdf.py\", line 78, in open\n",
      "    return cls(\n",
      "           ^^^^\n",
      "  File \"d:\\Programmeren\\adventofcode\\.aocenvpy311\\Lib\\site-packages\\pdfplumber\\pdf.py\", line 40, in __init__\n",
      "    self.doc = PDFDocument(PDFParser(stream), password=password)\n",
      "               ^^^^^^^^^^^^^^^^^^^^^^^^^^^^^^^^^^^^^^^^^^^^^^^^^\n",
      "  File \"d:\\Programmeren\\adventofcode\\.aocenvpy311\\Lib\\site-packages\\pdfminer\\pdfdocument.py\", line 752, in __init__\n",
      "    raise PDFSyntaxError(\"No /Root object! - Is this really a PDF?\")\n",
      "pdfminer.pdfparser.PDFSyntaxError: No /Root object! - Is this really a PDF?\n"
     ]
    },
    {
     "name": "stdout",
     "output_type": "stream",
     "text": [
      "48300\n",
      "48400\n",
      "download or pdf_to_text error\n"
     ]
    },
    {
     "name": "stderr",
     "output_type": "stream",
     "text": [
      "Traceback (most recent call last):\n",
      "  File \"C:\\Users\\Gebruiker\\AppData\\Local\\Temp\\ipykernel_15816\\1447062882.py\", line 15, in <module>\n",
      "    info[k]['Text'] = pdf_to_text2(path + doc_id +'.pdf')\n",
      "                      ^^^^^^^^^^^^^^^^^^^^^^^^^^^^^^^^^^^\n",
      "  File \"C:\\Users\\Gebruiker\\AppData\\Local\\Temp\\ipykernel_15816\\3182530635.py\", line 16, in pdf_to_text2\n",
      "    with pdfplumber.open(pdf_path) as pdf:\n",
      "         ^^^^^^^^^^^^^^^^^^^^^^^^^\n",
      "  File \"d:\\Programmeren\\adventofcode\\.aocenvpy311\\Lib\\site-packages\\pdfplumber\\pdf.py\", line 78, in open\n",
      "    return cls(\n",
      "           ^^^^\n",
      "  File \"d:\\Programmeren\\adventofcode\\.aocenvpy311\\Lib\\site-packages\\pdfplumber\\pdf.py\", line 40, in __init__\n",
      "    self.doc = PDFDocument(PDFParser(stream), password=password)\n",
      "               ^^^^^^^^^^^^^^^^^^^^^^^^^^^^^^^^^^^^^^^^^^^^^^^^^\n",
      "  File \"d:\\Programmeren\\adventofcode\\.aocenvpy311\\Lib\\site-packages\\pdfminer\\pdfdocument.py\", line 752, in __init__\n",
      "    raise PDFSyntaxError(\"No /Root object! - Is this really a PDF?\")\n",
      "pdfminer.pdfparser.PDFSyntaxError: No /Root object! - Is this really a PDF?\n"
     ]
    },
    {
     "name": "stdout",
     "output_type": "stream",
     "text": [
      "48500\n",
      "download or pdf_to_text error\n"
     ]
    },
    {
     "name": "stderr",
     "output_type": "stream",
     "text": [
      "Traceback (most recent call last):\n",
      "  File \"C:\\Users\\Gebruiker\\AppData\\Local\\Temp\\ipykernel_15816\\1447062882.py\", line 15, in <module>\n",
      "    info[k]['Text'] = pdf_to_text2(path + doc_id +'.pdf')\n",
      "                      ^^^^^^^^^^^^^^^^^^^^^^^^^^^^^^^^^^^\n",
      "  File \"C:\\Users\\Gebruiker\\AppData\\Local\\Temp\\ipykernel_15816\\3182530635.py\", line 16, in pdf_to_text2\n",
      "    with pdfplumber.open(pdf_path) as pdf:\n",
      "         ^^^^^^^^^^^^^^^^^^^^^^^^^\n",
      "  File \"d:\\Programmeren\\adventofcode\\.aocenvpy311\\Lib\\site-packages\\pdfplumber\\pdf.py\", line 78, in open\n",
      "    return cls(\n",
      "           ^^^^\n",
      "  File \"d:\\Programmeren\\adventofcode\\.aocenvpy311\\Lib\\site-packages\\pdfplumber\\pdf.py\", line 40, in __init__\n",
      "    self.doc = PDFDocument(PDFParser(stream), password=password)\n",
      "               ^^^^^^^^^^^^^^^^^^^^^^^^^^^^^^^^^^^^^^^^^^^^^^^^^\n",
      "  File \"d:\\Programmeren\\adventofcode\\.aocenvpy311\\Lib\\site-packages\\pdfminer\\pdfdocument.py\", line 752, in __init__\n",
      "    raise PDFSyntaxError(\"No /Root object! - Is this really a PDF?\")\n",
      "pdfminer.pdfparser.PDFSyntaxError: No /Root object! - Is this really a PDF?\n"
     ]
    },
    {
     "name": "stdout",
     "output_type": "stream",
     "text": [
      "48600\n",
      "48700\n",
      "48800\n",
      "download or pdf_to_text error\n"
     ]
    },
    {
     "name": "stderr",
     "output_type": "stream",
     "text": [
      "Traceback (most recent call last):\n",
      "  File \"C:\\Users\\Gebruiker\\AppData\\Local\\Temp\\ipykernel_15816\\1447062882.py\", line 15, in <module>\n",
      "    info[k]['Text'] = pdf_to_text2(path + doc_id +'.pdf')\n",
      "                      ^^^^^^^^^^^^^^^^^^^^^^^^^^^^^^^^^^^\n",
      "  File \"C:\\Users\\Gebruiker\\AppData\\Local\\Temp\\ipykernel_15816\\3182530635.py\", line 16, in pdf_to_text2\n",
      "    with pdfplumber.open(pdf_path) as pdf:\n",
      "         ^^^^^^^^^^^^^^^^^^^^^^^^^\n",
      "  File \"d:\\Programmeren\\adventofcode\\.aocenvpy311\\Lib\\site-packages\\pdfplumber\\pdf.py\", line 78, in open\n",
      "    return cls(\n",
      "           ^^^^\n",
      "  File \"d:\\Programmeren\\adventofcode\\.aocenvpy311\\Lib\\site-packages\\pdfplumber\\pdf.py\", line 40, in __init__\n",
      "    self.doc = PDFDocument(PDFParser(stream), password=password)\n",
      "               ^^^^^^^^^^^^^^^^^^^^^^^^^^^^^^^^^^^^^^^^^^^^^^^^^\n",
      "  File \"d:\\Programmeren\\adventofcode\\.aocenvpy311\\Lib\\site-packages\\pdfminer\\pdfdocument.py\", line 752, in __init__\n",
      "    raise PDFSyntaxError(\"No /Root object! - Is this really a PDF?\")\n",
      "pdfminer.pdfparser.PDFSyntaxError: No /Root object! - Is this really a PDF?\n"
     ]
    },
    {
     "name": "stdout",
     "output_type": "stream",
     "text": [
      "48900\n",
      "49000\n",
      "49100\n",
      "49200\n",
      "49300\n",
      "49400\n",
      "download or pdf_to_text error\n"
     ]
    },
    {
     "name": "stderr",
     "output_type": "stream",
     "text": [
      "Traceback (most recent call last):\n",
      "  File \"C:\\Users\\Gebruiker\\AppData\\Local\\Temp\\ipykernel_15816\\1447062882.py\", line 15, in <module>\n",
      "    info[k]['Text'] = pdf_to_text2(path + doc_id +'.pdf')\n",
      "                      ^^^^^^^^^^^^^^^^^^^^^^^^^^^^^^^^^^^\n",
      "  File \"C:\\Users\\Gebruiker\\AppData\\Local\\Temp\\ipykernel_15816\\3182530635.py\", line 16, in pdf_to_text2\n",
      "    with pdfplumber.open(pdf_path) as pdf:\n",
      "         ^^^^^^^^^^^^^^^^^^^^^^^^^\n",
      "  File \"d:\\Programmeren\\adventofcode\\.aocenvpy311\\Lib\\site-packages\\pdfplumber\\pdf.py\", line 78, in open\n",
      "    return cls(\n",
      "           ^^^^\n",
      "  File \"d:\\Programmeren\\adventofcode\\.aocenvpy311\\Lib\\site-packages\\pdfplumber\\pdf.py\", line 40, in __init__\n",
      "    self.doc = PDFDocument(PDFParser(stream), password=password)\n",
      "               ^^^^^^^^^^^^^^^^^^^^^^^^^^^^^^^^^^^^^^^^^^^^^^^^^\n",
      "  File \"d:\\Programmeren\\adventofcode\\.aocenvpy311\\Lib\\site-packages\\pdfminer\\pdfdocument.py\", line 752, in __init__\n",
      "    raise PDFSyntaxError(\"No /Root object! - Is this really a PDF?\")\n",
      "pdfminer.pdfparser.PDFSyntaxError: No /Root object! - Is this really a PDF?\n"
     ]
    },
    {
     "name": "stdout",
     "output_type": "stream",
     "text": [
      "49500\n",
      "49600\n",
      "49700\n",
      "49800\n",
      "49900\n",
      "50000\n",
      "50100\n"
     ]
    }
   ],
   "source": [
    "import pickle\n",
    "file = open(\"moties_unprocessed.pickle\",\"rb\")\n",
    "info = pickle.load(file)\n",
    "\n",
    "download_errors = set()\n",
    "no_doc_id = set()\n",
    "\n",
    "# takes a long time\n",
    "for i, (k,v) in enumerate(info.items()):\n",
    "    if i % 100 == 0: print(i)\n",
    "    doc_id = v.get('doc_Id', None)\n",
    "    if doc_id:\n",
    "        try:\n",
    "            retrieve_and_save_pdf(doc_id)\n",
    "            info[k]['Text'] = pdf_to_text2(path + doc_id +'.pdf')\n",
    "        except Exception as e:\n",
    "            print('download or pdf_to_text error')\n",
    "            traceback.print_exc() \n",
    "            download_errors.add((k,doc_id))\n",
    "    else:\n",
    "        no_doc_id.add(k)\n",
    "df_text = pd.DataFrame(info).T"
   ]
  },
  {
   "cell_type": "code",
   "execution_count": 15,
   "metadata": {},
   "outputs": [
    {
     "name": "stdout",
     "output_type": "stream",
     "text": [
      "32 no texts found\n",
      "9a16cbeb-8235-4ca3-9892-2f1383e8fa3b <class 'str'>\n",
      "6caec6b4-3912-44a3-89c4-32633d52bf1f <class 'str'>\n",
      "7b4fe8f5-d6e8-4edc-b0f3-0694cb548fc0 <class 'str'>\n",
      "nan <class 'float'>\n",
      "ce9ea371-87fa-425c-98e0-c875a44d7012 <class 'str'>\n",
      "dd67a524-369b-4236-892a-d208459e1c7c <class 'str'>\n",
      "76707131-c532-45e4-81d0-14f9494100bb <class 'str'>\n",
      "2ad9fadd-ec8e-48fa-bf98-c6232f1aa68f <class 'str'>\n",
      "63cb7f5f-7977-4953-a3eb-f7157237f189 <class 'str'>\n",
      "ffd75a7f-add8-4e20-9cbb-add273d53035 <class 'str'>\n",
      "494e26c5-5fa1-45ad-b626-4e8129dc2aef <class 'str'>\n",
      "94f3842c-469c-4bd3-8945-3b19b49618f6 <class 'str'>\n",
      "d1be751a-e59a-40c6-9ad0-63bfd8857059 <class 'str'>\n",
      "f9f22364-c3dd-4803-b73e-35badb096e88 <class 'str'>\n",
      "74a78127-8c7f-4b7b-bd0a-f2b4ebe7e169 <class 'str'>\n",
      "222145de-9008-496a-a850-ec051d4feb1f <class 'str'>\n",
      "383c8560-6a79-45f3-8354-54418baf9bc7 <class 'str'>\n",
      "b0b66fd8-87eb-4d23-a413-5968502315f7 <class 'str'>\n",
      "46753ded-bda3-4545-a9e3-fa5f087f7fcc <class 'str'>\n",
      "55bf504a-6b5c-4f41-9e7b-dc0d19027bb4 <class 'str'>\n",
      "97a61c4c-ad1a-4aa6-a287-686886ac93ea <class 'str'>\n",
      "4c5233da-fcd8-4fd3-9344-13f62010997c <class 'str'>\n",
      "543a3820-4022-4bca-9c0b-05ce519c764c <class 'str'>\n",
      "62f01fc9-59ea-4b6a-8937-6420c5df48f7 <class 'str'>\n",
      "cbf1a616-94d6-422b-bb1e-c95ce8ecbb45 <class 'str'>\n",
      "8fbc2c9c-2aa6-4601-a014-26621b597879 <class 'str'>\n",
      "e4c03f45-772b-4462-803b-fd46e2336887 <class 'str'>\n",
      "279cbe76-78d6-438a-8b9e-5901416a6ec5 <class 'str'>\n",
      "c8cc9a3d-a3b7-4f15-b20b-96f27515c57e <class 'str'>\n",
      "aed6d3ce-2ebb-4438-a6e8-9d0b344672f4 <class 'str'>\n",
      "c696b93d-1724-48e6-a94a-a2c818d87aea <class 'str'>\n",
      "4a610c85-ee22-4202-8bc4-6f6a60615652 <class 'str'>\n",
      "0 new pdfs found\n"
     ]
    }
   ],
   "source": [
    "# Some pdf download may have been corrupted. By running this function, we try to redownload the pdf and update the text. Unfortunatly it seems the pdfs are simply corrupted\n",
    "no_text_idx = df_text[(df_text['Text']=='') | (df_text['Text'].isna())].index\n",
    "print(len(no_text_idx), 'no texts found')\n",
    "texts = []\n",
    "for index in no_text_idx:\n",
    "    doc_Id = df_text.loc[index,'doc_Id']\n",
    "    print(doc_Id, type(doc_Id))\n",
    "    if not pd.isna(doc_Id):\n",
    "        retrieve_and_save_pdf(doc_Id, overwrite=True)\n",
    "        t = pdf_to_text(path + doc_Id + '.pdf')\n",
    "        if t != '':\n",
    "            df_text.loc[index,'Text'] = t\n",
    "            texts.append(t)\n",
    "print(len(texts), 'new pdfs found')"
   ]
  },
  {
   "cell_type": "code",
   "execution_count": 16,
   "metadata": {},
   "outputs": [],
   "source": [
    "import pickle\n",
    "with open('df_text_before_preprocessing', 'wb') as handle:\n",
    "    pickle.dump(df_text, handle, protocol=pickle.HIGHEST_PROTOCOL)"
   ]
  },
  {
   "cell_type": "markdown",
   "metadata": {},
   "source": [
    "## Make dataframe"
   ]
  },
  {
   "cell_type": "code",
   "execution_count": 17,
   "metadata": {
    "Collapsed": "false"
   },
   "outputs": [
    {
     "name": "stdout",
     "output_type": "stream",
     "text": [
      "50199\n"
     ]
    }
   ],
   "source": [
    "import pickle\n",
    "file = open(\"df_text_before_preprocessing\",\"rb\")\n",
    "df = pickle.load(file)\n",
    "print(len(df))\n",
    "column_list = df.columns.values # current columns"
   ]
  },
  {
   "cell_type": "code",
   "execution_count": 19,
   "metadata": {},
   "outputs": [
    {
     "data": {
      "text/plain": [
       "'2\\nTweede Kamer der Staten-Generaal\\nVergaderjaar 2014–2015\\n31 765 Kwaliteit van zorg\\nNr. 98 MOTIE VAN HET LID AGEMA\\nVoorgesteld 18 november 2014\\nDe Kamer,\\ngehoord de beraadslaging,\\nconstaterende dat het Experiment regelarme instellingen de kwaliteit van\\nzorg aanzienlijk verbetert;\\noverwegende dat regelarm werken ook nog een forse besparing oplevert;\\nverzoekt de regering, zo spoedig mogelijk de landelijke uitrol van het\\nexperiment te bewerkstelligen,\\nen gaat over tot de orde van de dag.\\nAgema\\nkst-31765-98ISSN\\n0921 - 7371\\n’s-Gravenhage 2014 Tweede Kamer, vergaderjaar 2014–2015, 31 765, nr. 98'"
      ]
     },
     "execution_count": 19,
     "metadata": {},
     "output_type": "execute_result"
    }
   ],
   "source": [
    "df.iloc[0]['Text']"
   ]
  },
  {
   "cell_type": "markdown",
   "metadata": {
    "Collapsed": "false"
   },
   "source": [
    "### Preprocessing"
   ]
  },
  {
   "cell_type": "code",
   "execution_count": null,
   "metadata": {
    "Collapsed": "false"
   },
   "outputs": [],
   "source": []
  },
  {
   "cell_type": "code",
   "execution_count": 20,
   "metadata": {
    "Collapsed": "false"
   },
   "outputs": [
    {
     "data": {
      "text/plain": [
       "1"
      ]
     },
     "execution_count": 20,
     "metadata": {},
     "output_type": "execute_result"
    }
   ],
   "source": [
    "sum(df['doc_Id'].isnull())"
   ]
  },
  {
   "cell_type": "code",
   "execution_count": 21,
   "metadata": {
    "Collapsed": "false"
   },
   "outputs": [],
   "source": [
    "def preprocessing_motie(text,doc_id,i): # remove start and end of document to only include relevant text\n",
    "    try:\n",
    "        if text and doc_id and text != 'nan':\n",
    "            try:\n",
    "                regex = re.findall(r\"\\d{4}(.*?)Nr.*gehoord de beraadslaging(.*)\",text,re.DOTALL)\n",
    "                regex = (' '.join(regex[0]))\n",
    "            except Exception:\n",
    "                regex = re.findall(r\"\\d{4}(.*?)\",text,re.DOTALL)\n",
    "                regex = (' '.join(regex[0]))\n",
    "            return regex\n",
    "        else:\n",
    "            if not doc_id:\n",
    "                doc_id.append(i)\n",
    "            elif not text:\n",
    "                no_text.append(i)\n",
    "            return \"\"\n",
    "    except Exception:\n",
    "        print(traceback.print_exc())\n",
    "        error_processing.append(i)\n",
    "        return \"\"\n"
   ]
  },
  {
   "cell_type": "code",
   "execution_count": 22,
   "metadata": {},
   "outputs": [],
   "source": [
    "# df['Text'] = df['Text'].astype(str)\n",
    "# df['Text'] = df['Text'].str.replace('\\xad', '')\n",
    "# df['Text'] = df['Text'].str.replace('\\n', '')\n",
    "# df['Text'] = df['Text'].str.replace('\\r', '')\n",
    "# df['Text'] = df['Text'].str.replace('-', '')"
   ]
  },
  {
   "cell_type": "code",
   "execution_count": 23,
   "metadata": {
    "Collapsed": "false"
   },
   "outputs": [
    {
     "data": {
      "text/plain": [
       "(0, 0, 0)"
      ]
     },
     "execution_count": 23,
     "metadata": {},
     "output_type": "execute_result"
    }
   ],
   "source": [
    "# forget about text preprocessing, do that in later notebook with LDA\n",
    "import numpy as np\n",
    "no_text = []\n",
    "error_processing = []\n",
    "doc_id = []\n",
    "# df['Text_processed'] = np.vectorize(preprocessing_motie)(df['Text'],df['doc_Id'],df.index)\n",
    "len(no_text),len(error_processing),len(doc_id)"
   ]
  },
  {
   "cell_type": "code",
   "execution_count": 24,
   "metadata": {
    "Collapsed": "false"
   },
   "outputs": [
    {
     "name": "stdout",
     "output_type": "stream",
     "text": [
      "50199 removing hoofdelijke stemmingen\n",
      "49906 \n",
      "\n",
      "49906 removing moties without vote\n",
      "Stemmen - verworpen                                       20552\n",
      "Stemmen - aangenomen                                      18323\n",
      "Ingediend                                                  4887\n",
      "Stemmen - aangehouden                                      2467\n",
      "Termijn - vervallen in verband met verstrijken termijn     1339\n",
      "Stemmen - aangehouden (al tijdens debat)                    714\n",
      "Stemmen - ingetrokken                                       552\n",
      "Overgenomen                                                 359\n",
      "Stemmen - ingetrokken (al tijdens debat)                    230\n",
      "Stemmen - uitstellen                                        129\n",
      "Agenderen - stemmingen                                        9\n",
      "[Vrij tekstveld / geen Parlisproces]                          4\n",
      "Ter informatie                                                4\n",
      "Behandeling wordt voortgezet                                  2\n",
      "Stemmen                                                       1\n",
      "Ter bespreking (procedurevergadering)                         1\n",
      "Name: BesluitSoort, dtype: int64\n",
      "38875 \n",
      "\n",
      "Stemmen - verworpen     20552\n",
      "Stemmen - aangenomen    18323\n",
      "Name: BesluitSoort, dtype: int64\n",
      "0    20552\n",
      "1    18323\n",
      "Name: BesluitSoort, dtype: int64 \n",
      "\n",
      "Voor     17000\n",
      "Tegen     5055\n",
      "Name: Stem_50PLUS, dtype: int64\n",
      "1     17000\n",
      "-1     5055\n",
      "Name: Stem_50PLUS, dtype: int64 \n",
      "\n"
     ]
    }
   ],
   "source": [
    "#verwijder hoofdelijke stemmingen\n",
    "print (len(df), 'removing hoofdelijke stemmingen')\n",
    "df.drop(df[df['StemmingsSoort'] == 'Hoofdelijk'].index, inplace=True)\n",
    "print (len(df), '\\n')\n",
    "\n",
    "#verwijder moties zonder stemming\n",
    "print (len(df), 'removing moties without vote')\n",
    "print(df['BesluitSoort'].value_counts())\n",
    "df = df[((df['BesluitSoort'] == 'Stemmen - aangenomen') | (df['BesluitSoort'] == 'Stemmen - verworpen'))]\n",
    "print (len(df), '\\n')\n",
    "\n",
    "#recode besluitsoort naar -1 en 1\n",
    "print(df['BesluitSoort'].value_counts())\n",
    "df['BesluitSoort']=df['BesluitSoort'].replace({'Stemmen - verworpen':'0','Stemmen - aangenomen':'1'})\n",
    "df['BesluitSoort']=pd.to_numeric(df['BesluitSoort'])\n",
    "print(df['BesluitSoort'].value_counts(), '\\n')\n",
    "\n",
    "#recode voor en tegen naar 1 en -1\n",
    "stem_column = [c for c in column_list if 'Stem_' in c]\n",
    "print(df['Stem_50PLUS'].value_counts())\n",
    "df[stem_column]=df[stem_column].replace({'Tegen':'-1','Voor':'1','Niet deelgenomen':np.nan})\n",
    "print(df['Stem_50PLUS'].value_counts(), '\\n')\n",
    "\n",
    "#cast to datetime and sort old to new\n",
    "df['Datum'] = pd.to_datetime(df['Datum'].str[:10]) # cut off the time & timezone info, we only need date\n",
    "# df['Datum'] = pd.to_datetime(df['Datum'], utc=True)\n",
    "df['GestartOp'] = pd.to_datetime(df['GestartOp'].str[:10])\n",
    "# df['GestartOp'] = pd.to_datetime(df['GestartOp'], utc=True)\n",
    "# df['Datum'] = df['Datum'].dt.tz_convert(None)\n",
    "# df['GestartOp'] = df['GestartOp'].dt.tz_convert(None)\n",
    "df.sort_values('Datum',inplace=True)"
   ]
  },
  {
   "cell_type": "code",
   "execution_count": 25,
   "metadata": {},
   "outputs": [],
   "source": [
    "column_list = df.columns.values\n",
    "indiener_column = [c for c in column_list if ('Indiener') in c and c != 'Indiener_persoon']\n",
    "# make a column with the indienende partij\n",
    "ind = pd.melt(df, value_vars=indiener_column, ignore_index=False)\n",
    "ind = ind[ind['value'] == 1]\n",
    "ind = ind.rename(columns={'variable':'Indienende_partij'})\n",
    "ind['Indienende_partij'] = ind['Indienende_partij'].str[9:]\n",
    "df['Indiener_persoon'] = df['Indiener_persoon'].map(lambda x: x[0] if x else '')\n",
    "df = df.join(ind['Indienende_partij'], how='left')\n",
    "df['Indienende_persoon_partij'] = df['Indiener_persoon'] + ', ' + df['Indienende_partij']"
   ]
  },
  {
   "cell_type": "code",
   "execution_count": 26,
   "metadata": {
    "Collapsed": "false"
   },
   "outputs": [
    {
     "name": "stderr",
     "output_type": "stream",
     "text": [
      "C:\\Users\\Gebruiker\\AppData\\Local\\Temp\\ipykernel_15816\\588590119.py:8: FutureWarning: Calling a ufunc on non-aligned DataFrames (or DataFrame/Series combination). Currently, the indices are ignored and the result takes the index/columns of the first DataFrame. In the future , the DataFrames/Series will be aligned before applying the ufunc.\n",
      "Convert one of the arguments to a NumPy array (eg 'ufunc(df1, np.asarray(df2)') to keep the current behaviour, or align manually (eg 'df1, df2 = df1.align(df2)') before passing to the ufunc to obtain the future behaviour and silence this warning.\n",
      "  res = np.multiply(df[stem_column],df[aantal_stemmen_column])\n"
     ]
    }
   ],
   "source": [
    "#bereken voor en tegenstemmen\n",
    "aantal_stemmen_column = [c for c in column_list if 'Aantal' in c]\n",
    "\n",
    "for i in range(len(stem_column)):\n",
    "    df[stem_column[i]]=pd.to_numeric(df[stem_column[i]])\n",
    "    df[aantal_stemmen_column[i]]=pd.to_numeric(df[aantal_stemmen_column[i]])\n",
    "\n",
    "res = np.multiply(df[stem_column],df[aantal_stemmen_column])\n",
    "voor = res[res > 0].sum(axis=1)\n",
    "tegen = abs(res[res < 0].sum(axis=1))\n",
    "df['Voor'], df['Tegen'] = voor,tegen\n",
    "df['Delta'] = abs(df['Voor']- df['Tegen'])\n",
    "df['Sum'] = (df['Voor']+ df['Tegen'])\n"
   ]
  },
  {
   "cell_type": "code",
   "execution_count": 27,
   "metadata": {
    "Collapsed": "false"
   },
   "outputs": [],
   "source": [
    "df = df.replace(-1,0)"
   ]
  },
  {
   "cell_type": "code",
   "execution_count": 28,
   "metadata": {},
   "outputs": [],
   "source": [
    "df['Jaar'] = df['Datum'].dt.year"
   ]
  },
  {
   "cell_type": "code",
   "execution_count": 29,
   "metadata": {},
   "outputs": [],
   "source": [
    "# only 26 moties for first year, so let's chop\n",
    "df = df[(df['Jaar'] > 2008) & (df['Jaar'] < 2025)]"
   ]
  },
  {
   "cell_type": "code",
   "execution_count": 30,
   "metadata": {},
   "outputs": [
    {
     "data": {
      "text/plain": [
       "({'Balkenende IV': Cabinet(name='Balkenende IV', start=datetime.datetime(2008, 9, 18, 0, 0), end=datetime.datetime(2010, 10, 13, 0, 0), demissionair=datetime.datetime(2010, 2, 20, 0, 0), coalition=('CDA', 'PvdA', 'ChristenUnie')),\n",
       "  'Rutte I': Cabinet(name='Rutte I', start=datetime.datetime(2010, 10, 14, 0, 0), end=datetime.datetime(2012, 11, 4, 0, 0), demissionair=datetime.datetime(2012, 4, 23, 0, 0), coalition=('VVD', 'CDA', 'PVV')),\n",
       "  'Rutte II': Cabinet(name='Rutte II', start=datetime.datetime(2012, 11, 5, 0, 0), end=datetime.datetime(2017, 10, 25, 0, 0), demissionair=datetime.datetime(2017, 3, 14, 0, 0), coalition=('VVD', 'PvdA')),\n",
       "  'Rutte III': Cabinet(name='Rutte III', start=datetime.datetime(2017, 10, 26, 0, 0), end=datetime.datetime(2022, 1, 9, 0, 0), demissionair=datetime.datetime(2022, 1, 15, 0, 0), coalition=('CDA', 'VVD', 'D66', 'ChristenUnie')),\n",
       "  'Rutte IV': Cabinet(name='Rutte IV', start=datetime.datetime(2022, 1, 10, 0, 0), end=datetime.datetime(2024, 1, 1, 0, 0), demissionair=datetime.datetime(2024, 1, 1, 0, 0), coalition=('VVD', 'D66', 'CDA', 'ChristenUnie'))},\n",
       " {'Balkenende IV': Chamber(name='Balkenende IV', start=datetime.datetime(2009, 1, 1, 0, 0), end=datetime.datetime(2010, 6, 16, 0, 0), numyears=1.4547945205479451),\n",
       "  'Rutte I': Chamber(name='Rutte I', start=datetime.datetime(2010, 6, 17, 0, 0), end=datetime.datetime(2012, 9, 19, 0, 0), numyears=2.26027397260274),\n",
       "  'Rutte II': Chamber(name='Rutte II', start=datetime.datetime(2012, 9, 20, 0, 0), end=datetime.datetime(2017, 3, 22, 0, 0), numyears=4.504109589041096),\n",
       "  'Rutte III': Chamber(name='Rutte III', start=datetime.datetime(2017, 3, 23, 0, 0), end=datetime.datetime(2021, 3, 30, 0, 0), numyears=4.021917808219178),\n",
       "  'Rutte IV': Chamber(name='Rutte IV', start=datetime.datetime(2021, 3, 31, 0, 0), end=datetime.datetime(2024, 12, 31, 0, 0), numyears=3.756164383561644)})"
      ]
     },
     "execution_count": 30,
     "metadata": {},
     "output_type": "execute_result"
    }
   ],
   "source": [
    "from collections import namedtuple\n",
    "import datetime\n",
    "Cabinet = namedtuple('Cabinet', ['name','start', 'end', 'demissionair','coalition'])\n",
    "Chamber = namedtuple('Chamber', ['name','start', 'end', 'numyears'])\n",
    "\n",
    "chamber_input = [\n",
    "    \"Balkenende IV,01 01 2009,16 06 2010\",# mark begin 2008 is not correct (should be 30 11 2006) but for dataset purpose it it\n",
    "    \"Rutte I,17 06 2010,19 09 2012\",\n",
    "    \"Rutte II,20 09 2012,22 03 2017\",\n",
    "    \"Rutte III,23 03 2017,30 03 2021\", # mark end 2020 is not correct but for dataset purpose it it\n",
    "    \"Rutte IV,31 03 2021,31 12 2024\"] \n",
    "\n",
    "chambers = {}\n",
    "for c in chamber_input:\n",
    "    c = c.split(',')\n",
    "    name = c[0]\n",
    "    start = list(map(int, c[1].split()))\n",
    "    startdate = datetime.datetime(start[2], start[1], start[0])\n",
    "    end = list(map(int, c[2].split()))\n",
    "    enddate = datetime.datetime(end[2], end[1], end[0])\n",
    "    numyears = (enddate - startdate).days/365\n",
    "    chambers[name] = Chamber(name, startdate, enddate, numyears)\n",
    "\n",
    "\n",
    "cabinets_input = [\n",
    "    # \"Balkenende III,07 07 2006,22 02 2007,CDA VVD\",\n",
    "    # \"Balkenende IV,22 02 2007,14 10 2010,CDA PvdA ChristenUnie\",\n",
    "    \"Balkenende IV,18 09 2008,13 10 2010,20 02 2010,CDA PvdA ChristenUnie\",\n",
    "    \"Rutte I,14 10 2010,4 11 2012,23 04 2012,VVD CDA PVV\",\n",
    "    \"Rutte II,5 11 2012,25 10 2017,14 03 2017,VVD PvdA\",\n",
    "    \"Rutte III,26 10 2017,09 01 2022,15 01 2022,CDA VVD D66 ChristenUnie\",\n",
    "    \"Rutte IV,10 01 2022, 01 01 2024,01 01 2024,VVD D66 CDA ChristenUnie\"]\n",
    "\n",
    "cabinets = {}\n",
    "for c in cabinets_input:\n",
    "    c = c.split(',')\n",
    "    name = c[0]\n",
    "    start = list(map(int, c[1].split()))\n",
    "    startdate = datetime.datetime(start[2], start[1], start[0])\n",
    "    end = list(map(int, c[2].split()))\n",
    "    enddate = datetime.datetime(end[2], end[1], end[0])\n",
    "    demissionair = list(map(int, c[3].split()))\n",
    "    demissionair_date = datetime.datetime(demissionair[2], demissionair[1], demissionair[0])\n",
    "    coalition = tuple(c[4].split())\n",
    "    cabinets[name] = Cabinet(name, startdate, enddate, demissionair_date, coalition)\n",
    "cabinets, chambers"
   ]
  },
  {
   "cell_type": "code",
   "execution_count": 31,
   "metadata": {
    "tags": []
   },
   "outputs": [
    {
     "data": {
      "text/plain": [
       "Rutte III        14361\n",
       "Rutte II         11469\n",
       "Rutte IV          4744\n",
       "Rutte I           4691\n",
       "Balkenende IV     2701\n",
       "Name: Kabinet, dtype: int64"
      ]
     },
     "execution_count": 31,
     "metadata": {},
     "output_type": "execute_result"
    }
   ],
   "source": [
    "import datetime\n",
    "def get_period(entities, date):\n",
    "    # date = datetime.datetime.strptime(date_string[:10], '%Y-%m-%d')\n",
    "    # date = date.replace(tzinfo=None)\n",
    "    for c in entities.values():\n",
    "        if ((c.start <= date) or (date < datetime.datetime(2009,1,1))) and c.end >= date:\n",
    "            return c.name\n",
    "    else:\n",
    "        return 'Error'\n",
    "\n",
    "\n",
    "def get_demissionair(cabinets, date):\n",
    "    # date = datetime.datetime.strptime(date_string[:10], '%Y-%m-%d')\n",
    "    c = get_period(cabinets, date)\n",
    "    # date = date.replace(tzinfo=None)\n",
    "\n",
    "    return False if date < cabinets[c].demissionair else True\n",
    "    \n",
    "df['Kabinet'] = [get_period(cabinets, d) for d in df['Datum']]\n",
    "df['Demissionair'] = [get_demissionair(cabinets, d) for d in df['Datum']]\n",
    "df['Kamer'] = [get_period(chambers, d) for d in df['Datum']]\n",
    "df['Kabinet'].value_counts()"
   ]
  },
  {
   "cell_type": "code",
   "execution_count": 32,
   "metadata": {},
   "outputs": [],
   "source": [
    "INCLUDE_PDF = True\n",
    "\n",
    "# sort columns\n",
    "column_list = df.columns.values # current columns\n",
    "column_order = ['Titel','AgendapuntOnderwerp','Onderwerp','Datum','GestartOp','Vergaderjaar','Jaar','Indiener_persoon', 'Indienende_partij','Indienende_persoon_partij','Kamer', 'Kabinet','Demissionair','StemmingsSoort','BesluitSoort','BesluitTekst','doc_Id','Volgnummer', 'Voor', 'Tegen', 'Delta', 'Sum', 'Text'] # desired columns\n",
    "\n",
    "not_in_column_order = set(column_list) - set(column_order)\n",
    " # don't throw away columns\n",
    "column_order += sorted(not_in_column_order)\n",
    "df = df[column_order]"
   ]
  },
  {
   "cell_type": "code",
   "execution_count": 33,
   "metadata": {
    "Collapsed": "false"
   },
   "outputs": [],
   "source": [
    "#df = df[df['Onderwerp'].str.contains('klimaat')]\n",
    "import pickle\n",
    "with open('moties_processed_df.pickle', 'wb') as handle:\n",
    "    pickle.dump(df, handle, protocol=pickle.HIGHEST_PROTOCOL)"
   ]
  },
  {
   "cell_type": "code",
   "execution_count": 34,
   "metadata": {},
   "outputs": [
    {
     "data": {
      "text/html": [
       "<div>\n",
       "<style scoped>\n",
       "    .dataframe tbody tr th:only-of-type {\n",
       "        vertical-align: middle;\n",
       "    }\n",
       "\n",
       "    .dataframe tbody tr th {\n",
       "        vertical-align: top;\n",
       "    }\n",
       "\n",
       "    .dataframe thead th {\n",
       "        text-align: right;\n",
       "    }\n",
       "</style>\n",
       "<table border=\"1\" class=\"dataframe\">\n",
       "  <thead>\n",
       "    <tr style=\"text-align: right;\">\n",
       "      <th></th>\n",
       "      <th>Titel</th>\n",
       "      <th>AgendapuntOnderwerp</th>\n",
       "      <th>Onderwerp</th>\n",
       "      <th>Datum</th>\n",
       "      <th>GestartOp</th>\n",
       "      <th>Vergaderjaar</th>\n",
       "      <th>Jaar</th>\n",
       "      <th>Indiener_persoon</th>\n",
       "      <th>Indienende_partij</th>\n",
       "      <th>Indienende_persoon_partij</th>\n",
       "      <th>...</th>\n",
       "      <th>Stem_PvdD</th>\n",
       "      <th>Stem_SGP</th>\n",
       "      <th>Stem_SP</th>\n",
       "      <th>Stem_VVD</th>\n",
       "      <th>Stem_Van Haga</th>\n",
       "      <th>Stem_Van Klaveren</th>\n",
       "      <th>Stem_Van Kooten-Arissen</th>\n",
       "      <th>Stem_Van Vliet</th>\n",
       "      <th>Stem_Verdonk</th>\n",
       "      <th>Stem_Volt</th>\n",
       "    </tr>\n",
       "  </thead>\n",
       "  <tbody>\n",
       "    <tr>\n",
       "      <th>2009Z00493</th>\n",
       "      <td>De situatie in het Midden-Oosten</td>\n",
       "      <td>Stemmingen over: moties ingediend bij het VAO Gaza</td>\n",
       "      <td>Motie-Haverkamp c.s. over de noodzakelijke inspanningen die de mate van humanitaire hulp voor de Gazastreek vergroot</td>\n",
       "      <td>2009-01-14</td>\n",
       "      <td>2009-01-14</td>\n",
       "      <td>2008-2009</td>\n",
       "      <td>2009</td>\n",
       "      <td>M.C. Haverkamp</td>\n",
       "      <td>CDA</td>\n",
       "      <td>M.C. Haverkamp, CDA</td>\n",
       "      <td>...</td>\n",
       "      <td>1.0</td>\n",
       "      <td>0.0</td>\n",
       "      <td>1.0</td>\n",
       "      <td>0.0</td>\n",
       "      <td>NaN</td>\n",
       "      <td>NaN</td>\n",
       "      <td>NaN</td>\n",
       "      <td>NaN</td>\n",
       "      <td>0.0</td>\n",
       "      <td>NaN</td>\n",
       "    </tr>\n",
       "    <tr>\n",
       "      <th>2009Z00492</th>\n",
       "      <td>De situatie in het Midden-Oosten</td>\n",
       "      <td>Stemmingen over: moties ingediend bij het VAO Gaza</td>\n",
       "      <td>Motie-Peters over twee doelen voor een EU-grensbewakingsmissie</td>\n",
       "      <td>2009-01-14</td>\n",
       "      <td>2009-01-14</td>\n",
       "      <td>2008-2009</td>\n",
       "      <td>2009</td>\n",
       "      <td>M. Peters</td>\n",
       "      <td>GroenLinks</td>\n",
       "      <td>M. Peters, GroenLinks</td>\n",
       "      <td>...</td>\n",
       "      <td>1.0</td>\n",
       "      <td>0.0</td>\n",
       "      <td>1.0</td>\n",
       "      <td>0.0</td>\n",
       "      <td>NaN</td>\n",
       "      <td>NaN</td>\n",
       "      <td>NaN</td>\n",
       "      <td>NaN</td>\n",
       "      <td>0.0</td>\n",
       "      <td>NaN</td>\n",
       "    </tr>\n",
       "    <tr>\n",
       "      <th>2009Z00496</th>\n",
       "      <td>De situatie in het Midden-Oosten</td>\n",
       "      <td>Stemmingen over: moties ingediend bij het VAO Gaza</td>\n",
       "      <td>Motie-Verdonk over geen Nederlandse Defensie-inzet in of rond Gaza</td>\n",
       "      <td>2009-01-14</td>\n",
       "      <td>2009-01-14</td>\n",
       "      <td>2008-2009</td>\n",
       "      <td>2009</td>\n",
       "      <td>M.C.F. Verdonk</td>\n",
       "      <td>Verdonk</td>\n",
       "      <td>M.C.F. Verdonk, Verdonk</td>\n",
       "      <td>...</td>\n",
       "      <td>0.0</td>\n",
       "      <td>0.0</td>\n",
       "      <td>0.0</td>\n",
       "      <td>0.0</td>\n",
       "      <td>NaN</td>\n",
       "      <td>NaN</td>\n",
       "      <td>NaN</td>\n",
       "      <td>NaN</td>\n",
       "      <td>1.0</td>\n",
       "      <td>NaN</td>\n",
       "    </tr>\n",
       "    <tr>\n",
       "      <th>2009Z00491</th>\n",
       "      <td>De situatie in het Midden-Oosten</td>\n",
       "      <td>Stemmingen over: moties ingediend bij het VAO Gaza</td>\n",
       "      <td>Motie-Peters/Van Bommel over de EU-Israël-gesprekken die alsnog zijn bevroren vanwege de oorlog in Gaza</td>\n",
       "      <td>2009-01-14</td>\n",
       "      <td>2009-01-14</td>\n",
       "      <td>2008-2009</td>\n",
       "      <td>2009</td>\n",
       "      <td>M. Peters</td>\n",
       "      <td>GroenLinks</td>\n",
       "      <td>M. Peters, GroenLinks</td>\n",
       "      <td>...</td>\n",
       "      <td>1.0</td>\n",
       "      <td>0.0</td>\n",
       "      <td>1.0</td>\n",
       "      <td>0.0</td>\n",
       "      <td>NaN</td>\n",
       "      <td>NaN</td>\n",
       "      <td>NaN</td>\n",
       "      <td>NaN</td>\n",
       "      <td>0.0</td>\n",
       "      <td>NaN</td>\n",
       "    </tr>\n",
       "    <tr>\n",
       "      <th>2009Z00457</th>\n",
       "      <td>Positionering algemene ziekenhuizen</td>\n",
       "      <td>Stemmingen over: moties ingediend bij het debat over de verloskunde in Zeeuwse ziekenhuizen</td>\n",
       "      <td>Motie Agema over garanderen van de keuzevrijheid voor thuis bevallen</td>\n",
       "      <td>2009-01-14</td>\n",
       "      <td>2009-01-14</td>\n",
       "      <td>2008-2009</td>\n",
       "      <td>2009</td>\n",
       "      <td>M. Agema</td>\n",
       "      <td>PVV</td>\n",
       "      <td>M. Agema, PVV</td>\n",
       "      <td>...</td>\n",
       "      <td>1.0</td>\n",
       "      <td>1.0</td>\n",
       "      <td>1.0</td>\n",
       "      <td>0.0</td>\n",
       "      <td>NaN</td>\n",
       "      <td>NaN</td>\n",
       "      <td>NaN</td>\n",
       "      <td>NaN</td>\n",
       "      <td>1.0</td>\n",
       "      <td>NaN</td>\n",
       "    </tr>\n",
       "  </tbody>\n",
       "</table>\n",
       "<p>5 rows × 173 columns</p>\n",
       "</div>"
      ],
      "text/plain": [
       "                                          Titel                                                                          AgendapuntOnderwerp  \\\n",
       "2009Z00493     De situatie in het Midden-Oosten                                           Stemmingen over: moties ingediend bij het VAO Gaza   \n",
       "2009Z00492     De situatie in het Midden-Oosten                                           Stemmingen over: moties ingediend bij het VAO Gaza   \n",
       "2009Z00496     De situatie in het Midden-Oosten                                           Stemmingen over: moties ingediend bij het VAO Gaza   \n",
       "2009Z00491     De situatie in het Midden-Oosten                                           Stemmingen over: moties ingediend bij het VAO Gaza   \n",
       "2009Z00457  Positionering algemene ziekenhuizen  Stemmingen over: moties ingediend bij het debat over de verloskunde in Zeeuwse ziekenhuizen   \n",
       "\n",
       "                                                                                                                        Onderwerp      Datum  GestartOp Vergaderjaar  Jaar Indiener_persoon Indienende_partij Indienende_persoon_partij  ... Stem_PvdD  \\\n",
       "2009Z00493  Motie-Haverkamp c.s. over de noodzakelijke inspanningen die de mate van humanitaire hulp voor de Gazastreek vergroot  2009-01-14 2009-01-14    2008-2009  2009   M.C. Haverkamp               CDA       M.C. Haverkamp, CDA  ...       1.0   \n",
       "2009Z00492                                                        Motie-Peters over twee doelen voor een EU-grensbewakingsmissie  2009-01-14 2009-01-14    2008-2009  2009        M. Peters        GroenLinks     M. Peters, GroenLinks  ...       1.0   \n",
       "2009Z00496                                                    Motie-Verdonk over geen Nederlandse Defensie-inzet in of rond Gaza  2009-01-14 2009-01-14    2008-2009  2009   M.C.F. Verdonk           Verdonk   M.C.F. Verdonk, Verdonk  ...       0.0   \n",
       "2009Z00491               Motie-Peters/Van Bommel over de EU-Israël-gesprekken die alsnog zijn bevroren vanwege de oorlog in Gaza  2009-01-14 2009-01-14    2008-2009  2009        M. Peters        GroenLinks     M. Peters, GroenLinks  ...       1.0   \n",
       "2009Z00457                                                  Motie Agema over garanderen van de keuzevrijheid voor thuis bevallen  2009-01-14 2009-01-14    2008-2009  2009         M. Agema               PVV             M. Agema, PVV  ...       1.0   \n",
       "\n",
       "           Stem_SGP  Stem_SP Stem_VVD  Stem_Van Haga Stem_Van Klaveren Stem_Van Kooten-Arissen Stem_Van Vliet  Stem_Verdonk  Stem_Volt  \n",
       "2009Z00493      0.0      1.0      0.0            NaN               NaN                     NaN            NaN           0.0        NaN  \n",
       "2009Z00492      0.0      1.0      0.0            NaN               NaN                     NaN            NaN           0.0        NaN  \n",
       "2009Z00496      0.0      0.0      0.0            NaN               NaN                     NaN            NaN           1.0        NaN  \n",
       "2009Z00491      0.0      1.0      0.0            NaN               NaN                     NaN            NaN           0.0        NaN  \n",
       "2009Z00457      1.0      1.0      0.0            NaN               NaN                     NaN            NaN           1.0        NaN  \n",
       "\n",
       "[5 rows x 173 columns]"
      ]
     },
     "execution_count": 34,
     "metadata": {},
     "output_type": "execute_result"
    }
   ],
   "source": [
    "df.head()"
   ]
  }
 ],
 "metadata": {
  "kernelspec": {
   "display_name": "Python 3",
   "language": "python",
   "name": "python3"
  },
  "language_info": {
   "codemirror_mode": {
    "name": "ipython",
    "version": 3
   },
   "file_extension": ".py",
   "mimetype": "text/x-python",
   "name": "python",
   "nbconvert_exporter": "python",
   "pygments_lexer": "ipython3",
   "version": "3.11.0"
  }
 },
 "nbformat": 4,
 "nbformat_minor": 4
}
