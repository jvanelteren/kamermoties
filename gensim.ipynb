{
 "cells": [
  {
   "cell_type": "code",
   "execution_count": null,
   "metadata": {},
   "outputs": [],
   "source": [
    "# First: pip install wheel\n",
    "\n",
    "# Next: Download Numpy and Scipy form Gholke's repo Numpy and SciPy\n",
    "\n",
    "\n",
    "# Then:\n",
    "\n",
    "# pip install numpy_package.whl\n",
    "# pip install scipy_package.whl\n",
    "# https://towardsdatascience.com/6-tips-to-optimize-an-nlp-topic-model-for-interpretability-20742f3047e2"
   ]
  },
  {
   "cell_type": "code",
   "execution_count": null,
   "metadata": {},
   "outputs": [],
   "source": [
    "# Importing modules\n",
    "import random\n",
    "import os\n",
    "from pathlib import Path\n",
    "from pprint import pprint\n",
    "import logging\n",
    "from importlib import reload  # Not needed in Python 2\n",
    "import tqdm\n",
    "\n",
    "import numpy as np\n",
    "import scipy\n",
    "import pandas as pd\n",
    "import pickle\n",
    "\n",
    "import nltk\n",
    "import spacy\n",
    "from nltk.corpus import stopwords\n",
    "import gensim\n",
    "from gensim.utils import simple_preprocess\n",
    "import gensim.corpora as corpora\n",
    "from gensim.models import CoherenceModel\n",
    "from gensim.models.callbacks import PerplexityMetric, ConvergenceMetric, CoherenceMetric\n",
    "\n",
    "reload(logging)\n",
    "logging.basicConfig(filename='model_callbacks.log',format='%(asctime)s %(levelname)s:%(message)s', level=logging.DEBUG, datefmt='%I:%M:%S')\n",
    "# logging.basicConfig(filename='gensim.log',\n",
    "#                     format=\"%(asctime)s:%(levelname)s:%(message)s\",\n",
    "#                     level=logging.NOTSET)"
   ]
  },
  {
   "cell_type": "code",
   "execution_count": 19,
   "metadata": {},
   "outputs": [],
   "source": [
    "DATA_DIR = Path('./data')\n",
    "def load(filename):\n",
    "    f = open(DATA_DIR/filename,\"rb\")\n",
    "    return pickle.load(f)\n",
    "    \n",
    "def save(data, filename):\n",
    "    with open(DATA_DIR/filename, 'wb') as handle:\n",
    "        pickle.dump(data, handle, protocol=pickle.HIGHEST_PROTOCOL)"
   ]
  },
  {
   "cell_type": "code",
   "execution_count": 4,
   "metadata": {},
   "outputs": [
    {
     "output_type": "stream",
     "name": "stdout",
     "text": [
      "29514\n"
     ]
    }
   ],
   "source": [
    "\n",
    "file = open(\"moties_processed_df.pickle\",\"rb\")\n",
    "df = pickle.load(file)\n",
    "print(len(df))"
   ]
  },
  {
   "cell_type": "code",
   "execution_count": 5,
   "metadata": {},
   "outputs": [
    {
     "output_type": "execute_result",
     "data": {
      "text/plain": [
       "29484"
      ]
     },
     "metadata": {},
     "execution_count": 5
    }
   ],
   "source": [
    "# remove moties without text\n",
    "mask = (df['Text']=='') | (df['Text'].isna())\n",
    "df = df.loc[~mask]\n",
    "len(df)"
   ]
  },
  {
   "cell_type": "code",
   "execution_count": 6,
   "metadata": {},
   "outputs": [
    {
     "output_type": "execute_result",
     "data": {
      "text/plain": [
       "'2\\nTweede Kamer der Staten-Generaal\\nVergaderjaar 2009–2010\\n31 371 Kredietcrisis\\nNr. 293 MOTIE VAN HET LID TONY VAN DIJCK\\nVoorgesteld 16 december 2009\\nDe Kamer,\\ngehoord de beraadslaging,\\nbesluit een parlementaire enquête te houden naar het faillissement van de\\nDSB Bank waarbij alle betrokkenen onder ede kunnen worden gehoord,\\nen gaat over tot de orde van de dag.\\nTony van Dijck\\nKST138845\\n0910tkkst31371-293\\nISSN0921-7371\\nSduUitgevers\\nTweede Kamer, vergaderjaar 2009–2010, 31 371, nr. 293\\n’s-Gravenhage2009'"
      ]
     },
     "metadata": {},
     "execution_count": 6
    }
   ],
   "source": [
    "df = df['Text'].reset_index()\n",
    "df.iloc[2000]['Text']"
   ]
  },
  {
   "cell_type": "code",
   "execution_count": 7,
   "metadata": {},
   "outputs": [
    {
     "output_type": "execute_result",
     "data": {
      "text/plain": [
       "'2 tweede kamer der staten-generaal vergaderjaar 2008–2009 23 432 de situatie in het midden-oosten nr 268 motie van het lid pechtold voorgesteld 14 januari 2009 de kamer gehoord de beraadslaging constaterende dat nederland en denemarken binnen de europese unie een voorstel hebben gedaan voor een effectief grenstoezicht op de gazaans-egyptische grens overwegende dat een dergelijk grenstoezicht de invoer van humanitaire hulp en normale goederen mogelijk kan maken en kan voorkomen dat hamas zich via de grens herbewapent verzoekt de regering bij het uitwerken van dit initiatief voorstellen te doen voor een stevige opdracht omvang en mandaat van een dergelijk (militair) grenstoezicht opdat deze daadwerkelijk effectief kan zorg dragen voor humanitaire hulp en ontwapening en gaat over tot de orde van de dag pechtold kst127027 0809tkkst23432-268 issn0921-7371 sduuitgevers tweede kamer vergaderjaar 2008–2009 23 432 nr 268 ’s-gravenhage2009'"
      ]
     },
     "metadata": {},
     "execution_count": 7
    }
   ],
   "source": [
    "# https://github.com/kapadias/mediumposts/blob/master/natural_language_processing/topic_modeling/notebooks/Evaluate%20Topic%20Models.ipynb\n",
    "error = []\n",
    "def remove_indieners(doc):\n",
    "    try:\n",
    "        return re.search(pattern, doc).groups()[0]\n",
    "    except:\n",
    "        error.append(doc)\n",
    "        return 'None'\n",
    "\n",
    "import re\n",
    "# Remove punctuation\n",
    "df['Text'] = df['Text'].map(lambda x: re.sub('[,\\.!?;]', '', x))\n",
    "\n",
    "df['Text'] = df['Text'].map(lambda x: re.sub(r'-\\n', '', x))\n",
    "df['Text'] = df['Text'].map(lambda x: re.sub(r'\\n', ' ', x))\n",
    "# Convert the titles to lowercase\n",
    "df['Text'] = df['Text'].map(lambda x: x.lower())\n",
    "pattern = re.compile(\"(?:voorgesteld|gehoord de beraadslaging)(.+) orde van de dag\")\n",
    "# df['Text'] = df['Text'].apply(lambda x: remove_indieners(x))\n",
    "# df['Text'] = df['Text'].str[64:-123]\n",
    "# Print out the first rows of papers\n",
    "df['Text'][0]"
   ]
  },
  {
   "cell_type": "code",
   "execution_count": 8,
   "metadata": {},
   "outputs": [
    {
     "output_type": "execute_result",
     "data": {
      "text/plain": [
       "0"
      ]
     },
     "metadata": {},
     "execution_count": 8
    }
   ],
   "source": [
    "len(df.loc[df['Text']==\"None\"])"
   ]
  },
  {
   "cell_type": "code",
   "execution_count": null,
   "metadata": {},
   "outputs": [],
   "source": []
  },
  {
   "cell_type": "code",
   "execution_count": null,
   "metadata": {},
   "outputs": [],
   "source": []
  },
  {
   "cell_type": "code",
   "execution_count": 9,
   "metadata": {},
   "outputs": [
    {
     "output_type": "stream",
     "name": "stdout",
     "text": [
      "['tweede', 'kamer', 'der', 'staten', 'generaal', 'vergaderjaar', 'de', 'situatie', 'in', 'het', 'midden', 'oosten', 'nr', 'motie', 'van', 'het', 'lid', 'pechtold', 'voorgesteld', 'januari', 'de', 'kamer', 'gehoord', 'de', 'beraadslaging', 'constaterende', 'dat', 'nederland', 'en', 'denemarken', 'binnen', 'de', 'europese', 'unie', 'een', 'voorstel', 'hebben', 'gedaan', 'voor', 'een', 'effectief', 'grenstoezicht', 'op', 'de', 'gazaans', 'egyptische', 'grens', 'overwegende', 'dat', 'een', 'dergelijk', 'grenstoezicht', 'de', 'invoer', 'van', 'humanitaire', 'hulp', 'en', 'normale', 'goederen', 'mogelijk', 'kan', 'maken', 'en', 'kan', 'voorkomen', 'dat', 'hamas', 'zich', 'via', 'de', 'grens', 'herbewapent', 'verzoekt', 'de', 'regering', 'bij', 'het', 'uitwerken', 'van', 'dit', 'initiatief', 'voorstellen', 'te', 'doen', 'voor', 'een', 'stevige', 'opdracht', 'omvang']\n"
     ]
    }
   ],
   "source": [
    "\n",
    "def sent_to_words(sentences):\n",
    "    for sentence in sentences:\n",
    "        yield(gensim.utils.simple_preprocess(str(sentence), deacc=True))  # deacc=True removes punctuations\n",
    "\n",
    "data = df['Text'].values.tolist()\n",
    "data_words = list(sent_to_words(data))\n",
    "\n",
    "print(data_words[:1][0][:90])"
   ]
  },
  {
   "cell_type": "code",
   "execution_count": 10,
   "metadata": {},
   "outputs": [],
   "source": [
    "# Build the bigram and trigram models\n",
    "bigram = gensim.models.Phrases(data_words, min_count=20, threshold=100) # higher threshold fewer phrases.\n",
    "trigram = gensim.models.Phrases(bigram[data_words], min_count=20, threshold=100)  \n",
    "\n",
    "# Faster way to get a sentence clubbed as a trigram/bigram\n",
    "bigram_mod = gensim.models.phrases.Phraser(bigram)\n",
    "trigram_mod = gensim.models.phrases.Phraser(trigram)"
   ]
  },
  {
   "cell_type": "code",
   "execution_count": 11,
   "metadata": {},
   "outputs": [
    {
     "output_type": "stream",
     "name": "stderr",
     "text": [
      "[nltk_data] Downloading package stopwords to\n[nltk_data]     C:\\Users\\Jesse\\AppData\\Roaming\\nltk_data...\n[nltk_data]   Package stopwords is already up-to-date!\n"
     ]
    }
   ],
   "source": [
    "# NLTK Stop words\n",
    "\n",
    "\n",
    "nltk.download('stopwords')\n",
    "stop_words = stopwords.words('dutch')\n",
    "stop_words.extend(['from', 'subject', 're', 'edu', 'use'])"
   ]
  },
  {
   "cell_type": "code",
   "execution_count": 12,
   "metadata": {},
   "outputs": [],
   "source": [
    "# Define functions for stopwords, bigrams, trigrams and lemmatization\n",
    "def remove_stopwords(texts):\n",
    "    return [[word for word in simple_preprocess(str(doc)) if word not in stop_words] for doc in texts]\n",
    "\n",
    "def make_bigrams(texts):\n",
    "    return [bigram_mod[doc] for doc in texts]\n",
    "\n",
    "def make_trigrams(texts):\n",
    "    return [trigram_mod[bigram_mod[doc]] for doc in texts]\n",
    "\n",
    "def lemmatization(texts, allowed_postags=['NOUN', 'ADJ', 'VERB', 'ADV']):\n",
    "    \"\"\"https://spacy.io/api/annotation\"\"\"\n",
    "    texts_out = []\n",
    "    for sent in texts:\n",
    "        doc = nlp(\" \".join(sent)) \n",
    "        texts_out.append([token.lemma_ for token in doc if token.pos_ in allowed_postags])\n",
    "    return texts_out"
   ]
  },
  {
   "cell_type": "code",
   "execution_count": 13,
   "metadata": {},
   "outputs": [
    {
     "output_type": "stream",
     "name": "stdout",
     "text": [
      "Requirement already satisfied: nl_core_news_sm==2.1.0 from https://github.com/explosion/spacy-models/releases/download/nl_core_news_sm-2.1.0/nl_core_news_sm-2.1.0.tar.gz#egg=nl_core_news_sm==2.1.0 in c:\\programdata\\miniconda3\\lib\\site-packages (2.1.0)\n✔ Download and installation successful\nYou can now load the model via spacy.load('nl_core_news_sm')\n"
     ]
    }
   ],
   "source": [
    "!python -m spacy download nl_core_news_sm"
   ]
  },
  {
   "cell_type": "code",
   "execution_count": 14,
   "metadata": {},
   "outputs": [
    {
     "output_type": "stream",
     "name": "stdout",
     "text": [
      "['kamer', 'staat', 'generaal', 'vergaderjaar', 'situatie', 'midden_oosten', 'nr', 'motie', 'lid', 'pechtold', 'voorstellen', 'januari', 'kamer', 'horen', 'beraadslaging', 'constateren', 'nederland', 'denemarken', 'voorstel', 'doen', 'effectief', 'grenstoezicht', 'gazaan', 'egyptisch', 'grens', 'overwegen', 'grenstoezicht', 'invoer', 'normaal', 'goed']\n"
     ]
    }
   ],
   "source": [
    "\n",
    "# Remove Stop Words\n",
    "data_words_nostops = remove_stopwords(data_words)\n",
    "\n",
    "# Form Bigrams\n",
    "data_words_bigrams = make_bigrams(data_words_nostops)\n",
    "\n",
    "# Initialize spacy 'en' model, keeping only tagger component (for efficiency)\n",
    "nlp = spacy.load(\"nl_core_news_sm\", disable=['parser', 'ner'])\n",
    "\n",
    "# Do lemmatization keeping only noun, adj, vb, adv\n",
    "data_lemmatized = lemmatization(data_words_bigrams, allowed_postags=['NOUN', 'ADJ', 'VERB', 'ADV'])\n",
    "\n",
    "print(data_lemmatized[:1][0][:30])"
   ]
  },
  {
   "cell_type": "markdown",
   "metadata": {},
   "source": [
    "** **\n",
    "#### Step 4: Data transformation: Corpus and Dictionary\n",
    "** **\n",
    "\n",
    "The two main inputs to the LDA topic model are the dictionary(id2word) and the corpus. Let’s create them."
   ]
  },
  {
   "cell_type": "code",
   "execution_count": 15,
   "metadata": {},
   "outputs": [
    {
     "output_type": "stream",
     "name": "stdout",
     "text": [
      "len of dictionary before pruning\t:  37841\n",
      "len of dictionary after pruning\t:  8068\n",
      "example from id2word dict:\t 4555 meetellen\n",
      "example document translated into bag of words  [(0, 1), (1, 1), (2, 1), (3, 1), (4, 2), (5, 1), (6, 1), (7, 1), (8, 2), (9, 1), (10, 1), (11, 1), (12, 1), (13, 1), (14, 1), (15, 1), (16, 1), (17, 1), (18, 1), (19, 1), (20, 1), (21, 1), (22, 2), (23, 1), (24, 1), (25, 1), (26, 1), (27, 1), (28, 2), (29, 1)]\n"
     ]
    }
   ],
   "source": [
    "\n",
    "\n",
    "# Create Dictionary\n",
    "id2word = corpora.Dictionary(data_lemmatized)\n",
    "\n",
    "\n",
    "print('len of dictionary before pruning\\t: ', len(id2word))\n",
    "id2word.filter_extremes(no_below=10, no_above=0.20) #minimally 10 occurrences and not in more than 30% of documents\n",
    "print('len of dictionary after pruning\\t: ',len(id2word))\n",
    "r = random.choice(id2word.keys())\n",
    "print('example from id2word dict:\\t', r, id2word[r])\n",
    "\n",
    "\n",
    "# Create Corpus\n",
    "texts = data_lemmatized\n",
    "# Term Document Frequency\n",
    "corpus = [id2word.doc2bow(text) for text in texts]\n",
    "\n",
    "# View\n",
    "print('example document translated into bag of words ', corpus[:1][0][:30])\n",
    "\n",
    "texts = [[id2word[word_id] for word_id, freq in doc] for doc in corpus]"
   ]
  },
  {
   "cell_type": "code",
   "execution_count": 21,
   "metadata": {},
   "outputs": [],
   "source": [
    "save((id2word, corpus, texts), 'corpus_dict_texts_full_no_processing_no_above020')"
   ]
  },
  {
   "cell_type": "code",
   "execution_count": 22,
   "metadata": {},
   "outputs": [],
   "source": [
    "\n",
    "id2word, corpus, texts = load('corpus_dict_texts_full_no_processing_no_above020')"
   ]
  },
  {
   "cell_type": "code",
   "execution_count": 23,
   "metadata": {},
   "outputs": [
    {
     "output_type": "execute_result",
     "data": {
      "text/plain": [
       "'2 tweede kamer der staten-generaal vergaderjaar 2017–2018  31 311 zelfstandig ondernemerschap  nr 201   motie van het lid van der lee cs  voorgesteld 14 maart 2018  de kamer  gehoord de beraadslaging  constaterende dat de nederlandse vereniging van banken (nvb) in haar  gedragscode kleinzakelijke financiering beperkt aandacht schenkt aan  alternatieve vormen van financiering  overwegende dat alternatieve vormen van financiering zoals crowdfunding steeds vaker worden gebruikt door mkb’ers en het zowel in het  belang van ondernemers als investeerders wenselijk is om ook op dit punt  zelfregulering te bevorderen  verzoekt de regering hierover in overleg te treden met de nvb en de  alternatieve financiers bij voorkeur voordat de gedragscode kleinzakelijke financiering definitief in werking treedt  en gaat over tot de orde van de dag  van der lee  paternotte  moorlag  wörsdörfer  amhaouch         kst-31311-201 issn 0921 - 7371 ’s-gravenhage 2018 tweede kamer vergaderjaar 2017–2018 31 311 nr 201'"
      ]
     },
     "metadata": {},
     "execution_count": 23
    }
   ],
   "source": [
    "t = df.iloc[20000]['Text']\n",
    "t"
   ]
  },
  {
   "cell_type": "code",
   "execution_count": 24,
   "metadata": {},
   "outputs": [
    {
     "output_type": "execute_result",
     "data": {
      "text/plain": [
       "['belang',\n",
       " 'gebruiken',\n",
       " 'nederlands',\n",
       " 'overleg',\n",
       " 'voorkeur',\n",
       " 'vorm',\n",
       " 'wenselijk',\n",
       " 'cs',\n",
       " 'steeds',\n",
       " 'bevorderen',\n",
       " 'beperken',\n",
       " 'bank',\n",
       " 'ondernemer',\n",
       " 'ers',\n",
       " 'treden',\n",
       " 'punt',\n",
       " 'nvb',\n",
       " 'definitief',\n",
       " 'vaker',\n",
       " 'hierover',\n",
       " 'schenken',\n",
       " 'alternatief',\n",
       " 'financiering',\n",
       " 'aandacht',\n",
       " 'investeerder',\n",
       " 'vereniging',\n",
       " 'gedragscod',\n",
       " 'zelfstandig_ondernemerschap',\n",
       " 'gedragscoen',\n",
       " 'zelfregulering',\n",
       " 'financier',\n",
       " 'werking_treeden',\n",
       " 'amhaouch',\n",
       " 'paternott',\n",
       " 'lee',\n",
       " 'moorlag',\n",
       " 'worsdorfer']"
      ]
     },
     "metadata": {},
     "execution_count": 24
    }
   ],
   "source": [
    "texts[20000]"
   ]
  },
  {
   "cell_type": "markdown",
   "metadata": {},
   "source": [
    "** **\n",
    "#### Step 5: Base Model \n",
    "** **\n",
    "\n",
    "We have everything required to train the base LDA model. In addition to the corpus and dictionary, you need to provide the number of topics as well. Apart from that, alpha and eta are hyperparameters that affect sparsity of the topics. According to the Gensim docs, both defaults to 1.0/num_topics prior (we'll use default for the base model).\n",
    "\n",
    "chunksize controls how many documents are processed at a time in the training algorithm. Increasing chunksize will speed up training, at least as long as the chunk of documents easily fit into memory.\n",
    "\n",
    "passes controls how often we train the model on the entire corpus (set to 10). Another word for passes might be \"epochs\". iterations is somewhat technical, but essentially it controls how often we repeat a particular loop over each document. It is important to set the number of \"passes\" and \"iterations\" high enough."
   ]
  },
  {
   "cell_type": "code",
   "execution_count": 53,
   "metadata": {},
   "outputs": [],
   "source": [
    "# Build LDA model\n",
    "lda_model = gensim.models.LdaMulticore(corpus=corpus,\n",
    "                                       id2word=id2word,\n",
    "                                       num_topics=10, \n",
    "                                       random_state=100,\n",
    "                                       chunksize=100,\n",
    "                                       passes=10,\n",
    "                                       per_word_topics=True)"
   ]
  },
  {
   "cell_type": "markdown",
   "metadata": {},
   "source": [
    "** **\n",
    "The above LDA model is built with 10 different topics where each topic is a combination of keywords and each keyword contributes a certain weightage to the topic.\n",
    "\n",
    "You can see the keywords for each topic and the weightage(importance) of each keyword using `lda_model.print_topics()`"
   ]
  },
  {
   "cell_type": "code",
   "execution_count": 54,
   "metadata": {},
   "outputs": [
    {
     "output_type": "stream",
     "name": "stdout",
     "text": [
      "[(0,\n  '0.065*\"xvi\" + 0.043*\"jaar\" + 0.042*\"orde\" + 0.038*\"ministerie\" + '\n  '0.033*\"xvivaststelling\" + 0.033*\"sport\" + 0.033*\"volksgezondheid\" + '\n  '0.028*\"risico\" + 0.028*\"zorg\" + 0.022*\"mening\"'),\n (1,\n  '0.070*\"ziekenhuis\" + 0.058*\"constateren\" + 0.034*\"nederland\" + '\n  '0.032*\"stellen\" + 0.030*\"bevolking\" + 0.030*\"algemeen\" + 0.030*\"vlissing\" + '\n  '0.026*\"hama\" + 0.024*\"middel\" + 0.024*\"positionering\"'),\n (2,\n  '0.113*\"israel\" + 0.088*\"constateren\" + 0.056*\"situatie\" + '\n  '0.051*\"middenoosten\" + 0.049*\"hama\" + 0.045*\"europees\" + 0.035*\"gaza\" + '\n  '0.025*\"nederland\" + 0.024*\"relatie\" + 0.024*\"gebruiken\"'),\n (3,\n  '0.061*\"mening\" + 0.038*\"toelating\" + 0.038*\"constateren\" + 0.029*\"dagvan\" + '\n  '0.027*\"maand\" + 0.026*\"nederlands\" + 0.025*\"bestaan\" + 0.025*\"recht\" + '\n  '0.024*\"kabinet\" + 0.023*\"maken\"'),\n (4,\n  '0.050*\"humanitair\" + 0.048*\"situatie\" + 0.040*\"internationaal\" + '\n  '0.039*\"hulp\" + 0.036*\"middenoosten\" + 0.036*\"geweld\" + 0.034*\"gaza\" + '\n  '0.029*\"mogelijk\" + 0.028*\"mening\" + 0.027*\"hama\"'),\n (5,\n  '0.084*\"artikel\" + 0.062*\"constateren\" + 0.049*\"vi\" + 0.041*\"nederlander\" + '\n  '0.033*\"strafrecht\" + 0.033*\"wetboek\" + 0.025*\"willen\" + 0.025*\"zien\" + '\n  '0.025*\"jaar\" + 0.024*\"ministerie\"'),\n (6,\n  '0.046*\"deel\" + 0.046*\"nemen\" + 0.046*\"defensie\" + 0.043*\"tijd\" + '\n  '0.025*\"dagvan\" + 0.024*\"tkkst\" + 0.024*\"mogelijk\" + 0.024*\"staan\" + '\n  '0.024*\"gent\" + 0.024*\"belang\"'),\n (7,\n  '0.069*\"constateren\" + 0.032*\"wijziging\" + 0.030*\"ing\" + 0.028*\"europees\" + '\n  '0.027*\"persoon\" + 0.027*\"kredietcrisis\" + 0.025*\"nederlands\" + 0.025*\"orde\" '\n  '+ 0.023*\"staan\" + 0.022*\"financiel\"'),\n (8,\n  '0.061*\"nieuw\" + 0.048*\"constateren\" + 0.032*\"ovchipkaart\" + '\n  '0.027*\"openbaar\" + 0.027*\"vervoer\" + 0.027*\"aanpak\" + 0.027*\"geven\" + '\n  '0.023*\"goed\" + 0.023*\"moeten\" + 0.022*\"regio\"'),\n (9,\n  '0.053*\"orde\" + 0.039*\"vi\" + 0.038*\"dagen\" + 0.035*\"tkkst\" + 0.033*\"komen\" + '\n  '0.030*\"defensie\" + 0.024*\"roonk\" + 0.024*\"samenleving\" + 0.024*\"veilig\" + '\n  '0.023*\"ministerie\"')]\n"
     ]
    }
   ],
   "source": [
    "\n",
    "# Print the Keyword in the 10 topics\n",
    "pprint(lda_model.print_topics())\n",
    "doc_lda = lda_model[corpus]"
   ]
  },
  {
   "cell_type": "markdown",
   "metadata": {},
   "source": [
    "#### Compute Model Perplexity and Coherence Score\n",
    "\n",
    "Let's calculate the baseline coherence score"
   ]
  },
  {
   "cell_type": "code",
   "execution_count": 57,
   "metadata": {},
   "outputs": [
    {
     "output_type": "stream",
     "name": "stdout",
     "text": [
      "Coherence Score:  0.3443799985335936\n"
     ]
    }
   ],
   "source": [
    "\n",
    "# Compute Coherence Score\n",
    "coherence_model_lda = CoherenceModel(model=lda_model, texts=data_lemmatized, dictionary=id2word, coherence='c_v')\n",
    "coherence_lda = coherence_model_lda.get_coherence()\n",
    "print('Coherence Score: ', coherence_lda)"
   ]
  },
  {
   "cell_type": "markdown",
   "metadata": {},
   "source": [
    "** **\n",
    "#### Step 6: Hyperparameter tuning\n",
    "** **\n",
    "First, let's differentiate between model hyperparameters and model parameters :\n",
    "\n",
    "- `Model hyperparameters` can be thought of as settings for a machine learning algorithm that are tuned by the data scientist before training. Examples would be the number of trees in the random forest, or in our case, number of topics K\n",
    "\n",
    "- `Model parameters` can be thought of as what the model learns during training, such as the weights for each word in a given topic.\n",
    "\n",
    "Now that we have the baseline coherence score for the default LDA model, let's perform a series of sensitivity tests to help determine the following model hyperparameters: \n",
    "- Number of Topics (K)\n",
    "- Dirichlet hyperparameter alpha: Document-Topic Density\n",
    "- Dirichlet hyperparameter beta: Word-Topic Density\n",
    "\n",
    "We'll perform these tests in sequence, one parameter at a time by keeping others constant and run them over the two difference validation corpus sets. We'll use `C_v` as our choice of metric for performance comparison "
   ]
  },
  {
   "cell_type": "code",
   "execution_count": 59,
   "metadata": {},
   "outputs": [],
   "source": [
    "# supporting function\n",
    "def compute_coherence_values(corpus, dictionary, k, a, b):\n",
    "    \n",
    "    lda_model = gensim.models.LdaMulticore(corpus=corpus,\n",
    "                                           id2word=dictionary,\n",
    "                                           num_topics=k, \n",
    "                                           random_state=100,\n",
    "                                           chunksize=100,\n",
    "                                           passes=10,\n",
    "                                           alpha='auto')\n",
    "                                        #    eta=b)\n",
    "    \n",
    "    coherence_model_lda = CoherenceModel(model=lda_model, texts=data_lemmatized, dictionary=id2word, coherence='u_mass')\n",
    "    \n",
    "    return coherence_model_lda.get_coherence()"
   ]
  },
  {
   "cell_type": "markdown",
   "metadata": {},
   "source": [
    "Let's call the function, and iterate it over the range of topics, alpha, and beta parameter values"
   ]
  },
  {
   "cell_type": "code",
   "execution_count": 60,
   "metadata": {},
   "outputs": [
    {
     "output_type": "error",
     "ename": "NameError",
     "evalue": "name 'np' is not defined",
     "traceback": [
      "\u001b[1;31m---------------------------------------------------------------------------\u001b[0m",
      "\u001b[1;31mNameError\u001b[0m                                 Traceback (most recent call last)",
      "\u001b[1;32m<ipython-input-60-da7d2f4fef4c>\u001b[0m in \u001b[0;36m<module>\u001b[1;34m\u001b[0m\n\u001b[1;32m----> 1\u001b[1;33m \u001b[0malpha\u001b[0m \u001b[1;33m=\u001b[0m \u001b[0mlist\u001b[0m\u001b[1;33m(\u001b[0m\u001b[0mnp\u001b[0m\u001b[1;33m.\u001b[0m\u001b[0marange\u001b[0m\u001b[1;33m(\u001b[0m\u001b[1;36m0.01\u001b[0m\u001b[1;33m,\u001b[0m \u001b[1;36m1\u001b[0m\u001b[1;33m,\u001b[0m \u001b[1;36m0.3\u001b[0m\u001b[1;33m)\u001b[0m\u001b[1;33m)\u001b[0m\u001b[1;33m\u001b[0m\u001b[1;33m\u001b[0m\u001b[0m\n\u001b[0m\u001b[0;32m      2\u001b[0m \u001b[0malpha\u001b[0m\u001b[1;33m.\u001b[0m\u001b[0mappend\u001b[0m\u001b[1;33m(\u001b[0m\u001b[1;34m'symmetric'\u001b[0m\u001b[1;33m)\u001b[0m\u001b[1;33m\u001b[0m\u001b[1;33m\u001b[0m\u001b[0m\n\u001b[0;32m      3\u001b[0m \u001b[0malpha\u001b[0m\u001b[1;33m.\u001b[0m\u001b[0mappend\u001b[0m\u001b[1;33m(\u001b[0m\u001b[1;34m'asymmetric'\u001b[0m\u001b[1;33m)\u001b[0m\u001b[1;33m\u001b[0m\u001b[1;33m\u001b[0m\u001b[0m\n\u001b[0;32m      4\u001b[0m \u001b[0malpha\u001b[0m\u001b[1;33m\u001b[0m\u001b[1;33m\u001b[0m\u001b[0m\n",
      "\u001b[1;31mNameError\u001b[0m: name 'np' is not defined"
     ]
    }
   ],
   "source": [
    "alpha = list(np.arange(0.01, 1, 0.3))\n",
    "alpha.append('symmetric')\n",
    "alpha.append('asymmetric')\n",
    "alpha"
   ]
  },
  {
   "cell_type": "code",
   "execution_count": 28,
   "metadata": {},
   "outputs": [
    {
     "output_type": "stream",
     "name": "stderr",
     "text": [
      "\n",
      "\n",
      "\n",
      "  0%|          | 0/2 [00:00<?, ?it/s]\u001b[A\u001b[A\u001b[A\n",
      "\n",
      "\n",
      " 50%|█████     | 1/2 [00:45<00:45, 45.78s/it]\u001b[A\u001b[A\u001b[A\n",
      "\n",
      "\n",
      "100%|██████████| 2/2 [01:29<00:00, 45.24s/it]\u001b[A\u001b[A\u001b[A"
     ]
    },
    {
     "output_type": "error",
     "ename": "IndexError",
     "evalue": "list index out of range",
     "traceback": [
      "\u001b[1;31m---------------------------------------------------------------------------\u001b[0m",
      "\u001b[1;31mIndexError\u001b[0m                                Traceback (most recent call last)",
      "\u001b[1;32m<ipython-input-28-b722f19aaa24>\u001b[0m in \u001b[0;36m<module>\u001b[1;34m\u001b[0m\n\u001b[0;32m     49\u001b[0m                                             k=k, a=a, b=b)\n\u001b[0;32m     50\u001b[0m             \u001b[1;31m# Save the model results\u001b[0m\u001b[1;33m\u001b[0m\u001b[1;33m\u001b[0m\u001b[1;33m\u001b[0m\u001b[0m\n\u001b[1;32m---> 51\u001b[1;33m             \u001b[0mmodel_results\u001b[0m\u001b[1;33m[\u001b[0m\u001b[1;34m'Validation_Set'\u001b[0m\u001b[1;33m]\u001b[0m\u001b[1;33m.\u001b[0m\u001b[0mappend\u001b[0m\u001b[1;33m(\u001b[0m\u001b[0mcorpus_title\u001b[0m\u001b[1;33m[\u001b[0m\u001b[0mi\u001b[0m\u001b[1;33m]\u001b[0m\u001b[1;33m)\u001b[0m\u001b[1;33m\u001b[0m\u001b[1;33m\u001b[0m\u001b[0m\n\u001b[0m\u001b[0;32m     52\u001b[0m             \u001b[0mmodel_results\u001b[0m\u001b[1;33m[\u001b[0m\u001b[1;34m'Topics'\u001b[0m\u001b[1;33m]\u001b[0m\u001b[1;33m.\u001b[0m\u001b[0mappend\u001b[0m\u001b[1;33m(\u001b[0m\u001b[0mk\u001b[0m\u001b[1;33m)\u001b[0m\u001b[1;33m\u001b[0m\u001b[1;33m\u001b[0m\u001b[0m\n\u001b[0;32m     53\u001b[0m             \u001b[0mmodel_results\u001b[0m\u001b[1;33m[\u001b[0m\u001b[1;34m'Alpha'\u001b[0m\u001b[1;33m]\u001b[0m\u001b[1;33m.\u001b[0m\u001b[0mappend\u001b[0m\u001b[1;33m(\u001b[0m\u001b[0ma\u001b[0m\u001b[1;33m)\u001b[0m\u001b[1;33m\u001b[0m\u001b[1;33m\u001b[0m\u001b[0m\n",
      "\u001b[1;31mIndexError\u001b[0m: list index out of range"
     ]
    }
   ],
   "source": [
    "\n",
    "grid = {}\n",
    "grid['Validation_Set'] = {}\n",
    "\n",
    "# Topics range\n",
    "min_topics = 20\n",
    "max_topics = 23\n",
    "step_size = 2\n",
    "topics_range = range(min_topics, max_topics, step_size)\n",
    "\n",
    "# Alpha parameter\n",
    "alpha = list(np.arange(0.01, 1, 0.3))\n",
    "alpha.append('symmetric')\n",
    "alpha.append('asymmetric')\n",
    "\n",
    "# Beta parameter\n",
    "beta = list(np.arange(0.01, 1, 0.3))\n",
    "beta.append('symmetric')\n",
    "\n",
    "# Validation sets\n",
    "num_of_docs = len(corpus)\n",
    "corpus_sets = [gensim.utils.ClippedCorpus(corpus, int(num_of_docs*0.75)), \n",
    "               corpus]\n",
    "\n",
    "corpus_title = ['75% Corpus', '100% Corpus']\n",
    "corpus_title = ['75% Corpus']\n",
    "\n",
    "model_results = {'Validation_Set': [],\n",
    "                 'Topics': [],\n",
    "                 'Alpha': [],\n",
    "                 'Beta': [],\n",
    "                 'Coherence': []\n",
    "                }\n",
    "\n",
    "# Can take a long time to run\n",
    "if 1 == 1:\n",
    "    pbar = tqdm.tqdm(total=(len(topics_range)*len(corpus_title)))\n",
    "    \n",
    "    # iterate through validation corpuses\n",
    "    for i in range(len(corpus_sets)):\n",
    "        # iterate through number of topics\n",
    "        for k in topics_range:\n",
    "            a = 50 / k\n",
    "            b = 0.1\n",
    "            # get the coherence score for the given parameters\n",
    "            cv = compute_coherence_values(corpus=corpus_sets[i], dictionary=id2word, \n",
    "                                            k=k, a=a, b=b)\n",
    "            # Save the model results\n",
    "            model_results['Validation_Set'].append(corpus_title[i])\n",
    "            model_results['Topics'].append(k)\n",
    "            model_results['Alpha'].append(a)\n",
    "            model_results['Beta'].append(b)\n",
    "            model_results['Coherence'].append(cv)\n",
    "            \n",
    "            pbar.update(1)\n",
    "    pd.DataFrame(model_results).to_csv('lda_tuning_results.csv', index=False)\n",
    "    pbar.close()"
   ]
  },
  {
   "cell_type": "code",
   "execution_count": 27,
   "metadata": {},
   "outputs": [
    {
     "output_type": "execute_result",
     "data": {
      "text/plain": [
       "Empty DataFrame\n",
       "Columns: [Validation_Set, Topics, Alpha, Beta, Coherence]\n",
       "Index: []"
      ],
      "text/html": "<div>\n<style scoped>\n    .dataframe tbody tr th:only-of-type {\n        vertical-align: middle;\n    }\n\n    .dataframe tbody tr th {\n        vertical-align: top;\n    }\n\n    .dataframe thead th {\n        text-align: right;\n    }\n</style>\n<table border=\"1\" class=\"dataframe\">\n  <thead>\n    <tr style=\"text-align: right;\">\n      <th></th>\n      <th>Validation_Set</th>\n      <th>Topics</th>\n      <th>Alpha</th>\n      <th>Beta</th>\n      <th>Coherence</th>\n    </tr>\n  </thead>\n  <tbody>\n  </tbody>\n</table>\n</div>"
     },
     "metadata": {},
     "execution_count": 27
    }
   ],
   "source": [
    "pd.DataFrame(model_results)"
   ]
  },
  {
   "cell_type": "code",
   "execution_count": null,
   "metadata": {},
   "outputs": [],
   "source": [
    "# import numpy as np\n",
    "# import tqdm\n",
    "\n",
    "# grid = {}\n",
    "# grid['Validation_Set'] = {}\n",
    "\n",
    "# # Topics range\n",
    "# min_topics = 2\n",
    "# max_topics = 11\n",
    "# step_size = 1\n",
    "# topics_range = range(min_topics, max_topics, step_size)\n",
    "\n",
    "# # Alpha parameter\n",
    "# alpha = list(np.arange(0.01, 1, 0.3))\n",
    "# alpha.append('symmetric')\n",
    "# alpha.append('asymmetric')\n",
    "\n",
    "# # Beta parameter\n",
    "# beta = list(np.arange(0.01, 1, 0.3))\n",
    "# beta.append('symmetric')\n",
    "\n",
    "# # Validation sets\n",
    "# num_of_docs = len(corpus)\n",
    "# corpus_sets = [gensim.utils.ClippedCorpus(corpus, int(num_of_docs*0.75)), \n",
    "#                corpus]\n",
    "\n",
    "# corpus_title = ['75% Corpus', '100% Corpus']\n",
    "\n",
    "# model_results = {'Validation_Set': [],\n",
    "#                  'Topics': [],\n",
    "#                  'Alpha': [],\n",
    "#                  'Beta': [],\n",
    "#                  'Coherence': []\n",
    "#                 }\n",
    "\n",
    "# # Can take a long time to run\n",
    "# if 1 == 1:\n",
    "#     pbar = tqdm.tqdm(total=(len(beta)*len(alpha)*len(topics_range)*len(corpus_title)))\n",
    "    \n",
    "#     # iterate through validation corpuses\n",
    "#     for i in range(len(corpus_sets)):\n",
    "#         # iterate through number of topics\n",
    "#         for k in topics_range:\n",
    "#             # iterate through alpha values\n",
    "#             for a in alpha:\n",
    "#                 # iterare through beta values\n",
    "#                 for b in beta:\n",
    "#                     # get the coherence score for the given parameters\n",
    "#                     cv = compute_coherence_values(corpus=corpus_sets[i], dictionary=id2word, \n",
    "#                                                   k=k, a=a, b=b)\n",
    "#                     # Save the model results\n",
    "#                     model_results['Validation_Set'].append(corpus_title[i])\n",
    "#                     model_results['Topics'].append(k)\n",
    "#                     model_results['Alpha'].append(a)\n",
    "#                     model_results['Beta'].append(b)\n",
    "#                     model_results['Coherence'].append(cv)\n",
    "                    \n",
    "#                     pbar.update(1)\n",
    "#     pd.DataFrame(model_results).to_csv('./results/lda_tuning_results.csv', index=False)\n",
    "#     pbar.close()"
   ]
  },
  {
   "cell_type": "code",
   "execution_count": null,
   "metadata": {},
   "outputs": [],
   "source": []
  },
  {
   "cell_type": "markdown",
   "metadata": {},
   "source": [
    "** **\n",
    "#### Step 7: Final Model\n",
    "** **\n",
    "\n",
    "Based on external evaluation (Code to be added from Excel based analysis), let's train the final model with parameters yielding highest coherence score"
   ]
  },
  {
   "cell_type": "code",
   "execution_count": 75,
   "metadata": {},
   "outputs": [],
   "source": []
  },
  {
   "cell_type": "code",
   "execution_count": 76,
   "metadata": {},
   "outputs": [],
   "source": [
    "# Set up the callbacks loggers\n",
    "perplexity_logger = PerplexityMetric(corpus=corpus, logger='shell')\n",
    "convergence_logger = ConvergenceMetric(logger='shell')\n",
    "coherence_logger = CoherenceMetric(corpus=corpus, logger='shell', coherence = 'c_v',texts=texts)\n",
    "coherence_logger_umass = CoherenceMetric(corpus=corpus, logger='shell', coherence = 'u_mass', texts=texts)"
   ]
  },
  {
   "cell_type": "code",
   "execution_count": 77,
   "metadata": {},
   "outputs": [],
   "source": [
    "logging.debug(\"test message\")"
   ]
  },
  {
   "cell_type": "code",
   "execution_count": 178,
   "metadata": {},
   "outputs": [],
   "source": [
    "num_topics = 20\n",
    "\n",
    "lda_model = gensim.models.LdaModel(corpus=corpus,\n",
    "                                           id2word=id2word,\n",
    "                                           num_topics=num_topics, \n",
    "                                           random_state=100,\n",
    "                                           chunksize=3000,\n",
    "                                           passes=7)\n",
    "                                          #  eval_every=5,callbacks=[convergence_logger, perplexity_logger, coherence_logger,coherence_logger_umass])\n",
    "                                        #    eta=1/num_topics)"
   ]
  },
  {
   "cell_type": "code",
   "execution_count": null,
   "metadata": {},
   "outputs": [],
   "source": [
    "import re\n",
    "import matplotlib.pyplot as plt\n",
    "p = re.compile(\"(-*\\d+\\.\\d+) per-word .* (\\d+\\.\\d+) perplexity\")\n",
    "matches = [p.findall(l) for l in open('gensim.log')]\n",
    "matches = [m for m in matches if len(m) > 0]\n",
    "tuples = [t[0] for t in matches]\n",
    "perplexity = [float(t[1]) for t in tuples]\n",
    "liklihood = [float(t[0]) for t in tuples]\n",
    "iter = list(range(0,len(tuples)*10,10))\n",
    "plt.plot(iter,liklihood,c=\"black\")\n",
    "plt.ylabel(\"log liklihood\")\n",
    "plt.xlabel(\"iteration\")\n",
    "plt.title(\"Topic Model Convergence\")\n",
    "plt.grid()\n",
    "plt.savefig(\"convergence_liklihood.pdf\")\n",
    "plt.close()"
   ]
  },
  {
   "cell_type": "code",
   "execution_count": 94,
   "metadata": {},
   "outputs": [],
   "source": [
    "# from pprint import pprint\n",
    "\n",
    "# # Print the Keyword in the 10 topics\n",
    "# pprint(lda_model.print_topics())\n",
    "# doc_lda = lda_model[corpus]"
   ]
  },
  {
   "cell_type": "code",
   "execution_count": 28,
   "metadata": {},
   "outputs": [
    {
     "output_type": "execute_result",
     "data": {
      "text/html": "\n<div id=\"altair-viz-2811c36f69fb485f8174e7e6ee067f2b\"></div>\n<script type=\"text/javascript\">\n  (function(spec, embedOpt){\n    let outputDiv = document.currentScript.previousElementSibling;\n    if (outputDiv.id !== \"altair-viz-2811c36f69fb485f8174e7e6ee067f2b\") {\n      outputDiv = document.getElementById(\"altair-viz-2811c36f69fb485f8174e7e6ee067f2b\");\n    }\n    const paths = {\n      \"vega\": \"https://cdn.jsdelivr.net/npm//vega@5?noext\",\n      \"vega-lib\": \"https://cdn.jsdelivr.net/npm//vega-lib?noext\",\n      \"vega-lite\": \"https://cdn.jsdelivr.net/npm//vega-lite@4.8.1?noext\",\n      \"vega-embed\": \"https://cdn.jsdelivr.net/npm//vega-embed@6?noext\",\n    };\n\n    function loadScript(lib) {\n      return new Promise(function(resolve, reject) {\n        var s = document.createElement('script');\n        s.src = paths[lib];\n        s.async = true;\n        s.onload = () => resolve(paths[lib]);\n        s.onerror = () => reject(`Error loading script: ${paths[lib]}`);\n        document.getElementsByTagName(\"head\")[0].appendChild(s);\n      });\n    }\n\n    function showError(err) {\n      outputDiv.innerHTML = `<div class=\"error\" style=\"color:red;\">${err}</div>`;\n      throw err;\n    }\n\n    function displayChart(vegaEmbed) {\n      vegaEmbed(outputDiv, spec, embedOpt)\n        .catch(err => showError(`Javascript Error: ${err.message}<br>This usually means there's a typo in your chart specification. See the javascript console for the full traceback.`));\n    }\n\n    if(typeof define === \"function\" && define.amd) {\n      requirejs.config({paths});\n      require([\"vega-embed\"], displayChart, err => showError(`Error loading script: ${err.message}`));\n    } else if (typeof vegaEmbed === \"function\") {\n      displayChart(vegaEmbed);\n    } else {\n      loadScript(\"vega\")\n        .then(() => loadScript(\"vega-lite\"))\n        .then(() => loadScript(\"vega-embed\"))\n        .catch(showError)\n        .then(() => displayChart(vegaEmbed));\n    }\n  })({\"config\": {\"view\": {\"continuousWidth\": 400, \"continuousHeight\": 300}}, \"data\": {\"name\": \"data-ff9e5396b016c0595abd3cf75fcd1f88\"}, \"mark\": \"line\", \"encoding\": {\"x\": {\"type\": \"ordinal\", \"field\": \"index\"}, \"y\": {\"type\": \"quantitative\", \"field\": \"conv\"}}, \"$schema\": \"https://vega.github.io/schema/vega-lite/v4.8.1.json\", \"datasets\": {\"data-ff9e5396b016c0595abd3cf75fcd1f88\": [{\"index\": 0, \"conv\": 19.817767165393622, \"perp\": 4851.411473838281, \"coh_cv\": 0.34581647615099526, \"coh_umass\": -9.726220361165428}, {\"index\": 1, \"conv\": 14.994419716698363, \"perp\": 4650.376956541624, \"coh_cv\": 0.3558589073979965, \"coh_umass\": -8.975447234269293}, {\"index\": 2, \"conv\": 13.32339930946253, \"perp\": 4580.688416209302, \"coh_cv\": 0.3742850539607146, \"coh_umass\": -8.490181184814322}, {\"index\": 3, \"conv\": 13.014778451548008, \"perp\": 4538.584530297072, \"coh_cv\": 0.37544526031075987, \"coh_umass\": -8.098716986241866}, {\"index\": 4, \"conv\": 12.446662811724876, \"perp\": 4511.727669252437, \"coh_cv\": 0.37308040851520435, \"coh_umass\": -7.63698695331063}, {\"index\": 5, \"conv\": 11.40756110931569, \"perp\": 4494.010358115715, \"coh_cv\": 0.37381124334158816, \"coh_umass\": -7.474958908997957}, {\"index\": 6, \"conv\": 9.553925232991226, \"perp\": 4480.365430078452, \"coh_cv\": 0.3753064213663063, \"coh_umass\": -7.415969897694742}, {\"index\": 7, \"conv\": 12.651535284882003, \"perp\": 4469.976737708402, \"coh_cv\": 0.3715293514932957, \"coh_umass\": -6.93945745518391}, {\"index\": 8, \"conv\": 11.404346031404971, \"perp\": 4461.6564066090705, \"coh_cv\": 0.3697738658109178, \"coh_umass\": -7.017375531148477}, {\"index\": 9, \"conv\": 9.89483048818874, \"perp\": 4453.790865387602, \"coh_cv\": 0.3732441920670033, \"coh_umass\": -6.986377597814991}, {\"index\": 10, \"conv\": 7.5767125563762265, \"perp\": 4448.143214770594, \"coh_cv\": 0.3747806519725003, \"coh_umass\": -6.945859617523448}, {\"index\": 11, \"conv\": 11.564356435643576, \"perp\": 4442.805606697359, \"coh_cv\": 0.3747806519725003, \"coh_umass\": -6.953510093954895}, {\"index\": 12, \"conv\": 8.632504198449546, \"perp\": 4438.265300324451, \"coh_cv\": 0.374679138545185, \"coh_umass\": -6.894307699487198}, {\"index\": 13, \"conv\": 9.42522487542872, \"perp\": 4434.118478364202, \"coh_cv\": 0.37288047632014787, \"coh_umass\": -6.933703170768266}, {\"index\": 14, \"conv\": 7.399145796932636, \"perp\": 4430.396251599632, \"coh_cv\": 0.3731937798580729, \"coh_umass\": -6.945696665593571}, {\"index\": 15, \"conv\": 8.445220992687506, \"perp\": 4427.188173163676, \"coh_cv\": 0.3750007762361616, \"coh_umass\": -6.948249644629806}, {\"index\": 16, \"conv\": 8.77848961366725, \"perp\": 4424.464284659, \"coh_cv\": 0.3752873725780108, \"coh_umass\": -6.927760460812792}, {\"index\": 17, \"conv\": 11.554455445544564, \"perp\": 4422.053414009046, \"coh_cv\": 0.3800358940718623, \"coh_umass\": -6.818265012714176}, {\"index\": 18, \"conv\": 9.544554455445553, \"perp\": 4419.77352381716, \"coh_cv\": 0.38030984908293564, \"coh_umass\": -6.840540392171024}, {\"index\": 19, \"conv\": 10.05940594059407, \"perp\": 4417.376342899575, \"coh_cv\": 0.3765403292093204, \"coh_umass\": -6.892707407889398}, {\"index\": 20, \"conv\": 8.029702970297034, \"perp\": 4415.326842756671, \"coh_cv\": 0.37816528279585476, \"coh_umass\": -6.869077626611352}, {\"index\": 21, \"conv\": 5.065877175952892, \"perp\": 4413.1517338255235, \"coh_cv\": 0.3791669608613024, \"coh_umass\": -6.89468609895742}, {\"index\": 22, \"conv\": 8.554455445544562, \"perp\": 4411.610563452416, \"coh_cv\": 0.3791669608613024, \"coh_umass\": -6.8946769643434695}, {\"index\": 23, \"conv\": 7.029702970297034, \"perp\": 4410.101442188421, \"coh_cv\": 0.3794111708253832, \"coh_umass\": -6.8213104795252}, {\"index\": 24, \"conv\": 7.049504950495056, \"perp\": 4408.822744269842, \"coh_cv\": 0.3809955401683263, \"coh_umass\": -6.771492385906248}, {\"index\": 25, \"conv\": 9.059405940594068, \"perp\": 4407.526883672447, \"coh_cv\": 0.3809955401683264, \"coh_umass\": -6.77318207912695}, {\"index\": 26, \"conv\": 6.425613149550253, \"perp\": 4406.370174304372, \"coh_cv\": 0.3838977269632894, \"coh_umass\": -6.713558550820653}, {\"index\": 27, \"conv\": 7.554455445544563, \"perp\": 4405.414776521653, \"coh_cv\": 0.38324727467886005, \"coh_umass\": -6.725915653975865}, {\"index\": 28, \"conv\": 6.418947777130656, \"perp\": 4404.307972417252, \"coh_cv\": 0.38875111896475734, \"coh_umass\": -6.786988148829787}, {\"index\": 29, \"conv\": 6.029702970297034, \"perp\": 4402.9313039139715, \"coh_cv\": 0.3876305501581134, \"coh_umass\": -6.665267197129326}, {\"index\": 30, \"conv\": 6.085679156150913, \"perp\": 4401.9531722269085, \"coh_cv\": 0.3883418452299844, \"coh_umass\": -6.640351695845578}, {\"index\": 31, \"conv\": 9.04950495049506, \"perp\": 4401.065580001113, \"coh_cv\": 0.39350502988396674, \"coh_umass\": -6.6397795992722894}, {\"index\": 32, \"conv\": 9.029702970297034, \"perp\": 4399.7061481055, \"coh_cv\": 0.3924662832997212, \"coh_umass\": -6.549987855951175}, {\"index\": 33, \"conv\": 5.039603960396046, \"perp\": 4398.8779847477945, \"coh_cv\": 0.39237980286813684, \"coh_umass\": -6.486550160076156}, {\"index\": 34, \"conv\": 5.53465346534654, \"perp\": 4397.739682530096, \"coh_cv\": 0.39237980286813684, \"coh_umass\": -6.486578497455611}, {\"index\": 35, \"conv\": 6.554455445544562, \"perp\": 4396.999351172626, \"coh_cv\": 0.39333649330274806, \"coh_umass\": -6.454707796488793}, {\"index\": 36, \"conv\": 6.544554455445551, \"perp\": 4396.364815079819, \"coh_cv\": 0.39333649330274806, \"coh_umass\": -6.454707796488793}, {\"index\": 37, \"conv\": 6.53465346534654, \"perp\": 4395.114447680917, \"coh_cv\": 0.39306925739118465, \"coh_umass\": -6.57684830099897}, {\"index\": 38, \"conv\": 7.564356435643574, \"perp\": 4394.354005097789, \"coh_cv\": 0.39306925739118465, \"coh_umass\": -6.5759888246667355}, {\"index\": 39, \"conv\": 4.0527405681744675, \"perp\": 4393.751502593292, \"coh_cv\": 0.3918801146138442, \"coh_umass\": -6.588470057333852}, {\"index\": 40, \"conv\": 6.029702970297035, \"perp\": 4393.13079103771, \"coh_cv\": 0.3918801146138442, \"coh_umass\": -6.588470057333852}, {\"index\": 41, \"conv\": 7.0, \"perp\": 4392.367524050168, \"coh_cv\": 0.3923082405333345, \"coh_umass\": -6.633319384795753}, {\"index\": 42, \"conv\": 11.0, \"perp\": 4391.850420001858, \"coh_cv\": 0.3923082405333345, \"coh_umass\": -6.633319384795753}, {\"index\": 43, \"conv\": 6.049504950495057, \"perp\": 4391.361795340729, \"coh_cv\": 0.3924363539088644, \"coh_umass\": -6.631151606075214}, {\"index\": 44, \"conv\": 10.0, \"perp\": 4391.004518925399, \"coh_cv\": 0.3924363539088644, \"coh_umass\": -6.631151606075214}, {\"index\": 45, \"conv\": 11.0, \"perp\": 4390.430919903941, \"coh_cv\": 0.38770425990142543, \"coh_umass\": -6.71285608518748}, {\"index\": 46, \"conv\": 6.0, \"perp\": 4389.96333035659, \"coh_cv\": 0.3924363539088644, \"coh_umass\": -6.6307265377777425}, {\"index\": 47, \"conv\": 10.0, \"perp\": 4389.534800353373, \"coh_cv\": 0.3924363539088644, \"coh_umass\": -6.6308456142604255}, {\"index\": 48, \"conv\": 5.0, \"perp\": 4389.131420629446, \"coh_cv\": 0.39350073879096337, \"coh_umass\": -6.668756013523998}, {\"index\": 49, \"conv\": 10.0, \"perp\": 4388.539657062886, \"coh_cv\": 0.39378514157733896, \"coh_umass\": -6.594339723158363}, {\"index\": 50, \"conv\": 6.049504950495057, \"perp\": 4388.364623162939, \"coh_cv\": 0.3949750500417742, \"coh_umass\": -6.626886856891808}, {\"index\": 51, \"conv\": 3.5247524752475288, \"perp\": 4387.636529573511, \"coh_cv\": 0.3956205117833332, \"coh_umass\": -6.540202359347381}, {\"index\": 52, \"conv\": 5.039603960396045, \"perp\": 4387.321897936483, \"coh_cv\": 0.3956205117833332, \"coh_umass\": -6.541231554683425}, {\"index\": 53, \"conv\": 5.544554455445551, \"perp\": 4386.994582856329, \"coh_cv\": 0.3956205117833332, \"coh_umass\": -6.541802659907056}, {\"index\": 54, \"conv\": 5.544554455445551, \"perp\": 4386.285771167723, \"coh_cv\": 0.3949750500417742, \"coh_umass\": -6.627214954878764}, {\"index\": 55, \"conv\": 6.039603960396045, \"perp\": 4385.9184904704, \"coh_cv\": 0.3949750500417742, \"coh_umass\": -6.627214954878764}, {\"index\": 56, \"conv\": 12.0, \"perp\": 4385.658111087575, \"coh_cv\": 0.3956205117833332, \"coh_umass\": -6.545142361373292}, {\"index\": 57, \"conv\": 5.039603960396046, \"perp\": 4385.013261336186, \"coh_cv\": 0.3971073065493983, \"coh_umass\": -6.669972803591048}, {\"index\": 58, \"conv\": 11.0, \"perp\": 4385.012936785248, \"coh_cv\": 0.3971073065493983, \"coh_umass\": -6.671085311692172}, {\"index\": 59, \"conv\": 4.53465346534654, \"perp\": 4384.90833414379, \"coh_cv\": 0.3956205117833332, \"coh_umass\": -6.545910354973988}, {\"index\": 60, \"conv\": 7.0, \"perp\": 4384.431290688886, \"coh_cv\": 0.3956205117833332, \"coh_umass\": -6.544821742656443}, {\"index\": 61, \"conv\": 5.0, \"perp\": 4384.125698803636, \"coh_cv\": 0.3971073065493983, \"coh_umass\": -6.669568185507058}, {\"index\": 62, \"conv\": 5.0, \"perp\": 4383.935701396996, \"coh_cv\": 0.3997667952133712, \"coh_umass\": -6.651839226180883}, {\"index\": 63, \"conv\": 6.0, \"perp\": 4383.520426061282, \"coh_cv\": 0.3997667952133712, \"coh_umass\": -6.6525365609810505}, {\"index\": 64, \"conv\": 4.029702970297034, \"perp\": 4383.131365581123, \"coh_cv\": 0.3997667952133712, \"coh_umass\": -6.652621175626289}, {\"index\": 65, \"conv\": 5.544554455445551, \"perp\": 4383.071632984886, \"coh_cv\": 0.39736110996157575, \"coh_umass\": -6.578112641344616}, {\"index\": 66, \"conv\": 4.029702970297034, \"perp\": 4382.713191469409, \"coh_cv\": 0.39736110996157575, \"coh_umass\": -6.581029164364452}, {\"index\": 67, \"conv\": 6.0, \"perp\": 4382.560525156119, \"coh_cv\": 0.3971171466747414, \"coh_umass\": -6.476090575156316}, {\"index\": 68, \"conv\": 9.0, \"perp\": 4382.166016683196, \"coh_cv\": 0.3971171466747414, \"coh_umass\": -6.476595281717489}, {\"index\": 69, \"conv\": 9.0, \"perp\": 4382.157766736377, \"coh_cv\": 0.3971171466747414, \"coh_umass\": -6.475471704084653}, {\"index\": 70, \"conv\": 8.0, \"perp\": 4381.851396440208, \"coh_cv\": 0.3971171466747414, \"coh_umass\": -6.47570546419689}, {\"index\": 71, \"conv\": 4.5346534653465405, \"perp\": 4381.714872504091, \"coh_cv\": 0.4005734723868842, \"coh_umass\": -6.4661834603777875}, {\"index\": 72, \"conv\": 3.0, \"perp\": 4381.592278034248, \"coh_cv\": 0.4005734723868842, \"coh_umass\": -6.4671924998120405}, {\"index\": 73, \"conv\": 7.0, \"perp\": 4381.13886084907, \"coh_cv\": 0.4005734723868842, \"coh_umass\": -6.467598996306819}, {\"index\": 74, \"conv\": 7.0, \"perp\": 4381.101529457608, \"coh_cv\": 0.4005734723868842, \"coh_umass\": -6.468031664998169}, {\"index\": 75, \"conv\": 6.049504950495057, \"perp\": 4380.689390289454, \"coh_cv\": 0.4005734723868842, \"coh_umass\": -6.46590056762259}, {\"index\": 76, \"conv\": 9.0, \"perp\": 4380.64661749573, \"coh_cv\": 0.4005734723868842, \"coh_umass\": -6.466480207222358}, {\"index\": 77, \"conv\": 8.0, \"perp\": 4380.5817734394095, \"coh_cv\": 0.3971171466747414, \"coh_umass\": -6.476732629629903}, {\"index\": 78, \"conv\": 8.0, \"perp\": 4380.384743813892, \"coh_cv\": 0.3971171466747414, \"coh_umass\": -6.475777905347906}]}}, {\"mode\": \"vega-lite\"});\n</script>",
      "text/plain": [
       "alt.Chart(...)"
      ]
     },
     "metadata": {},
     "execution_count": 28
    }
   ],
   "source": [
    "import pandas as pd\n",
    "with open('model_callbacks.log') as f:\n",
    "    lines = [line.split() for line in f.read().splitlines()]\n",
    "metrics = [[],[],[],[]]\n",
    "\n",
    "for i in range(len(lines)):\n",
    "    metrics[i % 4].append(float(lines[i][-1]))\n",
    "metrics = pd.DataFrame(metrics).T\n",
    "metrics.columns = ['conv','perp','coh_cv','coh_umass']\n",
    "metrics.reset_index(inplace=True)\n",
    "import altair as alt\n"
   ]
  },
  {
   "cell_type": "code",
   "execution_count": 37,
   "metadata": {},
   "outputs": [
    {
     "output_type": "execute_result",
     "data": {
      "text/html": "\n<div id=\"altair-viz-bff2edd9b1104741b573b02b83f3089a\"></div>\n<script type=\"text/javascript\">\n  (function(spec, embedOpt){\n    let outputDiv = document.currentScript.previousElementSibling;\n    if (outputDiv.id !== \"altair-viz-bff2edd9b1104741b573b02b83f3089a\") {\n      outputDiv = document.getElementById(\"altair-viz-bff2edd9b1104741b573b02b83f3089a\");\n    }\n    const paths = {\n      \"vega\": \"https://cdn.jsdelivr.net/npm//vega@5?noext\",\n      \"vega-lib\": \"https://cdn.jsdelivr.net/npm//vega-lib?noext\",\n      \"vega-lite\": \"https://cdn.jsdelivr.net/npm//vega-lite@4.8.1?noext\",\n      \"vega-embed\": \"https://cdn.jsdelivr.net/npm//vega-embed@6?noext\",\n    };\n\n    function loadScript(lib) {\n      return new Promise(function(resolve, reject) {\n        var s = document.createElement('script');\n        s.src = paths[lib];\n        s.async = true;\n        s.onload = () => resolve(paths[lib]);\n        s.onerror = () => reject(`Error loading script: ${paths[lib]}`);\n        document.getElementsByTagName(\"head\")[0].appendChild(s);\n      });\n    }\n\n    function showError(err) {\n      outputDiv.innerHTML = `<div class=\"error\" style=\"color:red;\">${err}</div>`;\n      throw err;\n    }\n\n    function displayChart(vegaEmbed) {\n      vegaEmbed(outputDiv, spec, embedOpt)\n        .catch(err => showError(`Javascript Error: ${err.message}<br>This usually means there's a typo in your chart specification. See the javascript console for the full traceback.`));\n    }\n\n    if(typeof define === \"function\" && define.amd) {\n      requirejs.config({paths});\n      require([\"vega-embed\"], displayChart, err => showError(`Error loading script: ${err.message}`));\n    } else if (typeof vegaEmbed === \"function\") {\n      displayChart(vegaEmbed);\n    } else {\n      loadScript(\"vega\")\n        .then(() => loadScript(\"vega-lite\"))\n        .then(() => loadScript(\"vega-embed\"))\n        .catch(showError)\n        .then(() => displayChart(vegaEmbed));\n    }\n  })({\"config\": {\"view\": {\"continuousWidth\": 400, \"continuousHeight\": 300}}, \"data\": {\"name\": \"data-ff9e5396b016c0595abd3cf75fcd1f88\"}, \"mark\": \"line\", \"encoding\": {\"x\": {\"type\": \"ordinal\", \"field\": \"index\"}, \"y\": {\"type\": \"quantitative\", \"field\": \"coh_cv\"}}, \"$schema\": \"https://vega.github.io/schema/vega-lite/v4.8.1.json\", \"datasets\": {\"data-ff9e5396b016c0595abd3cf75fcd1f88\": [{\"index\": 0, \"conv\": 19.817767165393622, \"perp\": 4851.411473838281, \"coh_cv\": 0.34581647615099526, \"coh_umass\": -9.726220361165428}, {\"index\": 1, \"conv\": 14.994419716698363, \"perp\": 4650.376956541624, \"coh_cv\": 0.3558589073979965, \"coh_umass\": -8.975447234269293}, {\"index\": 2, \"conv\": 13.32339930946253, \"perp\": 4580.688416209302, \"coh_cv\": 0.3742850539607146, \"coh_umass\": -8.490181184814322}, {\"index\": 3, \"conv\": 13.014778451548008, \"perp\": 4538.584530297072, \"coh_cv\": 0.37544526031075987, \"coh_umass\": -8.098716986241866}, {\"index\": 4, \"conv\": 12.446662811724876, \"perp\": 4511.727669252437, \"coh_cv\": 0.37308040851520435, \"coh_umass\": -7.63698695331063}, {\"index\": 5, \"conv\": 11.40756110931569, \"perp\": 4494.010358115715, \"coh_cv\": 0.37381124334158816, \"coh_umass\": -7.474958908997957}, {\"index\": 6, \"conv\": 9.553925232991226, \"perp\": 4480.365430078452, \"coh_cv\": 0.3753064213663063, \"coh_umass\": -7.415969897694742}, {\"index\": 7, \"conv\": 12.651535284882003, \"perp\": 4469.976737708402, \"coh_cv\": 0.3715293514932957, \"coh_umass\": -6.93945745518391}, {\"index\": 8, \"conv\": 11.404346031404971, \"perp\": 4461.6564066090705, \"coh_cv\": 0.3697738658109178, \"coh_umass\": -7.017375531148477}, {\"index\": 9, \"conv\": 9.89483048818874, \"perp\": 4453.790865387602, \"coh_cv\": 0.3732441920670033, \"coh_umass\": -6.986377597814991}, {\"index\": 10, \"conv\": 7.5767125563762265, \"perp\": 4448.143214770594, \"coh_cv\": 0.3747806519725003, \"coh_umass\": -6.945859617523448}, {\"index\": 11, \"conv\": 11.564356435643576, \"perp\": 4442.805606697359, \"coh_cv\": 0.3747806519725003, \"coh_umass\": -6.953510093954895}, {\"index\": 12, \"conv\": 8.632504198449546, \"perp\": 4438.265300324451, \"coh_cv\": 0.374679138545185, \"coh_umass\": -6.894307699487198}, {\"index\": 13, \"conv\": 9.42522487542872, \"perp\": 4434.118478364202, \"coh_cv\": 0.37288047632014787, \"coh_umass\": -6.933703170768266}, {\"index\": 14, \"conv\": 7.399145796932636, \"perp\": 4430.396251599632, \"coh_cv\": 0.3731937798580729, \"coh_umass\": -6.945696665593571}, {\"index\": 15, \"conv\": 8.445220992687506, \"perp\": 4427.188173163676, \"coh_cv\": 0.3750007762361616, \"coh_umass\": -6.948249644629806}, {\"index\": 16, \"conv\": 8.77848961366725, \"perp\": 4424.464284659, \"coh_cv\": 0.3752873725780108, \"coh_umass\": -6.927760460812792}, {\"index\": 17, \"conv\": 11.554455445544564, \"perp\": 4422.053414009046, \"coh_cv\": 0.3800358940718623, \"coh_umass\": -6.818265012714176}, {\"index\": 18, \"conv\": 9.544554455445553, \"perp\": 4419.77352381716, \"coh_cv\": 0.38030984908293564, \"coh_umass\": -6.840540392171024}, {\"index\": 19, \"conv\": 10.05940594059407, \"perp\": 4417.376342899575, \"coh_cv\": 0.3765403292093204, \"coh_umass\": -6.892707407889398}, {\"index\": 20, \"conv\": 8.029702970297034, \"perp\": 4415.326842756671, \"coh_cv\": 0.37816528279585476, \"coh_umass\": -6.869077626611352}, {\"index\": 21, \"conv\": 5.065877175952892, \"perp\": 4413.1517338255235, \"coh_cv\": 0.3791669608613024, \"coh_umass\": -6.89468609895742}, {\"index\": 22, \"conv\": 8.554455445544562, \"perp\": 4411.610563452416, \"coh_cv\": 0.3791669608613024, \"coh_umass\": -6.8946769643434695}, {\"index\": 23, \"conv\": 7.029702970297034, \"perp\": 4410.101442188421, \"coh_cv\": 0.3794111708253832, \"coh_umass\": -6.8213104795252}, {\"index\": 24, \"conv\": 7.049504950495056, \"perp\": 4408.822744269842, \"coh_cv\": 0.3809955401683263, \"coh_umass\": -6.771492385906248}, {\"index\": 25, \"conv\": 9.059405940594068, \"perp\": 4407.526883672447, \"coh_cv\": 0.3809955401683264, \"coh_umass\": -6.77318207912695}, {\"index\": 26, \"conv\": 6.425613149550253, \"perp\": 4406.370174304372, \"coh_cv\": 0.3838977269632894, \"coh_umass\": -6.713558550820653}, {\"index\": 27, \"conv\": 7.554455445544563, \"perp\": 4405.414776521653, \"coh_cv\": 0.38324727467886005, \"coh_umass\": -6.725915653975865}, {\"index\": 28, \"conv\": 6.418947777130656, \"perp\": 4404.307972417252, \"coh_cv\": 0.38875111896475734, \"coh_umass\": -6.786988148829787}, {\"index\": 29, \"conv\": 6.029702970297034, \"perp\": 4402.9313039139715, \"coh_cv\": 0.3876305501581134, \"coh_umass\": -6.665267197129326}, {\"index\": 30, \"conv\": 6.085679156150913, \"perp\": 4401.9531722269085, \"coh_cv\": 0.3883418452299844, \"coh_umass\": -6.640351695845578}, {\"index\": 31, \"conv\": 9.04950495049506, \"perp\": 4401.065580001113, \"coh_cv\": 0.39350502988396674, \"coh_umass\": -6.6397795992722894}, {\"index\": 32, \"conv\": 9.029702970297034, \"perp\": 4399.7061481055, \"coh_cv\": 0.3924662832997212, \"coh_umass\": -6.549987855951175}, {\"index\": 33, \"conv\": 5.039603960396046, \"perp\": 4398.8779847477945, \"coh_cv\": 0.39237980286813684, \"coh_umass\": -6.486550160076156}, {\"index\": 34, \"conv\": 5.53465346534654, \"perp\": 4397.739682530096, \"coh_cv\": 0.39237980286813684, \"coh_umass\": -6.486578497455611}, {\"index\": 35, \"conv\": 6.554455445544562, \"perp\": 4396.999351172626, \"coh_cv\": 0.39333649330274806, \"coh_umass\": -6.454707796488793}, {\"index\": 36, \"conv\": 6.544554455445551, \"perp\": 4396.364815079819, \"coh_cv\": 0.39333649330274806, \"coh_umass\": -6.454707796488793}, {\"index\": 37, \"conv\": 6.53465346534654, \"perp\": 4395.114447680917, \"coh_cv\": 0.39306925739118465, \"coh_umass\": -6.57684830099897}, {\"index\": 38, \"conv\": 7.564356435643574, \"perp\": 4394.354005097789, \"coh_cv\": 0.39306925739118465, \"coh_umass\": -6.5759888246667355}, {\"index\": 39, \"conv\": 4.0527405681744675, \"perp\": 4393.751502593292, \"coh_cv\": 0.3918801146138442, \"coh_umass\": -6.588470057333852}, {\"index\": 40, \"conv\": 6.029702970297035, \"perp\": 4393.13079103771, \"coh_cv\": 0.3918801146138442, \"coh_umass\": -6.588470057333852}, {\"index\": 41, \"conv\": 7.0, \"perp\": 4392.367524050168, \"coh_cv\": 0.3923082405333345, \"coh_umass\": -6.633319384795753}, {\"index\": 42, \"conv\": 11.0, \"perp\": 4391.850420001858, \"coh_cv\": 0.3923082405333345, \"coh_umass\": -6.633319384795753}, {\"index\": 43, \"conv\": 6.049504950495057, \"perp\": 4391.361795340729, \"coh_cv\": 0.3924363539088644, \"coh_umass\": -6.631151606075214}, {\"index\": 44, \"conv\": 10.0, \"perp\": 4391.004518925399, \"coh_cv\": 0.3924363539088644, \"coh_umass\": -6.631151606075214}, {\"index\": 45, \"conv\": 11.0, \"perp\": 4390.430919903941, \"coh_cv\": 0.38770425990142543, \"coh_umass\": -6.71285608518748}, {\"index\": 46, \"conv\": 6.0, \"perp\": 4389.96333035659, \"coh_cv\": 0.3924363539088644, \"coh_umass\": -6.6307265377777425}, {\"index\": 47, \"conv\": 10.0, \"perp\": 4389.534800353373, \"coh_cv\": 0.3924363539088644, \"coh_umass\": -6.6308456142604255}, {\"index\": 48, \"conv\": 5.0, \"perp\": 4389.131420629446, \"coh_cv\": 0.39350073879096337, \"coh_umass\": -6.668756013523998}, {\"index\": 49, \"conv\": 10.0, \"perp\": 4388.539657062886, \"coh_cv\": 0.39378514157733896, \"coh_umass\": -6.594339723158363}, {\"index\": 50, \"conv\": 6.049504950495057, \"perp\": 4388.364623162939, \"coh_cv\": 0.3949750500417742, \"coh_umass\": -6.626886856891808}, {\"index\": 51, \"conv\": 3.5247524752475288, \"perp\": 4387.636529573511, \"coh_cv\": 0.3956205117833332, \"coh_umass\": -6.540202359347381}, {\"index\": 52, \"conv\": 5.039603960396045, \"perp\": 4387.321897936483, \"coh_cv\": 0.3956205117833332, \"coh_umass\": -6.541231554683425}, {\"index\": 53, \"conv\": 5.544554455445551, \"perp\": 4386.994582856329, \"coh_cv\": 0.3956205117833332, \"coh_umass\": -6.541802659907056}, {\"index\": 54, \"conv\": 5.544554455445551, \"perp\": 4386.285771167723, \"coh_cv\": 0.3949750500417742, \"coh_umass\": -6.627214954878764}, {\"index\": 55, \"conv\": 6.039603960396045, \"perp\": 4385.9184904704, \"coh_cv\": 0.3949750500417742, \"coh_umass\": -6.627214954878764}, {\"index\": 56, \"conv\": 12.0, \"perp\": 4385.658111087575, \"coh_cv\": 0.3956205117833332, \"coh_umass\": -6.545142361373292}, {\"index\": 57, \"conv\": 5.039603960396046, \"perp\": 4385.013261336186, \"coh_cv\": 0.3971073065493983, \"coh_umass\": -6.669972803591048}, {\"index\": 58, \"conv\": 11.0, \"perp\": 4385.012936785248, \"coh_cv\": 0.3971073065493983, \"coh_umass\": -6.671085311692172}, {\"index\": 59, \"conv\": 4.53465346534654, \"perp\": 4384.90833414379, \"coh_cv\": 0.3956205117833332, \"coh_umass\": -6.545910354973988}, {\"index\": 60, \"conv\": 7.0, \"perp\": 4384.431290688886, \"coh_cv\": 0.3956205117833332, \"coh_umass\": -6.544821742656443}, {\"index\": 61, \"conv\": 5.0, \"perp\": 4384.125698803636, \"coh_cv\": 0.3971073065493983, \"coh_umass\": -6.669568185507058}, {\"index\": 62, \"conv\": 5.0, \"perp\": 4383.935701396996, \"coh_cv\": 0.3997667952133712, \"coh_umass\": -6.651839226180883}, {\"index\": 63, \"conv\": 6.0, \"perp\": 4383.520426061282, \"coh_cv\": 0.3997667952133712, \"coh_umass\": -6.6525365609810505}, {\"index\": 64, \"conv\": 4.029702970297034, \"perp\": 4383.131365581123, \"coh_cv\": 0.3997667952133712, \"coh_umass\": -6.652621175626289}, {\"index\": 65, \"conv\": 5.544554455445551, \"perp\": 4383.071632984886, \"coh_cv\": 0.39736110996157575, \"coh_umass\": -6.578112641344616}, {\"index\": 66, \"conv\": 4.029702970297034, \"perp\": 4382.713191469409, \"coh_cv\": 0.39736110996157575, \"coh_umass\": -6.581029164364452}, {\"index\": 67, \"conv\": 6.0, \"perp\": 4382.560525156119, \"coh_cv\": 0.3971171466747414, \"coh_umass\": -6.476090575156316}, {\"index\": 68, \"conv\": 9.0, \"perp\": 4382.166016683196, \"coh_cv\": 0.3971171466747414, \"coh_umass\": -6.476595281717489}, {\"index\": 69, \"conv\": 9.0, \"perp\": 4382.157766736377, \"coh_cv\": 0.3971171466747414, \"coh_umass\": -6.475471704084653}, {\"index\": 70, \"conv\": 8.0, \"perp\": 4381.851396440208, \"coh_cv\": 0.3971171466747414, \"coh_umass\": -6.47570546419689}, {\"index\": 71, \"conv\": 4.5346534653465405, \"perp\": 4381.714872504091, \"coh_cv\": 0.4005734723868842, \"coh_umass\": -6.4661834603777875}, {\"index\": 72, \"conv\": 3.0, \"perp\": 4381.592278034248, \"coh_cv\": 0.4005734723868842, \"coh_umass\": -6.4671924998120405}, {\"index\": 73, \"conv\": 7.0, \"perp\": 4381.13886084907, \"coh_cv\": 0.4005734723868842, \"coh_umass\": -6.467598996306819}, {\"index\": 74, \"conv\": 7.0, \"perp\": 4381.101529457608, \"coh_cv\": 0.4005734723868842, \"coh_umass\": -6.468031664998169}, {\"index\": 75, \"conv\": 6.049504950495057, \"perp\": 4380.689390289454, \"coh_cv\": 0.4005734723868842, \"coh_umass\": -6.46590056762259}, {\"index\": 76, \"conv\": 9.0, \"perp\": 4380.64661749573, \"coh_cv\": 0.4005734723868842, \"coh_umass\": -6.466480207222358}, {\"index\": 77, \"conv\": 8.0, \"perp\": 4380.5817734394095, \"coh_cv\": 0.3971171466747414, \"coh_umass\": -6.476732629629903}, {\"index\": 78, \"conv\": 8.0, \"perp\": 4380.384743813892, \"coh_cv\": 0.3971171466747414, \"coh_umass\": -6.475777905347906}]}}, {\"mode\": \"vega-lite\"});\n</script>",
      "text/plain": [
       "alt.Chart(...)"
      ]
     },
     "metadata": {},
     "execution_count": 37
    }
   ],
   "source": [
    "alt.Chart(metrics).mark_line().encode(\n",
    "    x= 'index:O',\n",
    "    y='coh_cv:Q')"
   ]
  },
  {
   "cell_type": "markdown",
   "metadata": {},
   "source": [
    "** **\n",
    "#### Step 8: Visualize Results\n",
    "** **"
   ]
  },
  {
   "cell_type": "code",
   "execution_count": null,
   "metadata": {},
   "outputs": [],
   "source": [
    "num_topics = 20\n",
    "\n",
    "lda_model = gensim.models.LdaModel(corpus=corpus,\n",
    "                                           id2word=id2word,\n",
    "                                           num_topics=num_topics, \n",
    "                                           random_state=100,\n",
    "                                           chunksize=3000,\n",
    "                                           passes=7)\n",
    "                                          #  eval_every=5,callbacks=[convergence_logger, perplexity_logger, coherence_logger,coherence_logger_umass])\n",
    "                                        #    eta=1/num_topics)"
   ]
  },
  {
   "cell_type": "code",
   "execution_count": 180,
   "metadata": {},
   "outputs": [
    {
     "output_type": "display_data",
     "data": {
      "text/plain": "<IPython.core.display.HTML object>",
      "text/html": "<style>.container { max-width:100% !important; }</style>"
     },
     "metadata": {}
    },
    {
     "output_type": "display_data",
     "data": {
      "text/plain": "<IPython.core.display.HTML object>",
      "text/html": "<style>.output_result { max-width:100% !important; }</style>"
     },
     "metadata": {}
    },
    {
     "output_type": "display_data",
     "data": {
      "text/plain": "<IPython.core.display.HTML object>",
      "text/html": "<style>.output_area { max-width:100% !important; }</style>"
     },
     "metadata": {}
    },
    {
     "output_type": "display_data",
     "data": {
      "text/plain": "<IPython.core.display.HTML object>",
      "text/html": "<style>.input_area { max-width:100% !important; }</style>"
     },
     "metadata": {}
    },
    {
     "output_type": "stream",
     "name": "stderr",
     "text": [
      "C:\\ProgramData\\Miniconda3\\lib\\site-packages\\joblib\\numpy_pickle.py:104: DeprecationWarning: tostring() is deprecated. Use tobytes() instead.\n  pickler.file_handle.write(chunk.tostring('C'))\n"
     ]
    }
   ],
   "source": [
    "import pyLDAvis.gensim\n",
    "import pickle \n",
    "import pyLDAvis\n",
    "from IPython.core.display import display, HTML\n",
    "display(HTML(\"<style>.container { max-width:100% !important; }</style>\"))\n",
    "display(HTML(\"<style>.output_result { max-width:100% !important; }</style>\"))\n",
    "display(HTML(\"<style>.output_area { max-width:100% !important; }</style>\"))\n",
    "display(HTML(\"<style>.input_area { max-width:100% !important; }</style>\"))\n",
    "# Visualize the topics\n",
    "pyLDAvis.enable_notebook()\n",
    "num_topics = 28\n",
    "LDAvis_data_filepath = os.path.join('./results/ldavis_tuned_'+str(num_topics))\n",
    "\n",
    "# # this is a bit time consuming - make the if statement True\n",
    "# # if you want to execute visualization prep yourself\n",
    "if 1 == 1:\n",
    "    LDAvis_prepared = pyLDAvis.gensim.prepare(lda_model, corpus, id2word)\n",
    "    with open(LDAvis_data_filepath, 'wb') as f:\n",
    "        pickle.dump(LDAvis_prepared, f)\n",
    "\n",
    "# load the pre-prepared pyLDAvis data from disk\n",
    "with open(LDAvis_data_filepath, 'rb') as f:\n",
    "    LDAvis_prepared = pickle.load(f)\n",
    "\n",
    "pyLDAvis.save_html(LDAvis_prepared, 'results/ldavis_tuned_'+ str(num_topics) +'.html')\n",
    "\n",
    "LDAvis_prepared\n"
   ]
  },
  {
   "cell_type": "code",
   "execution_count": null,
   "metadata": {},
   "outputs": [],
   "source": []
  },
  {
   "cell_type": "markdown",
   "metadata": {},
   "source": [
    "** **\n",
    "#### Closing Notes\n",
    "\n",
    "We started with understanding why evaluating the topic model is essential. Next, we reviewed existing methods and scratched the surface of topic coherence, along with the available coherence measures. Then we built a default LDA model using Gensim implementation to establish the baseline coherence score and reviewed practical ways to optimize the LDA hyperparameters.\n",
    "\n",
    "Hopefully, this article has managed to shed light on the underlying topic evaluation strategies, and intuitions behind it.\n",
    "\n",
    "** **\n",
    "#### References:\n",
    "1. http://qpleple.com/perplexity-to-evaluate-topic-models/\n",
    "2. https://www.amazon.com/Machine-Learning-Probabilistic-Perspective-Computation/dp/0262018020\n",
    "3. https://papers.nips.cc/paper/3700-reading-tea-leaves-how-humans-interpret-topic-models.pdf\n",
    "4. https://github.com/mattilyra/pydataberlin-2017/blob/master/notebook/EvaluatingUnsupervisedModels.ipynb\n",
    "5. https://www.machinelearningplus.com/nlp/topic-modeling-gensim-python/\n",
    "6. http://svn.aksw.org/papers/2015/WSDM_Topic_Evaluation/public.pdf\n",
    "7. http://palmetto.aksw.org/palmetto-webapp/"
   ]
  }
 ],
 "metadata": {
  "kernelspec": {
   "name": "python3",
   "display_name": "Python 3.7.3 64-bit (conda)",
   "metadata": {
    "interpreter": {
     "hash": "ecf5722fdaf1897a315d257d89d94520bfcaa453217d5becf09b39e73618b0de"
    }
   }
  },
  "language_info": {
   "codemirror_mode": {
    "name": "ipython",
    "version": 3
   },
   "file_extension": ".py",
   "mimetype": "text/x-python",
   "name": "python",
   "nbconvert_exporter": "python",
   "pygments_lexer": "ipython3",
   "version": "3.7.3-final"
  }
 },
 "nbformat": 4,
 "nbformat_minor": 4
}