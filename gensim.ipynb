{
 "cells": [
  {
   "cell_type": "code",
   "execution_count": null,
   "metadata": {},
   "outputs": [],
   "source": [
    "# First: pip install wheel\n",
    "\n",
    "# Next: Download Numpy and Scipy form Gholke's repo Numpy and SciPy\n",
    "\n",
    "\n",
    "# Then:\n",
    "\n",
    "# pip install numpy_package.whl\n",
    "\n",
    "# pip install scipy_package.whl"
   ]
  },
  {
   "cell_type": "code",
   "execution_count": 1,
   "metadata": {},
   "outputs": [
    {
     "output_type": "execute_result",
     "data": {
      "text/plain": [
       "'1.6.1'"
      ]
     },
     "metadata": {},
     "execution_count": 1
    }
   ],
   "source": [
    "import scipy\n",
    "scipy.__version__"
   ]
  },
  {
   "cell_type": "code",
   "execution_count": 2,
   "metadata": {},
   "outputs": [],
   "source": [
    "import logging\n",
    "logging.basicConfig(filename='gensim.log',\n",
    "                    format=\"%(asctime)s:%(levelname)s:%(message)s\",\n",
    "                    level=logging.INFO)"
   ]
  },
  {
   "cell_type": "code",
   "execution_count": 3,
   "metadata": {},
   "outputs": [],
   "source": [
    "from pathlib import Path\n",
    "DATA_DIR = Path('./data')\n",
    "def load(filename):\n",
    "    f = open(DATA_DIR/filename,\"rb\")\n",
    "    return pickle.load(f)\n",
    "    \n",
    "def save(data, filename):\n",
    "    with open(DATA_DIR/filename, 'wb') as handle:\n",
    "        pickle.dump(data, handle, protocol=pickle.HIGHEST_PROTOCOL)"
   ]
  },
  {
   "cell_type": "code",
   "execution_count": 4,
   "metadata": {},
   "outputs": [
    {
     "output_type": "stream",
     "name": "stdout",
     "text": [
      "29514\n"
     ]
    }
   ],
   "source": [
    "# Importing modules\n",
    "import pandas as pd\n",
    "import os\n",
    "\n",
    "import pickle\n",
    "file = open(\"moties_processed_df.pickle\",\"rb\")\n",
    "df = pickle.load(file)\n",
    "print(len(df))"
   ]
  },
  {
   "cell_type": "code",
   "execution_count": 23,
   "metadata": {},
   "outputs": [
    {
     "output_type": "stream",
     "name": "stdout",
     "text": [
      "2\nTweede Kamer der Staten-Generaal\nVergaderjaar 2008–2009\n28 625 Herziening van het Gemeenschappelijk\nLandbouwbeleid\nNr. 77 MOTIE VAN DE LEDEN CRAMER EN ATSMA\nVoorgesteld 2 juli 2009\nDe Kamer,\ngehoord de beraadslaging,\nconstaterende, dat in de nationale invulling van de Health Check geld\nvrijgemaakt wordt voor de verduurzaming van stallen, zowel gericht op\ndierenwelzijn als op milieu;\noverwegende, dat met name veehouders rondom Natura 2000-gebieden\nde komende jaren veel zullen moeten investeren in nieuwe of aangepaste\nstallen om de ammoniakemissie terug te kunnen brengen en dus baat\nhebben bij de geboden financiële ondersteuning;\nconstaterende, dat op dit moment de vergunningverlening voor de bouw\nvan nieuwe of aangepaste stallen rondom Natura 2000-gebieden vrijwel\nstilligt en veehouders dus ook geen gebruik kunnen maken van subsidies;\nverzoekt de regering te garanderen dat ook veehouders rondom Natura\n2000-gebieden gebruik kunnen maken van de beschikbare subsidie voor\nverduurzaming van stallen en niet door de huidige problemen met het\nverkrijgen van vergunningen achter het net vissen,\nen gaat over tot de orde van de dag.\nCramer\nAtsma\nKST133144\n0809tkkst28625-77\nISSN0921-7371\nSduUitgevers\nTweede Kamer, vergaderjaar 2008–2009, 28 625, nr. 77\n’s-Gravenhage2009\n"
     ]
    }
   ],
   "source": [
    "import pdfplumber\n",
    "with pdfplumber.open('pdf/'+df.iloc[1000]['doc_Id']+'.pdf') as pdf:\n",
    "    first_page = pdf.pages[0]\n",
    "    print(first_page.extract_text(x_tolerance=2, y_tolerance=3))"
   ]
  },
  {
   "cell_type": "code",
   "execution_count": 20,
   "metadata": {},
   "outputs": [
    {
     "output_type": "execute_result",
     "data": {
      "text/plain": [
       "\"200923 432De situatie in het MiddenOosten2 ,constaterende, dat Nederland en Denemarken binnen de Europese Unie een voorstel hebben gedaan voor een effectief grenstoezicht op de GazaansEgyptische grens;overwegende, dat een dergelijk grenstoezicht de invoer van humanitaire hulp en normale goederen mogelijk kan maken en kan voorkomen dat Hamas zich via de grens herbewapent;verzoekt de regering bij het uitwerken van dit initiatief, voorstellen te doen voor een stevige opdracht, omvang en mandaat van een dergelijk (militair) grenstoezicht, opdat deze daadwerkelijk effectief kan zorg dragen voor humanitaire hulp en ontwapening,en gaat over tot de orde van de dag.PechtoldKST127027 0809tkkst23432268 ISSN 0921  7371 Sdu Uitgevers 'sGravenhage 2009Tweede Kamer, vergaderjaar 20082009, 23 432, nr. 268\\x0c\""
      ]
     },
     "metadata": {},
     "execution_count": 20
    }
   ],
   "source": [
    "df.iloc[0]['Text_processed']"
   ]
  },
  {
   "cell_type": "code",
   "execution_count": null,
   "metadata": {},
   "outputs": [],
   "source": [
    "df = df['Text_processed'].reset_index()\n",
    "df.head()"
   ]
  },
  {
   "cell_type": "code",
   "execution_count": 175,
   "metadata": {},
   "outputs": [
    {
     "output_type": "stream",
     "name": "stderr",
     "text": [
      "<>:5: DeprecationWarning: invalid escape sequence \\.\n<>:5: DeprecationWarning: invalid escape sequence \\.\n<ipython-input-175-d1d71bc05f78>:5: DeprecationWarning: invalid escape sequence \\.\n  df['Text_processed'] = df['Text_processed'].map(lambda x: re.sub('[,\\.!?]', '', x))\n"
     ]
    },
    {
     "output_type": "execute_result",
     "data": {
      "text/plain": [
       "\"200923 432de situatie in het middenoosten2 constaterende dat nederland en denemarken binnen de europese unie een voorstel hebben gedaan voor een effectief grenstoezicht op de gazaansegyptische grens;overwegende dat een dergelijk grenstoezicht de invoer van humanitaire hulp en normale goederen mogelijk kan maken en kan voorkomen dat hamas zich via de grens herbewapent;verzoekt de regering bij het uitwerken van dit initiatief voorstellen te doen voor een stevige opdracht omvang en mandaat van een dergelijk (militair) grenstoezicht opdat deze daadwerkelijk effectief kan zorg dragen voor humanitaire hulp en ontwapeningen gaat over tot de orde van de dagpechtoldkst127027 0809tkkst23432268 issn 0921  7371 sdu uitgevers 'sgravenhage 2009tweede kamer vergaderjaar 20082009 23 432 nr 268\\x0c\""
      ]
     },
     "metadata": {},
     "execution_count": 175
    }
   ],
   "source": [
    "# https://github.com/kapadias/mediumposts/blob/master/natural_language_processing/topic_modeling/notebooks/Evaluate%20Topic%20Models.ipynb\n",
    "\n",
    "import re\n",
    "# Remove punctuation\n",
    "df['Text_processed'] = df['Text_processed'].map(lambda x: re.sub('[,\\.!?]', '', x))\n",
    "\n",
    "# Convert the titles to lowercase\n",
    "df['Text_processed'] = df['Text_processed'].map(lambda x: x.lower())\n",
    "\n",
    "# Print out the first rows of papers\n",
    "df['Text_processed'][0]"
   ]
  },
  {
   "cell_type": "code",
   "execution_count": 5,
   "metadata": {},
   "outputs": [
    {
     "output_type": "execute_result",
     "data": {
      "text/plain": [
       "\"200923 432de situatie in het middenoosten2 constaterende dat nederland en denemarken binnen de europese unie een voorstel hebben gedaan voor een effectief grenstoezicht op de gazaansegyptische grens;overwegende dat een dergelijk grenstoezicht de invoer van humanitaire hulp en normale goederen mogelijk kan maken en kan voorkomen dat hamas zich via de grens herbewapent;verzoekt de regering bij het uitwerken van dit initiatief voorstellen te doen voor een stevige opdracht omvang en mandaat van een dergelijk (militair) grenstoezicht opdat deze daadwerkelijk effectief kan zorg dragen voor humanitaire hulp en ontwapeningen gaat over tot de orde van de dagpechtoldkst127027 0809tkkst23432268 issn 0921  7371 sdu uitgevers 'sgravenhage 2009tweede kamer vergaderjaar 20082009 23 432 nr 268\\x0c\""
      ]
     },
     "metadata": {},
     "execution_count": 5
    }
   ],
   "source": []
  },
  {
   "cell_type": "code",
   "execution_count": 176,
   "metadata": {},
   "outputs": [
    {
     "output_type": "stream",
     "name": "stdout",
     "text": [
      "['de', 'situatie', 'in', 'het', 'middenoosten', 'constaterende', 'dat', 'nederland', 'en', 'denemarken', 'binnen', 'de', 'europese', 'unie', 'een', 'voorstel', 'hebben', 'gedaan', 'voor', 'een', 'effectief', 'grenstoezicht', 'op', 'de', 'grens', 'overwegende', 'dat', 'een', 'dergelijk', 'grenstoezicht', 'de', 'invoer', 'van', 'humanitaire', 'hulp', 'en', 'normale', 'goederen', 'mogelijk', 'kan', 'maken', 'en', 'kan', 'voorkomen', 'dat', 'hamas', 'zich', 'via', 'de', 'grens', 'herbewapent', 'verzoekt', 'de', 'regering', 'bij', 'het', 'uitwerken', 'van', 'dit', 'initiatief', 'voorstellen', 'te', 'doen', 'voor', 'een', 'stevige', 'opdracht', 'omvang', 'en', 'mandaat', 'van', 'een', 'dergelijk', 'militair', 'grenstoezicht', 'opdat', 'deze', 'daadwerkelijk', 'effectief', 'kan', 'zorg', 'dragen', 'voor', 'humanitaire', 'hulp', 'en', 'ontwapeningen', 'gaat', 'over', 'tot']\n"
     ]
    }
   ],
   "source": [
    "import gensim\n",
    "from gensim.utils import simple_preprocess\n",
    "\n",
    "def sent_to_words(sentences):\n",
    "    for sentence in sentences:\n",
    "        yield(gensim.utils.simple_preprocess(str(sentence), deacc=True))  # deacc=True removes punctuations\n",
    "\n",
    "data = df['Text_processed'].values.tolist()\n",
    "data_words = list(sent_to_words(data))\n",
    "\n",
    "print(data_words[:1][0][:90])"
   ]
  },
  {
   "cell_type": "code",
   "execution_count": 177,
   "metadata": {},
   "outputs": [],
   "source": [
    "# Build the bigram and trigram models\n",
    "bigram = gensim.models.Phrases(data_words, min_count=20, threshold=100) # higher threshold fewer phrases.\n",
    "trigram = gensim.models.Phrases(bigram[data_words], min_count=20, threshold=100)  \n",
    "\n",
    "# Faster way to get a sentence clubbed as a trigram/bigram\n",
    "bigram_mod = gensim.models.phrases.Phraser(bigram)\n",
    "trigram_mod = gensim.models.phrases.Phraser(trigram)"
   ]
  },
  {
   "cell_type": "code",
   "execution_count": 178,
   "metadata": {},
   "outputs": [
    {
     "output_type": "stream",
     "name": "stderr",
     "text": [
      "[nltk_data] Downloading package stopwords to\n[nltk_data]     C:\\Users\\Jesse\\AppData\\Roaming\\nltk_data...\n[nltk_data]   Package stopwords is already up-to-date!\n"
     ]
    }
   ],
   "source": [
    "# NLTK Stop words\n",
    "import nltk\n",
    "nltk.download('stopwords')\n",
    "from nltk.corpus import stopwords\n",
    "\n",
    "stop_words = stopwords.words('dutch')\n",
    "stop_words.extend(['from', 'subject', 're', 'edu', 'use'])"
   ]
  },
  {
   "cell_type": "code",
   "execution_count": 179,
   "metadata": {},
   "outputs": [],
   "source": [
    "# Define functions for stopwords, bigrams, trigrams and lemmatization\n",
    "def remove_stopwords(texts):\n",
    "    return [[word for word in simple_preprocess(str(doc)) if word not in stop_words] for doc in texts]\n",
    "\n",
    "def make_bigrams(texts):\n",
    "    return [bigram_mod[doc] for doc in texts]\n",
    "\n",
    "def make_trigrams(texts):\n",
    "    return [trigram_mod[bigram_mod[doc]] for doc in texts]\n",
    "\n",
    "def lemmatization(texts, allowed_postags=['NOUN', 'ADJ', 'VERB', 'ADV']):\n",
    "    \"\"\"https://spacy.io/api/annotation\"\"\"\n",
    "    texts_out = []\n",
    "    for sent in texts:\n",
    "        doc = nlp(\" \".join(sent)) \n",
    "        texts_out.append([token.lemma_ for token in doc if token.pos_ in allowed_postags])\n",
    "    return texts_out"
   ]
  },
  {
   "cell_type": "code",
   "execution_count": 180,
   "metadata": {},
   "outputs": [
    {
     "output_type": "stream",
     "name": "stdout",
     "text": [
      "Requirement already satisfied: nl_core_news_sm==2.1.0 from https://github.com/explosion/spacy-models/releases/download/nl_core_news_sm-2.1.0/nl_core_news_sm-2.1.0.tar.gz#egg=nl_core_news_sm==2.1.0 in c:\\programdata\\miniconda3\\lib\\site-packages (2.1.0)\n✔ Download and installation successful\nYou can now load the model via spacy.load('nl_core_news_sm')\n"
     ]
    }
   ],
   "source": [
    "!python -m spacy download nl_core_news_sm"
   ]
  },
  {
   "cell_type": "code",
   "execution_count": 181,
   "metadata": {},
   "outputs": [
    {
     "output_type": "stream",
     "name": "stdout",
     "text": [
      "['situatie', 'middenoosten', 'constateren', 'nederland', 'denemarken', 'voorstel', 'doen', 'effectief', 'grenstoezicht', 'grens', 'overwegen', 'grenstoezicht', 'invoer', 'normaal', 'goed', 'mogelijk', 'maken', 'voorkomen', 'hama', 'grens', 'herbewapenen', 'verzoeken', 'regering', 'uitwerken', 'initiatief', 'voorstel', 'stevig', 'opdracht', 'omvang', 'mandaat']\n"
     ]
    }
   ],
   "source": [
    "import spacy\n",
    "\n",
    "# Remove Stop Words\n",
    "data_words_nostops = remove_stopwords(data_words)\n",
    "\n",
    "# Form Bigrams\n",
    "data_words_bigrams = make_bigrams(data_words_nostops)\n",
    "\n",
    "# Initialize spacy 'en' model, keeping only tagger component (for efficiency)\n",
    "nlp = spacy.load(\"nl_core_news_sm\", disable=['parser', 'ner'])\n",
    "\n",
    "# Do lemmatization keeping only noun, adj, vb, adv\n",
    "data_lemmatized = lemmatization(data_words_bigrams, allowed_postags=['NOUN', 'ADJ', 'VERB', 'ADV'])\n",
    "\n",
    "print(data_lemmatized[:1][0][:30])"
   ]
  },
  {
   "cell_type": "markdown",
   "metadata": {},
   "source": [
    "** **\n",
    "#### Step 4: Data transformation: Corpus and Dictionary\n",
    "** **\n",
    "\n",
    "The two main inputs to the LDA topic model are the dictionary(id2word) and the corpus. Let’s create them."
   ]
  },
  {
   "cell_type": "code",
   "execution_count": 182,
   "metadata": {},
   "outputs": [
    {
     "output_type": "stream",
     "name": "stdout",
     "text": [
      "len of dictionary before pruning\t:  45959\n",
      "len of dictionary after pruning\t:  24238\n",
      "example from id2word dict:\t 21179 reisvergoeding\n",
      "example document translated into bag of words  [(0, 1), (1, 1), (2, 1), (3, 2), (4, 3), (5, 1), (6, 1), (7, 1), (8, 1), (9, 1), (10, 1), (11, 1), (12, 1), (13, 1), (14, 1), (15, 1), (16, 1)]\n"
     ]
    }
   ],
   "source": [
    "import gensim.corpora as corpora\n",
    "\n",
    "# Create Dictionary\n",
    "id2word = corpora.Dictionary(data_lemmatized)\n",
    "import random\n",
    "\n",
    "\n",
    "print('len of dictionary before pruning\\t: ', len(id2word))\n",
    "id2word.filter_extremes(no_below=2, no_above=0.02) #minimally 10 occurrences and not in more than 50% of documents\n",
    "print('len of dictionary after pruning\\t: ',len(id2word))\n",
    "r = random.choice(id2word.keys())\n",
    "print('example from id2word dict:\\t', r, id2word[r])\n",
    "\n",
    "\n",
    "# Create Corpus\n",
    "texts = data_lemmatized\n",
    "# Term Document Frequency\n",
    "corpus = [id2word.doc2bow(text) for text in texts]\n",
    "\n",
    "# View\n",
    "print('example document translated into bag of words ', corpus[:1][0][:30])\n",
    "\n",
    "texts = [[id2word[word_id] for word_id, freq in doc] for doc in corpus]"
   ]
  },
  {
   "cell_type": "code",
   "execution_count": 183,
   "metadata": {},
   "outputs": [],
   "source": [
    "# save((id2word, corpus, texts), 'corpus_dict_texts_full')"
   ]
  },
  {
   "cell_type": "code",
   "execution_count": 185,
   "metadata": {},
   "outputs": [],
   "source": [
    "id2word, corpus, texts = load('corpus_dict_texts_full')"
   ]
  },
  {
   "cell_type": "code",
   "execution_count": 200,
   "metadata": {},
   "outputs": [
    {
     "output_type": "execute_result",
     "data": {
      "text/plain": [
       "array(['2018Z04675',\n",
       "       \"201831 311zelfstandig ondernemerschap2 overwegende dat de beschikbaarheid van risicokapitaal voor snel doorgroeiende en innovatieve ondernemingen de afgelopen jaren beperkt was als gevolg van de economische en financiële crisis;overwegende dat er momenteel geen sprake meer is van een investeringskloof op het gebied van private equity en dat de kloof op het gebied van risicokapitaal steeds kleiner wordt;overwegende dat het ministerie van economische zaken en klimaat diverse investeringsactiviteiten op de markt heeft ondanks het grote aantal private spelers op deze markt en de veranderende marktomstandigheden;verzoekt de regering om een onderzoek te laten uitvoeren naar nut en noodzaak van de door het ministerie van ezk beheerde investeringsactiviteiten;verzoekt de regering voorts daarbij in beeld te brengen welke activiteiten kunnen worden overgedragen aan marktpartijen of waarvan de deelname van het ministerie kan worden afgebouwden gaat over tot de orde van de dagpaternotte wörsdörfer van der leekst31311200 issn 0921  7371 'sgravenhage 2018tweede kamer vergaderjaar 20172018 31 311 nr 200\\x0c\"],\n",
       "      dtype=object)"
      ]
     },
     "metadata": {},
     "execution_count": 200
    }
   ],
   "source": [
    "df.iloc[20000].values"
   ]
  },
  {
   "cell_type": "code",
   "execution_count": 201,
   "metadata": {},
   "outputs": [
    {
     "output_type": "execute_result",
     "data": {
      "text/plain": [
       "['crisis',\n",
       " 'markt',\n",
       " 'momenteel',\n",
       " 'noodzaak',\n",
       " 'waarvan',\n",
       " 'onderneming',\n",
       " 'klimaat',\n",
       " 'privaat',\n",
       " 'veranderen',\n",
       " 'innovatief',\n",
       " 'beheren',\n",
       " 'overdragen',\n",
       " 'afgelopen_jar',\n",
       " 'private',\n",
       " 'beeld',\n",
       " 'activiteit',\n",
       " 'nut',\n",
       " 'deelname',\n",
       " 'zelfstandig_ondernemerschap',\n",
       " 'kloof',\n",
       " 'marktpartij',\n",
       " 'beschikbaarheid',\n",
       " 'afgebouwden',\n",
       " 'speler',\n",
       " 'doorgroeien',\n",
       " 'dagpaternoten',\n",
       " 'leekst',\n",
       " 'ezk',\n",
       " 'worsdorfer',\n",
       " 'risicokapitaal']"
      ]
     },
     "metadata": {},
     "execution_count": 201
    }
   ],
   "source": [
    "texts[20000]"
   ]
  },
  {
   "cell_type": "markdown",
   "metadata": {},
   "source": [
    "** **\n",
    "#### Step 5: Base Model \n",
    "** **\n",
    "\n",
    "We have everything required to train the base LDA model. In addition to the corpus and dictionary, you need to provide the number of topics as well. Apart from that, alpha and eta are hyperparameters that affect sparsity of the topics. According to the Gensim docs, both defaults to 1.0/num_topics prior (we'll use default for the base model).\n",
    "\n",
    "chunksize controls how many documents are processed at a time in the training algorithm. Increasing chunksize will speed up training, at least as long as the chunk of documents easily fit into memory.\n",
    "\n",
    "passes controls how often we train the model on the entire corpus (set to 10). Another word for passes might be \"epochs\". iterations is somewhat technical, but essentially it controls how often we repeat a particular loop over each document. It is important to set the number of \"passes\" and \"iterations\" high enough."
   ]
  },
  {
   "cell_type": "code",
   "execution_count": 53,
   "metadata": {},
   "outputs": [],
   "source": [
    "# Build LDA model\n",
    "lda_model = gensim.models.LdaMulticore(corpus=corpus,\n",
    "                                       id2word=id2word,\n",
    "                                       num_topics=10, \n",
    "                                       random_state=100,\n",
    "                                       chunksize=100,\n",
    "                                       passes=10,\n",
    "                                       per_word_topics=True)"
   ]
  },
  {
   "cell_type": "markdown",
   "metadata": {},
   "source": [
    "** **\n",
    "The above LDA model is built with 10 different topics where each topic is a combination of keywords and each keyword contributes a certain weightage to the topic.\n",
    "\n",
    "You can see the keywords for each topic and the weightage(importance) of each keyword using `lda_model.print_topics()`"
   ]
  },
  {
   "cell_type": "code",
   "execution_count": 54,
   "metadata": {},
   "outputs": [
    {
     "output_type": "stream",
     "name": "stdout",
     "text": [
      "[(0,\n  '0.065*\"xvi\" + 0.043*\"jaar\" + 0.042*\"orde\" + 0.038*\"ministerie\" + '\n  '0.033*\"xvivaststelling\" + 0.033*\"sport\" + 0.033*\"volksgezondheid\" + '\n  '0.028*\"risico\" + 0.028*\"zorg\" + 0.022*\"mening\"'),\n (1,\n  '0.070*\"ziekenhuis\" + 0.058*\"constateren\" + 0.034*\"nederland\" + '\n  '0.032*\"stellen\" + 0.030*\"bevolking\" + 0.030*\"algemeen\" + 0.030*\"vlissing\" + '\n  '0.026*\"hama\" + 0.024*\"middel\" + 0.024*\"positionering\"'),\n (2,\n  '0.113*\"israel\" + 0.088*\"constateren\" + 0.056*\"situatie\" + '\n  '0.051*\"middenoosten\" + 0.049*\"hama\" + 0.045*\"europees\" + 0.035*\"gaza\" + '\n  '0.025*\"nederland\" + 0.024*\"relatie\" + 0.024*\"gebruiken\"'),\n (3,\n  '0.061*\"mening\" + 0.038*\"toelating\" + 0.038*\"constateren\" + 0.029*\"dagvan\" + '\n  '0.027*\"maand\" + 0.026*\"nederlands\" + 0.025*\"bestaan\" + 0.025*\"recht\" + '\n  '0.024*\"kabinet\" + 0.023*\"maken\"'),\n (4,\n  '0.050*\"humanitair\" + 0.048*\"situatie\" + 0.040*\"internationaal\" + '\n  '0.039*\"hulp\" + 0.036*\"middenoosten\" + 0.036*\"geweld\" + 0.034*\"gaza\" + '\n  '0.029*\"mogelijk\" + 0.028*\"mening\" + 0.027*\"hama\"'),\n (5,\n  '0.084*\"artikel\" + 0.062*\"constateren\" + 0.049*\"vi\" + 0.041*\"nederlander\" + '\n  '0.033*\"strafrecht\" + 0.033*\"wetboek\" + 0.025*\"willen\" + 0.025*\"zien\" + '\n  '0.025*\"jaar\" + 0.024*\"ministerie\"'),\n (6,\n  '0.046*\"deel\" + 0.046*\"nemen\" + 0.046*\"defensie\" + 0.043*\"tijd\" + '\n  '0.025*\"dagvan\" + 0.024*\"tkkst\" + 0.024*\"mogelijk\" + 0.024*\"staan\" + '\n  '0.024*\"gent\" + 0.024*\"belang\"'),\n (7,\n  '0.069*\"constateren\" + 0.032*\"wijziging\" + 0.030*\"ing\" + 0.028*\"europees\" + '\n  '0.027*\"persoon\" + 0.027*\"kredietcrisis\" + 0.025*\"nederlands\" + 0.025*\"orde\" '\n  '+ 0.023*\"staan\" + 0.022*\"financiel\"'),\n (8,\n  '0.061*\"nieuw\" + 0.048*\"constateren\" + 0.032*\"ovchipkaart\" + '\n  '0.027*\"openbaar\" + 0.027*\"vervoer\" + 0.027*\"aanpak\" + 0.027*\"geven\" + '\n  '0.023*\"goed\" + 0.023*\"moeten\" + 0.022*\"regio\"'),\n (9,\n  '0.053*\"orde\" + 0.039*\"vi\" + 0.038*\"dagen\" + 0.035*\"tkkst\" + 0.033*\"komen\" + '\n  '0.030*\"defensie\" + 0.024*\"roonk\" + 0.024*\"samenleving\" + 0.024*\"veilig\" + '\n  '0.023*\"ministerie\"')]\n"
     ]
    }
   ],
   "source": [
    "from pprint import pprint\n",
    "\n",
    "# Print the Keyword in the 10 topics\n",
    "pprint(lda_model.print_topics())\n",
    "doc_lda = lda_model[corpus]"
   ]
  },
  {
   "cell_type": "markdown",
   "metadata": {},
   "source": [
    "#### Compute Model Perplexity and Coherence Score\n",
    "\n",
    "Let's calculate the baseline coherence score"
   ]
  },
  {
   "cell_type": "code",
   "execution_count": 57,
   "metadata": {},
   "outputs": [
    {
     "output_type": "stream",
     "name": "stdout",
     "text": [
      "Coherence Score:  0.3443799985335936\n"
     ]
    }
   ],
   "source": [
    "from gensim.models import CoherenceModel\n",
    "\n",
    "# Compute Coherence Score\n",
    "coherence_model_lda = CoherenceModel(model=lda_model, texts=data_lemmatized, dictionary=id2word, coherence='c_v')\n",
    "coherence_lda = coherence_model_lda.get_coherence()\n",
    "print('Coherence Score: ', coherence_lda)"
   ]
  },
  {
   "cell_type": "markdown",
   "metadata": {},
   "source": [
    "** **\n",
    "#### Step 6: Hyperparameter tuning\n",
    "** **\n",
    "First, let's differentiate between model hyperparameters and model parameters :\n",
    "\n",
    "- `Model hyperparameters` can be thought of as settings for a machine learning algorithm that are tuned by the data scientist before training. Examples would be the number of trees in the random forest, or in our case, number of topics K\n",
    "\n",
    "- `Model parameters` can be thought of as what the model learns during training, such as the weights for each word in a given topic.\n",
    "\n",
    "Now that we have the baseline coherence score for the default LDA model, let's perform a series of sensitivity tests to help determine the following model hyperparameters: \n",
    "- Number of Topics (K)\n",
    "- Dirichlet hyperparameter alpha: Document-Topic Density\n",
    "- Dirichlet hyperparameter beta: Word-Topic Density\n",
    "\n",
    "We'll perform these tests in sequence, one parameter at a time by keeping others constant and run them over the two difference validation corpus sets. We'll use `C_v` as our choice of metric for performance comparison "
   ]
  },
  {
   "cell_type": "code",
   "execution_count": 59,
   "metadata": {},
   "outputs": [],
   "source": [
    "# supporting function\n",
    "def compute_coherence_values(corpus, dictionary, k, a, b):\n",
    "    \n",
    "    lda_model = gensim.models.LdaMulticore(corpus=corpus,\n",
    "                                           id2word=dictionary,\n",
    "                                           num_topics=k, \n",
    "                                           random_state=100,\n",
    "                                           chunksize=100,\n",
    "                                           passes=10,\n",
    "                                           alpha='auto')\n",
    "                                        #    eta=b)\n",
    "    \n",
    "    coherence_model_lda = CoherenceModel(model=lda_model, texts=data_lemmatized, dictionary=id2word, coherence='u_mass')\n",
    "    \n",
    "    return coherence_model_lda.get_coherence()"
   ]
  },
  {
   "cell_type": "markdown",
   "metadata": {},
   "source": [
    "Let's call the function, and iterate it over the range of topics, alpha, and beta parameter values"
   ]
  },
  {
   "cell_type": "code",
   "execution_count": 60,
   "metadata": {},
   "outputs": [
    {
     "output_type": "error",
     "ename": "NameError",
     "evalue": "name 'np' is not defined",
     "traceback": [
      "\u001b[1;31m---------------------------------------------------------------------------\u001b[0m",
      "\u001b[1;31mNameError\u001b[0m                                 Traceback (most recent call last)",
      "\u001b[1;32m<ipython-input-60-da7d2f4fef4c>\u001b[0m in \u001b[0;36m<module>\u001b[1;34m\u001b[0m\n\u001b[1;32m----> 1\u001b[1;33m \u001b[0malpha\u001b[0m \u001b[1;33m=\u001b[0m \u001b[0mlist\u001b[0m\u001b[1;33m(\u001b[0m\u001b[0mnp\u001b[0m\u001b[1;33m.\u001b[0m\u001b[0marange\u001b[0m\u001b[1;33m(\u001b[0m\u001b[1;36m0.01\u001b[0m\u001b[1;33m,\u001b[0m \u001b[1;36m1\u001b[0m\u001b[1;33m,\u001b[0m \u001b[1;36m0.3\u001b[0m\u001b[1;33m)\u001b[0m\u001b[1;33m)\u001b[0m\u001b[1;33m\u001b[0m\u001b[1;33m\u001b[0m\u001b[0m\n\u001b[0m\u001b[0;32m      2\u001b[0m \u001b[0malpha\u001b[0m\u001b[1;33m.\u001b[0m\u001b[0mappend\u001b[0m\u001b[1;33m(\u001b[0m\u001b[1;34m'symmetric'\u001b[0m\u001b[1;33m)\u001b[0m\u001b[1;33m\u001b[0m\u001b[1;33m\u001b[0m\u001b[0m\n\u001b[0;32m      3\u001b[0m \u001b[0malpha\u001b[0m\u001b[1;33m.\u001b[0m\u001b[0mappend\u001b[0m\u001b[1;33m(\u001b[0m\u001b[1;34m'asymmetric'\u001b[0m\u001b[1;33m)\u001b[0m\u001b[1;33m\u001b[0m\u001b[1;33m\u001b[0m\u001b[0m\n\u001b[0;32m      4\u001b[0m \u001b[0malpha\u001b[0m\u001b[1;33m\u001b[0m\u001b[1;33m\u001b[0m\u001b[0m\n",
      "\u001b[1;31mNameError\u001b[0m: name 'np' is not defined"
     ]
    }
   ],
   "source": [
    "alpha = list(np.arange(0.01, 1, 0.3))\n",
    "alpha.append('symmetric')\n",
    "alpha.append('asymmetric')\n",
    "alpha"
   ]
  },
  {
   "cell_type": "code",
   "execution_count": 28,
   "metadata": {},
   "outputs": [
    {
     "output_type": "stream",
     "name": "stderr",
     "text": [
      "\n",
      "\n",
      "\n",
      "  0%|          | 0/2 [00:00<?, ?it/s]\u001b[A\u001b[A\u001b[A\n",
      "\n",
      "\n",
      " 50%|█████     | 1/2 [00:45<00:45, 45.78s/it]\u001b[A\u001b[A\u001b[A\n",
      "\n",
      "\n",
      "100%|██████████| 2/2 [01:29<00:00, 45.24s/it]\u001b[A\u001b[A\u001b[A"
     ]
    },
    {
     "output_type": "error",
     "ename": "IndexError",
     "evalue": "list index out of range",
     "traceback": [
      "\u001b[1;31m---------------------------------------------------------------------------\u001b[0m",
      "\u001b[1;31mIndexError\u001b[0m                                Traceback (most recent call last)",
      "\u001b[1;32m<ipython-input-28-b722f19aaa24>\u001b[0m in \u001b[0;36m<module>\u001b[1;34m\u001b[0m\n\u001b[0;32m     49\u001b[0m                                             k=k, a=a, b=b)\n\u001b[0;32m     50\u001b[0m             \u001b[1;31m# Save the model results\u001b[0m\u001b[1;33m\u001b[0m\u001b[1;33m\u001b[0m\u001b[1;33m\u001b[0m\u001b[0m\n\u001b[1;32m---> 51\u001b[1;33m             \u001b[0mmodel_results\u001b[0m\u001b[1;33m[\u001b[0m\u001b[1;34m'Validation_Set'\u001b[0m\u001b[1;33m]\u001b[0m\u001b[1;33m.\u001b[0m\u001b[0mappend\u001b[0m\u001b[1;33m(\u001b[0m\u001b[0mcorpus_title\u001b[0m\u001b[1;33m[\u001b[0m\u001b[0mi\u001b[0m\u001b[1;33m]\u001b[0m\u001b[1;33m)\u001b[0m\u001b[1;33m\u001b[0m\u001b[1;33m\u001b[0m\u001b[0m\n\u001b[0m\u001b[0;32m     52\u001b[0m             \u001b[0mmodel_results\u001b[0m\u001b[1;33m[\u001b[0m\u001b[1;34m'Topics'\u001b[0m\u001b[1;33m]\u001b[0m\u001b[1;33m.\u001b[0m\u001b[0mappend\u001b[0m\u001b[1;33m(\u001b[0m\u001b[0mk\u001b[0m\u001b[1;33m)\u001b[0m\u001b[1;33m\u001b[0m\u001b[1;33m\u001b[0m\u001b[0m\n\u001b[0;32m     53\u001b[0m             \u001b[0mmodel_results\u001b[0m\u001b[1;33m[\u001b[0m\u001b[1;34m'Alpha'\u001b[0m\u001b[1;33m]\u001b[0m\u001b[1;33m.\u001b[0m\u001b[0mappend\u001b[0m\u001b[1;33m(\u001b[0m\u001b[0ma\u001b[0m\u001b[1;33m)\u001b[0m\u001b[1;33m\u001b[0m\u001b[1;33m\u001b[0m\u001b[0m\n",
      "\u001b[1;31mIndexError\u001b[0m: list index out of range"
     ]
    }
   ],
   "source": [
    "import numpy as np\n",
    "import tqdm\n",
    "\n",
    "grid = {}\n",
    "grid['Validation_Set'] = {}\n",
    "\n",
    "# Topics range\n",
    "min_topics = 20\n",
    "max_topics = 23\n",
    "step_size = 2\n",
    "topics_range = range(min_topics, max_topics, step_size)\n",
    "\n",
    "# Alpha parameter\n",
    "alpha = list(np.arange(0.01, 1, 0.3))\n",
    "alpha.append('symmetric')\n",
    "alpha.append('asymmetric')\n",
    "\n",
    "# Beta parameter\n",
    "beta = list(np.arange(0.01, 1, 0.3))\n",
    "beta.append('symmetric')\n",
    "\n",
    "# Validation sets\n",
    "num_of_docs = len(corpus)\n",
    "corpus_sets = [gensim.utils.ClippedCorpus(corpus, int(num_of_docs*0.75)), \n",
    "               corpus]\n",
    "\n",
    "corpus_title = ['75% Corpus', '100% Corpus']\n",
    "corpus_title = ['75% Corpus']\n",
    "\n",
    "model_results = {'Validation_Set': [],\n",
    "                 'Topics': [],\n",
    "                 'Alpha': [],\n",
    "                 'Beta': [],\n",
    "                 'Coherence': []\n",
    "                }\n",
    "\n",
    "# Can take a long time to run\n",
    "if 1 == 1:\n",
    "    pbar = tqdm.tqdm(total=(len(topics_range)*len(corpus_title)))\n",
    "    \n",
    "    # iterate through validation corpuses\n",
    "    for i in range(len(corpus_sets)):\n",
    "        # iterate through number of topics\n",
    "        for k in topics_range:\n",
    "            a = 50 / k\n",
    "            b = 0.1\n",
    "            # get the coherence score for the given parameters\n",
    "            cv = compute_coherence_values(corpus=corpus_sets[i], dictionary=id2word, \n",
    "                                            k=k, a=a, b=b)\n",
    "            # Save the model results\n",
    "            model_results['Validation_Set'].append(corpus_title[i])\n",
    "            model_results['Topics'].append(k)\n",
    "            model_results['Alpha'].append(a)\n",
    "            model_results['Beta'].append(b)\n",
    "            model_results['Coherence'].append(cv)\n",
    "            \n",
    "            pbar.update(1)\n",
    "    pd.DataFrame(model_results).to_csv('lda_tuning_results.csv', index=False)\n",
    "    pbar.close()"
   ]
  },
  {
   "cell_type": "code",
   "execution_count": 27,
   "metadata": {},
   "outputs": [
    {
     "output_type": "execute_result",
     "data": {
      "text/plain": [
       "Empty DataFrame\n",
       "Columns: [Validation_Set, Topics, Alpha, Beta, Coherence]\n",
       "Index: []"
      ],
      "text/html": "<div>\n<style scoped>\n    .dataframe tbody tr th:only-of-type {\n        vertical-align: middle;\n    }\n\n    .dataframe tbody tr th {\n        vertical-align: top;\n    }\n\n    .dataframe thead th {\n        text-align: right;\n    }\n</style>\n<table border=\"1\" class=\"dataframe\">\n  <thead>\n    <tr style=\"text-align: right;\">\n      <th></th>\n      <th>Validation_Set</th>\n      <th>Topics</th>\n      <th>Alpha</th>\n      <th>Beta</th>\n      <th>Coherence</th>\n    </tr>\n  </thead>\n  <tbody>\n  </tbody>\n</table>\n</div>"
     },
     "metadata": {},
     "execution_count": 27
    }
   ],
   "source": [
    "pd.DataFrame(model_results)"
   ]
  },
  {
   "cell_type": "code",
   "execution_count": null,
   "metadata": {},
   "outputs": [],
   "source": [
    "# import numpy as np\n",
    "# import tqdm\n",
    "\n",
    "# grid = {}\n",
    "# grid['Validation_Set'] = {}\n",
    "\n",
    "# # Topics range\n",
    "# min_topics = 2\n",
    "# max_topics = 11\n",
    "# step_size = 1\n",
    "# topics_range = range(min_topics, max_topics, step_size)\n",
    "\n",
    "# # Alpha parameter\n",
    "# alpha = list(np.arange(0.01, 1, 0.3))\n",
    "# alpha.append('symmetric')\n",
    "# alpha.append('asymmetric')\n",
    "\n",
    "# # Beta parameter\n",
    "# beta = list(np.arange(0.01, 1, 0.3))\n",
    "# beta.append('symmetric')\n",
    "\n",
    "# # Validation sets\n",
    "# num_of_docs = len(corpus)\n",
    "# corpus_sets = [gensim.utils.ClippedCorpus(corpus, int(num_of_docs*0.75)), \n",
    "#                corpus]\n",
    "\n",
    "# corpus_title = ['75% Corpus', '100% Corpus']\n",
    "\n",
    "# model_results = {'Validation_Set': [],\n",
    "#                  'Topics': [],\n",
    "#                  'Alpha': [],\n",
    "#                  'Beta': [],\n",
    "#                  'Coherence': []\n",
    "#                 }\n",
    "\n",
    "# # Can take a long time to run\n",
    "# if 1 == 1:\n",
    "#     pbar = tqdm.tqdm(total=(len(beta)*len(alpha)*len(topics_range)*len(corpus_title)))\n",
    "    \n",
    "#     # iterate through validation corpuses\n",
    "#     for i in range(len(corpus_sets)):\n",
    "#         # iterate through number of topics\n",
    "#         for k in topics_range:\n",
    "#             # iterate through alpha values\n",
    "#             for a in alpha:\n",
    "#                 # iterare through beta values\n",
    "#                 for b in beta:\n",
    "#                     # get the coherence score for the given parameters\n",
    "#                     cv = compute_coherence_values(corpus=corpus_sets[i], dictionary=id2word, \n",
    "#                                                   k=k, a=a, b=b)\n",
    "#                     # Save the model results\n",
    "#                     model_results['Validation_Set'].append(corpus_title[i])\n",
    "#                     model_results['Topics'].append(k)\n",
    "#                     model_results['Alpha'].append(a)\n",
    "#                     model_results['Beta'].append(b)\n",
    "#                     model_results['Coherence'].append(cv)\n",
    "                    \n",
    "#                     pbar.update(1)\n",
    "#     pd.DataFrame(model_results).to_csv('./results/lda_tuning_results.csv', index=False)\n",
    "#     pbar.close()"
   ]
  },
  {
   "cell_type": "code",
   "execution_count": null,
   "metadata": {},
   "outputs": [],
   "source": []
  },
  {
   "cell_type": "markdown",
   "metadata": {},
   "source": [
    "** **\n",
    "#### Step 7: Final Model\n",
    "** **\n",
    "\n",
    "Based on external evaluation (Code to be added from Excel based analysis), let's train the final model with parameters yielding highest coherence score"
   ]
  },
  {
   "cell_type": "code",
   "execution_count": 111,
   "metadata": {},
   "outputs": [],
   "source": [
    "from importlib import reload  # Not needed in Python 2\n",
    "import logging\n",
    "reload(logging)\n",
    "logging.basicConfig(filename='model_callbacks.log',format='%(asctime)s %(levelname)s:%(message)s', level=logging.DEBUG, datefmt='%I:%M:%S')"
   ]
  },
  {
   "cell_type": "code",
   "execution_count": 128,
   "metadata": {},
   "outputs": [],
   "source": [
    "from gensim.models.callbacks import PerplexityMetric, ConvergenceMetric, CoherenceMetric\n",
    "# Set up the callbacks loggers\n",
    "perplexity_logger = PerplexityMetric(corpus=corpus, logger='shell')\n",
    "convergence_logger = ConvergenceMetric(logger='shell')\n",
    "coherence_logger = CoherenceMetric(corpus=corpus, logger='shell', coherence = 'c_v',texts=texts)\n",
    "coherence_logger_umass = CoherenceMetric(corpus=corpus, logger='shell', coherence = 'u_mass', texts=texts)"
   ]
  },
  {
   "cell_type": "code",
   "execution_count": 130,
   "metadata": {},
   "outputs": [],
   "source": [
    "logging.debug(\"test message\")"
   ]
  },
  {
   "cell_type": "code",
   "execution_count": 129,
   "metadata": {},
   "outputs": [],
   "source": [
    "num_topics = 20\n",
    "\n",
    "lda_model = gensim.models.LdaModel(corpus=corpus,\n",
    "                                           id2word=id2word,\n",
    "                                           num_topics=num_topics, \n",
    "                                           random_state=100,\n",
    "                                           chunksize=400,\n",
    "                                           passes=50,\n",
    "                                           eval_every=2,callbacks=[convergence_logger, perplexity_logger, coherence_logger,coherence_logger_umass])\n",
    "                                        #    eta=1/num_topics)"
   ]
  },
  {
   "cell_type": "code",
   "execution_count": null,
   "metadata": {},
   "outputs": [],
   "source": [
    "import re\n",
    "import matplotlib.pyplot as plt\n",
    "p = re.compile(\"(-*\\d+\\.\\d+) per-word .* (\\d+\\.\\d+) perplexity\")\n",
    "matches = [p.findall(l) for l in open('gensim.log')]\n",
    "matches = [m for m in matches if len(m) > 0]\n",
    "tuples = [t[0] for t in matches]\n",
    "perplexity = [float(t[1]) for t in tuples]\n",
    "liklihood = [float(t[0]) for t in tuples]\n",
    "iter = list(range(0,len(tuples)*10,10))\n",
    "plt.plot(iter,liklihood,c=\"black\")\n",
    "plt.ylabel(\"log liklihood\")\n",
    "plt.xlabel(\"iteration\")\n",
    "plt.title(\"Topic Model Convergence\")\n",
    "plt.grid()\n",
    "plt.savefig(\"convergence_liklihood.pdf\")\n",
    "plt.close()"
   ]
  },
  {
   "cell_type": "code",
   "execution_count": 94,
   "metadata": {},
   "outputs": [],
   "source": [
    "# from pprint import pprint\n",
    "\n",
    "# # Print the Keyword in the 10 topics\n",
    "# pprint(lda_model.print_topics())\n",
    "# doc_lda = lda_model[corpus]"
   ]
  },
  {
   "cell_type": "markdown",
   "metadata": {},
   "source": [
    "** **\n",
    "#### Step 8: Visualize Results\n",
    "** **"
   ]
  },
  {
   "cell_type": "code",
   "execution_count": 95,
   "metadata": {},
   "outputs": [
    {
     "output_type": "execute_result",
     "data": {
      "text/plain": [
       "PreparedData(topic_coordinates=              x         y  topics  cluster      Freq\n",
       "topic                                               \n",
       "18    -0.353818  0.015257       1        1  8.839100\n",
       "1      0.002076 -0.334547       2        1  8.544176\n",
       "7      0.007765  0.027151       3        1  6.211524\n",
       "19     0.018789  0.026494       4        1  6.075272\n",
       "14     0.020507  0.039588       5        1  5.948505\n",
       "9      0.013929  0.030747       6        1  5.815954\n",
       "2      0.019927 -0.073167       7        1  5.812643\n",
       "15     0.015698  0.021559       8        1  5.693087\n",
       "4      0.018811  0.022342       9        1  5.527564\n",
       "16     0.022885  0.021624      10        1  5.244568\n",
       "11     0.019696  0.018445      11        1  4.910717\n",
       "6      0.020736  0.021091      12        1  4.608486\n",
       "10     0.021305  0.020688      13        1  4.557591\n",
       "3      0.022186  0.022504      14        1  4.350860\n",
       "12     0.019751  0.020602      15        1  4.341888\n",
       "5      0.021072  0.019850      16        1  3.976491\n",
       "8      0.022323  0.020449      17        1  3.239032\n",
       "13     0.024607  0.023245      18        1  2.836043\n",
       "0      0.021574  0.018786      19        1  1.954600\n",
       "17     0.020182  0.017291      20        1  1.511900, topic_info=                Term        Freq       Total Category  logprob  loglift\n",
       "280            ouder  155.000000  155.000000  Default  30.0000  30.0000\n",
       "132           verbod   76.000000   76.000000  Default  29.0000  29.0000\n",
       "539            klein   76.000000   76.000000  Default  28.0000  28.0000\n",
       "300          rapport   73.000000   73.000000  Default  27.0000  27.0000\n",
       "496        specifiek   62.000000   62.000000  Default  26.0000  26.0000\n",
       "...              ...         ...         ...      ...      ...      ...\n",
       "1134        scenario    0.055013    2.052414  Topic20  -8.3911   0.5726\n",
       "1506      waterschap    0.055013    2.052401  Topic20  -8.3911   0.5726\n",
       "891      dagzijlstra    0.055018    2.052603  Topic20  -8.3910   0.5726\n",
       "1807  ziekenhuiszorg    0.055017    2.052613  Topic20  -8.3910   0.5726\n",
       "932    duidelijkheid    0.055018    2.052733  Topic20  -8.3910   0.5725\n",
       "\n",
       "[647 rows x 6 columns], token_table=      Topic      Freq           Term\n",
       "term                                \n",
       "214       5  0.874211        aandeel\n",
       "215       5  0.953619  aandeelhouder\n",
       "513       9  0.927768     aanleiding\n",
       "448      15  0.716882    aantoonbaar\n",
       "538       9  0.884332       aanwezig\n",
       "...     ...       ...            ...\n",
       "44        5  0.907353         zolang\n",
       "662      17  0.526802           zone\n",
       "641       8  0.707217       zorgplan\n",
       "349       6  0.835114     zorgsector\n",
       "317       2  0.975957          zwaar\n",
       "\n",
       "[557 rows x 3 columns], R=30, lambda_step=0.01, plot_opts={'xlab': 'PC1', 'ylab': 'PC2'}, topic_order=[19, 2, 8, 20, 15, 10, 3, 16, 5, 17, 12, 7, 11, 4, 13, 6, 9, 14, 1, 18])"
      ],
      "text/html": "\n<link rel=\"stylesheet\" type=\"text/css\" href=\"https://cdn.rawgit.com/bmabey/pyLDAvis/files/ldavis.v1.0.0.css\">\n\n\n<div id=\"ldavis_el132162965595981408870977135\"></div>\n<script type=\"text/javascript\">\n\nvar ldavis_el132162965595981408870977135_data = {\"mdsDat\": {\"x\": [-0.35381836632625707, 0.0020760080326365886, 0.007764522720356672, 0.018788735875256885, 0.02050685057245518, 0.013929144046285655, 0.019927201554484585, 0.01569816972451659, 0.018811164165617497, 0.022885318165278012, 0.01969559336199868, 0.020735812351602254, 0.021304809789108092, 0.022185715825973618, 0.0197506680929851, 0.021071693555288797, 0.02232342234916603, 0.0246073230363616, 0.02157418024641075, 0.020182032860474142], \"y\": [0.015257407149530089, -0.3345472042112594, 0.02715086017945814, 0.02649373501102522, 0.03958830521928246, 0.03074686475825444, -0.07316731500733305, 0.021559326798926057, 0.022342096644902904, 0.021624293507671092, 0.018444988620540326, 0.021091348499294105, 0.020688381730974186, 0.02250369161012554, 0.020601879527055965, 0.019849611838423476, 0.02044934660133905, 0.023245318301363338, 0.018786060024812406, 0.01729100319561325], \"topics\": [1, 2, 3, 4, 5, 6, 7, 8, 9, 10, 11, 12, 13, 14, 15, 16, 17, 18, 19, 20], \"cluster\": [1, 1, 1, 1, 1, 1, 1, 1, 1, 1, 1, 1, 1, 1, 1, 1, 1, 1, 1, 1], \"Freq\": [8.839100493351616, 8.544175851592454, 6.211523508492736, 6.075272358678515, 5.948504742326274, 5.815953693263298, 5.812643280705777, 5.6930869781660824, 5.527564242430833, 5.244567546830474, 4.910716743475849, 4.608486028949501, 4.557591048554886, 4.350859714475876, 4.3418877475538284, 3.9764906560411264, 3.2390318985330278, 2.836043425422628, 1.9545995520097712, 1.5119004891454468]}, \"tinfo\": {\"Term\": [\"ouder\", \"verbod\", \"klein\", \"rapport\", \"specifiek\", \"staat\", \"ziekenhuis\", \"gesprek\", \"vrij\", \"alsnog\", \"september\", \"bank\", \"landelijk\", \"bepaling\", \"werknemer\", \"inzicht\", \"werkgelegenheid\", \"locatie\", \"ers\", \"laag\", \"belasting\", \"zwaar\", \"politie\", \"landbouw\", \"gemeentelijk\", \"gezin\", \"parlementair\", \"gelijk\", \"voorziening\", \"presidium\", \"landelijk\", \"ers\", \"gemeentelijk\", \"lokaal\", \"initiatief\", \"onmiddellijk\", \"praktijk\", \"uitspraak\", \"tijdelijk\", \"schaal\", \"juni\", \"werkzaamheid\", \"bijvoorbeeld\", \"bevolking\", \"toegang\", \"hulp\", \"hulpverlener\", \"behoefte\", \"punt\", \"verantwoording\", \"inspanning\", \"psychisch\", \"werkwijze\", \"wijzigen\", \"militair\", \"zenden\", \"ham\", \"overal\", \"leg\", \"netwerk\", \"werkgelegenheid\", \"laag\", \"zwaar\", \"presidium\", \"groep\", \"samen\", \"consequentie\", \"vliesk\", \"kaya\", \"bescherming\", \"weer\", \"afweging\", \"gevaar\", \"gemiddeld\", \"sap\", \"liberalisering\", \"opzicht\", \"opnieuw\", \"tijdig\", \"feit\", \"roemerkst\", \"generatie\", \"hieraan\", \"kapitaallast\", \"optie\", \"sluiting\", \"onverantwoord\", \"gebruiker\", \"vertrouwelijk\", \"onderhandeling\", \"ondernemer\", \"vrij\", \"parlementair\", \"verkeer\", \"functie\", \"derhalve\", \"besluitvorming\", \"steun\", \"mee\", \"halsema\", \"unie\", \"hand\", \"principe\", \"daarvan\", \"overzicht\", \"omstandigheid\", \"partner\", \"voorbereiding\", \"verblijf\", \"enquete\", \"vereiste\", \"actueel\", \"netto\", \"vallenen\", \"thans\", \"statengeneraal\", \"gezinsmigratie\", \"europarout\", \"bovengenoemd\", \"duid\", \"inval\", \"politie\", \"awbz\", \"misbruik\", \"crimineel\", \"isen\", \"stat\", \"worden\", \"reis\", \"modernisering\", \"fraud\", \"discussie\", \"contract\", \"allochtoon\", \"feitelijk\", \"wilder\", \"wmo\", \"registrer\", \"verdonkk\", \"sapk\", \"potentiel\", \"herziening\", \"apart\", \"overla\", \"vestiging\", \"leijtenk\", \"wens\", \"stevig\", \"onzeker\", \"agema\", \"erg\", \"gesprek\", \"september\", \"geheel\", \"xiii\", \"opleiding\", \"ertoe\", \"aandeelhouder\", \"nemen\", \"pleit\", \"essent\", \"relatie\", \"langdurig\", \"toezegging\", \"aandeel\", \"zolang\", \"dagkantkst\", \"eu\", \"overeenkomst\", \"denemark\", \"karakter\", \"naleven\", \"openstelling\", \"knop\", \"peter\", \"training\", \"beeindiging\", \"poppe\", \"onderling\", \"biedenen\", \"overnam\", \"autoriteit\", \"gelijk\", \"xvi\", \"vi\", \"slachtoffer\", \"doel\", \"rijksdienst\", \"issn\", \"vivaststelling\", \"roonk\", \"wetboek\", \"zelfs\", \"misdrijf\", \"sport\", \"dagkoopmans\", \"toezichthouder\", \"rechtstreeks\", \"categorie\", \"strafrecht\", \"xvivaststelling\", \"leeuw\", \"planbureau\", \"dagleijtenk\", \"bv\", \"zorgsector\", \"zend\", \"eveneens\", \"beslag\", \"praktisch\", \"verklaring\", \"commissaris\", \"wit\", \"rapport\", \"bank\", \"momenteel\", \"duur\", \"reden\", \"richting\", \"rijk\", \"hard\", \"eind\", \"onduidelijk\", \"ingang\", \"bevoegdheid\", \"pechtoldk\", \"maximum\", \"stop\", \"toestemming\", \"export\", \"ouwehandk\", \"stimuler\", \"bepaald\", \"vervolgens\", \"handel\", \"strafbaar\", \"vooralsnog\", \"trekken\", \"dagpolderman\", \"verzeker\", \"illegaal\", \"verordening\", \"acuut\", \"ondernemer\", \"ouder\", \"personeel\", \"stelsel\", \"stap\", \"persoon\", \"parlement\", \"druk\", \"definitief\", \"dagverdonkk\", \"thuis\", \"tekort\", \"voorkeur\", \"verdeling\", \"beginsel\", \"onevenredig\", \"grens\", \"miltenburgk\", \"invoer\", \"vrouw\", \"uitzending\", \"client\", \"paspoort\", \"opheff\", \"zorgplan\", \"keuzevrijheid\", \"randvoorwaarde\", \"sluit\", \"ontwapening\", \"alleenstaand\", \"verankering\", \"onmogelijk\", \"klein\", \"werknemer\", \"werkgever\", \"grondwet\", \"debat\", \"uitkomst\", \"gegeven\", \"strijd\", \"aanleiding\", \"tegelijkertijd\", \"bestuurder\", \"damk\", \"toenam\", \"aanwezig\", \"werkzaam\", \"hierop\", \"meerdere\", \"soort\", \"gezondheid\", \"kam\", \"alsook\", \"discriminatie\", \"beperk\", \"reactie\", \"einde\", \"nederlander\", \"vervolging\", \"acceptabel\", \"daaraan\", \"dagtimmer\", \"administratief\", \"controle\", \"open\", \"procedure\", \"politiek\", \"dagbrinkmank\", \"schade\", \"vertrouwen\", \"stel\", \"medisch\", \"gezag\", \"essentieel\", \"dagverdonk\", \"leiding\", \"leven\", \"vooraf\", \"staan\", \"garant\", \"koppel\", \"europa\", \"missie\", \"troep\", \"brinkmank\", \"herkenning\", \"incident\", \"meavita\", \"autoriteit\", \"drag\", \"onherroepelijk\", \"tolerantie\", \"gezin\", \"partij\", \"maken\", \"beoordeling\", \"geweld\", \"verplichting\", \"noodzaak\", \"problematiek\", \"conform\", \"dam\", \"inkomen\", \"rapporteren\", \"relevant\", \"international\", \"uiterst\", \"evaluati\", \"passen\", \"twijfel\", \"forum\", \"neree\", \"periodiek\", \"wezenlijk\", \"conflict\", \"dagulenbeltk\", \"risicovol\", \"onderhavig\", \"rood\", \"onmogelijk\", \"beschikking\", \"gewenst\", \"car\", \"palestijns\", \"voorziening\", \"naam\", \"economie\", \"registratie\", \"pechtold\", \"aanwijzing\", \"verzoek\", \"dibik\", \"opdracht\", \"daghalsema\", \"uitkering\", \"fonds\", \"waarvoor\", \"eindrapport\", \"garantie\", \"bommelkst\", \"gaan\", \"zeker\", \"oeso\", \"kant\", \"houdbaarheid\", \"oormerken\", \"bezwaar\", \"beeindig\", \"dagkarabulut\", \"bevinding\", \"bilateraal\", \"perspectief\", \"commissiedavid\", \"gastouder\", \"raming\", \"alsnog\", \"locatie\", \"omvang\", \"toekomstig\", \"pilot\", \"heden\", \"oorspronkelijk\", \"daartoe\", \"ervaring\", \"eerst\", \"les\", \"leefomgeving\", \"rotterdam\", \"verlies\", \"sturen\", \"dagroem\", \"substantiel\", \"ovchipkaart\", \"cq\", \"dagtang\", \"vendrikk\", \"schort\", \"verplaats\", \"systeembank\", \"eenvoudig\", \"rond\", \"steunoperatie\", \"voorstander\", \"weekers\", \"museum\", \"verbod\", \"bepaling\", \"erop\", \"criterium\", \"verkoop\", \"zogenaamd\", \"daggrausk\", \"recent\", \"staaij\", \"vrijheid\", \"contact\", \"onaanvaardbaar\", \"dagvoordewind\", \"zin\", \"democratisch\", \"denkbaar\", \"israelisch\", \"exclusief\", \"witk\", \"toelating\", \"menselijk\", \"bewijs\", \"gazastrook\", \"godslastering\", \"hama\", \"terroristisch\", \"vergunningvrij\", \"wabo\", \"waalken\", \"dagouwehandk\", \"invoeringswet\", \"inzicht\", \"landbouw\", \"financi\", \"realisatie\", \"uitwerking\", \"invulling\", \"uiteindelijk\", \"inspraak\", \"dagweekersk\", \"pakket\", \"visserijraad\", \"thiemekst\", \"samenhang\", \"stem\", \"beveiliging\", \"aantoonbaar\", \"dijck\", \"tony\", \"weeker\", \"genetisch\", \"irrgang\", \"maart\", \"omvorming\", \"rekenkamer\", \"beheer\", \"xiv\", \"randstad\", \"vrijwillig\", \"landschap\", \"bouw\", \"museum\", \"specifiek\", \"belasting\", \"actief\", \"belemmering\", \"instantie\", \"gezamenlijk\", \"aanzienlijk\", \"schiphol\", \"mobiliteit\", \"uitsluitend\", \"klacht\", \"gratis\", \"krimp\", \"schrap\", \"slechtziend\", \"bewust\", \"vlucht\", \"burgers\", \"reiziger\", \"ferrierk\", \"daggill\", \"ard\", \"verwijsindex\", \"antill\", \"fiscaal\", \"ondersteuning\", \"beperking\", \"meedo\", \"student\", \"inning\", \"cruciaal\", \"opvang\", \"herindeling\", \"waarvan\", \"israel\", \"overig\", \"monitor\", \"speciaal\", \"geschikt\", \"natuurlijk\", \"crisis\", \"dring\", \"dagpechtoldk\", \"naleving\", \"los\", \"intensivering\", \"ouwehand\", \"kritiek\", \"palestijns\", \"human\", \"watch\", \"right\", \"waak\", \"middenoost\", \"oorlog\", \"proef\", \"zone\", \"uitermate\", \"wit\", \"nationaal_historisch\", \"museum\", \"meest\", \"directie\", \"opvang\", \"staat\", \"mln\", \"bommel\", \"bewerkstellig\", \"fundamenteel\", \"peterskst\", \"strategisch\", \"inmiddels\", \"euverband\", \"afkomstig\", \"meningsuiting\", \"wapen\", \"schuld\", \"behouden\", \"hecht\", \"luchthaven\", \"transport\", \"doen\", \"stabiliteit\", \"bonus\", \"dagpeter\", \"afgelost\", \"grondgebied\", \"nieteuland\", \"hama\", \"offensief\", \"eupartner\", \"vormgeven\", \"dagtony\", \"eu\", \"keer\", \"tweemaal\", \"krijgsmacht\", \"dagpetersk\", \"doelen\", \"xvaststelling\", \"woord\", \"ing\", \"euro\", \"dagtony\", \"evenwichtig\", \"sponsoring\", \"stopgezet\", \"afghanistan\", \"bestand\", \"kennen\", \"opheffing\", \"daad\", \"omarmen\", \"rijstrook\", \"deels\", \"convenant\", \"uuren\", \"km\", \"avaststelling\", \"variant\", \"reservist\", \"oplossing\", \"keuze\", \"kerndoel\", \"ziekenhuis\", \"eerder\", \"fusie\", \"volwaardig\", \"positionering\", \"vlissing\", \"walcher\", \"basisziekenhui\", \"zeeuws\", \"zeeland\", \"verzet\", \"combinatie\", \"diagnose\", \"zorgvraag\", \"transparantie\", \"kracht\", \"onzekerheid\", \"alternatief\", \"afschaffing\", \"uitstel\", \"emmeloord\", \"ingestemd\", \"arts\", \"februari\", \"mbo\", \"college\", \"zorgvuldig\", \"sanering\", \"scenario\", \"waterschap\", \"dagzijlstra\", \"ziekenhuiszorg\", \"duidelijkheid\"], \"Freq\": [155.0, 76.0, 76.0, 73.0, 62.0, 55.0, 45.0, 69.0, 69.0, 59.0, 65.0, 63.0, 76.0, 55.0, 59.0, 53.0, 70.0, 52.0, 70.0, 68.0, 49.0, 68.0, 58.0, 50.0, 68.0, 52.0, 57.0, 54.0, 48.0, 63.0, 74.27066486054079, 68.26414080205822, 66.69620385148991, 59.00289332720649, 48.927195288560405, 47.15413796380206, 44.24709096757661, 43.174923640036184, 41.56152760805834, 38.96850104617002, 38.802264874630815, 38.06983394296605, 36.962938581114614, 33.11058509071537, 32.29444459824408, 31.14138777837675, 28.523859891186436, 25.057008177645084, 24.838901757778224, 21.32468319178189, 20.763690243365016, 19.476649804809142, 17.65859812902741, 17.553390827090787, 14.528576926191466, 13.37280169761648, 13.346652691854475, 13.17490840903389, 13.112045702765483, 12.152835584453557, 68.40715158434723, 66.99031366672595, 66.73103471175259, 61.275645411931634, 53.37391876728008, 53.00893939212049, 44.3977090142311, 43.79848472546747, 40.86152049788269, 39.419949723321274, 34.1141214642912, 32.752854626267485, 29.372914466002335, 28.210990881541452, 27.694046094978226, 27.196966718690028, 26.8443231430755, 26.10440488730943, 23.808350915417705, 23.282212346532667, 18.1336942463193, 17.26065247284743, 15.786220690373154, 13.707050136429459, 13.421939511831477, 12.131855571720529, 12.019633742919028, 9.801539318597039, 9.060026444422988, 8.571296002608591, 35.65023096828556, 67.37154887619798, 55.50913016019984, 50.64910516116668, 48.6586449289603, 44.605223446368264, 39.60462752357411, 38.174157495971755, 35.25031716654916, 34.90353621641984, 34.43195672824113, 31.118750007267874, 27.167808209155904, 25.019716898572945, 23.468723577236442, 22.63535710560491, 18.89326952793645, 16.15086730144101, 14.491251415283468, 10.32157538876076, 8.292150869334948, 7.479649872318782, 7.263230009564373, 6.861969383612375, 16.09077822302937, 5.484064078649828, 5.468038406979441, 5.331738552490412, 4.954493239359124, 4.767435064287962, 4.47448758606084, 56.34978991688625, 49.90865914903932, 43.26574361451405, 41.4585300319576, 33.29477325175627, 31.051986676931733, 30.78451442064018, 30.488094950464255, 28.171000242393227, 28.019211579043198, 27.579313745979725, 23.99530021160502, 22.896567420278032, 22.60353994651276, 19.711392047059594, 17.862038943551347, 16.39621736785136, 14.694058578354694, 14.376471344596306, 12.727122617997084, 12.652866208612393, 11.735687801946876, 9.552412706149443, 9.552057898606222, 9.439916029043713, 8.909537735277723, 6.881417437310071, 5.482117285065296, 5.155223385927659, 4.845262245758119, 67.44507977007848, 63.223041659390866, 47.20220524967004, 43.09953197937815, 40.01724932797563, 37.68457048192613, 34.752377051471385, 30.65144169003895, 29.908839276205594, 29.298195322488752, 25.79499931954071, 24.311118359052212, 21.300308542246793, 15.208431544038712, 14.58171104487049, 14.47427433660059, 40.682385076349995, 10.427167947735109, 9.746888580444347, 9.50615444035487, 7.928961279336085, 7.453088337113362, 6.611139465071319, 6.1641401548555335, 6.099945035732745, 5.741531986771467, 4.744903450978806, 4.570467068721673, 3.7817198872144906, 3.700017735286683, 6.31436042976894, 52.20723430119585, 45.89040204509768, 36.22920954122917, 32.23525758369182, 31.99322652951808, 30.11101489172141, 28.675629280889854, 27.885954015239257, 27.69006150983325, 23.617870693728776, 23.596860245233213, 21.902382255145106, 21.67488460059639, 20.57243806569346, 19.966048688870366, 18.904827319096253, 18.803663390827733, 15.651232625804138, 15.314102927054762, 13.535404190185671, 13.269747023065028, 11.939805439722104, 11.797191352271998, 11.218014093993663, 10.477814064974496, 10.056754634917796, 9.587118207034942, 7.613784846568395, 7.237657771293814, 6.917208471402768, 8.563327508094238, 71.85757755873728, 61.530154757603945, 41.74397601438344, 38.86669155369054, 33.51098106476563, 33.306063034745975, 32.95013924630659, 32.045577177310896, 28.45313900198071, 25.213828983897052, 24.177280130677516, 20.804781727882155, 20.58490099352159, 18.724703625545388, 18.72394828419825, 18.072255397638855, 13.548663665059909, 11.95606029474699, 11.576025489581863, 10.957232493836814, 10.626870498434739, 7.253008140172301, 7.200243206032427, 7.171591025035182, 3.939573523785193, 3.8037171345220426, 3.1893661102336597, 3.1742766474597826, 4.495279889292138, 3.0221917059429315, 13.778456735236892, 153.6414743927311, 48.6077828725776, 45.0240404129654, 44.61305223838751, 36.881839123734096, 31.918895602887908, 30.906100521525303, 30.73252010188218, 19.99723340020221, 18.57969342025041, 18.48099489703391, 18.266623146802722, 16.12760298262237, 14.504665855379274, 12.65874887618427, 10.720045863278266, 10.569037156771055, 10.216026753942696, 10.036160540768055, 9.951956247901224, 8.897385129658684, 8.750333956037794, 6.27071340942938, 3.708912830168119, 3.557076519689783, 3.1847304139100654, 3.0185729194813673, 2.862670443794787, 2.48377472313031, 2.48051405277092, 3.3664291331805423, 74.2965315846577, 57.99088446388689, 42.63645265677653, 36.886584817532956, 34.212737421559815, 30.818100733285366, 27.50160473111269, 26.528014913063615, 25.00453573486899, 21.69920882108633, 18.54454405895853, 18.24113752317397, 16.608951278749313, 15.020107173896085, 14.499516030087623, 13.717392524427545, 12.887943226661898, 12.839605215280299, 11.858061302202438, 11.245845324481317, 8.916194589359911, 8.58585030616989, 8.497863186882189, 8.252929239651571, 7.884736542063627, 7.715690969201486, 7.299520233808083, 6.888286750674608, 5.376200405913887, 3.779873639316226, 48.325043500339234, 46.839083217278485, 40.73806296503649, 38.69588437389103, 36.83356153628059, 32.601062046360134, 32.15914813440086, 29.214839354201604, 25.70990196307089, 24.27605375577873, 21.750233364212075, 19.59004039571877, 17.145248939473966, 13.269615802104996, 11.49710333763382, 10.958198014134544, 9.846001888724262, 8.612010119209245, 7.82402843813408, 16.527997680164408, 7.02747290898473, 5.071636767230304, 5.0712474385420565, 4.723584753512138, 4.605671820963337, 4.500168446593359, 12.451616644158682, 2.701713726917909, 2.38620923902636, 2.2503738697403004, 50.494497492621186, 46.43462959583637, 44.38525664974413, 42.30717190356276, 32.780361329843316, 26.05993704000454, 22.430856168315476, 18.741803546194987, 14.991863775970096, 14.928091071418963, 14.261194526982024, 13.893429110910853, 12.027236187781508, 11.73577444889387, 11.713685345591086, 11.392819390425778, 10.813059462461059, 10.67786960259932, 9.368453377718955, 8.856826029119638, 8.105767910647671, 7.605905769319703, 6.527174158981344, 6.465122226017406, 5.57215436324377, 5.087554350986786, 3.967047819680299, 9.131037509615282, 3.215394105927513, 2.6562713343956514, 3.8224292904376647, 3.327978851057827, 46.763383121450566, 45.292530249415414, 35.982295014316016, 32.89732734805823, 32.698248591933584, 31.38420434803356, 30.676785451223203, 22.998877344999034, 19.989612911805832, 17.23775654208444, 17.178955027405966, 14.99804963574766, 14.437242166772206, 14.387636993123236, 13.208796859427798, 12.897865540485165, 12.74861498304644, 11.061679760866372, 8.60917117514416, 6.778797813463475, 5.358249821713255, 4.5491173969048235, 4.053036749762183, 3.4351610285867165, 3.1654174090206526, 2.998243623458704, 2.7704978899003248, 2.346629858654561, 1.6606583641430122, 0.10478296169517025, 0.1047886298179745, 57.4622454619231, 50.50522428552335, 38.981924287113266, 37.8835609081683, 23.6903605795154, 22.993471783836455, 22.659984757424354, 22.59840439062479, 22.195865119168683, 18.59249329155202, 14.826301776002717, 14.690830415019068, 13.978206834924858, 11.090376949468176, 10.388978205413741, 10.115712094192775, 7.750359557850261, 7.637265709772155, 6.514181687007161, 5.503901514130393, 5.4787101338120054, 4.3197490462531345, 4.276390572757873, 3.8717835325182874, 3.868976472574688, 3.152496801526065, 2.3668479671491354, 2.1574013695494854, 1.3572489666637977, 0.1105682131678056, 74.81758562613298, 53.3619414845087, 28.671660600610807, 26.645451535374555, 25.640596432135307, 25.161739607124478, 21.356725074074483, 20.504309599746865, 19.03429689721814, 18.098916624385282, 17.86415296720377, 17.625263945464425, 16.818653794938687, 14.772714725295401, 12.815782930474109, 9.063758016308988, 8.88651616018411, 5.506408327775431, 4.1848193924246955, 3.0923623547630052, 2.7350328688209444, 2.473863271699717, 2.3839357832334462, 1.5959752309116193, 6.870293622540835, 1.2420563355288023, 0.10075687505639287, 0.1007553722357344, 0.10074370506724395, 0.1007354801703969, 0.10073792733106374, 51.34111566278465, 48.3766150239152, 38.717229731574704, 36.90284213348822, 35.28349812168666, 35.19615173742077, 28.66958611644333, 25.99660932056685, 22.471764674102207, 21.936970087036094, 18.12458615539477, 16.534846162993947, 9.86651485184554, 9.285485385899356, 7.656793487319792, 6.414912396386899, 6.311356696030444, 6.311356696030444, 5.990997988189159, 5.816450489994432, 4.753122207977851, 3.73322262292873, 1.2062515951859327, 0.09784277411319446, 0.09781020583311033, 0.09780153176722606, 0.09781312421041718, 0.09778381883829418, 0.09777561090211864, 0.09779538088172168, 0.09783647122887203, 60.65744867934073, 47.60445366771658, 43.28780626353405, 33.97760500103532, 30.204928411012045, 27.684320997227935, 21.12717564218845, 17.914565926674467, 16.81165318037873, 12.014816937562816, 11.356502324059296, 8.032834543734488, 6.3236865514508604, 6.056714681102411, 6.029726161314736, 5.776497119172172, 5.362273618346805, 4.137653273584286, 3.9701330800281984, 2.5535244511505306, 2.4805919247107284, 1.460938277890258, 0.10323001907683815, 0.10312470421702935, 0.10305298468613383, 0.10304221005163983, 0.10301086059830583, 0.10298049487559748, 0.10305861793603724, 0.1029708338984155, 0.1029837987256232, 0.1029889401102138, 0.10299015585277944, 34.5537884322478, 33.06216054027664, 25.76664743362004, 20.67166612119405, 19.387199308803297, 19.343473495455026, 18.1238164856327, 15.671014131443354, 13.249205918727162, 10.43610731350493, 7.954784969308052, 7.12794328852279, 5.9452403481957194, 5.288461505196672, 3.7890720152663833, 9.77528051874349, 2.7554323465461907, 2.7554323465461907, 2.7554323465461907, 2.753363861096196, 2.500734563688942, 2.362858917339557, 2.265634053694036, 1.840211232264775, 1.1862979346569844, 3.1153306723580214, 0.09635982229253875, 0.09639084594579121, 0.0961766965615346, 0.09614418371245106, 0.09614882516544741, 53.428524120518254, 21.10808667570867, 15.266594168875994, 14.066260297296937, 12.048815477564887, 12.010168109148418, 11.256593139841572, 9.983392919853035, 8.161879930451851, 7.820741523296469, 7.003295078335424, 6.898361250296692, 6.846095761444282, 5.557873163546707, 4.85020068113046, 4.241284141085477, 4.187856274403148, 3.468675234813713, 2.9472119530081105, 2.8618993931519277, 2.689565866082396, 2.508647094304789, 2.411505942125818, 2.2745747414297193, 7.569662828749087, 1.642325393861339, 1.6413058775194451, 0.8063758445585967, 2.5123326877119343, 3.713026201702653, 19.20339048397338, 18.389104053078796, 15.719040111175172, 12.674340392315651, 8.85792986063564, 8.063345951556215, 7.170455549934829, 7.112145591246301, 7.021553579284663, 13.465428494913514, 5.794212534108762, 5.488634554476124, 4.725596109413673, 3.362409962910714, 2.504101594808116, 2.303289204309896, 1.9611795506303358, 1.5429755264006455, 0.8076759583491688, 0.0656486588663494, 0.0655599654402008, 0.0655059821040365, 0.06548215626621445, 0.06548215626621445, 0.06549253416800369, 0.06548215626621445, 0.06548006700071139, 0.06548215626621445, 0.06548215626621445, 0.06547484839866881, 43.56948058604419, 17.801003500607887, 15.66464634284064, 10.241401105191162, 6.684570358198897, 2.002547246260644, 1.7682270170628827, 0.9115803608774271, 0.9115712713892978, 0.9115625770963046, 0.9114550275628501, 0.05510805984605894, 0.05510390324007437, 0.055067598215477465, 0.05506220662469274, 0.05503638132825724, 0.055048170140306836, 0.05505216090547538, 0.05503132847616056, 0.05502470542910366, 0.05502319169059146, 0.05502470542910366, 0.05502470542910366, 0.05502470542910366, 0.05503202006764865, 0.05502704837169598, 0.05502470542910366, 0.055013251827214116, 0.055013251827214116, 0.055012556707198026, 0.055017690715438716, 0.05501717555035065, 0.05501768718691072], \"Total\": [155.0, 76.0, 76.0, 73.0, 62.0, 55.0, 45.0, 69.0, 69.0, 59.0, 65.0, 63.0, 76.0, 55.0, 59.0, 53.0, 70.0, 52.0, 70.0, 68.0, 49.0, 68.0, 58.0, 50.0, 68.0, 52.0, 57.0, 54.0, 48.0, 63.0, 76.1948064438274, 70.18828238534483, 68.62034543477652, 60.92703491049309, 50.851336871847, 49.078279547088655, 46.17123255086321, 45.09906522332278, 43.48566919134494, 40.892642636545965, 40.72640645791741, 39.99397553081437, 38.88708016440121, 35.034726674001966, 34.218586181530675, 33.06552936166335, 30.448001485933847, 26.981149760931686, 26.763043341064826, 23.248824785201748, 22.687831826651617, 21.400791436820416, 19.582739768969606, 19.47753241037739, 16.452718509478068, 15.296943310217713, 15.270794282082493, 15.09904999987986, 15.036187327075135, 14.076977174681575, 70.32665130502329, 68.90981338740201, 68.6505378638482, 63.195145191685796, 55.293418487956124, 54.92844171582816, 46.31720873490714, 45.71798444614351, 42.78102021855873, 41.33944944399732, 36.033621184967245, 34.67235435725804, 31.292414199965116, 30.1304906022175, 29.613545815654273, 29.116466439366075, 28.763822863751546, 28.023904617265952, 25.727850636093752, 25.201712067208714, 20.053194005815037, 19.180152205763438, 17.70572047980634, 15.626549970700042, 15.341439237069237, 14.051355305683307, 13.939133483955299, 11.721039071248793, 10.979526172188377, 10.490795771711628, 51.23700073022968, 69.31753764484037, 57.45511892884222, 52.59509392980906, 50.60463369760268, 46.55121222195206, 41.55061629221649, 40.120146264614135, 37.19630593519154, 36.84952498506222, 36.37794549688351, 33.06473877591025, 29.11379697779828, 26.96570566721532, 25.41471235044053, 24.581345874247287, 20.839258296578826, 18.096856070083387, 16.437240183925844, 12.267564170976618, 10.238139637977323, 9.425638640961155, 9.209218785296093, 8.807958179791855, 21.046810763828177, 7.4300528472922025, 7.414027175621816, 7.277727321132787, 6.900482025257422, 6.713423832930337, 6.420476354703214, 58.287987359101926, 51.846856591255, 45.203941056729725, 43.396727474173275, 35.23297071767868, 32.99018411914741, 32.72271186285585, 32.42629240265028, 30.109197684608898, 29.95740902125887, 29.517511195443735, 25.93349765382069, 24.83476490468648, 24.541737402301916, 21.649589489275264, 19.80023638929555, 18.334414819347508, 16.632256020570367, 16.314668797397562, 14.665320113892259, 14.591063650828062, 13.673885244162545, 11.490610148365112, 11.490255340821891, 11.378113471259383, 10.847735177493393, 8.819614879525739, 7.420314734222383, 7.093420828143328, 6.783459687973788, 69.39497939806071, 65.17294128737309, 49.15210488443515, 45.049431607360376, 41.96714896320619, 39.63447010990836, 36.70227667945361, 32.601341325269516, 31.858738926561042, 31.248094950470982, 27.74489894752294, 26.261017987034442, 23.250208188364216, 17.15833117202094, 16.531610672852718, 16.42417396458282, 46.26166191169554, 12.377067575717335, 11.696788218396927, 11.45605408162383, 9.878860907318312, 9.40298802631497, 8.561039106738692, 8.114039807926854, 8.049844705612019, 7.691431614753695, 6.694803083522749, 6.5203666967039, 5.731619526657527, 5.64991736326891, 20.601310517492657, 54.161066923518106, 47.84423466033059, 38.18304215646208, 34.18909019892473, 33.947059149312715, 32.06484750695432, 30.629461896122763, 29.839786630472165, 29.643894125066158, 25.571703308961684, 25.55069286046612, 23.856214870378015, 23.628717215829298, 22.52627068092637, 21.919881304103274, 20.8586599415775, 20.75749600606064, 17.60506524103705, 17.267935542287674, 15.489236805418582, 15.223579638297938, 13.893638054955014, 13.751023972066623, 13.171846763813887, 12.431646690521912, 12.010587250150706, 11.540950832582359, 9.567617461801305, 9.191490391088438, 8.871041086635678, 13.536438231533493, 73.79872545145506, 63.47130265032174, 43.685123907101236, 40.807839456722846, 35.452128957483424, 35.24721092746377, 34.891287139024385, 33.98672507002869, 30.394286894698507, 27.15497687661485, 26.11842803370982, 22.745929620599952, 22.526048886239387, 20.665851581264615, 20.665096176916048, 20.013403344202494, 15.489811567910955, 13.897208187464782, 13.517173382299655, 12.89838039364395, 12.568018391152531, 9.194156032890092, 9.14139109875022, 9.112738999652409, 5.880721416502985, 5.744865027239835, 5.130514002951452, 5.115424540177575, 7.300753895902781, 4.963339616303363, 51.23700073022968, 155.58853395561397, 50.554842435460486, 46.97109997584828, 46.560111801270395, 38.82889868661698, 33.86595516577079, 32.85316008440818, 32.679579671854405, 21.94429296308509, 20.526752983133292, 20.42805445991679, 20.21368272371682, 18.074662552594596, 16.451725418262154, 14.605808439067149, 12.667105426161145, 12.516096726743278, 12.163086316825575, 11.983220103650934, 11.899015815345818, 10.844444692541563, 10.697393518920673, 8.217772995781491, 5.655972400140343, 5.504136082572662, 5.131789996592276, 4.96563250272447, 4.8097300066776665, 4.430834286013189, 4.427573679924287, 14.331888786673877, 76.23837706562672, 59.93272994485591, 44.57829813774554, 38.82843029850197, 36.15458290709055, 32.75994621425438, 29.4434502120817, 28.469860394032626, 26.94638123190136, 23.64105430558387, 20.48638953992754, 20.18298300414298, 18.550796759718324, 16.961952702466597, 16.441361511056634, 15.659238005396555, 14.829788707630907, 14.781450709536042, 13.799906783171448, 13.187690805450327, 10.858040088177368, 10.527695875092911, 10.439708723813846, 10.19477472740346, 9.826582023032637, 9.657536450170497, 9.241365721866439, 8.8301322697665, 7.318045911043008, 5.721719120285236, 50.26281190260865, 48.7768516195479, 42.6758313673059, 40.633652776160446, 38.77132994579834, 34.53883044862955, 34.0969165401988, 31.152607756471024, 27.64767036534031, 26.21382215804815, 23.688001766481495, 21.52780880151672, 19.083017368974023, 15.207384204374414, 13.43487176053225, 12.895966416403962, 11.783770301126935, 10.549778521478663, 9.761796855211207, 20.69859502859899, 8.965241311254147, 7.009405169499722, 7.009015840811474, 6.661353155781556, 6.543440246830893, 6.437936855952122, 20.601310517492657, 4.639482149472186, 4.323977661399385, 4.188142272009718, 52.43419466030297, 48.374326763518155, 46.324953817425914, 44.24686907124455, 34.7200584975251, 27.999634207686327, 24.37055333599726, 20.681500713876773, 16.93156094365188, 16.86778828230992, 16.200891717920896, 15.833126316182211, 13.96693340565531, 13.675471638783739, 13.65338251327287, 13.332516558107562, 12.752756630142843, 12.617566770281103, 11.30815054540074, 10.796523223156573, 10.045465078329455, 9.545602949901916, 8.466871326663128, 8.404819407272672, 7.511851530925554, 7.027251525757916, 5.906744987362083, 14.331888786673877, 5.1550912736092975, 4.595968509325775, 7.594249121603095, 14.946903973331425, 48.71111380319427, 47.24026093115912, 37.93002569605972, 34.84505802980193, 34.64597927367729, 33.331935061492636, 32.62451613296692, 24.94660803705725, 21.937343593549542, 19.18548722382815, 19.126685709149676, 16.945780317491373, 16.38497284851592, 16.335367691778718, 15.156527541171506, 14.845596234468836, 14.696345671731567, 13.009410456183565, 10.556901874450714, 8.726528502455523, 7.305980503456963, 6.496848078648532, 6.000767443745853, 5.3828917103304255, 5.113148090764362, 4.94597436928955, 4.718228581798227, 4.29436054039827, 3.608389045886721, 2.052619796007397, 2.053174434339455, 59.40468213715588, 52.44766096075613, 40.92436096234605, 39.82599758340108, 25.632797254748183, 24.935908463630952, 24.602421432657138, 24.540841065857574, 24.138301794401468, 20.534929966784805, 16.768738451235503, 16.633267090251852, 15.920643510157642, 13.03281362470096, 12.331414894308306, 12.058148769425559, 9.692796233083046, 9.579702402102324, 8.456618391305922, 7.446338249890384, 7.42114680904479, 6.262185721485919, 6.2188272479906574, 5.814220229182232, 5.811413245569612, 5.094933476758849, 4.309284642381919, 4.099838059901009, 3.2996856418965814, 2.054614331295519, 76.76934972814162, 55.313705586517344, 30.62342470261945, 28.597215637383197, 27.59236054108537, 27.11350370913312, 23.308489176083125, 22.456073705284037, 20.986061013564466, 20.050680733953293, 19.81591706921241, 19.577028047473068, 18.770417933974812, 16.724478827304043, 14.767547044722713, 11.015522153132459, 10.83828027365356, 7.458172429784075, 6.1365834944333395, 5.044126481519189, 4.686796970829588, 4.425627373708361, 4.335699885242089, 3.5477393532804875, 16.308071551399863, 3.193820437537446, 2.0526266422655506, 2.0527596881697168, 2.0525992156040305, 2.0527747080152787, 2.0528453960743946, 53.295784462781825, 50.33128382391237, 40.67189853157188, 38.85751093348539, 37.238166921683835, 37.15082053741794, 30.62425492352985, 27.951278120564027, 24.426433484069737, 23.89163888703327, 20.079254955391946, 18.489514962991123, 11.821183651842711, 11.240154185896527, 9.611462287316963, 8.36958119638407, 8.266025496027614, 8.266025496027614, 7.9456668081270365, 7.771119348452592, 6.70779101491644, 5.687891422925902, 3.160920395183105, 2.053015901357419, 2.0527829126499233, 2.052633226924152, 2.053102899423812, 2.0526445724972175, 2.052607145624751, 2.0531129537034776, 2.054614331295519, 62.606882583259114, 49.55388757163496, 45.237240167452434, 35.927038904953704, 32.154362314930424, 29.633754901146315, 23.07660954610683, 19.863999830592846, 18.76108708429711, 13.964250841481192, 13.305936227977671, 9.982268447652864, 8.273120462928606, 8.006148585020787, 7.9791600652331125, 7.725931023090548, 7.3117075222651815, 6.087087177502663, 5.9195669839465745, 4.502958355068907, 4.430025838599459, 3.4103721818086346, 2.0537092503974135, 2.053016950882788, 2.0528578990994344, 2.0529428045812987, 2.052839687733513, 2.0524673166752807, 2.0541655302724267, 2.052475062803555, 2.052756224021171, 2.0530971407562544, 2.053406378405326, 36.510070454782735, 35.01844256281158, 27.722929456154976, 22.627948154043494, 21.343481331338232, 21.29975551798996, 20.080098508167637, 17.62729615397829, 15.205487941262096, 12.392389336039864, 9.911066991842986, 9.084225323297686, 7.901522370730654, 7.244743544668679, 5.745354037801318, 14.946903973331425, 4.711714369081126, 4.711714369081126, 4.711714369081126, 4.709645925552378, 4.457016586223877, 4.319140939874492, 4.221916089515703, 3.7964932547997097, 3.142579957191919, 13.536438231533493, 2.05388241644886, 2.054614331295519, 2.052868159064721, 2.0527296652945632, 2.0530971407562544, 55.39720970530616, 23.076772260496575, 17.2352797536639, 16.03494588208484, 14.017501062352792, 13.978853693936324, 13.225278724629478, 11.95207850464094, 10.130565515239757, 9.789427119545184, 8.971980663123329, 8.867046835084597, 8.814781346232188, 7.526558758467868, 6.8188862659183656, 6.209969725873383, 6.156541859191054, 5.437360836403296, 4.915897566482451, 4.830584977939834, 4.658251450870302, 4.4773326790926955, 4.380191526913723, 4.243260326217625, 16.308071551399863, 3.6110109879297223, 3.609991508686229, 3.6273697083585503, 17.881042023451915, 46.26166191169554, 21.19032032669855, 20.376033895803968, 17.70596996084176, 14.661270235040822, 10.844859703360811, 10.050275794281387, 9.157385510144325, 9.099075433971473, 9.008483422009835, 17.881042023451915, 7.781142384082273, 7.475564397201296, 6.712525962756718, 5.349339825124186, 4.491031437533288, 4.2902191178419615, 3.9481093933555074, 3.529905369125817, 2.7946058010743404, 2.052644917552045, 2.0525564210018192, 2.052647300086847, 2.0524218901119116, 2.0524553391024374, 2.0528123179760516, 2.0525002785509754, 2.0526025999143407, 2.0527005702530525, 2.0527658089822114, 2.052826219763902, 45.56682785558439, 19.798350770148087, 17.66199361238084, 12.238748374731362, 8.681917627739097, 3.9998945158008445, 3.765574286603083, 2.9089276304176277, 2.9089185409294984, 2.908909846636505, 2.9088022971030503, 2.0530131261582847, 2.052963875580102, 2.052503553467733, 2.05263286820695, 2.052643342427697, 2.0530914007994614, 2.053246247116684, 2.0526094551554195, 2.0524240393075583, 2.052379033158178, 2.052458540921587, 2.052459527443485, 2.052526320357587, 2.052933531192833, 2.0527932152284345, 2.0528147431680774, 2.0523963410723214, 2.052414234085893, 2.052401298212615, 2.052602677956326, 2.0526134344927347, 2.052733492014833], \"Category\": [\"Default\", \"Default\", \"Default\", \"Default\", \"Default\", \"Default\", \"Default\", \"Default\", \"Default\", \"Default\", \"Default\", \"Default\", \"Default\", \"Default\", \"Default\", \"Default\", \"Default\", \"Default\", \"Default\", \"Default\", \"Default\", \"Default\", \"Default\", \"Default\", \"Default\", \"Default\", \"Default\", \"Default\", \"Default\", \"Default\", \"Topic1\", \"Topic1\", \"Topic1\", \"Topic1\", \"Topic1\", \"Topic1\", \"Topic1\", \"Topic1\", \"Topic1\", \"Topic1\", \"Topic1\", \"Topic1\", \"Topic1\", \"Topic1\", \"Topic1\", \"Topic1\", \"Topic1\", \"Topic1\", \"Topic1\", \"Topic1\", \"Topic1\", \"Topic1\", \"Topic1\", \"Topic1\", \"Topic1\", \"Topic1\", \"Topic1\", \"Topic1\", \"Topic1\", \"Topic1\", \"Topic2\", \"Topic2\", \"Topic2\", \"Topic2\", \"Topic2\", \"Topic2\", \"Topic2\", \"Topic2\", \"Topic2\", \"Topic2\", \"Topic2\", \"Topic2\", \"Topic2\", \"Topic2\", \"Topic2\", \"Topic2\", \"Topic2\", \"Topic2\", \"Topic2\", \"Topic2\", \"Topic2\", \"Topic2\", \"Topic2\", \"Topic2\", \"Topic2\", \"Topic2\", \"Topic2\", \"Topic2\", \"Topic2\", \"Topic2\", \"Topic2\", \"Topic3\", \"Topic3\", \"Topic3\", \"Topic3\", \"Topic3\", \"Topic3\", \"Topic3\", \"Topic3\", \"Topic3\", \"Topic3\", \"Topic3\", \"Topic3\", \"Topic3\", \"Topic3\", \"Topic3\", \"Topic3\", \"Topic3\", \"Topic3\", \"Topic3\", \"Topic3\", \"Topic3\", \"Topic3\", \"Topic3\", \"Topic3\", \"Topic3\", \"Topic3\", \"Topic3\", \"Topic3\", \"Topic3\", \"Topic3\", \"Topic4\", \"Topic4\", \"Topic4\", \"Topic4\", \"Topic4\", \"Topic4\", \"Topic4\", \"Topic4\", \"Topic4\", \"Topic4\", \"Topic4\", \"Topic4\", \"Topic4\", \"Topic4\", \"Topic4\", \"Topic4\", \"Topic4\", \"Topic4\", \"Topic4\", \"Topic4\", \"Topic4\", \"Topic4\", \"Topic4\", \"Topic4\", \"Topic4\", \"Topic4\", \"Topic4\", \"Topic4\", \"Topic4\", \"Topic4\", \"Topic5\", \"Topic5\", \"Topic5\", \"Topic5\", \"Topic5\", \"Topic5\", \"Topic5\", \"Topic5\", \"Topic5\", \"Topic5\", \"Topic5\", \"Topic5\", \"Topic5\", \"Topic5\", \"Topic5\", \"Topic5\", \"Topic5\", \"Topic5\", \"Topic5\", \"Topic5\", \"Topic5\", \"Topic5\", \"Topic5\", \"Topic5\", \"Topic5\", \"Topic5\", \"Topic5\", \"Topic5\", \"Topic5\", \"Topic5\", \"Topic5\", \"Topic6\", \"Topic6\", \"Topic6\", \"Topic6\", \"Topic6\", \"Topic6\", \"Topic6\", \"Topic6\", \"Topic6\", \"Topic6\", \"Topic6\", \"Topic6\", \"Topic6\", \"Topic6\", \"Topic6\", \"Topic6\", \"Topic6\", \"Topic6\", \"Topic6\", \"Topic6\", \"Topic6\", \"Topic6\", \"Topic6\", \"Topic6\", \"Topic6\", \"Topic6\", \"Topic6\", \"Topic6\", \"Topic6\", \"Topic6\", \"Topic6\", \"Topic7\", \"Topic7\", \"Topic7\", \"Topic7\", \"Topic7\", \"Topic7\", \"Topic7\", \"Topic7\", \"Topic7\", \"Topic7\", \"Topic7\", \"Topic7\", \"Topic7\", \"Topic7\", \"Topic7\", \"Topic7\", \"Topic7\", \"Topic7\", \"Topic7\", \"Topic7\", \"Topic7\", \"Topic7\", \"Topic7\", \"Topic7\", \"Topic7\", \"Topic7\", \"Topic7\", \"Topic7\", \"Topic7\", \"Topic7\", \"Topic7\", \"Topic8\", \"Topic8\", \"Topic8\", \"Topic8\", \"Topic8\", \"Topic8\", \"Topic8\", \"Topic8\", \"Topic8\", \"Topic8\", \"Topic8\", \"Topic8\", \"Topic8\", \"Topic8\", \"Topic8\", \"Topic8\", \"Topic8\", \"Topic8\", \"Topic8\", \"Topic8\", \"Topic8\", \"Topic8\", \"Topic8\", \"Topic8\", \"Topic8\", \"Topic8\", \"Topic8\", \"Topic8\", \"Topic8\", \"Topic8\", \"Topic8\", \"Topic9\", \"Topic9\", \"Topic9\", \"Topic9\", \"Topic9\", \"Topic9\", \"Topic9\", \"Topic9\", \"Topic9\", \"Topic9\", \"Topic9\", \"Topic9\", \"Topic9\", \"Topic9\", \"Topic9\", \"Topic9\", \"Topic9\", \"Topic9\", \"Topic9\", \"Topic9\", \"Topic9\", \"Topic9\", \"Topic9\", \"Topic9\", \"Topic9\", \"Topic9\", \"Topic9\", \"Topic9\", \"Topic9\", \"Topic9\", \"Topic10\", \"Topic10\", \"Topic10\", \"Topic10\", \"Topic10\", \"Topic10\", \"Topic10\", \"Topic10\", \"Topic10\", \"Topic10\", \"Topic10\", \"Topic10\", \"Topic10\", \"Topic10\", \"Topic10\", \"Topic10\", \"Topic10\", \"Topic10\", \"Topic10\", \"Topic10\", \"Topic10\", \"Topic10\", \"Topic10\", \"Topic10\", \"Topic10\", \"Topic10\", \"Topic10\", \"Topic10\", \"Topic10\", \"Topic10\", \"Topic11\", \"Topic11\", \"Topic11\", \"Topic11\", \"Topic11\", \"Topic11\", \"Topic11\", \"Topic11\", \"Topic11\", \"Topic11\", \"Topic11\", \"Topic11\", \"Topic11\", \"Topic11\", \"Topic11\", \"Topic11\", \"Topic11\", \"Topic11\", \"Topic11\", \"Topic11\", \"Topic11\", \"Topic11\", \"Topic11\", \"Topic11\", \"Topic11\", \"Topic11\", \"Topic11\", \"Topic11\", \"Topic11\", \"Topic11\", \"Topic11\", \"Topic11\", \"Topic12\", \"Topic12\", \"Topic12\", \"Topic12\", \"Topic12\", \"Topic12\", \"Topic12\", \"Topic12\", \"Topic12\", \"Topic12\", \"Topic12\", \"Topic12\", \"Topic12\", \"Topic12\", \"Topic12\", \"Topic12\", \"Topic12\", \"Topic12\", \"Topic12\", \"Topic12\", \"Topic12\", \"Topic12\", \"Topic12\", \"Topic12\", \"Topic12\", \"Topic12\", \"Topic12\", \"Topic12\", \"Topic12\", \"Topic12\", \"Topic12\", \"Topic13\", \"Topic13\", \"Topic13\", \"Topic13\", \"Topic13\", \"Topic13\", \"Topic13\", \"Topic13\", \"Topic13\", \"Topic13\", \"Topic13\", \"Topic13\", \"Topic13\", \"Topic13\", \"Topic13\", \"Topic13\", \"Topic13\", \"Topic13\", \"Topic13\", \"Topic13\", \"Topic13\", \"Topic13\", \"Topic13\", \"Topic13\", \"Topic13\", \"Topic13\", \"Topic13\", \"Topic13\", \"Topic13\", \"Topic13\", \"Topic14\", \"Topic14\", \"Topic14\", \"Topic14\", \"Topic14\", \"Topic14\", \"Topic14\", \"Topic14\", \"Topic14\", \"Topic14\", \"Topic14\", \"Topic14\", \"Topic14\", \"Topic14\", \"Topic14\", \"Topic14\", \"Topic14\", \"Topic14\", \"Topic14\", \"Topic14\", \"Topic14\", \"Topic14\", \"Topic14\", \"Topic14\", \"Topic14\", \"Topic14\", \"Topic14\", \"Topic14\", \"Topic14\", \"Topic14\", \"Topic14\", \"Topic15\", \"Topic15\", \"Topic15\", \"Topic15\", \"Topic15\", \"Topic15\", \"Topic15\", \"Topic15\", \"Topic15\", \"Topic15\", \"Topic15\", \"Topic15\", \"Topic15\", \"Topic15\", \"Topic15\", \"Topic15\", \"Topic15\", \"Topic15\", \"Topic15\", \"Topic15\", \"Topic15\", \"Topic15\", \"Topic15\", \"Topic15\", \"Topic15\", \"Topic15\", \"Topic15\", \"Topic15\", \"Topic15\", \"Topic15\", \"Topic15\", \"Topic16\", \"Topic16\", \"Topic16\", \"Topic16\", \"Topic16\", \"Topic16\", \"Topic16\", \"Topic16\", \"Topic16\", \"Topic16\", \"Topic16\", \"Topic16\", \"Topic16\", \"Topic16\", \"Topic16\", \"Topic16\", \"Topic16\", \"Topic16\", \"Topic16\", \"Topic16\", \"Topic16\", \"Topic16\", \"Topic16\", \"Topic16\", \"Topic16\", \"Topic16\", \"Topic16\", \"Topic16\", \"Topic16\", \"Topic16\", \"Topic16\", \"Topic16\", \"Topic16\", \"Topic17\", \"Topic17\", \"Topic17\", \"Topic17\", \"Topic17\", \"Topic17\", \"Topic17\", \"Topic17\", \"Topic17\", \"Topic17\", \"Topic17\", \"Topic17\", \"Topic17\", \"Topic17\", \"Topic17\", \"Topic17\", \"Topic17\", \"Topic17\", \"Topic17\", \"Topic17\", \"Topic17\", \"Topic17\", \"Topic17\", \"Topic17\", \"Topic17\", \"Topic17\", \"Topic17\", \"Topic17\", \"Topic17\", \"Topic17\", \"Topic17\", \"Topic18\", \"Topic18\", \"Topic18\", \"Topic18\", \"Topic18\", \"Topic18\", \"Topic18\", \"Topic18\", \"Topic18\", \"Topic18\", \"Topic18\", \"Topic18\", \"Topic18\", \"Topic18\", \"Topic18\", \"Topic18\", \"Topic18\", \"Topic18\", \"Topic18\", \"Topic18\", \"Topic18\", \"Topic18\", \"Topic18\", \"Topic18\", \"Topic18\", \"Topic18\", \"Topic18\", \"Topic18\", \"Topic18\", \"Topic18\", \"Topic19\", \"Topic19\", \"Topic19\", \"Topic19\", \"Topic19\", \"Topic19\", \"Topic19\", \"Topic19\", \"Topic19\", \"Topic19\", \"Topic19\", \"Topic19\", \"Topic19\", \"Topic19\", \"Topic19\", \"Topic19\", \"Topic19\", \"Topic19\", \"Topic19\", \"Topic19\", \"Topic19\", \"Topic19\", \"Topic19\", \"Topic19\", \"Topic19\", \"Topic19\", \"Topic19\", \"Topic19\", \"Topic19\", \"Topic19\", \"Topic20\", \"Topic20\", \"Topic20\", \"Topic20\", \"Topic20\", \"Topic20\", \"Topic20\", \"Topic20\", \"Topic20\", \"Topic20\", \"Topic20\", \"Topic20\", \"Topic20\", \"Topic20\", \"Topic20\", \"Topic20\", \"Topic20\", \"Topic20\", \"Topic20\", \"Topic20\", \"Topic20\", \"Topic20\", \"Topic20\", \"Topic20\", \"Topic20\", \"Topic20\", \"Topic20\", \"Topic20\", \"Topic20\", \"Topic20\", \"Topic20\", \"Topic20\", \"Topic20\"], \"logprob\": [30.0, 29.0, 28.0, 27.0, 26.0, 25.0, 24.0, 23.0, 22.0, 21.0, 20.0, 19.0, 18.0, 17.0, 16.0, 15.0, 14.0, 13.0, 12.0, 11.0, 10.0, 9.0, 8.0, 7.0, 6.0, 5.0, 4.0, 3.0, 2.0, 1.0, -2.9489998817443848, -3.0332999229431152, -3.0566000938415527, -3.1791000366210938, -3.3664000034332275, -3.4033000469207764, -3.466900110244751, -3.491499900817871, -3.529599905014038, -3.5940001010894775, -3.598299980163574, -3.617300033569336, -3.6468000411987305, -3.7569000720977783, -3.7818000316619873, -3.81820011138916, -3.9059998989105225, -4.035600185394287, -4.044300079345703, -4.196899890899658, -4.223499774932861, -4.287499904632568, -4.385499954223633, -4.391499996185303, -4.580599784851074, -4.66349983215332, -4.665500164031982, -4.678400039672852, -4.683199882507324, -4.759200096130371, -2.997299909591675, -3.018199920654297, -3.0220999717712402, -3.1073999404907227, -3.245500087738037, -3.2523000240325928, -3.4296000003814697, -3.44320011138916, -3.5125999450683594, -3.5485000610351562, -3.6930999755859375, -3.733799934387207, -3.8427000045776367, -3.8831000328063965, -3.901599884033203, -3.9196999073028564, -3.9326999187469482, -3.960700035095215, -4.052800178527832, -4.075099945068359, -4.324999809265137, -4.3744001388549805, -4.463699817657471, -4.604899883270264, -4.625899791717529, -4.7270002365112305, -4.736299991607666, -4.940299987792969, -5.018899917602539, -5.074399948120117, -3.6489999294281006, -2.693700075149536, -2.887399911880493, -2.9790000915527344, -3.0190999507904053, -3.106100082397461, -3.2249999046325684, -3.2618000507354736, -3.3415000438690186, -3.3513998985290527, -3.365000009536743, -3.466099977493286, -3.601900100708008, -3.684299945831299, -3.748300075531006, -3.78439998626709, -3.965100049972534, -4.122000217437744, -4.230400085449219, -4.569699764251709, -4.788599967956543, -4.8917999267578125, -4.92110013961792, -4.978000164031982, -4.125699996948242, -5.202099800109863, -5.204999923706055, -5.230299949645996, -5.303699970245361, -5.342100143432617, -5.405600070953369, -2.8501999378204346, -2.97160005569458, -3.1143999099731445, -3.157099962234497, -3.3763999938964844, -3.4460999965667725, -3.4547998905181885, -3.464400053024292, -3.5434999465942383, -3.5488998889923096, -3.56469988822937, -3.703900098800659, -3.7507998943328857, -3.763700008392334, -3.900599956512451, -3.9990999698638916, -4.084700107574463, -4.194300174713135, -4.21619987487793, -4.3379998207092285, -4.343900203704834, -4.419099807739258, -4.625, -4.625, -4.6367998123168945, -4.694699764251709, -4.952899932861328, -5.180300235748291, -5.241799831390381, -5.303800106048584, -2.649399995803833, -2.7139999866485596, -3.006200075149536, -3.0971999168395996, -3.1714000701904297, -3.2314000129699707, -3.3124001026153564, -3.437999963760376, -3.4625000953674316, -3.4832000732421875, -3.6105000972747803, -3.669800043106079, -3.802000045776367, -4.138800144195557, -4.1809000968933105, -4.188300132751465, -3.154900074005127, -4.516300201416016, -4.583700180053711, -4.608699798583984, -4.790200233459473, -4.852099895477295, -4.97189998626709, -5.041900157928467, -5.0524001121521, -5.11299991607666, -5.303599834442139, -5.341100215911865, -5.5304999351501465, -5.552299976348877, -5.017899990081787, -2.8828999996185303, -3.011899948120117, -3.248300075531006, -3.3650999069213867, -3.3726000785827637, -3.433300018310547, -3.482100009918213, -3.509999990463257, -3.5171000957489014, -3.676100015640259, -3.677000045776367, -3.7516000270843506, -3.76200008392334, -3.814199924468994, -3.844099998474121, -3.898699998855591, -3.904099941253662, -4.087600231170654, -4.109399795532227, -4.232800006866455, -4.252699851989746, -4.35830020904541, -4.370299816131592, -4.420599937438965, -4.488900184631348, -4.529900074005127, -4.577700138092041, -4.808199882507324, -4.85890007019043, -4.904099941253662, -4.690700054168701, -2.5629000663757324, -2.718100070953369, -3.1059999465942383, -3.1774001121520996, -3.325700044631958, -3.3317999839782715, -3.342600107192993, -3.3703999519348145, -3.489300012588501, -3.6101999282836914, -3.6521999835968018, -3.8024001121520996, -3.812999963760376, -3.9077000617980957, -3.9077999591827393, -3.94320011138916, -4.231299877166748, -4.356299877166748, -4.388599872589111, -4.443600177764893, -4.4741997718811035, -4.856200218200684, -4.863500118255615, -4.867499828338623, -5.4664998054504395, -5.5015997886657715, -5.677800178527832, -5.682499885559082, -5.33459997177124, -5.731599807739258, -4.2144999504089355, -1.7821999788284302, -2.933000087738037, -3.0095999240875244, -3.0188000202178955, -3.2091000080108643, -3.353600025177002, -3.3857998847961426, -3.3914999961853027, -3.821199893951416, -3.894700050354004, -3.900099992752075, -3.9117000102996826, -4.036300182342529, -4.142300128936768, -4.27839994430542, -4.444699764251709, -4.458899974822998, -4.492800235748291, -4.5106000900268555, -4.519000053405762, -4.63100004196167, -4.64769983291626, -4.980899810791016, -5.506100177764893, -5.547900199890137, -5.658400058746338, -5.711999893188477, -5.764999866485596, -5.9070000648498535, -5.908299922943115, -5.60290002822876, -2.4791998863220215, -2.7269999980926514, -3.034600019454956, -3.1793999671936035, -3.254699945449829, -3.3592000007629395, -3.4730000495910645, -3.5090999603271484, -3.56820011138916, -3.7100000381469727, -3.8671000003814697, -3.8835999965667725, -3.977400064468384, -4.077899932861328, -4.1132001876831055, -4.168600082397461, -4.230999946594238, -4.234799861907959, -4.314300060272217, -4.367300033569336, -4.599400043487549, -4.637199878692627, -4.647500038146973, -4.676700115203857, -4.722400188446045, -4.74399995803833, -4.799499988555908, -4.857500076293945, -5.105299949645996, -5.457600116729736, -2.856800079345703, -2.888000011444092, -3.027600049972534, -3.0789999961853027, -3.1282999515533447, -3.2504000663757324, -3.2639999389648438, -3.360100030899048, -3.4879000186920166, -3.5452001094818115, -3.655100107192993, -3.759700059890747, -3.8929998874664307, -4.1493000984191895, -4.292600154876709, -4.340700149536133, -4.447700023651123, -4.581600189208984, -4.677499771118164, -3.9296998977661133, -4.784900188446045, -5.111100196838379, -5.111199855804443, -5.182199954986572, -5.207499980926514, -5.230599880218506, -4.212900161743164, -5.740900039672852, -5.864999771118164, -5.923600196838379, -2.7471001148223877, -2.830899953842163, -2.8761000633239746, -2.9240000247955322, -3.1791000366210938, -3.408600091934204, -3.558500051498413, -3.7381999492645264, -3.9614999294281006, -3.9656999111175537, -4.01140022277832, -4.037600040435791, -4.18179988861084, -4.206299781799316, -4.208199977874756, -4.236000061035156, -4.2881999015808105, -4.30079984664917, -4.431600093841553, -4.487800121307373, -4.576399803161621, -4.639999866485596, -4.793000221252441, -4.802499771118164, -4.951200008392334, -5.042200088500977, -5.290900230407715, -4.457300186157227, -5.500999927520752, -5.691999912261963, -5.328100204467773, -5.466599941253662, -2.7602999210357666, -2.79229998588562, -3.02239990234375, -3.1120998859405518, -3.1180999279022217, -3.15910005569458, -3.1819000244140625, -3.4700000286102295, -3.6101999282836914, -3.7583000659942627, -3.7618000507354736, -3.8975000381469727, -3.9356000423431396, -3.9391000270843506, -4.024600028991699, -4.048399925231934, -4.059999942779541, -4.202000141143799, -4.452600002288818, -4.6915998458862305, -4.926799774169922, -5.0904998779296875, -5.205999851226807, -5.371399879455566, -5.453199863433838, -5.507400035858154, -5.586400032043457, -5.752500057220459, -6.098199844360352, -8.861300468444824, -8.861300468444824, -2.5432000160217285, -2.672300100326538, -2.9312000274658203, -2.9598000049591064, -3.42930006980896, -3.4591000080108643, -3.4737000465393066, -3.4765000343322754, -3.4944000244140625, -3.671600103378296, -3.897900104522705, -3.907099962234497, -3.9567999839782715, -4.188300132751465, -4.253600120544434, -4.280300140380859, -4.546599864959717, -4.561299800872803, -4.720399856567383, -4.888899803161621, -4.893499851226807, -5.131100177764893, -5.141200065612793, -5.240600109100342, -5.241399765014648, -5.446100234985352, -5.732800006866455, -5.825399875640869, -6.288899898529053, -8.796500205993652, -2.2328999042510986, -2.5708000659942627, -3.191999912261963, -3.2653000354766846, -3.3036999702453613, -3.3225998878479004, -3.486599922180176, -3.5272998809814453, -3.6017000675201416, -3.652100086212158, -3.66510009765625, -3.6786000728607178, -3.725399971008301, -3.85509991645813, -3.9972000122070312, -4.343599796295166, -4.363399982452393, -4.8420000076293945, -5.116499900817871, -5.419000148773193, -5.541800022125244, -5.642099857330322, -5.679200172424316, -6.080399990081787, -4.620699882507324, -6.331200122833252, -8.843000411987305, -8.843000411987305, -8.843099594116211, -8.843199729919434, -8.843199729919434, -2.6073999404907227, -2.666800022125244, -2.8896000385284424, -2.9375998973846436, -2.9823999404907227, -2.9848999977111816, -3.190000057220459, -3.287899971008301, -3.4335999488830566, -3.45770001411438, -3.6486001014709473, -3.7404000759124756, -4.256700038909912, -4.317399978637695, -4.510300159454346, -4.68720006942749, -4.703499794006348, -4.703499794006348, -4.7555999755859375, -4.785200119018555, -4.987100124359131, -5.228600025177002, -6.35830020904541, -8.870200157165527, -8.870599746704102, -8.870699882507324, -8.870599746704102, -8.87090015411377, -8.87090015411377, -8.870699882507324, -8.87030029296875, -2.3526999950408936, -2.5950000286102295, -2.6900999546051025, -2.9321999549865723, -3.0499000549316406, -3.1370999813079834, -3.407399892807007, -3.5722999572753906, -3.6359000205993652, -3.9718000888824463, -4.028200149536133, -4.3744001388549805, -4.61359977722168, -4.656799793243408, -4.661200046539307, -4.704100131988525, -4.778600215911865, -5.037799835205078, -5.079100131988525, -5.520500183105469, -5.5493998527526855, -6.07889986038208, -8.728699684143066, -8.7298002243042, -8.730500221252441, -8.730600357055664, -8.730899810791016, -8.731200218200684, -8.730400085449219, -8.731300354003906, -8.731100082397461, -8.731100082397461, -8.731100082397461, -2.7102999687194824, -2.7544000148773193, -3.003700017929077, -3.224100112915039, -3.2881999015808105, -3.2904999256134033, -3.355600118637085, -3.500999927520752, -3.6689000129699707, -3.9075000286102295, -4.178999900817871, -4.28879976272583, -4.470200061798096, -4.587299823760986, -4.9207000732421875, -3.9730000495910645, -5.239200115203857, -5.239200115203857, -5.239200115203857, -5.239999771118164, -5.33620023727417, -5.392899990081787, -5.434999942779541, -5.642899990081787, -6.081999778747559, -5.116499900817871, -8.592499732971191, -8.59220027923584, -8.594400405883789, -8.59469985961914, -8.59469985961914, -2.1415998935699463, -3.0703001022338867, -3.3942999839782715, -3.4762001037597656, -3.63100004196167, -3.634200096130371, -3.6989998817443848, -3.819000005722046, -4.020500183105469, -4.063199996948242, -4.173600196838379, -4.188700199127197, -4.196300029754639, -4.404699802398682, -4.540900230407715, -4.675099849700928, -4.68779993057251, -4.876200199127197, -5.039100170135498, -5.06850004196167, -5.1305999755859375, -5.200200080871582, -5.239699840545654, -5.2982001304626465, -4.095799922943115, -5.623799800872803, -5.624499797821045, -6.33519983291626, -5.198699951171875, -4.80810022354126, -2.79259991645813, -2.8359999656677246, -2.9928998947143555, -3.208199977874756, -3.5664000511169434, -3.660399913787842, -3.7778000831604004, -3.785900115966797, -3.7987000942230225, -3.147599935531616, -3.9909000396728516, -4.045100212097168, -4.194699764251709, -4.535099983215332, -4.829800128936768, -4.913400173187256, -5.07420015335083, -5.314000129699707, -5.961299896240234, -8.471199989318848, -8.47249984741211, -8.473299980163574, -8.473699569702148, -8.473699569702148, -8.473600387573242, -8.473699569702148, -8.473699569702148, -8.473699569702148, -8.473699569702148, -8.473799705505371, -1.716599941253662, -2.6117000579833984, -2.739500045776367, -3.1644999980926514, -3.591099977493286, -4.796500205993652, -4.920899868011475, -5.583499908447266, -5.583499908447266, -5.583499908447266, -5.583600044250488, -8.389399528503418, -8.389399528503418, -8.39009952545166, -8.390199661254883, -8.390700340270996, -8.39050006866455, -8.390399932861328, -8.390800476074219, -8.390899658203125, -8.390899658203125, -8.390899658203125, -8.390899658203125, -8.390899658203125, -8.390800476074219, -8.390800476074219, -8.390899658203125, -8.39109992980957, -8.39109992980957, -8.39109992980957, -8.390999794006348, -8.390999794006348, -8.390999794006348], \"loglift\": [30.0, 29.0, 28.0, 27.0, 26.0, 25.0, 24.0, 23.0, 22.0, 21.0, 20.0, 19.0, 18.0, 17.0, 16.0, 15.0, 14.0, 13.0, 12.0, 11.0, 10.0, 9.0, 8.0, 7.0, 6.0, 5.0, 4.0, 3.0, 2.0, 1.0, 2.4004, 2.3982, 2.3975, 2.3939, 2.3874, 2.386, 2.3834, 2.3824, 2.3807, 2.3778, 2.3776, 2.3767, 2.3752, 2.3695, 2.3681, 2.366, 2.3607, 2.352, 2.3514, 2.3396, 2.3374, 2.3318, 2.3226, 2.322, 2.3016, 2.2916, 2.2913, 2.2897, 2.2891, 2.279, 2.4322, 2.4317, 2.4316, 2.4291, 2.4246, 2.4243, 2.4176, 2.417, 2.414, 2.4124, 2.4052, 2.403, 2.3966, 2.3941, 2.3929, 2.3917, 2.3909, 2.389, 2.3824, 2.3807, 2.3593, 2.3545, 2.3452, 2.3289, 2.3263, 2.313, 2.3118, 2.2811, 2.2678, 2.2578, 2.0972, 2.7503, 2.7443, 2.7411, 2.7396, 2.7361, 2.7308, 2.729, 2.725, 2.7245, 2.7238, 2.7181, 2.7096, 2.7039, 2.6991, 2.6963, 2.6807, 2.665, 2.6528, 2.606, 2.568, 2.5475, 2.5414, 2.5291, 2.5103, 2.4751, 2.4743, 2.4676, 2.4475, 2.4365, 2.4177, 2.7671, 2.7628, 2.7571, 2.7553, 2.7444, 2.7404, 2.7399, 2.7393, 2.7344, 2.7341, 2.733, 2.7233, 2.7197, 2.7187, 2.7072, 2.6979, 2.6892, 2.677, 2.6745, 2.6592, 2.6584, 2.6481, 2.6162, 2.6162, 2.6142, 2.6041, 2.5528, 2.4982, 2.4818, 2.4645, 2.7935, 2.7917, 2.7816, 2.7778, 2.7745, 2.7716, 2.7674, 2.7604, 2.7589, 2.7576, 2.7492, 2.7449, 2.7344, 2.7014, 2.6965, 2.6956, 2.6935, 2.6506, 2.6397, 2.6355, 2.6022, 2.5896, 2.5636, 2.5472, 2.5447, 2.5296, 2.4778, 2.4667, 2.4062, 2.3987, 1.6395, 2.8078, 2.8029, 2.792, 2.7857, 2.7853, 2.7817, 2.7787, 2.7768, 2.7764, 2.7651, 2.765, 2.7591, 2.7583, 2.7538, 2.7512, 2.7462, 2.7457, 2.7269, 2.7245, 2.7097, 2.7072, 2.693, 2.6913, 2.684, 2.6736, 2.667, 2.6591, 2.6161, 2.6056, 2.5958, 2.3867, 2.8185, 2.8141, 2.7997, 2.7964, 2.7888, 2.7885, 2.7879, 2.7863, 2.7791, 2.771, 2.7679, 2.7559, 2.755, 2.7465, 2.7465, 2.7431, 2.7112, 2.6947, 2.6901, 2.682, 2.6774, 2.608, 2.6064, 2.6056, 2.4445, 2.4328, 2.3698, 2.368, 2.3602, 2.349, 1.5318, 2.8533, 2.8266, 2.8236, 2.8232, 2.8145, 2.8067, 2.8048, 2.8045, 2.773, 2.7663, 2.7658, 2.7646, 2.7519, 2.74, 2.7228, 2.699, 2.6968, 2.6915, 2.6886, 2.6872, 2.668, 2.665, 2.5955, 2.4439, 2.4294, 2.3888, 2.3682, 2.347, 2.2871, 2.2865, 1.4173, 2.8696, 2.8625, 2.8509, 2.8441, 2.8402, 2.8343, 2.8272, 2.8248, 2.8206, 2.8097, 2.7958, 2.7943, 2.7849, 2.7738, 2.7697, 2.763, 2.7551, 2.7546, 2.7438, 2.7361, 2.6984, 2.6915, 2.6896, 2.6841, 2.6753, 2.6709, 2.6595, 2.6471, 2.5871, 2.4808, 2.9087, 2.9074, 2.9015, 2.8991, 2.8967, 2.8902, 2.8895, 2.8838, 2.8753, 2.8712, 2.8626, 2.8537, 2.8409, 2.8117, 2.7922, 2.7852, 2.7683, 2.745, 2.7267, 2.723, 2.7044, 2.6244, 2.6244, 2.6042, 2.5968, 2.5899, 2.4445, 2.4073, 2.3535, 2.3268, 2.9761, 2.9728, 2.971, 2.9689, 2.9563, 2.942, 2.9308, 2.9153, 2.8921, 2.8916, 2.8862, 2.8831, 2.8642, 2.8608, 2.8605, 2.8565, 2.8488, 2.8468, 2.8256, 2.8157, 2.7992, 2.7866, 2.7536, 2.7514, 2.7151, 2.6908, 2.6157, 2.5629, 2.5417, 2.4655, 2.3272, 1.5116, 3.0365, 3.0352, 3.0246, 3.0198, 3.0194, 3.0171, 3.0157, 2.996, 2.9843, 2.9702, 2.9699, 2.9552, 2.9507, 2.9503, 2.9397, 2.9366, 2.9351, 2.9151, 2.8733, 2.8247, 2.7672, 2.7209, 2.6848, 2.6281, 2.5977, 2.5767, 2.5449, 2.4729, 2.3012, 0.1023, 0.1021, 3.0551, 3.0506, 3.0397, 3.0384, 3.0096, 3.0073, 3.0061, 3.0059, 3.0045, 2.989, 2.9653, 2.9642, 2.9583, 2.927, 2.917, 2.9127, 2.8647, 2.8618, 2.8274, 2.7861, 2.7849, 2.717, 2.7139, 2.6818, 2.6815, 2.6083, 2.4892, 2.4463, 2.2, 0.1662, 3.109, 3.0989, 3.0689, 3.0641, 3.0614, 3.0601, 3.0473, 3.0439, 3.0372, 3.0324, 3.0311, 3.0298, 3.025, 3.0107, 2.993, 2.9398, 2.9362, 2.8314, 2.752, 2.6455, 2.5962, 2.5532, 2.5367, 2.336, 2.2703, 2.1903, 0.1206, 0.1206, 0.1205, 0.1203, 0.1203, 3.0995, 3.0973, 3.0876, 3.0852, 3.0829, 3.0828, 3.0709, 3.0644, 3.0535, 3.0515, 3.0344, 3.0251, 2.9561, 2.9458, 2.9095, 2.8709, 2.8671, 2.8671, 2.8545, 2.8471, 2.7924, 2.7158, 2.1735, 0.0932, 0.0929, 0.0929, 0.0928, 0.0927, 0.0927, 0.0926, 0.0923, 3.1931, 3.1846, 3.1807, 3.169, 3.1622, 3.1567, 3.1365, 3.1215, 3.1151, 3.0744, 3.0664, 3.0075, 2.9561, 2.9457, 2.9446, 2.934, 2.9147, 2.8387, 2.8253, 2.6575, 2.6449, 2.377, 0.2343, 0.2336, 0.233, 0.2329, 0.2326, 0.2325, 0.2324, 0.2324, 0.2324, 0.2323, 0.2321, 3.3748, 3.3724, 3.3567, 3.3395, 3.3338, 3.3336, 3.3274, 3.3123, 3.2922, 3.2581, 3.21, 3.1874, 3.1454, 3.1151, 3.0136, 3.0052, 2.8934, 2.8934, 2.8934, 2.8931, 2.852, 2.8267, 2.8075, 2.7057, 2.4557, 1.9608, 0.3705, 0.3705, 0.3691, 0.3688, 0.3687, 3.5266, 3.4736, 3.4415, 3.4318, 3.4114, 3.411, 3.4016, 3.3828, 3.3467, 3.3382, 3.315, 3.3117, 3.31, 3.2595, 3.2221, 3.1815, 3.1774, 3.1132, 3.0511, 3.0393, 3.0135, 2.9835, 2.9659, 2.9392, 2.7952, 2.7749, 2.7745, 2.059, 1.6002, 1.0403, 3.8365, 3.8324, 3.816, 3.7894, 3.7326, 3.7147, 3.6904, 3.6886, 3.6858, 3.6514, 3.6401, 3.626, 3.584, 3.4707, 3.3508, 3.313, 3.2353, 3.1074, 2.6937, 0.4924, 0.4911, 0.4902, 0.49, 0.49, 0.49, 0.4899, 0.4899, 0.4899, 0.4898, 0.4897, 4.147, 4.0855, 4.0718, 4.0136, 3.9304, 3.5, 3.4359, 3.0314, 3.0314, 3.0314, 3.0313, 0.574, 0.574, 0.5735, 0.5734, 0.5729, 0.5729, 0.5729, 0.5728, 0.5728, 0.5728, 0.5728, 0.5728, 0.5728, 0.5727, 0.5727, 0.5726, 0.5726, 0.5726, 0.5726, 0.5726, 0.5726, 0.5725]}, \"token.table\": {\"Topic\": [5, 5, 9, 15, 9, 12, 16, 9, 16, 3, 7, 10, 18, 19, 18, 2, 4, 8, 4, 13, 9, 4, 16, 5, 10, 4, 7, 20, 12, 5, 8, 1, 18, 16, 16, 11, 7, 14, 9, 2, 11, 6, 3, 19, 9, 15, 12, 7, 1, 18, 14, 16, 12, 5, 1, 12, 18, 12, 18, 3, 10, 16, 6, 2, 11, 6, 8, 6, 12, 11, 11, 2, 14, 4, 10, 13, 4, 17, 14, 19, 9, 13, 3, 10, 16, 14, 12, 5, 12, 6, 6, 17, 18, 19, 7, 13, 13, 9, 18, 19, 11, 10, 8, 14, 15, 11, 9, 9, 8, 14, 5, 14, 3, 12, 15, 9, 4, 6, 19, 18, 10, 17, 8, 3, 7, 12, 13, 20, 13, 7, 9, 12, 3, 4, 14, 1, 5, 13, 5, 10, 5, 18, 18, 19, 7, 10, 3, 18, 11, 6, 19, 14, 7, 2, 4, 16, 15, 12, 11, 4, 3, 18, 20, 12, 10, 12, 14, 2, 9, 5, 6, 1, 2, 2, 15, 17, 5, 2, 11, 11, 10, 16, 11, 3, 9, 14, 16, 8, 2, 18, 9, 3, 1, 14, 18, 3, 7, 7, 18, 13, 10, 4, 2, 9, 12, 1, 1, 17, 7, 10, 19, 7, 1, 11, 18, 1, 15, 16, 17, 11, 3, 8, 15, 15, 15, 4, 17, 14, 6, 1, 9, 12, 2, 5, 2, 19, 19, 8, 16, 9, 5, 10, 19, 16, 17, 2, 15, 1, 5, 13, 6, 1, 10, 4, 13, 10, 2, 13, 1, 17, 18, 15, 11, 7, 10, 10, 3, 9, 18, 14, 17, 1, 8, 4, 6, 10, 18, 16, 4, 7, 17, 12, 5, 17, 17, 9, 5, 11, 3, 1, 18, 11, 12, 18, 19, 3, 13, 15, 14, 2, 11, 5, 2, 7, 7, 8, 10, 1, 8, 11, 8, 2, 4, 17, 12, 13, 12, 10, 5, 8, 19, 5, 2, 2, 2, 8, 17, 7, 13, 1, 5, 17, 4, 5, 3, 15, 11, 17, 8, 3, 11, 3, 8, 11, 12, 7, 11, 8, 8, 12, 5, 18, 13, 6, 5, 4, 10, 5, 20, 4, 1, 6, 2, 3, 11, 10, 17, 1, 1, 8, 7, 11, 9, 15, 14, 6, 7, 12, 4, 4, 16, 5, 11, 7, 17, 7, 6, 11, 2, 13, 11, 6, 13, 2, 15, 2, 4, 1, 10, 16, 13, 16, 18, 5, 6, 16, 8, 2, 9, 17, 16, 19, 6, 14, 10, 18, 18, 8, 4, 3, 10, 8, 15, 3, 13, 4, 7, 7, 19, 7, 6, 18, 9, 13, 13, 13, 9, 8, 14, 3, 4, 15, 8, 1, 2, 1, 13, 14, 9, 7, 5, 6, 10, 15, 5, 18, 7, 10, 19, 11, 15, 17, 11, 12, 9, 16, 1, 15, 8, 3, 3, 13, 8, 1, 3, 14, 8, 4, 3, 3, 6, 14, 13, 7, 8, 13, 11, 2, 10, 7, 9, 7, 20, 12, 4, 6, 15, 6, 2, 20, 16, 20, 10, 7, 3, 8, 13, 12, 7, 18, 3, 14, 8, 17, 17, 12, 20, 18, 17, 15, 13, 2, 4, 2, 9, 9, 1, 9, 1, 6, 11, 1, 4, 6, 17, 14, 4, 19, 4, 5, 19, 6, 6, 20, 20, 12, 6, 6, 1, 20, 14, 14, 5, 17, 8, 6, 2], \"Freq\": [0.8742108920510637, 0.9536193164712704, 0.9277683628406076, 0.7168817482279991, 0.8843321440118571, 0.9300390134208965, 0.9100123637331652, 0.792740106959361, 0.950544282560763, 0.7426552477388623, 0.6044317399006366, 0.9549803957050161, 0.6700417893914311, 0.5608168667673593, 0.8172081882123128, 0.951766922429715, 0.7048785235132776, 0.45138226142047294, 0.9261211083846319, 0.9595203265021458, 0.8288788701194362, 0.87758524996565, 0.2932231283535941, 0.29124360777463043, 0.5824872155492609, 0.9643786197914551, 0.9768194035905094, 0.34376929475431206, 0.5573212617750853, 0.7800888443824694, 0.9117584702300785, 0.926572819228024, 0.7971770622596429, 0.968642468880193, 0.9463624344312996, 0.9492197048422403, 0.8528202506277894, 0.9581712061778536, 0.766304904824723, 0.9434087905024817, 0.5819489589559824, 0.8664797333481438, 0.9626812685205115, 0.6679979959453943, 0.9274450221191686, 0.8323395297047145, 0.6065538913075537, 0.9232421075013464, 0.9419225760504687, 0.8730930620502811, 0.45191332914324017, 0.7766054320272541, 0.6665814060448049, 0.697883029638685, 0.9514728244850659, 0.6358318483282618, 0.8703078925545887, 0.8756805583743622, 0.6210427957898075, 0.7245870624253202, 0.7133669139234133, 0.65712875195605, 0.8726622849597532, 0.26335717567003036, 0.5267143513400607, 0.9153319838988527, 0.8299180138001803, 0.7890843849822292, 0.5542639595028819, 0.8267516689377592, 0.8859194996799112, 0.949970889908986, 0.9083606848540073, 0.9254440076062846, 0.9635718263776623, 0.8277540354897128, 0.944771700225561, 0.9076831670743204, 0.9441478618885096, 0.5665874268168558, 0.6832425022716717, 0.9372131924198284, 0.9271034961415747, 0.9554463648988264, 0.45146463539189985, 0.9009592960468725, 0.8860864361519158, 0.8524020769744449, 0.5867226895733293, 0.9322448574579766, 0.863704664864242, 0.8069468872251894, 0.6440184759539997, 0.8866898837271042, 0.696273973545699, 0.8293146975724692, 0.8057651692210362, 0.6990905907664677, 0.1677754571610169, 0.7270269810310733, 0.7138761357332928, 0.8908444441097307, 0.911398696401119, 0.9056804201056002, 0.9006636197768212, 0.8892689277900908, 0.8918404180544136, 0.9404063680494569, 0.9486046121547592, 0.8803086904433219, 0.8549355441241394, 0.8170289047478962, 0.9666772969400663, 0.9219690294501908, 0.725862750227834, 0.8548879172405397, 0.9485894598160439, 0.9426442467151934, 0.8298862545184341, 0.5517382587366483, 0.6466238910610524, 0.8549544776345379, 0.9435926382835947, 0.7447764545229902, 0.9556987215988222, 0.9491161511061086, 0.6883007335693154, 0.9091666376140968, 0.925252729409472, 0.9212257585449019, 0.8141182744161407, 0.8570361111030231, 0.8151577493809761, 0.7370870072190987, 0.9469874869194305, 0.9688226822059726, 0.9587613987174324, 0.9114145720517334, 0.9280565757997642, 0.9290309192355387, 0.8862630157615388, 0.08646468446454036, 0.554017923639896, 0.777045332946649, 0.09662491571223192, 0.8213117835539713, 0.687027663908373, 0.7896893799230976, 0.8250505410631462, 0.8325987557248312, 0.7710950017151826, 0.804486629464225, 0.9038199037232136, 0.9126364089337613, 0.9371789626370419, 0.6662286797795828, 0.9588930295379732, 0.8851761157624034, 0.7958861145212192, 0.9346602698561207, 0.968290775362757, 0.8560727013054236, 0.9058999992381492, 0.884573640983793, 0.85309847800848, 0.8577162522673172, 0.46128654033634237, 0.8531666808047396, 0.9509755072287893, 0.9562154074684064, 0.9600992549395345, 0.9763868073745466, 0.9292912076891073, 0.8863329038072845, 0.7720895447571189, 0.8920290180773405, 0.9654877136813785, 0.926742175106206, 0.9504592281246383, 0.6527459868170632, 0.9287402211836198, 0.944868447937284, 0.9535761982028522, 0.6743973122246681, 0.8695710912071973, 0.5637392719255603, 0.8014210439192351, 0.8683909725170439, 0.9585227582111663, 0.45660103849595757, 0.9529100124716473, 0.949808715694111, 0.851298220633693, 0.4292353009328764, 0.490554629637573, 0.9375546623881226, 0.761353187281032, 0.9415440862296941, 0.7332575738930588, 0.9223646306508353, 0.7505982467932021, 0.8909562942837436, 0.9036627466387632, 0.8940409485554316, 0.684370838059882, 0.9375322457695731, 0.9524434637655025, 0.6367109219706493, 0.5864615881707169, 0.7641240404726842, 0.7693089315278607, 0.9188914420509663, 0.9635931523980844, 0.8641499643203996, 0.8366745579956694, 0.9256062968225591, 0.9301900216459708, 0.9329993767617006, 0.7593473407384885, 0.8774834475154708, 0.6230067333041209, 0.8221597495503004, 0.9421057057070474, 0.9569237138373478, 0.7454018750556267, 0.9366226953846314, 0.9423605844494324, 0.8303900409253876, 0.9468008317727244, 0.9576096540778448, 0.8341111542783383, 0.8021517374326227, 0.8959111272961824, 0.872900907131765, 0.9583689166490211, 0.8966358085706294, 0.4661766555657948, 0.7267262182461119, 0.8266986863254985, 0.9706397597669228, 0.8176577530746304, 0.8195212539922202, 0.9036500138306652, 0.7252402557034757, 0.6962147108223734, 0.9722853205730614, 0.9536812167941406, 0.9711948025559266, 0.9139021195541335, 0.901807198706678, 0.9038534419657395, 0.8645808752722411, 0.8548478703037267, 0.7909922873184212, 0.8945216745804044, 0.8187647932981991, 0.9273103264857522, 0.9723979881230673, 0.9683714312813012, 0.7705665316389262, 0.6441255234038088, 0.7032483046137974, 0.9498120639992663, 0.9193910991417913, 0.776646325037703, 0.9155475250918926, 0.9409536544027183, 0.876613973151933, 0.7802067640171616, 0.6400960013143016, 0.6730959918957119, 0.9117034362047107, 0.878868247837697, 0.9512444931745256, 0.922191559706194, 0.7807932611041756, 0.9100059472332858, 0.9061308613736394, 0.9299483929561142, 0.9614256809552666, 0.9280558651203826, 0.9525772955737112, 0.8098099644336076, 0.8071784810438841, 0.8964099450348039, 0.8283686053143259, 0.9508811214455061, 0.8336016895417445, 0.760107905262991, 0.8524557403973657, 0.47133568205624765, 0.9027287848858252, 0.85252284306832, 0.5538615104427159, 0.35783222077888993, 0.9356688652306875, 0.9529776173141316, 0.31636355079485395, 0.9194449717470459, 0.8578948819372167, 0.7115157301076869, 0.7668280378352864, 0.7026172392397688, 0.2732400374821323, 0.9206415499299998, 0.8900568602028229, 0.4625370796556642, 0.9576537815451613, 0.20932342168252585, 0.6279702650475776, 0.6237356350221117, 0.8608856507337886, 0.6738258657601238, 0.4630550444732922, 0.7696039586383703, 0.9348673285252284, 0.9116874116828256, 0.9607311371890516, 0.744444210756195, 0.7301248164289812, 0.506571576604719, 0.9531264569596841, 0.9277793496335627, 0.8473781239890674, 0.9386791223090748, 0.9897901605264361, 0.6901555547372606, 0.8634827828818126, 0.8350990108256757, 0.8609813200236729, 0.8079458190580681, 0.9378518255482393, 0.8702758052776512, 0.7079749565904613, 0.9049876183076817, 0.9208242307705429, 0.20071046186907082, 0.6690348728969027, 0.9449017410955306, 0.9746738157370386, 0.950917626717055, 0.9117407025527019, 0.841326439387458, 0.8625586074464898, 0.9524914778515773, 0.932254036473675, 0.7963792554769786, 0.9692444410751465, 0.9528985176381698, 0.46572708117668077, 0.7394590292912312, 0.8584394874384657, 0.9363004654341529, 0.8539384500144709, 0.9416568580807388, 0.9607468457435999, 0.9543134076578071, 0.7468479561864936, 0.8062734870502228, 0.8864450212501858, 0.9529743428774328, 0.8361538316033208, 0.9652640217056642, 0.9273953521277136, 0.9186954207463036, 0.9597955717848015, 0.473718557544667, 0.8878176331044554, 0.9341239589759346, 0.5845913418109716, 0.9756266054670787, 0.8842220873139458, 0.7847157209365375, 0.9521968626177575, 0.9351590253757754, 0.910892648579373, 0.9590397248293632, 0.9470496496741687, 0.8726757934546074, 0.9251751519254179, 0.6757251013203672, 0.9371091979529907, 0.859172135462543, 0.9362442908720248, 0.6367109219706493, 0.9457948590005135, 0.9356040128833767, 0.7987378311856391, 0.8976126194550529, 0.5888202493094091, 0.6771919235650591, 0.9445452706675227, 0.8793614398229419, 0.9648917454129696, 0.8459389765458198, 0.9455132517497677, 0.8581234577212633, 0.9537167931804315, 0.9385012853661819, 0.9061619086543652, 0.6387546102754139, 0.7494240128425522, 0.7941206622206344, 0.966658842696822, 0.9359710894268377, 0.7519588466639827, 0.6041526428615094, 0.8540101462772348, 0.8794806582559069, 0.8902015423370815, 0.9743337710335255, 0.6688458201058239, 0.9310704342960188, 0.9053628495466222, 0.8486248241824312, 0.9567268871833351, 0.6102649535365801, 0.9664925245899468, 0.9396734461390196, 0.6729427236607332, 0.9404047305408464, 0.9580358991622128, 0.800700760074329, 0.9471550714040118, 0.46411415489474783, 0.7936854494916918, 0.8877595678186425, 0.9194247071167254, 0.7448760761212142, 0.7657477865657686, 0.9088293500159446, 0.8317405046076395, 0.9483713522409575, 0.810936951331968, 0.8253552233662702, 0.6879684364076106, 0.9305845549707035, 0.8811411794167167, 0.313104640526077, 0.7602101895408395, 0.14253941053890742, 0.919440019601782, 0.925621310667702, 0.9658354299480199, 0.9328412365054024, 0.9351642943469083, 0.95415061281071, 0.5947511449190427, 0.9164026871834549, 0.8993972534518603, 0.9032177187346497, 0.9124136998066735, 0.4775386961819427, 0.725862750227834, 0.7453559937394877, 0.6497153907966094, 0.6801886565778914, 0.713327290845831, 0.8833907566136674, 0.8718004192305085, 0.9469618141703141, 0.3182098828421088, 0.8789030841503512, 0.8888105476563392, 0.9462774998852532, 0.8593371843732331, 0.9534565691566206, 0.9398958889036897, 0.8404056398600033, 0.9346322211327951, 0.7947358351519126, 0.6737503149656155, 0.4517146736752217, 0.9032714639996271, 0.8517244892296915, 0.9769523939644232, 0.8852170796241626, 0.9018620192864015, 0.7813919601491687, 0.9696721916318317, 0.7615739887828, 0.9422898037768705, 0.8440234255442594, 0.5478886231523048, 0.1369721557880762, 0.6432080906078272, 0.9285835595974538, 0.8197075045731387, 0.9309012018095376, 0.875237420701392, 0.7574638003381864, 0.5847367336438761, 0.3437841069487346, 0.9502056635462142, 0.8703026785203457, 0.9428269191460267, 0.896447604255675, 0.9383445111972286, 0.9624221306569776, 0.5000131858726198, 0.6838347930048206, 0.817077015869239, 0.8529798888129664, 0.7681554360623084, 0.8841314722312579, 0.8904859270834654, 0.4878241459245076, 0.9648722094488, 0.2756818522511503, 0.2756818522511503, 0.9665663593430763, 0.8977251315721803, 0.8345002356214165, 0.6369905609513821, 0.9586396181663649, 0.8544414525086053, 0.5311274848873573, 0.7894398360796766, 0.6367109219706493, 0.7551285681729119, 0.3030591724565688, 0.943563230169727, 0.8296662715986073, 0.9669165065896277, 0.9645949216619116, 0.9677516784796185, 0.9191767961152412, 0.8515109889521713, 0.9501431026961034, 0.9385374024572358, 0.838082208320031, 0.9241417044394095, 0.9238050453523641, 0.6648720916137496, 0.22162403053791654, 0.6518284976695107, 0.9090800557174763, 0.7644103212915492, 0.9473542452692824, 0.9545070484967999, 0.7959980565460706, 0.9614533564300127, 0.8686620333546129, 0.3437713964068957, 0.3437703689290887, 0.845541774321644, 0.9393091659418181, 0.8043986648706933, 0.8498429873448343, 0.9656147261215953, 0.8968889347697523, 0.9220497752040364, 0.9073526044641347, 0.5268019368851778, 0.707217029542214, 0.8351144829758836, 0.9759573935586398], \"Term\": [\"aandeel\", \"aandeelhouder\", \"aanleiding\", \"aantoonbaar\", \"aanwezig\", \"aanwijzing\", \"aanzienlijk\", \"acceptabel\", \"actief\", \"actueel\", \"acuut\", \"administratief\", \"afgelost\", \"afghanistan\", \"afkomstig\", \"afweging\", \"agema\", \"alleenstaand\", \"allochtoon\", \"alsnog\", \"alsook\", \"apart\", \"ard\", \"autoriteit\", \"autoriteit\", \"awbz\", \"bank\", \"basisziekenhui\", \"beeindig\", \"beeindiging\", \"beginsel\", \"behoefte\", \"behouden\", \"belasting\", \"belemmering\", \"beoordeling\", \"bepaald\", \"bepaling\", \"beperk\", \"bescherming\", \"beschikking\", \"beslag\", \"besluitvorming\", \"bestand\", \"bestuurder\", \"beveiliging\", \"bevinding\", \"bevoegdheid\", \"bevolking\", \"bewerkstellig\", \"bewijs\", \"bewust\", \"bezwaar\", \"biedenen\", \"bijvoorbeeld\", \"bilateraal\", \"bommel\", \"bommelkst\", \"bonus\", \"bovengenoemd\", \"brinkmank\", \"burgers\", \"bv\", \"car\", \"car\", \"categorie\", \"client\", \"commissaris\", \"commissiedavid\", \"conflict\", \"conform\", \"consequentie\", \"contact\", \"contract\", \"controle\", \"cq\", \"crimineel\", \"crisis\", \"criterium\", \"daad\", \"daaraan\", \"daartoe\", \"daarvan\", \"dagbrinkmank\", \"daggill\", \"daggrausk\", \"daghalsema\", \"dagkantkst\", \"dagkarabulut\", \"dagkoopmans\", \"dagleijtenk\", \"dagpechtoldk\", \"dagpeter\", \"dagpetersk\", \"dagpolderman\", \"dagroem\", \"dagtang\", \"dagtimmer\", \"dagtony\", \"dagtony\", \"dagulenbeltk\", \"dagverdonk\", \"dagverdonkk\", \"dagvoordewind\", \"dagweekersk\", \"dam\", \"damk\", \"debat\", \"definitief\", \"democratisch\", \"denemark\", \"denkbaar\", \"derhalve\", \"dibik\", \"dijck\", \"discriminatie\", \"discussie\", \"doel\", \"doelen\", \"doen\", \"drag\", \"dring\", \"druk\", \"duid\", \"duur\", \"economie\", \"eenvoudig\", \"eerder\", \"eerst\", \"eind\", \"einde\", \"eindrapport\", \"enquete\", \"erg\", \"erop\", \"ers\", \"ertoe\", \"ervaring\", \"essent\", \"essentieel\", \"eu\", \"eu\", \"eupartner\", \"euro\", \"europa\", \"europa\", \"europarout\", \"euverband\", \"evaluati\", \"eveneens\", \"evenwichtig\", \"exclusief\", \"export\", \"feit\", \"feitelijk\", \"ferrierk\", \"financi\", \"fonds\", \"forum\", \"fraud\", \"functie\", \"fundamenteel\", \"fusie\", \"gaan\", \"garant\", \"garantie\", \"gazastrook\", \"gebruiker\", \"gegeven\", \"geheel\", \"gelijk\", \"gemeentelijk\", \"gemiddeld\", \"generatie\", \"genetisch\", \"geschikt\", \"gesprek\", \"gevaar\", \"geweld\", \"gewenst\", \"gezag\", \"gezamenlijk\", \"gezin\", \"gezinsmigratie\", \"gezondheid\", \"godslastering\", \"gratis\", \"grens\", \"groep\", \"grondgebied\", \"grondwet\", \"halsema\", \"ham\", \"hama\", \"hama\", \"hand\", \"handel\", \"hard\", \"hecht\", \"heden\", \"herkenning\", \"herziening\", \"hieraan\", \"hierop\", \"houdbaarheid\", \"hulp\", \"hulpverlener\", \"human\", \"illegaal\", \"incident\", \"ing\", \"ingang\", \"initiatief\", \"inkomen\", \"inmiddels\", \"inspanning\", \"inspraak\", \"instantie\", \"intensivering\", \"international\", \"inval\", \"invoer\", \"invulling\", \"inzicht\", \"irrgang\", \"isen\", \"israel\", \"israelisch\", \"issn\", \"juni\", \"kam\", \"kant\", \"kapitaallast\", \"karakter\", \"kaya\", \"keer\", \"kennen\", \"keuzevrijheid\", \"klacht\", \"klein\", \"knop\", \"koppel\", \"krijgsmacht\", \"krimp\", \"kritiek\", \"laag\", \"landbouw\", \"landelijk\", \"langdurig\", \"leefomgeving\", \"leeuw\", \"leg\", \"leiding\", \"leijtenk\", \"les\", \"leven\", \"liberalisering\", \"locatie\", \"lokaal\", \"los\", \"luchthaven\", \"maart\", \"maken\", \"maximum\", \"meavita\", \"medisch\", \"mee\", \"meerdere\", \"meningsuiting\", \"menselijk\", \"middenoost\", \"militair\", \"miltenburgk\", \"misbruik\", \"misdrijf\", \"missie\", \"mln\", \"mobiliteit\", \"modernisering\", \"momenteel\", \"monitor\", \"naam\", \"naleven\", \"naleving\", \"natuurlijk\", \"nederlander\", \"nemen\", \"neree\", \"netto\", \"netwerk\", \"nieteuland\", \"noodzaak\", \"oeso\", \"offensief\", \"omarmen\", \"omstandigheid\", \"omvang\", \"omvorming\", \"onaanvaardbaar\", \"onderhandeling\", \"onderhavig\", \"onderling\", \"ondernemer\", \"ondernemer\", \"onduidelijk\", \"onevenredig\", \"onherroepelijk\", \"onmiddellijk\", \"onmogelijk\", \"onmogelijk\", \"ontwapening\", \"onverantwoord\", \"onzeker\", \"oorlog\", \"oormerken\", \"oorspronkelijk\", \"opdracht\", \"open\", \"openstelling\", \"opheff\", \"opheffing\", \"opleiding\", \"opnieuw\", \"optie\", \"opzicht\", \"ouder\", \"ouwehand\", \"ouwehandk\", \"ovchipkaart\", \"overal\", \"overeenkomst\", \"overig\", \"overla\", \"overnam\", \"overzicht\", \"pakket\", \"palestijns\", \"palestijns\", \"parlement\", \"parlementair\", \"partij\", \"partner\", \"paspoort\", \"passen\", \"pechtold\", \"pechtoldk\", \"periodiek\", \"personeel\", \"persoon\", \"perspectief\", \"peter\", \"peterskst\", \"pilot\", \"planbureau\", \"pleit\", \"politie\", \"politiek\", \"poppe\", \"positionering\", \"potentiel\", \"praktijk\", \"praktisch\", \"presidium\", \"principe\", \"problematiek\", \"procedure\", \"proef\", \"psychisch\", \"punt\", \"randvoorwaarde\", \"rapport\", \"rapporteren\", \"reactie\", \"realisatie\", \"recent\", \"rechtstreeks\", \"reden\", \"registratie\", \"registrer\", \"reis\", \"reiziger\", \"relatie\", \"relevant\", \"richting\", \"right\", \"rijk\", \"rijksdienst\", \"risicovol\", \"roemerkst\", \"rond\", \"rood\", \"roonk\", \"rotterdam\", \"samen\", \"samenhang\", \"sap\", \"sapk\", \"schaal\", \"schade\", \"schiphol\", \"schort\", \"schrap\", \"schuld\", \"september\", \"slachtoffer\", \"slechtziend\", \"sluit\", \"sluiting\", \"soort\", \"speciaal\", \"specifiek\", \"sponsoring\", \"sport\", \"staaij\", \"staan\", \"staat\", \"stabiliteit\", \"stap\", \"stat\", \"statengeneraal\", \"stel\", \"stelsel\", \"stem\", \"steun\", \"steunoperatie\", \"stevig\", \"stimuler\", \"stop\", \"stopgezet\", \"strafbaar\", \"strafrecht\", \"strategisch\", \"strijd\", \"sturen\", \"substantiel\", \"systeembank\", \"tegelijkertijd\", \"tekort\", \"terroristisch\", \"thans\", \"thans\", \"thiemekst\", \"thuis\", \"tijdelijk\", \"tijdig\", \"toegang\", \"toekomstig\", \"toelating\", \"toenam\", \"toestemming\", \"toezegging\", \"toezichthouder\", \"tolerantie\", \"tony\", \"training\", \"transport\", \"trekken\", \"troep\", \"tweemaal\", \"twijfel\", \"uiteindelijk\", \"uitermate\", \"uiterst\", \"uitkering\", \"uitkomst\", \"uitsluitend\", \"uitspraak\", \"uitwerking\", \"uitzending\", \"unie\", \"vallenen\", \"vendrikk\", \"verankering\", \"verantwoording\", \"verblijf\", \"verbod\", \"verdeling\", \"verdonkk\", \"vereiste\", \"verkeer\", \"verklaring\", \"verkoop\", \"verlies\", \"verordening\", \"verordening\", \"verplaats\", \"verplichting\", \"vertrouwelijk\", \"vertrouwen\", \"vervolgens\", \"vervolging\", \"verzeker\", \"verzet\", \"verzoek\", \"vestiging\", \"vi\", \"visserijraad\", \"vivaststelling\", \"vliesk\", \"vlissing\", \"vlucht\", \"volwaardig\", \"vooraf\", \"vooralsnog\", \"voorbereiding\", \"voorkeur\", \"voorstander\", \"voorziening\", \"vormgeven\", \"vormgeven\", \"vrij\", \"vrijheid\", \"vrouw\", \"waak\", \"waarvan\", \"waarvoor\", \"walcher\", \"wapen\", \"watch\", \"weeker\", \"weekers\", \"weer\", \"wens\", \"werkgelegenheid\", \"werkgever\", \"werknemer\", \"werkwijze\", \"werkzaam\", \"werkzaamheid\", \"wetboek\", \"wezenlijk\", \"wijzigen\", \"wilder\", \"wit\", \"wit\", \"witk\", \"wmo\", \"woord\", \"worden\", \"xiii\", \"xvaststelling\", \"xvi\", \"xvivaststelling\", \"zeeland\", \"zeeuws\", \"zeker\", \"zelfs\", \"zend\", \"zenden\", \"ziekenhuis\", \"zin\", \"zogenaamd\", \"zolang\", \"zone\", \"zorgplan\", \"zorgsector\", \"zwaar\"]}, \"R\": 30, \"lambda.step\": 0.01, \"plot.opts\": {\"xlab\": \"PC1\", \"ylab\": \"PC2\"}, \"topic.order\": [19, 2, 8, 20, 15, 10, 3, 16, 5, 17, 12, 7, 11, 4, 13, 6, 9, 14, 1, 18]};\n\nfunction LDAvis_load_lib(url, callback){\n  var s = document.createElement('script');\n  s.src = url;\n  s.async = true;\n  s.onreadystatechange = s.onload = callback;\n  s.onerror = function(){console.warn(\"failed to load library \" + url);};\n  document.getElementsByTagName(\"head\")[0].appendChild(s);\n}\n\nif(typeof(LDAvis) !== \"undefined\"){\n   // already loaded: just create the visualization\n   !function(LDAvis){\n       new LDAvis(\"#\" + \"ldavis_el132162965595981408870977135\", ldavis_el132162965595981408870977135_data);\n   }(LDAvis);\n}else if(typeof define === \"function\" && define.amd){\n   // require.js is available: use it to load d3/LDAvis\n   require.config({paths: {d3: \"https://cdnjs.cloudflare.com/ajax/libs/d3/3.5.5/d3.min\"}});\n   require([\"d3\"], function(d3){\n      window.d3 = d3;\n      LDAvis_load_lib(\"https://cdn.rawgit.com/bmabey/pyLDAvis/files/ldavis.v1.0.0.js\", function(){\n        new LDAvis(\"#\" + \"ldavis_el132162965595981408870977135\", ldavis_el132162965595981408870977135_data);\n      });\n    });\n}else{\n    // require.js not available: dynamically load d3 & LDAvis\n    LDAvis_load_lib(\"https://cdnjs.cloudflare.com/ajax/libs/d3/3.5.5/d3.min.js\", function(){\n         LDAvis_load_lib(\"https://cdn.rawgit.com/bmabey/pyLDAvis/files/ldavis.v1.0.0.js\", function(){\n                 new LDAvis(\"#\" + \"ldavis_el132162965595981408870977135\", ldavis_el132162965595981408870977135_data);\n            })\n         });\n}\n</script>"
     },
     "metadata": {},
     "execution_count": 95
    }
   ],
   "source": [
    "import pyLDAvis.gensim\n",
    "import pickle \n",
    "import pyLDAvis\n",
    "\n",
    "# Visualize the topics\n",
    "pyLDAvis.enable_notebook()\n",
    "num_topics = 28\n",
    "LDAvis_data_filepath = os.path.join('./results/ldavis_tuned_'+str(num_topics))\n",
    "\n",
    "# # this is a bit time consuming - make the if statement True\n",
    "# # if you want to execute visualization prep yourself\n",
    "if 1 == 1:\n",
    "    LDAvis_prepared = pyLDAvis.gensim.prepare(lda_model, corpus, id2word)\n",
    "    with open(LDAvis_data_filepath, 'wb') as f:\n",
    "        pickle.dump(LDAvis_prepared, f)\n",
    "\n",
    "# load the pre-prepared pyLDAvis data from disk\n",
    "with open(LDAvis_data_filepath, 'rb') as f:\n",
    "    LDAvis_prepared = pickle.load(f)\n",
    "\n",
    "pyLDAvis.save_html(LDAvis_prepared, 'results/ldavis_tuned_'+ str(num_topics) +'.html')\n",
    "\n",
    "LDAvis_prepared"
   ]
  },
  {
   "cell_type": "markdown",
   "metadata": {},
   "source": [
    "** **\n",
    "#### Closing Notes\n",
    "\n",
    "We started with understanding why evaluating the topic model is essential. Next, we reviewed existing methods and scratched the surface of topic coherence, along with the available coherence measures. Then we built a default LDA model using Gensim implementation to establish the baseline coherence score and reviewed practical ways to optimize the LDA hyperparameters.\n",
    "\n",
    "Hopefully, this article has managed to shed light on the underlying topic evaluation strategies, and intuitions behind it.\n",
    "\n",
    "** **\n",
    "#### References:\n",
    "1. http://qpleple.com/perplexity-to-evaluate-topic-models/\n",
    "2. https://www.amazon.com/Machine-Learning-Probabilistic-Perspective-Computation/dp/0262018020\n",
    "3. https://papers.nips.cc/paper/3700-reading-tea-leaves-how-humans-interpret-topic-models.pdf\n",
    "4. https://github.com/mattilyra/pydataberlin-2017/blob/master/notebook/EvaluatingUnsupervisedModels.ipynb\n",
    "5. https://www.machinelearningplus.com/nlp/topic-modeling-gensim-python/\n",
    "6. http://svn.aksw.org/papers/2015/WSDM_Topic_Evaluation/public.pdf\n",
    "7. http://palmetto.aksw.org/palmetto-webapp/"
   ]
  }
 ],
 "metadata": {
  "kernelspec": {
   "name": "python3",
   "display_name": "Python 3.7.3 64-bit (conda)",
   "metadata": {
    "interpreter": {
     "hash": "ecf5722fdaf1897a315d257d89d94520bfcaa453217d5becf09b39e73618b0de"
    }
   }
  },
  "language_info": {
   "codemirror_mode": {
    "name": "ipython",
    "version": 3
   },
   "file_extension": ".py",
   "mimetype": "text/x-python",
   "name": "python",
   "nbconvert_exporter": "python",
   "pygments_lexer": "ipython3",
   "version": "3.7.3-final"
  }
 },
 "nbformat": 4,
 "nbformat_minor": 4
}