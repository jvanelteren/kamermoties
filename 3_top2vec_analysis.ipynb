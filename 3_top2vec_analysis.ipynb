{
 "cells": [
  {
   "cell_type": "code",
   "execution_count": 126,
   "metadata": {},
   "outputs": [],
   "source": [
    "from pathlib import Path\n",
    "from top2vec import Top2Vec\n",
    "import pickle\n",
    "import numpy as np\n",
    "\n",
    "from gensim.models import Phrases\n",
    "from gensim.models.phrases import Phraser\n",
    "from gensim.utils import simple_preprocess\n",
    "from gensim.parsing.preprocessing import strip_tags"
   ]
  },
  {
   "cell_type": "code",
   "execution_count": 127,
   "metadata": {},
   "outputs": [],
   "source": [
    "DATA_DIR = Path('./data')\n",
    "def load(filename):\n",
    "    f = open(DATA_DIR/filename,\"rb\")\n",
    "    return pickle.load(f)\n",
    "    \n",
    "def save(data, filename):\n",
    "    with open(DATA_DIR/filename, 'wb') as handle:\n",
    "        pickle.dump(data, handle, protocol=pickle.HIGHEST_PROTOCOL)"
   ]
  },
  {
   "cell_type": "code",
   "execution_count": 128,
   "metadata": {},
   "outputs": [],
   "source": [
    "def add_voor_tegen_index(df):\n",
    "    print(len(df))\n",
    "    stem_column = [c for c in df.columns if 'Stem_' in c and c != 'Stem_persoon']\n",
    "    stem_column_adj = [c[5:] for c in df.columns if 'Stem_' in c and c != 'Stem_persoon']\n",
    "    stem_array = df[stem_column].values.tolist()\n",
    "    assert len(stem_array[0]) == len(stem_column)\n",
    "    voor = [[stem_column_adj[i] for i, stem in enumerate(motie) if stem == 1] for motie in stem_array]\n",
    "    tegen = [[stem_column_adj[i] for i, stem in enumerate(motie) if stem == 0] for motie in stem_array]\n",
    "    df['Partijen_Voor'] = voor\n",
    "    df['Partijen_Tegen'] = tegen\n",
    "    df['Index']=list(range(len(df)))\n",
    "    return df"
   ]
  },
  {
   "cell_type": "code",
   "execution_count": 129,
   "metadata": {},
   "outputs": [],
   "source": [
    "def get_df(only_last_kamer):\n",
    "    file = open(\"moties_processed_df.pickle\",\"rb\")\n",
    "    df = pickle.load(file)\n",
    "    print('before removal empty texts',len(df))\n",
    "\n",
    "    # remove moties without text\n",
    "    mask = (df['Text']=='') | (df['Text'].isna())\n",
    "    df = df.loc[~mask]\n",
    "    print('after removal empty texts',len(df))\n",
    "    if only_last_kamer:\n",
    "        df = df[df['Kabinet']==last_kamer]\n",
    "        print('after selecting latest cabinet', len(df))\n",
    "    df = add_voor_tegen_index(df)\n",
    "    df['BesluitTekst'] = df['BesluitTekst'].str.replace('.','')\n",
    "    return df, df['ClippedText'].values"
   ]
  },
  {
   "cell_type": "markdown",
   "metadata": {},
   "source": [
    "## Model Training"
   ]
  },
  {
   "cell_type": "code",
   "execution_count": 130,
   "metadata": {},
   "outputs": [
    {
     "name": "stdout",
     "output_type": "stream",
     "text": [
      "before removal empty texts 39245\n",
      "after removal empty texts 39244\n",
      "39244\n"
     ]
    }
   ],
   "source": [
    "only_last_kamer = False\n",
    "last_kamer = 'Rutte IV'\n",
    "\n",
    "if only_last_kamer:\n",
    "    df, documents = get_df(True)\n",
    "else:\n",
    "    df, documents = get_df(False)\n",
    "    \n",
    "# got the code for making the bigram part from https://lppier.github.io/\n",
    "sentence_stream = [simple_preprocess(strip_tags(doc), deacc=True) for doc in documents]\n",
    "bigram = Phrases(sentence_stream, min_count=30)\n",
    "bigram_phraser = Phraser(bigram)\n",
    "\n",
    "indieners = {indiener[-1].lower() for indiener in df['Indiener_persoon'].str.split() if indiener}\n",
    "years = {word for doc in sentence_stream for word in doc if word.startswith('x') and not word.startswith('xin')}\n",
    "manual_stopwords = {'faber', 'lacin', 'kroger', 'iv', 'beschikt', 'die', 'vaststelling', 'lid','vi', 'viii', 'iii', 'iv', 'ii', 'i', 'kamer', 'regering tevens', 'regering', 'gehoord','beraadslaging', 'overweegt', 'overwegende', \"gehoord\",\"regering\",\"gesproken\",\"horen\",\"mondkapjes\",\"spreken\",\"regeringen\",\"gesprekken\",\"commissiedebat\",\"discussies\",\"discussie\",\"hoort\",\"regeringsbeleid\",\"besprekingen\",\"overheden\",\"overheid\",\"overheids\",\"overheidsbeleid\",\"gesprek\",\"zeggen\",\"dialoog\",\"geluid\",\"uitspreekt\",\"bureaucratische\",\"spreekt\",\"openbare\",\"audiovisuele\",\"gehoor\",\"bestuursakkoord\",\"stil\",\"minuten\",\"parlement\",\"parlementen\",\"officieel\",\"bureaucratie\",\"democratie\",\"officiele\",\"batenanalyse\",\"parlementair\",\"begrotings\",\"governance\",\"democratische\",\"budgetrecht\",\"democratisch\",\"kabinetsreactie\",\"belastingplan\",\"wetsvoorstellen\",\"wetsvoorstel\",\"thema\",\"dicht\",\"risicoanalyse\",\"bestuursrecht\",\"bestuursorganen\",\"european\",\"nederlandsche\",\"nederlanden\",\"eurogroep\",\"nederlander\",\"nederland\",\"holland\",\"hogescholen\",\"no\",\"kinder\",\"po\",\"nee\",\"verzoek\",\"verzoeken\",\"gevraagde\",\"gevraagd\",\"aangevraagd\",\"verzoekt\",\"claims\",\"euro\",\"eurocommissaris\",\"vergunning\",\"instemming\",\"educatieve\",\"eisen\",\"voorstel\",\"aanvrager\",\"afgewezen\",\"toepassing\",\"voorstelt\",\"aanvragen\",\"vereist\",\"werkloosheid\",\"energietoeslag\",\"ongewenste\",\"aanvraag\",\"behoefte\",\"for\",\"voorgesteld\",\"weigert\",\"automatisch\",\"wachten\",\"binnenkort\",\"graag\",\"gat\",\"dji\",\"mond\",\"non\",\"imago\",\"toch\",\"makkelijk\",\"gestuurd\",\"onmogelijk\",\"nu\",\"pas\",\"gemakkelijk\",\"co\",\"eenvoudig\",\"dende\",\"natuurlijk\",\"vervolg\",\"uitzetten\",\"zeker\",\"opriep\",\"budgettaire\",\"fiscale\",\"gefinancierde\",\"financieel\",\"gefinancierd\",\"duizenden\",\"financiele\",\"financierings\",\"ongekend\",\"whw\",\"ja\",\"nertsen\",\"zo\",\"inderdaad\",\"gevaarlijk\",\"budget\",\"begrotingen\",\"budgetten\",\"begroting\",\"overgebleven\",\"uitgaven\",\"kostenbesparing\",\"subsidies\",\"overtreden\",\"overtreding\",\"onverminderd\",\"overtredingen\",\"weren\",\"obstakels\",\"afgeschaft\",\"thans\",\"rulings\",\"uitsluiting\",\"subsidieren\",\"over\",\"reduceren\",\"overschrijden\",\"onwenselijk\",\"hinder\",\"to\",\"preventief\",\"overschrijding\",\"beperking\",\"overtuiging\",\"voorkomen\",\"bestedingen\",\"promoten\",\"sanctie\",\"verhinderen\",\"nr\",\"je\",\"leeftijdsgrens\",\"kleinere\",\"wel\",\"nibud\",\"niet\",\"novi\",\"verzamelt\" ,\"fatsoen\" ,\"imams\" ,\"imam\" ,\"minuut\" ,\"fantastisch\" ,\"keurig\" ,\"terechtgekomen\" ,\"bik\" ,\"verschijnt\" ,\"belem\" ,\"bel\" ,\"vermo\" ,\"zins\" ,\"ima\" ,\"zoe\" ,\"sappen\" ,\"verdien\" ,\"kundig\" ,\"straks\" ,\"viteit\" ,\"mondig\" ,\"mooi\" ,\"letten\" ,\"combi\" ,\"geweldig\" ,\"sak\" ,\"bene\" ,\"faso\" ,\"wijde\" ,\"hoor\" ,\"verrekend\" ,\"prachtige\" ,\"fao\" ,\"teneinde\" ,\"capten\" ,\"openlijk\" ,\"openhouden\" ,\"tege\" ,\"simpele\" ,\"tak\" ,\"simpel\" ,\"korrels\" ,\"hww\" ,\"geleden\" ,\"meteen\" ,\"volstaat\" ,\"lees\" ,\"weet\" ,\"ver\" ,\"eenvoudiger\" ,\"wetswijzigingen\" ,\"inmiddels\" ,\"hbo\" ,\"ziet\" ,\"makkelijker\" ,\"zitten\" ,\"snelle\" ,\"drukke\" ,\"snel\" ,\"iack\" ,\"gekeken\" ,\"kijkt\" ,\"vindt\" ,\"dak\" ,\"btw\" ,\"lijken\" ,\"ots\" ,\"kijken\" ,\"gemakkelijker\" ,\"geacht\" ,\"eenvoudige\" ,\"zodra\" ,\"abro\" ,\"verzamelen\" ,\"gelukt\" ,\"goed\" ,\"mooie\" ,\"tenzij\" ,\"hakken\" ,\"grondwettelijke\" ,\"korte\" ,\"spoedig\" ,\"nh\" ,\"laat\" ,\"stank\" ,\"daaronder\" ,\"kortst\" ,\"klaar\" ,\"krap\",\"uitstekende\" ,\"ben\" ,\"begrijpen\",\"daarover\",\"leggen\",\"opties\",\"hierover\",\"toegevoegd\",\"aangetoond\",\"dat\",\"drie\",\"veilig\",\"daarmee\",\"kelijk\",\"beschreven\",\"weten\",\"mogen\",\"hen\",\"gegaan\" }\n",
    "stopwords = indieners | years | manual_stopwords\n",
    "\n",
    "\n",
    "def bigram_stopword_preprocess(doc):\n",
    "    sentence_stream = simple_preprocess(strip_tags(doc), deacc=True)\n",
    "    sentence_stream = [word for word in sentence_stream if word not in stopwords]\n",
    "    return sentence_stream\n",
    "    # return bigram_phraser[sentence_stream]"
   ]
  },
  {
   "cell_type": "code",
   "execution_count": 131,
   "metadata": {},
   "outputs": [
    {
     "data": {
      "text/plain": [
       "Kamer\n",
       "Rutte III        12178\n",
       "Rutte II         10761\n",
       "Rutte IV          9007\n",
       "Rutte I           4766\n",
       "Balkenende IV     2532\n",
       "Name: count, dtype: int64"
      ]
     },
     "execution_count": 131,
     "metadata": {},
     "output_type": "execute_result"
    }
   ],
   "source": [
    "df['Kamer'].value_counts()"
   ]
  },
  {
   "cell_type": "code",
   "execution_count": 132,
   "metadata": {},
   "outputs": [
    {
     "name": "stderr",
     "output_type": "stream",
     "text": [
      "2023-08-07 12:43:29,190 - top2vec - INFO - Pre-processing documents for training\n"
     ]
    },
    {
     "name": "stderr",
     "output_type": "stream",
     "text": [
      "d:\\Programmeren\\adventofcode\\.aocenvpy311\\Lib\\site-packages\\sklearn\\feature_extraction\\text.py:525: UserWarning: The parameter 'token_pattern' will not be used since 'tokenizer' is not None'\n",
      "  warnings.warn(\n",
      "2023-08-07 12:43:36,319 - top2vec - INFO - Downloading distiluse-base-multilingual-cased model\n",
      "2023-08-07 12:43:37,380 - top2vec - INFO - Creating joint document/word embedding\n",
      "2023-08-07 13:14:37,197 - top2vec - INFO - Creating lower dimension embedding of documents\n",
      "2023-08-07 13:14:59,269 - top2vec - INFO - Finding dense areas of documents\n",
      "2023-08-07 13:15:02,063 - top2vec - INFO - Finding topics\n"
     ]
    }
   ],
   "source": [
    "# https://github.com/scikit-learn-contrib/hdbscan/issues/607\n",
    "\n",
    "model = Top2Vec(documents, speed='deep-learn', embedding_model='distiluse-base-multilingual-cased',workers=8, min_count=10, tokenizer=bigram_stopword_preprocess, ngram_vocab=False)\n",
    "model.get_num_topics()\n",
    "if only_last_kamer:\n",
    "    model.save(\"data/doc2vec_deep_bigram_enhanced_stopwords_last_kamer\")\n",
    "else:\n",
    "    model.save(\"data/doc2vec_deep_bigram_enhanced_stopwords_all\")"
   ]
  },
  {
   "cell_type": "markdown",
   "metadata": {},
   "source": [
    "## Reduce topic number to something more manageable"
   ]
  },
  {
   "cell_type": "code",
   "execution_count": 176,
   "metadata": {},
   "outputs": [
    {
     "name": "stdout",
     "output_type": "stream",
     "text": [
      "before removal empty texts 39245\n",
      "after removal empty texts 39244\n",
      "39244\n"
     ]
    }
   ],
   "source": [
    "# For the manual analysis it's necessary to reduce the amount of topics, otherwise you will have 50 or so topics to investigate\n",
    "\n",
    "df, documents = get_df(only_last_kamer)\n",
    "if only_last_kamer:\n",
    "    model = Top2Vec.load(\"data/doc2vec_deep_bigram_enhanced_stopwords_last_kamer\")\n",
    "else:\n",
    "    model = Top2Vec.load(\"data/doc2vec_deep_bigram_enhanced_stopwords_all\")"
   ]
  },
  {
   "cell_type": "code",
   "execution_count": 177,
   "metadata": {},
   "outputs": [
    {
     "name": "stdout",
     "output_type": "stream",
     "text": [
      "168 topics. In total there are 39244 documents. These are the amount of documents per topic:\n",
      "[1956 1878 1540 1518  870  726  691  675  674  649  640  599  587  550\n",
      "  533  521  520  502  501  477  470  440  440  437  432  427  401  382\n",
      "  380  375  372  367  346  340  329  318  310  303  298  287  284  282\n",
      "  281  278  277  264  262  262  248  247  247  243  243  242  236  234\n",
      "  227  226  218  217  217  209  198  188  187  182  180  177  173  163\n",
      "  161  159  158  155  154  150  142  138  138  138  137  136  136  134\n",
      "  131  128  124  121  119  119  118  114  114  111  108  107  105  105\n",
      "  101  100  100  100   98   98   97   96   94   94   93   91   90   89\n",
      "   88   86   84   81   80   79   78   78   77   73   73   73   73   71\n",
      "   71   71   70   69   69   67   67   65   63   61   61   60   60   59\n",
      "   57   56   56   55   55   53   53   53   52   52   50   50   50   49\n",
      "   49   48   48   45   45   38   38   38   38   36   33   31   29   26]\n"
     ]
    }
   ],
   "source": [
    "topic_sizes, topic_nums = model.get_topic_sizes()\n",
    "print(f'{len(topic_nums)} topics. In total there are {sum(topic_sizes)} documents. These are the amount of documents per topic:\\n{topic_sizes}')"
   ]
  },
  {
   "cell_type": "code",
   "execution_count": 147,
   "metadata": {},
   "outputs": [
    {
     "name": "stdout",
     "output_type": "stream",
     "text": [
      "performing reduction to 17 topics\n",
      "performing reduction to 16 topics\n",
      "performing reduction to 15 topics\n",
      "performing reduction to 14 topics\n",
      "performing reduction to 13 topics\n",
      "17\n",
      "\n",
      "inspecting difference from 17 to 16 topics\n",
      "old topics\n",
      "['begrotingsjaar' 'agro' 'miljarden' 'miljoen' 'miljoenennota' 'miljard'\n",
      " 'duizend' 'miljoenen' 'voltooien' 'rijksbegroting' 'apk' 'allang' 'kwh'\n",
      " 'poms' 'kalenderjaar' 'mln' 'congo' 'tkkst' 'volstaan' 'belemme' 'imo'\n",
      " 'enorm' 'super' 'hebt' 'aio' 'bak' 'mengen' 'ontzettend' 'boete' 'gekend'\n",
      " 'drankenkartons' 'meireces' 'loo' 'vis' 'doch' 'mondkapje' 'wwz' 'zoveel'\n",
      " 'atad' 'kei' 'gijs' 'massa' 'ww' 'ggo' 'ontwerpbesluit' 'sowieso'\n",
      " 'vergemakkelijkt' 'verstaan' 'zoet' 'fijn']\n",
      "['privacyregels' 'digitale' 'digital' 'cybersecurity' 'cyberveiligheid'\n",
      " 'digitalisering' 'digitaal' 'cryptovaluta' 'openstaan' 'open' 'agro'\n",
      " 'duizend' 'tweemaal' 'verstaan' 'drankenkartons' 'voltooien' 'illegaal'\n",
      " 'moest' 'belemme' 'bezette' 'digitaliseren' 'winkeltijdenwet' 'klap'\n",
      " 'ontzettend' 'kappen' 'onveilig' 'cybercrime' 'miljoenennota' 'privacy'\n",
      " 'publiekelijk' 'falende' 'lock' 'reclamecode' 'tienduizenden' 'boete'\n",
      " 'volstaan' 'moeilijk' 'miljarden' 'kleine' 'verwijderen' 'zachte'\n",
      " 'openstellen' 'apk' 'miljoenen' 'miljoen' 'gedragscode' 'openbaarmaking'\n",
      " 'mededingingswet' 'lobbyregister' 'geopend']\n",
      "new topic\n",
      "['begrotingsjaar' 'agro' 'duizend' 'miljoenennota' 'miljarden' 'miljoen'\n",
      " 'voltooien' 'apk' 'miljard' 'miljoenen' 'allang' 'belemme'\n",
      " 'drankenkartons' 'volstaan' 'ontzettend' 'kwh' 'enorm' 'super' 'verstaan'\n",
      " 'boete' 'mengen' 'congo' 'bezette' 'poms' 'hebt' 'tkkst' 'imo' 'gekend'\n",
      " 'klap' 'mln' 'meireces' 'kleine' 'atad' 'mondkapje' 'vis' 'massa' 'aio'\n",
      " 'openstaan' 'zoveel' 'gijs' 'loo' 'doch' 'sowieso' 'teelt' 'dik' 'zachte'\n",
      " 'ggo' 'kappen' 'moest' 'teniet']\n",
      "16\n",
      "\n",
      "inspecting difference from 16 to 15 topics\n",
      "old topics\n",
      "['begrotingsjaar' 'agro' 'duizend' 'miljoenennota' 'miljarden' 'miljoen'\n",
      " 'voltooien' 'apk' 'miljard' 'miljoenen' 'allang' 'belemme'\n",
      " 'drankenkartons' 'volstaan' 'ontzettend' 'kwh' 'enorm' 'super' 'verstaan'\n",
      " 'boete' 'mengen' 'congo' 'bezette' 'poms' 'hebt' 'tkkst' 'imo' 'gekend'\n",
      " 'klap' 'mln' 'meireces' 'kleine' 'atad' 'mondkapje' 'vis' 'massa' 'aio'\n",
      " 'openstaan' 'zoveel' 'gijs' 'loo' 'doch' 'sowieso' 'teelt' 'dik' 'zachte'\n",
      " 'ggo' 'kappen' 'moest' 'teniet']\n",
      "['rechtsstaat' 'stakingsrecht' 'juridische' 'legale' 'overgangsrecht'\n",
      " 'invoeringswet' 'wettig' 'mededingingswet' 'leerplichtwet' 'wettelijk'\n",
      " 'inburgeringswet' 'juridisch' 'rechtsgrond' 'winkeltijdenwet'\n",
      " 'jurisprudentie' 'wettelijke' 'oorlogsrecht' 'mijnbouwwet' 'wetten'\n",
      " 'rechtspositie' 'juristen' 'verblijfsrecht' 'instellingswet'\n",
      " 'rechtspraktijk' 'omgevingsrecht' 'staatsnoodrecht' 'rechtsorde'\n",
      " 'kiesrecht' 'rechtstaat' 'rechtspleging' 'gerechtelijke' 'gerechtshof'\n",
      " 'milieuwetgeving' 'illegaal' 'legalisering' 'advocatuur'\n",
      " 'rechtszekerheid' 'advocaat' 'trekkingsrecht' 'legaal' 'wetboek'\n",
      " 'legaliseren' 'herstelrecht' 'zorgwetten' 'rechterlijke' 'adviesrecht'\n",
      " 'hof' 'wetsbehandeling' 'tuchtrecht' 'rechtsbijstand']\n",
      "new topic\n",
      "['rechtsstaat' 'agro' 'mededingingswet' 'stakingsrecht' 'voltooien'\n",
      " 'duizend' 'allang' 'legale' 'winkeltijdenwet' 'ontzettend' 'apk'\n",
      " 'mijnbouwwet' 'wettig' 'belemme' 'volstaan' 'overgangsrecht' 'super'\n",
      " 'uitstekend' 'legalisering' 'kwh' 'inburgeringswet' 'zachte' 'terecht'\n",
      " 'hebt' 'fijn' 'gijs' 'invoeringswet' 'mengen' 'teelt' 'vorig' 'congo'\n",
      " 'vis' 'boete' 'gekend' 'leerplichtwet' 'dik' 'verstaan' 'enorm' 'imo'\n",
      " 'indachtig' 'massa' 'volstrekt' 'sowieso' 'zoveel' 'miljarden' 'tkkst'\n",
      " 'miljoenennota' 'teniet' 'meireces' 'loo']\n",
      "15\n",
      "\n",
      "inspecting difference from 15 to 14 topics\n",
      "old topics\n",
      "['milieubeheer' 'milieuwetgeving' 'milieuregels' 'ecoregelingen'\n",
      " 'ecologische' 'ecologie' 'ecologisch' 'ecoregeling' 'natuurbeleid'\n",
      " 'milieueffecten' 'milieuraad' 'omgevingsplan' 'klimaatbeleid'\n",
      " 'milieubelasting' 'afvalbeheerplan' 'milieunormen' 'natuurbeheer'\n",
      " 'klimaatakkoord' 'milieuwinst' 'milieuschade' 'milieurisico'\n",
      " 'luchtvervuiling' 'milieuzones' 'visserijbeleid' 'omgevingswet'\n",
      " 'milieuprestatie' 'waterbeheer' 'natuurgebieden' 'natuurgebied'\n",
      " 'ecosysteem' 'omgevingsrecht' 'klimaatopgave' 'klimaatplannen'\n",
      " 'ecosystemen' 'vervuiling' 'afvalwater' 'klimaattafels' 'klimaatneutrale'\n",
      " 'omgevingsvisie' 'waterveiligheid' 'milieudruk' 'natuurnetwerk'\n",
      " 'visserijakkoord' 'omgeving' 'omgevings' 'greenpeace' 'faunabeheer'\n",
      " 'natuurakkoord' 'natuurwaarden' 'biodiversiteit']\n",
      "['energiekosten' 'energieprijzen' 'energiebeleid' 'energievoor'\n",
      " 'energieverbruik' 'energierekening' 'energiecrisis' 'energieakkoord'\n",
      " 'energielabel' 'energielabels' 'energiegebruik' 'energiesector'\n",
      " 'energieneutraal' 'energieraad' 'energiebronnen' 'kernenergie'\n",
      " 'energiebedrijf' 'energietran' 'gasaansluiting' 'energiesysteem' 'energy'\n",
      " 'energiemarkt' 'energiere' 'energiemix' 'gasgebouw' 'energiebe' 'benzine'\n",
      " 'broeikasgassen' 'gasprijzen' 'energie' 'energiearmoede' 'windenergie'\n",
      " 'gaswinning' 'gasopslag' 'kolencentrales' 'gas' 'gasopslagen'\n",
      " 'gasproductie' 'gasvelden' 'ecoregelingen' 'kolencentrale'\n",
      " 'kerncentrales' 'elektriciteits' 'gasveld' 'elektriciteit'\n",
      " 'kolenbelasting' 'gasprijs' 'energielasten' 'kerncentrale' 'ecoregeling']\n",
      "new topic\n",
      "['ecoregelingen' 'milieubeheer' 'ecoregeling' 'milieuwetgeving'\n",
      " 'ecologische' 'ecologie' 'milieuregels' 'energiebeleid' 'klimaatbeleid'\n",
      " 'ecologisch' 'milieubelasting' 'klimaatakkoord' 'milieuraad'\n",
      " 'afvalbeheerplan' 'milieueffecten' 'omgevingsplan' 'luchtvervuiling'\n",
      " 'natuurbeleid' 'milieuschade' 'milieuwinst' 'energiekosten'\n",
      " 'milieurisico' 'milieunormen' 'milieuprestatie' 'energielabels'\n",
      " 'milieuzones' 'energieakkoord' 'energieprijzen' 'vervuiling'\n",
      " 'klimaatopgave' 'omgevingswet' 'energieverbruik' 'energielabel'\n",
      " 'broeikasgassen' 'energievoor' 'energiecrisis' 'klimaatplannen'\n",
      " 'klimaatneutrale' 'greenpeace' 'natuurbeheer' 'klimaattafels'\n",
      " 'kernenergie' 'energiegebruik' 'energierekening' 'visserijbeleid'\n",
      " 'energiesector' 'omgevingsrecht' 'milieudruk' 'biobrandstoffen'\n",
      " 'voedselomgeving']\n",
      "14\n",
      "\n",
      "inspecting difference from 14 to 13 topics\n",
      "old topics\n",
      "['onderwijsniveau' 'onderwijsaanbod' 'onderwijsgeld' 'schoolverlaten'\n",
      " 'onderwijsbudget' 'schoolkosten' 'basisonderwijs' 'onderwijsveld'\n",
      " 'schoolbestuur' 'basisscholen' 'schoolbesturen' 'schoolgebouwen'\n",
      " 'scholen' 'onderwijssector' 'education' 'onderwijs' 'onderwijsraad'\n",
      " 'schooluitval' 'onderwijstijd' 'schoolverlaters' 'basisschool'\n",
      " 'schoolpleinen' 'pedagogische' 'educatie' 'onderwijsbeleid'\n",
      " 'schoolgaande' 'school' 'pedagogisch' 'schoolleiders' 'hogeschool'\n",
      " 'schooladviezen' 'thuisonderwijs' 'schooladvies' 'lerarenbeurs'\n",
      " 'taalonderwijs' 'leerwerkplekken' 'schooljaar' 'scholieren'\n",
      " 'onderwijzend' 'afgestudeerden' 'flexstuderen' 'collegegeld' 'colleges'\n",
      " 'afstuderen' 'afgestudeerde' 'opleiding' 'curriculum' 'opleidingen'\n",
      " 'buitenschoolse' 'politieacademie']\n",
      "['jeugdzorgaanbod' 'jeugdzorg' 'jeugdhulp' 'jeugdautoriteit'\n",
      " 'jeugdsportfonds' 'jongerenwerk' 'jeugdwerk' 'youth' 'jeugd'\n",
      " 'jongvolwassenen' 'minderjarigen' 'jongeren' 'jeugdwet' 'jeugdigen'\n",
      " 'jeugdige' 'minderjarige' 'kinderen' 'kinderbijslag' 'jonge' 'jongere'\n",
      " 'kinderrechten' 'jonger' 'kinderopvang' 'kindermisbruik' 'kinderporno'\n",
      " 'meerderjarige' 'pleegkinderen' 'ouderschap' 'barneveld' 'kleine'\n",
      " 'asielkinderen' 'ouders' 'risicojongeren' 'generaties' 'kindermarketing'\n",
      " 'generatie' 'schoolgebouwen' 'voorschoolse' 'schoolkosten' 'kinderarbeid'\n",
      " 'vijftien' 'vijfjaarlijkse' 'schoolbestuur' 'schoolverlaten' 'dochters'\n",
      " 'agro' 'basisschool' 'onderwijsbudget' 'basisonderwijs' 'tenminste']\n",
      "new topic\n",
      "['onderwijsniveau' 'schoolverlaten' 'schoolkosten' 'onderwijsbudget'\n",
      " 'basisonderwijs' 'onderwijsaanbod' 'onderwijsgeld' 'schoolgebouwen'\n",
      " 'schoolbestuur' 'basisscholen' 'onderwijsveld' 'schoolbesturen' 'scholen'\n",
      " 'onderwijstijd' 'basisschool' 'onderwijssector' 'schoolverlaters'\n",
      " 'schooluitval' 'education' 'onderwijsbeleid' 'thuisonderwijs'\n",
      " 'onderwijsraad' 'onderwijs' 'schoolpleinen' 'pedagogische' 'educatie'\n",
      " 'schooladvies' 'schoolleiders' 'school' 'schooljaar' 'schooladviezen'\n",
      " 'pedagogisch' 'scholieren' 'schoolgaande' 'hogeschool' 'taalonderwijs'\n",
      " 'buitenschoolse' 'collegegeld' 'politieacademie' 'colleges'\n",
      " 'voorschoolse' 'leerwerkplekken' 'jeugdzorgaanbod' 'flexstuderen'\n",
      " 'lerarenbeurs' 'vroegschoolse' 'curriculum' 'afgestudeerden'\n",
      " 'onderwijzend' 'pabostudenten']\n"
     ]
    }
   ],
   "source": [
    "# helper to check what happens if you reduce topics\n",
    "def get_reduced_topics(num_topics):\n",
    "    print(f'performing reduction to {num_topics} topics')\n",
    "    reduced_topics = model.hierarchical_topic_reduction(num_topics)\n",
    "    topic_words, word_scores, topic_nums = model.get_topics(reduced=True)\n",
    "    reduced_topics = tuple(tuple(sorted(t)) for t in reduced_topics)\n",
    "    return reduced_topics, topic_words\n",
    "\n",
    "def find_diff(reduced1, reduced2, reverse=False):\n",
    "    # find the topics that where merged and return their index\n",
    "    if not reverse:\n",
    "        changed = set(reduced1) - set(reduced2)\n",
    "        return [index for index, topic in enumerate(reduced1) if topic in changed]\n",
    "    else:\n",
    "        changed = set(reduced2) - set(reduced1)\n",
    "        return [index for index, topic in enumerate(reduced2) if topic in changed]\n",
    "\n",
    "\n",
    "def print_merge(large, small, num_words=50):\n",
    "    print(f'\\ninspecting difference from {len(large[0])} to {len(small[0])} topics')\n",
    "    print('old topics')\n",
    "    for i in find_diff(large[0],small[0]):\n",
    "        print(large[1][i][:num_words])\n",
    "    print('new topic')\n",
    "    for i in find_diff(large[0],small[0], reverse=True):\n",
    "        print(small[1][i][:num_words])\n",
    "\n",
    "def find_optimal_num_topics(minn, maxx):\n",
    "    start = minn\n",
    "    stop = maxx\n",
    "    reductions = {i: get_reduced_topics(i) for i in range(start, stop, -1)}\n",
    "    for i in range(start, stop +1,-1):\n",
    "        print(i)\n",
    "        print_merge(reductions[i], reductions[i-1])\n",
    "find_optimal_num_topics(17,12)"
   ]
  },
  {
   "cell_type": "code",
   "execution_count": 178,
   "metadata": {},
   "outputs": [],
   "source": [
    "# Make a choice to how many topics to reduce\n",
    "num_topics = 17\n",
    "reduced_topics = model.hierarchical_topic_reduction(num_topics)\n"
   ]
  },
  {
   "cell_type": "code",
   "execution_count": 149,
   "metadata": {},
   "outputs": [
    {
     "data": {
      "text/plain": [
       "'rechtsstaat\" ,\"agro\" ,\"mededingingswet\" ,\"stakingsrecht\" ,\"voltooien\" ,\"duizend\" ,\"allang\" ,\"legale\" ,\"winkeltijdenwet\" ,\"ontzettend\" ,\"apk\" ,\"mijnbouwwet\" ,\"wettig\" ,\"belemme\" ,\"volstaan\" ,\"overgangsrecht\" ,\"super\" ,\"uitstekend\" ,\"legalisering\" ,\"kwh\" ,\"inburgeringswet\" ,\"zachte\" ,\"terecht\" ,\"hebt\" ,\"fijn\" ,\"gijs\" ,\"invoeringswet\" ,\"mengen\" ,\"teelt\" ,\"vorig\" ,\"congo\" ,\"vis\" ,\"boete\" ,\"gekend\" ,\"leerplichtwet\" ,\"dik\" ,\"verstaan\" ,\"enorm\" ,\"imo\" ,\"indachtig\" ,\"massa\" ,\"volstrekt\" ,\"sowieso\" ,\"zoveel\" ,\"miljarden\" ,\"tkkst\" ,\"miljoenennota\" ,\"teniet\" ,\"meireces\" ,\"loo'"
      ]
     },
     "execution_count": 149,
     "metadata": {},
     "output_type": "execute_result"
    }
   ],
   "source": [
    "topic_words, word_scores, topic_nums = model.get_topics(reduced=True)\n",
    "'\" ,\"'.join(t for t in topic_words[0])\n"
   ]
  },
  {
   "cell_type": "code",
   "execution_count": 167,
   "metadata": {},
   "outputs": [
    {
     "name": "stdout",
     "output_type": "stream",
     "text": [
      "0 ['begrotingsjaar' 'agro' 'miljarden' 'miljoen' 'miljoenennota' 'miljard'\n",
      " 'duizend' 'miljoenen' 'voltooien' 'rijksbegroting' 'apk' 'allang' 'kwh'\n",
      " 'poms' 'kalenderjaar' 'mln' 'congo' 'tkkst' 'volstaan' 'belemme' 'imo'\n",
      " 'enorm' 'super' 'hebt' 'aio' 'bak' 'mengen' 'ontzettend' 'boete' 'gekend'\n",
      " 'drankenkartons' 'meireces' 'loo' 'vis' 'doch' 'mondkapje' 'wwz' 'zoveel'\n",
      " 'atad' 'kei' 'gijs' 'massa' 'ww' 'ggo' 'ontwerpbesluit' 'sowieso'\n",
      " 'vergemakkelijkt' 'verstaan' 'zoet' 'fijn']\n",
      "1 ['ziekenhuizen' 'verpleeghuizen' 'ziekenhuiszorg' 'verpleeghuis'\n",
      " 'gezondheidszorg' 'ziekenhuis' 'medische' 'zorgstandaarden'\n",
      " 'verpleegkundige' 'verpleeg' 'kliniek' 'medisch' 'klinieken'\n",
      " 'zorgverzekeraar' 'zorgpersoneel' 'zorgkosten' 'zorgverzekering'\n",
      " 'klinische' 'koortspatienten' 'ambulance' 'zorgautoriteit'\n",
      " 'ambulancezorg' 'gezondheidsraad' 'klinisch' 'covidpatienten'\n",
      " 'volksgezondheid' 'ambulances' 'kankerpatienten' 'coronapatienten'\n",
      " 'huisartsenzorg' 'geneeskunde' 'patientgegevens' 'artsen'\n",
      " 'diergeneeskunde' 'eerstelijnszorg' 'zorgstelsel' 'physician'\n",
      " 'medicijngebruik' 'vaccinatiegraad' 'zorgsysteem' 'tweedelijnszorg'\n",
      " 'sanitatie' 'medicijnresten' 'farmaceuten' 'farmaceutische' 'gezondheid'\n",
      " 'dr' 'huisartsen' 'gezondheids' 'zorgketen']\n",
      "2 ['gemeentelijk' 'bouwkosten' 'woningbouw' 'bouwplannen' 'bouwbesluit'\n",
      " 'gemeentelijke' 'gemeentefonds' 'verstedelijking' 'gemeentes'\n",
      " 'gemeentewet' 'gemeente' 'gemeenschappen' 'budgetplafonds' 'buurthuizen'\n",
      " 'budgetpolis' 'gemeenten' 'gemeenteraad' 'afvalbeheerplan' 'stadsregio'\n",
      " 'huizenprijzen' 'kwh' 'stedelijk' 'bouwwerken' 'bouwprojecten'\n",
      " 'wederopbouw' 'kabinetsplannen' 'installeren' 'gemeenteraden' 'bouwen'\n",
      " 'rijksbegroting' 'bouwstop' 'stedelijke' 'burgemeesters' 'herstelplannen'\n",
      " 'falende' 'gebouwen' 'huizenbezitters' 'herstelplan' 'agro' 'loo'\n",
      " 'burgerbevolking' 'apk' 'begrotingsbehan' 'wwz' 'rijksmonumenten' 'nhg'\n",
      " 'burgemeester' 'huizen' 'migratiebeleid' 'mondkapje']\n",
      "3 ['onderwijsniveau' 'onderwijsaanbod' 'schoolverlaten' 'onderwijsgeld'\n",
      " 'onderwijsbudget' 'schoolkosten' 'basisonderwijs' 'onderwijsveld'\n",
      " 'schoolbestuur' 'basisscholen' 'schoolbesturen' 'schoolgebouwen'\n",
      " 'scholen' 'onderwijssector' 'education' 'onderwijsraad' 'onderwijs'\n",
      " 'schooluitval' 'onderwijstijd' 'schoolverlaters' 'basisschool'\n",
      " 'schoolpleinen' 'pedagogische' 'educatie' 'onderwijsbeleid'\n",
      " 'schoolgaande' 'school' 'pedagogisch' 'schoolleiders' 'hogeschool'\n",
      " 'schooladviezen' 'thuisonderwijs' 'schooladvies' 'lerarenbeurs'\n",
      " 'taalonderwijs' 'leerwerkplekken' 'schooljaar' 'scholieren'\n",
      " 'onderwijzend' 'afgestudeerden' 'flexstuderen' 'collegegeld' 'afstuderen'\n",
      " 'colleges' 'afgestudeerde' 'opleiding' 'curriculum' 'buitenschoolse'\n",
      " 'opleidingen' 'docenten']\n",
      "4 ['minimumloon' 'pensioenstelsel' 'werklozen' 'pensioenopbouw'\n",
      " 'werkgelegenheid' 'werkloos' 'pensioenakkoord' 'arbeidskorting'\n",
      " 'arbeidsmigratie' 'arbeidskrachten' 'pensioenpremies' 'werkgeverschap'\n",
      " 'werkloze' 'werklast' 'arbeidscontract' 'pensioenen' 'arbeidsplaatsen'\n",
      " 'arbeidsduur' 'arbeidsmarkt' 'gepensioneerden' 'pensioenfondsen'\n",
      " 'pensioenfonds' 'werkgevers' 'arbeidshandicap' 'werknemers' 'arbeidsonge'\n",
      " 'werkgever' 'pensioenwet' 'arbeidsrechten' 'pensioendatum' 'werknemer'\n",
      " 'arbeiders' 'banenplan' 'arbeidsmi' 'pensioen' 'grensarbeiders'\n",
      " 'banenafspraak' 'werkers' 'salaris' 'salarissen' 'werkgele' 'arbeidsbe'\n",
      " 'werkverkeer' 'arbeidsvoor' 'werkzoekenden' 'werkvergunning'\n",
      " 'dwangarbeid' 'ouderenkorting' 'werkweek' 'kinderarbeid']\n",
      "5 ['milieubeheer' 'milieuwetgeving' 'milieuregels' 'ecoregelingen'\n",
      " 'ecologische' 'ecologie' 'ecologisch' 'ecoregeling' 'natuurbeleid'\n",
      " 'milieuraad' 'milieueffecten' 'omgevingsplan' 'klimaatbeleid'\n",
      " 'milieubelasting' 'afvalbeheerplan' 'milieunormen' 'natuurbeheer'\n",
      " 'klimaatakkoord' 'milieuwinst' 'milieuschade' 'milieurisico'\n",
      " 'luchtvervuiling' 'milieuzones' 'visserijbeleid' 'omgevingswet'\n",
      " 'milieuprestatie' 'natuurgebieden' 'waterbeheer' 'natuurgebied'\n",
      " 'ecosysteem' 'klimaatopgave' 'omgevingsrecht' 'klimaatplannen'\n",
      " 'ecosystemen' 'vervuiling' 'afvalwater' 'klimaattafels' 'klimaatneutrale'\n",
      " 'waterveiligheid' 'omgevingsvisie' 'milieudruk' 'natuurnetwerk'\n",
      " 'visserijakkoord' 'omgeving' 'omgevings' 'greenpeace' 'faunabeheer'\n",
      " 'natuurwaarden' 'natuurakkoord' 'biodiversiteit']\n",
      "6 ['landbouwsector' 'landbouwbeleid' 'dierenwelzijns' 'dierenwelzijn'\n",
      " 'landbouwakkoord' 'landbouw' 'dierenpolitie' 'landbouwareaal'\n",
      " 'boerderijen' 'landbouwgif' 'faunabeheer' 'dierenleed' 'vleessector'\n",
      " 'landbouwgronden' 'farm' 'vleesconsumptie' 'landbouwers' 'boeren'\n",
      " 'landbouwgrond' 'dieren' 'tuinbouwsector' 'zoogdieren' 'koeien'\n",
      " 'vleeskuikens' 'schapen' 'boerenbedrijven' 'dierrechten' 'vlees'\n",
      " 'dierentuinen' 'boerenerf' 'huisdieren' 'dierenartsen' 'voedselomgeving'\n",
      " 'kweekvlees' 'agrariers' 'koerden' 'natuurbeheer' 'fauna'\n",
      " 'milieuwetgeving' 'afvalbeheerplan' 'pesticiden' 'dierlijke' 'ecosysteem'\n",
      " 'biodiver' 'biodiversiteit' 'koerdische' 'milieubeheer' 'ecosystemen'\n",
      " 'geiten' 'dierenarts']\n",
      "7 ['rechtsstaat' 'stakingsrecht' 'juridische' 'legale' 'overgangsrecht'\n",
      " 'invoeringswet' 'wettig' 'wettelijk' 'leerplichtwet' 'mededingingswet'\n",
      " 'juridisch' 'inburgeringswet' 'rechtsgrond' 'winkeltijdenwet'\n",
      " 'jurisprudentie' 'wettelijke' 'oorlogsrecht' 'mijnbouwwet' 'wetten'\n",
      " 'juristen' 'rechtspositie' 'rechtspraktijk' 'verblijfsrecht'\n",
      " 'instellingswet' 'omgevingsrecht' 'staatsnoodrecht' 'rechtsorde'\n",
      " 'kiesrecht' 'rechtstaat' 'gerechtshof' 'gerechtelijke' 'rechtspleging'\n",
      " 'advocatuur' 'milieuwetgeving' 'illegaal' 'legalisering' 'advocaat'\n",
      " 'rechtszekerheid' 'trekkingsrecht' 'legaal' 'herstelrecht' 'wetboek'\n",
      " 'rechterlijke' 'hof' 'zorgwetten' 'legaliseren' 'adviesrecht'\n",
      " 'wetsbehandeling' 'tuchtrecht' 'rechtsbijstand']\n",
      "8 ['immigratie' 'migranten' 'vluchtelingen' 'vluchteling' 'migratiebeleid'\n",
      " 'buitengrenzen' 'immigranten' 'migratiepact' 'paspoorten' 'paspoort'\n",
      " 'geimporteerde' 'migratieachter' 'geimporteerd' 'islamisering'\n",
      " 'buitenlands' 'migratie' 'buitenland' 'buitenlandse' 'arbeidsmigratie'\n",
      " 'internationaal' 'international' 'wapenexport' 'importverbod'\n",
      " 'interlandelijke' 'grenscontroles' 'migratiestromen' 'grensarbeiders'\n",
      " 'landsgrenzen' 'export' 'exporteren' 'grensbewaking' 'importeren'\n",
      " 'internationale' 'multinationale' 'geexporteerd' 'gezinsmigratie'\n",
      " 'multinationals' 'ambassades' 'illegalen' 'islamitisch' 'jihadisten'\n",
      " 'islamitische' 'ambassade' 'jihadistische' 'exitstrategie' 'moslimhaat'\n",
      " 'syrische' 'moslims' 'externe' 'jihadisme']\n",
      "9 ['treinverkeer' 'spoorvervoer' 'verkeersregels' 'treinverbinding'\n",
      " 'verkeersboetes' 'treinreizigers' 'personenvervoer' 'verkeersdoden'\n",
      " 'spoorwegen' 'spoorwegpolitie' 'vervoersregio' 'vliegverkeer'\n",
      " 'autoverkeer' 'spoorverbinding' 'verkeersvei' 'vrachtverkeer' 'spoorlijn'\n",
      " 'vervoer' 'streekvervoer' 'taxichauffeurs' 'passagiers' 'snelwegpanorama'\n",
      " 'snelwegen' 'spoorlijnen' 'valysvervoer' 'wegverkeer' 'laagvliegroutes'\n",
      " 'transport' 'vervoers' 'autosnelwegen' 'verkeers' 'snelweg' 'chauffeurs'\n",
      " 'treinen' 'transportsector' 'verkeer' 'trein' 'vrachtwagens'\n",
      " 'diertransporten' 'goederenvervoer' 'vervoeren' 'taxi' 'bussen'\n",
      " 'rijbewijs' 'chauffeur' 'vliegroutes' 'metro' 'spoorsector' 'testbewijs'\n",
      " 'vlak']\n",
      "10 ['amnesty' 'referendum' 'overbelasting' 'illegalen' 'oversterfte'\n",
      " 'overtreders' 'vluchtelingen' 'moratorium' 'armoedebeleid' 'armoedegrens'\n",
      " 'overbevissing' 'subsidiekader' 'straatterreur' 'vluchteling' 'excessen'\n",
      " 'protesten' 'overcompensatie' 'migranten' 'legalisering' 'lobbyisten'\n",
      " 'pkb' 'subsidieert' 'subsidie' 'tegengehouden' 'overhevelen' 'excessief'\n",
      " 'overschrijdend' 'grensarbeiders' 'ruling' 'genocides' 'parlementariers'\n",
      " 'hindernissen' 'granten' 'herstelwet' 'overlast' 'overheidstaken'\n",
      " 'brexit' 'overweging' 'staatsschuld' 'demonstranten' 'nations'\n",
      " 'sanctioneren' 'huurverhogingen' 'subsidiebedrag' 'sanctiepakket'\n",
      " 'waarvoor' 'extremisme' 'inpassing' 'ontslagrecht' 'bovenwettelijke']\n",
      "11 ['kredietcrisis' 'economy' 'economisch' 'economen' 'economische'\n",
      " 'economic' 'kenniseconomie' 'economie' 'economieen' 'eurocrisis'\n",
      " 'rijksbegroting' 'budgetplafonds' 'crisisaanpak' 'begrotingssteun'\n",
      " 'begrotingsbehan' 'crisistijd' 'econo' 'crisis' 'groeifonds'\n",
      " 'hypotheekrente' 'crisissituatie' 'crisissituaties' 'herstelfonds'\n",
      " 'risicoplafonds' 'budgetpolis' 'fipronilcrisis' 'bak' 'krediet'\n",
      " 'hypotheek' 'inflatie' 'hypotheken' 'bankenbelasting' 'bankrekening'\n",
      " 'cofinanciering' 'begrotingsbe' 'wallet' 'schuldenaanpak' 'sleutelrol'\n",
      " 'vergemakkelijkt' 'innovatiebox' 'kappen' 'financial' 'rijksuitgaven'\n",
      " 'herstelpakket' 'bank' 'voedselcrisis' 'begrotingsjaar' 'macrobudget'\n",
      " 'ijssellijn' 'kredieten']\n",
      "12 ['politiesterkte' 'politieverhoor' 'politiewerk' 'politiewet'\n",
      " 'politiebureau' 'politiebureaus' 'politieagenten' 'politiemensen'\n",
      " 'politieacademie' 'polis' 'politie' 'polissen' 'arrestatiebevel'\n",
      " 'strafrechtketen' 'criminaliteit' 'bestraffen' 'strafrechtelijk'\n",
      " 'gevangenisstraf' 'strafvervolging' 'politiekorps' 'sanctiebeleid'\n",
      " 'strafzaak' 'criminele' 'criminelen' 'misdaden' 'geweldsdelicten' 'cop'\n",
      " 'gevangeniswezen' 'strafvordering' 'strafrecht' 'spoorwegpolitie'\n",
      " 'strafrechter' 'arrest' 'strafproces' 'onbestraft' 'gevangenissen'\n",
      " 'strafzaken' 'vrijheidsstraf' 'crimineel' 'delicten' 'cybercrime'\n",
      " 'gewelddadig' 'sanctielijst' 'sanctiepakket' 'gewelddadige'\n",
      " 'detentiecentra' 'gevangenis' 'strafmaat' 'taakstraffen' 'dierenpolitie']\n",
      "13 ['ministerraad' 'minister' 'ministeriele' 'onderzoeksraad' 'ministerie'\n",
      " 'ministeries' 'ministers' 'bussen' 'bus' 'comite' 'bak' 'kabinetsbesluit'\n",
      " 'zoek' 'uitchecken' 'bekijkt' 'veiligheidsraad' 'zoeken' 'super' 'kwh'\n",
      " 'tweemaal' 'adviesrapport' 'uitstekend' 'listen' 'massa' 'kabinetsvisie'\n",
      " 'agro' 'adviescommissie' 'bromfietsen' 'brood' 'adviseerde' 'zoveel' 'ww'\n",
      " 'watch' 'open' 'politiesterkte' 'vergemakkelijkt' 'allang' 'bericht'\n",
      " 'kabinets' 'kappen' 'ontzettend' 'ggo' 'apk' 'brzo' 'indachtig' 'bw'\n",
      " 'tkkst' 'bronbeleid' 'mh' 'gezocht']\n",
      "14 ['jeugdzorgaanbod' 'jeugdzorg' 'jeugdhulp' 'jeugdautoriteit'\n",
      " 'jeugdsportfonds' 'jongerenwerk' 'jeugdwerk' 'youth' 'jeugd'\n",
      " 'jongvolwassenen' 'jongeren' 'minderjarigen' 'jeugdwet' 'jeugdigen'\n",
      " 'jeugdige' 'minderjarige' 'kinderen' 'kinderbijslag' 'jonge' 'jongere'\n",
      " 'kinderrechten' 'jonger' 'kinderopvang' 'kindermisbruik' 'kinderporno'\n",
      " 'meerderjarige' 'pleegkinderen' 'ouderschap' 'barneveld' 'asielkinderen'\n",
      " 'kleine' 'ouders' 'generaties' 'risicojongeren' 'kindermarketing'\n",
      " 'generatie' 'schoolgebouwen' 'schoolkosten' 'voorschoolse' 'kinderarbeid'\n",
      " 'schoolverlaten' 'schoolbestuur' 'vijftien' 'vijfjaarlijkse' 'dochters'\n",
      " 'onderwijsbudget' 'basisschool' 'basisonderwijs' 'agro' 'bak']\n",
      "15 ['energiekosten' 'energieprijzen' 'energiebeleid' 'energievoor'\n",
      " 'energieverbruik' 'energiecrisis' 'energierekening' 'energieakkoord'\n",
      " 'energielabel' 'energielabels' 'energiegebruik' 'energiesector'\n",
      " 'energieneutraal' 'energieraad' 'energiebronnen' 'energiebedrijf'\n",
      " 'energietran' 'kernenergie' 'gasaansluiting' 'energiesysteem' 'energy'\n",
      " 'energiemarkt' 'energiere' 'energiemix' 'energiebe' 'gasgebouw'\n",
      " 'broeikasgassen' 'benzine' 'gasprijzen' 'energie' 'windenergie'\n",
      " 'energiearmoede' 'gaswinning' 'gasopslag' 'kolencentrales' 'gas'\n",
      " 'gasopslagen' 'gasproductie' 'ecoregelingen' 'gasvelden' 'kolencentrale'\n",
      " 'kerncentrales' 'elektriciteits' 'gasveld' 'elektriciteit' 'gasprijs'\n",
      " 'kolenbelasting' 'energielasten' 'ecoregeling' 'kerncentrale']\n",
      "16 ['privacyregels' 'digitale' 'digital' 'cybersecurity' 'cyberveiligheid'\n",
      " 'digitalisering' 'digitaal' 'cryptovaluta' 'openstaan' 'open' 'agro'\n",
      " 'duizend' 'tweemaal' 'verstaan' 'drankenkartons' 'voltooien' 'illegaal'\n",
      " 'moest' 'belemme' 'bezette' 'digitaliseren' 'winkeltijdenwet' 'klap'\n",
      " 'ontzettend' 'kappen' 'onveilig' 'cybercrime' 'miljoenennota' 'privacy'\n",
      " 'publiekelijk' 'falende' 'lock' 'reclamecode' 'tienduizenden' 'boete'\n",
      " 'volstaan' 'moeilijk' 'miljarden' 'kleine' 'verwijderen' 'zachte'\n",
      " 'openstellen' 'apk' 'miljoenen' 'miljoen' 'gedragscode' 'openbaarmaking'\n",
      " 'mededingingswet' 'lobbyregister' 'geopend']\n"
     ]
    }
   ],
   "source": [
    "topic_words, word_scores, topic_nums = model.get_topics(reduced=True)\n",
    "for i, t in enumerate(topic_words):\n",
    "    print(i, t)"
   ]
  },
  {
   "cell_type": "code",
   "execution_count": 151,
   "metadata": {},
   "outputs": [
    {
     "data": {
      "text/plain": [
       "'migratiebeleid\",\"rijksbegroting\",\"politiesterkte\",\"milieuwetgeving\",\"immigratie\",\"begrotingsbehan\",\"begrotingsjaar\",\"luchtvervuiling\",\"ecoregelingen\",\"migranten\",\"begrotingssteun\",\"buitengrenzen\",\"oorlogsrecht\",\"milieubelasting\",\"afvalbeheerplan\",\"energiebeleid\",\"wereldoorlog\",\"jaarverslag\",\"energiecrisis\",\"milieubeheer\",\"islamisering\",\"jeugdzorgaanbod\",\"budgetplafonds\",\"wapenexport\",\"faunabeheer\",\"verkeersregels\",\"onderwijsbudget\",\"moslimhaat\",\"jihadistische\",\"jihadisme\",\"noordzeeakkoord\",\"rechtsstaat\",\"mededingingswet\",\"paspoort\",\"energiekosten\",\"vluchtelingen\",\"energieprijzen\",\"vluchteling\",\"ecoregeling\",\"islamitisch\",\"islamitische\",\"jihadisten\",\"politiewet\",\"moslims\",\"grondwet\",\"energiemarkt\",\"minderjarigen\",\"veiligheidsraad\",\"rijksuitgaven\",\"dierenpolitie\",\"bouwkosten\",\"kernenergie\",\"landbouwbeleid\",\"energieakkoord\",\"kolenbelasting\",\"energielabels\",\"landbouwakkoord\",\"treinverkeer\",\"milieuregels\",\"spoorwegpolitie\",\"vleessector\",\"islam\",\"schapen\",\"tuinbouwsector\",\"jeugdhulp\",\"immigranten\",\"taxichauffeurs\",\"paspoorten\",\"minderjarige\",\"strafrechtketen\",\"geimporteerde\",\"kinderen\",\"vliegbelasting\",\"geweldsdelicten\",\"oorlogsmisdaden\",\"energieverbruik\",\"energievoor\",\"energierekening\",\"vliegveiligheid\",\"kinderporno\",\"oorlog\",\"energielabel\",\"energiegebruik\",\"luchtaanvallen\",\"energiesector\",\"zeezoogdieren\",\"energieraad\",\"energieneutraal\",\"dierrechten\",\"energiebedrijf\",\"energiebronnen\",\"politiewerk\",\"energietran\",\"politiebureaus\",\"koeien\",\"jeugdsportfonds\",\"spoorvervoer\",\"schoolkosten\",\"gerechtshof\",\"legalisering\",\"ecologische\",\"energy\",\"jeugdautoriteit\",\"migratiepact\",\"ecologie\",\"energiesysteem\",\"jeugdzorg\",\"migratieachter\",\"politieacademie\",\"budgetpolis\",\"overgangsrecht\",\"legale\",\"begrotingsbe\",\"arabische\",\"inburgeringswet\",\"kabinetsbesluit\",\"mensenrecht\",\"kinderbijslag\",\"kinderrechten\",\"eurocrisis\",\"kindermisbruik\",\"dierenwelzijns\",\"overheidsgeld\",\"handelsverdrag\",\"sanctiepakket\",\"preventiebeleid\",\"vliegverboden\",\"landbouwsector\",\"politieverhoor\",\"landbouwareaal\",\"kredietcrisis\",\"vliegen\",\"kerncentrales\",\"dierentuinen\",\"verkeersboetes\",\"politieagenten\",\"vrouwenrechten\",\"biodiver\",\"klimaatopgave\",\"arbeidsmigratie\",\"ecologisch\",\"energiere\",\"vleesconsumptie\",\"syrische\",\"politiemensen\",\"windenergie\",\"energiebe\",\"polis\",\"drugsbeleid\",\"energiemix\",\"visserijbeleid\",\"energie\",\"energiearmoede\",\"stakingsrecht\",\"natuurbeheer\",\"belastingdienst\",\"onderwijsgeld\",\"geldmuseum\",\"diergezondheid\",\"elektriciteits\",\"snelwegpanorama\",\"antisemitische\",\"elektriciteit\",\"pesticiden\",\"saudische\",\"biodiversiteit\",\"waterveiligheid\",\"jurisprudentie\",\"zorgkosten\",\"personenvervoer\",\"staatsnoodrecht\",\"vlees\",\"grensarbeiders\",\"ecosysteem\",\"justitie\",\"vrachtverkeer\",\"tuinbouw\",\"jihadstrijders\",\"onderwijsbeleid\",\"geimporteerd\",\"mensenrechten\",\"strafrechtelijk\",\"buitenlands\",\"buitenland\",\"risicoanalyses\",\"turkije\",\"dierenwelzijn\",\"sanctiebeleid\",\"handelsakkoord\",\"illegaal\",\"arrestatiebevel\",\"international\",\"bombardementen\",\"grenscontroles\",\"internationaal\",\"bestraffen\",\"aviation\",\"importverbod\",\"vliegverbod\",\"dierenleed\",\"luchtvaartnota\",\"vliegverkeer\",\"luchtvaart\",\"bouwbesluit\",\"vliegbasis\",\"zoogdieren\",\"jaarverslagen\",\"dieren\",\"verwijderen\",\"vliegbewegingen\",\"landbouw\",\"luchtkwaliteit\",\"landbouwgif\",\"dierenartsen\",\"vlieg\",\"jeugdwet\",\"landbouwgronden\",\"politiebureau\",\"landbouwgrond\",\"verkeersdoden\",\"autoverkeer\",\"dierenarts\",\"belastingen\",\"ministerraad\",\"kerncentrale\",\"tax\",\"kernwapens\",\"overbelasting\",\"kernwapen\",\"onderwijsniveau\",\"verkeersvei\",\"klimaatakkoord\",\"klimaatplannen\",\"natuurbeleid\",\"migratie\",\"terrorisme\",\"benzine\",\"politie\",\"veterinaire\",\"antisemitisme\",\"basisonderwijs\",\"belastinggeld\",\"gezondheidszorg\",\"stikstofbeleid\",\"illegalen\",\"vleeskuikens\",\"air\",\"onderwijsveld\",\"onderwijsaanbod\",\"volksgezondheid\",\"rechterlijke\",\"rechtbanken\",\"passagiers\",\"biomassa\",\"referendum\",\"chauffeurs\",\"milieueffecten\",\"zorgstandaarden\",\"geiten\",\"klimaattafels\",\"lucht\",\"snelweg\",\"biobrandstoffen\",\"brandveiligheid\",\"gerechtstolken\",\"belastingdruk\",\"hof\",\"juridische\",\"onderwijssector\",\"mediabegroting\",\"rookverbod\",\"winkeltijdenwet\",\"waterbeheer\",\"gezondheidsraad\",\"budgettair\",\"gezinsmigratie\",\"cybersecurity\",\"strafvervolging\",\"ecosystemen\",\"cyberveiligheid\",\"voedselomgeving\",\"drankenkartons\",\"sharia\",\"legaliseren\",\"vrijheidsstraf\",\"wettig\",\"vervoersregio\",\"verblijfsrecht\",\"kinderopvang\",\"justitieel\",\"katten\",\"middeninkomen\",\"jihad\",\"kabinetsbeleid\",\"vervuiling\",\"internationale\",\"testbewijs\",\"treaty\",\"bussen\",\"demonstranten\",\"asielkinderen\",\"mijnbouwwet\",\"vliegtuigen\",\"pleegkinderen\",\"vliegtuig\",\"kleine\",\"beleidsvrijheid\",\"verboden\",\"nucleaire\",\"youth\",\"pilots\",\"vliegvelden\",\"huisdieren\",\"luchthaven\",\"nucleair\",\"vliegveld\",\"jongvolwassenen\",\"luchthavens\",\"boerderijen\",\"landbouwers\",\"airport\",\"jeugdigen\",\"minister\",\"ministeriele\",\"schoolverlaten\",\"fauna\",\"autosnelwegen\",\"belasting\",\"vliegreizen\",\"erfbelasting\",\"ministers\",\"klimaatbeleid\",\"belastingont\",\"ministeries\",\"koerden\",\"jeugdwerk\",\"vliegtaks\",\"koerdische\",\"nanodeeltjes\",\"jongerenwerk\",\"schoolgebouwen\",\"belastingbe\",\"snelwegen\",\"israelische\",\"belastingtarief\",\"dierlijke\",\"zeeschepen\",\"loonbelasting\",\"scholen\",\"schoolbesturen\",\"schoolbestuur\",\"stikstofaanpak\",\"onderzeeboten\",\"milieunormen\",\"klimaatneutrale\",\"terroristische\",\"milieuraad\",\"fiscaliteit\",\"palestijns\",\"basisscholen\",\"spoorwegen\",\"veterinair\",\"terroristisch\",\"schooluitval\",\"winstbelasting\",\"schoolverlaters\",\"terroristen\",\"groenten\",\"groente\",\"rechtbank\",\"fiscaal\",\"iraanse\",\"sigaretten\",\"taxien\",\"jeugd\",\"honden\",\"zee\",\"milieuwinst\",\"schoolpleinen\",\"kolencentrales\",\"basisschool\",\"luchtruim\",\"sea\",\"omgevingsplan\",\"rechter\",\"spoorverbinding\",\"zorgautoriteit\",\"economy\",\"verkeers\",\"automobilisten\",\"kiesrecht\",\"onderwijstijd\",\"onderwijs\",\"laagvliegroutes\",\"rechtszekerheid\",\"wegverkeer\",\"gerechtelijke\",\"verkeer\",\"zeespiegel\",\"tabaksproducten\",\"milieurisico\",\"economisch\",\"economische\",\"pet\",\"biotechnologie\",\"crisisaanpak\",\"wettelijk\",\"chauffeur\",\"kweekvlees\",\"onderwijsraad\",\"juridisch\",\"luchtkwa\",\"medicijngebruik\",\"economic\",\"veilige\",\"brandstof\",\"economie\",\"brandstoffen\",\"wapensystemen\",\"afvalwater\",\"hervatten\",\"treinreizigers\",\"scholieren\",\"konijnen\",\"milieuschade\",\"studieschulden\",\"thuisonderwijs\",\"vervoer\",\"meerderjarige\",\"ambassades\",\"invoeringswet\",\"marine\",\"veiligheid\",\"voedselcrisis\",\"corona\",\"wettelijke\",\"justitiele\",\"strafproces\",\"strafrecht\",\"waterwerken\",\"adviesrecht\",\"jaarlijks\",\"arabie\",\"noordzee\",\"leerplichtwet\",\"rijbewijs\",\"watersector\",\"huizenprijzen\",\"libanon\",\"middeninkomens\",\"juristen\",\"criminaliteit\",\"arbeidsrechten\",\"zeeland\",\"instellingswet\",\"gevaarlijke\",\"budgethouders\",\"voedselketen\",\"advertenties\",\"brexit\",\"voedselhulp\",\"grensbewaking\",\"tankstations\",\"strafzaak\",\"armenie\",\"cybercrime\",\"coronabeleid\",\"defensiebeleid\",\"interlandelijke\",\"systeemrisico\",\"herstelpakket\",\"duizend\",\"export\",\"kalenderjaar\",\"geexporteerd\",\"chemiebedrijven\",\"bangladesh\",\"barneveld\",\"comite\",\"bericht\",\"openstaan\",\"repareren\",\"kabinetsplannen\",\"piloten\",\"boeren\",\"pilot\",\"farm\",\"koningin\",\"vaccinatiegraad\",\"israelisch\",\"palestijnen\",\"boerenerf\",\"agrariers\",\"boerenbedrijven\",\"polissen\",\"israel\",\"palestijnse\",\"rijksmuseum\",\"marokkaanse\",\"belastinggebied\",\"vaccinatie\",\"vaccineren\",\"vaccinaties\",\"jongeren\",\"vaccins\",\"ziekenhuizen\",\"bankenbelasting\",\"vaccin\",\"ministerie\",\"constitutionele\",\"gasprijzen\",\"ziekenhuiszorg\",\"armoedebeleid\",\"bankrekening\",\"kernreactoren\",\"jeugdige\",\"vliegroutes\",\"greco\",\"stikstofruimte\",\"dierproeven\",\"migratiestromen\",\"armoedegrens\",\"pensioenstelsel\",\"treinverbinding\",\"flexstuderen\",\"diersoort\",\"diersoorten\",\"klimaatwet\",\"accijnzen\",\"windturbines\",\"omgevingswet\",\"pensioenfondsen\",\"faunawet\",\"broeikasgassen\",\"pensioenfonds\",\"economen\",\"natuurgebied\",\"spoorlijn\",\"natuurgebieden\",\"kolencentrale\",\"jongere\",\"education\",\"ziekenhuis\",\"gasaansluiting\",\"school\",\"ambulancezorg\",\"jonger\",\"taxi\",\"ambulances\",\"rechtsgrond\",\"omgevingsrecht\",\"roken\",\"biobased\",\"biobrandstof\",\"schooladvies\",\"schooladviezen\",\"jonge\",\"infectieziekten\",\"schoolgaande\",\"medische\",\"bulgarije\",\"iran\",\"gasvelden\",\"educatie\",\"mediadiensten\",\"zorgpersoneel\",\"uranium\",\"stikstofcrisis\",\"zorgverzekeraar\",\"voertuig\",\"natuurnetwerk\",\"economieen\",\"discriminatie\",\"ebola\",\"grondwater\",\"discriminatoire\",\"maritieme\",\"strafvordering\",\"zeevaart\",\"diergeneeskunde\",\"reiskosten\",\"alcoholgebruik\",\"biologisch\",\"taliban\",\"marin\",\"drugsgebruik\",\"koortspatienten\",\"vogelgriep\",\"gevaccineerde\",\"jaarbasis\",\"elektrificeren\",\"schooljaar\",\"mariniers\",\"rechtspositie\",\"maritiem\",\"gevaccineerd\",\"medisch\",\"routekaart\",\"ouderschap\",\"valysvervoer\",\"mediabedrijven\",\"zorgverzekering\",\"varkens\",\"discrimi\",\"waterkracht\",\"safety\",\"handvatten\",\"medicijnresten\",\"veiligheids\",\"coronacrisis\",\"covidpatienten\",\"moskee\",\"voedselprijzen\",\"koers\",\"discriminerende\",\"wapens\",\"discrimineren\",\"habitattypen\",\"buitenlandse\",\"discriminerend\",\"hogeschool\",\"rechtspraktijk\",\"tweedelijnszorg\",\"streekvervoer\",\"historische\",\"moskeeen\",\"hectare\",\"consumenten\",\"bromfietsen\",\"rijdt\",\"vervoers\",\"jaarlijkse\",\"offshore\",\"burgerschap\",\"militaire\",\"ouders\",\"farmaceuten\",\"rijnlandroute\",\"rechtsorde\",\"vogel\",\"herstelrecht\",\"varkenshouders\",\"binnenklimaat\",\"consument\",\"farmaceutische\",\"historisch\",\"waterbedeffect\",\"dierziekten\",\"kabinetsperiode\",\"coalitieakkoord\",\"coronatoegangs\",\"buitenschoolse\",\"privacyregels\",\"landrechten\",\"security\",\"libische\",\"consumen\",\"tabaksindustrie\",\"archivering\",\"mozambique\",\"hypotheken\",\"militairen\",\"afvalfonds\",\"misdaden\",\"mediafonds\",\"voedselgewassen\",\"roadmap\",\"risicoselectie\",\"armeense\",\"risicoplafonds\",\"cultuurbeleid\",\"tv\",\"onveiligheid\",\"krijgsmacht\",\"archieven\",\"verontreiniging\",\"vrij\",\"macedonie\",\"azerbeidzjan\",\"archief\",\"terugkeerbeleid\",\"exporteren\",\"groeifonds\",\"mijnbouwschade\",\"beleidsdoelen\",\"rijksbeleid\",\"onderhandeling\",\"albanie\",\"kindermarketing\",\"illegaliteit\",\"speelveld\",\"onderhandelen\",\"installeren\",\"database\",\"bus\",\"onderhandelings\",\"woningbouw\",\"marketing\",\"liberalisering\",\"overeenkomst\",\"actualisering\",\"vijfjaarlijkse\",\"conflict\",\"hackers\",\"sanctielijst\",\"open\",\"bouwplannen\",\"ontwerpbesluit\",\"eindrapport\",\"bilaterale\",\"daken\",\"reclamecode\",\"waarschuwen\",\"actualiseren\",\"actualisatie\",\"voltooien\",\"algerije\",\"falende\",\"koninkrijksre\",\"koninkrijk\",\"koninklijk\",\"koning\",\"koningshuis\",\"koninklijke\",\"king\",\"palestina\",\"verpleeghuizen\",\"marokkanen\",\"politiekorps\",\"marokkaans\",\"inflatie\",\"visserijakkoord\",\"klimaatcrisis\",\"rege\",\"verpleeghuis\",\"kingen\",\"agrarische\",\"stikstofdoelen\",\"pensioenopbouw\",\"helikopters\",\"visserijsector\",\"klimaatdoelen\",\"kroon\",\"monument\",\"nitraat\",\"kingsverbanden\",\"media\",\"cop\",\"landingsbanen\",\"klimaatveran\",\"agrarisch\",\"klimaatimpact\",\"klimaatnota\",\"gasopslag\",\"klimaatdoel\",\"stikstof\",\"verpleegkundige\",\"visserijraad\",\"mediawet\",\"vuurwapen\",\"gasopslagen\",\"onderzoeksraad\",\"racisme\",\"verpleeg\",\"klimaatfonds\",\"gaswinning\",\"recycling\",\"cultuurkaart\",\"minimumloon\",\"krediet\",\"egyptische\",\"wereldbank\",\"jarenlange\",\"bulgaarse\",\"leningen\",\"hypotheekrente\",\"digitalisering\",\"milieuzones\",\"klinieken\",\"vuurwerkverbod\",\"ontwapening\",\"straatterreur\",\"climate\",\"biobrand\",\"recyclaat\",\"databank\",\"jarenlang\",\"voedselbanken\",\"cultuursector\",\"ambulance\",\"transgenderzorg\",\"gasproductie\",\"jeruzalem\",\"cannabis\",\"gasveld\",\"accijns\",\"crisis\",\"spoorlijnen\",\"ambassade\",\"kliniek\",\"kredietunies\",\"huurverhogingen\",\"milieuprestatie\",\"schuldenaanpak\",\"gegarandeerde\",\"bankieren\",\"belasten\",\"kredieten\",\"natuurlijke\",\"natuurherstel\",\"natuurkwaliteit\",\"automobilist\",\"miljoenennota\",\"afghaanse\",\"gegarandeerd\",\"miljarden\",\"klinisch\",\"digitale\",\"natuurwaarden\",\"watervogels\",\"elektrisch\",\"kankerpatienten\",\"gevangenisstraf\",\"elektrische\",\"schoolleiders\",\"miljard\",\"noordwest\",\"natuur\",\"omgevingsvisie\",\"bulgaren\",\"jaar\",\"diesel\",\"noord\",\"vluchten\",\"klinische\",\"wapen\",\"ruling\",\"gasgebouw\",\"geheimhouding\",\"riskpolis\",\"waterkwaliteit\",\"natuurakkoord\",\"joods\",\"vogels\",\"treinen\",\"stikstofdioxide\",\"schepen\",\"platteland\",\"mediawijsheid\",\"sanitatie\",\"rechtstaat\",\"advocaat\",\"natuurbe\",\"transport\",\"digital\",\"medialandschap\",\"nature\",\"court\",\"bewapende\",\"advocatuur\",\"joodse\",\"privevluchten\",\"biociden\",\"afvalstromen\",\"walvisjacht\",\"egypte\",\"elektrificatie\",\"trein\",\"nachtvluchten\",\"coronapatienten\",\"drugscriminelen\",\"natura\",\"health\",\"goederenvervoer\",\"zeeuwse\",\"congres\",\"waarborgt\",\"bromfiets\",\"belgische\",\"huisartsenzorg\",\"pedagogische\",\"wateroverlast\",\"neonicotinoiden\",\"landsgrenzen\",\"tuchtrecht\",\"pelijke\",\"biokerosine\",\"noordtak\",\"republiek\",\"parlementaire\",\"zorgstelsel\",\"lening\",\"gezondheid\",\"aerius\",\"waterstaat\",\"archeologie\",\"spoor\",\"geothermie\",\"afstuderen\",\"digitaal\",\"gezonde\",\"gezond\",\"pedagogisch\",\"kosteneffectief\",\"arbeidsmarkt\",\"gezondheids\",\"dolfijnen\",\"drinkwater\",\"risicosectoren\",\"steenkoolgas\",\"belemmeren\",\"publicaties\",\"opiumwet\",\"coronasteun\",\"hypotheek\",\"wolf\",\"greenpeace\",\"afgestudeerden\",\"kostenpost\",\"rechters\",\"leerwerkplekken\",\"geneesmiddelen\",\"luchtwassers\",\"witboek\",\"digitaliseren\",\"gewapende\",\"extremistische\",\"vlucht\",\"fosfaatbank\",\"extremisme\",\"infectie\",\"infecties\",\"accountants\",\"publicatie\",\"rijkswaterstaat\",\"afgestudeerde\",\"schuldeisers\",\"zeeuws\",\"schuldeiser\",\"stemrecht\",\"binnenwateren\",\"risicojongeren\",\"gezonder\",\"publiceren\",\"noordoost\",\"echtscheidingen\",\"investment\",\"carbon\",\"servicekosten\",\"diertransporten\",\"onbestraft\",\"televisie\",\"rijden\",\"tienduizenden\",\"hervormingen\",\"ziektewet\",\"subsidiebedrag\",\"diplomatiek\",\"geneesmiddel\",\"olympische\",\"diplomatieke\",\"officieren\",\"adviesrapport\",\"budgethouder\",\"kleinbedrijf\",\"palmolie\",\"kalkoenen\",\"herstelfonds\",\"investeringen\",\"megawatt\",\"strafrechter\",\"risicogroepen\",\"beleidsvorming\",\"kilowattuur\",\"werkgelegenheid\",\"externe\",\"investeert\",\"borstkanker\",\"arbeidskorting\",\"curriculum\",\"investeren\",\"olympisch\",\"cryptovaluta\",\"rijdend\",\"mariene\",\"dusseldorf\",\"criminelen\",\"criminele\",\"maart\",\"transportsector\",\"wederopbouw\",\"levensmiddelen\",\"beleidsregel\",\"inkomensgroepen\",\"risicogroep\",\"officier\",\"veiliger\",\"inkomenssteun\",\"beleidsregels\",\"externen\",\"vrouwelijke\",\"kernwapentaak\",\"gemeentewet\",\"gemeentefonds\",\"opleiding\",\"isotopen\",\"beleidskader\",\"investering\",\"consumeren\",\"invest\",\"meren\",\"extern\",\"beleidsopties\",\"nationaliteit\",\"airbnb\",\"gender\",\"voedselze\",\"multinationale\",\"herstelplannen\",\"gepubliceerd\",\"herstelplan\",\"coronapandemie\",\"beveiligde\",\"investe\",\"maarten\",\"gepubliceerde\",\"somalie\",\"voeding\",\"beleidskeuzes\",\"terughalen\",\"terugkomt\",\"wereldwijde\",\"mediation\",\"nieuwbouw\",\"merendeel\",\"dakloze\",\"gratis\",\"investerings\",\"chemische\",\"bevolkingsgroei\",\"wereldwijd\",\"wetboek\",\"saoedi\",\"terugkomen\",\"inkomensgrens\",\"verdrag\",\"terrassen\",\"macrobudget\",\"waddenzee\",\"kleinschalig\",\"beleidsmatig\",\"regulation\",\"geinvesteerd\",\"multinationals\",\"report\",\"wallet\",\"diplomatie\",\"veteranen\",\"gemeenteraad\",\"investor\",\"corruptie\",\"nieuwe\",\"werkvergunning\",\"munitie\",\"wetten\",\"beschermde\",\"investeerder\",\"beleidsbrief\",\"diplomaten\",\"chemicalien\",\"homoseksuele\",\"new\",\"illegale\",\"cyberaanvallen\",\"burgeroorlog\",\"rapporteert\",\"regelgeving\",\"telecom\",\"stations\",\"samaria\",\"reguleren\",\"importeren\",\"inkomenslanden\",\"zakelijke\",\"verzameld\",\"tweemaal\",\"handelsbeleid\",\"panel\",\"verwijderd\",\"verwijdering\",\"reglement\",\"halfjaar\",\"spelen\",\"station\",\"contractvervoer\",\"onderhandeld\",\"agreement\",\"nieuw\",\"plafonds\",\"eurobonds\",\"gereguleerd\",\"controversieel\",\"gewelddadige\",\"concentreren\",\"geactualiseerd\",\"eurolanden\",\"gewelddadig\",\"holocaust\",\"geweld\",\"fosfaatplafond\",\"datacenters\",\"europol\",\"verzamelde\",\"verzamelwet\",\"garantiefonds\",\"regulering\",\"contractuele\",\"tradities\",\"traditie\",\"impactanalyse\",\"anno\",\"gewelds\",\"saudi\",\"multilateraal\",\"bouwprojecten\",\"overheidshanden\",\"overheidstaken\",\"multilaterale\",\"verbod\",\"ondersteunen\",\"plafond\",\"scan\",\"openstellen\",\"cypriotische\",\"bouwwerken\",\"bouwstop\",\"exitstrategie\",\"kwh\",\"strategieen\",\"sleutelrol\",\"asielzoekers\",\"strategisch\",\"strategische\",\"dochters\",\"singapore\",\"agro\",\"microgram\",\"oplei\",\"beleidsagenda\",\"marokko\",\"museum\",\"gepensioneerden\",\"ouderenkorting\",\"pensioenakkoord\",\"ouderen\",\"pensioenen\",\"monumenten\",\"rijksmonumenten\",\"staatsecretaris\",\"pensioenpremies\",\"vissen\",\"ouderenzorg\",\"pensioenwet\",\"sportakkoord\",\"bibliotheek\",\"griekenland\",\"journalisten\",\"sport\",\"oudere\",\"klimaatak\",\"bibliotheken\",\"journalist\",\"pensioendatum\",\"sportvelden\",\"journalistiek\",\"racistische\",\"betrouwbaarheid\",\"coronavirus\",\"journalistieke\",\"klimaatschade\",\"chipkaart\",\"visserij\",\"volksbank\",\"bank\",\"bankensector\",\"sportvereniging\",\"miljoenen\",\"sportwet\",\"transparantie\",\"sporten\",\"oldtimers\",\"sportvisserij\",\"jaren\",\"bankentoezicht\",\"miljoen\",\"leeftijd\",\"oude\",\"kenniseconomie\",\"musea\",\"gas\",\"gediscrimineerd\",\"levensjaar\",\"banken\",\"grondrechten\",\"sportscholen\",\"klimaatneutraal\",\"herstelwet\",\"sportbonden\",\"levensjaren\",\"klimaat\",\"gerecyclede\",\"oldtimer\",\"afghanistan\",\"mln\",\"antibiotica\",\"gasprijs\",\"topsport\",\"recyclen\",\"strippenkaart\",\"sportsector\",\"vissoorten\",\"bankenunie\",\"drones\",\"vissers\",\"generaties\",\"personenauto\",\"gerecycled\",\"transparanter\",\"fietsparkeren\",\"alcoholreclame\",\"bancaire\",\"afghanen\",\"ouder\",\"bankiers\",\"kostendekkende\",\"belgisch\",\"biologische\",\"rulingpraktijk\",\"accountant\",\"second\",\"crisissituaties\",\"kindhuwelijken\",\"godsdienst\",\"gewaarborgd\",\"windparken\",\"routes\",\"grondrecht\",\"godsdienstige\",\"oogst\",\"landgoederen\",\"windpark\",\"auto\",\"cultuuromslag\",\"cultuureducatie\",\"schulden\",\"alcoholhoudende\",\"windmolenparken\",\"garanties\",\"toerisme\",\"rechten\",\"judea\",\"patientgegevens\",\"burn\",\"museale\",\"sportclubs\",\"crisissituatie\",\"voetbal\",\"erdogan\",\"voertuigen\",\"energielasten\",\"garantie\",\"flexibeler\",\"pers\",\"regeer\",\"crisistijd\",\"tweedelijns\",\"langjarige\",\"wind\",\"flexibele\",\"waterschappen\",\"algoritmes\",\"waterschap\",\"flexibel\",\"windmolenpark\",\"gevangeniswezen\",\"parlementariers\",\"aardgaswinning\",\"akkerbouw\",\"religieuze\",\"reisadviezen\",\"waterkeringen\",\"vloot\",\"loterij\",\"rabobank\",\"echtscheiding\",\"tweede\",\"hervatting\",\"spoorsector\",\"religie\",\"dierproef\",\"armoede\",\"route\",\"walvissen\",\"gasmarkt\",\"autofabrikanten\",\"kaarten\",\"loonkosten\",\"kansspelen\",\"loterijen\",\"flexibiliteit\",\"rijkswet\",\"schuldenaren\",\"supermarkt\",\"flexibilisering\",\"geheime\",\"geheim\",\"supermarkten\",\"physician\",\"noordelijke\",\"kabinetsvisie\",\"flexwoningen\",\"rights\",\"radio\",\"lerarenbeurs\",\"omgeving\",\"onderzoek\",\"zeehavens\",\"grensover\",\"gasunie\",\"religieus\",\"vrachtwagens\",\"zorgsysteem\",\"pijen\",\"atmosfeer\",\"griekse\",\"omgevings\",\"zorgketen\",\"buitenlucht\",\"creeren\",\"zorgmedewerkers\",\"noorden\",\"drugs\",\"ontslagrecht\",\"persvrijheid\",\"groen\",\"milieudruk\",\"nord\",\"waterstof\",\"risicoprofielen\",\"risicoprofiel\",\"armoedeval\",\"onkosten\",\"natuurdoelen\",\"risicodragend\",\"nexit\",\"risicovolle\",\"tieel\",\"toeristen\",\"sporters\",\"risico\",\"gevaar\",\"gevangenissen\",\"russische\",\"minimumprijs\",\"gevangenis\",\"installatie\",\"adviescommissie\",\"collegegeld\",\"zorg\",\"secundaire\",\"bomen\",\"verstedelijking\",\"risicovol\",\"coronavaccins\",\"seksualiteit\",\"geschiedenis\",\"openbaarmaking\",\"asielcrisis\",\"begrenzen\",\"werklozen\",\"steenkool\",\"schuldenaar\",\"reisinformatie\",\"onderzoekt\",\"water\",\"groenlinks\",\"oligarchen\",\"rechtspleging\",\"werkloos\",\"bestuurder\",\"bestuursrechter\",\"onderzoeken\",\"strafzaken\",\"inkoopbeleid\",\"installaties\",\"afvalstoffen\",\"virus\",\"lerarenregister\",\"gedragscode\",\"hervorming\",\"zoetwater\",\"privacy\",\"onderzoeks\",\"vrouwen\",\"maandenlang\",\"overstromingen\",\"syriers\",\"drugsafval\",\"reisverbod\",\"asielbeleid\",\"research\",\"geneesmid\",\"reizigers\",\"metro\",\"nutrienten\",\"publiekelijk\",\"verkiezingen\",\"monumentale\",\"beveiligd\",\"wereldbevolking\",\"wijkagenten\",\"kansen\",\"veehouderijen\",\"waterberging\",\"etniciteit\",\"kanker\",\"virussen\",\"fipronilcrisis\",\"minimale\",\"gevaccineerden\",\"zoektocht\",\"joden\",\"eilanden\",\"global\",\"reorganisatie\",\"terreur\",\"wetshandhaving\",\"bestuurskracht\",\"arbeidskrachten\",\"groei\",\"crises\",\"strafmaat\",\"myanmar\",\"staatsschuld\",\"organische\",\"vetorecht\",\"risicogericht\",\"vernieuwing\",\"groepsrisico\",\"zoeken\",\"beschermt\",\"werkverkeer\",\"arbeidsplaatsen\",\"veetransporten\",\"straffeloosheid\",\"bestraffing\",\"militair\",\"gemeentelijk\",\"recherche\",\"zoek\",\"rechtszaak\",\"risk\",\"explosief\",\"beschermd\",\"eiland\",\"delicten\",\"reorganisaties\",\"strafbaar\",\"rechtszaken\",\"coronamaatre\",\"colleges\",\"gerechtigheid\",\"beloningsbeleid\",\"elektronische\",\"taalonderwijs\",\"kansrijke\",\"gynaecologen\",\"trekkingsrecht\",\"kleinschalige\",\"growth\",\"groeiscenario\",\"reiziger\",\"globaal\",\"arbeidscontract\",\"inkomensverlies\",\"windmolens\",\"consumentenbond\",\"vervoeren\",\"sancties\",\"globale\",\"rassen\",\"wateren\",\"turken\",\"werkloze\",\"zowel\",\"herhaalde\",\"beschermen\",\"veehouder\",\"investeerders\",\"elektronisch\",\"beiden\",\"sanctieregime\",\"renoveren\",\"coronatest\",\"renovatie\",\"opleidingen\",\"arbeidsduur\",\"ijsselmeer\",\"arbeidsonge\",\"isla\",\"verhogingen\",\"grensregio\",\"onderwijzend\",\"agenten\",\"immuniteit\",\"zorguitgaven\",\"varkenshouderij\",\"reisadvies\",\"aanbeveling\",\"werklast\",\"opengesteld\",\"huurverhoging\",\"due\",\"gezondere\",\"geneeskunde\",\"veestapel\",\"etnische\",\"arbeidshandicap\",\"sustainable\",\"kinderarbeid\",\"epidemie\",\"beide\",\"schoon\",\"vrijheid\",\"strafbare\",\"crimineel\",\"gelijkheid\",\"verkrachting\",\"twee\",\"delict\",\"aanbevelingen\",\"seksueel\",\"kernen\",\"asfalt\",\"innovatiebeleid\",\"schadefonds\",\"adviseerde\",\"gemeenschappen\",\"mercosur\",\"rechts\",\"straffen\",\"vrijheden\",\"beschermende\",\"rapporteren\",\"ongelijkheid\",\"buiten\",\"minimumnormen\",\"teruggegeven\",\"hernieuwbare\",\"beleggers\",\"vernieuwd\",\"dual\",\"bescherming\",\"waddenfonds\",\"revolverend\",\"vernieuwde\",\"uitzonderingen\",\"gedragscodes\",\"minderheid\",\"zender\",\"bromfietsers\",\"berichten\",\"stadsregio\",\"isolement\",\"regulatory\",\"fora\",\"zwemmen\",\"terugkeert\",\"homoseksuelen\",\"plasma\",\"terugwerkende\",\"langzaam\",\"witte\",\"uitgezonden\",\"suggesties\",\"gemeentelijke\",\"snorfietsen\",\"gevonden\",\"koortsepidemie\",\"suggestie\",\"flexwerkers\",\"beleidslijn\",\"noodfonds\",\"humanitaire\",\"beleggingen\",\"anticonceptie\",\"vervuilend\",\"document\",\"overheidssteun\",\"gezonden\",\"aardbevingen\",\"stedelijk\",\"heffingen\",\"quick\",\"medicatie\",\"etnisch\",\"waarborgfonds\",\"banenafspraak\",\"instrumen\",\"ongezonde\",\"minderheden\",\"gemeentes\",\"meerjarenplan\",\"protection\",\"freedom\",\"einddatum\",\"verdubbeld\",\"gekozen\",\"halfjaarlijkse\",\"zwemveiligheid\",\"duale\",\"strafhof\",\"persveilig\",\"parijsakkoord\",\"dubbel\",\"ad\",\"rijkste\",\"onveilig\",\"huizenbezitters\",\"exxonmobil\",\"hernieuwd\",\"reporting\",\"beschermings\",\"wetsbehandeling\",\"betaalt\",\"werkzoekenden\",\"studiejaar\",\"pack\",\"datacenter\",\"troepen\",\"stedelijke\",\"warmtepompen\",\"verdubbelen\",\"legaal\",\"lands\",\"conflicten\",\"speelt\",\"halfjaarlijks\",\"aanslagen\",\"huizen\",\"zand\",\"voedsel\",\"georgie\",\"takenpakket\",\"studie\",\"pakistan\",\"beleids\",\"meldcode\",\"code\",\"beleid\",\"gemiddelde\",\"landroof\",\"politici\",\"indonesische\",\"wiskunde\",\"gezinsgerichte\",\"aardbeving\",\"gemeenschap\",\"collectie\",\"raad\",\"strijdkrachten\",\"chemie\",\"zakelijk\",\"bouwstenen\",\"import\",\"staatssteun\",\"blanke\",\"gerapporteerd\",\"verpakkingen\",\"betalen\",\"openbaarheid\",\"brittannie\",\"tweeverdieners\",\"update\",\"isoleren\",\"huiseigenaren\",\"dashboard\",\"corrupte\",\"vrouw\",\"dubbele\",\"kleiner\",\"politiek\",\"ziekteverzuim\",\"indonesie\",\"ondervoeding\",\"verslag\",\"food\",\"adoptie\",\"wetswijziging\",\"importeurs\",\"seksuele\",\"bedrijfstakken\",\"verordeningen\",\"liteit\",\"terugbetaling\",\"besmettelijke\",\"verkleint\",\"taxonomie\",\"optie\",\"collecties\",\"baby\",\"partnerlanden\",\"glyfosaat\",\"betaalde\",\"verbeterplan\",\"monetaire\",\"rechtshulp\",\"akkoorden\",\"legalisatie\",\"aardbe\",\"geanalyseerd\",\"tenminste\",\"geopend\",\"palet\",\"subsidie\",\"christelijke\",\"families\",\"adviesraad\",\"terugkoppeling\",\"veranderd\",\"regels\",\"radicaliseren\",\"gemeenteraden\",\"qatar\",\"popmuziek\",\"regionalisering\",\"koopmarkt\",\"campagnes\",\"uitkoopregeling\",\"selecteren\",\"gereguleerde\",\"gezin\",\"tunnels\",\"vechten\",\"herbeoordeling\",\"partnerland\",\"afgesloten\",\"middellange\",\"gespeeld\",\"familie\",\"radicalisering\",\"dagloonbesluit\",\"voorjaar\",\"keuze\",\"geselecteerd\",\"board\",\"games\",\"selectie\",\"continue\",\"hollands\",\"tanks\",\"keuzehulp\",\"alternatieven\",\"vervuild\",\"gemiddeld\",\"keuzes\",\"deadline\",\"begraven\",\"concrete\",\"eerstelijnszorg\",\"gouvernementele\",\"ammoniakemissie\",\"consumptie\",\"consulaat\",\"thuiswonende\",\"kabinets\",\"coronapas\",\"protest\",\"huisvesting\",\"gezinsleden\",\"inkomensgat\",\"democra\",\"finland\",\"nederlanders\",\"microplastics\",\"lock\",\"vernieuwen\",\"kabinetsbrede\",\"gelderland\",\"alternatief\",\"koloniale\",\"kabinetten\",\"deadlines\",\"samengewerkt\",\"deelakkoord\",\"cooperatieve\",\"samenwerkt\",\"bar\",\"nplg\",\"gecontracteerd\",\"bewaard\",\"keuzevrijheid\",\"hollandse\",\"samenwerken\",\"cooperatie\",\"gecontracteerde\",\"alternatieve\",\"grond\",\"ameland\",\"spelers\",\"huishoudens\",\"bureau\",\"bedrijfsleven\",\"voortzetten\",\"genocides\",\"regionale\",\"uitstekend\",\"kabinet\",\"vernieuwende\",\"schendingen\",\"europe\",\"dutchbat\",\"overheidstaak\",\"zomer\",\"gezinnen\",\"strategie\",\"cooperation\",\"marktordening\",\"gezins\",\"gecombineerde\",\"europeanen\",\"gebouwen\",\"genocide\",\"samenkomen\",\"stopzetten\",\"behoud\",\"nepnieuws\",\"waarschuwingen\",\"autobrief\",\"lobbyregister\",\"inholland\",\"toegestaan\",\"sleutel\",\"familielid\",\"poms\",\"sekswerk\",\"novib\",\"bouwen\",\"burgerbevolking\",\"identiteit\",\"congo\",\"anonimiteit\",\"ontwikkelruimte\",\"privatisering\",\"klap\",\"gezinshuizen\",\"verwijsindex\",\"vergemakkelijkt\",\"burgemeester\",\"gezamen\",\"verdwijnt\",\"wwz\",\"uitleg\",\"geopolitieke\",\"geholpen\",\"ouderverstoting\",\"vertrouwen\",\"ouderbijdrage\",\"elders\",\"trustsector\",\"trust\",\"jarige\",\"fietsen\",\"senioren\",\"oud\",\"fietspad\",\"betrouwbaar\",\"betrouwbare\",\"volwassenen\",\"jarigen\",\"fiets\",\"fietspaden\",\"geloofwaardig\",\"brandweerzorg\",\"trans\",\"geloofwaardige\",\"overgangsjaar\",\"vertrouwde\",\"fietsers\",\"vuurwerk\",\"wantrouwen\",\"transparante\",\"alcohol\",\"stabiliteit\",\"maximumsnelheid\",\"secretaris\",\"brandweer\",\"china\",\"vertrouwelijk\",\"stabiliteits\",\"algoritme\",\"asbestdaken\",\"volwassen\",\"vertrouwelijke\",\"transparant\",\"geloof\",\"ontbossing\",\"chinese\",\"zonnepanelen\",\"verbranden\",\"weidevogels\",\"casino\",\"abortussen\",\"onzekerheid\",\"dranken\",\"cultuur\",\"rekenonderwijs\",\"drank\",\"onzekerheden\",\"asbest\",\"cultureel\",\"grootouders\",\"zekerheden\",\"zekerheid\",\"melk\",\"huwelijk\",\"amnesty\",\"culturele\",\"gassen\",\"hout\",\"melkproductie\",\"tijdperk\",\"decennia\",\"garandeert\",\"transpa\",\"toeristische\",\"winkels\",\"algoritmen\",\"toeristisch\",\"asbestsanering\",\"overtreders\",\"instabiliteit\",\"garantstelling\",\"garant\",\"huwelijken\",\"bomenkap\",\"oversterfte\",\"soevereine\",\"melkkoeien\",\"boeken\",\"soevereiniteit\",\"wijkverpleging\",\"gazprom\",\"drink\",\"soeverein\",\"vertrouwd\",\"zorgverzeke\",\"snelheid\",\"econo\",\"abortus\",\"russisch\",\"winkelgebieden\",\"bufferstroken\",\"januari\",\"overtuigend\",\"moratorium\",\"stabiel\",\"klimaattop\",\"grenzen\",\"melkveehouderij\",\"verzekeren\",\"zon\",\"zorgsector\",\"zoutwinning\",\"patienten\",\"snelheden\",\"melkveehouders\",\"zorgverlening\",\"boek\",\"green\",\"winkel\",\"transitieproces\",\"veelplegers\",\"overcompensatie\",\"overbevissing\",\"waarborging\",\"russen\",\"drinken\",\"verdenking\",\"onzeker\",\"voetbalclubs\",\"transformatie\",\"melkgeiten\",\"overschrijdend\",\"kostendekkend\",\"treeknormen\",\"afval\",\"stabiele\",\"frans\",\"kaart\",\"transmissie\",\"groene\",\"schip\",\"zorgveld\",\"subsidiekader\",\"verzorgingshuis\",\"melkvee\",\"grens\",\"tegengehouden\",\"sanctioneren\",\"rekeningen\",\"maatschappelijk\",\"fraude\",\"verbranding\",\"november\",\"minimumtarieven\",\"verbrand\",\"huwelijkse\",\"hindernissen\",\"melkquotum\",\"excessen\",\"libie\",\"kansspelbeleid\",\"rekeningrijden\",\"onderuitputting\",\"vuurpijlen\",\"overschreden\",\"huwelijksdwang\",\"zwangerschap\",\"afwegingskader\",\"overlast\",\"mindervaliden\",\"overweging\",\"stenen\",\"oversluiten\",\"sanctionering\",\"zout\",\"nederzettingen\",\"inpassing\",\"april\",\"overhevelen\",\"subsidieert\",\"helderheid\",\"franse\",\"kilometergrens\",\"december\",\"prenatale\",\"overschrijdt\",\"bovenwettelijke\",\"onderbesteding\",\"risicogebieden\",\"subsidierelatie\",\"zonne\",\"overbelast\",\"tegenvallers\",\"korten\",\"tabak\",\"transitieagenda\",\"stalbranden\",\"minimaliseren\",\"cyclus\",\"buffers\",\"bestuurscultuur\",\"lactatiekundige\",\"out\",\"maandelijkse\",\"opwarming\",\"maand\",\"snellere\",\"maanden\",\"publieke\",\"zoonosen\",\"irak\",\"sociale\",\"minimumtarief\",\"meststoffenwet\",\"frauderende\",\"gevaren\",\"leer\",\"kornwerderzand\",\"buffer\",\"fruit\",\"kosten\",\"vlak\",\"frictiekosten\",\"rode\",\"zwangere\",\"social\",\"vol\",\"goedkope\",\"gokken\",\"maandelijks\",\"fraudeur\",\"vrijdag\",\"fraudeurs\",\"boekenprijs\",\"planten\",\"ruimtevaart\",\"regeerakkoord\",\"buitenplaatsen\",\"breed\",\"zonneladder\",\"stemmingen\",\"regeerperiode\",\"plastic\",\"minimum\",\"buitenruimte\",\"revolutionaire\",\"retailers\",\"juni\",\"plantaardige\",\"goedkoop\",\"kiezers\",\"houtstook\",\"vluchtroutes\",\"bosker\",\"rechtsbijstand\",\"minimumeisen\",\"juli\",\"stemming\",\"grensstreek\",\"grenswaarden\",\"versnellen\",\"vooropstaat\",\"duurzaamheid\",\"france\",\"rekening\",\"zwanger\",\"stemmen\",\"bestaansrecht\",\"berekeningen\",\"goedkoopste\",\"volkscultuur\",\"februari\",\"transitie\",\"medicijnen\",\"rijksoverheid\",\"detailhandel\",\"minimumlonen\",\"buitengebied\",\"eiwitten\",\"meerkosten\",\"transities\",\"buitengebieden\",\"stembureaus\",\"anti\",\"oktober\",\"rijksambtenaren\",\"publiek\",\"duurder\",\"samenlevingen\",\"society\",\"presidium\",\"euthanasie\",\"kolen\",\"kamers\",\"sociaal\",\"duurzaamheids\",\"zuiveren\",\"kiezer\",\"verdediging\",\"gefraudeerd\",\"scooters\",\"kamerstuk\",\"bacterie\",\"kringloop\",\"doorrekeningen\",\"bevallen\",\"scheiden\",\"habitats\",\"scheepvaart\",\"contant\",\"duidelijkheid\",\"mestfraude\",\"rekentoets\",\"woningeigenaren\",\"zondag\",\"herstelproces\",\"straten\",\"rekent\",\"retail\",\"bacterien\",\"goedkoper\",\"uitsterven\",\"plastics\",\"kilometer\",\"evacueren\",\"bolivia\",\"kwaliteitsplan\",\"gestemd\",\"samenleving\",\"commerciele\",\"defence\",\"witwassen\",\"rusland\",\"wild\",\"doodstraf\",\"pluimveehouders\",\"evacuatie\",\"handelsmissies\",\"openbaar\",\"frankrijk\",\"minimaal\",\"gelezen\",\"kostbare\",\"duurzaam\",\"duidelijker\",\"recessie\",\"advocaten\",\"reisbranche\",\"gerechtigde\",\"mondiale\",\"leerlingen\",\"berekening\",\"daarbuiten\",\"exit\",\"xinjiang\",\"rooms\",\"antilliaanse\",\"onafhankelijk\",\"koophandel\",\"burundi\",\"maandag\",\"kamerbreed\",\"innovatiebox\",\"evacues\",\"reis\",\"cirkel\",\"apothekers\",\"uitzondering\",\"pluimvee\",\"ongevallen\",\"onafhankelijke\",\"perinatale\",\"stad\",\"zonneparken\",\"studenten\",\"tropisch\",\"lezen\",\"goedkopere\",\"apotheken\",\"scooter\",\"elimineren\",\"duurdere\",\"sneltesten\",\"houtpellets\",\"kostbaar\",\"commercieel\",\"straat\",\"city\",\"opruimen\",\"kilometers\",\"september\",\"ongeval\",\"reizen\",\"belgie\",\"zorgfraude\",\"bosnie\",\"wereldomroep\",\"duidelijke\",\"max\",\"telecomsector\",\"onderzocht\",\"bruine\",\"klanten\",\"roetfilters\",\"pensioen\",\"turks\",\"herhalen\",\"docenten\",\"verwarming\",\"overdracht\",\"augustus\",\"privaat\",\"gerechtigden\",\"apotheker\",\"circulaire\",\"kwaliteitskader\",\"hersteld\",\"wereld\",\"wetgeving\",\"rechtzoekenden\",\"bufferzones\",\"werkgeverschap\",\"studietoeslag\",\"fouilleren\",\"kamermotie\",\"humanistische\",\"eruit\",\"hoofdstad\",\"maatschappij\",\"fossiel\",\"grove\",\"uitgaande\",\"kwaliteitseisen\",\"softdrugs\",\"medicinale\",\"continuiteit\",\"kwaliteit\",\"evidente\",\"kwaliteitseis\",\"mondiaal\",\"kerkelijke\",\"stads\",\"leren\",\"straf\",\"bestuurders\",\"uitsluiten\",\"leger\",\"kamervoorzitter\",\"mineralen\",\"heldere\",\"fryslan\",\"documentatie\",\"omgevingsdienst\",\"luxemburg\",\"straatcoaches\",\"taakstraffen\",\"student\",\"documenten\",\"buitenspel\",\"herhaald\",\"limburgse\",\"reclassering\",\"repressie\",\"flessen\",\"onafhankelijker\",\"eindrapportage\",\"herstellen\",\"warmtewet\",\"warm\",\"betaalbaar\",\"brandhaarden\",\"world\",\"tracebesluit\",\"geringe\",\"kans\",\"lerende\",\"leerkracht\",\"rechtspersonen\",\"transitiefonds\",\"bekostigd\",\"herstel\",\"rekenschap\",\"fossiele\",\"race\",\"windmolen\",\"humanitair\",\"emissies\",\"betuweroute\",\"transactie\",\"ombouw\",\"zuidelijke\",\"verre\",\"kwaliteits\",\"zoektermijn\",\"vloeibare\",\"straffe\",\"weekenden\",\"mijnbouw\",\"duurzame\",\"bekostiging\",\"branches\",\"uitval\",\"katholieke\",\"doeltreffend\",\"lelylijn\",\"weekend\",\"schuldregeling\",\"knalvuurwerk\",\"leesbevordering\",\"overgang\",\"duurzamere\",\"warmte\",\"onderzoekers\",\"doeltreffende\",\"criteria\",\"mogelijkheden\",\"steden\",\"zuidlijn\",\"duurzamer\",\"duidelijk\",\"literatuur\",\"droge\",\"gesloten\",\"zuiden\",\"limburg\",\"gestraft\",\"mogelijkheid\",\"km\",\"tariefkorting\",\"uitgesloten\",\"studievoorschot\",\"diversiteit\",\"apotheek\",\"vinden\",\"hersteloperatie\",\"rekenrente\",\"scheiding\",\"handboek\",\"wachtlijst\",\"tekorten\",\"poliklinische\",\"verwarmen\",\"fondsen\",\"prijsstijgingen\",\"werelderfgoed\",\"stadium\",\"betaalbare\",\"zenders\",\"verduurzamen\",\"populariteit\",\"spanningen\",\"herijken\",\"chip\",\"snorfiets\",\"menselijkheid\",\"nieuws\",\"laagst\",\"minste\",\"spooragenda\",\"giftige\",\"universele\",\"bestuderen\",\"facturen\",\"monde\",\"vervoerd\",\"doelmatig\",\"kerk\",\"studeren\",\"koude\",\"minima\",\"milieu\",\"werkgevers\",\"prostitutie\",\"maximum\",\"doelmatigheid\",\"reist\",\"maximumaantal\",\"menukaart\",\"gezocht\",\"hoeksteen\",\"innovatieve\",\"doelmatiger\",\"werknemers\",\"berekenen\",\"traject\",\"doelmatige\",\"wachtlijsten\",\"werkgever\",\"transporten\",\"uitgelezen\",\"huishouden\",\"hongarije\",\"dakloos\",\"box\",\"honderden\",\"innovatiekracht\",\"geboortezorg\",\"documentaire\",\"kerken\",\"instrument\",\"zoekt\",\"capital\",\"syriegangers\",\"minst\",\"professor\",\"data\",\"bekostigen\",\"omgezet\",\"permanente\",\"zuivering\",\"laagste\",\"gering\",\"innovatief\",\"grensheffing\",\"angst\",\"centrales\",\"innovatie\",\"penitentiaire\",\"geld\",\"cyber\",\"camera\",\"houdbaarheid\",\"humane\",\"wet\",\"daklozen\",\"playing\",\"innovatiegelden\",\"zwembaden\",\"camerabeelden\",\"union\",\"marechaussee\",\"datum\",\"studieschuld\",\"bevalling\",\"uitchecken\",\"werknemer\",\"boot\",\"zakken\",\"neveneffecten\",\"innovaties\",\"autoriteiten\",\"geschoten\",\"bekostigde\",\"frequenties\",\"veroordeeld\",\"moreel\",\"studieleningen\",\"interne\",\"maximale\",\"feestdagen\",\"handel\",\"feitenonderzoek\",\"rapporten\",\"veestallen\",\"stem\",\"transacties\",\"wijkagent\",\"verkorten\",\"confronteren\",\"handels\",\"overplaatsing\",\"cofinanciering\",\"verdubbeling\",\"overgangs\",\"misdrijf\",\"listen\",\"agentschappen\",\"zogeheten\",\"ontheffingen\",\"bijen\",\"verkennen\",\"first\",\"smalle\",\"handelaren\",\"dakloosheid\",\"permanent\",\"reclame\",\"syrie\",\"geschoven\",\"instrumenten\",\"repressieve\",\"emissiehandel\",\"wetsartikel\",\"minstens\",\"oliewinning\",\"isolatie\",\"zenden\",\"steunpakketten\",\"ontdekt\",\"politieke\",\"leert\",\"autoriteit\",\"groeipad\",\"banenplan\",\"noodpakket\",\"reistijd\",\"defensiebudget\",\"frequentie\",\"fonds\",\"bruinvissen\",\"examinering\",\"generatie\",\"effectievere\",\"hoeveel\",\"studielening\",\"aziatische\",\"schoner\",\"agentschap\",\"borssele\",\"voorschoolse\",\"werkdruk\",\"vroegschoolse\",\"prostituees\",\"inspecteren\",\"verblijfsstatus\",\"vakantie\",\"vergaderingen\",\"auteursrecht\",\"onderdrukken\",\"duits\",\"studieadvies\",\"vreest\",\"emissierechten\",\"arbitrage\",\"maatwerkaanpak\",\"inkomenspositie\",\"geleerd\",\"trainen\",\"flesjes\",\"cedure\",\"rapport\",\"overzichtelijk\",\"effectieve\",\"brommers\",\"giftig\",\"leerd\",\"turkse\",\"snorfietsers\",\"schonere\",\"private\",\"verdeelmodel\",\"opleidings\",\"keringen\",\"houtskoolschets\",\"diepe\",\"reclames\",\"enorm\",\"prorail\",\"west\",\"insecten\",\"verhandelen\",\"topsporters\",\"loop\",\"arbeiders\",\"segregatie\",\"date\",\"coronamelder\",\"opening\",\"gegevens\",\"openen\",\"studies\",\"efficiencywinst\",\"medicijn\",\"intravacc\",\"artsen\",\"zoveel\",\"spectrum\",\"arbeidsmi\",\"aangetroffen\",\"vielen\",\"aanbevolen\",\"uitwassen\",\"zorgwetten\",\"voortplanting\",\"gevangenen\",\"efficientie\",\"straling\",\"efficient\",\"eerste\",\"ronde\",\"mensensmokkel\",\"portefeuille\",\"reistijden\",\"menselijke\",\"morele\",\"verslaglegging\",\"gaza\",\"spel\",\"uniformeren\",\"separate\",\"omstreden\",\"wooncrisis\",\"beschuldigd\",\"conferenties\",\"hulpbronnen\",\"onderhandelt\",\"bedragen\",\"preventieve\",\"paarden\",\"right\",\"lekken\",\"preventie\",\"overzichtelijke\",\"jordanie\",\"opsporen\",\"tunesie\",\"werkzoekende\",\"menselijk\",\"koraal\",\"dreigingsbeeld\",\"effectief\",\"inspectie\",\"traditionele\",\"geminimaliseerd\",\"vervolgd\",\"rechercheurs\",\"conferentie\",\"basispakket\",\"innoveren\",\"openstelling\",\"teruggestuurd\",\"steunpakket\",\"rijke\",\"zandsuppletie\",\"massa\",\"leeuwarden\",\"oostenrijk\",\"verbeteringen\",\"evident\",\"beveiligen\",\"dwangarbeid\",\"sluitingen\",\"human\",\"warenautoriteit\",\"clientenraden\",\"handelsregister\",\"chemours\",\"effectiviteit\",\"geboorte\",\"tata\",\"telefoons\",\"buren\",\"sluiting\",\"eurotop\",\"schieten\",\"griffierechten\",\"logische\",\"grootbedrijf\",\"thuiszitten\",\"duo\",\"onderdrukking\",\"informatievoor\",\"interna\",\"werkers\",\"efficiente\",\"fosfaatrechten\",\"druk\",\"armslag\",\"verplaatsing\",\"verplaatst\",\"waddeneilanden\",\"vader\",\"bedreigingen\",\"veranderen\",\"lering\",\"partnertoeslag\",\"ggz\",\"huishoudelijk\",\"dollar\",\"week\",\"adviseert\",\"stop\",\"verplichtingen\",\"outbreak\",\"programmering\",\"openheid\",\"tunnel\",\"kanalen\",\"misdrijven\",\"huis\",\"zomervakantie\",\"residuen\",\"thuiswerken\",\"telefoon\",\"leidingen\",\"groeiend\",\"engeland\",\"steekproef\",\"papier\",\"luisteren\",\"interactieve\",\"campus\",\"marginale\",\"ontwikkeling\",\"bedreiging\",\"werkgele\",\"glasaal\",\"bilateraal\",\"wildgroei\",\"onhoudbaar\",\"telefonische\",\"openstaat\",\"testbeleid\",\"beleidsreactie\",\"ingangsdatum\",\"dagbesteding\",\"positieflijst\",\"aanvallen\",\"wedstrijden\",\"overdag\",\"dag\",\"leveren\",\"kustwacht\",\"resistentie\",\"ierland\",\"rapporteur\",\"clienten\",\"groeiende\",\"ontdekken\",\"efficientere\",\"autonomie\",\"mestwetgeving\",\"coronagolf\",\"arbeidsbe\",\"vee\",\"huisvesten\",\"autonome\",\"expliciete\",\"werkweek\",\"pluimveesector\",\"vijftien\",\"veehouderij\",\"verondiepen\",\"buurthuizen\",\"compromis\",\"stoppen\",\"expliciteren\",\"schuldsanering\",\"efficiency\",\"unie\",\"eerstelijns\",\"and\",\"kippen\",\"bewind\",\"prijsplafond\",\"litouwen\",\"pelijk\",\"heffingskorting\",\"dagen\",\"ondersteuning\",\"diepgaand\",\"overheidsin\",\"drukmiddelen\",\"nationalisatie\",\"universiteiten\",\"informatie\",\"terugbetalen\",\"stress\",\"paper\",\"hectares\",\"verbetering\",\"reserve\",\"deeltjes\",\"geinspecteerd\",\"effectiever\",\"bezoek\",\"adaptatie\",\"myanmarese\",\"mensenhandel\",\"vonden\",\"vergadering\",\"agenda\",\"huishoudelijke\",\"nagenoeg\",\"gremia\",\"westerse\",\"datalekken\",\"verbeterpunten\",\"premier\",\"gunning\",\"leeg\",\"eerst\",\"beta\",\"pakket\",\"schuldig\",\"geschieden\",\"consistent\",\"douane\",\"coffeeshops\",\"inspecties\",\"efficienter\",\"afbouwplan\",\"provinciefonds\",\"rijksniveau\",\"gezag\",\"marginaal\",\"inkomen\",\"seismiciteit\",\"standstill\",\"arme\",\"schengenzone\",\"kanaal\",\"ggo\",\"later\",\"bezoeken\",\"audit\",\"kandidaten\",\"medewerking\",\"afgifte\",\"programmeren\",\"britse\",\"vergaderen\",\"wederzijdse\",\"accreditatie\",\"cooperaties\",\"nrc\",\"overeenkomsten\",\"terugkeer\",\"steekproeven\",\"telefonisch\",\"terugbrengen\",\"volgend\",\"middelgrote\",\"defensie\",\"beleidsnota\",\"coalitie\",\"tocht\",\"portemonnee\",\"marktconforme\",\"beschuldigingen\",\"ambtsbericht\",\"terugnemen\",\"geldstromen\",\"monetair\",\"amendement\",\"bijeenkomst\",\"mannelijke\",\"ondersteunend\",\"blootstelling\",\"men\",\"verdachten\",\"belast\",\"glastuinbouw\",\"westen\",\"afpakken\",\"eerstvolgende\",\"meisjes\",\"financiers\",\"derde\",\"voorzitterschap\",\"lvo\",\"schoonebeek\",\"council\",\"meerjarig\",\"logistiek\",\"ondersteunende\",\"financial\",\"muziek\",\"rivier\",\"nissen\",\"licht\",\"nationale\",\"terugval\",\"ideologie\",\"importeur\",\"instromen\",\"grondbeleid\",\"client\",\"emiraten\",\"amendementen\",\"ongeboren\",\"ggd\",\"armen\",\"instrumentarium\",\"geldboete\",\"topinkomens\",\"westelijke\",\"tezamen\",\"inkomens\",\"alleenstaande\",\"united\",\"brazilie\",\"sahara\",\"adviezen\",\"geactualiseerde\",\"terugbetaald\",\"terug\",\"velden\",\"reserveren\",\"alleenstaanden\",\"clubs\",\"geadviseerd\",\"gezamenlijk\",\"verduidelijkt\",\"planvorming\",\"maaltijd\",\"reserves\",\"golf\",\"zwarte\",\"aardgasbaten\",\"internet\",\"burgerdoelen\",\"ketenpartners\",\"britten\",\"field\",\"spoedige\",\"kinderartsen\",\"coronazorg\",\"polen\",\"zwart\",\"gebouwgebonden\",\"bezoekers\",\"hiv\",\"huisartsen\",\"beleidsmatige\",\"advieswaarden\",\"kortingen\",\"gezaghebbend\",\"leerde\",\"zichtbaarheid\",\"financieren\",\"uitvoeringsplan\",\"gemeld\",\"gezagen\",\"palliatief\",\"bronmaatregelen\",\"financiering\",\"uniforme\",\"bedrijfsniveau\",\"barendrecht\",\"bovenregionale\",\"marktwerking\",\"schot\",\"aarde\",\"productieketen\",\"financieringen\",\"melden\",\"productieketens\",\"bureaus\",\"bovenregionaal\",\"financien\",\"kooksfabrieken\",\"collegejaar\",\"toestemming\",\"betalingen\",\"aardgas\",\"betalings\",\"hernieuwde\",\"decentralisatie\",\"plan\",\"bedrijfsmatig\",\"zichtbare\",\"inzameling\",\"logistieke\",\"apparatuur\",\"mobiel\",\"potentie\",\"brzo\",\"hygiene\",\"inzichtelijk\",\"warmtepomp\",\"uitgezet\",\"leent\",\"gemeente\",\"oordeelt\",\"business\",\"uniformiteit\",\"meldt\",\"spionage\",\"kiezen\",\"reservering\",\"black\",\"geboren\",\"sars\",\"brits\",\"gebruikers\",\"financiert\",\"onduidelijk\",\"planning\",\"decentrale\",\"toegelaten\",\"hoek\",\"geluidsnormen\",\"liberalisatie\",\"festival\",\"pallas\",\"geitenbedrijven\",\"blootgesteld\",\"staatsbedrijven\",\"rust\",\"mobiele\",\"lichte\",\"businessplan\",\"huurwoningen\",\"aanbeveelt\",\"dr\",\"regionaal\",\"loslaten\",\"light\",\"brievenbusfirma\",\"sectorplan\",\"expliciet\",\"voorberei\",\"sectorplannen\",\"streefdatum\",\"geluidsreductie\",\"brood\",\"veertien\",\"lex\",\"lidstaten\",\"letsel\",\"memorie\",\"online\",\"sar\",\"indien\",\"noodplan\",\"zomerreces\",\"tevoren\",\"netherlands\",\"harmonisatie\",\"huurwoning\",\"ijssellijn\",\"voorjaarsnota\",\"valkenburg\",\"communicatie\",\"harmoniseren\",\"mededeling\",\"zichtbaar\",\"vreedzame\",\"chicago\",\"lingslanden\",\"bedrijfschappen\",\"belonen\",\"decentraliseren\",\"schuldhulpver\",\"adviserende\",\"caf\",\"opslag\",\"minutennorm\",\"vasteland\",\"rapportage\",\"ongehoord\",\"ideologische\",\"advies\",\"uiterlijk\",\"liggende\",\"differentiatie\",\"zachte\",\"provincies\",\"teams\",\"aanbeve\",\"roepen\",\"waarschuwt\",\"weinig\",\"adviseren\",\"kunst\",\"suiker\",\"zwerfjongeren\",\"nationaal\",\"gemeenten\",\"weggebruikers\",\"geblokkeerd\",\"sectorale\",\"familieleden\",\"kosteloos\",\"land\",\"sector\",\"ziekten\",\"naheffingen\",\"keuzedelen\",\"liter\",\"klant\",\"corporatie\",\"saba\",\"vakantieparken\",\"ammoniak\",\"huisarts\",\"bedrijven\",\"marktpartijen\",\"blokkeert\",\"kunsten\",\"vuren\",\"alfaremmers\",\"lockdown\",\"laaggeletterd\",\"landen\",\"vreemdelingen\",\"gebouwd\",\"almere\",\"architecten\",\"alert\",\"fysieke\",\"bouw\",\"waarschuwing\",\"strijders\",\"country\",\"christenen\",\"modernisering\",\"lidstaat\",\"faillissementen\",\"adviesraden\",\"verdieping\",\"bureaucratisch\",\"gecommuniceerd\",\"leerlijn\",\"geletterdheid\",\"ras\",\"geconcentreerd\",\"driehoek\",\"moeilijk\",\"bereid\",\"forces\",\"reproductieve\",\"netwerken\",\"bedrijf\",\"festivals\",\"ziekte\",\"ziektebeelden\",\"verbieden\",\"rapportages\",\"cookies\",\"deuren\",\"taalbeheersing\",\"burgemeesters\",\"geslacht\",\"werkt\",\"marktaandeel\",\"zonmw\",\"federatie\",\"pabostudenten\",\"burgerforum\",\"onderbetaling\",\"competitie\",\"estland\",\"postbedrijven\",\"granuliet\",\"micro\",\"commissie\",\"vrijwilligers\",\"alliance\",\"alfa\",\"moeder\",\"australie\",\"bondgenootschap\",\"bruggen\",\"fysiek\",\"meldingen\",\"japan\",\"sectoren\",\"onlogisch\",\"combinatie\",\"india\",\"hergebruiken\",\"kantoren\",\"belemme\",\"kooksfabriek\",\"super\",\"continueren\",\"overbruggen\",\"twintig\",\"borstvoeding\",\"faillissement\",\"mededinging\",\"trainers\",\"probleem\",\"vrije\",\"kappen\",\"schrijven\",\"bronbeleid\",\"italiaanse\",\"bak\",\"allang\",\"tatie\",\"kei\",\"papieren\",\"rusttijden\",\"japanse\",\"kinderpardon\",\"selectieve\",\"zestien\",\"kunstgrasvelden\",\"schrijft\",\"apk\",\"stoffen\",\"mom\",\"landgebruik\",\"ema\",\"office\",\"mengen\",\"bron\",\"gecombineerd\",\"verdeelsleutel\",\"ziektelast\",\"vredesproces\",\"selectief\",\"ziektes\",\"art\",\"daders\",\"vrijkomt\",\"kantoorruimte\",\"teniet\",\"vlag\",\"uitsluit\",\"ophoudt\",\"voortgangsbrief\",\"nieuwkomers\",\"club\",\"moeders\",\"beslissen\",\"kunstwerken\",\"kantoorpanden\",\"kantoor\",\"kamerbrief\",\"ww\",\"golfstaten\",\"ethiopie\",\"indienen\",\"fysiotherapie\",\"nhg\",\"tkkst\",\"sekswerkers\",\"openingstijden\",\"dichtbij\",\"aio\",\"pop\",\"geindexeerd\",\"zoet\",\"gekend\",\"mannen\",\"mh\",\"aid\",\"aantallen\",\"assistance\",\"imo\",\"oplossingen\",\"automatische\",\"mondkapje\",\"bw\",\"gestopt\",\"schimmel\",\"gijs\",\"baat\",\"lichamelijke\",\"id\",\"geen\",\"moest\",\"indexering\",\"indexeren\",\"belarus\",\"soepel\",\"loo\",\"broers\",\"lng\",\"opvangkampen\",\"somatische\",\"sponsoring\",\"piraterij\",\"vernietiging\",\"hulpverlening\",\"negentien\",\"rusten\",\"waarom\",\"verstaan\",\"grenseffecten\",\"meest\",\"dammen\",\"voegde\",\"basisteams\",\"behulpzaam\",\"restricties\",\"twente\",\"hoeft\",\"man\",\"bewegen\",\"tong\",\"geluidsniveau\",\"mevrouw\",\"aldaar'"
      ]
     },
     "execution_count": 151,
     "metadata": {},
     "output_type": "execute_result"
    }
   ],
   "source": [
    "topic_words, word_scores, topic_nums = model.get_topics(reduced=False)\n",
    "# for t in topic_words:\n",
    "#     print(t)\n",
    "\n",
    "# get some more stopwords to filter out\n",
    "from collections import defaultdict\n",
    "sums = defaultdict(int)\n",
    "\n",
    "for t, s in zip(topic_words, word_scores):\n",
    "    for word, score in zip(t,s):\n",
    "        sums[word] += score + 1\n",
    "    \n",
    "scores = [(-score, word)  for word, score in sums.items()]\n",
    "scores.sort()\n",
    "'\",\"'.join(s for w,s in scores if '_' not in s)"
   ]
  },
  {
   "cell_type": "code",
   "execution_count": 152,
   "metadata": {},
   "outputs": [],
   "source": [
    "topic_words, word_scores, topic_scores, topic_nums = model.search_topics(keywords= ['politie'] , num_topics=4, reduced=True)\n"
   ]
  },
  {
   "cell_type": "code",
   "execution_count": null,
   "metadata": {},
   "outputs": [],
   "source": []
  },
  {
   "cell_type": "code",
   "execution_count": null,
   "metadata": {},
   "outputs": [],
   "source": []
  },
  {
   "cell_type": "code",
   "execution_count": 182,
   "metadata": {},
   "outputs": [],
   "source": [
    "topics = {\n",
    "  0: 'Algemene zaken',  \n",
    "  1: 'Zorg',  \n",
    "  2: 'Gemeente',  \n",
    "  3: 'Onderwijs',  \n",
    "  4: 'Werk & Pensioen',  \n",
    "  5: 'Milieu & Klimaat',  \n",
    "  6: 'Landbouw & Dierenwelzijn',  \n",
    "  7: 'Rechtsstaat',  \n",
    "  8: 'Immigratie',  \n",
    "  9: 'Vervoer',  \n",
    "  10: 'Overig',  \n",
    "  11: 'Financien',  \n",
    "  12: 'Justitie',  \n",
    "  13: 'Kabinetsbeleid',  \n",
    "  14: 'Jeugd',  \n",
    "  15: 'Energie',\n",
    "  16: 'Digitalisering'\n",
    "  }\n",
    "# topics = {\n",
    "#   0: 'Onderwijs',  \n",
    "#   1: 'Buitenlandse zaken',  \n",
    "#   2: 'Algemene zaken',  \n",
    "#   3: 'Natuur & gaswinning',  \n",
    "#   4: 'Landbouw & dierenwelzijn',  \n",
    "#   5: 'Zorg',  \n",
    "#   6: 'Sociale zaken',  \n",
    "#   7: 'Justitie',  \n",
    "#   8: 'Pensioenstelsel',  \n",
    "#   9: 'Europese Unie',  \n",
    "#   10: 'Klimaat & energie',  \n",
    "#   11: 'Milieu & regelgeving',  \n",
    "#   12: 'Zorg',  \n",
    "#   13: 'Openbaar vervoer',  \n",
    "#   14: 'Financiele sector',  \n",
    "#   15: 'Wonen'\n",
    "#   }\n",
    "topic_words, word_scores, topic_nums = model.get_topics()\n",
    "# topics = {i:' ,'.join(topic_words[i][:3]) for i in range(len(topic_words))}\n",
    "doc_ids = list(range(len(documents)))\n",
    "topic_nums, topic_score, topic_words, word_scores = model.get_documents_topics(doc_ids,reduced=True)\n",
    "topic_names = [topics[t] for t in topic_nums]\n",
    "assert len(topic_nums) == len(df)\n",
    "df['Topic'] = topic_names\n",
    "topic_nums, topic_score, topic_words, word_scores = model.get_documents_topics(doc_ids,reduced=False)\n",
    "df['Topic_initial'] = topic_nums\n",
    "df['Topic_score'] = topic_score\n",
    "# df.sort_values(['Topic_initial', 'Topic_score'], ascending=False, inplace=True)\n"
   ]
  },
  {
   "cell_type": "code",
   "execution_count": 181,
   "metadata": {},
   "outputs": [
    {
     "data": {
      "text/plain": [
       "{0: 'onderwijsniveau ,schoolverlaten ,schoolkosten',\n",
       " 1: 'ziekenhuizen ,verpleeghuizen ,verpleeghuis',\n",
       " 2: 'bouwkosten ,gemeentelijk ,woningbouw',\n",
       " 3: 'pensioenstelsel ,pensioenopbouw ,pensioenakkoord',\n",
       " 4: 'amnesty ,overtreders ,referendum',\n",
       " 5: 'januari ,november ,april',\n",
       " 6: 'landbouwsector ,landbouw ,landbouwbeleid',\n",
       " 7: 'immigratie ,migranten ,migratiebeleid',\n",
       " 8: 'miljoenennota ,miljoenen ,miljoen',\n",
       " 9: 'begrotingsjaar ,kabinetsbesluit ,veranderd',\n",
       " 10: 'jeugdzorgaanbod ,jeugdautoriteit ,jeugdzorg',\n",
       " 11: 'belastingen ,tax ,belastingdienst',\n",
       " 12: 'treinverkeer ,spoorvervoer ,treinverbinding',\n",
       " 13: 'dierenwelzijns ,dierenwelzijn ,dierenpolitie',\n",
       " 14: 'minister ,ministerraad ,ministeriele',\n",
       " 15: 'waterbeheer ,waterveiligheid ,hervatten',\n",
       " 16: 'kostendekkende ,kostendekkend ,kostenpost',\n",
       " 17: 'kleinbedrijf ,kleine ,kleinschalig',\n",
       " 18: 'gevangenisstraf ,strafrechtketen ,strafrechtelijk',\n",
       " 19: 'vaccinatiegraad ,vaccinatie ,vaccineren',\n",
       " 20: 'innovatiebox ,innovatiebeleid ,kenniseconomie',\n",
       " 21: 'politiesterkte ,politieverhoor ,politiebureau',\n",
       " 22: 'coalitieakkoord ,brexit ,union',\n",
       " 23: 'doeltreffend ,doeltreffende ,doelmatig',\n",
       " 24: 'rechtsstaat ,stakingsrecht ,invoeringswet',\n",
       " 25: 'gasaansluiting ,gasgebouw ,gasopslag',\n",
       " 26: 'klimaatakkoord ,klimaatbeleid ,klimaatopgave',\n",
       " 27: 'bankrekening ,bank ,bankieren',\n",
       " 28: 'natuurbeheer ,natuurbeleid ,natuurgebied',\n",
       " 29: 'militaire ,militairen ,krijgsmacht',\n",
       " 30: 'crisisaanpak ,coronacrisis ,kredietcrisis',\n",
       " 31: 'gerechtshof ,rechterlijke ,rechtbanken',\n",
       " 32: 'cultuursector ,cultuuromslag ,cultuur',\n",
       " 33: 'transparantie ,transparante ,transparant',\n",
       " 34: 'adviesrapport ,report ,adviescommissie',\n",
       " 35: 'vliegveld ,luchthaven ,vliegvelden',\n",
       " 36: 'digitalisering ,digitale ,digital',\n",
       " 37: 'onderzoek ,onderzoekt ,onderzoeksraad',\n",
       " 38: 'energieakkoord ,energiebeleid ,energievoor',\n",
       " 39: 'visserijbeleid ,visserijakkoord ,visserijsector',\n",
       " 40: 'noordwest ,noordelijke ,nord',\n",
       " 41: 'verkiezingen ,stemmingen ,referendum',\n",
       " 42: 'kinderrechten ,kinderopvang ,kinderen',\n",
       " 43: 'minimumloon ,maatschappelijk ,minimumtarieven',\n",
       " 44: 'pesticiden ,giftige ,chemische',\n",
       " 45: 'privacyregels ,cyberveiligheid ,privacy',\n",
       " 46: 'milieuwetgeving ,omgevingsrecht ,milieuregels',\n",
       " 47: 'ouders ,ouderschap ,kinderrechten',\n",
       " 48: 'kredietcrisis ,krediet ,schuldenaanpak',\n",
       " 49: 'zeeschepen ,onderzeeboten ,schepen',\n",
       " 50: 'energiekosten ,energieprijzen ,energierekening',\n",
       " 51: 'discriminatoire ,discriminatie ,discriminerende',\n",
       " 52: 'taxichauffeurs ,autoverkeer ,taxi',\n",
       " 53: 'fraude ,frauderende ,fraudeur',\n",
       " 54: 'tweedelijnszorg ,jarenlange ,second',\n",
       " 55: 'recycling ,recyclen ,recyclaat',\n",
       " 56: 'sportakkoord ,sportvereniging ,sportvelden',\n",
       " 57: 'biobrandstoffen ,biobrandstof ,biomassa',\n",
       " 58: 'verkrachting ,prostitutie ,geweldsdelicten',\n",
       " 59: 'kolenbelasting ,kolencentrales ,steenkoolgas',\n",
       " 60: 'turkije ,erdogan ,turken',\n",
       " 61: 'economy ,economisch ,economische',\n",
       " 62: 'drugsbeleid ,drugscriminelen ,drugsgebruik',\n",
       " 63: 'islamisering ,islamitisch ,islamitische',\n",
       " 64: 'terroristische ,terrorisme ,terroristisch',\n",
       " 65: 'piloten ,pilots ,pilot',\n",
       " 66: 'gerechtshof ,ministeriele ,rechtbanken',\n",
       " 67: 'jeugdzorgaanbod ,jeugdwerk ,jongerenwerk',\n",
       " 68: 'dierenwelzijns ,dierenwelzijn ,dierenpolitie',\n",
       " 69: 'verkeersdoden ,snelwegpanorama ,snelwegen',\n",
       " 70: 'stikstofaanpak ,stikstofruimte ,stikstofdoelen',\n",
       " 71: 'luchtkwaliteit ,luchtvervuiling ,klimaatbeleid',\n",
       " 72: 'kinderopvang ,ouderschap ,kinderen',\n",
       " 73: 'melk ,melkproductie ,melkkoeien',\n",
       " 74: 'koninkrijk ,koninkrijksre ,koninklijk',\n",
       " 75: 'ziekenhuizen ,verpleeghuizen ,ziekenhuiszorg',\n",
       " 76: 'mensenrechten ,mensenrecht ,vrouwenrechten',\n",
       " 77: 'vuurwerkverbod ,brandweerzorg ,vuurwerk',\n",
       " 78: 'windenergie ,windturbines ,wind',\n",
       " 79: 'vrouwenrechten ,vrouwen ,vrouwelijke',\n",
       " 80: 'verpleeghuizen ,kinderbijslag ,kinderopvang',\n",
       " 81: 'palestijnen ,israelische ,israelisch',\n",
       " 82: 'mediabegroting ,publiekelijk ,media',\n",
       " 83: 'abortussen ,abortus ,zwangerschap',\n",
       " 84: 'afghaanse ,afghanistan ,afghanen',\n",
       " 85: 'consumenten ,consument ,consumen',\n",
       " 86: 'journalist ,journalisten ,journalistiek',\n",
       " 87: 'china ,chinese ,xinjiang',\n",
       " 88: 'inflatie ,bufferstroken ,buffers',\n",
       " 89: 'tweedelijns ,second ,tweedelijnszorg',\n",
       " 90: 'fietsen ,fietspad ,fietsparkeren',\n",
       " 91: 'armoedegrens ,armoedebeleid ,armoede',\n",
       " 92: 'dierenwelzijn ,dierenwelzijns ,dierenpolitie',\n",
       " 93: 'energiekosten ,energiecrisis ,energielabels',\n",
       " 94: 'herstelplannen ,herstelplan ,herstelrecht',\n",
       " 95: 'green ,groen ,groene',\n",
       " 96: 'ouderenkorting ,ouderen ,ouderverstoting',\n",
       " 97: 'russische ,russisch ,russen',\n",
       " 98: 'spoorvervoer ,treinverkeer ,treinverbinding',\n",
       " 99: 'syrische ,syriers ,vluchtelingen',\n",
       " 100: 'vogelgriep ,vogels ,weidevogels',\n",
       " 101: 'international ,internationaal ,internationale',\n",
       " 102: 'veiligheidsraad ,onderzoeksraad ,veiligheid',\n",
       " 103: 'grondwet ,constitutionele ,staatsnoodrecht',\n",
       " 104: 'ontbossing ,hout ,bomenkap',\n",
       " 105: 'zonnepanelen ,zon ,zonne',\n",
       " 106: 'godsdienstige ,godsdienst ,religieuze',\n",
       " 107: 'sigaretten ,rookverbod ,roken',\n",
       " 108: 'monument ,monumenten ,rijksmonumenten',\n",
       " 109: 'kernenergie ,kerncentrales ,kerncentrale',\n",
       " 110: 'chipkaart ,strippenkaart ,kaart',\n",
       " 111: 'volksgezondheid ,zorgautoriteit ,health',\n",
       " 112: 'stabiliteit ,stabiliteits ,instabiliteit',\n",
       " 113: 'maximumsnelheid ,snelwegen ,snelheid',\n",
       " 114: 'flexstuderen ,flexibiliteit ,flexibele',\n",
       " 115: 'wapenexport ,wapensystemen ,ontwapening',\n",
       " 116: 'alcoholreclame ,alcoholgebruik ,alcoholhoudende',\n",
       " 117: 'voedselbanken ,bankenbelasting ,vleesconsumptie',\n",
       " 118: 'greco ,griekenland ,griekse',\n",
       " 119: 'jeugdzorgaanbod ,jeugdautoriteit ,jeugdzorg',\n",
       " 120: 'kernwapens ,kernwapen ,kernenergie',\n",
       " 121: 'zoutwinning ,zout ,grondwater',\n",
       " 122: 'historische ,historisch ,geschiedenis',\n",
       " 123: 'elektriciteit ,elektrische ,elektrificeren',\n",
       " 124: 'winkeltijdenwet ,winkels ,supermarkt',\n",
       " 125: 'handelsverdrag ,handelsakkoord ,investment',\n",
       " 126: 'iraanse ,iran ,katten',\n",
       " 127: 'asbestdaken ,asbest ,asbestsanering',\n",
       " 128: 'migranten ,immigratie ,immigranten',\n",
       " 129: 'rijksmuseum ,museum ,geldmuseum',\n",
       " 130: 'staatsecretaris ,vertrouwen ,trustsector',\n",
       " 131: 'dierenpolitie ,dierenwelzijns ,dierenwelzijn',\n",
       " 132: 'buitenlucht ,luchtvervuiling ,out',\n",
       " 133: 'koningin ,koninkrijksre ,koninklijk',\n",
       " 134: 'kindermarketing ,volksgezondheid ,diergezondheid',\n",
       " 135: 'diesel ,benzine ,kolenbelasting',\n",
       " 136: 'landbouw ,landbouwsector ,landbouwbeleid',\n",
       " 137: 'politiesterkte ,politieverhoor ,politiebureau',\n",
       " 138: 'toerisme ,toeristische ,toeristisch',\n",
       " 139: 'vliegbelasting ,aviation ,vliegtuig',\n",
       " 140: 'kindhuwelijken ,echtscheidingen ,huwelijk',\n",
       " 141: 'saudische ,arabische ,arabie',\n",
       " 142: 'scholen ,basisonderwijs ,schoolverlaten',\n",
       " 143: 'algoritmes ,algoritme ,algoritmen',\n",
       " 144: 'greco ,vluchtelingen ,griekenland',\n",
       " 145: 'vliegtuigen ,aviation ,pilots',\n",
       " 146: 'radio ,telecomsector ,telecom',\n",
       " 147: 'landbouwbeleid ,boeren ,landbouwers',\n",
       " 148: 'schoolverlaten ,schoolgebouwen ,schoolbestuur',\n",
       " 149: 'groente ,groenten ,fruit',\n",
       " 150: 'noordzeeakkoord ,zeeschepen ,zee',\n",
       " 151: 'jeugdzorgaanbod ,media ,mediadiensten',\n",
       " 152: 'casino ,kansspelen ,loterij',\n",
       " 153: 'bibliotheken ,bibliotheek ,boeken',\n",
       " 154: 'palestijnen ,palestijns ,palestijnse',\n",
       " 155: 'egyptische ,egypte ,arabische',\n",
       " 156: 'rekenonderwijs ,accountants ,accountant',\n",
       " 157: 'belgisch ,belgische ,kerncentrales',\n",
       " 158: 'marokkanen ,marokkaanse ,marokko',\n",
       " 159: 'bulgarije ,bulgaarse ,bulgaren',\n",
       " 160: 'antibiotica ,anti ,vaccinatiegraad',\n",
       " 161: 'koninkrijksre ,koninkrijk ,koningshuis',\n",
       " 162: 'azerbeidzjan ,conflict ,armenie',\n",
       " 163: 'frans ,franse ,luchtvaartnota',\n",
       " 164: 'marokkanen ,marokkaans ,marokkaanse',\n",
       " 165: 'transgenderzorg ,trans ,transpa',\n",
       " 166: 'libische ,libie ,vluchtelingen',\n",
       " 167: 'jeruzalem ,israelisch ,israelische'}"
      ]
     },
     "execution_count": 181,
     "metadata": {},
     "output_type": "execute_result"
    }
   ],
   "source": [
    "topics"
   ]
  },
  {
   "cell_type": "code",
   "execution_count": 183,
   "metadata": {},
   "outputs": [
    {
     "data": {
      "text/plain": [
       "array(['Immigratie', 'Zorg', 'Rechtsstaat', 'Gemeente', 'Overig',\n",
       "       'Financien', 'Algemene zaken', 'Kabinetsbeleid', 'Jeugd',\n",
       "       'Digitalisering', 'Landbouw & Dierenwelzijn', 'Justitie',\n",
       "       'Werk & Pensioen', 'Vervoer', 'Milieu & Klimaat', 'Energie',\n",
       "       'Onderwijs'], dtype=object)"
      ]
     },
     "execution_count": 183,
     "metadata": {},
     "output_type": "execute_result"
    }
   ],
   "source": [
    "df['Topic'].unique()"
   ]
  },
  {
   "cell_type": "markdown",
   "metadata": {},
   "source": [
    "## Optional add climate deepdive"
   ]
  },
  {
   "cell_type": "code",
   "execution_count": 170,
   "metadata": {},
   "outputs": [
    {
     "data": {
      "text/plain": [
       "[[54, 41, 161, 133, 74, 22, 5, 8, 33, 23, 11, 16, 84, 115, 122, 29, 9],\n",
       " [148, 19, 111, 152, 56, 165, 1],\n",
       " [32, 40, 129, 108, 77, 2],\n",
       " [114, 156, 0],\n",
       " [43, 159, 3],\n",
       " [49, 39, 150, 78, 15, 71, 26, 46, 57, 95, 104, 28],\n",
       " [68,\n",
       "  160,\n",
       "  92,\n",
       "  100,\n",
       "  131,\n",
       "  13,\n",
       "  136,\n",
       "  6,\n",
       "  149,\n",
       "  134,\n",
       "  117,\n",
       "  73,\n",
       "  107,\n",
       "  116,\n",
       "  62,\n",
       "  55,\n",
       "  70,\n",
       "  127,\n",
       "  44],\n",
       " [103, 125, 140, 31, 24],\n",
       " [154,\n",
       "  167,\n",
       "  81,\n",
       "  126,\n",
       "  155,\n",
       "  141,\n",
       "  101,\n",
       "  87,\n",
       "  76,\n",
       "  64,\n",
       "  106,\n",
       "  63,\n",
       "  162,\n",
       "  60,\n",
       "  99,\n",
       "  164,\n",
       "  158,\n",
       "  128,\n",
       "  144,\n",
       "  166,\n",
       "  7],\n",
       " [145, 65, 139, 163, 35, 123, 135, 52, 90, 113, 69, 98, 110, 12],\n",
       " [75, 89, 96, 132, 130, 147, 4],\n",
       " [112, 138, 20, 118, 48, 27, 88, 61, 94, 30],\n",
       " [51, 83, 79, 142, 58, 137, 21, 53, 18],\n",
       " [37, 102, 34, 66, 14],\n",
       " [67, 119, 10, 91, 72, 97, 47, 80, 42],\n",
       " [121, 25, 105, 93, 50, 59, 120, 157, 109, 38],\n",
       " [45, 143, 153, 36, 86, 151, 82, 124, 146, 85, 17]]"
      ]
     },
     "execution_count": 170,
     "metadata": {},
     "output_type": "execute_result"
    }
   ],
   "source": [
    "reduced_topics"
   ]
  },
  {
   "cell_type": "code",
   "execution_count": 184,
   "metadata": {},
   "outputs": [
    {
     "data": {
      "text/plain": [
       "[array([  0,   1,   2,   3,   4,   5,   6,   7,   8,   9,  10,  11,  12,\n",
       "         13,  14,  15,  16,  17,  18,  19,  20,  21,  22,  23,  24,  25,\n",
       "         26,  27,  28,  29,  30,  31,  32,  33,  34,  35,  36,  37,  38,\n",
       "         39,  40,  41,  42,  43,  44,  45,  46,  47,  48,  49,  50,  51,\n",
       "         52,  53,  54,  55,  56,  57,  58,  59,  60,  61,  62,  63,  64,\n",
       "         65,  66,  67,  68,  69,  70,  71,  72,  73,  74,  75,  76,  77,\n",
       "         78,  79,  80,  81,  82,  83,  84,  85,  86,  87,  88,  89,  90,\n",
       "         91,  92,  93,  94,  95,  96,  97,  98,  99, 100, 101, 102, 103,\n",
       "        104, 105, 106, 107, 108, 109, 110, 111, 112, 113, 114, 115, 116,\n",
       "        117, 118, 119, 120, 121, 122, 123, 124, 125, 126, 127, 128, 129,\n",
       "        130, 131, 132, 133, 134, 135, 136, 137, 138, 139, 140, 141, 142,\n",
       "        143, 144, 145, 146, 147, 148, 149, 150, 151, 152, 153, 154, 155,\n",
       "        156, 157, 158, 159, 160, 161, 162, 163, 164, 165, 166, 167]),\n",
       " array([  0,   1,   2,   3,   4,   5,   6,   7,   8,   9,  10,  11,  12,\n",
       "         13,  14,  15,  16,  17,  18,  19,  20,  21,  22,  23,  24,  25,\n",
       "         26,  27,  28,  29,  30,  31,  32,  33,  34,  35,  36,  37,  38,\n",
       "         39,  40,  41,  42,  43,  44,  45,  46,  47,  48,  49,  50,  51,\n",
       "         52,  53,  54,  55,  56,  57,  58,  59,  60,  61,  62,  63,  64,\n",
       "         65,  66,  67,  68,  69,  70,  71,  72,  73,  74,  75,  76,  77,\n",
       "         78,  79,  80,  81,  82,  83,  84,  85,  86,  87,  88,  89,  90,\n",
       "         91,  92,  93,  94,  95,  96,  97,  98,  99, 100, 101, 102, 103,\n",
       "        104, 105, 106, 107, 108, 109, 110, 111, 112, 113, 114, 115, 116,\n",
       "        117, 118, 119, 120, 121, 122, 123, 124, 125, 126, 127, 128, 129,\n",
       "        130, 131, 132, 133, 134, 135, 136, 137, 138, 139, 140, 141, 142,\n",
       "        143, 144, 145, 146, 147, 148, 149, 150, 151, 152, 153, 154, 155,\n",
       "        156, 157, 158, 159, 160, 161, 162, 163, 164, 165, 166, 167]),\n",
       " array([  0,   1,   2,   3,   4,   5,   6,   7,   8,   9,  10,  11,  12,\n",
       "         13,  14,  15,  16,  17,  18,  19,  20,  21,  22,  23,  24,  25,\n",
       "         26,  27,  28,  29,  30,  31,  32,  33,  34,  35,  36,  37,  38,\n",
       "         39,  40,  41,  42,  43,  44,  45,  46,  47,  48,  49,  50,  51,\n",
       "         52,  53,  54,  55,  56,  57,  58,  59,  60,  61,  62,  63,  64,\n",
       "         65,  66,  67,  68,  69,  70,  71,  72,  73,  74,  75,  76,  77,\n",
       "         78,  79,  80,  81,  82,  83,  84,  85,  86,  87,  88,  89,  90,\n",
       "         91,  92,  93,  94,  95,  96,  97,  98,  99, 100, 101, 102, 103,\n",
       "        104, 105, 106, 107, 108, 109, 110, 111, 112, 113, 114, 115, 116,\n",
       "        117, 118, 119, 120, 121, 122, 123, 124, 125, 126, 127, 128, 129,\n",
       "        130, 131, 132, 133, 134, 135, 136, 137, 138, 139, 140, 141, 142,\n",
       "        143, 144, 145, 146, 147, 148, 149, 150, 151, 152, 153, 154, 155,\n",
       "        156, 157, 158, 159, 160, 161, 162, 163, 164, 165, 166, 167]),\n",
       " array([  0,   1,   2,   3,   4,   5,   6,   7,   8,   9,  10,  11,  12,\n",
       "         13,  14,  15,  16,  17,  18,  19,  20,  21,  22,  23,  24,  25,\n",
       "         26,  27,  28,  29,  30,  31,  32,  33,  34,  35,  36,  37,  38,\n",
       "         39,  40,  41,  42,  43,  44,  45,  46,  47,  48,  49,  50,  51,\n",
       "         52,  53,  54,  55,  56,  57,  58,  59,  60,  61,  62,  63,  64,\n",
       "         65,  66,  67,  68,  69,  70,  71,  72,  73,  74,  75,  76,  77,\n",
       "         78,  79,  80,  81,  82,  83,  84,  85,  86,  87,  88,  89,  90,\n",
       "         91,  92,  93,  94,  95,  96,  97,  98,  99, 100, 101, 102, 103,\n",
       "        104, 105, 106, 107, 108, 109, 110, 111, 112, 113, 114, 115, 116,\n",
       "        117, 118, 119, 120, 121, 122, 123, 124, 125, 126, 127, 128, 129,\n",
       "        130, 131, 132, 133, 134, 135, 136, 137, 138, 139, 140, 141, 142,\n",
       "        143, 144, 145, 146, 147, 148, 149, 150, 151, 152, 153, 154, 155,\n",
       "        156, 157, 158, 159, 160, 161, 162, 163, 164, 165, 166, 167]),\n",
       " array([  0,   1,   2,   3,   4,   5,   6,   7,   8,   9,  10,  11,  12,\n",
       "         13,  14,  15,  16,  17,  18,  19,  20,  21,  22,  23,  24,  25,\n",
       "         26,  27,  28,  29,  30,  31,  32,  33,  34,  35,  36,  37,  38,\n",
       "         39,  40,  41,  42,  43,  44,  45,  46,  47,  48,  49,  50,  51,\n",
       "         52,  53,  54,  55,  56,  57,  58,  59,  60,  61,  62,  63,  64,\n",
       "         65,  66,  67,  68,  69,  70,  71,  72,  73,  74,  75,  76,  77,\n",
       "         78,  79,  80,  81,  82,  83,  84,  85,  86,  87,  88,  89,  90,\n",
       "         91,  92,  93,  94,  95,  96,  97,  98,  99, 100, 101, 102, 103,\n",
       "        104, 105, 106, 107, 108, 109, 110, 111, 112, 113, 114, 115, 116,\n",
       "        117, 118, 119, 120, 121, 122, 123, 124, 125, 126, 127, 128, 129,\n",
       "        130, 131, 132, 133, 134, 135, 136, 137, 138, 139, 140, 141, 142,\n",
       "        143, 144, 145, 146, 147, 148, 149, 150, 151, 152, 153, 154, 155,\n",
       "        156, 157, 158, 159, 160, 161, 162, 163, 164, 165, 166, 167]),\n",
       " array([  0,   1,   2,   3,   4,   5,   6,   7,   8,   9,  10,  11,  12,\n",
       "         13,  14,  15,  16,  17,  18,  19,  20,  21,  22,  23,  24,  25,\n",
       "         26,  27,  28,  29,  30,  31,  32,  33,  34,  35,  36,  37,  38,\n",
       "         39,  40,  41,  42,  43,  44,  45,  46,  47,  48,  49,  50,  51,\n",
       "         52,  53,  54,  55,  56,  57,  58,  59,  60,  61,  62,  63,  64,\n",
       "         65,  66,  67,  68,  69,  70,  71,  72,  73,  74,  75,  76,  77,\n",
       "         78,  79,  80,  81,  82,  83,  84,  85,  86,  87,  88,  89,  90,\n",
       "         91,  92,  93,  94,  95,  96,  97,  98,  99, 100, 101, 102, 103,\n",
       "        104, 105, 106, 107, 108, 109, 110, 111, 112, 113, 114, 115, 116,\n",
       "        117, 118, 119, 120, 121, 122, 123, 124, 125, 126, 127, 128, 129,\n",
       "        130, 131, 132, 133, 134, 135, 136, 137, 138, 139, 140, 141, 142,\n",
       "        143, 144, 145, 146, 147, 148, 149, 150, 151, 152, 153, 154, 155,\n",
       "        156, 157, 158, 159, 160, 161, 162, 163, 164, 165, 166, 167]),\n",
       " array([  0,   1,   2,   3,   4,   5,   6,   7,   8,   9,  10,  11,  12,\n",
       "         13,  14,  15,  16,  17,  18,  19,  20,  21,  22,  23,  24,  25,\n",
       "         26,  27,  28,  29,  30,  31,  32,  33,  34,  35,  36,  37,  38,\n",
       "         39,  40,  41,  42,  43,  44,  45,  46,  47,  48,  49,  50,  51,\n",
       "         52,  53,  54,  55,  56,  57,  58,  59,  60,  61,  62,  63,  64,\n",
       "         65,  66,  67,  68,  69,  70,  71,  72,  73,  74,  75,  76,  77,\n",
       "         78,  79,  80,  81,  82,  83,  84,  85,  86,  87,  88,  89,  90,\n",
       "         91,  92,  93,  94,  95,  96,  97,  98,  99, 100, 101, 102, 103,\n",
       "        104, 105, 106, 107, 108, 109, 110, 111, 112, 113, 114, 115, 116,\n",
       "        117, 118, 119, 120, 121, 122, 123, 124, 125, 126, 127, 128, 129,\n",
       "        130, 131, 132, 133, 134, 135, 136, 137, 138, 139, 140, 141, 142,\n",
       "        143, 144, 145, 146, 147, 148, 149, 150, 151, 152, 153, 154, 155,\n",
       "        156, 157, 158, 159, 160, 161, 162, 163, 164, 165, 166, 167]),\n",
       " array([  0,   1,   2,   3,   4,   5,   6,   7,   8,   9,  10,  11,  12,\n",
       "         13,  14,  15,  16,  17,  18,  19,  20,  21,  22,  23,  24,  25,\n",
       "         26,  27,  28,  29,  30,  31,  32,  33,  34,  35,  36,  37,  38,\n",
       "         39,  40,  41,  42,  43,  44,  45,  46,  47,  48,  49,  50,  51,\n",
       "         52,  53,  54,  55,  56,  57,  58,  59,  60,  61,  62,  63,  64,\n",
       "         65,  66,  67,  68,  69,  70,  71,  72,  73,  74,  75,  76,  77,\n",
       "         78,  79,  80,  81,  82,  83,  84,  85,  86,  87,  88,  89,  90,\n",
       "         91,  92,  93,  94,  95,  96,  97,  98,  99, 100, 101, 102, 103,\n",
       "        104, 105, 106, 107, 108, 109, 110, 111, 112, 113, 114, 115, 116,\n",
       "        117, 118, 119, 120, 121, 122, 123, 124, 125, 126, 127, 128, 129,\n",
       "        130, 131, 132, 133, 134, 135, 136, 137, 138, 139, 140, 141, 142,\n",
       "        143, 144, 145, 146, 147, 148, 149, 150, 151, 152, 153, 154, 155,\n",
       "        156, 157, 158, 159, 160, 161, 162, 163, 164, 165, 166, 167]),\n",
       " array([  0,   1,   2,   3,   4,   5,   6,   7,   8,   9,  10,  11,  12,\n",
       "         13,  14,  15,  16,  17,  18,  19,  20,  21,  22,  23,  24,  25,\n",
       "         26,  27,  28,  29,  30,  31,  32,  33,  34,  35,  36,  37,  38,\n",
       "         39,  40,  41,  42,  43,  44,  45,  46,  47,  48,  49,  50,  51,\n",
       "         52,  53,  54,  55,  56,  57,  58,  59,  60,  61,  62,  63,  64,\n",
       "         65,  66,  67,  68,  69,  70,  71,  72,  73,  74,  75,  76,  77,\n",
       "         78,  79,  80,  81,  82,  83,  84,  85,  86,  87,  88,  89,  90,\n",
       "         91,  92,  93,  94,  95,  96,  97,  98,  99, 100, 101, 102, 103,\n",
       "        104, 105, 106, 107, 108, 109, 110, 111, 112, 113, 114, 115, 116,\n",
       "        117, 118, 119, 120, 121, 122, 123, 124, 125, 126, 127, 128, 129,\n",
       "        130, 131, 132, 133, 134, 135, 136, 137, 138, 139, 140, 141, 142,\n",
       "        143, 144, 145, 146, 147, 148, 149, 150, 151, 152, 153, 154, 155,\n",
       "        156, 157, 158, 159, 160, 161, 162, 163, 164, 165, 166, 167]),\n",
       " array([  0,   1,   2,   3,   4,   5,   6,   7,   8,   9,  10,  11,  12,\n",
       "         13,  14,  15,  16,  17,  18,  19,  20,  21,  22,  23,  24,  25,\n",
       "         26,  27,  28,  29,  30,  31,  32,  33,  34,  35,  36,  37,  38,\n",
       "         39,  40,  41,  42,  43,  44,  45,  46,  47,  48,  49,  50,  51,\n",
       "         52,  53,  54,  55,  56,  57,  58,  59,  60,  61,  62,  63,  64,\n",
       "         65,  66,  67,  68,  69,  70,  71,  72,  73,  74,  75,  76,  77,\n",
       "         78,  79,  80,  81,  82,  83,  84,  85,  86,  87,  88,  89,  90,\n",
       "         91,  92,  93,  94,  95,  96,  97,  98,  99, 100, 101, 102, 103,\n",
       "        104, 105, 106, 107, 108, 109, 110, 111, 112, 113, 114, 115, 116,\n",
       "        117, 118, 119, 120, 121, 122, 123, 124, 125, 126, 127, 128, 129,\n",
       "        130, 131, 132, 133, 134, 135, 136, 137, 138, 139, 140, 141, 142,\n",
       "        143, 144, 145, 146, 147, 148, 149, 150, 151, 152, 153, 154, 155,\n",
       "        156, 157, 158, 159, 160, 161, 162, 163, 164, 165, 166, 167]),\n",
       " array([  0,   1,   2,   3,   4,   5,   6,   7,   8,   9,  10,  11,  12,\n",
       "         13,  14,  15,  16,  17,  18,  19,  20,  21,  22,  23,  24,  25,\n",
       "         26,  27,  28,  29,  30,  31,  32,  33,  34,  35,  36,  37,  38,\n",
       "         39,  40,  41,  42,  43,  44,  45,  46,  47,  48,  49,  50,  51,\n",
       "         52,  53,  54,  55,  56,  57,  58,  59,  60,  61,  62,  63,  64,\n",
       "         65,  66,  67,  68,  69,  70,  71,  72,  73,  74,  75,  76,  77,\n",
       "         78,  79,  80,  81,  82,  83,  84,  85,  86,  87,  88,  89,  90,\n",
       "         91,  92,  93,  94,  95,  96,  97,  98,  99, 100, 101, 102, 103,\n",
       "        104, 105, 106, 107, 108, 109, 110, 111, 112, 113, 114, 115, 116,\n",
       "        117, 118, 119, 120, 121, 122, 123, 124, 125, 126, 127, 128, 129,\n",
       "        130, 131, 132, 133, 134, 135, 136, 137, 138, 139, 140, 141, 142,\n",
       "        143, 144, 145, 146, 147, 148, 149, 150, 151, 152, 153, 154, 155,\n",
       "        156, 157, 158, 159, 160, 161, 162, 163, 164, 165, 166, 167]),\n",
       " array([  0,   1,   2,   3,   4,   5,   6,   7,   8,   9,  10,  11,  12,\n",
       "         13,  14,  15,  16,  17,  18,  19,  20,  21,  22,  23,  24,  25,\n",
       "         26,  27,  28,  29,  30,  31,  32,  33,  34,  35,  36,  37,  38,\n",
       "         39,  40,  41,  42,  43,  44,  45,  46,  47,  48,  49,  50,  51,\n",
       "         52,  53,  54,  55,  56,  57,  58,  59,  60,  61,  62,  63,  64,\n",
       "         65,  66,  67,  68,  69,  70,  71,  72,  73,  74,  75,  76,  77,\n",
       "         78,  79,  80,  81,  82,  83,  84,  85,  86,  87,  88,  89,  90,\n",
       "         91,  92,  93,  94,  95,  96,  97,  98,  99, 100, 101, 102, 103,\n",
       "        104, 105, 106, 107, 108, 109, 110, 111, 112, 113, 114, 115, 116,\n",
       "        117, 118, 119, 120, 121, 122, 123, 124, 125, 126, 127, 128, 129,\n",
       "        130, 131, 132, 133, 134, 135, 136, 137, 138, 139, 140, 141, 142,\n",
       "        143, 144, 145, 146, 147, 148, 149, 150, 151, 152, 153, 154, 155,\n",
       "        156, 157, 158, 159, 160, 161, 162, 163, 164, 165, 166, 167])]"
      ]
     },
     "execution_count": 184,
     "metadata": {},
     "output_type": "execute_result"
    }
   ],
   "source": [
    "topic_sizes, topic_nums = model.get_topic_sizes(reduced=False)\n",
    "topic_words, word_scores, topic_nums = model.get_topics(reduced=False)\n",
    "climate_idx = [topic_nums for t in topic_nums if t in reduced_topics[5]]\n",
    "climate_idx\n"
   ]
  },
  {
   "cell_type": "code",
   "execution_count": 185,
   "metadata": {},
   "outputs": [],
   "source": [
    "topic_sizes, topic_nums = model.get_topic_sizes(reduced=False)\n",
    "topic_words, word_scores, topic_nums = model.get_topics(reduced=False)\n",
    "climate_idx = [topic_nums for t in topic_nums if t in reduced_topics[10]]\n",
    "climate_subtopics = {128: 'Afhankelijkheid fossiele brandstoffen',\n",
    " 165: 'CO2 reductie',\n",
    " 5: 'Voldoen aan Parijs',\n",
    " 141: 'Electriciteit',\n",
    " 126: 'Groningen',\n",
    " 205: 'Zonnepanelen',\n",
    " 96: 'Energierekening betalen',\n",
    " 236: 'Biomassa',\n",
    " 105: 'Kolencentrales',\n",
    " 239: 'Windturbines - overlast',\n",
    " 29: 'Windturbines - subsidie'}"
   ]
  },
  {
   "cell_type": "code",
   "execution_count": 186,
   "metadata": {},
   "outputs": [],
   "source": [
    "df['Klimaat'] = df.loc[df['Topic']=='Klimaat & energie', 'Topic_initial'].map(climate_subtopics)"
   ]
  },
  {
   "cell_type": "code",
   "execution_count": 187,
   "metadata": {},
   "outputs": [],
   "source": [
    "save(df, 'df_including_topics_full.pickle')\n",
    "save(model, 'doc2vec_deep_bigram_enhanced_stopwords_rutteIV_reduced')"
   ]
  },
  {
   "cell_type": "markdown",
   "metadata": {},
   "source": [
    "# Prepare slimmed down versions for production"
   ]
  },
  {
   "cell_type": "code",
   "execution_count": 157,
   "metadata": {},
   "outputs": [
    {
     "name": "stdout",
     "output_type": "stream",
     "text": [
      "39244\n",
      "9007\n"
     ]
    }
   ],
   "source": [
    "df = load(\"df_including_topics_full.pickle\")\n",
    "# df, documents = get_df(only_last_kamer)\n",
    "# df['BesluitTekst'] = df['BesluitTekst'].str.replace('.','')\n",
    "\n",
    "print(len(df))\n",
    "\n",
    "if only_last_kamer:\n",
    "    model = Top2Vec.load(\"data/doc2vec_deep_bigram_enhanced_stopwords_last_kamer\")\n",
    "else:\n",
    "    model = Top2Vec.load(\"data/doc2vec_deep_bigram_enhanced_stopwords_all\")\n",
    "    \n",
    "doc_ids = list(range(len(df)))\n",
    "# don't sort the df before this operation\n",
    "topic_nums, topic_score, topic_words, word_scores = model.get_documents_topics(doc_ids,reduced=False)\n",
    "topics = [', '.join(topic_words[i][:3]) for i in range(len(topic_words))]\n",
    "\n",
    "df['Topic_initial'] = topics\n",
    "df['Topic_score'] = topic_score\n",
    "df.sort_values(['Topic_initial', 'Topic_score'], ascending=False, inplace=True)\n",
    "# important do this only after all row filters have been set\n",
    "df = df[df['Kamer']== last_kamer]\n",
    "df.index = df['Index']\n",
    "print(len(df))\n",
    "stem_column = [c for c in df.columns if 'Stem_' in c and c != 'Stem_persoon']\n",
    "required_cols = ['Kamer', 'Jaar','Indienende_partij', 'BesluitSoort','BesluitTekst','Topic_initial', 'Topic_score','Indienende_persoon_partij','Partijen_Voor', 'Partijen_Tegen', 'Text']\n",
    "\n",
    "# streamlit has problems with category type: \n",
    "# https://github.com/streamlit/streamlit/issues/47\n",
    "for col in stem_column + required_cols[:-4]:\n",
    "    df[col] = df[col].astype('category')\n",
    "\n",
    "df = df[stem_column + required_cols]\n",
    "save(df, \"df_production.pickle\")\n"
   ]
  },
  {
   "cell_type": "code",
   "execution_count": 158,
   "metadata": {},
   "outputs": [],
   "source": [
    "def delete_documents(self, doc_ids):\n",
    "    \"\"\"\n",
    "    Delete documents from current model.\n",
    "    Warning: If document ids were not used in original model, deleting\n",
    "    documents will change the indexes and therefore doc_ids.\n",
    "    The documents will be deleted from the current model without changing\n",
    "    existing document, word and topic vectors. Topic sizes will be updated.\n",
    "    If deleting a large quantity of documents relative to the current model\n",
    "    size a new model should be trained for best results.\n",
    "    Parameters\n",
    "    ----------\n",
    "    doc_ids: List of str, int\n",
    "        A unique value per document that is used for referring to documents\n",
    "        in search results.\n",
    "    \"\"\"\n",
    "    # make sure documents exist\n",
    "    self._validate_doc_ids(doc_ids, doc_ids_neg=[])\n",
    "\n",
    "    # update index\n",
    "    if self.documents_indexed:\n",
    "        # delete doc_ids from index\n",
    "        index_ids = [self.doc_id2index_id(doc_id) for doc_id in doc_ids]\n",
    "        for index_id in index_ids:\n",
    "            self.document_index.mark_deleted(index_id)\n",
    "        # update index_id and doc_ids\n",
    "        for doc_id in doc_ids:\n",
    "            self.doc_id2index_id.pop(doc_id)\n",
    "        for index_id in index_ids:\n",
    "            self.index_id2doc_id.pop(index_id)\n",
    "\n",
    "    # get document indexes from ids\n",
    "    doc_indexes = self._get_document_indexes(doc_ids)\n",
    "\n",
    "    # delete documents\n",
    "    if self.documents is not None:\n",
    "        self.documents = np.delete(self.documents, doc_indexes, 0)\n",
    "\n",
    "    # delete document ids\n",
    "    if self.document_ids is not None:\n",
    "        for doc_id in doc_ids:\n",
    "            self.doc_id2index.pop(doc_id)\n",
    "        keys = list(self.doc_id2index.keys())\n",
    "        self.document_ids = np.array(keys)\n",
    "        values = list(range(0, len(self.doc_id2index.values())))\n",
    "        self.doc_id2index = dict(zip(keys, values))\n",
    "\n",
    "    # delete document vectors\n",
    "    self._set_document_vectors(np.delete(self._get_document_vectors(norm=False), doc_indexes, 0))\n",
    "\n",
    "    if self.embedding_model == 'doc2vec':\n",
    "        num_docs = len(doc_indexes)\n",
    "        self.model.docvecs.count -= num_docs\n",
    "        self.model.docvecs.max_rawint -= num_docs\n",
    "        self.model.docvecs.vectors_docs_norm = None\n",
    "        self.model.docvecs.init_sims()\n",
    "\n",
    "    # update topics\n",
    "    # self._unassign_documents_from_topic(doc_indexes, hierarchy=False)\n",
    "\n",
    "    if self.hierarchy is not None:\n",
    "        self._unassign_documents_from_topic(doc_indexes, hierarchy=True)\n",
    "model = Top2Vec.load(\"data/doc2vec_deep_bigram_enhanced_stopwords_rutteIV_reduced\")\n",
    "\n",
    "# model.delete_documents = delete_documents\n",
    "df = load(\"df_including_topics_full.pickle\")\n"
   ]
  },
  {
   "cell_type": "code",
   "execution_count": 159,
   "metadata": {},
   "outputs": [
    {
     "name": "stdout",
     "output_type": "stream",
     "text": [
      "168 topics. In total there are 39244 documents. These are the amount of documents per topic:\n",
      "[1956 1878 1540 1518  870  726  691  675  674  649  640  599  587  550\n",
      "  533  521  520  502  501  477  470  440  440  437  432  427  401  382\n",
      "  380  375  372  367  346  340  329  318  310  303  298  287  284  282\n",
      "  281  278  277  264  262  262  248  247  247  243  243  242  236  234\n",
      "  227  226  218  217  217  209  198  188  187  182  180  177  173  163\n",
      "  161  159  158  155  154  150  142  138  138  138  137  136  136  134\n",
      "  131  128  124  121  119  119  118  114  114  111  108  107  105  105\n",
      "  101  100  100  100   98   98   97   96   94   94   93   91   90   89\n",
      "   88   86   84   81   80   79   78   78   77   73   73   73   73   71\n",
      "   71   71   70   69   69   67   67   65   63   61   61   60   60   59\n",
      "   57   56   56   55   55   53   53   53   52   52   50   50   50   49\n",
      "   49   48   48   45   45   38   38   38   38   36   33   31   29   26]\n",
      "0 ['rechtsstaat' 'agro' 'mededingingswet'] 1956\n",
      "1 ['bouwkosten' 'gemeentelijk' 'woningbouw'] 1878\n",
      "2 ['ziekenhuizen' 'verpleeghuizen' 'ziekenhuiszorg'] 1540\n",
      "3 ['minimumloon' 'pensioenstelsel' 'pensioenopbouw'] 1518\n",
      "4 ['onderwijsniveau' 'onderwijsaanbod' 'onderwijsgeld'] 870\n",
      "5 ['kredietcrisis' 'economisch' 'economen'] 726\n",
      "6 ['milieubeheer' 'milieuwetgeving' 'milieuregels'] 691\n",
      "7 ['immigratie' 'migranten' 'vluchtelingen'] 675\n",
      "8 ['ministerraad' 'minister' 'ministeriele'] 674\n",
      "9 ['landbouwsector' 'landbouwbeleid' 'landbouwakkoord'] 649\n",
      "10 ['politiesterkte' 'politieverhoor' 'politiewerk'] 640\n",
      "11 ['treinverkeer' 'spoorvervoer' 'treinverbinding'] 599\n",
      "12 ['amnesty' 'referendum' 'overbelasting'] 587\n",
      "13 ['jeugdzorgaanbod' 'jeugdzorg' 'jeugdhulp'] 550\n",
      "14 ['energiekosten' 'energieprijzen' 'energiebeleid'] 533\n",
      "39244\n"
     ]
    }
   ],
   "source": [
    "topic_sizes, topic_nums = model.get_topic_sizes()\n",
    "print(f'{len(topic_nums)} topics. In total there are {sum(topic_sizes)} documents. These are the amount of documents per topic:\\n{topic_sizes}')\n",
    "\n",
    "topic_words, word_scores, topic_nums = model.get_topics(reduced=True)\n",
    "    \n",
    "for num, size, word in zip(topic_nums, topic_sizes, topic_words):\n",
    "    print(num, word[:3], size)\n",
    "print(sum(topic_sizes))"
   ]
  },
  {
   "cell_type": "code",
   "execution_count": 160,
   "metadata": {},
   "outputs": [],
   "source": [
    "model.delete_documents(list(range(len(df))))\n",
    "model.delete_documents = 1\n",
    "model.save(\"data/doc2vec_production\")"
   ]
  },
  {
   "cell_type": "markdown",
   "metadata": {},
   "source": [
    "## Check app"
   ]
  },
  {
   "cell_type": "code",
   "execution_count": 30,
   "metadata": {},
   "outputs": [
    {
     "data": {
      "text/plain": [
       "array([ 9, 11, 12,  8], dtype=int64)"
      ]
     },
     "execution_count": 30,
     "metadata": {},
     "output_type": "execute_result"
    }
   ],
   "source": [
    "df = load(\"df_production.pickle\")\n",
    "model = Top2Vec.load(\"data/doc2vec_production\")\n",
    "topic_words, word_scores, topic_scores, topic_nums = model.search_topics(keywords= ['politie'] , num_topics=4, reduced=True)\n",
    "topic_nums"
   ]
  },
  {
   "cell_type": "code",
   "execution_count": 31,
   "metadata": {},
   "outputs": [
    {
     "name": "stdout",
     "output_type": "stream",
     "text": [
      "170 topics. In total there are 0 documents. These are the amount of documents per topic:\n",
      "[0 0 0 0 0 0 0 0 0 0 0 0 0 0 0 0 0 0 0 0 0 0 0 0 0 0 0 0 0 0 0 0 0 0 0 0 0\n",
      " 0 0 0 0 0 0 0 0 0 0 0 0 0 0 0 0 0 0 0 0 0 0 0 0 0 0 0 0 0 0 0 0 0 0 0 0 0\n",
      " 0 0 0 0 0 0 0 0 0 0 0 0 0 0 0 0 0 0 0 0 0 0 0 0 0 0 0 0 0 0 0 0 0 0 0 0 0\n",
      " 0 0 0 0 0 0 0 0 0 0 0 0 0 0 0 0 0 0 0 0 0 0 0 0 0 0 0 0 0 0 0 0 0 0 0 0 0\n",
      " 0 0 0 0 0 0 0 0 0 0 0 0 0 0 0 0 0 0 0 0 0 0]\n"
     ]
    }
   ],
   "source": [
    "topic_sizes, topic_nums = model.get_topic_sizes()\n",
    "print(f'{len(topic_nums)} topics. In total there are {sum(topic_sizes)} documents. These are the amount of documents per topic:\\n{topic_sizes}')"
   ]
  },
  {
   "cell_type": "code",
   "execution_count": 315,
   "metadata": {},
   "outputs": [
    {
     "data": {
      "text/plain": [
       "array([44, 23, 13, 15], dtype=int64)"
      ]
     },
     "execution_count": 315,
     "metadata": {},
     "output_type": "execute_result"
    }
   ],
   "source": [
    "topic_words, word_scores, topic_scores, topic_nums = model.search_topics(keywords= ['politie'] , num_topics=4, reduced=True)\n",
    "topic_nums"
   ]
  },
  {
   "cell_type": "code",
   "execution_count": 122,
   "metadata": {},
   "outputs": [],
   "source": [
    "topic_words, word_scores, topic_nums = model.get_topics(num_topics=47)\n"
   ]
  },
  {
   "cell_type": "code",
   "execution_count": 125,
   "metadata": {},
   "outputs": [
    {
     "data": {
      "text/plain": [
       "array(['politieagenten', 'politietop', 'politiemensen', 'politiewet',\n",
       "       'politieacademie', 'polisaanbod', 'politie', 'polissen', 'cop',\n",
       "       'zedenpolitie', 'overheidsbeleid', 'regeringsbeleid',\n",
       "       'kabinetsbeleid', 'georganiseerde_criminaliteit',\n",
       "       'openbaar_ministerie', 'asielbeleid', 'nationale_veiligheid',\n",
       "       'bureaucratische', 'autoriteiten', 'landenbeleid', 'beleidskader',\n",
       "       'rijksbeleid', 'bureaucratie', 'beleidsopties',\n",
       "       'ministeriele_regeling', 'politici', 'loonbeleid', 'beleidsinzet',\n",
       "       'administratieve_lasten', 'sanctiebeleid', 'decentrale_overheden',\n",
       "       'politieke_partijen', 'politiek', 'politieke', 'beleids',\n",
       "       'agenten', 'beleid', 'beleidskeuze', 'industriebeleid',\n",
       "       'beleidskeuzes', 'preventiebeleid', 'beleidsnota', 'agentschap',\n",
       "       'beleidsregels', 'bestuursorganen', 'beleidsmatige',\n",
       "       'beleidsvrijheid', 'openbare_orde', 'nederlandse_zorgautoriteit',\n",
       "       'beleidslijn'], dtype='<U28')"
      ]
     },
     "execution_count": 125,
     "metadata": {},
     "output_type": "execute_result"
    }
   ],
   "source": [
    "topic_words[45]"
   ]
  },
  {
   "cell_type": "code",
   "execution_count": 141,
   "metadata": {},
   "outputs": [
    {
     "data": {
      "text/plain": [
       "6017"
      ]
     },
     "execution_count": 141,
     "metadata": {},
     "output_type": "execute_result"
    }
   ],
   "source": [
    "df = load(\"df_production.pickle\")\n",
    "len(df)"
   ]
  },
  {
   "cell_type": "code",
   "execution_count": 144,
   "metadata": {},
   "outputs": [
    {
     "data": {
      "text/plain": [
       "'2\\nTweede Kamer der Staten-Generaal\\nVergaderjaar 2021–2022\\n32 813 Kabinetsaanpak Klimaatbeleid\\nNr. 1013 MOTIE VAN DE LEDEN BONTENBAL EN GRINWIS\\nVoorgesteld 19 april 2022\\nDe Kamer,\\ngehoord de beraadslaging,\\noverwegende dat de verduurzaming van de gebouwde omgeving de\\nkomende jaren vooral gefocust moet zijn op het verduurzamen van de\\nwarmtevoorziening in de gebouwde omgeving, resulterend in een\\nreductie van het aardgasverbruik;\\nverzoekt de regering om in het beleid voor de verduurzaming van de\\ngebouwde omgeving ook een subdoelstelling voor aardgasreductie op te\\nnemen,\\nen gaat over tot de orde van de dag.\\nBontenbal\\nGrinwis\\nkst-32813-1013ISSN\\n0921 - 7371\\n’s-Gravenhage 2022 Tweede Kamer, vergaderjaar 2021–2022, 32 813, nr. 1013'"
      ]
     },
     "execution_count": 144,
     "metadata": {},
     "output_type": "execute_result"
    }
   ],
   "source": [
    "df[(df['Topic_initial']=='verduurzamen') & (df['Kamer']== last_kamer)]['Text'].iloc[0]"
   ]
  },
  {
   "cell_type": "code",
   "execution_count": null,
   "metadata": {},
   "outputs": [
    {
     "name": "stdout",
     "output_type": "stream",
     "text": [
      "6017\n"
     ]
    },
    {
     "data": {
      "text/plain": [
       "Aangenomen    3296\n",
       "Verworpen     2721\n",
       "Name: BesluitTekst, dtype: int64"
      ]
     },
     "execution_count": 17,
     "metadata": {},
     "output_type": "execute_result"
    }
   ],
   "source": [
    "df = load(\"df_including_topics_full.pickle\")\n",
    "print(len(df))\n",
    "df['BesluitTekst'].value_counts()"
   ]
  },
  {
   "cell_type": "markdown",
   "metadata": {},
   "source": []
  }
 ],
 "metadata": {
  "kernelspec": {
   "display_name": "Python 3.7.3 64-bit (conda)",
   "metadata": {
    "interpreter": {
     "hash": "ecf5722fdaf1897a315d257d89d94520bfcaa453217d5becf09b39e73618b0de"
    }
   },
   "name": "python3"
  },
  "language_info": {
   "codemirror_mode": {
    "name": "ipython",
    "version": 3
   },
   "file_extension": ".py",
   "mimetype": "text/x-python",
   "name": "python",
   "nbconvert_exporter": "python",
   "pygments_lexer": "ipython3",
   "version": "3.11.0"
  }
 },
 "nbformat": 4,
 "nbformat_minor": 4
}
