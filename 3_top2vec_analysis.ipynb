{
 "cells": [
  {
   "cell_type": "code",
   "execution_count": 1,
   "metadata": {},
   "outputs": [],
   "source": [
    "from pathlib import Path\n",
    "from top2vec import Top2Vec\n",
    "import pickle\n",
    "import numpy as np\n",
    "\n",
    "from gensim.models import Phrases\n",
    "from gensim.models.phrases import Phraser\n",
    "from gensim.utils import simple_preprocess\n",
    "from gensim.parsing.preprocessing import strip_tags"
   ]
  },
  {
   "cell_type": "code",
   "execution_count": 2,
   "metadata": {},
   "outputs": [],
   "source": [
    "DATA_DIR = Path('./data')\n",
    "def load(filename):\n",
    "    f = open(DATA_DIR/filename,\"rb\")\n",
    "    return pickle.load(f)\n",
    "    \n",
    "def save(data, filename):\n",
    "    with open(DATA_DIR/filename, 'wb') as handle:\n",
    "        pickle.dump(data, handle, protocol=pickle.HIGHEST_PROTOCOL)"
   ]
  },
  {
   "cell_type": "code",
   "execution_count": 3,
   "metadata": {},
   "outputs": [
    {
     "output_type": "stream",
     "name": "stdout",
     "text": [
      "before removal empty texts 29514\nafter removal empty texts 29484\n"
     ]
    }
   ],
   "source": [
    "\n",
    "file = open(\"moties_processed_df.pickle\",\"rb\")\n",
    "df = pickle.load(file)\n",
    "print('before removal empty texts',len(df))\n",
    "\n",
    "# remove moties without text\n",
    "mask = (df['Text']=='') | (df['Text'].isna())\n",
    "df = df.loc[~mask]\n",
    "print('after removal empty texts',len(df))\n",
    "\n",
    "documents = df['Text'].values"
   ]
  },
  {
   "cell_type": "code",
   "execution_count": 18,
   "metadata": {},
   "outputs": [],
   "source": [
    "# got the code for making the bigram part from https://lppier.github.io/\n",
    "sentence_stream = [simple_preprocess(strip_tags(doc), deacc=True) for doc in documents]\n",
    "bigram = Phrases(sentence_stream, min_count=10)\n",
    "bigram_phraser = Phraser(bigram)\n",
    "\n",
    "indieners = {indiener[-1].lower() for indiener in df['Indiener_persoon'].str.split() if indiener}\n",
    "years = {word for doc in sentence_stream for word in doc if word.startswith('x') and not word.startswith('xin')}\n",
    "manual_stopwords = {'faber', 'lacin', 'kroger', 'iv', 'beschikt', 'die', 'vaststelling', 'lid','vi', 'viii', 'iii', 'iv', 'ii', 'i'}\n",
    "stopwords = indieners | years | manual_stopwords\n",
    "   \n",
    "def bigram_stopword_preprocess(doc):\n",
    "    sentence_stream = simple_preprocess(strip_tags(doc), deacc=True)\n",
    "    sentence_stream = [word for word in sentence_stream if word not in stopwords]\n",
    "    return bigram_phraser[sentence_stream]"
   ]
  },
  {
   "cell_type": "code",
   "execution_count": 19,
   "metadata": {},
   "outputs": [
    {
     "output_type": "stream",
     "name": "stderr",
     "text": [
      "2021-03-03 12:21:44,496 - top2vec - INFO - Pre-processing documents for training\n",
      "2021-03-03 12:23:30,780 - top2vec - INFO - Creating joint document/word embedding\n",
      "2021-03-03 13:16:48,205 - top2vec - INFO - Creating lower dimension embedding of documents\n",
      "2021-03-03 13:18:06,879 - top2vec - INFO - Finding dense areas of documents\n",
      "2021-03-03 13:18:13,374 - top2vec - INFO - Finding topics\n"
     ]
    },
    {
     "output_type": "execute_result",
     "data": {
      "text/plain": [
       "247"
      ]
     },
     "metadata": {},
     "execution_count": 19
    }
   ],
   "source": [
    "model = Top2Vec(documents, speed='deep-learn', tokenizer=bigram_stopword_preprocess, workers=4)\n",
    "model.get_num_topics()"
   ]
  },
  {
   "cell_type": "code",
   "execution_count": 20,
   "metadata": {},
   "outputs": [],
   "source": [
    "# model.save(\"data/doc2vec_deep_bigram_enhanced_stopwords\")"
   ]
  },
  {
   "cell_type": "code",
   "execution_count": 4,
   "metadata": {},
   "outputs": [
    {
     "output_type": "execute_result",
     "data": {
      "text/plain": [
       "247"
      ]
     },
     "metadata": {},
     "execution_count": 4
    }
   ],
   "source": [
    "model = Top2Vec.load(\"data/doc2vec_deep_bigram_enhanced_stopwords\")\n",
    "model.get_num_topics()"
   ]
  },
  {
   "cell_type": "code",
   "execution_count": 5,
   "metadata": {},
   "outputs": [
    {
     "output_type": "execute_result",
     "data": {
      "text/plain": [
       "-9223371931130744909"
      ]
     },
     "metadata": {},
     "execution_count": 5
    }
   ],
   "source": [
    "hash(model)"
   ]
  },
  {
   "cell_type": "code",
   "execution_count": 7,
   "metadata": {},
   "outputs": [
    {
     "output_type": "execute_result",
     "data": {
      "text/plain": [
       "-9223371931130744909"
      ]
     },
     "metadata": {},
     "execution_count": 7
    }
   ],
   "source": [
    "topic_words, word_scores, topic_scores, topic_nums = model.search_topics(keywords=['klimaat'], num_topics=5)\n",
    "hash(model)"
   ]
  },
  {
   "cell_type": "code",
   "execution_count": 21,
   "metadata": {},
   "outputs": [],
   "source": [
    "def get_reduced_topics(num_topics):\n",
    "    print(f'performing reduction to {num_topics} topics')\n",
    "    reduced_topics = model.hierarchical_topic_reduction(num_topics)\n",
    "    topic_words, word_scores, topic_nums = model.get_topics(reduced=True)\n",
    "    reduced_topics = tuple(tuple(sorted(t)) for t in reduced_topics)\n",
    "    return reduced_topics, topic_words\n",
    "\n",
    "def find_diff(reduced1, reduced2, reverse=False):\n",
    "    # find the topics that where merged and return their index\n",
    "    if not reverse:\n",
    "        changed = set(reduced1) - set(reduced2)\n",
    "        return [index for index, topic in enumerate(reduced1) if topic in changed]\n",
    "    else:\n",
    "        changed = set(reduced2) - set(reduced1)\n",
    "        return [index for index, topic in enumerate(reduced2) if topic in changed]\n",
    "\n",
    "\n",
    "def print_merge(large, small, num_words=50):\n",
    "    print(f'\\ninspecting difference from {len(large[0])} to {len(small[0])} topics')\n",
    "    print('old topics')\n",
    "    for i in find_diff(large[0],small[0]):\n",
    "        print(large[1][i][:num_words])\n",
    "    print('new topic')\n",
    "    for i in find_diff(large[0],small[0], reverse=True):\n",
    "        print(small[1][i][:num_words])\n",
    "start = 17\n",
    "stop = 6\n",
    "reductions = {i: get_reduced_topics(i) for i in range(start, stop, -1)}\n",
    "for i in range(start, stop +1,-1):\n",
    "    print(i)\n",
    "    print_merge(reductions[i], reductions[i-1])"
   ]
  },
  {
   "cell_type": "code",
   "execution_count": 5,
   "metadata": {},
   "outputs": [],
   "source": [
    "\n",
    "# Make a choice to how many topics to reduce\n",
    "num_topics = 16\n",
    "reduced_topics = model.hierarchical_topic_reduction(num_topics)\n"
   ]
  },
  {
   "cell_type": "code",
   "execution_count": 6,
   "metadata": {},
   "outputs": [
    {
     "output_type": "error",
     "ename": "ValueError",
     "evalue": "Hierarchical topic reduction has not been performed.",
     "traceback": [
      "\u001b[1;31m---------------------------------------------------------------------------\u001b[0m",
      "\u001b[1;31mValueError\u001b[0m                                Traceback (most recent call last)",
      "\u001b[1;32m<ipython-input-6-5c6159b856ea>\u001b[0m in \u001b[0;36m<module>\u001b[1;34m\u001b[0m\n\u001b[0;32m      1\u001b[0m \u001b[1;31m# inspect number of documents for each topic\u001b[0m\u001b[1;33m\u001b[0m\u001b[1;33m\u001b[0m\u001b[1;33m\u001b[0m\u001b[0m\n\u001b[1;32m----> 2\u001b[1;33m \u001b[0mtopic_sizes\u001b[0m\u001b[1;33m,\u001b[0m \u001b[0mtopic_nums\u001b[0m \u001b[1;33m=\u001b[0m \u001b[0mmodel\u001b[0m\u001b[1;33m.\u001b[0m\u001b[0mget_topic_sizes\u001b[0m\u001b[1;33m(\u001b[0m\u001b[0mreduced\u001b[0m\u001b[1;33m=\u001b[0m\u001b[1;32mTrue\u001b[0m\u001b[1;33m)\u001b[0m\u001b[1;33m\u001b[0m\u001b[1;33m\u001b[0m\u001b[0m\n\u001b[0m\u001b[0;32m      3\u001b[0m \u001b[0mtopic_words\u001b[0m\u001b[1;33m,\u001b[0m \u001b[0mword_scores\u001b[0m\u001b[1;33m,\u001b[0m \u001b[0mtopic_nums\u001b[0m \u001b[1;33m=\u001b[0m \u001b[0mmodel\u001b[0m\u001b[1;33m.\u001b[0m\u001b[0mget_topics\u001b[0m\u001b[1;33m(\u001b[0m\u001b[0mreduced\u001b[0m\u001b[1;33m=\u001b[0m\u001b[1;32mTrue\u001b[0m\u001b[1;33m)\u001b[0m\u001b[1;33m\u001b[0m\u001b[1;33m\u001b[0m\u001b[0m\n",
      "\u001b[1;32mC:\\ProgramData\\Miniconda3\\lib\\site-packages\\top2vec\\Top2Vec.py\u001b[0m in \u001b[0;36mget_topic_sizes\u001b[1;34m(self, reduced)\u001b[0m\n\u001b[0;32m   1333\u001b[0m         \"\"\"\n\u001b[0;32m   1334\u001b[0m         \u001b[1;32mif\u001b[0m \u001b[0mreduced\u001b[0m\u001b[1;33m:\u001b[0m\u001b[1;33m\u001b[0m\u001b[1;33m\u001b[0m\u001b[0m\n\u001b[1;32m-> 1335\u001b[1;33m             \u001b[0mself\u001b[0m\u001b[1;33m.\u001b[0m\u001b[0m_validate_hierarchical_reduction\u001b[0m\u001b[1;33m(\u001b[0m\u001b[1;33m)\u001b[0m\u001b[1;33m\u001b[0m\u001b[1;33m\u001b[0m\u001b[0m\n\u001b[0m\u001b[0;32m   1336\u001b[0m             \u001b[1;32mreturn\u001b[0m \u001b[0mnp\u001b[0m\u001b[1;33m.\u001b[0m\u001b[0marray\u001b[0m\u001b[1;33m(\u001b[0m\u001b[0mself\u001b[0m\u001b[1;33m.\u001b[0m\u001b[0mtopic_sizes_reduced\u001b[0m\u001b[1;33m.\u001b[0m\u001b[0mvalues\u001b[0m\u001b[1;33m)\u001b[0m\u001b[1;33m,\u001b[0m \u001b[0mnp\u001b[0m\u001b[1;33m.\u001b[0m\u001b[0marray\u001b[0m\u001b[1;33m(\u001b[0m\u001b[0mself\u001b[0m\u001b[1;33m.\u001b[0m\u001b[0mtopic_sizes_reduced\u001b[0m\u001b[1;33m.\u001b[0m\u001b[0mindex\u001b[0m\u001b[1;33m)\u001b[0m\u001b[1;33m\u001b[0m\u001b[1;33m\u001b[0m\u001b[0m\n\u001b[0;32m   1337\u001b[0m         \u001b[1;32melse\u001b[0m\u001b[1;33m:\u001b[0m\u001b[1;33m\u001b[0m\u001b[1;33m\u001b[0m\u001b[0m\n",
      "\u001b[1;32mC:\\ProgramData\\Miniconda3\\lib\\site-packages\\top2vec\\Top2Vec.py\u001b[0m in \u001b[0;36m_validate_hierarchical_reduction\u001b[1;34m(self)\u001b[0m\n\u001b[0;32m    825\u001b[0m     \u001b[1;32mdef\u001b[0m \u001b[0m_validate_hierarchical_reduction\u001b[0m\u001b[1;33m(\u001b[0m\u001b[0mself\u001b[0m\u001b[1;33m)\u001b[0m\u001b[1;33m:\u001b[0m\u001b[1;33m\u001b[0m\u001b[1;33m\u001b[0m\u001b[0m\n\u001b[0;32m    826\u001b[0m         \u001b[1;32mif\u001b[0m \u001b[0mself\u001b[0m\u001b[1;33m.\u001b[0m\u001b[0mhierarchy\u001b[0m \u001b[1;32mis\u001b[0m \u001b[1;32mNone\u001b[0m\u001b[1;33m:\u001b[0m\u001b[1;33m\u001b[0m\u001b[1;33m\u001b[0m\u001b[0m\n\u001b[1;32m--> 827\u001b[1;33m             \u001b[1;32mraise\u001b[0m \u001b[0mValueError\u001b[0m\u001b[1;33m(\u001b[0m\u001b[1;34m\"Hierarchical topic reduction has not been performed.\"\u001b[0m\u001b[1;33m)\u001b[0m\u001b[1;33m\u001b[0m\u001b[1;33m\u001b[0m\u001b[0m\n\u001b[0m\u001b[0;32m    828\u001b[0m \u001b[1;33m\u001b[0m\u001b[0m\n\u001b[0;32m    829\u001b[0m     \u001b[1;32mdef\u001b[0m \u001b[0m_validate_hierarchical_reduction_num_topics\u001b[0m\u001b[1;33m(\u001b[0m\u001b[0mself\u001b[0m\u001b[1;33m,\u001b[0m \u001b[0mnum_topics\u001b[0m\u001b[1;33m)\u001b[0m\u001b[1;33m:\u001b[0m\u001b[1;33m\u001b[0m\u001b[1;33m\u001b[0m\u001b[0m\n",
      "\u001b[1;31mValueError\u001b[0m: Hierarchical topic reduction has not been performed."
     ]
    }
   ],
   "source": [
    "# inspect number of documents for each topic\n",
    "topic_sizes, topic_nums = model.get_topic_sizes(reduced=True)\n",
    "topic_words, word_scores, topic_nums = model.get_topics(reduced=True)"
   ]
  },
  {
   "cell_type": "code",
   "execution_count": 7,
   "metadata": {},
   "outputs": [
    {
     "output_type": "stream",
     "name": "stdout",
     "text": [
      "0 ['onderwijs_cultuur' 'wetenschap_viii' 'onderwijs' 'leerlingen'\n 'voortgezet_onderwijs' 'viii' 'scholen' 'primair_onderwijs' 'mbo'\n 'volwassenen_educatie' 'leerling' 'hoger_onderwijs' 'passend_onderwijs'\n 'studenten' 'leraren' 'diploma' 'docenten' 'hbo' 'vakken' 'onderwijsveld'\n 'funderend_onderwijs' 'docent' 'talenten' 'school' 'opleiding' 'celik'\n 'vo' 'mbo_studenten' 'opleidingen' 'schooljaar' 'basisonderwijs'\n 'hogescholen' 'curriculum' 'vmbo' 'havo' 'student' 'eindtoets'\n 'bekostiging' 'leraar' 'voortgezet_speciaal' 'wet_educatie' 'doorstroom'\n 'lerarentekort' 'middelbaar' 'schooladvies' 'wetenschap' 'werkdruk'\n 'speciaal_onderwijs' 'klas' 'expertisecentra']\n1 ['buitenlandse_zaken' 'jbz_raad' 'landen' 'vn' 'humanitaire'\n 'buitenlandse_handel' 'mensenrechten' 'afghanistan' 'syrie' 'jemen'\n 'vluchtelingen' 'saudi_arabie' 'turkije' 'bestrijding_internationaal'\n 'actuele_situatie' 'verenigde_naties' 'internationale'\n 'buitenlands_beleid' 'unhcr' 'libie' 'palestijnse_autoriteit' 'oorlog'\n 'irak' 'navo' 'noord_afrika' 'ngo' 'internationaal_recht' 'militaire'\n 'israel' 'eu_verband' 'migratie' 'conflict' 'geweld' 'resolutie'\n 'europese_unie' 'terrorisme' 'europese_raad' 'medewerking' 'eu'\n 'internationaal' 'internationaal_verband' 'vrede' 'raad_buitenlandse'\n 'syrische' 'maatschappelijk_verantwoord' 'lidstaten' 'terugkeer'\n 'verdrag' 'palestijnse' 'diplomatieke']\n2 ['inlichtingen' 'algemene_zaken' 'gegevens' 'informatie' 'rapporten'\n 'kamerleden' 'stukken' 'commissie' 'openbaar_bestuur' 'belastingdienst'\n 'inspectie' 'rapport' 'taak' 'privacy' 'com' 'seksueel_misbruik'\n 'toezicht' 'igz' 'tijdelijke_commissie' 'documenten' 'openbaarheid' 'iii'\n 'misstanden' 'verdrags_beleid' 'nza' 'gezondheidszorg'\n 'nationale_ombudsman' 'kansspelen' 'bevindingen' 'feiten' 'namens' 'ict'\n 'autoriteit' 'openbaar' 'toezichthouder' 'koning' 'binnenlandse_zaken'\n 'diensten' 'openbaar_ministerie' 'schijn' 'politie' 'alsmede_aanwijzing'\n 'presidium' 'internationaal_fiscaal' 'forensisch' 'pbeu'\n 'parlementaire_enquete' 'verzamelen' 'parlementair_onderzoek' 'parlement']\n3 ['natuur' 'gaswinning' 'gaswinning_groningen' 'natuurbeleid' 'deltafonds'\n 'ecologische_hoofdstructuur' 'waterveiligheid' 'mijnbouw' 'waterbeleid'\n 'voortgang_natura' 'groningen' 'ehs' 'waterkwaliteit' 'bodemdaling'\n 'deltaprogramma' 'beheer' 'natura_gebieden' 'groningenveld'\n 'biodiversiteit' 'omgevingsrecht' 'nam' 'ruimtelijke' 'landbouw_natuur'\n 'water' 'natuurgebieden' 'ecologische' 'stikstof' 'kaderrichtlijn_water'\n 'aardbevingen' 'provincie' 'milieu' 'landbouw' 'omgevingswet'\n 'grondwater' 'waddenzee' 'economische_zaken' 'duurzame_ontwikkeling'\n 'schaliegas' 'provincies' 'bodem' 'glb' 'rijk' 'groningers'\n 'leefomgeving' 'landbouwbeleid' 'ipo' 'pfas' 'planbureau' 'recreatie'\n 'waterschappen']\n4 ['dierenwelzijn' 'visserijraad' 'landbouw' 'dieren' 'landbouw_natuur'\n 'veehouderij' 'volksgezondheid' 'dier' 'antibiotica' 'boeren'\n 'binnenvisserij' 'paling' 'voedingsbeleid' 'import' 'mestbeleid'\n 'glyfosaat' 'koeien' 'lnv' 'vlees' 'visserij' 'visserijbeleid'\n 'snijder_hazelhoff' 'verbod_op' 'verbod' 'varkens' 'voedsel'\n 'economische_zaken' 'beleidsnota_biotechnologie' 'melkveehouderij'\n 'intensieve_veehouderij' 'vissen' 'stallen' 'melkveehouderij_wet'\n 'productie' 'gewassen' 'vissers' 'verantwoorde_groei' 'mest'\n 'warenautoriteit_nvwa' 'producten' 'tuinbouw' 'biociden' 'teelt'\n 'drugbeleid' 'geiten' 'agrarische_sector' 'slacht' 'nvwa'\n 'visserijsector' 'nederlandse_voedsel']\n5 ['volksgezondheid_welzijn' 'sport' 'zorg' 'wijkverpleging' 'thuis'\n 'langdurige_zorg' 'toekomst_awbz' 'zorgverleners' 'clienten'\n 'wachtlijsten' 'geestelijke_gezondheidszorg' 'zorgaanbieders' 'jeugdzorg'\n 'zorgkantoren' 'jeugdwet' 'pgb' 'thuiszorg' 'otwin' 'zorgvraag'\n 'patienten' 'verpleeghuizen' 'budgethouders' 'dementie'\n 'opleidingen_zorgsector' 'palliatieve_zorg' 'ouderenzorg' 'wmo' 'wlz'\n 'verpleeghuis' 'herziening_zorgstelsel' 'ziekenhuis' 'zorgmedewerkers'\n 'ziekenhuiszorg' 'wet_ondersteuning' 'acute_zorg' 'wet_langdurige'\n 'mantelzorgers' 'nodig_hebben' 'dagbesteding' 'budgetten' 'jeugdhulp'\n 'ondersteuning' 'nza' 'ziekenhuizen' 'ggz' 'awbz' 'ouderen'\n 'passend_onderwijs' 'client' 'jeugdigen']\n6 ['sociale_zaken' 'werkgevers' 'werkgelegenheid' 'arbeidsmarkt' 'baan' 'ww'\n 'uwv' 'evaluatie_participatiewet' 'sociale_uitsluiting' 'werkzoekenden'\n 'stille_armoede' 'participatiewet' 'noodpakket_banen' 're' 'nijkerken'\n 'mensen' 'sociale_partners' 'wajong' 'schulden' 'inspectie_szw' 'armoede'\n 'scholing' 're_integratie' 'banenafspraak' 'werk' 'zelfstandigen'\n 'werknemers' 'bijstand' 'sociale_werkvoorziening' 'werkgever' 'uitkering'\n 'werknemer' 'cao' 'grote_groep' 'naar_vermogen' 'loondispensatie'\n 'zzp_ers' 'verdringing' 'wet_werk' 'begeleiding' 'gijs' 'arbeid'\n 'beschut_werk' 'wia' 'werkloosheid' 'leven_lang' 'sociale_zekerheid'\n 'sociaal' 'jongeren' 'flexwerkers']\n7 ['justitie_vi' 'justitie' 'veiligheid_vi' 'vi' 'openbaar_ministerie'\n 'politie' 'criminelen' 'recidive' 'straf' 'justitiele_inrichtingen'\n 'gedetineerden' 'straffen' 'criminaliteit' 'veiligheid' 'rechtsorde'\n 'daders' 'verdachten' 'misdrijven' 'misdrijf' 'strafbare_feiten'\n 'gevangenis' 'strafrecht' 'bestrijding_georganiseerde' 'opgelegd'\n 'agenten' 'veiliger_samenleving' 'nationale_politie' 'slachtoffers'\n 'politieagenten' 'criminele' 'gevangenissen' 'vervolging' 'veroordeelde'\n 'wetboek' 'rechters' 'rechtsstaat' 'inrichtingen' 'opsporing' 'advocaten'\n 'detentie' 'geweld' 'strafvordering' 'drugs' 'rechter' 'justitiele'\n 'forensisch' 'rechtspraak' 'verdachte' 'jihadisten' 'voorwaardelijke']\n8 ['toekomst_pensioenstelsel' 'pensioen' 'gepensioneerden' 'koopkracht'\n 'wetten_belastingplan' 'belastingplan' 'enkele_belastingwetten'\n 'pensioenfondsen' 'rente' 'rijks_financien' 'pensioenen' 'aow_leeftijd'\n 'pensioenstelsel' 'toestand' 'nota' 'rekenrente' 'pensioenakkoord'\n 'belasting' 'fiscale' 'pensioenwet' 'aow' 'box' 'tony' 'enige_andere'\n 'fiscaal' 'loonbegrip' 'centraal_planbureau' 'inkomens' 'belastingen'\n 'verhoging' 'budgettaire' 'verlaging' 'belasten' 'premie' 'hypotheek'\n 'premies' 'miljard_euro' 'werkenden' 'huren' 'verlaagd' 'lage'\n 'internationaal_fiscaal' 'diesel' 'verlagen' 'betalen' 'verdrags_beleid'\n 'heffing' 'sociale_zaken' 'minimumloon' 'loon']\n9 ['europese_raad' 'europese_unie' 'lidstaten' 'europese' 'eu' 'stemmen_met'\n 'jbz_raad' 'raad_buitenlandse' 'europese_commissie' 'raad_algemene'\n 'ceta' 'soevereiniteit' 'eurozone' 'ttip' 'griekenland'\n 'verenigd_koninkrijk' 'europa' 'oekraine' 'canada' 'zaken' 'politieke'\n 'europees' 'akkoord' 'referendum' 'turkije' 'eu_lidstaten' 'verdrag'\n 'parlement' 'europees_openbaar' 'lidmaatschap' 'esm' 'toetreding'\n 'meerderheid' 'europese_top' 'brexit' 'brussel' 'ecb' 'verenigde_staten'\n 'economische' 'vs' 'rusland' 'kandidaat' 'democratisch' 'voorzitterschap'\n 'rekenkamer' 'nationale' 'pleiten' 'rechtsstaat' 'democratie' 'deal']\n10 ['kabinetsaanpak_klimaatbeleid' 'duurzame_ontwikkeling' 'co'\n 'duurzame_energie' 'energie' 'energieakkoord' 'klimaatakkoord'\n 'co_reductie' 'fossiele_brandstoffen' 'klimaat' 'broeikasgassen'\n 'klimaatdoelen' 'uitstoot' 'gas' 'aardgas' 'opwarming' 'duurzame'\n 'milieuraad' 'industrie' 'co_uitstoot' 'gebouwde_omgeving' 'sde'\n 'biomassa' 'energierekening' 'elektriciteit' 'technieken' 'aarde' 'agnes'\n 'fossiele' 'stimulering_duurzame' 'hernieuwbare_energie' 'wind_op'\n 'transitie_naar' 'schone' 'warmte' 'olie' 'gaswet' 'huishoudens'\n 'kolencentrales' 'productie' 'biobrandstoffen' 'verduurzaming'\n 'economische_zaken' 'emissies' 'jan' 'innovatie' 'pbl' 'ets'\n 'doelstelling' 'verduurzamen']\n11 ['geluidsoverlast' 'evaluatie_schipholbeleid' 'maximumsnelheid'\n 'luchtkwaliteit' 'omwonenden' 'fijnstof' 'vliegtuigen' 'waterstaat'\n 'schiphol' 'verpakkingen' 'milieu' 'snelwegen' 'luchtvaart'\n 'landelijk_afvalbeheerplan' 'infrastructuur' 'lucht' 'plastic'\n 'milieubeheer' 'zwerfafval' 'vliegen' 'geluid' 'recycling' 'statiegeld'\n 'luchthavens' 'luchtvaartnota' 'lelystad_airport' 'overlast' 'rivm'\n 'vluchten' 'genx' 'treinen' 'km' 'hergebruik' 'uitstoot' 'stoffen'\n 'groei' 'ruimtelijke_ordening' 'milieuraad' 'langs' 'goederenvervoer'\n 'luchtruim' 'verspreiding' 'verkeer' 'transport' 'luchthaven' 'afval'\n 'ganzen' 'trein' 'spoor_vervoer' 'no']\n12 ['patienten' 'herziening_zorgstelsel' 'ziekenhuis' 'ziekenhuiszorg'\n 'acute_zorg' 'huisartsen' 'ziekenhuizen' 'geneesmiddelen'\n 'volksgezondheid_welzijn' 'sport' 'patient' 'chronisch_zieken'\n 'eigen_risico' 'zorgkosten' 'zorgverzekeraar' 'apothekers' 'zwangerschap'\n 'spoedeisende_hulp' 'arts' 'geestelijke_gezondheidszorg' 'huisarts'\n 'zorg_rond' 'basispakket' 'artsen' 'zorg' 'behandelingen' 'aandoeningen'\n 'zorgvraag' 'verzekerden' 'acute' 'eigen_bijdrage' 'geboorte'\n 'medische_zorg' 'palliatieve_zorg' 'zorginstituut' 'dure'\n 'wijkverpleging' 'wet_ondersteuning' 'vergoed' 'ambulancezorg'\n 'gehandicapten' 'zvw' 'medische' 'eigen_bijdragen' 'langdurige_zorg'\n 'medisch' 'vergoeden' 'voeding' 'zorgverleners' 'ic']\n13 ['spoor_vervoer' 'beheerplan' 'treinen' 'ns' 'spoor' 'mirt' 'vervoerders'\n 'reiziger' 'openbaar_vervoer' 'reizigers' 'goederenvervoer' 'eindhoven'\n 'verbindingen' 'verbinding' 'dienstregeling' 'intercity' 'station'\n 'randstad' 'zwolle' 'ov' 'knooppunt' 'infrastructuur' 'prorail' 'breda'\n 'hoofdrailnet' 'stations' 'hsl' 'trein' 'concessie' 'amsterdam'\n 'ov_chipkaart' 'utrecht' 'bereikbaarheid' 'files' 'fyra' 'regio' 'steden'\n 'rotterdam' 'fiets' 'waterstaat' 'zuid' 'mobiliteit' 'rijden' 'trajecten'\n 'doorstroming' 'realisatie' 'limburg' 'aanleg' 'verbreding'\n 'gereserveerd']\n14 ['mkb' 'financiele_sector' 'abn_amro' 'ondernemingen' 'banken' 'bank'\n 'financiele_instellingen' 'kredietcrisis' 'ondernemers' 'beloningsbeleid'\n 'kleinbedrijf' 'beloningen' 'bedrijven' 'topinkomens' 'overname'\n 'maatschappelijk_verantwoord' 'economische_zaken' 'krediet' 'koophandel'\n 'bonussen' 'digitalisering' 'beloning' 'aandeelhouders' 'aandelen'\n 'innovatie' 'financien' 'wnt' 'buitenlandse'\n 'zelfstandig_ondernemerschap' 'kapitaal' 'faillissement' 'aanbestedingen'\n 'bestuurders' 'dnb' 'regels_omtrent' 'aanbesteden' 'salarissen' 'omzet'\n 'private' 'nederlandse_bedrijfsleven' 'cultuurbeleid' 'mei_li' 'vitale'\n 'strategische' 'worsdorfer' 'onderneming' 'aantrekken' 'aanbesteding'\n 'oprichting' 'nederlandse_economie']\n15 ['woningmarkt' 'huurders' 'integrale_visie' 'woningen' 'huur'\n 'binnenlandse_zaken' 'vii' 'corporaties' 'huurwoningen' 'woning' 'wonen'\n 'rijksdienst' 'sociale_huurwoningen' 'verhuurders' 'huurbeleid' 'huren'\n 'huurverhoging' 'starters' 'nieuwbouw' 'woningwet' 'albert' 'woonruimte'\n 'betaalbare' 'kantoren' 'huurtoeslag' 'leegstand' 'hypotheek'\n 'leefbaarheid' 'energielabel' 'doorstroming' 'verduurzamen'\n 'krimpgebieden' 'gemiddeld' 'renovatie' 'bouw' 'inkomens' 'woningbouw'\n 'gebouwde_omgeving' 'hun_woning' 'verduurzaming' 'steden' 'tekort'\n 'voorraad' 'gebouwd' 'eigenaren' 'statushouders' 'bouwen' 'wijken'\n 'per_maand' 'mkba']\n"
     ]
    }
   ],
   "source": [
    "for i, t in enumerate(topic_words):\n",
    "    print(i,t)"
   ]
  },
  {
   "cell_type": "code",
   "execution_count": null,
   "metadata": {},
   "outputs": [],
   "source": []
  },
  {
   "cell_type": "code",
   "execution_count": 8,
   "metadata": {},
   "outputs": [],
   "source": [
    "topic_sizes, topic_nums = model.get_topic_sizes(reduced=False)\n",
    "topic_words, word_scores, topic_nums = model.get_topics(reduced=False)\n",
    "climate_idx = [topic_nums for t in topic_nums if t in reduced_topics[10]]\n"
   ]
  },
  {
   "cell_type": "code",
   "execution_count": 24,
   "metadata": {},
   "outputs": [
    {
     "output_type": "execute_result",
     "data": {
      "text/plain": [
       "{167: '',\n",
       " 161: '',\n",
       " 132: '',\n",
       " 242: '',\n",
       " 2: '',\n",
       " 133: '',\n",
       " 124: '',\n",
       " 123: '',\n",
       " 34: '',\n",
       " 190: '',\n",
       " 148: '',\n",
       " 162: '',\n",
       " 196: '',\n",
       " 68: '',\n",
       " 140: '',\n",
       " 134: '',\n",
       " 100: '',\n",
       " 217: '',\n",
       " 69: '',\n",
       " 153: '',\n",
       " 122: '',\n",
       " 67: '',\n",
       " 35: '',\n",
       " 231: '',\n",
       " 18: ''}"
      ]
     },
     "metadata": {},
     "execution_count": 24
    }
   ],
   "source": [
    "d = {topic:'' for i, r in enumerate(reduced_topics) for topic in r if i in [3]}\n",
    "d"
   ]
  },
  {
   "cell_type": "code",
   "execution_count": 27,
   "metadata": {},
   "outputs": [],
   "source": []
  },
  {
   "cell_type": "code",
   "execution_count": 28,
   "metadata": {},
   "outputs": [
    {
     "output_type": "stream",
     "name": "stdout",
     "text": [
      "167 ['schaliegas' 'winning' 'structuurvisie' 'gas' 'mijnbouw' 'moratorium'\n 'ambitieus' 'fossiele_brandstoffen' 'gaswinning' 'winnen'\n 'stimulering_duurzame' 'olie' 'vergunningen' 'provincie' 'grondwater'\n 'aardbevingen' 'schoon' 'deze_kabinetsperiode' 'draagvlak' 'drinkwater'\n 'groningenveld' 'waddenzee' 'nut' 'natuurbeleid' 'noodzaak' 'lokaal'\n 'transitie_naar' 'grondgebied' 'radicalisering' 'bodemdaling'\n 'duurzame_energie' 'vervuiling' 'friesland' 'onderbouwd' 'voorwaarde'\n 'onderzoeksraad_voor' 'aardgas' 'ehs' 'waterbeleid' 'provincies' 'irak'\n 'kansrijke' 'kernenergie' 'warmte' 'gaswet' 'subsidiering' 'regime'\n 'gaswinning_groningen' 'mer' 'beleidsnota_biotechnologie']\n161 ['waddenzee' 'bodemdaling' 'mijnbouw' 'gaswinning' 'gas' 'natuur'\n 'winning' 'gaswinning_groningen' 'nam' 'schade' 'aardbevingen' 'noordzee'\n 'onderzoeksraad_voor' 'groningen' 'waterbeleid' 'schaliegas' 'vergunning'\n 'vergunningen' 'eilanden' 'olie' 'vervuiling' 'stimulering_duurzame'\n 'daling' 'bes_fonds' 'hand' 'groningenveld' 'alternatieven' 'unieke'\n 'landschap' 'opgesteld' 'fossiele_brandstoffen' 'friesland' 'winnen'\n 'economisch' 'groningers' 'jan' 'natuurbeleid' 'bodem' 'rijksoverheid'\n 'bewijslast' 'sterke' 'afbouw' 'breed_gedragen' 'agnes' 'mijnbouwschade'\n 'monitoring' 'deltaprogramma' 'inwoners' 'zwerfafval' 'waddenfonds']\n132 ['zegt' 'vertrouwen' 'minister_president' 'geschonden'\n 'bestrijding_internationaal' 'minister' 'iii' 'geinformeerd' 'justitie'\n 'vorig_jaar' 'onmiddellijk' 'gaswinning_groningen' 'helemaal' 'niets'\n 'turkse' 'justitie_vi' 'verpleeghuis' 'hem' 'aangaande' 'zet'\n 'veiligheid_vi' 'herstel' 'terrorisme' 'grenzen' 'veiligheid'\n 'wetten_belastingplan' 'onthouden' 'buitenlandse_zaken' 'turkije'\n 'wijkverpleging' 'intimidatie' 'voorzitter' 'politieagenten' 'politiek'\n 'nza' 'migranten' 'namens' 'vs' 'president' 'geformuleerd' 'vaststelt'\n 'bezuinigingen' 'verpleeghuizen' 'algemene_zaken' 'moskeeen'\n 'enkele_belastingwetten' 'ecologische_hoofdstructuur' 'groningers'\n 'brief' 'islamitisch']\n242 ['shell' 'gaswet' 'groningenveld' 'nam' 'gaswinning' 'hoofdlijnen'\n 'advocaat' 'groningen' 'mijnbouwschade' 'olie' 'deal' 'mijnbouw'\n 'oefenen' 'verdrags_beleid' 'multinationals' 'internationaal_fiscaal'\n 'klimaat' 'gas' 'president' 'generaal' 'klimaatakkoord' 'groningers'\n 'gedupeerden' 'rechtsbijstand' 'juridisch' 'aandeelhouders' 'rest'\n 'ecologische_hoofdstructuur' 'tijdelijke_wet' 'rapporten'\n 'economische_zaken' 'agnes' 'drinkwater' 'noordzee'\n 'kabinetsaanpak_klimaatbeleid' 'heeft_verzocht' 'staken' 'for' 'schade'\n 'supermarkten' 'bestuurlijke' 'schades' 'voormalige' 'aardbevingen'\n 'verhalen' 'buitenlandse_handel' 'milieuraad' 'niets' 'verdeling'\n 'methode']\n2 ['gaswinning' 'nam' 'groningen' 'groningers' 'gaswinning_groningen'\n 'aardbevingen' 'schades' 'gedupeerden' 'bewoners' 'groningenveld'\n 'schade' 'mijnbouw' 'mijnbouwschade' 'veld' 'hun_woning' 'bodemdaling'\n 'afhandeling' 'huizen' 'gas' 'agnes' 'gaswet' 'complexe'\n 'onderzoeksraad_voor' 'versterking' 'vergoeden' 'yes_ilgoz' 'herstel'\n 'inwoners' 'afwikkeling' 'woningen' 'vertrouwen' 'jan' 'tijdelijke_wet'\n 'recht_hebben' 'gebouwen' 'zegerius' 'vergoed' 'yesilgoz_zegerius'\n 'hoeveelheid' 'duren' 'winning' 'dik' 'veilig' 'geholpen' 'winnen'\n 'versnelling' 'woning' 'al_jaren' 'verlopen' 'provincie']\n133 ['welvaart' 'indicator' 'financieel_jaarverslag' 'economische_groei' 'cpb'\n 'toegevoegde_waarde' 'meten' 'cbs' 'grote_verschillen' 'verwachte'\n 'indicatoren' 'kwalitatieve' 'uitstroom' 'rijk' 'klimaat' 'middelbaar'\n 'ecologische' 'verdrags_beleid' 'meegewogen' 'welzijn' 'kwantitatieve'\n 'duurzaamheid' 'inzicht' 'effecten' 'impact' 'groei' 'hulp_handel'\n 'ontwikkeling' 'thema' 'pbl' 'sociaal' 'duurzame_ontwikkeling' 'gezonde'\n 'leven_lang' 'vraagstukken' 'economische' 'oog' 'com' 'economie'\n 'eindtoets' 'ladder' 'monitor' 'ontwikkelen' 'toetsen' 'vrij_verkeer'\n 'kabinetsbeleid' 'duurzaam' 'eenzijdig' 'zuid' 'aspecten']\n124 ['financieel_jaarverslag' 'algemene_rekenkamer' 'rijk' 'jaarverslag'\n 'verantwoording' 'uitgaven' 'verantwoord' 'concludeert' 'rekenkamer'\n 'budgettaire' 'slotwet_ministerie' 'welvaart' 'energielabel'\n 'doelstellingen' 'inzicht' 'rapport' 'constateert' 'doelmatigheid'\n 'besteding' 'departementen' 'daalt' 'effectiviteit'\n 'wetten_belastingplan' 'adviseert' 'vraagstukken' 'doelen'\n 'verpleeghuizen' 'grote_verschillen' 'heeft_gedaan' 'binnenlandse_zaken'\n 'begroting' 'programma' 'waterkwaliteit' 'kwalitatieve' 'klimaatbeleid'\n 'ringen' 'financieel' 'bevriezen' 'financien' 'beleid' 'afgelopen_jaren'\n 'geevalueerd' 'waterbeleid' 'huurwoningen' 'jaren' 'cijfers' 'analyse'\n 'planbureau' 'economische' 'evenwichtige']\n123 ['kwantitatieve' 'nulmeting' 'kwalitatieve' 'doelstellingen'\n 'geformuleerd' 'doelen' 'gehaald' 'quotum' 'behaald' 'zwerfafval'\n 'doelstelling' 'tijdpad' 'welk' 'formuleren' 'aantal' 'bevatten' 'totale'\n 'duidelijke' 'kaderrichtlijn_water' 'ambities' 'sociale_werkvoorziening'\n 'combinatie_met' 'huisvesting' 'spoedeisende_hulp' 'oorzaak' 'zicht'\n 'opgaven' 'deltafonds' 'dierenwelzijn' 'behalen' 'concreet' 'jaarlijkse'\n 'binnenvisserij' 'resultaat' 'opgave' 'koeien' 'beoogde' 'nvwa'\n 'ambitieuze' 'komende_jaren' 'november' 'reductie' 'meten' 'handicap'\n 'waterveiligheid' 'jaarlijks' 'begrotingen' 'flevoland' 'indicatoren'\n 'aanvullend']\n34 ['jaarverslag' 'slotwet_ministerie' 'algemene_rekenkamer' 'juni'\n 'indicatoren' 'rekenkamer' 'voorgesteld_tijdens' 'infrastructuur'\n 'overzicht' 'concludeert' 'doelen' 'wetenschap' 'economische_zaken'\n 'uitgegeven' 'tekortschiet' 'uitgaven' 'waterstaat' 'prestaties'\n 'onvol_doende' 'gemeten' 'actieprogramma' 'rapportage' 'november'\n 'grote_verschillen' 'ambities' 'gaswinning_groningen' 'aangeeft'\n 'doelstellingen' 'verantwoord' 'resultaten' 'effectiviteit' 'missies'\n 'co_reductie' 'deltafonds' 'defensie' 'besteding' 'ministerie' 'rapport'\n 'cijfers' 'landbouw_natuur' 'parlementair_onderzoek' 'waterkwaliteit'\n 'milieu' 'schooladvies' 'verbeteringen' 'luchtkwaliteit' 'sport'\n 'nulmeting' 'duurzame_energie' 'beoogde']\n190 ['binnenhof' 'renovatie' 'nieuwbouw' 'meerkosten' 'variant' 'verduurzamen'\n 'gebouwen' 'onderhoud' 'prinsjesdag' 'gebruikers' 'onderbouwd'\n 'algemene_zaken' 'volgt' 'planning' 'provincie' 'den_haag'\n 'verduurzaming' 'voorlopig' 'woningen' 'duurzame_ontwikkeling' 'bouwen'\n 'naar_vermogen' 'bouwsector' 'complex' 'natuurlijke' 'vastgestelde'\n 'goedkoper' 'ten_laste' 'gedeelte' 'bouw' 'ontwerp' 'vervanging'\n 'huurders' 'goede_voorbeeld' 'locatie' 'definitief' 'besparing'\n 'wet_oudere' 'maar_liefst' 'anders' 'green_deal' 'methoden' 'deltafonds'\n 'parlementaire' 'budget' 'denken' 'waterbeleid' 'omgeving' 'woonruimte'\n 'gebouwde_omgeving']\n148 ['bouwbesluit' 'nieuwbouw' 'gebouwen' 'paulus' 'woningen' 'omgevingsrecht'\n 'renovatie' 'gebruikers' 'albert' 'bouwen' 'gebouwd' 'tbs' 'bouwsector'\n 'eisen' 'herstelwet' 'woning' 'installaties' 'inrichtingen'\n 'mogelijkheid_biedt' 'omgevingswet' 'ruimtelijke' 'besparing' 'wnt'\n 'stelt' 'huurwoningen' 'uitgaat' 'milieubeheer' 'woonruimte'\n 'huisvesting' 'eis' 'bouw' 'ingrijpende' 'integrale_visie' 'wonen'\n 'garantie' 'woningmarkt' 'stallen' 'gemeente' 'ortega_martijn'\n 'regelgeving' 'voldoet_aan' 'gebouwde_omgeving' 'kantoren' 'getoetst'\n 'funderend_onderwijs' 'voorziening' 'brandweer' 'rijksdienst' 'voorstelt'\n 'normen']\n162 ['herstelwet' 'crisis' 'ruimtelijke' 'tranche' 'omgevingsrecht'\n 'projecten' 'bouwbesluit' 'terrein' 'permanent' 'experiment'\n 'ruimtelijke_ordening' 'woningen' 'nieuwbouw' 'waterveiligheid' 'regels'\n 'albert' 'duurzame_ontwikkeling' 'deltaprogramma' 'omgevingswet'\n 'met_betrekking' 'leefomgeving' 'paulus' 'woning' 'versnellen'\n 'procedures' 'gebouwde_omgeving' 'project' 'geplaatst' 'jsf'\n 'mogelijkheid_biedt' 'mer' 'bouwen' 'woningbouw' 'gebouwen' 'ii'\n 'transformatie' 'binnenvaart' 'windmolens' 'almere' 'fijnstof'\n 'schaliegas' 'regime' 'milieubeheer' 'woningmarkt' 'stikstof' 'besluit'\n 'draagvlak' 'kantoren' 'structuurvisie' 'wonen']\n196 ['omgevingswet' 'overgang' 'enkele_andere' 'wetten' 'kooten' 'doden'\n 'dier' 'dieren' 'provincies' 'overgangsrecht' 'wijziging' 'grondwater'\n 'stelsel' 'wijzigingen' 'bodem' 'overal' 'boek' 'wet' 'natuurbeleid'\n 'stoffen' 'verband_met' 'beschermen' 'omgevingsrecht' 'luchtkwaliteit'\n 'oog_op' 'daadwerkelijke' 'intrekking' 'kinderopvang' 'aangetast'\n 'onderwerp' 'planning' 'achteraf' 'natuur' 'wet_werk' 'doelmatig'\n 'leefomgeving' 'nieuwe_stelsel' 'toename' 'betekent' 'bijna' 'omwonenden'\n 'invoering' 'enige_andere' 'afkomstig' 'erkend' 'von' 'vaststelt'\n 'ons_land' 'decentralisatie' 'aanvulling']\n68 ['omgevingsrecht' 'omgevingswet' 'overgangsrecht' 'ruimtelijke'\n 'herstelwet' 'invoering' 'geluid' 'decentrale' 'intrekking'\n 'nieuwe_stelsel' 'benutten' 'leefomgeving' 'potentieel' 'beschermen'\n 'grote_gevolgen' 'regeldruk' 'albert' 'bodem' 'crisis' 'milieubeheer'\n 'oog_op' 'herijking' 'besluit' 'milieu' 'wetten' 'erfgoed' 'grondwater'\n 'normen' 'drinkwater' 'stoffen' 'planbureau' 'ruimtelijke_ordening'\n 'aanvulling' 'beginsel' 'geluidsoverlast' 'bevoegd_gezag' 'norm'\n 'verpleeghuizen' 'regels' 'herziening' 'huurwoningen'\n 'administratieve_lasten' 'belanghebbenden' 'datum' 'omwonenden'\n 'rijksdienst' 'gebouwen' 'wet_milieubeheer' 'lokale_overheden' 'pfas']\n140 ['drinkwater' 'grondwater' 'waterbeleid' 'water' 'bodem' 'schoon'\n 'vervuiling' 'kaderrichtlijn_water' 'waterkwaliteit' 'deltafonds' 'mest'\n 'zuinig' 'dusdanig' 'mijnbouw' 'antibiotica' 'stoffen' 'pfas'\n 'structuurvisie' 'provinciale' 'mestbeleid' 'waterschappen'\n 'strategische' 'waterveiligheid' 'leidend' 'doelmatig' 'teelt'\n 'schaliegas' 'winning' 'afneemt' 'meter' 'duurder' 'omgevingswet'\n 'aanzienlijk' 'transport' 'deltaprogramma' 'marktpartijen' 'natuurbeleid'\n 'hogere' 'productie' 'vergunning' 'aangewezen' 'opslag' 'milieubeheer'\n 'milieu' 'prioriteit' 'voortgang_natura' 'ecologische' 'bronnen'\n 'tegenstelling_tot' 'huur']\n134 ['kaderrichtlijn_water' 'waterkwaliteit' 'waterbeleid' 'deltafonds'\n 'doelen' 'water' 'natuur' 'waterveiligheid' 'gehaald' 'planbureau'\n 'behaald' 'deltaprogramma' 'natuurbeleid' 'drinkwater' 'schoon'\n 'biodiversiteit' 'wateren' 'grondwater' 'leefomgeving' 'waterschappen'\n 'zuinig' 'ecologische' 'doelstellingen' 'binnenvisserij' 'beheer' 'pbl'\n 'milieu' 'stikstof' 'infrastructuur' 'behalen' 'waterstaat'\n 'luchtkwaliteit' 'recreatie' 'natuurgebieden' 'voedingsbeleid'\n 'ecologische_hoofdstructuur' 'steden' 'ipo' 'stoffen' 'veehouderij'\n 'bodem' 'oeso' 'concludeert' 'halen' 'klimaat' 'rekenkamer' 'mestbeleid'\n 'natura_gebieden' 'landbouw' 'duurzame_ontwikkeling']\n100 ['waterschappen' 'ipo' 'groen' 'waterbeleid' 'deltafonds' 'water' 'unie'\n 'provincies' 'rijk' 'bestuursakkoord' 'groene' 'biodiversiteit' 'natuur'\n 'natuurbeleid' 'vng' 'decentrale_overheden' 'houdende' 'steden'\n 'stedelijke' 'natuurlijke' 'waterveiligheid' 'aanleg' 'ecologische'\n 'omgevingswet' 'landbouw' 'innovatie' 'ruimtelijke' 'von' 'leefomgeving'\n 'leefbaarheid' 'ecologische_hoofdstructuur' 'recreatie' 'waterkwaliteit'\n 'green_deal' 'zorgplicht' 'planbureau' 'omgevingsrecht'\n 'kaderrichtlijn_water' 'infrastructuur' 'drinkwater' 'ehs'\n 'structuurvisie' 'gemeenten' 'grondstoffen' 'deltaprogramma' 'stad'\n 'voorzieningen' 'warmte' 'circulaire_economie' 'ruimtelijke_ordening']\n217 ['mkba' 'baten' 'nut' 'project' 'systematiek' 'verbreding'\n 'waterveiligheid' 'wordt_gekeken' 'varianten' 'mirt' 'cpb' 'projecten'\n 'goederenvervoer' 'centraal_planbureau' 'lelystad_airport' 'aanleg'\n 'mobiliteit' 'onderbouwd' 'rendement' 'rijk' 'grensregio' 'economisch'\n 'spoor' 'deltaprogramma' 'wegen' 'zouden_kunnen' 'belgische' 'knooppunt'\n 'scenario' 'provincie' 'rijkswaterstaat' 'eerdere' 'zuid' 'oost'\n 'begrotingsstaat' 'regionaal' 'verwachte' 'mer' 'meegenomen'\n 'luchtvaartnota' 'besluitvorming' 'gronden' 'meegewogen' 'bereikbaarheid'\n 'overheden' 'economische' 'regio' 'variant' 'uitgangspunten'\n 'kwalitatieve']\n69 ['waterveiligheid' 'deltafonds' 'deltaprogramma' 'waterbeleid'\n 'waterkwaliteit' 'opgaven' 'projecten' 'water' 'kaderrichtlijn_water'\n 'recreatie' 'cofinanciering' 'waterschappen' 'natuur' 'ruimtelijke'\n 'aanleg' 'drinkwater' 'begrotingsstaat' 'gramma' 'combineren'\n 'infrastructuur' 'mirt' 'omgevingsrecht' 'mkba' 'primaire' 'rijk'\n 'structuurvisie_infrastructuur' 'project' 'integrale' 'bodemdaling'\n 'verbindingen' 'ambities' 'doelen' 'zuid' 'opgave' 'fase' 'mobiliteit'\n 'programma' 'natuurbeleid' 'wordt_gewerkt' 'rijkswaterstaat'\n 'grootschalige' 'notaoverleg' 'wateren' 'zwolle' 'robuuste' 'ruimte'\n 'belangen' 'realisatie' 'zoveel_mogelijk' 'ontwerp']\n153 ['asbest' 'problematiek_rondom' 'sanering' 'pfas' 'von' 'verwijderen'\n 'eigenaren' 'gebouwen' 'inspectie_szw' 'wet_milieubeheer' 'tno'\n 'gemeentes' 'stikstof' 'particulieren' 'verbod_op' 'albert'\n 'inventarisatie' 'ingaat' 'landelijk_afvalbeheerplan' 'illegaal'\n 'vervangen' 'afval' 'verwerkt' 'infrastructuur' 'vernieuwing' 'markt'\n 'gedetineerden' 'verzekeraars' 'opgave' 'nulmeting' 'beheerplan'\n 'illegale' 'verhuurders' 'spoor_vervoer' 'woning' 'zelfregulering'\n 'detentie' 'hoofdrailnet' 'herstelwet' 'na_afloop' 'voortvarend' 'ns'\n 'overtreding' 'milieu' 'limburg' 'woningen' 'brand' 'geplaatst'\n 'innovatie' 'woningmarkt']\n122 ['pfas' 'problematiek_rondom' 'stikstof' 'natura_gebieden' 'sanering'\n 'voortgang_natura' 'stallen' 'veehouderij' 'intensieve_veehouderij'\n 'stoffen' 'norm' 'fijnstof' 'kabinet_voornemens' 'emissies'\n 'programmatische_aanpak' 'luchtkwaliteit' 'beheerplan' 'gedetineerden'\n 'definitief' 'mestbeleid' 'scherpen' 'vervuiling' 'vergunningen' 'rivm'\n 'generieke' 'boeren' 'reductie' 'voorgestelde' 'overschrijding'\n 'voedingsbeleid' 'milieu' 'spoor_vervoer' 'uitstoot'\n 'justitiele_inrichtingen' 'waterkwaliteit' 'concludeert' 'von'\n 'ten_gevolge' 'woningen' 'onduidelijk_is' 'bouw' 'asbest' 'limburg'\n 'paling' 'definitieve' 'gebieden' 'belastinggeld' 'herstelwet'\n 'onderbouwing' 'water']\n67 ['natura_gebieden' 'voortgang_natura' 'programmatische_aanpak' 'stikstof'\n 'natuurgebieden' 'mestbeleid' 'boeren' 'natura' 'generieke' 'natuur'\n 'waterkwaliteit' 'gebieden' 'landbouw_natuur' 'beheerplan'\n 'intensieve_veehouderij' 'ecologische_hoofdstructuur' 'natuurbeleid'\n 'kaderrichtlijn_water' 'significante' 'definitieve' 'kritische'\n 'duurzame_ontwikkeling' 'definitief' 'brabant' 'glb' 'agrarische_sector'\n 'aanwijzing' 'provincies' 'stallen' 'vergunningen' 'energielabel'\n 'waterveiligheid' 'behalen' 'gehaald' 'veehouderij' 'pfas'\n 'biodiversiteit' 'rondom' 'water' 'doelen' 'veestapel'\n 'snijder_hazelhoff' 'provincie' 'overschrijding' 'planbureau'\n 'herstelwet' 'landbouw' 'ruimtelijke' 'landbouwbeleid' 'state']\n35 ['glb' 'landbouwbeleid' 'boeren' 'pijler' 'landbouw' 'vergroening'\n 'visserijraad' 'agrarische_sector' 'biodiversiteit' 'betalingen'\n 'agrarische' 'snijder_hazelhoff' 'landbouw_natuur' 'natuurbeleid'\n 'innovatie' 'natuur' 'ecologische' 'herziening' 'europese_commissie'\n 'economische_zaken' 'lidstaten' 'europese' 'verduurzaming'\n 'voortgang_natura' 'hervorming' 'gewassen' 'ecologische_hoofdstructuur'\n 'ehs' 'behalen' 'directe' 'opgave' 'duurzaamheid' 'economische'\n 'ambitieuze' 'teelt' 'klimaat' 'voedingsbeleid' 'glyfosaat' 'landschap'\n 'mest' 'provincies' 'lnv' 'dierenwelzijn' 'nieuwe_visie'\n 'pensioenstelsel' 'natura_gebieden' 'doelstellingen'\n 'kaderrichtlijn_water' 'strategische' 'nationaal']\n231 ['bos' 'wereldwijd' 'biodiversiteit' 'ter_bescherming' 'natuur' 'aanleg'\n 'verkocht' 'worden_gebracht' 'economische_zaken' 'tien' 'landschap'\n 'staatsbosbeheer' 'natuurbeleid' 'initiatiefnota'\n 'ecologische_hoofdstructuur' 'verkopen' 'al_jaren' 'bevordering'\n 'ecologische' 'klimaat' 'behoud' 'notaoverleg' 'krijgsmacht'\n 'beleidsbrief' 'on' 'grootste' 'zes' 'ehs' 'europese_commissie'\n 'terreinen' 'ruimtelijke' 'toegezegd' 'glb' 'november' 'internationale'\n 'meerderheid' 'verkoop' 'hulp_handel' 'herstelwet' 'lidstaten' 'landbouw'\n 'waterveiligheid' 'kabinetsaanpak_klimaatbeleid' 'sde' 'kust'\n 'milieuraad' 'beschut_werk' 'mei_li' 'natuurgebieden' 'neergelegd']\n18 ['ecologische_hoofdstructuur' 'ehs' 'staatsbosbeheer' 'natuur'\n 'natuurgebieden' 'natuurbeleid' 'gronden' 'beheer' 'provincies'\n 'realisatie' 'decentralisatie' 'biodiversiteit' 'verkocht' 'robuuste'\n 'landschap' 'verkopen' 'economische_zaken' 'recreatie' 'ecologische'\n 'natura_gebieden' 'voortgang_natura' 'boeren' 'ipo' 'landbouw'\n 'landbouw_natuur' 'verkoop' 'oorspronkelijke' 'provincie' 'glb'\n 'herijking' 'tijdige' 'bestuursakkoord' 'gebieden' 'planbureau'\n 'friesland' 'bos' 'verslechtering' 'landbouwbeleid' 'structuurvisie'\n 'rijk' 'innovatie' 'structuur' 'groen' 'taakstelling' 'waterveiligheid'\n 'deltaprogramma' 'particulieren' 'regeerakkoord' 'ruimtelijke'\n 'waterkwaliteit']\n"
     ]
    }
   ],
   "source": [
    "for i in natuur_subtopics:\n",
    "    print(i, topic_words[i])"
   ]
  },
  {
   "cell_type": "code",
   "execution_count": 32,
   "metadata": {},
   "outputs": [],
   "source": []
  },
  {
   "cell_type": "code",
   "execution_count": 32,
   "metadata": {},
   "outputs": [],
   "source": [
    "doc_ids = list(range(len(documents)))\n",
    "topic_nums, topic_score, topic_words, word_scores = model.get_documents_topics(doc_ids,reduced=True)"
   ]
  },
  {
   "cell_type": "code",
   "execution_count": 33,
   "metadata": {},
   "outputs": [],
   "source": [
    "topics = {\n",
    "  0: 'Onderwijs',  \n",
    "  1: 'Buitenlandse zaken',  \n",
    "  2: 'Algemene zaken',  \n",
    "  3: 'Natuur & gaswinning',  \n",
    "  4: 'Landbouw & dierenwelzijn',  \n",
    "  5: 'Zorg',  \n",
    "  6: 'Sociale zaken',  \n",
    "  7: 'Justitie',  \n",
    "  8: 'Pensioenstelsel',  \n",
    "  9: 'Europese Unie',  \n",
    "  10: 'Klimaat & energie',  \n",
    "  11: 'Milieu & regelgeving',  \n",
    "  12: 'Zorg',  \n",
    "  13: 'Openbaar vervoer',  \n",
    "  14: 'Financiele sector',  \n",
    "  15: 'Wonen'\n",
    "  }\n",
    "\n",
    "doc_ids = list(range(len(documents)))\n",
    "topic_nums, topic_score, topic_words, word_scores = model.get_documents_topics(doc_ids,reduced=True)\n",
    "topic_names = [topics[t] for t in topic_nums]\n",
    "assert len(topic_nums) == len(df)\n",
    "df['Topic'] = topic_names\n",
    "topic_nums, topic_score, topic_words, word_scores = model.get_documents_topics(doc_ids,reduced=False)\n",
    "df['Topic_initial'] = topic_nums"
   ]
  },
  {
   "cell_type": "code",
   "execution_count": 34,
   "metadata": {},
   "outputs": [
    {
     "output_type": "execute_result",
     "data": {
      "text/plain": [
       "2009Z00479     61\n",
       "2009Z00488     61\n",
       "2009Z00489     61\n",
       "2009Z00490     61\n",
       "2009Z00483     54\n",
       "             ... \n",
       "2020Z25826     33\n",
       "2020Z25819    104\n",
       "2020Z25825    104\n",
       "2020Z25824    104\n",
       "2020Z25822     30\n",
       "Name: Topic_initial, Length: 29484, dtype: int32"
      ]
     },
     "metadata": {},
     "execution_count": 34
    }
   ],
   "source": [
    "df['Topic_initial']"
   ]
  },
  {
   "cell_type": "code",
   "execution_count": 35,
   "metadata": {},
   "outputs": [],
   "source": [
    "climate_subtopics = {128: 'Afhankelijkheid fossiele brandstoffen',\n",
    " 165: 'CO2 reductie',\n",
    " 5: 'Voldoen aan Parijs',\n",
    " 141: 'Electriciteit',\n",
    " 126: 'Groningen',\n",
    " 205: 'Zonnepanelen',\n",
    " 96: 'Energierekening betalen',\n",
    " 236: 'Biomassa',\n",
    " 105: 'Kolencentrales',\n",
    " 239: 'Windturbines - overlast',\n",
    " 29: 'Windturbines - subsidie'}"
   ]
  },
  {
   "cell_type": "code",
   "execution_count": 39,
   "metadata": {},
   "outputs": [],
   "source": [
    "df['Klimaat'] = df.loc[df['Topic']=='Klimaat & energie', 'Topic_initial'].map(climate_subtopics)"
   ]
  },
  {
   "cell_type": "code",
   "execution_count": null,
   "metadata": {},
   "outputs": [],
   "source": []
  },
  {
   "cell_type": "code",
   "execution_count": 40,
   "metadata": {},
   "outputs": [],
   "source": [
    "save(df[:1000], 'df_including_topics.pickle')\n",
    "save(df, 'df_including_topics_full.pickle')"
   ]
  },
  {
   "cell_type": "code",
   "execution_count": null,
   "metadata": {},
   "outputs": [],
   "source": []
  },
  {
   "cell_type": "code",
   "execution_count": 115,
   "metadata": {},
   "outputs": [
    {
     "output_type": "stream",
     "name": "stderr",
     "text": [
      "[nltk_data] Downloading package stopwords to\n[nltk_data]     C:\\Users\\Jesse\\AppData\\Roaming\\nltk_data...\n[nltk_data]   Package stopwords is already up-to-date!\n"
     ]
    }
   ],
   "source": [
    "from collections import Counter\n",
    "import nltk\n",
    "from nltk.corpus import stopwords\n",
    "nltk.download('stopwords')\n",
    "stop_words = stopwords.words('dutch')\n",
    "count = Counter([word for doc in sentence_stream for word in doc if word not in stop_words])\n",
    "WordCloud(width=600, height=400, background_color='yellow').generate_from_frequencies(count).to_file('wordcloud.png')"
   ]
  }
 ],
 "metadata": {
  "kernelspec": {
   "name": "python3",
   "display_name": "Python 3.7.3 64-bit (conda)",
   "metadata": {
    "interpreter": {
     "hash": "ecf5722fdaf1897a315d257d89d94520bfcaa453217d5becf09b39e73618b0de"
    }
   }
  },
  "language_info": {
   "codemirror_mode": {
    "name": "ipython",
    "version": 3
   },
   "file_extension": ".py",
   "mimetype": "text/x-python",
   "name": "python",
   "nbconvert_exporter": "python",
   "pygments_lexer": "ipython3",
   "version": "3.7.3-final"
  }
 },
 "nbformat": 4,
 "nbformat_minor": 4
}