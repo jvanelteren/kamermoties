{
 "cells": [
  {
   "cell_type": "code",
   "execution_count": 52,
   "metadata": {},
   "outputs": [],
   "source": [
    "from pathlib import Path\n",
    "from top2vec import Top2Vec\n",
    "import pickle\n",
    "import numpy as np\n",
    "\n",
    "from gensim.models import Phrases\n",
    "from gensim.models.phrases import Phraser\n",
    "from gensim.utils import simple_preprocess\n",
    "from gensim.parsing.preprocessing import strip_tags"
   ]
  },
  {
   "cell_type": "code",
   "execution_count": 53,
   "metadata": {},
   "outputs": [],
   "source": [
    "DATA_DIR = Path('./data')\n",
    "def load(filename):\n",
    "    f = open(DATA_DIR/filename,\"rb\")\n",
    "    return pickle.load(f)\n",
    "    \n",
    "def save(data, filename):\n",
    "    with open(DATA_DIR/filename, 'wb') as handle:\n",
    "        pickle.dump(data, handle, protocol=pickle.HIGHEST_PROTOCOL)"
   ]
  },
  {
   "cell_type": "code",
   "execution_count": 54,
   "metadata": {},
   "outputs": [],
   "source": [
    "def add_voor_tegen_index(df):\n",
    "    print(len(df))\n",
    "    stem_column = [c for c in df.columns if 'Stem_' in c and c != 'Stem_persoon']\n",
    "    stem_column_adj = [c[5:] for c in df.columns if 'Stem_' in c and c != 'Stem_persoon']\n",
    "    stem_array = df[stem_column].values.tolist()\n",
    "    assert len(stem_array[0]) == len(stem_column)\n",
    "    voor = [[stem_column_adj[i] for i, stem in enumerate(motie) if stem == 1] for motie in stem_array]\n",
    "    tegen = [[stem_column_adj[i] for i, stem in enumerate(motie) if stem == 0] for motie in stem_array]\n",
    "    df['Partijen_Voor'] = voor\n",
    "    df['Partijen_Tegen'] = tegen\n",
    "    df['Index']=list(range(len(df)))\n",
    "    return df"
   ]
  },
  {
   "cell_type": "code",
   "execution_count": 55,
   "metadata": {},
   "outputs": [],
   "source": [
    "def get_df():\n",
    "    file = open(\"moties_processed_df.pickle\",\"rb\")\n",
    "    df = pickle.load(file)\n",
    "    print('before removal empty texts',len(df))\n",
    "\n",
    "    # remove moties without text\n",
    "    mask = (df['Text']=='') | (df['Text'].isna())\n",
    "    df = df.loc[~mask]\n",
    "    print('after removal empty texts',len(df))\n",
    "\n",
    "    # df = df[df['Kabinet']=='Rutte IV']\n",
    "    print('after selecting latest cabinet', len(df))\n",
    "    df = add_voor_tegen_index(df)\n",
    "    df['BesluitTekst'] = df['BesluitTekst'].str.replace('.','')\n",
    "    return df, df['ClippedText'].values"
   ]
  },
  {
   "cell_type": "code",
   "execution_count": null,
   "metadata": {},
   "outputs": [],
   "source": []
  },
  {
   "cell_type": "markdown",
   "metadata": {},
   "source": [
    "## Model Training"
   ]
  },
  {
   "cell_type": "code",
   "execution_count": 56,
   "metadata": {},
   "outputs": [
    {
     "name": "stdout",
     "output_type": "stream",
     "text": [
      "before removal empty texts 39245\n",
      "after removal empty texts 39244\n",
      "after selecting latest cabinet 39244\n",
      "39244\n"
     ]
    }
   ],
   "source": [
    "df, documents = get_df()\n",
    "# got the code for making the bigram part from https://lppier.github.io/\n",
    "sentence_stream = [simple_preprocess(strip_tags(doc), deacc=True) for doc in documents]\n",
    "bigram = Phrases(sentence_stream, min_count=30)\n",
    "bigram_phraser = Phraser(bigram)\n",
    "\n",
    "indieners = {indiener[-1].lower() for indiener in df['Indiener_persoon'].str.split() if indiener}\n",
    "years = {word for doc in sentence_stream for word in doc if word.startswith('x') and not word.startswith('xin')}\n",
    "manual_stopwords = {'faber', 'lacin', 'kroger', 'iv', 'beschikt', 'die', 'vaststelling', 'lid','vi', 'viii', 'iii', 'iv', 'ii', 'i', 'kamer', 'regering tevens', 'regering', 'gehoord','beraadslaging', 'overweegt', 'overwegende', \"gehoord\",\"regering\",\"gesproken\",\"horen\",\"mondkapjes\",\"spreken\",\"regeringen\",\"gesprekken\",\"commissiedebat\",\"discussies\",\"discussie\",\"hoort\",\"regeringsbeleid\",\"besprekingen\",\"overheden\",\"overheid\",\"overheids\",\"overheidsbeleid\",\"gesprek\",\"zeggen\",\"dialoog\",\"geluid\",\"uitspreekt\",\"bureaucratische\",\"spreekt\",\"openbare\",\"audiovisuele\",\"gehoor\",\"bestuursakkoord\",\"stil\",\"minuten\",\"parlement\",\"parlementen\",\"officieel\",\"bureaucratie\",\"democratie\",\"officiele\",\"batenanalyse\",\"parlementair\",\"begrotings\",\"governance\",\"democratische\",\"budgetrecht\",\"democratisch\",\"kabinetsreactie\",\"belastingplan\",\"wetsvoorstellen\",\"wetsvoorstel\",\"thema\",\"dicht\",\"risicoanalyse\",\"bestuursrecht\",\"bestuursorganen\",\"european\",\"nederlandsche\",\"europees\",\"nederlandse\",\"europa\",\"nederlanden\",\"eurogroep\",\"nederlander\",\"nederland\",\"holland\",\"hogescholen\",\"nederlands\",\"taal\",\"no\",\"kinder\",\"po\",\"nee\",\"verzoek\",\"verzoeken\",\"gevraagde\",\"gevraagd\",\"aangevraagd\",\"verzoekt\",\"europese\",\"eurozone\",\"claims\",\"euro\",\"eurocommissaris\",\"vergunning\",\"instemming\",\"educatieve\",\"eisen\",\"voorstel\",\"aanvrager\",\"afgewezen\",\"toepassing\",\"voorstelt\",\"aanvragen\",\"vereist\",\"werkloosheid\",\"energietoeslag\",\"ongewenste\",\"aanvraag\",\"behoefte\",\"for\",\"voorgesteld\",\"weigert\",\"automatisch\",\"wachten\",\"binnenkort\",\"graag\",\"gat\",\"dji\",\"mond\",\"non\",\"imago\",\"toch\",\"makkelijk\",\"gestuurd\",\"onmogelijk\",\"nu\",\"pas\",\"gemakkelijk\",\"co\",\"eenvoudig\",\"dende\",\"natuurlijk\",\"vervolg\",\"uitzetten\",\"zeker\",\"opriep\",\"budgettaire\",\"fiscale\",\"gefinancierde\",\"financieel\",\"gefinancierd\",\"duizenden\",\"financiele\",\"financierings\",\"ongekend\",\"whw\",\"ja\",\"nertsen\",\"zo\",\"inderdaad\",\"gevaarlijk\",\"budget\",\"begrotingen\",\"budgetten\",\"begroting\",\"overgebleven\",\"uitgaven\",\"kostenbesparing\",\"subsidies\",\"overtreden\",\"overtreding\",\"onverminderd\",\"overtredingen\",\"weren\",\"obstakels\",\"afgeschaft\",\"thans\",\"rulings\",\"uitsluiting\",\"subsidieren\",\"over\",\"reduceren\",\"overschrijden\",\"onwenselijk\",\"hinder\",\"to\",\"preventief\",\"overschrijding\",\"beperking\",\"overtuiging\",\"voorkomen\",\"bestedingen\",\"promoten\",\"sanctie\",\"verhinderen\",\"nr\",\"je\",\"leeftijdsgrens\",\"kleinere\",\"wel\",\"nibud\",\"niet\",\"novi\"}\n",
    "                    \n",
    "stopwords = indieners | years | manual_stopwords\n",
    "\n",
    "\n",
    "def bigram_stopword_preprocess(doc):\n",
    "    sentence_stream = simple_preprocess(strip_tags(doc), deacc=True)\n",
    "    sentence_stream = [word for word in sentence_stream if word not in stopwords]\n",
    "    return sentence_stream\n",
    "    # return bigram_phraser[sentence_stream]"
   ]
  },
  {
   "cell_type": "code",
   "execution_count": 57,
   "metadata": {},
   "outputs": [
    {
     "data": {
      "text/plain": [
       "Kamer\n",
       "Rutte III        12178\n",
       "Rutte II         10761\n",
       "Rutte IV          9007\n",
       "Rutte I           4766\n",
       "Balkenende IV     2532\n",
       "Name: count, dtype: int64"
      ]
     },
     "execution_count": 57,
     "metadata": {},
     "output_type": "execute_result"
    }
   ],
   "source": [
    "df['Kamer'].value_counts()"
   ]
  },
  {
   "cell_type": "code",
   "execution_count": 58,
   "metadata": {},
   "outputs": [
    {
     "name": "stderr",
     "output_type": "stream",
     "text": [
      "2023-08-05 21:17:49,240 - top2vec - INFO - Pre-processing documents for training\n"
     ]
    },
    {
     "name": "stderr",
     "output_type": "stream",
     "text": [
      "d:\\Programmeren\\adventofcode\\.aocenvpy311\\Lib\\site-packages\\sklearn\\feature_extraction\\text.py:525: UserWarning: The parameter 'token_pattern' will not be used since 'tokenizer' is not None'\n",
      "  warnings.warn(\n",
      "2023-08-05 21:17:59,557 - top2vec - INFO - Downloading distiluse-base-multilingual-cased model\n",
      "2023-08-05 21:18:01,250 - top2vec - INFO - Creating joint document/word embedding\n",
      "2023-08-05 21:50:53,591 - top2vec - INFO - Creating lower dimension embedding of documents\n",
      "2023-08-05 21:51:17,621 - top2vec - INFO - Finding dense areas of documents\n",
      "2023-08-05 21:51:20,212 - top2vec - INFO - Finding topics\n"
     ]
    }
   ],
   "source": [
    "# https://github.com/scikit-learn-contrib/hdbscan/issues/607\n",
    "df = df[df['Kamer']  == 'Rutte IV']\n",
    "model = Top2Vec(documents, speed='deep-learn', embedding_model='distiluse-base-multilingual-cased',workers=8, min_count=20, tokenizer=bigram_stopword_preprocess, ngram_vocab=False)\n",
    "model.get_num_topics()\n",
    "model.save(\"data/doc2vec_deep_bigram_enhanced_stopwords_rutteIV\")\n",
    "model.save(\"data/doc2vec_deep_bigram_enhanced_stopwords_all\")"
   ]
  },
  {
   "cell_type": "markdown",
   "metadata": {},
   "source": [
    "## Reduce topic number to something more manageable"
   ]
  },
  {
   "cell_type": "code",
   "execution_count": 59,
   "metadata": {},
   "outputs": [
    {
     "name": "stdout",
     "output_type": "stream",
     "text": [
      "before removal empty texts 39245\n",
      "after removal empty texts 39244\n",
      "after selecting latest cabinet 39244\n",
      "39244\n"
     ]
    }
   ],
   "source": [
    "# For the manual analysis it's necessary to reduce the amount of topics, otherwise you will have 50 or so topics to investigate\n",
    "\n",
    "df, documents = get_df()\n",
    "model = Top2Vec.load(\"data/doc2vec_deep_bigram_enhanced_stopwords_rutteIV\")"
   ]
  },
  {
   "cell_type": "code",
   "execution_count": 60,
   "metadata": {},
   "outputs": [
    {
     "name": "stdout",
     "output_type": "stream",
     "text": [
      "170 topics. In total there are 39244 documents. These are the amount of documents per topic:\n",
      "[2071 1275 1247  934  933  926  701  686  684  676  640  585  564  564\n",
      "  555  554  531  516  488  472  466  438  422  417  414  406  404  391\n",
      "  389  385  381  375  367  350  338  334  324  315  312  310  287  287\n",
      "  286  283  274  273  272  271  269  266  261  255  228  226  226  225\n",
      "  223  220  219  217  217  215  212  203  203  198  192  190  180  178\n",
      "  176  175  173  171  165  164  163  157  157  157  154  152  147  145\n",
      "  140  138  138  137  136  134  130  128  128  128  128  127  127  125\n",
      "  120  118  117  116  116  113  111  108  107  106  102   98   98   93\n",
      "   93   93   92   91   91   84   84   84   83   82   80   79   78   78\n",
      "   77   74   73   72   68   67   67   66   65   64   62   62   61   61\n",
      "   60   57   54   53   53   52   50   50   49   48   48   47   47   46\n",
      "   45   44   40   40   40   39   38   36   35   35   35   33   32   30\n",
      "   30   28]\n"
     ]
    }
   ],
   "source": [
    "topic_sizes, topic_nums = model.get_topic_sizes()\n",
    "print(f'{len(topic_nums)} topics. In total there are {sum(topic_sizes)} documents. These are the amount of documents per topic:\\n{topic_sizes}')"
   ]
  },
  {
   "cell_type": "code",
   "execution_count": 61,
   "metadata": {},
   "outputs": [
    {
     "name": "stdout",
     "output_type": "stream",
     "text": [
      "performing reduction to 19 topics\n",
      "performing reduction to 18 topics\n",
      "performing reduction to 17 topics\n",
      "performing reduction to 16 topics\n",
      "performing reduction to 15 topics\n",
      "19\n",
      "\n",
      "inspecting difference from 19 to 18 topics\n",
      "old topics\n",
      "['rechtsstaat' 'wetswijzigingen' 'legale' 'overgangsrecht' 'juridische'\n",
      " 'mijnbouwwet' 'wettelijk' 'grondwettelijke' 'juridisch' 'grondwet'\n",
      " 'wetboek' 'verblijfsrecht' 'omgevingsrecht' 'oorlogsrecht' 'illegaal'\n",
      " 'wettelijke' 'constitutionele' 'rechtspositie' 'kiesrecht' 'wetten'\n",
      " 'legaal' 'legaliseren' 'jurisprudentie' 'herstelrecht' 'advocatuur'\n",
      " 'barendrecht' 'makkelijk' 'advocaat' 'trekkingsrecht' 'rechtsorde'\n",
      " 'adviesrecht' 'rechtszekerheid' 'imams' 'gerechtshof' 'gerechtelijke'\n",
      " 'gemeentewet' 'wetswijziging' 'hof' 'eenvoudig' 'gereguleerd'\n",
      " 'gemakkelijk' 'reguleren' 'geleden' 'regelgeving' 'nu' 'onmogelijk'\n",
      " 'meteen' 'imago' 'terecht' 'rechts']\n",
      "['januari' 'maanden' 'maandelijkse' 'november' 'maand' 'april'\n",
      " 'maandelijks' 'kalenderjaar' 'december' 'juni' 'juli' 'februari'\n",
      " 'oktober' 'september' 'augustus' 'halfjaar' 'maart' 'maarten'\n",
      " 'halfjaarlijks' 'datum' 'jaarverslag' 'einddatum' 'jaarverslagen'\n",
      " 'jaarlijks' 'langzaam' 'voorjaar' 'quick' 'jaarlijkse' 'spoedig' 'laat'\n",
      " 'snel' 'zomer' 'brzo' 'spoedige' 'snelle' 'deadline' 'kortst' 'straks'\n",
      " 'datacenters' 'imams' 'jaar' 'klaar' 'zodra' 'mond' 'studiejaar'\n",
      " 'voorjaarsnota' 'vertragingen' 'korte' 'tevoren' 'database']\n",
      "new topic\n",
      "['wetswijzigingen' 'rechtsstaat' 'legale' 'overgangsrecht' 'mijnbouwwet'\n",
      " 'imams' 'makkelijk' 'grondwettelijke' 'straks' 'juridische' 'grondwet'\n",
      " 'laat' 'meteen' 'imago' 'brzo' 'snelle' 'wetboek' 'nu' 'toch' 'snel'\n",
      " 'gemakkelijk' 'geleden' 'quick' 'eenvoudig' 'spoedig' 'ongekend'\n",
      " 'constitutionele' 'non' 'inmiddels' 'onmogelijk' 'wettelijk' 'klaar' 'zo'\n",
      " 'teneinde' 'natuurlijk' 'illegaal' 'goed' 'zodra' 'mooie' 'ja' 'langzaam'\n",
      " 'dende' 'barendrecht' 'mond' 'vervolg' 'tenzij' 'terecht' 'zeker'\n",
      " 'legaliseren' 'je']\n",
      "18\n",
      "\n",
      "inspecting difference from 18 to 17 topics\n",
      "old topics\n",
      "['landbouwbeleid' 'landbouwakkoord' 'landbouwsector' 'milieubeheer'\n",
      " 'dierenwelzijn' 'landbouw' 'natuurbeheer' 'landbouwgronden' 'ecologische'\n",
      " 'ecosysteem' 'landbouwgrond' 'dierenleed' 'ecologisch' 'natuurbeleid'\n",
      " 'biodiversiteit' 'ecosystemen' 'dieren' 'biomassa' 'natuurgebieden'\n",
      " 'natuurgebied' 'boeren' 'afvalbeheerplan' 'milieuraad' 'fauna'\n",
      " 'biologisch' 'milieuwinst' 'boerenbedrijven' 'koeien' 'biologische'\n",
      " 'milieueffecten' 'vleeskuikens' 'huisdieren' 'tuinbouw' 'schapen'\n",
      " 'biobrandstoffen' 'milieuschade' 'dierenartsen' 'dierlijke'\n",
      " 'biobrandstof' 'omgevingsrecht' 'vlees' 'natuurwaarden' 'natuurlijke'\n",
      " 'biociden' 'dierrechten' 'klimaatbeleid' 'mond' 'natuurherstel'\n",
      " 'agrariers' 'omgevingswet']\n",
      "['waterbeheer' 'waterveiligheid' 'hervatten' 'handvatten' 'waterkwaliteit'\n",
      " 'grondwater' 'drinkwater' 'afvalwater' 'waterschappen' 'onderzeeboten'\n",
      " 'visserijbeleid' 'waterstaat' 'zeeschepen' 'rijkswaterstaat'\n",
      " 'luchtwassers' 'water' 'veehouderijen' 'sea' 'zee' 'noordzeeakkoord'\n",
      " 'veestapel' 'wateren' 'visserijraad' 'visserijsector' 'vissen'\n",
      " 'afvalbeheerplan' 'waterstof' 'milieubeheer' 'schepen' 'maritieme'\n",
      " 'visserij' 'wetgeving' 'natuurbeheer' 'maritiem' 'marine' 'mond'\n",
      " 'belemmeren' 'natuurbeleid' 'veehouderij' 'schip' 'waddenzee' 'vissers'\n",
      " 'veehouders' 'leidingen' 'vee' 'gestuurd' 'noordzee' 'zoutwinning'\n",
      " 'zeeuwse' 'tekst']\n",
      "new topic\n",
      "['milieubeheer' 'natuurbeheer' 'landbouwbeleid' 'ecologische'\n",
      " 'landbouwakkoord' 'landbouwsector' 'natuurbeleid' 'ecosysteem'\n",
      " 'ecologisch' 'afvalbeheerplan' 'ecosystemen' 'landbouw' 'landbouwgronden'\n",
      " 'biodiversiteit' 'dierenwelzijn' 'natuurgebieden' 'landbouwgrond'\n",
      " 'natuurgebied' 'milieuraad' 'visserijbeleid' 'biomassa' 'dierenleed'\n",
      " 'dieren' 'milieueffecten' 'milieuwinst' 'milieuschade' 'biologisch'\n",
      " 'visserijsector' 'fauna' 'mond' 'klimaatbeleid' 'omgevingsrecht'\n",
      " 'natuurwaarden' 'boeren' 'biologische' 'natuurlijke' 'gestuurd'\n",
      " 'omgevingswet' 'waterbeheer' 'natuurherstel' 'klimaatakkoord'\n",
      " 'biobrandstoffen' 'tuinbouw' 'biobrandstof' 'natuur' 'vervuiling' 'imams'\n",
      " 'huisdieren' 'jaarverslag' 'biociden']\n",
      "17\n",
      "\n",
      "inspecting difference from 17 to 16 topics\n",
      "old topics\n",
      "['wetswijzigingen' 'rechtsstaat' 'legale' 'overgangsrecht' 'mijnbouwwet'\n",
      " 'imams' 'makkelijk' 'grondwettelijke' 'straks' 'juridische' 'grondwet'\n",
      " 'meteen' 'laat' 'imago' 'brzo' 'snelle' 'wetboek' 'toch' 'nu' 'geleden'\n",
      " 'snel' 'gemakkelijk' 'quick' 'spoedig' 'eenvoudig' 'ongekend' 'inmiddels'\n",
      " 'constitutionele' 'non' 'klaar' 'onmogelijk' 'zo' 'wettelijk' 'teneinde'\n",
      " 'natuurlijk' 'goed' 'zodra' 'mooie' 'illegaal' 'ja' 'langzaam' 'dende'\n",
      " 'barendrecht' 'mond' 'tenzij' 'vervolg' 'terecht' 'zeker' 'legaliseren'\n",
      " 'je']\n",
      "['onderzoeksraad' 'adviescommissie' 'veiligheidsraad' 'comite' 'makkelijk'\n",
      " 'kijken' 'minister' 'ver' 'adviseerde' 'ongekend' 'gekeken' 'kijkt'\n",
      " 'mond' 'gemakkelijk' 'sleutelrol' 'gestuurd' 'bus' 'suggestie' 'drukke'\n",
      " 'nu' 'ministeriele' 'imams' 'vindt' 'non' 'open' 'openlijk' 'kop' 'toch'\n",
      " 'veilig' 'onveilig' 'btw' 'zoek' 'ziet' 'hbo' 'aanbeveling' 'vervolg'\n",
      " 'whw' 'ministerie' 'lijken' 'bezette' 'uitzetten' 'brzo' 'bibliotheek'\n",
      " 'verzamelen' 'jaarverslag' 'goed' 'opriep' 'zoeken' 'tweemaal' 'imago']\n",
      "new topic\n",
      "['makkelijk' 'imams' 'straks' 'brzo' 'gemakkelijk' 'nu' 'toch' 'ongekend'\n",
      " 'imago' 'quick' 'meteen' 'laat' 'snel' 'snelle' 'geleden' 'non' 'mond'\n",
      " 'goed' 'zo' 'eenvoudig' 'klaar' 'natuurlijk' 'vervolg' 'spoedig'\n",
      " 'openlijk' 'ja' 'inmiddels' 'comite' 'dende' 'drukke' 'onmogelijk'\n",
      " 'teneinde' 'zodra' 'tenzij' 'geacht' 'teniet' 'zeker' 'btw' 'apk' 'mooie'\n",
      " 'gestuurd' 'nertsen' 'schone' 'opriep' 'zitten' 'hbo' 'uitzetten' 'dak'\n",
      " 'pas' 'vorig']\n",
      "16\n",
      "\n",
      "inspecting difference from 16 to 15 topics\n",
      "old topics\n",
      "['belastingen' 'belastingdienst' 'tax' 'belastingdruk' 'fiscaal'\n",
      " 'economisch' 'belastinggeld' 'winstbelasting' 'economische' 'belasting'\n",
      " 'fiscaliteit' 'kenniseconomie' 'economic' 'vliegbelasting' 'economie'\n",
      " 'begrotingsbehan' 'fiscale' 'begrotingssteun' 'accijnzen' 'groente'\n",
      " 'rijksbegroting' 'groenten' 'mond' 'makkelijk' 'gemakkelijk' 'accijns'\n",
      " 'imams' 'kleinbedrijf' 'budgettaire' 'kleine' 'non' 'eenvoudig'\n",
      " 'eenvoudiger' 'onmogelijk' 'nertsen' 'hbo' 'mondkapje' 'taxi' 'econo'\n",
      " 'imago' 'ver' 'co' 'nu' 'kelijk' 'ziet' 'toch' 'whw' 'pas' 'eenvoudige'\n",
      " 'kleinschalig']\n",
      "['cofinanciering' 'gefinancierde' 'financieel' 'gefinancierd'\n",
      " 'financierings' 'financiele' 'bank' 'financien' 'financiering'\n",
      " 'financieren' 'financie' 'financiers' 'banken' 'waarborgfonds'\n",
      " 'kredietcrisis' 'bancaire' 'begrotingssteun' 'wereldbank'\n",
      " 'begrotingsbehan' 'bankenunie' 'krediet' 'voedselbanken' 'rijksbegroting'\n",
      " 'herstelfonds' 'databank' 'budgettaire' 'kredieten' 'waddenfonds'\n",
      " 'schadefonds' 'leningen' 'geldstromen' 'fondsen' 'groeifonds' 'makkelijk'\n",
      " 'fonds' 'macrobudget' 'monetaire' 'hypotheek' 'begrotingen' 'cookies'\n",
      " 'pensioenfondsen' 'hypotheken' 'pensioenfonds' 'onmogelijk' 'noodfonds'\n",
      " 'ver' 'deltafonds' 'budgethouders' 'gemeentefonds' 'gemakkelijk']\n",
      "new topic\n",
      "['begrotingssteun' 'begrotingsbehan' 'rijksbegroting' 'cofinanciering'\n",
      " 'belastinggeld' 'budgettaire' 'fiscale' 'makkelijk' 'belastingdienst'\n",
      " 'financieel' 'fiscaal' 'mond' 'gefinancierde' 'kredietcrisis'\n",
      " 'gemakkelijk' 'belastingen' 'onmogelijk' 'belastingdruk' 'eenvoudig'\n",
      " 'imams' 'ver' 'fiscaliteit' 'kenniseconomie' 'non' 'eenvoudiger'\n",
      " 'economisch' 'hbo' 'nu' 'tax' 'imago' 'whw' 'financiele' 'economische'\n",
      " 'toch' 'eenvoudige' 'ziet' 'kleine' 'mondkapje' 'nertsen' 'co'\n",
      " 'macrobudget' 'makkelijker' 'financierings' 'gefinancierd' 'financiers'\n",
      " 'bank' 'pas' 'geen' 'kijken' 'gemakkelijker']\n"
     ]
    }
   ],
   "source": [
    "# helper to check what happens if you reduce topics\n",
    "def get_reduced_topics(num_topics):\n",
    "    print(f'performing reduction to {num_topics} topics')\n",
    "    reduced_topics = model.hierarchical_topic_reduction(num_topics)\n",
    "    topic_words, word_scores, topic_nums = model.get_topics(reduced=True)\n",
    "    reduced_topics = tuple(tuple(sorted(t)) for t in reduced_topics)\n",
    "    return reduced_topics, topic_words\n",
    "\n",
    "def find_diff(reduced1, reduced2, reverse=False):\n",
    "    # find the topics that where merged and return their index\n",
    "    if not reverse:\n",
    "        changed = set(reduced1) - set(reduced2)\n",
    "        return [index for index, topic in enumerate(reduced1) if topic in changed]\n",
    "    else:\n",
    "        changed = set(reduced2) - set(reduced1)\n",
    "        return [index for index, topic in enumerate(reduced2) if topic in changed]\n",
    "\n",
    "\n",
    "def print_merge(large, small, num_words=50):\n",
    "    print(f'\\ninspecting difference from {len(large[0])} to {len(small[0])} topics')\n",
    "    print('old topics')\n",
    "    for i in find_diff(large[0],small[0]):\n",
    "        print(large[1][i][:num_words])\n",
    "    print('new topic')\n",
    "    for i in find_diff(large[0],small[0], reverse=True):\n",
    "        print(small[1][i][:num_words])\n",
    "\n",
    "def find_optimal_num_topics(minn, maxx):\n",
    "    start = minn\n",
    "    stop = maxx\n",
    "    reductions = {i: get_reduced_topics(i) for i in range(start, stop, -1)}\n",
    "    for i in range(start, stop +1,-1):\n",
    "        print(i)\n",
    "        print_merge(reductions[i], reductions[i-1])\n",
    "find_optimal_num_topics(19,14)"
   ]
  },
  {
   "cell_type": "code",
   "execution_count": 62,
   "metadata": {},
   "outputs": [],
   "source": [
    "# Make a choice to how many topics to reduce\n",
    "num_topics = 14\n",
    "reduced_topics = model.hierarchical_topic_reduction(num_topics)\n"
   ]
  },
  {
   "cell_type": "code",
   "execution_count": 63,
   "metadata": {},
   "outputs": [
    {
     "name": "stdout",
     "output_type": "stream",
     "text": [
      "['makkelijk' 'imams' 'straks' 'gemakkelijk' 'nu' 'brzo' 'toch' 'ongekend'\n",
      " 'imago' 'meteen' 'laat' 'quick' 'geleden' 'snel' 'snelle' 'non' 'mond'\n",
      " 'goed' 'zo' 'eenvoudig' 'klaar' 'natuurlijk' 'vervolg' 'openlijk' 'ja'\n",
      " 'inmiddels' 'spoedig' 'comite' 'dende' 'teneinde' 'drukke' 'tenzij'\n",
      " 'zodra' 'onmogelijk' 'geacht' 'teniet' 'zeker' 'btw' 'apk' 'mooie'\n",
      " 'schone' 'gestuurd' 'hbo' 'nertsen' 'opriep' 'uitzetten' 'zitten' 'pas'\n",
      " 'dak' 'vindt']\n",
      "['milieubeheer' 'natuurbeheer' 'landbouwbeleid' 'ecologische'\n",
      " 'landbouwakkoord' 'landbouwsector' 'ecosysteem' 'natuurbeleid'\n",
      " 'ecologisch' 'afvalbeheerplan' 'ecosystemen' 'landbouw' 'landbouwgronden'\n",
      " 'biodiversiteit' 'dierenwelzijn' 'landbouwgrond' 'natuurgebieden'\n",
      " 'natuurgebied' 'milieuraad' 'biomassa' 'visserijbeleid' 'dierenleed'\n",
      " 'milieueffecten' 'dieren' 'milieuwinst' 'milieuschade' 'biologisch'\n",
      " 'mond' 'visserijsector' 'omgevingsrecht' 'fauna' 'klimaatbeleid'\n",
      " 'gestuurd' 'boeren' 'natuurwaarden' 'omgevingswet' 'biologische'\n",
      " 'natuurlijke' 'klimaatakkoord' 'waterbeheer' 'biobrandstoffen'\n",
      " 'natuurherstel' 'tuinbouw' 'vervuiling' 'imams' 'biobrandstof'\n",
      " 'jaarverslag' 'natuur' 'mondkapje' 'non']\n",
      "['politiebureaus' 'polis' 'politieacademie' 'politieagenten' 'politie'\n",
      " 'politiemensen' 'strafrechtketen' 'cybersecurity' 'illegaal' 'veilig'\n",
      " 'bestraffen' 'preventiebeleid' 'imams' 'sanctiebeleid' 'veiligheid'\n",
      " 'strafrechtelijk' 'non' 'illegale' 'veiligheids' 'duizenden' 'ongekend'\n",
      " 'imago' 'cop' 'illegaliteit' 'brandveiligheid' 'mond' 'dende' 'onveilig'\n",
      " 'criminaliteit' 'makkelijk' 'onmogelijk' 'nu' 'gevaarlijk' 'vervolg'\n",
      " 'zeker' 'toch' 'veilige' 'opriep' 'veiligheidsraad' 'inderdaad' 'pas'\n",
      " 'tienduizenden' 'legaliseren' 'tweemaal' 'onveiligheid' 'gevangenisstraf'\n",
      " 'waarschuwen' 'natuurlijk' 'uitzetten' 'beschermde']\n",
      "['minimumloon' 'pensioenstelsel' 'pensioenopbouw' 'arbeidsmigratie'\n",
      " 'pensioenakkoord' 'werklozen' 'werkloos' 'gepensioneerden'\n",
      " 'pensioenfondsen' 'pensioenfonds' 'werkgelegenheid' 'werkloze'\n",
      " 'pensioenen' 'arbeidsmarkt' 'arbeidskrachten' 'arbeidscontract'\n",
      " 'arbeidsplaatsen' 'werkgeverschap' 'arbeidsrechten' 'huurverhogingen'\n",
      " 'werknemers' 'werkgevers' 'pensioen' 'mond' 'werkgever' 'inkomensgroepen'\n",
      " 'middeninkomens' 'werknemer' 'imams' 'imago' 'banenafspraak'\n",
      " 'rijksbegroting' 'salarissen' 'werkers' 'inkomensgrens' 'oude' 'werkt'\n",
      " 'werkgroep' 'ouderen' 'whw' 'non' 'hbo' 'salaris' 'werkgele' 'co'\n",
      " 'arbeidsvoor' 'huurverhoging' 'toch' 'begrotingssteun' 'werkzoekenden']\n",
      "['begrotingssteun' 'begrotingsbehan' 'rijksbegroting' 'cofinanciering'\n",
      " 'belastinggeld' 'budgettaire' 'makkelijk' 'fiscale' 'mond'\n",
      " 'belastingdienst' 'financieel' 'gemakkelijk' 'fiscaal' 'gefinancierde'\n",
      " 'kredietcrisis' 'belastingen' 'onmogelijk' 'eenvoudig' 'imams'\n",
      " 'belastingdruk' 'ver' 'kenniseconomie' 'non' 'fiscaliteit' 'eenvoudiger'\n",
      " 'economisch' 'hbo' 'nu' 'imago' 'whw' 'toch' 'tax' 'economische'\n",
      " 'eenvoudige' 'nertsen' 'kleine' 'financiele' 'mondkapje' 'ziet' 'co'\n",
      " 'makkelijker' 'macrobudget' 'pas' 'geen' 'gefinancierd' 'financierings'\n",
      " 'kijken' 'gemakkelijker' 'financiers' 'opriep']\n",
      "['ziekenhuizen' 'verpleeghuizen' 'ziekenhuiszorg' 'gezondheidszorg'\n",
      " 'medische' 'verpleeghuis' 'medisch' 'ziekenhuis' 'kliniek' 'klinieken'\n",
      " 'zorgverzekeraar' 'verpleeg' 'zorgpersoneel' 'klinische' 'zorgkosten'\n",
      " 'zorgautoriteit' 'geneeskunde' 'gezondheidsraad' 'zorgverzekering'\n",
      " 'huisartsenzorg' 'artsen' 'volksgezondheid' 'ambulance' 'coronapatienten'\n",
      " 'ambulancezorg' 'zorgstelsel' 'vaccinatiegraad' 'farmaceutische'\n",
      " 'medicijnresten' 'huisartsen' 'dr' 'medicijn' 'medicatie' 'gezondheid'\n",
      " 'gezondheids' 'huisarts' 'medicinale' 'zorgverzeke' 'zorgmedewerkers'\n",
      " 'vaccineren' 'vaccins' 'vaccinatie' 'zorg' 'health' 'vaccinaties'\n",
      " 'vaccin' 'zorgsector' 'gezonde' 'gezond' 'gestuurd']\n",
      "['gemeentelijk' 'gemeentelijke' 'gemeentefonds' 'regionaal'\n",
      " 'verstedelijking' 'regionale' 'gemeentes' 'bouwplannen' 'gemeente'\n",
      " 'gemeentewet' 'bovenregionaal' 'gemeenteraad' 'provincies' 'provinciale'\n",
      " 'gemeenten' 'bouwbesluit' 'stedelijk' 'gemeenteraden' 'gemeenschappen'\n",
      " 'afvalbeheerplan' 'stedelijke' 'provinciaal' 'lokale' 'mond'\n",
      " 'plaatselijke' 'zones' 'regio' 'zone' 'provinciefonds' 'woningbouw'\n",
      " 'onmogelijk' 'grensregio' 'bouwprojecten' 'infrastructuur'\n",
      " 'sectorplannen' 'krimpgebieden' 'gebieden' 'gestuurd' 'stad' 'dorp' 'hbo'\n",
      " 'speelveld' 'burgemeesters' 'provincie' 'groningenveld' 'wederopbouw'\n",
      " 'burgemeester' 'installatie' 'bouwen' 'imams']\n",
      "['rijksbegroting' 'budget' 'begrotingsbehan' 'budgettaire' 'begrotingen'\n",
      " 'budgetten' 'begroting' 'begrotingssteun' 'budgettair' 'macrobudget'\n",
      " 'budgethouders' 'uitgaven' 'kostenbesparing' 'bestedingen'\n",
      " 'kostendekkende' 'miljoen' 'miljard' 'miljoenennota' 'miljarden'\n",
      " 'kostendekkend' 'miljoenen' 'zorguitgaven' 'mln' 'kosteneffectief'\n",
      " 'energiekosten' 'fiscale' 'huizenprijzen' 'meerkosten' 'gefinancierde'\n",
      " 'zorgkosten' 'goedkope' 'gefinancierd' 'frictiekosten' 'financieel'\n",
      " 'bekostiging' 'herstelfonds' 'bekostigen' 'goedkoop' 'goedkoper' 'kosten'\n",
      " 'financien' 'financierings' 'duizenden' 'financie' 'financiele' 'duurder'\n",
      " 'financiering' 'bekostigd' 'belastinggeld' 'tienduizenden']\n",
      "['onderwijsaanbod' 'onderwijsgeld' 'onderwijsveld' 'basisonderwijs'\n",
      " 'basisscholen' 'schoolbesturen' 'scholen' 'onderwijs' 'onderwijsraad'\n",
      " 'onderwijstijd' 'educatie' 'pedagogische' 'schoolpleinen' 'basisschool'\n",
      " 'pedagogisch' 'school' 'hogeschool' 'schoolleiders' 'schooladvies'\n",
      " 'leerwerkplekken' 'collegegeld' 'scholieren' 'schooljaar' 'colleges'\n",
      " 'afgestudeerden' 'flexstuderen' 'opleiding' 'opleidingen' 'curriculum'\n",
      " 'opleidings' 'lerarenregister' 'docenten' 'politieacademie'\n",
      " 'universiteiten' 'universiteit' 'universitair' 'leerkrachten'\n",
      " 'leerlingen' 'rekenonderwijs' 'college' 'leraren' 'studenten' 'leraar'\n",
      " 'universitaire' 'klassen' 'scholing' 'studiejaar' 'opgeleide'\n",
      " 'studieschuld' 'leerplicht']\n",
      "['immigratie' 'migranten' 'buitengrenzen' 'migratiebeleid' 'vluchtelingen'\n",
      " 'paspoorten' 'paspoort' 'vluchteling' 'geimporteerd' 'wapenexport'\n",
      " 'immigranten' 'migratiepact' 'buitenlands' 'buitenland' 'buitenlandse'\n",
      " 'internationaal' 'international' 'export' 'exporteren' 'arbeidsmigratie'\n",
      " 'geexporteerd' 'migratie' 'internationale' 'grensbewaking'\n",
      " 'multinationale' 'multinationals' 'ambassades' 'import' 'verwijderen'\n",
      " 'ambassade' 'islamisering' 'externe' 'illegalen' 'uitzetten'\n",
      " 'diplomatieke' 'veilig' 'makkelijk' 'verdwijnt' 'eenvoudig' 'externen'\n",
      " 'nationaliteit' 'multilateraal' 'multilaterale' 'extern' 'gemakkelijk'\n",
      " 'verwijderd' 'grenswaarden' 'vervolg' 'verwijdering' 'gevaarlijk']\n",
      "['spoorvervoer' 'vliegverkeer' 'verkeersboetes' 'personenvervoer'\n",
      " 'spoorwegen' 'passagiers' 'vervoer' 'streekvervoer' 'spoorlijn'\n",
      " 'snelwegen' 'transport' 'spoorlijnen' 'wegverkeer' 'transportsector'\n",
      " 'chauffeurs' 'vliegveiligheid' 'mond' 'goederenvervoer' 'snelweg'\n",
      " 'treinen' 'verkeers' 'rijbewijs' 'trein' 'diertransporten' 'vliegroutes'\n",
      " 'verkeer' 'vliegtuig' 'vrachtwagens' 'vliegbelasting' 'taxi' 'bus'\n",
      " 'vliegtuigen' 'vlak' 'imams' 'vliegbewegingen' 'weet' 'transporten'\n",
      " 'vliegveld' 'luchthaven' 'imago' 'expliciete' 'piloten' 'reiziger'\n",
      " 'daarover' 'afvalbeheerplan' 'luchtvervuiling' 'luchtvaartnota' 'co'\n",
      " 'vliegvelden' 'contractvervoer']\n",
      "['amnesty' 'referendum' 'illegalen' 'overtreders' 'moratorium'\n",
      " 'overgebleven' 'armoedebeleid' 'vluchtelingen' 'subsidies' 'overtreden'\n",
      " 'overtreding' 'onverminderd' 'overtredingen' 'migranten' 'weren'\n",
      " 'vluchteling' 'obstakels' 'afgeschaft' 'thans' 'rulings' 'uitsluiting'\n",
      " 'subsidieren' 'over' 'reduceren' 'overschrijden' 'subsidie' 'excessen'\n",
      " 'onwenselijk' 'hinder' 'brexit' 'preventiebeleid' 'to' 'illegaliteit'\n",
      " 'preventief' 'overschrijding' 'extremisme' 'beperking' 'overlast'\n",
      " 'illegale' 'overtuiging' 'voorkomen' 'promoten' 'demonstranten'\n",
      " 'inpassing' 'sanctie' 'verhinderen' 'onrechte' 'preventie' 'immigranten'\n",
      " 'staatsschuld']\n",
      "['energiekosten' 'energiebeleid' 'energieprijzen' 'energieverbruik'\n",
      " 'energiecrisis' 'energierekening' 'energieakkoord' 'energielabels'\n",
      " 'energielabel' 'energiesector' 'energiebronnen' 'broeikasgassen'\n",
      " 'kernenergie' 'energiesysteem' 'benzine' 'energy' 'windenergie'\n",
      " 'gasprijzen' 'energiebe' 'energie' 'energiearmoede' 'gaswinning'\n",
      " 'kolencentrales' 'gas' 'kolencentrale' 'elektriciteits' 'gasveld'\n",
      " 'elektriciteit' 'kerncentrales' 'energielasten' 'carbon' 'kerncentrale'\n",
      " 'milieubeheer' 'brandstof' 'geothermie' 'klimaatakkoord' 'klimaatbeleid'\n",
      " 'ecologische' 'brandstoffen' 'biobrandstoffen' 'ecologisch' 'elektrisch'\n",
      " 'elektrische' 'milieuraad' 'opwarming' 'afvalbeheerplan'\n",
      " 'luchtvervuiling' 'nucleaire' 'milieueffecten' 'biobrandstof']\n",
      "['jeugdzorg' 'jeugdhulp' 'jeugd' 'jongvolwassenen' 'jongeren' 'jeugdwet'\n",
      " 'minderjarigen' 'jeugdigen' 'jeugdige' 'minderjarige' 'kinderen' 'jonge'\n",
      " 'jongere' 'jonger' 'kinderbijslag' 'kinderopvang' 'kleine' 'ouders'\n",
      " 'generaties' 'generatie' 'non' 'voorschoolse' 'dende' 'ja' 'natuurlijk'\n",
      " 'imams' 'vijftien' 'zeker' 'basisonderwijs' 'inderdaad' 'nu'\n",
      " 'basisschool' 'kinderarbeid' 'imago' 'opties' 'pas' 'openstellen' 'nr'\n",
      " 'je' 'onderwijstijd' 'zo' 'schooljaar' 'leeftijdsgrens' 'kleinere' 'wel'\n",
      " 'toch' 'scholieren' 'nibud' 'niet' 'novi']\n"
     ]
    }
   ],
   "source": [
    "topic_words, word_scores, topic_nums = model.get_topics(reduced=True)\n",
    "for t in topic_words:\n",
    "    print(t)"
   ]
  },
  {
   "cell_type": "code",
   "execution_count": 65,
   "metadata": {},
   "outputs": [
    {
     "data": {
      "text/plain": [
       "'imams\",\"mond\",\"non\",\"imago\",\"toch\",\"afvalbeheerplan\",\"makkelijk\",\"gestuurd\",\"onmogelijk\",\"hbo\",\"nu\",\"pas\",\"rijksbegroting\",\"begrotingssteun\",\"gemakkelijk\",\"co\",\"eenvoudig\",\"dende\",\"natuurlijk\",\"vervolg\",\"uitzetten\",\"zeker\",\"opriep\",\"begrotingsbehan\",\"energiekosten\",\"budgettaire\",\"migranten\",\"vluchtelingen\",\"vluchteling\",\"basisonderwijs\",\"illegalen\",\"milieubeheer\",\"immigranten\",\"macrobudget\",\"politieacademie\",\"onderwijstijd\",\"basisschool\",\"ecologische\",\"preventiebeleid\",\"zorgkosten\",\"illegale\",\"illegaliteit\",\"ecologisch\",\"arbeidsmigratie\",\"schooljaar\",\"scholieren\",\"fiscale\",\"milieuraad\",\"gefinancierde\",\"klimaatbeleid\",\"klimaatakkoord\",\"financieel\",\"milieueffecten\",\"belastinggeld\",\"biobrandstoffen\",\"gefinancierd\",\"duizenden\",\"financiele\",\"financierings\",\"biobrandstof\",\"luchtvervuiling\",\"tienduizenden\",\"veilig\",\"kleine\",\"mondkapje\",\"ongekend\",\"whw\",\"ja\",\"nertsen\",\"zo\",\"inderdaad\",\"gevaarlijk\",\"budget\",\"begrotingen\",\"budgetten\",\"begroting\",\"onderwijsaanbod\",\"onderwijsgeld\",\"amnesty\",\"budgettair\",\"onderwijsveld\",\"energiebeleid\",\"energieprijzen\",\"basisscholen\",\"schoolbesturen\",\"scholen\",\"referendum\",\"onderwijs\",\"jeugdzorg\",\"energieverbruik\",\"onderwijsraad\",\"energiecrisis\",\"energierekening\",\"budgethouders\",\"energieakkoord\",\"energielabels\",\"energielabel\",\"educatie\",\"jeugdhulp\",\"pedagogische\",\"overtreders\",\"schoolpleinen\",\"moratorium\",\"energiesector\",\"overgebleven\",\"uitgaven\",\"pedagogisch\",\"school\",\"armoedebeleid\",\"ziekenhuizen\",\"kostenbesparing\",\"subsidies\",\"overtreden\",\"overtreding\",\"onverminderd\",\"overtredingen\",\"hogeschool\",\"schoolleiders\",\"weren\",\"schooladvies\",\"obstakels\",\"afgeschaft\",\"verpleeghuizen\",\"energiebronnen\",\"thans\",\"rulings\",\"uitsluiting\",\"subsidieren\",\"over\",\"ziekenhuiszorg\",\"reduceren\",\"leerwerkplekken\",\"spoorvervoer\",\"overschrijden\",\"gezondheidszorg\",\"subsidie\",\"excessen\",\"onwenselijk\",\"hinder\",\"brexit\",\"broeikasgassen\",\"medische\",\"kernenergie\",\"to\",\"preventief\",\"overschrijding\",\"extremisme\",\"beperking\",\"energiesysteem\",\"overlast\",\"jeugd\",\"verpleeghuis\",\"minimumloon\",\"overtuiging\",\"voorkomen\",\"bestedingen\",\"promoten\",\"pensioenstelsel\",\"benzine\",\"demonstranten\",\"inpassing\",\"sanctie\",\"verhinderen\",\"jongvolwassenen\",\"onrechte\",\"preventie\",\"staatsschuld\",\"pensioenopbouw\",\"collegegeld\",\"energy\",\"colleges\",\"afgestudeerden\",\"flexstuderen\",\"kostendekkende\",\"windenergie\",\"opleiding\",\"jongeren\",\"medisch\",\"jeugdwet\",\"opleidingen\",\"gasprijzen\",\"ziekenhuis\",\"energiebe\",\"minderjarigen\",\"jeugdigen\",\"energie\",\"curriculum\",\"kliniek\",\"vliegverkeer\",\"klinieken\",\"natuurbeheer\",\"landbouwbeleid\",\"opleidings\",\"jeugdige\",\"lerarenregister\",\"docenten\",\"verkeersboetes\",\"energiearmoede\",\"gaswinning\",\"kolencentrales\",\"personenvervoer\",\"universiteiten\",\"miljoen\",\"zorgverzekeraar\",\"immigratie\",\"miljard\",\"verpleeg\",\"gemeentelijk\",\"landbouwakkoord\",\"universiteit\",\"miljoenennota\",\"miljarden\",\"minderjarige\",\"gas\",\"kostendekkend\",\"universitair\",\"landbouwsector\",\"leerkrachten\",\"zorgpersoneel\",\"buitengrenzen\",\"miljoenen\",\"zorguitgaven\",\"ecosysteem\",\"natuurbeleid\",\"pensioenakkoord\",\"leerlingen\",\"werklozen\",\"rekenonderwijs\",\"klinische\",\"spoorwegen\",\"mln\",\"college\",\"leraren\",\"kolencentrale\",\"kinderen\",\"migratiebeleid\",\"studenten\",\"jonge\",\"ecosystemen\",\"leraar\",\"universitaire\",\"passagiers\",\"werkloos\",\"elektriciteits\",\"jongere\",\"klassen\",\"zorgautoriteit\",\"geneeskunde\",\"gezondheidsraad\",\"gasveld\",\"zorgverzekering\",\"jonger\",\"huisartsenzorg\",\"landbouw\",\"kosteneffectief\",\"gepensioneerden\",\"vervoer\",\"landbouwgronden\",\"elektriciteit\",\"biodiversiteit\",\"kinderbijslag\",\"artsen\",\"streekvervoer\",\"scholing\",\"studiejaar\",\"kerncentrales\",\"paspoorten\",\"pensioenfondsen\",\"dierenwelzijn\",\"opgeleide\",\"volksgezondheid\",\"spoorlijn\",\"studieschuld\",\"pensioenfonds\",\"leerplicht\",\"werkgelegenheid\",\"paspoort\",\"landbouwgrond\",\"gemeentelijke\",\"natuurgebieden\",\"politiebureaus\",\"huizenprijzen\",\"ambulance\",\"meerkosten\",\"werkloze\",\"geimporteerd\",\"coronapatienten\",\"pensioenen\",\"wapenexport\",\"ambulancezorg\",\"natuurgebied\",\"snelwegen\",\"goedkope\",\"arbeidsmarkt\",\"transport\",\"energielasten\",\"carbon\",\"gemeentefonds\",\"spoorlijnen\",\"kinderopvang\",\"polis\",\"arbeidskrachten\",\"kerncentrale\",\"regionaal\",\"verstedelijking\",\"politieagenten\",\"regionale\",\"arbeidscontract\",\"frictiekosten\",\"wegverkeer\",\"bekostiging\",\"biomassa\",\"herstelfonds\",\"brandstof\",\"visserijbeleid\",\"geothermie\",\"dierenleed\",\"migratiepact\",\"bekostigen\",\"goedkoop\",\"transportsector\",\"dieren\",\"goedkoper\",\"gemeentes\",\"milieuwinst\",\"politie\",\"kosten\",\"buitenlands\",\"chauffeurs\",\"arbeidsplaatsen\",\"brandstoffen\",\"financien\",\"politiemensen\",\"werkgeverschap\",\"buitenland\",\"financie\",\"bouwplannen\",\"vliegveiligheid\",\"zorgstelsel\",\"buitenlandse\",\"duurder\",\"gemeente\",\"goederenvervoer\",\"internationaal\",\"gemeentewet\",\"financiering\",\"vaccinatiegraad\",\"international\",\"arbeidsrechten\",\"snelweg\",\"bovenregionaal\",\"treinen\",\"milieuschade\",\"verkeers\",\"bekostigd\",\"gemeenteraad\",\"farmaceutische\",\"medicijnresten\",\"rijbewijs\",\"trein\",\"strafrechtketen\",\"biologisch\",\"elektrisch\",\"diertransporten\",\"export\",\"exporteren\",\"vliegroutes\",\"verkeer\",\"provincies\",\"huisartsen\",\"huurverhogingen\",\"vliegtuig\",\"visserijsector\",\"vrachtwagens\",\"vliegbelasting\",\"elektrische\",\"dr\",\"werknemers\",\"omgevingsrecht\",\"werkgevers\",\"provinciale\",\"geexporteerd\",\"fauna\",\"taxi\",\"migratie\",\"gemeenten\",\"bouwbesluit\",\"stedelijk\",\"internationale\",\"opwarming\",\"cofinanciering\",\"medicijn\",\"pensioen\",\"bus\",\"vliegtuigen\",\"medicatie\",\"cybersecurity\",\"boeren\",\"gemeenteraden\",\"natuurwaarden\",\"omgevingswet\",\"biologische\",\"gezondheid\",\"grensbewaking\",\"illegaal\",\"multinationale\",\"vlak\",\"natuurlijke\",\"gemeenschappen\",\"bestraffen\",\"waterbeheer\",\"gezondheids\",\"werkgever\",\"multinationals\",\"nucleaire\",\"natuurherstel\",\"vliegbewegingen\",\"belastingdienst\",\"tuinbouw\",\"weet\",\"vervuiling\",\"transporten\",\"huisarts\",\"stedelijke\",\"provinciaal\",\"vliegveld\",\"fiscaal\",\"jaarverslag\",\"inkomensgroepen\",\"middeninkomens\",\"lokale\",\"ambassades\",\"medicinale\",\"werknemer\",\"luchthaven\",\"natuur\",\"kredietcrisis\",\"belastingen\",\"expliciete\",\"zorgverzeke\",\"sanctiebeleid\",\"piloten\",\"banenafspraak\",\"import\",\"straks\",\"reiziger\",\"salarissen\",\"daarover\",\"luchtvaartnota\",\"werkers\",\"ouders\",\"belastingdruk\",\"verwijderen\",\"zorgmedewerkers\",\"vliegvelden\",\"generaties\",\"contractvervoer\",\"inkomensgrens\",\"oude\",\"plaatselijke\",\"brzo\",\"veiligheid\",\"werkt\",\"werkgroep\",\"ouderen\",\"ver\",\"zones\",\"kenniseconomie\",\"ambassade\",\"vaccineren\",\"vaccins\",\"regio\",\"zone\",\"strafrechtelijk\",\"islamisering\",\"vaccinatie\",\"zorg\",\"health\",\"fiscaliteit\",\"meteen\",\"provinciefonds\",\"vaccinaties\",\"eenvoudiger\",\"laat\",\"woningbouw\",\"quick\",\"vaccin\",\"zorgsector\",\"gezonde\",\"geleden\",\"salaris\",\"economisch\",\"snel\",\"werkgele\",\"snelle\",\"veiligheids\",\"generatie\",\"arbeidsvoor\",\"grensregio\",\"huurverhoging\",\"gezond\",\"externe\",\"goed\",\"werkzoekenden\",\"bouwprojecten\",\"infrastructuur\",\"cop\",\"klaar\",\"tax\",\"brandveiligheid\",\"economische\",\"voorschoolse\",\"openlijk\",\"eenvoudige\",\"inmiddels\",\"spoedig\",\"comite\",\"ziet\",\"onveilig\",\"teneinde\",\"sectorplannen\",\"drukke\",\"makkelijker\",\"krimpgebieden\",\"criminaliteit\",\"tenzij\",\"diplomatieke\",\"zodra\",\"gebieden\",\"geen\",\"geacht\",\"teniet\",\"stad\",\"dorp\",\"btw\",\"apk\",\"kijken\",\"gemakkelijker\",\"financiers\",\"mooie\",\"verdwijnt\",\"schone\",\"speelveld\",\"vijftien\",\"zitten\",\"externen\",\"dak\",\"nationaliteit\",\"veilige\",\"burgemeesters\",\"vindt\",\"multilateraal\",\"provincie\",\"multilaterale\",\"veiligheidsraad\",\"extern\",\"legaliseren\",\"tweemaal\",\"onveiligheid\",\"groningenveld\",\"verwijderd\",\"wederopbouw\",\"gevangenisstraf\",\"burgemeester\",\"waarschuwen\",\"installatie\",\"kinderarbeid\",\"grenswaarden\",\"bouwen\",\"beschermde\",\"verwijdering\",\"opties\",\"openstellen\",\"nr\",\"je\",\"leeftijdsgrens\",\"kleinere\",\"wel\",\"nibud\",\"niet\",\"novi'"
      ]
     },
     "execution_count": 65,
     "metadata": {},
     "output_type": "execute_result"
    }
   ],
   "source": [
    "topic_words, word_scores, topic_nums = model.get_topics(reduced=True)\n",
    "# for t in topic_words:\n",
    "#     print(t)\n",
    "\n",
    "# get some more stopwords to filter out\n",
    "from collections import defaultdict\n",
    "sums = defaultdict(int)\n",
    "\n",
    "for t, s in zip(topic_words, word_scores):\n",
    "    for word, score in zip(t,s):\n",
    "        sums[word] += score + 1\n",
    "    \n",
    "scores = [(-score, word)  for word, score in sums.items()]\n",
    "scores.sort()\n",
    "'\",\"'.join(s for w,s in scores if '_' not in s)"
   ]
  },
  {
   "cell_type": "code",
   "execution_count": 45,
   "metadata": {},
   "outputs": [],
   "source": [
    "topic_words, word_scores, topic_scores, topic_nums = model.search_topics(keywords= ['politie'] , num_topics=4, reduced=True)\n"
   ]
  },
  {
   "cell_type": "code",
   "execution_count": null,
   "metadata": {},
   "outputs": [],
   "source": []
  },
  {
   "cell_type": "code",
   "execution_count": null,
   "metadata": {},
   "outputs": [],
   "source": []
  },
  {
   "cell_type": "code",
   "execution_count": 26,
   "metadata": {},
   "outputs": [],
   "source": [
    "topics = {\n",
    "  0: 'Onderwijs',  \n",
    "  1: 'Buitenlandse zaken',  \n",
    "  2: 'Algemene zaken',  \n",
    "  3: 'Natuur & gaswinning',  \n",
    "  4: 'Landbouw & dierenwelzijn',  \n",
    "  5: 'Zorg',  \n",
    "  6: 'Sociale zaken',  \n",
    "  7: 'Justitie',  \n",
    "  8: 'Pensioenstelsel',  \n",
    "  9: 'Europese Unie',  \n",
    "  10: 'Klimaat & energie',  \n",
    "  11: 'Milieu & regelgeving',  \n",
    "  12: 'Zorg',  \n",
    "  13: 'Openbaar vervoer',  \n",
    "  14: 'Financiele sector',  \n",
    "  15: 'Wonen'\n",
    "  }\n",
    "topic_words, word_scores, topic_nums = model.get_topics()\n",
    "topics = {i:' ,'.join(topic_words[i][:3]) for i in range(len(topic_words))}\n",
    "doc_ids = list(range(len(documents)))\n",
    "topic_nums, topic_score, topic_words, word_scores = model.get_documents_topics(doc_ids,reduced=True)\n",
    "topic_names = [topics[t] for t in topic_nums]\n",
    "assert len(topic_nums) == len(df)\n",
    "df['Topic'] = topic_names\n",
    "topic_nums, topic_score, topic_words, word_scores = model.get_documents_topics(doc_ids,reduced=False)\n",
    "df['Topic_initial'] = topic_nums\n",
    "df['Topic_score'] = topic_score\n",
    "# df.sort_values(['Topic_initial', 'Topic_score'], ascending=False, inplace=True)\n"
   ]
  },
  {
   "cell_type": "markdown",
   "metadata": {},
   "source": [
    "## Optional add climate deepdive"
   ]
  },
  {
   "cell_type": "code",
   "execution_count": null,
   "metadata": {},
   "outputs": [],
   "source": []
  },
  {
   "cell_type": "code",
   "execution_count": 27,
   "metadata": {},
   "outputs": [],
   "source": [
    "topic_sizes, topic_nums = model.get_topic_sizes(reduced=False)\n",
    "topic_words, word_scores, topic_nums = model.get_topics(reduced=False)\n",
    "climate_idx = [topic_nums for t in topic_nums if t in reduced_topics[10]]\n",
    "climate_subtopics = {128: 'Afhankelijkheid fossiele brandstoffen',\n",
    " 165: 'CO2 reductie',\n",
    " 5: 'Voldoen aan Parijs',\n",
    " 141: 'Electriciteit',\n",
    " 126: 'Groningen',\n",
    " 205: 'Zonnepanelen',\n",
    " 96: 'Energierekening betalen',\n",
    " 236: 'Biomassa',\n",
    " 105: 'Kolencentrales',\n",
    " 239: 'Windturbines - overlast',\n",
    " 29: 'Windturbines - subsidie'}"
   ]
  },
  {
   "cell_type": "code",
   "execution_count": 28,
   "metadata": {},
   "outputs": [],
   "source": [
    "df['Klimaat'] = df.loc[df['Topic']=='Klimaat & energie', 'Topic_initial'].map(climate_subtopics)"
   ]
  },
  {
   "cell_type": "code",
   "execution_count": 29,
   "metadata": {},
   "outputs": [],
   "source": [
    "save(df, 'df_including_topics_full.pickle')\n",
    "save(model, 'doc2vec_deep_bigram_enhanced_stopwords_rutteIV_reduced')"
   ]
  },
  {
   "cell_type": "markdown",
   "metadata": {},
   "source": [
    "# Prepare slimmed down versions for production"
   ]
  },
  {
   "cell_type": "code",
   "execution_count": 43,
   "metadata": {},
   "outputs": [
    {
     "name": "stdout",
     "output_type": "stream",
     "text": [
      "39244\n",
      "9007\n"
     ]
    }
   ],
   "source": [
    "df = load(\"df_including_topics_full.pickle\")\n",
    "df['BesluitTekst'] = df['BesluitTekst'].str.replace('.','')\n",
    "\n",
    "print(len(df))\n",
    "\n",
    "model = Top2Vec.load(\"data/doc2vec_deep_bigram_enhanced_stopwords_rutteIV_reduced\")\n",
    "doc_ids = list(range(len(df)))\n",
    "# don't sort the df before this operation\n",
    "topic_nums, topic_score, topic_words, word_scores = model.get_documents_topics(doc_ids,reduced=True)\n",
    "topics = [', '.join(topic_words[i][:3]) for i in range(len(topic_words))]\n",
    "\n",
    "df['Topic_initial'] = topics\n",
    "df['Topic_score'] = topic_score\n",
    "df.sort_values(['Topic_initial', 'Topic_score'], ascending=False, inplace=True)\n",
    "# important do this only after all row filters have been set\n",
    "df = df[df['Kamer']=='Rutte IV']\n",
    "df.index = df['Index']\n",
    "print(len(df))\n",
    "stem_column = [c for c in df.columns if 'Stem_' in c and c != 'Stem_persoon']\n",
    "required_cols = ['Kamer', 'Jaar','Indienende_partij', 'BesluitSoort','BesluitTekst','Topic_initial', 'Topic_score','Indienende_persoon_partij','Partijen_Voor', 'Partijen_Tegen', 'Text']\n",
    "\n",
    "# streamlit has problems with category type: \n",
    "# https://github.com/streamlit/streamlit/issues/47\n",
    "for col in stem_column + required_cols[:-4]:\n",
    "    df[col] = df[col].astype('category')\n",
    "\n",
    "df = df[stem_column + required_cols]\n",
    "save(df, \"df_production.pickle\")\n"
   ]
  },
  {
   "cell_type": "code",
   "execution_count": 44,
   "metadata": {},
   "outputs": [],
   "source": [
    "def delete_documents(self, doc_ids):\n",
    "    \"\"\"\n",
    "    Delete documents from current model.\n",
    "    Warning: If document ids were not used in original model, deleting\n",
    "    documents will change the indexes and therefore doc_ids.\n",
    "    The documents will be deleted from the current model without changing\n",
    "    existing document, word and topic vectors. Topic sizes will be updated.\n",
    "    If deleting a large quantity of documents relative to the current model\n",
    "    size a new model should be trained for best results.\n",
    "    Parameters\n",
    "    ----------\n",
    "    doc_ids: List of str, int\n",
    "        A unique value per document that is used for referring to documents\n",
    "        in search results.\n",
    "    \"\"\"\n",
    "    # make sure documents exist\n",
    "    self._validate_doc_ids(doc_ids, doc_ids_neg=[])\n",
    "\n",
    "    # update index\n",
    "    if self.documents_indexed:\n",
    "        # delete doc_ids from index\n",
    "        index_ids = [self.doc_id2index_id(doc_id) for doc_id in doc_ids]\n",
    "        for index_id in index_ids:\n",
    "            self.document_index.mark_deleted(index_id)\n",
    "        # update index_id and doc_ids\n",
    "        for doc_id in doc_ids:\n",
    "            self.doc_id2index_id.pop(doc_id)\n",
    "        for index_id in index_ids:\n",
    "            self.index_id2doc_id.pop(index_id)\n",
    "\n",
    "    # get document indexes from ids\n",
    "    doc_indexes = self._get_document_indexes(doc_ids)\n",
    "\n",
    "    # delete documents\n",
    "    if self.documents is not None:\n",
    "        self.documents = np.delete(self.documents, doc_indexes, 0)\n",
    "\n",
    "    # delete document ids\n",
    "    if self.document_ids is not None:\n",
    "        for doc_id in doc_ids:\n",
    "            self.doc_id2index.pop(doc_id)\n",
    "        keys = list(self.doc_id2index.keys())\n",
    "        self.document_ids = np.array(keys)\n",
    "        values = list(range(0, len(self.doc_id2index.values())))\n",
    "        self.doc_id2index = dict(zip(keys, values))\n",
    "\n",
    "    # delete document vectors\n",
    "    self._set_document_vectors(np.delete(self._get_document_vectors(norm=False), doc_indexes, 0))\n",
    "\n",
    "    if self.embedding_model == 'doc2vec':\n",
    "        num_docs = len(doc_indexes)\n",
    "        self.model.docvecs.count -= num_docs\n",
    "        self.model.docvecs.max_rawint -= num_docs\n",
    "        self.model.docvecs.vectors_docs_norm = None\n",
    "        self.model.docvecs.init_sims()\n",
    "\n",
    "    # update topics\n",
    "    # self._unassign_documents_from_topic(doc_indexes, hierarchy=False)\n",
    "\n",
    "    if self.hierarchy is not None:\n",
    "        self._unassign_documents_from_topic(doc_indexes, hierarchy=True)\n",
    "model = Top2Vec.load(\"data/doc2vec_deep_bigram_enhanced_stopwords_rutteIV_reduced\")\n",
    "\n",
    "# model.delete_documents = delete_documents\n",
    "df = load(\"df_including_topics_full.pickle\")\n"
   ]
  },
  {
   "cell_type": "code",
   "execution_count": 45,
   "metadata": {},
   "outputs": [
    {
     "name": "stdout",
     "output_type": "stream",
     "text": [
      "161 topics. In total there are 39244 documents. These are the amount of documents per topic:\n",
      "[1912 1543 1382 1310  991  932  839  737  686  683  680  568  555  548\n",
      "  522  514  489  475  463  451  451  442  429  420  413  408  401  397\n",
      "  393  390  383  377  373  361  356  355  333  326  315  298  296  286\n",
      "  283  282  279  277  267  264  260  248  243  243  237  235  228  225\n",
      "  225  224  221  216  211  210  208  203  201  199  194  191  188  187\n",
      "  183  181  181  177  177  176  174  171  166  162  161  150  148  142\n",
      "  139  135  132  130  129  128  125  125  122  120  119  118  117  116\n",
      "  111  110  109  107  106  100   98   98   93   92   91   91   90   90\n",
      "   90   88   87   81   81   80   80   77   75   75   74   72   71   70\n",
      "   69   69   68   68   67   66   65   64   63   61   60   59   55   55\n",
      "   54   53   53   51   49   47   46   43   43   40   40   38   36   36\n",
      "   35   33   31   29   28   26   21]\n",
      "0 ['wet langdurig_toezicht' 'onderhavige_wetsvoorstel'\n",
      " 'voorliggende_wetsvoorstel'] 1912\n",
      "1 ['begrotingsbehan_deling' 'ocw_begroting' 'begrotingsbe_handeling'] 1543\n",
      "2 ['nederland_verblijvende' 'nederlandse publieke_omroep'\n",
      " 'nederlandse_bedrijfsleven'] 1382\n",
      "3 ['agrarisch_natuurbeheer' 'landbouw_natuur' 'wet_milieubeheer'] 1310\n",
      "4 ['woningen_gebouwd kunnen' 'structuurvisie_randstad'\n",
      " 'waarborgfonds_sociale woningbouw'] 991\n",
      "5 ['europees verbod_op' 'europese_commissie heeft_voorgesteld'\n",
      " 'aankomende europese_top'] 932\n",
      "6 ['medisch_noodzakelijke zorg' 'medische_indicatie' 'medische_gegevens'] 839\n",
      "7 ['voorschoolse_educatie' 'bekostigde onderwijs' 'middelbare_scholen'] 737\n",
      "8 ['werkloosheid_onder plussers' 'werkloosheid_onder'\n",
      " 'tekort_aan arbeidskrachten'] 686\n",
      "9 ['programma_hoogfrequent spoorvervoer' 'verkeersvei_ligheid'\n",
      " 'nederlandse_spoorwegen'] 683\n",
      "10 ['aanvraag hebben_ingediend' 'eisen worden_gesteld' 'on demand'] 680\n",
      "11 ['energievoor_ziening' 'energy_charter treaty' 'opslag_duurzame energie'] 568\n",
      "12 ['regeling_langdurig verblijvende_kinderen'\n",
      " 'langdurig_verblijvende kinderen' 'kleine_groep jongeren'] 555\n",
      "13 ['immigranten_uit islamitische_landen' 'illegale migranten'\n",
      " 'illegale_migratie'] 548\n",
      "39244\n"
     ]
    }
   ],
   "source": [
    "topic_sizes, topic_nums = model.get_topic_sizes()\n",
    "print(f'{len(topic_nums)} topics. In total there are {sum(topic_sizes)} documents. These are the amount of documents per topic:\\n{topic_sizes}')\n",
    "\n",
    "topic_words, word_scores, topic_nums = model.get_topics(reduced=True)\n",
    "    \n",
    "for num, size, word in zip(topic_nums, topic_sizes, topic_words):\n",
    "    print(num, word[:3], size)\n",
    "print(sum(topic_sizes))"
   ]
  },
  {
   "cell_type": "code",
   "execution_count": 46,
   "metadata": {},
   "outputs": [],
   "source": [
    "model.delete_documents(list(range(len(df))))\n",
    "model.delete_documents = 1\n",
    "model.save(\"data/doc2vec_production\")"
   ]
  },
  {
   "cell_type": "markdown",
   "metadata": {},
   "source": [
    "## Check app"
   ]
  },
  {
   "cell_type": "code",
   "execution_count": 54,
   "metadata": {},
   "outputs": [
    {
     "data": {
      "text/plain": [
       "array([44, 23, 13, 15], dtype=int64)"
      ]
     },
     "execution_count": 54,
     "metadata": {},
     "output_type": "execute_result"
    }
   ],
   "source": [
    "df = load(\"df_production.pickle\")\n",
    "model = Top2Vec.load(\"data/doc2vec_production\")\n",
    "topic_words, word_scores, topic_scores, topic_nums = model.search_topics(keywords= ['politie'] , num_topics=4, reduced=True)\n",
    "topic_nums"
   ]
  },
  {
   "cell_type": "code",
   "execution_count": 55,
   "metadata": {},
   "outputs": [
    {
     "name": "stdout",
     "output_type": "stream",
     "text": [
      "47 topics. In total there are 0 documents. These are the amount of documents per topic:\n",
      "[0 0 0 0 0 0 0 0 0 0 0 0 0 0 0 0 0 0 0 0 0 0 0 0 0 0 0 0 0 0 0 0 0 0 0 0 0\n",
      " 0 0 0 0 0 0 0 0 0 0]\n"
     ]
    }
   ],
   "source": [
    "topic_sizes, topic_nums = model.get_topic_sizes()\n",
    "print(f'{len(topic_nums)} topics. In total there are {sum(topic_sizes)} documents. These are the amount of documents per topic:\\n{topic_sizes}')"
   ]
  },
  {
   "cell_type": "code",
   "execution_count": 315,
   "metadata": {},
   "outputs": [
    {
     "data": {
      "text/plain": [
       "array([44, 23, 13, 15], dtype=int64)"
      ]
     },
     "execution_count": 315,
     "metadata": {},
     "output_type": "execute_result"
    }
   ],
   "source": [
    "topic_words, word_scores, topic_scores, topic_nums = model.search_topics(keywords= ['politie'] , num_topics=4, reduced=True)\n",
    "topic_nums"
   ]
  },
  {
   "cell_type": "code",
   "execution_count": 122,
   "metadata": {},
   "outputs": [],
   "source": [
    "topic_words, word_scores, topic_nums = model.get_topics(num_topics=47)\n"
   ]
  },
  {
   "cell_type": "code",
   "execution_count": 125,
   "metadata": {},
   "outputs": [
    {
     "data": {
      "text/plain": [
       "array(['politieagenten', 'politietop', 'politiemensen', 'politiewet',\n",
       "       'politieacademie', 'polisaanbod', 'politie', 'polissen', 'cop',\n",
       "       'zedenpolitie', 'overheidsbeleid', 'regeringsbeleid',\n",
       "       'kabinetsbeleid', 'georganiseerde_criminaliteit',\n",
       "       'openbaar_ministerie', 'asielbeleid', 'nationale_veiligheid',\n",
       "       'bureaucratische', 'autoriteiten', 'landenbeleid', 'beleidskader',\n",
       "       'rijksbeleid', 'bureaucratie', 'beleidsopties',\n",
       "       'ministeriele_regeling', 'politici', 'loonbeleid', 'beleidsinzet',\n",
       "       'administratieve_lasten', 'sanctiebeleid', 'decentrale_overheden',\n",
       "       'politieke_partijen', 'politiek', 'politieke', 'beleids',\n",
       "       'agenten', 'beleid', 'beleidskeuze', 'industriebeleid',\n",
       "       'beleidskeuzes', 'preventiebeleid', 'beleidsnota', 'agentschap',\n",
       "       'beleidsregels', 'bestuursorganen', 'beleidsmatige',\n",
       "       'beleidsvrijheid', 'openbare_orde', 'nederlandse_zorgautoriteit',\n",
       "       'beleidslijn'], dtype='<U28')"
      ]
     },
     "execution_count": 125,
     "metadata": {},
     "output_type": "execute_result"
    }
   ],
   "source": [
    "topic_words[45]"
   ]
  },
  {
   "cell_type": "code",
   "execution_count": 141,
   "metadata": {},
   "outputs": [
    {
     "data": {
      "text/plain": [
       "6017"
      ]
     },
     "execution_count": 141,
     "metadata": {},
     "output_type": "execute_result"
    }
   ],
   "source": [
    "df = load(\"df_production.pickle\")\n",
    "len(df)"
   ]
  },
  {
   "cell_type": "code",
   "execution_count": 144,
   "metadata": {},
   "outputs": [
    {
     "data": {
      "text/plain": [
       "'2\\nTweede Kamer der Staten-Generaal\\nVergaderjaar 2021–2022\\n32 813 Kabinetsaanpak Klimaatbeleid\\nNr. 1013 MOTIE VAN DE LEDEN BONTENBAL EN GRINWIS\\nVoorgesteld 19 april 2022\\nDe Kamer,\\ngehoord de beraadslaging,\\noverwegende dat de verduurzaming van de gebouwde omgeving de\\nkomende jaren vooral gefocust moet zijn op het verduurzamen van de\\nwarmtevoorziening in de gebouwde omgeving, resulterend in een\\nreductie van het aardgasverbruik;\\nverzoekt de regering om in het beleid voor de verduurzaming van de\\ngebouwde omgeving ook een subdoelstelling voor aardgasreductie op te\\nnemen,\\nen gaat over tot de orde van de dag.\\nBontenbal\\nGrinwis\\nkst-32813-1013ISSN\\n0921 - 7371\\n’s-Gravenhage 2022 Tweede Kamer, vergaderjaar 2021–2022, 32 813, nr. 1013'"
      ]
     },
     "execution_count": 144,
     "metadata": {},
     "output_type": "execute_result"
    }
   ],
   "source": [
    "df[(df['Topic_initial']=='verduurzamen') & (df['Kamer']=='Rutte IV')]['Text'].iloc[0]"
   ]
  },
  {
   "cell_type": "code",
   "execution_count": null,
   "metadata": {},
   "outputs": [
    {
     "name": "stdout",
     "output_type": "stream",
     "text": [
      "6017\n"
     ]
    },
    {
     "data": {
      "text/plain": [
       "Aangenomen    3296\n",
       "Verworpen     2721\n",
       "Name: BesluitTekst, dtype: int64"
      ]
     },
     "execution_count": 17,
     "metadata": {},
     "output_type": "execute_result"
    }
   ],
   "source": [
    "df = load(\"df_including_topics_full.pickle\")\n",
    "print(len(df))\n",
    "df['BesluitTekst'].value_counts()"
   ]
  },
  {
   "cell_type": "markdown",
   "metadata": {},
   "source": []
  }
 ],
 "metadata": {
  "kernelspec": {
   "display_name": "Python 3.7.3 64-bit (conda)",
   "metadata": {
    "interpreter": {
     "hash": "ecf5722fdaf1897a315d257d89d94520bfcaa453217d5becf09b39e73618b0de"
    }
   },
   "name": "python3"
  },
  "language_info": {
   "codemirror_mode": {
    "name": "ipython",
    "version": 3
   },
   "file_extension": ".py",
   "mimetype": "text/x-python",
   "name": "python",
   "nbconvert_exporter": "python",
   "pygments_lexer": "ipython3",
   "version": "3.11.0"
  }
 },
 "nbformat": 4,
 "nbformat_minor": 4
}
